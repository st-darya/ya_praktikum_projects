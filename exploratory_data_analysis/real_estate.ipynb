{
 "cells": [
  {
   "cell_type": "markdown",
   "metadata": {
    "toc": true
   },
   "source": [
    "<h1>Содержание<span class=\"tocSkip\"></span></h1>\n",
    "<div class=\"toc\"><ul class=\"toc-item\"><li><span><a href=\"#Изучение-данных-из-файла\" data-toc-modified-id=\"Изучение-данных-из-файла-1\"><span class=\"toc-item-num\">1&nbsp;&nbsp;</span>Изучение данных из файла</a></span></li><li><span><a href=\"#Предобработка-данных\" data-toc-modified-id=\"Предобработка-данных-2\"><span class=\"toc-item-num\">2&nbsp;&nbsp;</span>Предобработка данных</a></span><ul class=\"toc-item\"><li><span><a href=\"#Обработка-пропусков\" data-toc-modified-id=\"Обработка-пропусков-2.1\"><span class=\"toc-item-num\">2.1&nbsp;&nbsp;</span>Обработка пропусков</a></span></li><li><span><a href=\"#Замена-типов-данных\" data-toc-modified-id=\"Замена-типов-данных-2.2\"><span class=\"toc-item-num\">2.2&nbsp;&nbsp;</span>Замена типов данных</a></span></li></ul></li><li><span><a href=\"#Расчёты-и-добавление-результатов-в-таблицу\" data-toc-modified-id=\"Расчёты-и-добавление-результатов-в-таблицу-3\"><span class=\"toc-item-num\">3&nbsp;&nbsp;</span>Расчёты и добавление результатов в таблицу</a></span></li><li><span><a href=\"#Исследовательский-анализ-данных\" data-toc-modified-id=\"Исследовательский-анализ-данных-4\"><span class=\"toc-item-num\">4&nbsp;&nbsp;</span>Исследовательский анализ данных</a></span><ul class=\"toc-item\"><li><span><a href=\"#Исследование-площади,-цены,-числа-комнат,-высоты-потолков\" data-toc-modified-id=\"Исследование-площади,-цены,-числа-комнат,-высоты-потолков-4.1\"><span class=\"toc-item-num\">4.1&nbsp;&nbsp;</span>Исследование площади, цены, числа комнат, высоты потолков</a></span></li><li><span><a href=\"#Изучение-время-продажи-квартиры\" data-toc-modified-id=\"Изучение-время-продажи-квартиры-4.2\"><span class=\"toc-item-num\">4.2&nbsp;&nbsp;</span>Изучение время продажи квартиры</a></span></li><li><span><a href=\"#Редкие-или-выбивающиеся-значения\" data-toc-modified-id=\"Редкие-или-выбивающиеся-значения-4.3\"><span class=\"toc-item-num\">4.3&nbsp;&nbsp;</span>Редкие или выбивающиеся значения</a></span></li><li><span><a href=\"#Исследование-факторов,-влияющих-на-стоимость-квартиры\" data-toc-modified-id=\"Исследование-факторов,-влияющих-на-стоимость-квартиры-4.4\"><span class=\"toc-item-num\">4.4&nbsp;&nbsp;</span>Исследование факторов, влияющих на стоимость квартиры</a></span></li><li><span><a href=\"#Анализ-десяти-населенных-пунктов-с-наибольшим-числом-объявлений\" data-toc-modified-id=\"Анализ-десяти-населенных-пунктов-с-наибольшим-числом-объявлений-4.5\"><span class=\"toc-item-num\">4.5&nbsp;&nbsp;</span>Анализ десяти населенных пунктов с наибольшим числом объявлений</a></span></li><li><span><a href=\"#Анализ-изменения-цены-по-степени-удаленности-от-центра\" data-toc-modified-id=\"Анализ-изменения-цены-по-степени-удаленности-от-центра-4.6\"><span class=\"toc-item-num\">4.6&nbsp;&nbsp;</span>Анализ изменения цены по степени удаленности от центра</a></span></li><li><span><a href=\"#Анализ-квартир-в-центре\" data-toc-modified-id=\"Анализ-квартир-в-центре-4.7\"><span class=\"toc-item-num\">4.7&nbsp;&nbsp;</span>Анализ квартир в центре</a></span></li></ul></li><li><span><a href=\"#Общий-вывод\" data-toc-modified-id=\"Общий-вывод-5\"><span class=\"toc-item-num\">5&nbsp;&nbsp;</span>Общий вывод</a></span></li></ul></div>"
   ]
  },
  {
   "cell_type": "markdown",
   "metadata": {},
   "source": [
    "# Исследование объявлений о продаже квартир\n",
    "\n",
    "В вашем распоряжении данные сервиса Яндекс.Недвижимость — архив объявлений о продаже квартир в Санкт-Петербурге и соседних населённых пунктах за несколько лет. Нужно научиться определять рыночную стоимость объектов недвижимости. Ваша задача — установить параметры. Это позволит построить автоматизированную систему: она отследит аномалии и мошенническую деятельность. \n",
    "\n",
    "По каждой квартире на продажу доступны два вида данных. Первые вписаны пользователем, вторые получены автоматически на основе картографических данных. Например, расстояние до центра, аэропорта, ближайшего парка и водоёма. "
   ]
  },
  {
   "cell_type": "markdown",
   "metadata": {},
   "source": [
    "## Изучение данных из файла"
   ]
  },
  {
   "cell_type": "code",
   "execution_count": 1,
   "metadata": {},
   "outputs": [],
   "source": [
    "import pandas as pd\n",
    "import matplotlib.pyplot as plt\n",
    "\n",
    "\n",
    "server_path = '/datasets/real_estate_data.csv'\n",
    "filename = 'real_estate_data.csv'\n",
    "\n",
    "try:\n",
    "    data = pd.read_csv(filename, sep='\\t') \n",
    "except: \n",
    "    data = pd.read_csv(server_path, sep='\\t') "
   ]
  },
  {
   "cell_type": "code",
   "execution_count": 2,
   "metadata": {},
   "outputs": [
    {
     "name": "stdout",
     "output_type": "stream",
     "text": [
      "<class 'pandas.core.frame.DataFrame'>\n",
      "RangeIndex: 23699 entries, 0 to 23698\n",
      "Data columns (total 22 columns):\n",
      " #   Column                Non-Null Count  Dtype  \n",
      "---  ------                --------------  -----  \n",
      " 0   total_images          23699 non-null  int64  \n",
      " 1   last_price            23699 non-null  float64\n",
      " 2   total_area            23699 non-null  float64\n",
      " 3   first_day_exposition  23699 non-null  object \n",
      " 4   rooms                 23699 non-null  int64  \n",
      " 5   ceiling_height        14504 non-null  float64\n",
      " 6   floors_total          23613 non-null  float64\n",
      " 7   living_area           21796 non-null  float64\n",
      " 8   floor                 23699 non-null  int64  \n",
      " 9   is_apartment          2775 non-null   object \n",
      " 10  studio                23699 non-null  bool   \n",
      " 11  open_plan             23699 non-null  bool   \n",
      " 12  kitchen_area          21421 non-null  float64\n",
      " 13  balcony               12180 non-null  float64\n",
      " 14  locality_name         23650 non-null  object \n",
      " 15  airports_nearest      18157 non-null  float64\n",
      " 16  cityCenters_nearest   18180 non-null  float64\n",
      " 17  parks_around3000      18181 non-null  float64\n",
      " 18  parks_nearest         8079 non-null   float64\n",
      " 19  ponds_around3000      18181 non-null  float64\n",
      " 20  ponds_nearest         9110 non-null   float64\n",
      " 21  days_exposition       20518 non-null  float64\n",
      "dtypes: bool(2), float64(14), int64(3), object(3)\n",
      "memory usage: 3.7+ MB\n"
     ]
    }
   ],
   "source": [
    "data.info()"
   ]
  },
  {
   "cell_type": "code",
   "execution_count": 3,
   "metadata": {
    "scrolled": true
   },
   "outputs": [
    {
     "data": {
      "text/html": [
       "<div>\n",
       "<style scoped>\n",
       "    .dataframe tbody tr th:only-of-type {\n",
       "        vertical-align: middle;\n",
       "    }\n",
       "\n",
       "    .dataframe tbody tr th {\n",
       "        vertical-align: top;\n",
       "    }\n",
       "\n",
       "    .dataframe thead th {\n",
       "        text-align: right;\n",
       "    }\n",
       "</style>\n",
       "<table border=\"1\" class=\"dataframe\">\n",
       "  <thead>\n",
       "    <tr style=\"text-align: right;\">\n",
       "      <th></th>\n",
       "      <th>total_images</th>\n",
       "      <th>last_price</th>\n",
       "      <th>total_area</th>\n",
       "      <th>first_day_exposition</th>\n",
       "      <th>rooms</th>\n",
       "      <th>ceiling_height</th>\n",
       "      <th>floors_total</th>\n",
       "      <th>living_area</th>\n",
       "      <th>floor</th>\n",
       "      <th>is_apartment</th>\n",
       "      <th>...</th>\n",
       "      <th>kitchen_area</th>\n",
       "      <th>balcony</th>\n",
       "      <th>locality_name</th>\n",
       "      <th>airports_nearest</th>\n",
       "      <th>cityCenters_nearest</th>\n",
       "      <th>parks_around3000</th>\n",
       "      <th>parks_nearest</th>\n",
       "      <th>ponds_around3000</th>\n",
       "      <th>ponds_nearest</th>\n",
       "      <th>days_exposition</th>\n",
       "    </tr>\n",
       "  </thead>\n",
       "  <tbody>\n",
       "    <tr>\n",
       "      <th>0</th>\n",
       "      <td>20</td>\n",
       "      <td>13000000.0</td>\n",
       "      <td>108.0</td>\n",
       "      <td>2019-03-07T00:00:00</td>\n",
       "      <td>3</td>\n",
       "      <td>2.70</td>\n",
       "      <td>16.0</td>\n",
       "      <td>51.0</td>\n",
       "      <td>8</td>\n",
       "      <td>NaN</td>\n",
       "      <td>...</td>\n",
       "      <td>25.0</td>\n",
       "      <td>NaN</td>\n",
       "      <td>Санкт-Петербург</td>\n",
       "      <td>18863.0</td>\n",
       "      <td>16028.0</td>\n",
       "      <td>1.0</td>\n",
       "      <td>482.0</td>\n",
       "      <td>2.0</td>\n",
       "      <td>755.0</td>\n",
       "      <td>NaN</td>\n",
       "    </tr>\n",
       "    <tr>\n",
       "      <th>1</th>\n",
       "      <td>7</td>\n",
       "      <td>3350000.0</td>\n",
       "      <td>40.4</td>\n",
       "      <td>2018-12-04T00:00:00</td>\n",
       "      <td>1</td>\n",
       "      <td>NaN</td>\n",
       "      <td>11.0</td>\n",
       "      <td>18.6</td>\n",
       "      <td>1</td>\n",
       "      <td>NaN</td>\n",
       "      <td>...</td>\n",
       "      <td>11.0</td>\n",
       "      <td>2.0</td>\n",
       "      <td>посёлок Шушары</td>\n",
       "      <td>12817.0</td>\n",
       "      <td>18603.0</td>\n",
       "      <td>0.0</td>\n",
       "      <td>NaN</td>\n",
       "      <td>0.0</td>\n",
       "      <td>NaN</td>\n",
       "      <td>81.0</td>\n",
       "    </tr>\n",
       "    <tr>\n",
       "      <th>2</th>\n",
       "      <td>10</td>\n",
       "      <td>5196000.0</td>\n",
       "      <td>56.0</td>\n",
       "      <td>2015-08-20T00:00:00</td>\n",
       "      <td>2</td>\n",
       "      <td>NaN</td>\n",
       "      <td>5.0</td>\n",
       "      <td>34.3</td>\n",
       "      <td>4</td>\n",
       "      <td>NaN</td>\n",
       "      <td>...</td>\n",
       "      <td>8.3</td>\n",
       "      <td>0.0</td>\n",
       "      <td>Санкт-Петербург</td>\n",
       "      <td>21741.0</td>\n",
       "      <td>13933.0</td>\n",
       "      <td>1.0</td>\n",
       "      <td>90.0</td>\n",
       "      <td>2.0</td>\n",
       "      <td>574.0</td>\n",
       "      <td>558.0</td>\n",
       "    </tr>\n",
       "    <tr>\n",
       "      <th>3</th>\n",
       "      <td>0</td>\n",
       "      <td>64900000.0</td>\n",
       "      <td>159.0</td>\n",
       "      <td>2015-07-24T00:00:00</td>\n",
       "      <td>3</td>\n",
       "      <td>NaN</td>\n",
       "      <td>14.0</td>\n",
       "      <td>NaN</td>\n",
       "      <td>9</td>\n",
       "      <td>NaN</td>\n",
       "      <td>...</td>\n",
       "      <td>NaN</td>\n",
       "      <td>0.0</td>\n",
       "      <td>Санкт-Петербург</td>\n",
       "      <td>28098.0</td>\n",
       "      <td>6800.0</td>\n",
       "      <td>2.0</td>\n",
       "      <td>84.0</td>\n",
       "      <td>3.0</td>\n",
       "      <td>234.0</td>\n",
       "      <td>424.0</td>\n",
       "    </tr>\n",
       "    <tr>\n",
       "      <th>4</th>\n",
       "      <td>2</td>\n",
       "      <td>10000000.0</td>\n",
       "      <td>100.0</td>\n",
       "      <td>2018-06-19T00:00:00</td>\n",
       "      <td>2</td>\n",
       "      <td>3.03</td>\n",
       "      <td>14.0</td>\n",
       "      <td>32.0</td>\n",
       "      <td>13</td>\n",
       "      <td>NaN</td>\n",
       "      <td>...</td>\n",
       "      <td>41.0</td>\n",
       "      <td>NaN</td>\n",
       "      <td>Санкт-Петербург</td>\n",
       "      <td>31856.0</td>\n",
       "      <td>8098.0</td>\n",
       "      <td>2.0</td>\n",
       "      <td>112.0</td>\n",
       "      <td>1.0</td>\n",
       "      <td>48.0</td>\n",
       "      <td>121.0</td>\n",
       "    </tr>\n",
       "  </tbody>\n",
       "</table>\n",
       "<p>5 rows × 22 columns</p>\n",
       "</div>"
      ],
      "text/plain": [
       "   total_images  last_price  total_area first_day_exposition  rooms  \\\n",
       "0            20  13000000.0       108.0  2019-03-07T00:00:00      3   \n",
       "1             7   3350000.0        40.4  2018-12-04T00:00:00      1   \n",
       "2            10   5196000.0        56.0  2015-08-20T00:00:00      2   \n",
       "3             0  64900000.0       159.0  2015-07-24T00:00:00      3   \n",
       "4             2  10000000.0       100.0  2018-06-19T00:00:00      2   \n",
       "\n",
       "   ceiling_height  floors_total  living_area  floor is_apartment  ...  \\\n",
       "0            2.70          16.0         51.0      8          NaN  ...   \n",
       "1             NaN          11.0         18.6      1          NaN  ...   \n",
       "2             NaN           5.0         34.3      4          NaN  ...   \n",
       "3             NaN          14.0          NaN      9          NaN  ...   \n",
       "4            3.03          14.0         32.0     13          NaN  ...   \n",
       "\n",
       "   kitchen_area  balcony    locality_name  airports_nearest  \\\n",
       "0          25.0      NaN  Санкт-Петербург           18863.0   \n",
       "1          11.0      2.0   посёлок Шушары           12817.0   \n",
       "2           8.3      0.0  Санкт-Петербург           21741.0   \n",
       "3           NaN      0.0  Санкт-Петербург           28098.0   \n",
       "4          41.0      NaN  Санкт-Петербург           31856.0   \n",
       "\n",
       "  cityCenters_nearest  parks_around3000  parks_nearest  ponds_around3000  \\\n",
       "0             16028.0               1.0          482.0               2.0   \n",
       "1             18603.0               0.0            NaN               0.0   \n",
       "2             13933.0               1.0           90.0               2.0   \n",
       "3              6800.0               2.0           84.0               3.0   \n",
       "4              8098.0               2.0          112.0               1.0   \n",
       "\n",
       "   ponds_nearest  days_exposition  \n",
       "0          755.0              NaN  \n",
       "1            NaN             81.0  \n",
       "2          574.0            558.0  \n",
       "3          234.0            424.0  \n",
       "4           48.0            121.0  \n",
       "\n",
       "[5 rows x 22 columns]"
      ]
     },
     "execution_count": 3,
     "metadata": {},
     "output_type": "execute_result"
    }
   ],
   "source": [
    "data.head()"
   ]
  },
  {
   "cell_type": "markdown",
   "metadata": {},
   "source": [
    "## Предобработка данных"
   ]
  },
  {
   "cell_type": "markdown",
   "metadata": {},
   "source": [
    "### Обработка пропусков"
   ]
  },
  {
   "cell_type": "code",
   "execution_count": 4,
   "metadata": {
    "scrolled": true
   },
   "outputs": [
    {
     "data": {
      "text/plain": [
       "total_images                0\n",
       "last_price                  0\n",
       "total_area                  0\n",
       "first_day_exposition        0\n",
       "rooms                       0\n",
       "ceiling_height           9195\n",
       "floors_total               86\n",
       "living_area              1903\n",
       "floor                       0\n",
       "is_apartment            20924\n",
       "studio                      0\n",
       "open_plan                   0\n",
       "kitchen_area             2278\n",
       "balcony                 11519\n",
       "locality_name              49\n",
       "airports_nearest         5542\n",
       "cityCenters_nearest      5519\n",
       "parks_around3000         5518\n",
       "parks_nearest           15620\n",
       "ponds_around3000         5518\n",
       "ponds_nearest           14589\n",
       "days_exposition          3181\n",
       "dtype: int64"
      ]
     },
     "execution_count": 4,
     "metadata": {},
     "output_type": "execute_result"
    }
   ],
   "source": [
    "data.isnull().sum()"
   ]
  },
  {
   "cell_type": "markdown",
   "metadata": {},
   "source": [
    "Пропуски присутствуют в 14 столбцах из 22. Необходимо понять, где наличие пропусков критично и их необходимо устранить, а где можно оставить или заменить нереалистичными значениями (чтобы отсечь при построении графиков для работы только с достоверными данными), поскольку они либо не влияют на результаты исследования, либо сами из себя представляют важную информацию.  "
   ]
  },
  {
   "cell_type": "markdown",
   "metadata": {},
   "source": [
    "Начнем с высоты потолков. Эти данные пригодятся нам в дальнейшем исследовании. Пропуски составляют почти 39% от всей информации, но замена средним значением повлечет искажение результатов, поэтому можно заменить их маркерами и отсечь при построении гистограмм и анализе параметров. \n",
    "\n",
    "Визуальная оценка датасета позволяет сделать вывод, что для начала необходимо привести данные к единому образцу, поскольку встречаются некорректные значения (например, 25 метров). Максимальная высота потолков в Петербурге неизвестна, но на некоторых форумах пишут о 5 метрах в сталинках. Однако встречаются и элитные жк, где потолки могут достигать 10 метров. Чтобы не удалить лишнего, введем функцию, приводящую все значения больше 20 к десятичной дроби с одной цифрой до точки. "
   ]
  },
  {
   "cell_type": "code",
   "execution_count": 5,
   "metadata": {},
   "outputs": [],
   "source": [
    "def ceiling(height): \n",
    "    if height >= 20: \n",
    "        height = height/10\n",
    "    return height\n",
    "data['ceiling_height'] = data['ceiling_height'].apply(ceiling)"
   ]
  },
  {
   "cell_type": "code",
   "execution_count": 6,
   "metadata": {},
   "outputs": [
    {
     "data": {
      "text/plain": [
       "0"
      ]
     },
     "execution_count": 6,
     "metadata": {},
     "output_type": "execute_result"
    }
   ],
   "source": [
    "data['ceiling_height'] = data['ceiling_height'].fillna(777)\n",
    "data['ceiling_height'].isnull().sum()"
   ]
  },
  {
   "cell_type": "markdown",
   "metadata": {},
   "source": [
    "Пропуски в столбе *is_apartment*, вероятнее всего указывают на то, что квартира находится в собственности и не является апартаментами. Заменим отсутствующие значения на \"False\" и представим столбец как булев массив, заменив тип данных на *bool*."
   ]
  },
  {
   "cell_type": "code",
   "execution_count": 7,
   "metadata": {},
   "outputs": [
    {
     "data": {
      "text/plain": [
       "array([nan, False, True], dtype=object)"
      ]
     },
     "execution_count": 7,
     "metadata": {},
     "output_type": "execute_result"
    }
   ],
   "source": [
    "data['is_apartment'].unique()"
   ]
  },
  {
   "cell_type": "code",
   "execution_count": 8,
   "metadata": {},
   "outputs": [
    {
     "data": {
      "text/plain": [
       "array([ True, False])"
      ]
     },
     "execution_count": 8,
     "metadata": {},
     "output_type": "execute_result"
    }
   ],
   "source": [
    "data['is_apartment'] = data['is_apartment'].fillna('False').astype('bool')\n",
    "data['is_apartment'].unique()"
   ]
  },
  {
   "cell_type": "markdown",
   "metadata": {},
   "source": [
    "Наличие балкона не является важной величиной для исследования. Пропуски в столбце указывают скорей всего на то, что балкона в квартире нет, заменим их на 0. Также заменим тип данных на целочисленный. "
   ]
  },
  {
   "cell_type": "code",
   "execution_count": 9,
   "metadata": {},
   "outputs": [
    {
     "data": {
      "text/plain": [
       "array([0, 2, 1, 5, 4, 3])"
      ]
     },
     "execution_count": 9,
     "metadata": {},
     "output_type": "execute_result"
    }
   ],
   "source": [
    "data['balcony'] = data['balcony'].fillna(0).astype('int')\n",
    "data['balcony'].unique()"
   ]
  },
  {
   "cell_type": "markdown",
   "metadata": {},
   "source": [
    "Перейдем к работе с пропусками в столбце с жилой площадью и площадью кухни. Попробуем высчитать медианное отношение (коэффициент) жилой площади и площади кухни к общей, сгруппируя по комнатам. "
   ]
  },
  {
   "cell_type": "code",
   "execution_count": 10,
   "metadata": {
    "scrolled": true
   },
   "outputs": [
    {
     "data": {
      "text/html": [
       "<div>\n",
       "<style scoped>\n",
       "    .dataframe tbody tr th:only-of-type {\n",
       "        vertical-align: middle;\n",
       "    }\n",
       "\n",
       "    .dataframe tbody tr th {\n",
       "        vertical-align: top;\n",
       "    }\n",
       "\n",
       "    .dataframe thead th {\n",
       "        text-align: right;\n",
       "    }\n",
       "</style>\n",
       "<table border=\"1\" class=\"dataframe\">\n",
       "  <thead>\n",
       "    <tr style=\"text-align: right;\">\n",
       "      <th></th>\n",
       "      <th>total_images</th>\n",
       "      <th>last_price</th>\n",
       "      <th>total_area</th>\n",
       "      <th>ceiling_height</th>\n",
       "      <th>floors_total</th>\n",
       "      <th>living_area</th>\n",
       "      <th>floor</th>\n",
       "      <th>is_apartment</th>\n",
       "      <th>studio</th>\n",
       "      <th>open_plan</th>\n",
       "      <th>...</th>\n",
       "      <th>balcony</th>\n",
       "      <th>airports_nearest</th>\n",
       "      <th>cityCenters_nearest</th>\n",
       "      <th>parks_around3000</th>\n",
       "      <th>parks_nearest</th>\n",
       "      <th>ponds_around3000</th>\n",
       "      <th>ponds_nearest</th>\n",
       "      <th>days_exposition</th>\n",
       "      <th>living_median</th>\n",
       "      <th>kitchen_median</th>\n",
       "    </tr>\n",
       "    <tr>\n",
       "      <th>rooms</th>\n",
       "      <th></th>\n",
       "      <th></th>\n",
       "      <th></th>\n",
       "      <th></th>\n",
       "      <th></th>\n",
       "      <th></th>\n",
       "      <th></th>\n",
       "      <th></th>\n",
       "      <th></th>\n",
       "      <th></th>\n",
       "      <th></th>\n",
       "      <th></th>\n",
       "      <th></th>\n",
       "      <th></th>\n",
       "      <th></th>\n",
       "      <th></th>\n",
       "      <th></th>\n",
       "      <th></th>\n",
       "      <th></th>\n",
       "      <th></th>\n",
       "      <th></th>\n",
       "    </tr>\n",
       "  </thead>\n",
       "  <tbody>\n",
       "    <tr>\n",
       "      <th>0</th>\n",
       "      <td>7.0</td>\n",
       "      <td>2700000.0</td>\n",
       "      <td>26.05</td>\n",
       "      <td>777.000</td>\n",
       "      <td>17.0</td>\n",
       "      <td>18.000</td>\n",
       "      <td>7.0</td>\n",
       "      <td>True</td>\n",
       "      <td>True</td>\n",
       "      <td>False</td>\n",
       "      <td>...</td>\n",
       "      <td>1</td>\n",
       "      <td>21460.0</td>\n",
       "      <td>13595.5</td>\n",
       "      <td>0.0</td>\n",
       "      <td>535.0</td>\n",
       "      <td>1.0</td>\n",
       "      <td>528.0</td>\n",
       "      <td>50.0</td>\n",
       "      <td>0.690979</td>\n",
       "      <td>NaN</td>\n",
       "    </tr>\n",
       "    <tr>\n",
       "      <th>1</th>\n",
       "      <td>9.0</td>\n",
       "      <td>3600000.0</td>\n",
       "      <td>36.56</td>\n",
       "      <td>2.800</td>\n",
       "      <td>11.0</td>\n",
       "      <td>17.600</td>\n",
       "      <td>5.0</td>\n",
       "      <td>True</td>\n",
       "      <td>False</td>\n",
       "      <td>False</td>\n",
       "      <td>...</td>\n",
       "      <td>0</td>\n",
       "      <td>29305.0</td>\n",
       "      <td>14265.0</td>\n",
       "      <td>0.0</td>\n",
       "      <td>455.0</td>\n",
       "      <td>0.0</td>\n",
       "      <td>511.0</td>\n",
       "      <td>81.0</td>\n",
       "      <td>0.481400</td>\n",
       "      <td>0.247265</td>\n",
       "    </tr>\n",
       "    <tr>\n",
       "      <th>2</th>\n",
       "      <td>10.0</td>\n",
       "      <td>4770169.0</td>\n",
       "      <td>53.00</td>\n",
       "      <td>2.850</td>\n",
       "      <td>9.0</td>\n",
       "      <td>30.500</td>\n",
       "      <td>4.0</td>\n",
       "      <td>True</td>\n",
       "      <td>False</td>\n",
       "      <td>False</td>\n",
       "      <td>...</td>\n",
       "      <td>0</td>\n",
       "      <td>26938.0</td>\n",
       "      <td>13060.0</td>\n",
       "      <td>0.0</td>\n",
       "      <td>460.0</td>\n",
       "      <td>0.0</td>\n",
       "      <td>502.5</td>\n",
       "      <td>91.0</td>\n",
       "      <td>0.575472</td>\n",
       "      <td>0.166038</td>\n",
       "    </tr>\n",
       "    <tr>\n",
       "      <th>3</th>\n",
       "      <td>10.0</td>\n",
       "      <td>6200000.0</td>\n",
       "      <td>73.00</td>\n",
       "      <td>2.965</td>\n",
       "      <td>9.0</td>\n",
       "      <td>45.000</td>\n",
       "      <td>4.0</td>\n",
       "      <td>True</td>\n",
       "      <td>False</td>\n",
       "      <td>False</td>\n",
       "      <td>...</td>\n",
       "      <td>0</td>\n",
       "      <td>26402.0</td>\n",
       "      <td>12682.0</td>\n",
       "      <td>0.0</td>\n",
       "      <td>458.0</td>\n",
       "      <td>1.0</td>\n",
       "      <td>505.0</td>\n",
       "      <td>114.0</td>\n",
       "      <td>0.616438</td>\n",
       "      <td>0.130137</td>\n",
       "    </tr>\n",
       "    <tr>\n",
       "      <th>4</th>\n",
       "      <td>11.0</td>\n",
       "      <td>9000000.0</td>\n",
       "      <td>99.30</td>\n",
       "      <td>3.100</td>\n",
       "      <td>6.0</td>\n",
       "      <td>63.600</td>\n",
       "      <td>4.0</td>\n",
       "      <td>True</td>\n",
       "      <td>False</td>\n",
       "      <td>False</td>\n",
       "      <td>...</td>\n",
       "      <td>0</td>\n",
       "      <td>24710.0</td>\n",
       "      <td>8447.0</td>\n",
       "      <td>1.0</td>\n",
       "      <td>437.0</td>\n",
       "      <td>1.0</td>\n",
       "      <td>456.5</td>\n",
       "      <td>156.0</td>\n",
       "      <td>0.640483</td>\n",
       "      <td>0.111782</td>\n",
       "    </tr>\n",
       "    <tr>\n",
       "      <th>5</th>\n",
       "      <td>10.5</td>\n",
       "      <td>14000000.0</td>\n",
       "      <td>146.45</td>\n",
       "      <td>3.400</td>\n",
       "      <td>5.0</td>\n",
       "      <td>91.785</td>\n",
       "      <td>4.0</td>\n",
       "      <td>True</td>\n",
       "      <td>False</td>\n",
       "      <td>False</td>\n",
       "      <td>...</td>\n",
       "      <td>0</td>\n",
       "      <td>24306.0</td>\n",
       "      <td>4750.0</td>\n",
       "      <td>1.0</td>\n",
       "      <td>392.0</td>\n",
       "      <td>1.0</td>\n",
       "      <td>486.0</td>\n",
       "      <td>185.5</td>\n",
       "      <td>0.626733</td>\n",
       "      <td>0.103107</td>\n",
       "    </tr>\n",
       "    <tr>\n",
       "      <th>6</th>\n",
       "      <td>11.0</td>\n",
       "      <td>19000000.0</td>\n",
       "      <td>184.30</td>\n",
       "      <td>3.400</td>\n",
       "      <td>5.0</td>\n",
       "      <td>123.900</td>\n",
       "      <td>3.0</td>\n",
       "      <td>True</td>\n",
       "      <td>False</td>\n",
       "      <td>False</td>\n",
       "      <td>...</td>\n",
       "      <td>0</td>\n",
       "      <td>24239.0</td>\n",
       "      <td>4751.0</td>\n",
       "      <td>1.0</td>\n",
       "      <td>390.0</td>\n",
       "      <td>1.0</td>\n",
       "      <td>413.0</td>\n",
       "      <td>201.5</td>\n",
       "      <td>0.672273</td>\n",
       "      <td>0.105806</td>\n",
       "    </tr>\n",
       "    <tr>\n",
       "      <th>7</th>\n",
       "      <td>11.0</td>\n",
       "      <td>24900000.0</td>\n",
       "      <td>214.00</td>\n",
       "      <td>3.500</td>\n",
       "      <td>5.0</td>\n",
       "      <td>145.000</td>\n",
       "      <td>4.0</td>\n",
       "      <td>True</td>\n",
       "      <td>False</td>\n",
       "      <td>False</td>\n",
       "      <td>...</td>\n",
       "      <td>0</td>\n",
       "      <td>24336.0</td>\n",
       "      <td>4719.0</td>\n",
       "      <td>1.0</td>\n",
       "      <td>440.0</td>\n",
       "      <td>1.0</td>\n",
       "      <td>392.0</td>\n",
       "      <td>138.0</td>\n",
       "      <td>0.677570</td>\n",
       "      <td>0.093458</td>\n",
       "    </tr>\n",
       "    <tr>\n",
       "      <th>8</th>\n",
       "      <td>7.5</td>\n",
       "      <td>23095000.0</td>\n",
       "      <td>235.70</td>\n",
       "      <td>390.500</td>\n",
       "      <td>5.5</td>\n",
       "      <td>161.000</td>\n",
       "      <td>3.0</td>\n",
       "      <td>True</td>\n",
       "      <td>False</td>\n",
       "      <td>False</td>\n",
       "      <td>...</td>\n",
       "      <td>0</td>\n",
       "      <td>24261.5</td>\n",
       "      <td>4659.0</td>\n",
       "      <td>1.5</td>\n",
       "      <td>537.0</td>\n",
       "      <td>1.5</td>\n",
       "      <td>390.5</td>\n",
       "      <td>249.0</td>\n",
       "      <td>0.683072</td>\n",
       "      <td>0.106067</td>\n",
       "    </tr>\n",
       "    <tr>\n",
       "      <th>9</th>\n",
       "      <td>13.0</td>\n",
       "      <td>23750000.0</td>\n",
       "      <td>300.95</td>\n",
       "      <td>3.200</td>\n",
       "      <td>5.0</td>\n",
       "      <td>179.200</td>\n",
       "      <td>3.5</td>\n",
       "      <td>True</td>\n",
       "      <td>False</td>\n",
       "      <td>False</td>\n",
       "      <td>...</td>\n",
       "      <td>0</td>\n",
       "      <td>21057.5</td>\n",
       "      <td>9987.0</td>\n",
       "      <td>2.0</td>\n",
       "      <td>349.0</td>\n",
       "      <td>0.0</td>\n",
       "      <td>509.0</td>\n",
       "      <td>469.5</td>\n",
       "      <td>0.595448</td>\n",
       "      <td>0.047516</td>\n",
       "    </tr>\n",
       "    <tr>\n",
       "      <th>10</th>\n",
       "      <td>6.0</td>\n",
       "      <td>23000000.0</td>\n",
       "      <td>272.60</td>\n",
       "      <td>3.150</td>\n",
       "      <td>6.0</td>\n",
       "      <td>161.400</td>\n",
       "      <td>6.0</td>\n",
       "      <td>True</td>\n",
       "      <td>False</td>\n",
       "      <td>False</td>\n",
       "      <td>...</td>\n",
       "      <td>1</td>\n",
       "      <td>24353.0</td>\n",
       "      <td>4932.0</td>\n",
       "      <td>1.0</td>\n",
       "      <td>316.0</td>\n",
       "      <td>1.0</td>\n",
       "      <td>379.0</td>\n",
       "      <td>44.0</td>\n",
       "      <td>0.592076</td>\n",
       "      <td>0.072634</td>\n",
       "    </tr>\n",
       "    <tr>\n",
       "      <th>11</th>\n",
       "      <td>5.5</td>\n",
       "      <td>25250000.0</td>\n",
       "      <td>188.90</td>\n",
       "      <td>3.415</td>\n",
       "      <td>6.0</td>\n",
       "      <td>133.900</td>\n",
       "      <td>4.5</td>\n",
       "      <td>True</td>\n",
       "      <td>False</td>\n",
       "      <td>False</td>\n",
       "      <td>...</td>\n",
       "      <td>0</td>\n",
       "      <td>22537.5</td>\n",
       "      <td>2081.5</td>\n",
       "      <td>0.5</td>\n",
       "      <td>686.0</td>\n",
       "      <td>1.0</td>\n",
       "      <td>66.0</td>\n",
       "      <td>813.0</td>\n",
       "      <td>0.708841</td>\n",
       "      <td>0.066702</td>\n",
       "    </tr>\n",
       "    <tr>\n",
       "      <th>12</th>\n",
       "      <td>8.0</td>\n",
       "      <td>420000000.0</td>\n",
       "      <td>900.00</td>\n",
       "      <td>2.800</td>\n",
       "      <td>25.0</td>\n",
       "      <td>409.700</td>\n",
       "      <td>25.0</td>\n",
       "      <td>True</td>\n",
       "      <td>False</td>\n",
       "      <td>False</td>\n",
       "      <td>...</td>\n",
       "      <td>0</td>\n",
       "      <td>30706.0</td>\n",
       "      <td>7877.0</td>\n",
       "      <td>0.0</td>\n",
       "      <td>NaN</td>\n",
       "      <td>2.0</td>\n",
       "      <td>318.0</td>\n",
       "      <td>106.0</td>\n",
       "      <td>0.455222</td>\n",
       "      <td>0.124444</td>\n",
       "    </tr>\n",
       "    <tr>\n",
       "      <th>14</th>\n",
       "      <td>5.5</td>\n",
       "      <td>26829500.0</td>\n",
       "      <td>304.20</td>\n",
       "      <td>390.080</td>\n",
       "      <td>4.5</td>\n",
       "      <td>195.150</td>\n",
       "      <td>3.0</td>\n",
       "      <td>True</td>\n",
       "      <td>False</td>\n",
       "      <td>False</td>\n",
       "      <td>...</td>\n",
       "      <td>0</td>\n",
       "      <td>29590.0</td>\n",
       "      <td>5002.0</td>\n",
       "      <td>1.5</td>\n",
       "      <td>541.0</td>\n",
       "      <td>2.0</td>\n",
       "      <td>276.5</td>\n",
       "      <td>256.5</td>\n",
       "      <td>0.641519</td>\n",
       "      <td>0.069855</td>\n",
       "    </tr>\n",
       "    <tr>\n",
       "      <th>15</th>\n",
       "      <td>20.0</td>\n",
       "      <td>65000000.0</td>\n",
       "      <td>590.00</td>\n",
       "      <td>3.500</td>\n",
       "      <td>6.0</td>\n",
       "      <td>409.000</td>\n",
       "      <td>3.0</td>\n",
       "      <td>True</td>\n",
       "      <td>False</td>\n",
       "      <td>False</td>\n",
       "      <td>...</td>\n",
       "      <td>0</td>\n",
       "      <td>24447.0</td>\n",
       "      <td>4666.0</td>\n",
       "      <td>1.0</td>\n",
       "      <td>767.0</td>\n",
       "      <td>0.0</td>\n",
       "      <td>NaN</td>\n",
       "      <td>14.0</td>\n",
       "      <td>0.693220</td>\n",
       "      <td>0.169492</td>\n",
       "    </tr>\n",
       "    <tr>\n",
       "      <th>16</th>\n",
       "      <td>6.0</td>\n",
       "      <td>28500000.0</td>\n",
       "      <td>270.00</td>\n",
       "      <td>3.000</td>\n",
       "      <td>4.0</td>\n",
       "      <td>180.000</td>\n",
       "      <td>4.0</td>\n",
       "      <td>True</td>\n",
       "      <td>False</td>\n",
       "      <td>False</td>\n",
       "      <td>...</td>\n",
       "      <td>1</td>\n",
       "      <td>23575.0</td>\n",
       "      <td>4142.0</td>\n",
       "      <td>1.0</td>\n",
       "      <td>516.0</td>\n",
       "      <td>0.0</td>\n",
       "      <td>NaN</td>\n",
       "      <td>1365.0</td>\n",
       "      <td>0.666667</td>\n",
       "      <td>0.048148</td>\n",
       "    </tr>\n",
       "    <tr>\n",
       "      <th>19</th>\n",
       "      <td>6.0</td>\n",
       "      <td>32250000.0</td>\n",
       "      <td>374.60</td>\n",
       "      <td>777.000</td>\n",
       "      <td>5.0</td>\n",
       "      <td>264.500</td>\n",
       "      <td>2.0</td>\n",
       "      <td>True</td>\n",
       "      <td>False</td>\n",
       "      <td>False</td>\n",
       "      <td>...</td>\n",
       "      <td>0</td>\n",
       "      <td>19497.0</td>\n",
       "      <td>3574.0</td>\n",
       "      <td>0.0</td>\n",
       "      <td>NaN</td>\n",
       "      <td>2.0</td>\n",
       "      <td>548.0</td>\n",
       "      <td>114.0</td>\n",
       "      <td>0.706086</td>\n",
       "      <td>0.073679</td>\n",
       "    </tr>\n",
       "  </tbody>\n",
       "</table>\n",
       "<p>17 rows × 21 columns</p>\n",
       "</div>"
      ],
      "text/plain": [
       "       total_images   last_price  total_area  ceiling_height  floors_total  \\\n",
       "rooms                                                                        \n",
       "0               7.0    2700000.0       26.05         777.000          17.0   \n",
       "1               9.0    3600000.0       36.56           2.800          11.0   \n",
       "2              10.0    4770169.0       53.00           2.850           9.0   \n",
       "3              10.0    6200000.0       73.00           2.965           9.0   \n",
       "4              11.0    9000000.0       99.30           3.100           6.0   \n",
       "5              10.5   14000000.0      146.45           3.400           5.0   \n",
       "6              11.0   19000000.0      184.30           3.400           5.0   \n",
       "7              11.0   24900000.0      214.00           3.500           5.0   \n",
       "8               7.5   23095000.0      235.70         390.500           5.5   \n",
       "9              13.0   23750000.0      300.95           3.200           5.0   \n",
       "10              6.0   23000000.0      272.60           3.150           6.0   \n",
       "11              5.5   25250000.0      188.90           3.415           6.0   \n",
       "12              8.0  420000000.0      900.00           2.800          25.0   \n",
       "14              5.5   26829500.0      304.20         390.080           4.5   \n",
       "15             20.0   65000000.0      590.00           3.500           6.0   \n",
       "16              6.0   28500000.0      270.00           3.000           4.0   \n",
       "19              6.0   32250000.0      374.60         777.000           5.0   \n",
       "\n",
       "       living_area  floor  is_apartment  studio  open_plan  ...  balcony  \\\n",
       "rooms                                                       ...            \n",
       "0           18.000    7.0          True    True      False  ...        1   \n",
       "1           17.600    5.0          True   False      False  ...        0   \n",
       "2           30.500    4.0          True   False      False  ...        0   \n",
       "3           45.000    4.0          True   False      False  ...        0   \n",
       "4           63.600    4.0          True   False      False  ...        0   \n",
       "5           91.785    4.0          True   False      False  ...        0   \n",
       "6          123.900    3.0          True   False      False  ...        0   \n",
       "7          145.000    4.0          True   False      False  ...        0   \n",
       "8          161.000    3.0          True   False      False  ...        0   \n",
       "9          179.200    3.5          True   False      False  ...        0   \n",
       "10         161.400    6.0          True   False      False  ...        1   \n",
       "11         133.900    4.5          True   False      False  ...        0   \n",
       "12         409.700   25.0          True   False      False  ...        0   \n",
       "14         195.150    3.0          True   False      False  ...        0   \n",
       "15         409.000    3.0          True   False      False  ...        0   \n",
       "16         180.000    4.0          True   False      False  ...        1   \n",
       "19         264.500    2.0          True   False      False  ...        0   \n",
       "\n",
       "       airports_nearest  cityCenters_nearest  parks_around3000  parks_nearest  \\\n",
       "rooms                                                                           \n",
       "0               21460.0              13595.5               0.0          535.0   \n",
       "1               29305.0              14265.0               0.0          455.0   \n",
       "2               26938.0              13060.0               0.0          460.0   \n",
       "3               26402.0              12682.0               0.0          458.0   \n",
       "4               24710.0               8447.0               1.0          437.0   \n",
       "5               24306.0               4750.0               1.0          392.0   \n",
       "6               24239.0               4751.0               1.0          390.0   \n",
       "7               24336.0               4719.0               1.0          440.0   \n",
       "8               24261.5               4659.0               1.5          537.0   \n",
       "9               21057.5               9987.0               2.0          349.0   \n",
       "10              24353.0               4932.0               1.0          316.0   \n",
       "11              22537.5               2081.5               0.5          686.0   \n",
       "12              30706.0               7877.0               0.0            NaN   \n",
       "14              29590.0               5002.0               1.5          541.0   \n",
       "15              24447.0               4666.0               1.0          767.0   \n",
       "16              23575.0               4142.0               1.0          516.0   \n",
       "19              19497.0               3574.0               0.0            NaN   \n",
       "\n",
       "       ponds_around3000  ponds_nearest  days_exposition  living_median  \\\n",
       "rooms                                                                    \n",
       "0                   1.0          528.0             50.0       0.690979   \n",
       "1                   0.0          511.0             81.0       0.481400   \n",
       "2                   0.0          502.5             91.0       0.575472   \n",
       "3                   1.0          505.0            114.0       0.616438   \n",
       "4                   1.0          456.5            156.0       0.640483   \n",
       "5                   1.0          486.0            185.5       0.626733   \n",
       "6                   1.0          413.0            201.5       0.672273   \n",
       "7                   1.0          392.0            138.0       0.677570   \n",
       "8                   1.5          390.5            249.0       0.683072   \n",
       "9                   0.0          509.0            469.5       0.595448   \n",
       "10                  1.0          379.0             44.0       0.592076   \n",
       "11                  1.0           66.0            813.0       0.708841   \n",
       "12                  2.0          318.0            106.0       0.455222   \n",
       "14                  2.0          276.5            256.5       0.641519   \n",
       "15                  0.0            NaN             14.0       0.693220   \n",
       "16                  0.0            NaN           1365.0       0.666667   \n",
       "19                  2.0          548.0            114.0       0.706086   \n",
       "\n",
       "       kitchen_median  \n",
       "rooms                  \n",
       "0                 NaN  \n",
       "1            0.247265  \n",
       "2            0.166038  \n",
       "3            0.130137  \n",
       "4            0.111782  \n",
       "5            0.103107  \n",
       "6            0.105806  \n",
       "7            0.093458  \n",
       "8            0.106067  \n",
       "9            0.047516  \n",
       "10           0.072634  \n",
       "11           0.066702  \n",
       "12           0.124444  \n",
       "14           0.069855  \n",
       "15           0.169492  \n",
       "16           0.048148  \n",
       "19           0.073679  \n",
       "\n",
       "[17 rows x 21 columns]"
      ]
     },
     "execution_count": 10,
     "metadata": {},
     "output_type": "execute_result"
    }
   ],
   "source": [
    "rooms_grouped = data.groupby('rooms').median()\n",
    "rooms_grouped['living_median'] = rooms_grouped['living_area'] / rooms_grouped['total_area'] \n",
    "rooms_grouped['kitchen_median'] = rooms_grouped['kitchen_area'] / rooms_grouped['total_area']\n",
    "rooms_grouped"
   ]
  },
  {
   "cell_type": "markdown",
   "metadata": {},
   "source": [
    "Посмотрим, в данных о квартирах с каким количеством комнат присутствуют пропуски."
   ]
  },
  {
   "cell_type": "code",
   "execution_count": 11,
   "metadata": {},
   "outputs": [
    {
     "data": {
      "text/plain": [
       "array([3, 2, 1, 4, 7, 0, 5, 6, 9], dtype=int64)"
      ]
     },
     "execution_count": 11,
     "metadata": {},
     "output_type": "execute_result"
    }
   ],
   "source": [
    "living_nan = pd.isnull(data['living_area'])\n",
    "data[living_nan]['rooms'].unique()"
   ]
  },
  {
   "cell_type": "code",
   "execution_count": 12,
   "metadata": {},
   "outputs": [
    {
     "data": {
      "text/plain": [
       "array([3, 1, 2, 0, 4, 7, 5, 6, 8, 9], dtype=int64)"
      ]
     },
     "execution_count": 12,
     "metadata": {},
     "output_type": "execute_result"
    }
   ],
   "source": [
    "kitchen_nan = pd.isnull(data['kitchen_area'])\n",
    "data[kitchen_nan]['rooms'].unique()"
   ]
  },
  {
   "cell_type": "markdown",
   "metadata": {},
   "source": [
    "Заменим пропуски на маркеры и введем функцию, заменяющую их на расчеты по формуле *общая площадь * коэффициент*, применяя индексацию к сгруппированным данным по комнатам."
   ]
  },
  {
   "cell_type": "code",
   "execution_count": 13,
   "metadata": {},
   "outputs": [
    {
     "data": {
      "text/plain": [
       "0"
      ]
     },
     "execution_count": 13,
     "metadata": {},
     "output_type": "execute_result"
    }
   ],
   "source": [
    "data['living_area'] = data['living_area'].fillna(77777)\n",
    "data['living_area'].isnull().sum()"
   ]
  },
  {
   "cell_type": "code",
   "execution_count": 14,
   "metadata": {},
   "outputs": [],
   "source": [
    "def area_living(row): \n",
    "    if (row['living_area'] == 77777) and (row['rooms'] == 1):\n",
    "        row['living_area'] = rooms_grouped.loc[1, 'living_median'] * row['total_area']\n",
    "    if (row['living_area'] == 77777) and (row['rooms'] == 2):\n",
    "        row['living_area'] = rooms_grouped.loc[2, 'living_median'] * row['total_area']\n",
    "    if (row['living_area'] == 77777) and (row['rooms'] == 3):\n",
    "        row['living_area'] = rooms_grouped.loc[3, 'living_median'] * row['total_area']\n",
    "    if (row['living_area'] == 77777) and (row['rooms'] == 4):\n",
    "        row['living_area'] = rooms_grouped.loc[4, 'living_median'] * row['total_area']\n",
    "    if (row['living_area'] == 77777) and (row['rooms'] == 5):\n",
    "        row['living_area'] = rooms_grouped.loc[5, 'living_median'] * row['total_area']\n",
    "    if (row['living_area'] == 77777) and (row['rooms'] == 6):\n",
    "        row['living_area'] = rooms_grouped.loc[6, 'living_median'] * row['total_area']\n",
    "    if (row['living_area'] == 77777) and (row['rooms'] == 7):\n",
    "        row['living_area'] = rooms_grouped.loc[7, 'living_median'] * row['total_area']\n",
    "    if (row['living_area'] == 77777) and (row['rooms'] == 9): # в квартирах с 8 комнатами нет пропусков\n",
    "        row['living_area'] = rooms_grouped.loc[9, 'living_median'] * row['total_area']\n",
    "    if (row['living_area'] == 77777) and (row['rooms'] == 0):\n",
    "        row['living_area'] = rooms_grouped.loc[0, 'living_median'] * row['total_area']\n",
    "    return row\n",
    "\n",
    "data = data.apply(area_living, axis=1)"
   ]
  },
  {
   "cell_type": "markdown",
   "metadata": {},
   "source": [
    "Проделаем ту же операцию с пропусками в площади кухни (здесь в квартирах с 8 комнатами пропуски есть, поэтому считаем по порядку)"
   ]
  },
  {
   "cell_type": "code",
   "execution_count": 15,
   "metadata": {},
   "outputs": [],
   "source": [
    "data['kitchen_area'] = data['kitchen_area'].fillna(88888)"
   ]
  },
  {
   "cell_type": "code",
   "execution_count": 16,
   "metadata": {},
   "outputs": [],
   "source": [
    "def area_kitchen(row):\n",
    "    if (row['kitchen_area'] == 88888) and (row['rooms'] == 1):\n",
    "        row['kitchen_area'] = rooms_grouped.loc[1, 'kitchen_median'] * row['total_area']\n",
    "    if (row['kitchen_area'] == 88888) and (row['rooms'] == 2):\n",
    "        row['kitchen_area'] = rooms_grouped.loc[2, 'kitchen_median'] * row['total_area']\n",
    "    if (row['kitchen_area'] == 88888) and (row['rooms'] == 3):\n",
    "        row['kitchen_area'] = rooms_grouped.loc[3, 'kitchen_median'] * row['total_area']\n",
    "    if (row['kitchen_area'] == 88888) and (row['rooms'] == 4):\n",
    "        row['kitchen_area'] = rooms_grouped.loc[4, 'kitchen_median'] * row['total_area']\n",
    "    if (row['kitchen_area'] == 88888) and (row['rooms'] == 5):\n",
    "        row['kitchen_area'] = rooms_grouped.loc[5, 'kitchen_median'] * row['total_area']\n",
    "    if (row['kitchen_area'] == 88888) and (row['rooms'] == 6):\n",
    "        row['kitchen_area'] = rooms_grouped.loc[6, 'kitchen_median'] * row['total_area']\n",
    "    if (row['kitchen_area'] == 88888) and (row['rooms'] == 7):\n",
    "        row['kitchen_area'] = rooms_grouped.loc[7, 'kitchen_median'] * row['total_area']\n",
    "    if (row['kitchen_area'] == 88888) and (row['rooms'] == 8):\n",
    "        row['kitchen_area'] = rooms_grouped.loc[8, 'kitchen_median'] * row['total_area']\n",
    "    if (row['kitchen_area'] == 88888) and (row['rooms'] == 9):\n",
    "        row['kitchen_area'] = rooms_grouped.loc[9, 'kitchen_median'] * row['total_area']\n",
    "    if (row['kitchen_area'] == 88888) and (row['rooms'] == 0):\n",
    "        row['kitchen_area'] = 0\n",
    "    return row\n",
    "\n",
    "data = data.apply(area_kitchen, axis=1)"
   ]
  },
  {
   "cell_type": "code",
   "execution_count": 17,
   "metadata": {},
   "outputs": [
    {
     "data": {
      "text/plain": [
       "total_images                              0\n",
       "last_price                       64900000.0\n",
       "total_area                            159.0\n",
       "first_day_exposition    2015-07-24T00:00:00\n",
       "rooms                                     3\n",
       "ceiling_height                        777.0\n",
       "floors_total                           14.0\n",
       "living_area                       98.013699\n",
       "floor                                     9\n",
       "is_apartment                           True\n",
       "studio                                False\n",
       "open_plan                             False\n",
       "kitchen_area                      20.691781\n",
       "balcony                                   0\n",
       "locality_name               Санкт-Петербург\n",
       "airports_nearest                    28098.0\n",
       "cityCenters_nearest                  6800.0\n",
       "parks_around3000                        2.0\n",
       "parks_nearest                          84.0\n",
       "ponds_around3000                        3.0\n",
       "ponds_nearest                         234.0\n",
       "days_exposition                       424.0\n",
       "Name: 3, dtype: object"
      ]
     },
     "execution_count": 17,
     "metadata": {},
     "output_type": "execute_result"
    }
   ],
   "source": [
    "data.loc[3]"
   ]
  },
  {
   "cell_type": "markdown",
   "metadata": {},
   "source": [
    "Вывод контрольной строки позволяет увидеть, как пропуски жилой площади и площади кухни в данных о трехкомнатной квартире изменились в соответствии с имеющейся общей площадью."
   ]
  },
  {
   "cell_type": "markdown",
   "metadata": {},
   "source": [
    "Название населенного пункта отсутствует всего в 49 строках, их необходимо удалить. "
   ]
  },
  {
   "cell_type": "code",
   "execution_count": 18,
   "metadata": {},
   "outputs": [],
   "source": [
    "data.dropna(subset = ['locality_name'], inplace=True)"
   ]
  },
  {
   "cell_type": "code",
   "execution_count": 19,
   "metadata": {
    "scrolled": true
   },
   "outputs": [
    {
     "data": {
      "text/plain": [
       "0"
      ]
     },
     "execution_count": 19,
     "metadata": {},
     "output_type": "execute_result"
    }
   ],
   "source": [
    "data['locality_name'].isnull().sum()"
   ]
  },
  {
   "cell_type": "markdown",
   "metadata": {},
   "source": [
    "Теперь приведем данные о локации к единому образцу: уберем из названий виды населенных пунктов (поселок, село) и, на всякий случай, переведем все слова в нижний регистр. \n",
    "\n",
    "Проверим, изменится ли количество наименований подсчетом уникальных значений."
   ]
  },
  {
   "cell_type": "code",
   "execution_count": 20,
   "metadata": {},
   "outputs": [
    {
     "data": {
      "text/plain": [
       "364"
      ]
     },
     "execution_count": 20,
     "metadata": {},
     "output_type": "execute_result"
    }
   ],
   "source": [
    "len(data['locality_name'].unique())"
   ]
  },
  {
   "cell_type": "code",
   "execution_count": 21,
   "metadata": {},
   "outputs": [
    {
     "data": {
      "text/plain": [
       "330"
      ]
     },
     "execution_count": 21,
     "metadata": {},
     "output_type": "execute_result"
    }
   ],
   "source": [
    "data['locality_name'] = data['locality_name'].str.replace('ё','е')\n",
    "data['locality_name'] = data['locality_name'].str.lower()\n",
    "len(data['locality_name'].unique())"
   ]
  },
  {
   "cell_type": "code",
   "execution_count": 22,
   "metadata": {},
   "outputs": [
    {
     "data": {
      "text/plain": [
       "310"
      ]
     },
     "execution_count": 22,
     "metadata": {},
     "output_type": "execute_result"
    }
   ],
   "source": [
    "data['locality_name'] = data['locality_name'].str.replace('поселок ','', regex=True)\n",
    "data['locality_name'] = data['locality_name'].str.replace('село ','', regex=True)\n",
    "data['locality_name'] = data['locality_name'].str.replace('городского типа ','', regex=True)\n",
    "data['locality_name'] = data['locality_name'].str.replace('городской ','', regex=True)\n",
    "data['locality_name'] = data['locality_name'].str.replace('коттеджный ','', regex=True)\n",
    "data['locality_name'] = data['locality_name'].str.replace('деревня ','', regex=True)\n",
    "\n",
    "len(data['locality_name'].unique())"
   ]
  },
  {
   "cell_type": "markdown",
   "metadata": {},
   "source": [
    "Проверим, какие еще типы населенных пунктов представлены в датасете. "
   ]
  },
  {
   "cell_type": "code",
   "execution_count": 23,
   "metadata": {
    "scrolled": true
   },
   "outputs": [
    {
     "data": {
      "text/plain": [
       "array(['агалатово', 'александровская', 'алексеевка', 'аннино', 'аро',\n",
       "       'барышево', 'батово', 'бегуницы', 'белогорка', 'белоостров',\n",
       "       'бокситогорск', 'большая вруда', 'большая ижора',\n",
       "       'большая пустомержа', 'большие колпаны', 'большое рейзино',\n",
       "       'большой сабск', 'бор', 'борисова грива', 'бугры', 'будогощь',\n",
       "       'ваганово', 'важины', 'вартемяги', 'вахнова кара', 'виллози',\n",
       "       'вознесенье', 'возрождение', 'войсковицы', 'войскорово',\n",
       "       'володарское', 'волосово', 'волхов', 'всеволожск', 'выборг',\n",
       "       'вырица', 'выскатка', 'высокоключевой', 'высоцк', 'гаврилово',\n",
       "       'гарболово', 'гатчина', 'гладкое', 'глажево', 'глебычево',\n",
       "       'глинка', 'гончарово', 'горбунки', 'гостилицы', 'громово',\n",
       "       'дзержинского', 'дружная горка', 'дружноселье', 'дубровка',\n",
       "       'елизаветино', 'ефимовский', 'жилгородок', 'жилпоселок', 'житково',\n",
       "       'заводской', 'заклинье', 'заневка', 'запорожское', 'зеленогорск',\n",
       "       'зимитицы', 'ивангород', 'извара', 'ильичево', 'имени морозова',\n",
       "       'имени свердлова', 'иссад', 'калитино', 'каложицы', 'кальтино',\n",
       "       'каменногорск', 'камышовка', 'каськово', 'келози',\n",
       "       'кивеннапа север', 'кикерино', 'кингисепп', 'кингисеппский',\n",
       "       'кипень', 'кириши', 'кировск', 'кирпичное', 'кисельня',\n",
       "       'кобралово', 'кобринское', 'колпино', 'колтуши', 'коммунар',\n",
       "       'коммунары', 'кондратьево', 'копорье', 'коркино', 'коробицыно',\n",
       "       'котельский', 'котлы', 'красная долина', 'красное село',\n",
       "       'красносельское', 'красный бор', 'кривко', 'кронштадт', 'кудрово',\n",
       "       'кузнечное', 'кузьмолово', 'кузьмоловский', 'курковицы',\n",
       "       'куровицы', 'куттузи', 'лаврики', 'лаголово', 'лампово', 'лебяжье',\n",
       "       'левашово', 'ленинское', 'лесколово', 'лесное', 'лесогорский',\n",
       "       'лисий нос', 'лодейное поле', 'ломоносов', 'лопухинка', 'луга',\n",
       "       'лукаши', 'лупполово', 'любань', 'малая романовка', 'малое верево',\n",
       "       'малое карлино', 'малые колпаны', 'мануйлово', 'мга', 'мельниково',\n",
       "       'меньково', 'металлострой', 'мины', 'мистолово', 'мичуринское',\n",
       "       'молодежное', 'молодцово', 'мурино', 'мыза-ивановка', 'назия',\n",
       "       'ненимяки', 'нижние осельки', 'нижняя', 'низино', 'никольский',\n",
       "       'никольское', 'новая ладога', 'новогорелово', 'новое девяткино',\n",
       "       'новолисино', 'новоселье', 'новый свет', 'новый учхоз', 'нурма',\n",
       "       'оредеж', 'оржицы', 'отрадное', 'павлово', 'павловск',\n",
       "       'пансионат зеленый бор', 'парголово', 'парицы', 'паша', 'пельгора',\n",
       "       'пеники', 'первомайское', 'перово', 'песочный', 'петергоф',\n",
       "       'петро-славянка', 'петровское', 'пижма', 'пикалево', 'пикколово',\n",
       "       'платформа 69-й километр', 'плодовое', 'плоское', 'победа',\n",
       "       'подпорожье', 'поляны', 'понтонный', 'почап', 'починок',\n",
       "       'при железнодорожной станции вещево',\n",
       "       'при железнодорожной станции приветнинское', 'пригородный',\n",
       "       'приладожский', 'приморск', 'приозерск', 'пудомяги', 'пудость',\n",
       "       'пустынка', 'путилово', 'пушкин', 'пушное', 'пчева', 'пчевжа',\n",
       "       'рабитицы', 'разбегаево', 'раздолье', 'разметелево', 'рапполово',\n",
       "       'рахья', 'реброво', 'репино', 'рождествено', 'романовка',\n",
       "       'ромашки', 'ропша', 'рощино', 'русско', 'русско-высоцкое',\n",
       "       'рябово',\n",
       "       'садоводческое некоммерческое товарищество лесная поляна',\n",
       "       'садовое товарищество новая ропша',\n",
       "       'садовое товарищество приладожский', 'садовое товарищество рахья',\n",
       "       'садовое товарищество садко', 'санкт-петербург', 'саперное',\n",
       "       'саперный', 'светогорск', 'свирьстрой', 'севастьяново',\n",
       "       'селезнево', 'сельцо', 'семиозерье', 'семрино', 'серебрянский',\n",
       "       'сертолово', 'сестрорецк', 'сиверский', 'сижно', 'синявино',\n",
       "       'сланцы', 'снегиревка', 'советский', 'совхозный', 'сосново',\n",
       "       'сосновый бор', 'станции вещево', 'станции громово',\n",
       "       'станции корнево', 'станции лужайка', 'станции приветнинское',\n",
       "       'станции свирь', 'старая', 'старая ладога', 'старая малукса',\n",
       "       'старая пустошь', 'старое хинколово', 'старополье',\n",
       "       'старосиверская', 'старые бегуницы', 'стеклянный', 'стрельна',\n",
       "       'суйда', 'сумино', 'суоранда', 'суходолье', 'счастье',\n",
       "       'сяськелево', 'сясьстрой', 'тайцы', 'тарасово', 'тельмана',\n",
       "       'терволово', 'терпилицы', 'тесово-4', 'тихвин', 'тихковицы',\n",
       "       'тойворово', 'токсово', 'торковичи', 'торосово', 'торошковичи',\n",
       "       'торфяное', 'тосно', 'трубников бор', 'углово', 'ульяновка',\n",
       "       'усть-ижора', 'усть-луга', 'ушаки', 'фалилеево', 'федоровское',\n",
       "       'форносово', 'форт красная горка', 'хапо-ое', 'хязельки',\n",
       "       'цвелодубово', 'цвылево', 'чудской бор', 'шлиссельбург',\n",
       "       'шпаньково', 'шугозеро', 'шум', 'шушары', 'щеглово', 'юкки',\n",
       "       'ялгино', 'яльгелево', 'ям-тесово', 'янино-1'], dtype=object)"
      ]
     },
     "execution_count": 23,
     "metadata": {},
     "output_type": "execute_result"
    }
   ],
   "source": [
    "data['locality_name'].sort_values().unique()"
   ]
  },
  {
   "cell_type": "code",
   "execution_count": 24,
   "metadata": {},
   "outputs": [
    {
     "data": {
      "text/plain": [
       "305"
      ]
     },
     "execution_count": 24,
     "metadata": {},
     "output_type": "execute_result"
    }
   ],
   "source": [
    "data['locality_name'] = data['locality_name'].str.replace('станции ','', regex=True)\n",
    "data['locality_name'] = data['locality_name'].str.replace('при железнодорожной ','', regex=True)\n",
    "data['locality_name'] = data['locality_name'].str.replace('товарищество ','', regex=True)\n",
    "data['locality_name'] = data['locality_name'].str.replace('садоводческое некоммерческое ','', regex=True)\n",
    "data['locality_name'] = data['locality_name'].str.replace('садовое ','', regex=True)\n",
    "\n",
    "len(data['locality_name'].unique())"
   ]
  },
  {
   "cell_type": "code",
   "execution_count": 25,
   "metadata": {},
   "outputs": [
    {
     "data": {
      "text/plain": [
       "санкт-петербург    15721\n",
       "мурино               590\n",
       "кудрово              472\n",
       "шушары               440\n",
       "всеволожск           398\n",
       "пушкин               369\n",
       "колпино              338\n",
       "парголово            327\n",
       "гатчина              307\n",
       "выборг               237\n",
       "петергоф             201\n",
       "сестрорецк           183\n",
       "красное село         178\n",
       "новое девяткино      144\n",
       "сертолово            142\n",
       "Name: locality_name, dtype: int64"
      ]
     },
     "execution_count": 25,
     "metadata": {},
     "output_type": "execute_result"
    }
   ],
   "source": [
    "data['locality_name'].value_counts().head(15)"
   ]
  },
  {
   "cell_type": "markdown",
   "metadata": {},
   "source": [
    "Количество уникальных значений уменьшилось на 59, строки, где был один и тот же населенный пункт, написанный по-разному, приведены в норму. "
   ]
  },
  {
   "cell_type": "markdown",
   "metadata": {},
   "source": [
    "Пропуски в столбце о том, сколько времени висела публикация, скорей всего говорят о том, что квартира все еще не снята с сайта и объявление действительно. Заменим их на маркер, который позволит отсечь эти значения в последующих операциях и изменим тип данных на целочисленный, поскольку встречаются значения вроде 100.0000001. "
   ]
  },
  {
   "cell_type": "code",
   "execution_count": 26,
   "metadata": {},
   "outputs": [],
   "source": [
    "data['days_exposition'] = data['days_exposition'].fillna(99999).astype('int')"
   ]
  },
  {
   "cell_type": "markdown",
   "metadata": {},
   "source": [
    "В данных об отдаленности от центра можно попытаться заполнить некоторые пустые строки, опираясь на название населенного пункта."
   ]
  },
  {
   "cell_type": "code",
   "execution_count": 27,
   "metadata": {
    "scrolled": true
   },
   "outputs": [
    {
     "data": {
      "text/plain": [
       "locality_name\n",
       "молодежное         65529.200000\n",
       "зеленогорск        54617.583333\n",
       "ломоносов          50739.969697\n",
       "кронштадт          49195.726316\n",
       "репино             43392.250000\n",
       "белоостров         38868.000000\n",
       "саперный           35854.666667\n",
       "петергоф           35468.925373\n",
       "сестрорецк         34624.480874\n",
       "щеглово            34085.000000\n",
       "павловск           33206.921053\n",
       "понтонный          32293.450000\n",
       "колпино            32113.771513\n",
       "красное село       30020.284091\n",
       "пушкин             28745.375000\n",
       "усть-ижора         28222.500000\n",
       "лисий нос          27613.333333\n",
       "металлострой       27561.348485\n",
       "александровская    27468.000000\n",
       "петро-славянка     27165.000000\n",
       "песочный           26475.250000\n",
       "левашово           25727.000000\n",
       "шушары             24243.387615\n",
       "стрельна           23376.113636\n",
       "мурино             21888.000000\n",
       "парголово          19924.776758\n",
       "санкт-петербург    11601.291571\n",
       "агалатово                   NaN\n",
       "алексеевка                  NaN\n",
       "аннино                      NaN\n",
       "Name: cityCenters_nearest, dtype: float64"
      ]
     },
     "execution_count": 27,
     "metadata": {},
     "output_type": "execute_result"
    }
   ],
   "source": [
    "center = data.groupby('locality_name')['cityCenters_nearest'].mean().sort_values(ascending=False)\n",
    "center.head(30)"
   ]
  },
  {
   "cell_type": "code",
   "execution_count": 28,
   "metadata": {},
   "outputs": [
    {
     "data": {
      "text/plain": [
       "61"
      ]
     },
     "execution_count": 28,
     "metadata": {},
     "output_type": "execute_result"
    }
   ],
   "source": [
    "spb = data.query('locality_name == \"санкт-петербург\"')\n",
    "spb['cityCenters_nearest'].isnull().sum()"
   ]
  },
  {
   "cell_type": "code",
   "execution_count": 29,
   "metadata": {
    "scrolled": true
   },
   "outputs": [
    {
     "data": {
      "text/html": [
       "<div>\n",
       "<style scoped>\n",
       "    .dataframe tbody tr th:only-of-type {\n",
       "        vertical-align: middle;\n",
       "    }\n",
       "\n",
       "    .dataframe tbody tr th {\n",
       "        vertical-align: top;\n",
       "    }\n",
       "\n",
       "    .dataframe thead th {\n",
       "        text-align: right;\n",
       "    }\n",
       "</style>\n",
       "<table border=\"1\" class=\"dataframe\">\n",
       "  <thead>\n",
       "    <tr style=\"text-align: right;\">\n",
       "      <th></th>\n",
       "      <th>total_images</th>\n",
       "      <th>last_price</th>\n",
       "      <th>total_area</th>\n",
       "      <th>first_day_exposition</th>\n",
       "      <th>rooms</th>\n",
       "      <th>ceiling_height</th>\n",
       "      <th>floors_total</th>\n",
       "      <th>living_area</th>\n",
       "      <th>floor</th>\n",
       "      <th>is_apartment</th>\n",
       "      <th>...</th>\n",
       "      <th>kitchen_area</th>\n",
       "      <th>balcony</th>\n",
       "      <th>locality_name</th>\n",
       "      <th>airports_nearest</th>\n",
       "      <th>cityCenters_nearest</th>\n",
       "      <th>parks_around3000</th>\n",
       "      <th>parks_nearest</th>\n",
       "      <th>ponds_around3000</th>\n",
       "      <th>ponds_nearest</th>\n",
       "      <th>days_exposition</th>\n",
       "    </tr>\n",
       "  </thead>\n",
       "  <tbody>\n",
       "    <tr>\n",
       "      <th>81</th>\n",
       "      <td>9</td>\n",
       "      <td>10949000.0</td>\n",
       "      <td>68.00</td>\n",
       "      <td>2018-12-27T00:00:00</td>\n",
       "      <td>1</td>\n",
       "      <td>777.0</td>\n",
       "      <td>10.0</td>\n",
       "      <td>32.735230</td>\n",
       "      <td>6</td>\n",
       "      <td>True</td>\n",
       "      <td>...</td>\n",
       "      <td>16.814004</td>\n",
       "      <td>0</td>\n",
       "      <td>санкт-петербург</td>\n",
       "      <td>NaN</td>\n",
       "      <td>NaN</td>\n",
       "      <td>NaN</td>\n",
       "      <td>NaN</td>\n",
       "      <td>NaN</td>\n",
       "      <td>NaN</td>\n",
       "      <td>99999</td>\n",
       "    </tr>\n",
       "    <tr>\n",
       "      <th>593</th>\n",
       "      <td>20</td>\n",
       "      <td>4200000.0</td>\n",
       "      <td>38.30</td>\n",
       "      <td>2019-04-16T00:00:00</td>\n",
       "      <td>1</td>\n",
       "      <td>2.6</td>\n",
       "      <td>16.0</td>\n",
       "      <td>19.800000</td>\n",
       "      <td>10</td>\n",
       "      <td>True</td>\n",
       "      <td>...</td>\n",
       "      <td>10.100000</td>\n",
       "      <td>2</td>\n",
       "      <td>санкт-петербург</td>\n",
       "      <td>NaN</td>\n",
       "      <td>NaN</td>\n",
       "      <td>NaN</td>\n",
       "      <td>NaN</td>\n",
       "      <td>NaN</td>\n",
       "      <td>NaN</td>\n",
       "      <td>99999</td>\n",
       "    </tr>\n",
       "    <tr>\n",
       "      <th>604</th>\n",
       "      <td>11</td>\n",
       "      <td>9899000.0</td>\n",
       "      <td>101.00</td>\n",
       "      <td>2018-12-12T00:00:00</td>\n",
       "      <td>3</td>\n",
       "      <td>3.0</td>\n",
       "      <td>5.0</td>\n",
       "      <td>62.000000</td>\n",
       "      <td>3</td>\n",
       "      <td>True</td>\n",
       "      <td>...</td>\n",
       "      <td>15.000000</td>\n",
       "      <td>0</td>\n",
       "      <td>санкт-петербург</td>\n",
       "      <td>NaN</td>\n",
       "      <td>NaN</td>\n",
       "      <td>NaN</td>\n",
       "      <td>NaN</td>\n",
       "      <td>NaN</td>\n",
       "      <td>NaN</td>\n",
       "      <td>99999</td>\n",
       "    </tr>\n",
       "    <tr>\n",
       "      <th>742</th>\n",
       "      <td>7</td>\n",
       "      <td>37000000.0</td>\n",
       "      <td>161.00</td>\n",
       "      <td>2016-05-22T00:00:00</td>\n",
       "      <td>3</td>\n",
       "      <td>777.0</td>\n",
       "      <td>9.0</td>\n",
       "      <td>84.000000</td>\n",
       "      <td>8</td>\n",
       "      <td>True</td>\n",
       "      <td>...</td>\n",
       "      <td>20.952055</td>\n",
       "      <td>0</td>\n",
       "      <td>санкт-петербург</td>\n",
       "      <td>NaN</td>\n",
       "      <td>NaN</td>\n",
       "      <td>NaN</td>\n",
       "      <td>NaN</td>\n",
       "      <td>NaN</td>\n",
       "      <td>NaN</td>\n",
       "      <td>402</td>\n",
       "    </tr>\n",
       "    <tr>\n",
       "      <th>795</th>\n",
       "      <td>19</td>\n",
       "      <td>7100000.0</td>\n",
       "      <td>59.60</td>\n",
       "      <td>2019-02-13T00:00:00</td>\n",
       "      <td>2</td>\n",
       "      <td>3.4</td>\n",
       "      <td>5.0</td>\n",
       "      <td>36.600000</td>\n",
       "      <td>2</td>\n",
       "      <td>True</td>\n",
       "      <td>...</td>\n",
       "      <td>12.500000</td>\n",
       "      <td>0</td>\n",
       "      <td>санкт-петербург</td>\n",
       "      <td>NaN</td>\n",
       "      <td>NaN</td>\n",
       "      <td>NaN</td>\n",
       "      <td>NaN</td>\n",
       "      <td>NaN</td>\n",
       "      <td>NaN</td>\n",
       "      <td>99999</td>\n",
       "    </tr>\n",
       "    <tr>\n",
       "      <th>...</th>\n",
       "      <td>...</td>\n",
       "      <td>...</td>\n",
       "      <td>...</td>\n",
       "      <td>...</td>\n",
       "      <td>...</td>\n",
       "      <td>...</td>\n",
       "      <td>...</td>\n",
       "      <td>...</td>\n",
       "      <td>...</td>\n",
       "      <td>...</td>\n",
       "      <td>...</td>\n",
       "      <td>...</td>\n",
       "      <td>...</td>\n",
       "      <td>...</td>\n",
       "      <td>...</td>\n",
       "      <td>...</td>\n",
       "      <td>...</td>\n",
       "      <td>...</td>\n",
       "      <td>...</td>\n",
       "      <td>...</td>\n",
       "      <td>...</td>\n",
       "    </tr>\n",
       "    <tr>\n",
       "      <th>21668</th>\n",
       "      <td>9</td>\n",
       "      <td>4500000.0</td>\n",
       "      <td>34.30</td>\n",
       "      <td>2019-03-04T00:00:00</td>\n",
       "      <td>1</td>\n",
       "      <td>777.0</td>\n",
       "      <td>9.0</td>\n",
       "      <td>17.500000</td>\n",
       "      <td>3</td>\n",
       "      <td>True</td>\n",
       "      <td>...</td>\n",
       "      <td>8.900000</td>\n",
       "      <td>1</td>\n",
       "      <td>санкт-петербург</td>\n",
       "      <td>NaN</td>\n",
       "      <td>NaN</td>\n",
       "      <td>NaN</td>\n",
       "      <td>NaN</td>\n",
       "      <td>NaN</td>\n",
       "      <td>NaN</td>\n",
       "      <td>99999</td>\n",
       "    </tr>\n",
       "    <tr>\n",
       "      <th>21881</th>\n",
       "      <td>15</td>\n",
       "      <td>44500000.0</td>\n",
       "      <td>169.00</td>\n",
       "      <td>2019-02-28T00:00:00</td>\n",
       "      <td>3</td>\n",
       "      <td>3.3</td>\n",
       "      <td>9.0</td>\n",
       "      <td>101.000000</td>\n",
       "      <td>7</td>\n",
       "      <td>True</td>\n",
       "      <td>...</td>\n",
       "      <td>18.000000</td>\n",
       "      <td>4</td>\n",
       "      <td>санкт-петербург</td>\n",
       "      <td>NaN</td>\n",
       "      <td>NaN</td>\n",
       "      <td>NaN</td>\n",
       "      <td>NaN</td>\n",
       "      <td>NaN</td>\n",
       "      <td>NaN</td>\n",
       "      <td>99999</td>\n",
       "    </tr>\n",
       "    <tr>\n",
       "      <th>21955</th>\n",
       "      <td>19</td>\n",
       "      <td>130000000.0</td>\n",
       "      <td>431.00</td>\n",
       "      <td>2017-10-02T00:00:00</td>\n",
       "      <td>7</td>\n",
       "      <td>3.7</td>\n",
       "      <td>8.0</td>\n",
       "      <td>220.000000</td>\n",
       "      <td>5</td>\n",
       "      <td>True</td>\n",
       "      <td>...</td>\n",
       "      <td>20.000000</td>\n",
       "      <td>5</td>\n",
       "      <td>санкт-петербург</td>\n",
       "      <td>NaN</td>\n",
       "      <td>NaN</td>\n",
       "      <td>NaN</td>\n",
       "      <td>NaN</td>\n",
       "      <td>NaN</td>\n",
       "      <td>NaN</td>\n",
       "      <td>161</td>\n",
       "    </tr>\n",
       "    <tr>\n",
       "      <th>22554</th>\n",
       "      <td>5</td>\n",
       "      <td>3415000.0</td>\n",
       "      <td>31.65</td>\n",
       "      <td>2019-04-16T00:00:00</td>\n",
       "      <td>1</td>\n",
       "      <td>777.0</td>\n",
       "      <td>24.0</td>\n",
       "      <td>15.236324</td>\n",
       "      <td>14</td>\n",
       "      <td>True</td>\n",
       "      <td>...</td>\n",
       "      <td>8.700000</td>\n",
       "      <td>2</td>\n",
       "      <td>санкт-петербург</td>\n",
       "      <td>NaN</td>\n",
       "      <td>NaN</td>\n",
       "      <td>NaN</td>\n",
       "      <td>NaN</td>\n",
       "      <td>NaN</td>\n",
       "      <td>NaN</td>\n",
       "      <td>99999</td>\n",
       "    </tr>\n",
       "    <tr>\n",
       "      <th>22628</th>\n",
       "      <td>8</td>\n",
       "      <td>8600000.0</td>\n",
       "      <td>74.90</td>\n",
       "      <td>2019-03-14T00:00:00</td>\n",
       "      <td>3</td>\n",
       "      <td>3.0</td>\n",
       "      <td>5.0</td>\n",
       "      <td>53.200000</td>\n",
       "      <td>4</td>\n",
       "      <td>True</td>\n",
       "      <td>...</td>\n",
       "      <td>8.000000</td>\n",
       "      <td>1</td>\n",
       "      <td>санкт-петербург</td>\n",
       "      <td>NaN</td>\n",
       "      <td>NaN</td>\n",
       "      <td>NaN</td>\n",
       "      <td>NaN</td>\n",
       "      <td>NaN</td>\n",
       "      <td>NaN</td>\n",
       "      <td>99999</td>\n",
       "    </tr>\n",
       "  </tbody>\n",
       "</table>\n",
       "<p>61 rows × 22 columns</p>\n",
       "</div>"
      ],
      "text/plain": [
       "       total_images   last_price  total_area first_day_exposition  rooms  \\\n",
       "81                9   10949000.0       68.00  2018-12-27T00:00:00      1   \n",
       "593              20    4200000.0       38.30  2019-04-16T00:00:00      1   \n",
       "604              11    9899000.0      101.00  2018-12-12T00:00:00      3   \n",
       "742               7   37000000.0      161.00  2016-05-22T00:00:00      3   \n",
       "795              19    7100000.0       59.60  2019-02-13T00:00:00      2   \n",
       "...             ...          ...         ...                  ...    ...   \n",
       "21668             9    4500000.0       34.30  2019-03-04T00:00:00      1   \n",
       "21881            15   44500000.0      169.00  2019-02-28T00:00:00      3   \n",
       "21955            19  130000000.0      431.00  2017-10-02T00:00:00      7   \n",
       "22554             5    3415000.0       31.65  2019-04-16T00:00:00      1   \n",
       "22628             8    8600000.0       74.90  2019-03-14T00:00:00      3   \n",
       "\n",
       "       ceiling_height  floors_total  living_area  floor  is_apartment  ...  \\\n",
       "81              777.0          10.0    32.735230      6          True  ...   \n",
       "593               2.6          16.0    19.800000     10          True  ...   \n",
       "604               3.0           5.0    62.000000      3          True  ...   \n",
       "742             777.0           9.0    84.000000      8          True  ...   \n",
       "795               3.4           5.0    36.600000      2          True  ...   \n",
       "...               ...           ...          ...    ...           ...  ...   \n",
       "21668           777.0           9.0    17.500000      3          True  ...   \n",
       "21881             3.3           9.0   101.000000      7          True  ...   \n",
       "21955             3.7           8.0   220.000000      5          True  ...   \n",
       "22554           777.0          24.0    15.236324     14          True  ...   \n",
       "22628             3.0           5.0    53.200000      4          True  ...   \n",
       "\n",
       "       kitchen_area  balcony    locality_name  airports_nearest  \\\n",
       "81        16.814004        0  санкт-петербург               NaN   \n",
       "593       10.100000        2  санкт-петербург               NaN   \n",
       "604       15.000000        0  санкт-петербург               NaN   \n",
       "742       20.952055        0  санкт-петербург               NaN   \n",
       "795       12.500000        0  санкт-петербург               NaN   \n",
       "...             ...      ...              ...               ...   \n",
       "21668      8.900000        1  санкт-петербург               NaN   \n",
       "21881     18.000000        4  санкт-петербург               NaN   \n",
       "21955     20.000000        5  санкт-петербург               NaN   \n",
       "22554      8.700000        2  санкт-петербург               NaN   \n",
       "22628      8.000000        1  санкт-петербург               NaN   \n",
       "\n",
       "      cityCenters_nearest  parks_around3000  parks_nearest  ponds_around3000  \\\n",
       "81                    NaN               NaN            NaN               NaN   \n",
       "593                   NaN               NaN            NaN               NaN   \n",
       "604                   NaN               NaN            NaN               NaN   \n",
       "742                   NaN               NaN            NaN               NaN   \n",
       "795                   NaN               NaN            NaN               NaN   \n",
       "...                   ...               ...            ...               ...   \n",
       "21668                 NaN               NaN            NaN               NaN   \n",
       "21881                 NaN               NaN            NaN               NaN   \n",
       "21955                 NaN               NaN            NaN               NaN   \n",
       "22554                 NaN               NaN            NaN               NaN   \n",
       "22628                 NaN               NaN            NaN               NaN   \n",
       "\n",
       "       ponds_nearest  days_exposition  \n",
       "81               NaN            99999  \n",
       "593              NaN            99999  \n",
       "604              NaN            99999  \n",
       "742              NaN              402  \n",
       "795              NaN            99999  \n",
       "...              ...              ...  \n",
       "21668            NaN            99999  \n",
       "21881            NaN            99999  \n",
       "21955            NaN              161  \n",
       "22554            NaN            99999  \n",
       "22628            NaN            99999  \n",
       "\n",
       "[61 rows x 22 columns]"
      ]
     },
     "execution_count": 29,
     "metadata": {},
     "output_type": "execute_result"
    }
   ],
   "source": [
    "nan = data.loc[data['cityCenters_nearest'].isna() & data['airports_nearest'].isna()]\n",
    "nan.query('locality_name == \"санкт-петербург\"')"
   ]
  },
  {
   "cell_type": "markdown",
   "metadata": {},
   "source": [
    "Во всех строках по Санкт-Петербургу, где присутствуют пропуски в значениях об удаленности от центра, также в наличии пропуски по отдаленности от аэропорта, поэтому по этой категории мы не сможем заполнить недостающие значения."
   ]
  },
  {
   "cell_type": "markdown",
   "metadata": {},
   "source": [
    "Так как пропусков всего 61, заменим их на среднее значение из *center*, чтобы в городской черте у нас не было пропущенных значений для дальнейшего анализа. "
   ]
  },
  {
   "cell_type": "code",
   "execution_count": 30,
   "metadata": {},
   "outputs": [],
   "source": [
    "data.loc[data['locality_name'] == 'санкт-петербург', 'cityCenters_nearest'] = \\\n",
    "    data.loc[data['locality_name'] == 'санкт-петербург', 'cityCenters_nearest'].fillna(11601)"
   ]
  },
  {
   "cell_type": "code",
   "execution_count": 31,
   "metadata": {},
   "outputs": [
    {
     "data": {
      "text/plain": [
       "0"
      ]
     },
     "execution_count": 31,
     "metadata": {},
     "output_type": "execute_result"
    }
   ],
   "source": [
    "data.loc[data['locality_name'] == 'санкт-петербург', 'cityCenters_nearest'].isnull().sum()"
   ]
  },
  {
   "cell_type": "markdown",
   "metadata": {},
   "source": [
    "На всякий случай проверим максимальное значение, чтобы удостовериться, что пропуски заполены правильно. "
   ]
  },
  {
   "cell_type": "code",
   "execution_count": 32,
   "metadata": {},
   "outputs": [
    {
     "data": {
      "text/plain": [
       "29493.0"
      ]
     },
     "execution_count": 32,
     "metadata": {},
     "output_type": "execute_result"
    }
   ],
   "source": [
    "data.loc[data['locality_name'] == 'санкт-петербург', 'cityCenters_nearest'].max()"
   ]
  },
  {
   "cell_type": "markdown",
   "metadata": {},
   "source": [
    "Попытаемся проверить только те населенные пункты, где количество объявлений превышает 400. Так, например, таблица содержит 590 строк с локацией \"мурино\", из них только две имеют значения (одинаковые) в параметре *cityCenters_nearest*. Мы можем заменить пропуски в остальных строках числом *21888*."
   ]
  },
  {
   "cell_type": "code",
   "execution_count": 33,
   "metadata": {
    "scrolled": false
   },
   "outputs": [
    {
     "data": {
      "text/plain": [
       "21888.0    2\n",
       "Name: cityCenters_nearest, dtype: int64"
      ]
     },
     "execution_count": 33,
     "metadata": {},
     "output_type": "execute_result"
    }
   ],
   "source": [
    "murino = data.query('locality_name == \"мурино\"')\n",
    "murino['cityCenters_nearest'].value_counts()"
   ]
  },
  {
   "cell_type": "code",
   "execution_count": 34,
   "metadata": {},
   "outputs": [
    {
     "data": {
      "text/plain": [
       "total_images                             20\n",
       "last_price                        2900000.0\n",
       "total_area                            33.16\n",
       "first_day_exposition    2018-05-23T00:00:00\n",
       "rooms                                     1\n",
       "ceiling_height                        777.0\n",
       "floors_total                           27.0\n",
       "living_area                           15.43\n",
       "floor                                    26\n",
       "is_apartment                           True\n",
       "studio                                False\n",
       "open_plan                             False\n",
       "kitchen_area                           8.81\n",
       "balcony                                   0\n",
       "locality_name                        мурино\n",
       "airports_nearest                        NaN\n",
       "cityCenters_nearest                 21888.0\n",
       "parks_around3000                        NaN\n",
       "parks_nearest                           NaN\n",
       "ponds_around3000                        NaN\n",
       "ponds_nearest                           NaN\n",
       "days_exposition                         189\n",
       "Name: 8, dtype: object"
      ]
     },
     "execution_count": 34,
     "metadata": {},
     "output_type": "execute_result"
    }
   ],
   "source": [
    "data.loc[data['locality_name'] == 'мурино', 'cityCenters_nearest'] = 21888\n",
    "data.loc[8]"
   ]
  },
  {
   "cell_type": "code",
   "execution_count": 35,
   "metadata": {},
   "outputs": [
    {
     "data": {
      "text/plain": [
       "array([nan])"
      ]
     },
     "execution_count": 35,
     "metadata": {},
     "output_type": "execute_result"
    }
   ],
   "source": [
    "kudrovo = data.query('locality_name == \"кудрово\"')\n",
    "kudrovo['cityCenters_nearest'].unique()"
   ]
  },
  {
   "cell_type": "markdown",
   "metadata": {},
   "source": [
    "Данные о Кудрово нам назменить нечем. \n",
    "\n",
    "Удаленность от центра Спб до квартир в Шушарах варьируется от 16 км до 32 км. Пропуски можно заполнить средним из *center* выше."
   ]
  },
  {
   "cell_type": "code",
   "execution_count": 36,
   "metadata": {
    "scrolled": true
   },
   "outputs": [
    {
     "data": {
      "text/plain": [
       "array([18603., 18883., 18217., 30245., 24272., 30317., 17763., 17411.,\n",
       "       31151., 23844., 17790., 17891., 29236., 24211., 29936., 18105.,\n",
       "       18203.,    nan, 18626., 29846., 19694., 29006., 19247., 30899.,\n",
       "       29237., 29601., 30999., 19717., 18465., 17642., 30296., 17725.,\n",
       "       18044., 17231., 24148., 29646., 23688., 17424., 30523., 31582.,\n",
       "       24920., 24838., 30252., 29377., 24055., 28985., 29448., 17916.,\n",
       "       31262., 23689., 30519., 31429., 29604., 31370., 30368., 29672.,\n",
       "       29754., 19265., 31092., 30142., 24165., 24456., 18791., 30458.,\n",
       "       30765., 31357., 29713., 31491., 18312., 23553., 28984., 30200.,\n",
       "       24213., 19242., 31455., 24586., 24885., 31150., 31021., 18251.,\n",
       "       24344., 30724., 17017., 17440., 30962., 28963., 31095., 17829.,\n",
       "       29837., 30912., 29272., 30563., 18434., 24775., 29367., 29582.,\n",
       "       18699., 18011., 30604., 31295., 29378., 30800., 29176., 17778.,\n",
       "       27574., 30836., 30997., 31459., 18520., 29401., 30593., 29368.,\n",
       "       29341., 31060., 17568., 17777., 17981., 31388., 17791., 24308.,\n",
       "       31216., 17525., 18188., 30216., 30888., 24302., 30905., 24701.,\n",
       "       24768., 30772., 17465., 30143., 30034., 30227., 18521., 31497.,\n",
       "       31477., 31213., 18016., 30277., 17369., 29107., 30351., 30381.,\n",
       "       18376., 30835., 17966., 18718., 30205., 31730., 18268., 29946.,\n",
       "       29076., 24247., 31287., 31604., 31135., 18126., 30514., 30383.,\n",
       "       32079., 17012., 22597., 30913., 18225., 29563., 18366., 17329.,\n",
       "       17675., 17477., 18953., 29910., 29847., 29579., 31274., 31602.,\n",
       "       29539., 31988., 23737., 17521., 31458., 30047., 23760., 30463.,\n",
       "       17740., 30802., 24172.])"
      ]
     },
     "execution_count": 36,
     "metadata": {},
     "output_type": "execute_result"
    }
   ],
   "source": [
    "shushari = data.query('locality_name == \"шушары\"')\n",
    "shushari['cityCenters_nearest'].unique()"
   ]
  },
  {
   "cell_type": "code",
   "execution_count": 37,
   "metadata": {},
   "outputs": [],
   "source": [
    "data.loc[data['locality_name'] == 'шушары', 'cityCenters_nearest'] = \\\n",
    "    data.loc[data['locality_name'] == 'шушары', 'cityCenters_nearest'].fillna(24243)"
   ]
  },
  {
   "cell_type": "code",
   "execution_count": 38,
   "metadata": {},
   "outputs": [
    {
     "data": {
      "text/plain": [
       "32079.0"
      ]
     },
     "execution_count": 38,
     "metadata": {},
     "output_type": "execute_result"
    }
   ],
   "source": [
    "data.loc[data['locality_name'] == 'шушары', 'cityCenters_nearest'].max()"
   ]
  },
  {
   "cell_type": "code",
   "execution_count": 39,
   "metadata": {},
   "outputs": [
    {
     "data": {
      "text/plain": [
       "0"
      ]
     },
     "execution_count": 39,
     "metadata": {},
     "output_type": "execute_result"
    }
   ],
   "source": [
    "data.loc[data['locality_name'] == 'шушары', 'cityCenters_nearest'].isnull().sum()"
   ]
  },
  {
   "cell_type": "markdown",
   "metadata": {},
   "source": [
    "Остальные заменим нереалистичным маркером. "
   ]
  },
  {
   "cell_type": "code",
   "execution_count": 40,
   "metadata": {
    "scrolled": true
   },
   "outputs": [],
   "source": [
    "data['cityCenters_nearest'] = data['cityCenters_nearest'].fillna(5555555)"
   ]
  },
  {
   "cell_type": "markdown",
   "metadata": {},
   "source": [
    "Выведем рандомную контрольную строку. "
   ]
  },
  {
   "cell_type": "code",
   "execution_count": 41,
   "metadata": {
    "scrolled": true
   },
   "outputs": [
    {
     "data": {
      "text/plain": [
       "total_images                              8\n",
       "last_price                        4170000.0\n",
       "total_area                             44.0\n",
       "first_day_exposition    2017-12-13T00:00:00\n",
       "rooms                                     1\n",
       "ceiling_height                          2.9\n",
       "floors_total                            6.0\n",
       "living_area                            20.8\n",
       "floor                                     1\n",
       "is_apartment                           True\n",
       "studio                                False\n",
       "open_plan                             False\n",
       "kitchen_area                           11.7\n",
       "balcony                                   1\n",
       "locality_name                        пушкин\n",
       "airports_nearest                    18557.0\n",
       "cityCenters_nearest                 30710.0\n",
       "parks_around3000                        0.0\n",
       "parks_nearest                           NaN\n",
       "ponds_around3000                        1.0\n",
       "ponds_nearest                         118.0\n",
       "days_exposition                          74\n",
       "Name: 28, dtype: object"
      ]
     },
     "execution_count": 41,
     "metadata": {},
     "output_type": "execute_result"
    }
   ],
   "source": [
    "data.loc[28]"
   ]
  },
  {
   "cell_type": "markdown",
   "metadata": {},
   "source": [
    "Данные об общей этажности зданий отсутствуют в 86 строках, которые можно удалить."
   ]
  },
  {
   "cell_type": "code",
   "execution_count": 42,
   "metadata": {},
   "outputs": [
    {
     "name": "stdout",
     "output_type": "stream",
     "text": [
      "<class 'pandas.core.frame.DataFrame'>\n",
      "Int64Index: 23565 entries, 0 to 23698\n",
      "Data columns (total 22 columns):\n",
      " #   Column                Non-Null Count  Dtype  \n",
      "---  ------                --------------  -----  \n",
      " 0   total_images          23565 non-null  int64  \n",
      " 1   last_price            23565 non-null  float64\n",
      " 2   total_area            23565 non-null  float64\n",
      " 3   first_day_exposition  23565 non-null  object \n",
      " 4   rooms                 23565 non-null  int64  \n",
      " 5   ceiling_height        23565 non-null  float64\n",
      " 6   floors_total          23565 non-null  float64\n",
      " 7   living_area           23565 non-null  float64\n",
      " 8   floor                 23565 non-null  int64  \n",
      " 9   is_apartment          23565 non-null  bool   \n",
      " 10  studio                23565 non-null  bool   \n",
      " 11  open_plan             23565 non-null  bool   \n",
      " 12  kitchen_area          23565 non-null  float64\n",
      " 13  balcony               23565 non-null  int64  \n",
      " 14  locality_name         23565 non-null  object \n",
      " 15  airports_nearest      18041 non-null  float64\n",
      " 16  cityCenters_nearest   23565 non-null  float64\n",
      " 17  parks_around3000      18065 non-null  float64\n",
      " 18  parks_nearest         8030 non-null   float64\n",
      " 19  ponds_around3000      18065 non-null  float64\n",
      " 20  ponds_nearest         9036 non-null   float64\n",
      " 21  days_exposition       23565 non-null  int32  \n",
      "dtypes: bool(3), float64(12), int32(1), int64(4), object(2)\n",
      "memory usage: 3.6+ MB\n"
     ]
    }
   ],
   "source": [
    "data.dropna(subset = ['floors_total'], inplace=True)\n",
    "data.info()"
   ]
  },
  {
   "cell_type": "markdown",
   "metadata": {},
   "source": [
    "Близость к аэропорту, парку или наличие пруда рядом не являются важными для анализа категориями, поэтому их можно оставить без изменений или заменить на нулевые (касательно парков и прудов) или по локации (относительно аэропортов)."
   ]
  },
  {
   "cell_type": "markdown",
   "metadata": {},
   "source": [
    "На всякий случай проверим, нет ли дублирующихся строк. "
   ]
  },
  {
   "cell_type": "code",
   "execution_count": 43,
   "metadata": {},
   "outputs": [
    {
     "data": {
      "text/plain": [
       "0"
      ]
     },
     "execution_count": 43,
     "metadata": {},
     "output_type": "execute_result"
    }
   ],
   "source": [
    "data.duplicated().sum()"
   ]
  },
  {
   "cell_type": "markdown",
   "metadata": {},
   "source": [
    "### Замена типов данных"
   ]
  },
  {
   "cell_type": "markdown",
   "metadata": {},
   "source": [
    "Мы уже заменили некоторые значения на более удобные в плане расчетов: количество балконов и длительность размещения объявления привели к целочисленным. "
   ]
  },
  {
   "cell_type": "code",
   "execution_count": 44,
   "metadata": {
    "scrolled": true
   },
   "outputs": [
    {
     "data": {
      "text/html": [
       "<div>\n",
       "<style scoped>\n",
       "    .dataframe tbody tr th:only-of-type {\n",
       "        vertical-align: middle;\n",
       "    }\n",
       "\n",
       "    .dataframe tbody tr th {\n",
       "        vertical-align: top;\n",
       "    }\n",
       "\n",
       "    .dataframe thead th {\n",
       "        text-align: right;\n",
       "    }\n",
       "</style>\n",
       "<table border=\"1\" class=\"dataframe\">\n",
       "  <thead>\n",
       "    <tr style=\"text-align: right;\">\n",
       "      <th></th>\n",
       "      <th>total_images</th>\n",
       "      <th>last_price</th>\n",
       "      <th>total_area</th>\n",
       "      <th>first_day_exposition</th>\n",
       "      <th>rooms</th>\n",
       "      <th>ceiling_height</th>\n",
       "      <th>floors_total</th>\n",
       "      <th>living_area</th>\n",
       "      <th>floor</th>\n",
       "      <th>is_apartment</th>\n",
       "      <th>...</th>\n",
       "      <th>kitchen_area</th>\n",
       "      <th>balcony</th>\n",
       "      <th>locality_name</th>\n",
       "      <th>airports_nearest</th>\n",
       "      <th>cityCenters_nearest</th>\n",
       "      <th>parks_around3000</th>\n",
       "      <th>parks_nearest</th>\n",
       "      <th>ponds_around3000</th>\n",
       "      <th>ponds_nearest</th>\n",
       "      <th>days_exposition</th>\n",
       "    </tr>\n",
       "  </thead>\n",
       "  <tbody>\n",
       "    <tr>\n",
       "      <th>0</th>\n",
       "      <td>20</td>\n",
       "      <td>13000000.0</td>\n",
       "      <td>108.0</td>\n",
       "      <td>2019-03-07T00:00:00</td>\n",
       "      <td>3</td>\n",
       "      <td>2.70</td>\n",
       "      <td>16.0</td>\n",
       "      <td>51.000000</td>\n",
       "      <td>8</td>\n",
       "      <td>True</td>\n",
       "      <td>...</td>\n",
       "      <td>25.000000</td>\n",
       "      <td>0</td>\n",
       "      <td>санкт-петербург</td>\n",
       "      <td>18863.0</td>\n",
       "      <td>16028.0</td>\n",
       "      <td>1.0</td>\n",
       "      <td>482.0</td>\n",
       "      <td>2.0</td>\n",
       "      <td>755.0</td>\n",
       "      <td>99999</td>\n",
       "    </tr>\n",
       "    <tr>\n",
       "      <th>1</th>\n",
       "      <td>7</td>\n",
       "      <td>3350000.0</td>\n",
       "      <td>40.4</td>\n",
       "      <td>2018-12-04T00:00:00</td>\n",
       "      <td>1</td>\n",
       "      <td>777.00</td>\n",
       "      <td>11.0</td>\n",
       "      <td>18.600000</td>\n",
       "      <td>1</td>\n",
       "      <td>True</td>\n",
       "      <td>...</td>\n",
       "      <td>11.000000</td>\n",
       "      <td>2</td>\n",
       "      <td>шушары</td>\n",
       "      <td>12817.0</td>\n",
       "      <td>18603.0</td>\n",
       "      <td>0.0</td>\n",
       "      <td>NaN</td>\n",
       "      <td>0.0</td>\n",
       "      <td>NaN</td>\n",
       "      <td>81</td>\n",
       "    </tr>\n",
       "    <tr>\n",
       "      <th>2</th>\n",
       "      <td>10</td>\n",
       "      <td>5196000.0</td>\n",
       "      <td>56.0</td>\n",
       "      <td>2015-08-20T00:00:00</td>\n",
       "      <td>2</td>\n",
       "      <td>777.00</td>\n",
       "      <td>5.0</td>\n",
       "      <td>34.300000</td>\n",
       "      <td>4</td>\n",
       "      <td>True</td>\n",
       "      <td>...</td>\n",
       "      <td>8.300000</td>\n",
       "      <td>0</td>\n",
       "      <td>санкт-петербург</td>\n",
       "      <td>21741.0</td>\n",
       "      <td>13933.0</td>\n",
       "      <td>1.0</td>\n",
       "      <td>90.0</td>\n",
       "      <td>2.0</td>\n",
       "      <td>574.0</td>\n",
       "      <td>558</td>\n",
       "    </tr>\n",
       "    <tr>\n",
       "      <th>3</th>\n",
       "      <td>0</td>\n",
       "      <td>64900000.0</td>\n",
       "      <td>159.0</td>\n",
       "      <td>2015-07-24T00:00:00</td>\n",
       "      <td>3</td>\n",
       "      <td>777.00</td>\n",
       "      <td>14.0</td>\n",
       "      <td>98.013699</td>\n",
       "      <td>9</td>\n",
       "      <td>True</td>\n",
       "      <td>...</td>\n",
       "      <td>20.691781</td>\n",
       "      <td>0</td>\n",
       "      <td>санкт-петербург</td>\n",
       "      <td>28098.0</td>\n",
       "      <td>6800.0</td>\n",
       "      <td>2.0</td>\n",
       "      <td>84.0</td>\n",
       "      <td>3.0</td>\n",
       "      <td>234.0</td>\n",
       "      <td>424</td>\n",
       "    </tr>\n",
       "    <tr>\n",
       "      <th>4</th>\n",
       "      <td>2</td>\n",
       "      <td>10000000.0</td>\n",
       "      <td>100.0</td>\n",
       "      <td>2018-06-19T00:00:00</td>\n",
       "      <td>2</td>\n",
       "      <td>3.03</td>\n",
       "      <td>14.0</td>\n",
       "      <td>32.000000</td>\n",
       "      <td>13</td>\n",
       "      <td>True</td>\n",
       "      <td>...</td>\n",
       "      <td>41.000000</td>\n",
       "      <td>0</td>\n",
       "      <td>санкт-петербург</td>\n",
       "      <td>31856.0</td>\n",
       "      <td>8098.0</td>\n",
       "      <td>2.0</td>\n",
       "      <td>112.0</td>\n",
       "      <td>1.0</td>\n",
       "      <td>48.0</td>\n",
       "      <td>121</td>\n",
       "    </tr>\n",
       "  </tbody>\n",
       "</table>\n",
       "<p>5 rows × 22 columns</p>\n",
       "</div>"
      ],
      "text/plain": [
       "   total_images  last_price  total_area first_day_exposition  rooms  \\\n",
       "0            20  13000000.0       108.0  2019-03-07T00:00:00      3   \n",
       "1             7   3350000.0        40.4  2018-12-04T00:00:00      1   \n",
       "2            10   5196000.0        56.0  2015-08-20T00:00:00      2   \n",
       "3             0  64900000.0       159.0  2015-07-24T00:00:00      3   \n",
       "4             2  10000000.0       100.0  2018-06-19T00:00:00      2   \n",
       "\n",
       "   ceiling_height  floors_total  living_area  floor  is_apartment  ...  \\\n",
       "0            2.70          16.0    51.000000      8          True  ...   \n",
       "1          777.00          11.0    18.600000      1          True  ...   \n",
       "2          777.00           5.0    34.300000      4          True  ...   \n",
       "3          777.00          14.0    98.013699      9          True  ...   \n",
       "4            3.03          14.0    32.000000     13          True  ...   \n",
       "\n",
       "   kitchen_area  balcony    locality_name  airports_nearest  \\\n",
       "0     25.000000        0  санкт-петербург           18863.0   \n",
       "1     11.000000        2           шушары           12817.0   \n",
       "2      8.300000        0  санкт-петербург           21741.0   \n",
       "3     20.691781        0  санкт-петербург           28098.0   \n",
       "4     41.000000        0  санкт-петербург           31856.0   \n",
       "\n",
       "  cityCenters_nearest  parks_around3000  parks_nearest  ponds_around3000  \\\n",
       "0             16028.0               1.0          482.0               2.0   \n",
       "1             18603.0               0.0            NaN               0.0   \n",
       "2             13933.0               1.0           90.0               2.0   \n",
       "3              6800.0               2.0           84.0               3.0   \n",
       "4              8098.0               2.0          112.0               1.0   \n",
       "\n",
       "   ponds_nearest  days_exposition  \n",
       "0          755.0            99999  \n",
       "1            NaN               81  \n",
       "2          574.0              558  \n",
       "3          234.0              424  \n",
       "4           48.0              121  \n",
       "\n",
       "[5 rows x 22 columns]"
      ]
     },
     "execution_count": 44,
     "metadata": {},
     "output_type": "execute_result"
    }
   ],
   "source": [
    "data.head()"
   ]
  },
  {
   "cell_type": "markdown",
   "metadata": {},
   "source": [
    "Также заменим данные об общей этажности зданий, цене, общей и жилой площади, площади кухни и расположенности от центра на целочисленный тип для удобства вычислений, расчета стоимости квадратного метра и для того, чтобы нивелировать последствия заполенения пропусков. "
   ]
  },
  {
   "cell_type": "code",
   "execution_count": 45,
   "metadata": {
    "scrolled": true
   },
   "outputs": [
    {
     "data": {
      "text/plain": [
       "total_images                              0\n",
       "last_price                         64900000\n",
       "total_area                              159\n",
       "first_day_exposition    2015-07-24T00:00:00\n",
       "rooms                                     3\n",
       "ceiling_height                        777.0\n",
       "floors_total                             14\n",
       "living_area                              98\n",
       "floor                                     9\n",
       "is_apartment                           True\n",
       "studio                                False\n",
       "open_plan                             False\n",
       "kitchen_area                             20\n",
       "balcony                                   0\n",
       "locality_name               санкт-петербург\n",
       "airports_nearest                    28098.0\n",
       "cityCenters_nearest                  6800.0\n",
       "parks_around3000                        2.0\n",
       "parks_nearest                          84.0\n",
       "ponds_around3000                        3.0\n",
       "ponds_nearest                         234.0\n",
       "days_exposition                         424\n",
       "Name: 3, dtype: object"
      ]
     },
     "execution_count": 45,
     "metadata": {},
     "output_type": "execute_result"
    }
   ],
   "source": [
    "data['last_price'] = data['last_price'].astype('int')\n",
    "data['total_area'] = data['total_area'].astype('int')\n",
    "data['living_area'] = data['living_area'].astype('int')\n",
    "data['kitchen_area'] = data['kitchen_area'].astype('int')\n",
    "data['floors_total'] = data['floors_total'].astype('int')\n",
    "\n",
    "data.loc[3]"
   ]
  },
  {
   "cell_type": "markdown",
   "metadata": {},
   "source": [
    "К строковым значениям в столбце с датой размещения объявления необходимо применить метод *to_datetime*"
   ]
  },
  {
   "cell_type": "code",
   "execution_count": 46,
   "metadata": {
    "scrolled": true
   },
   "outputs": [
    {
     "data": {
      "text/html": [
       "<div>\n",
       "<style scoped>\n",
       "    .dataframe tbody tr th:only-of-type {\n",
       "        vertical-align: middle;\n",
       "    }\n",
       "\n",
       "    .dataframe tbody tr th {\n",
       "        vertical-align: top;\n",
       "    }\n",
       "\n",
       "    .dataframe thead th {\n",
       "        text-align: right;\n",
       "    }\n",
       "</style>\n",
       "<table border=\"1\" class=\"dataframe\">\n",
       "  <thead>\n",
       "    <tr style=\"text-align: right;\">\n",
       "      <th></th>\n",
       "      <th>total_images</th>\n",
       "      <th>last_price</th>\n",
       "      <th>total_area</th>\n",
       "      <th>first_day_exposition</th>\n",
       "      <th>rooms</th>\n",
       "      <th>ceiling_height</th>\n",
       "      <th>floors_total</th>\n",
       "      <th>living_area</th>\n",
       "      <th>floor</th>\n",
       "      <th>is_apartment</th>\n",
       "      <th>...</th>\n",
       "      <th>kitchen_area</th>\n",
       "      <th>balcony</th>\n",
       "      <th>locality_name</th>\n",
       "      <th>airports_nearest</th>\n",
       "      <th>cityCenters_nearest</th>\n",
       "      <th>parks_around3000</th>\n",
       "      <th>parks_nearest</th>\n",
       "      <th>ponds_around3000</th>\n",
       "      <th>ponds_nearest</th>\n",
       "      <th>days_exposition</th>\n",
       "    </tr>\n",
       "  </thead>\n",
       "  <tbody>\n",
       "    <tr>\n",
       "      <th>0</th>\n",
       "      <td>20</td>\n",
       "      <td>13000000</td>\n",
       "      <td>108</td>\n",
       "      <td>2019-03-07</td>\n",
       "      <td>3</td>\n",
       "      <td>2.7</td>\n",
       "      <td>16</td>\n",
       "      <td>51</td>\n",
       "      <td>8</td>\n",
       "      <td>True</td>\n",
       "      <td>...</td>\n",
       "      <td>25</td>\n",
       "      <td>0</td>\n",
       "      <td>санкт-петербург</td>\n",
       "      <td>18863.0</td>\n",
       "      <td>16028.0</td>\n",
       "      <td>1.0</td>\n",
       "      <td>482.0</td>\n",
       "      <td>2.0</td>\n",
       "      <td>755.0</td>\n",
       "      <td>99999</td>\n",
       "    </tr>\n",
       "  </tbody>\n",
       "</table>\n",
       "<p>1 rows × 22 columns</p>\n",
       "</div>"
      ],
      "text/plain": [
       "   total_images  last_price  total_area first_day_exposition  rooms  \\\n",
       "0            20    13000000         108           2019-03-07      3   \n",
       "\n",
       "   ceiling_height  floors_total  living_area  floor  is_apartment  ...  \\\n",
       "0             2.7            16           51      8          True  ...   \n",
       "\n",
       "   kitchen_area  balcony    locality_name  airports_nearest  \\\n",
       "0            25        0  санкт-петербург           18863.0   \n",
       "\n",
       "  cityCenters_nearest  parks_around3000  parks_nearest  ponds_around3000  \\\n",
       "0             16028.0               1.0          482.0               2.0   \n",
       "\n",
       "   ponds_nearest  days_exposition  \n",
       "0          755.0            99999  \n",
       "\n",
       "[1 rows x 22 columns]"
      ]
     },
     "execution_count": 46,
     "metadata": {},
     "output_type": "execute_result"
    }
   ],
   "source": [
    "data['first_day_exposition'] = pd.to_datetime(data['first_day_exposition'], format='%Y-%m-%dT%H:%M:%S')\n",
    "data.head(1)"
   ]
  },
  {
   "cell_type": "markdown",
   "metadata": {},
   "source": [
    "***Вывод***"
   ]
  },
  {
   "cell_type": "markdown",
   "metadata": {},
   "source": [
    "Пропуски были либо удалены (в случае, если их количество критически не меняло размер датасета), либо заменены на маркеры, которые впоследствии будут удалены при расчете конкретных параметров без особого вреда для качества данных, либо оставлены без изменений (в тех случаях, когда значения не влияют на дальнейшее исследование или их нельзя заменить, не имея других значений в таблице). \n",
    "\n",
    "Мы заполнили все необходимые нам для исследования столбцы и заменили типы данных, которые пригодятся нам далее. Пропуски могут быть обусловлены несколькими причинами. Поскольку часть из них заполнялась самими пользователями, некоторые данные могли быть не введены, поскольку человек либо не знал (например, с площадью кухни или жилой зоны, количеством этажей в доме, высотой потолков), либо не посчитал нужным указывать в виду отсутствия (наличие балкона или статус апартаментов). Другие данные заполнялись автоматически картографической системой. Здесь наличие пропусков можно объяснить тем, что квартиры расположены слишком далеко от центра/аэропорта, чтобы учитывать этот параметр, а парков и прудов по близости не находится. Некоторые данные могли быть пропущены случайно.  "
   ]
  },
  {
   "cell_type": "markdown",
   "metadata": {},
   "source": [
    "## Расчёты и добавление результатов в таблицу"
   ]
  },
  {
   "cell_type": "markdown",
   "metadata": {},
   "source": [
    "**Расчет стоимости квадратного метра**"
   ]
  },
  {
   "cell_type": "markdown",
   "metadata": {},
   "source": [
    "Посчитаем цену за квадратный метр; соотношение жилой площади и площади кухни к общей, а также кухни к жилой; дату публикации объявления по дням недели, месяцам и годам; объединим этаже по категориям: первый, последний, другой и добавим все результаты в общую таблицу. "
   ]
  },
  {
   "cell_type": "code",
   "execution_count": 47,
   "metadata": {
    "scrolled": false
   },
   "outputs": [
    {
     "data": {
      "text/html": [
       "<div>\n",
       "<style scoped>\n",
       "    .dataframe tbody tr th:only-of-type {\n",
       "        vertical-align: middle;\n",
       "    }\n",
       "\n",
       "    .dataframe tbody tr th {\n",
       "        vertical-align: top;\n",
       "    }\n",
       "\n",
       "    .dataframe thead th {\n",
       "        text-align: right;\n",
       "    }\n",
       "</style>\n",
       "<table border=\"1\" class=\"dataframe\">\n",
       "  <thead>\n",
       "    <tr style=\"text-align: right;\">\n",
       "      <th></th>\n",
       "      <th>total_images</th>\n",
       "      <th>last_price</th>\n",
       "      <th>total_area</th>\n",
       "      <th>first_day_exposition</th>\n",
       "      <th>rooms</th>\n",
       "      <th>ceiling_height</th>\n",
       "      <th>floors_total</th>\n",
       "      <th>living_area</th>\n",
       "      <th>floor</th>\n",
       "      <th>is_apartment</th>\n",
       "      <th>...</th>\n",
       "      <th>balcony</th>\n",
       "      <th>locality_name</th>\n",
       "      <th>airports_nearest</th>\n",
       "      <th>cityCenters_nearest</th>\n",
       "      <th>parks_around3000</th>\n",
       "      <th>parks_nearest</th>\n",
       "      <th>ponds_around3000</th>\n",
       "      <th>ponds_nearest</th>\n",
       "      <th>days_exposition</th>\n",
       "      <th>price_per_metre</th>\n",
       "    </tr>\n",
       "  </thead>\n",
       "  <tbody>\n",
       "    <tr>\n",
       "      <th>0</th>\n",
       "      <td>20</td>\n",
       "      <td>13000000</td>\n",
       "      <td>108</td>\n",
       "      <td>2019-03-07</td>\n",
       "      <td>3</td>\n",
       "      <td>2.7</td>\n",
       "      <td>16</td>\n",
       "      <td>51</td>\n",
       "      <td>8</td>\n",
       "      <td>True</td>\n",
       "      <td>...</td>\n",
       "      <td>0</td>\n",
       "      <td>санкт-петербург</td>\n",
       "      <td>18863.0</td>\n",
       "      <td>16028.0</td>\n",
       "      <td>1.0</td>\n",
       "      <td>482.0</td>\n",
       "      <td>2.0</td>\n",
       "      <td>755.0</td>\n",
       "      <td>99999</td>\n",
       "      <td>120370.37037</td>\n",
       "    </tr>\n",
       "  </tbody>\n",
       "</table>\n",
       "<p>1 rows × 23 columns</p>\n",
       "</div>"
      ],
      "text/plain": [
       "   total_images  last_price  total_area first_day_exposition  rooms  \\\n",
       "0            20    13000000         108           2019-03-07      3   \n",
       "\n",
       "   ceiling_height  floors_total  living_area  floor  is_apartment  ...  \\\n",
       "0             2.7            16           51      8          True  ...   \n",
       "\n",
       "   balcony    locality_name  airports_nearest  cityCenters_nearest  \\\n",
       "0        0  санкт-петербург           18863.0              16028.0   \n",
       "\n",
       "  parks_around3000  parks_nearest  ponds_around3000  ponds_nearest  \\\n",
       "0              1.0          482.0               2.0          755.0   \n",
       "\n",
       "   days_exposition  price_per_metre  \n",
       "0            99999     120370.37037  \n",
       "\n",
       "[1 rows x 23 columns]"
      ]
     },
     "execution_count": 47,
     "metadata": {},
     "output_type": "execute_result"
    }
   ],
   "source": [
    "data['price_per_metre'] = data['last_price'] / data['total_area']\n",
    "data.head(1)"
   ]
  },
  {
   "cell_type": "markdown",
   "metadata": {},
   "source": [
    "**Категоризация этажей**"
   ]
  },
  {
   "cell_type": "code",
   "execution_count": 48,
   "metadata": {
    "scrolled": false
   },
   "outputs": [
    {
     "data": {
      "text/html": [
       "<div>\n",
       "<style scoped>\n",
       "    .dataframe tbody tr th:only-of-type {\n",
       "        vertical-align: middle;\n",
       "    }\n",
       "\n",
       "    .dataframe tbody tr th {\n",
       "        vertical-align: top;\n",
       "    }\n",
       "\n",
       "    .dataframe thead th {\n",
       "        text-align: right;\n",
       "    }\n",
       "</style>\n",
       "<table border=\"1\" class=\"dataframe\">\n",
       "  <thead>\n",
       "    <tr style=\"text-align: right;\">\n",
       "      <th></th>\n",
       "      <th>total_images</th>\n",
       "      <th>last_price</th>\n",
       "      <th>total_area</th>\n",
       "      <th>first_day_exposition</th>\n",
       "      <th>rooms</th>\n",
       "      <th>ceiling_height</th>\n",
       "      <th>floors_total</th>\n",
       "      <th>living_area</th>\n",
       "      <th>floor</th>\n",
       "      <th>is_apartment</th>\n",
       "      <th>...</th>\n",
       "      <th>locality_name</th>\n",
       "      <th>airports_nearest</th>\n",
       "      <th>cityCenters_nearest</th>\n",
       "      <th>parks_around3000</th>\n",
       "      <th>parks_nearest</th>\n",
       "      <th>ponds_around3000</th>\n",
       "      <th>ponds_nearest</th>\n",
       "      <th>days_exposition</th>\n",
       "      <th>price_per_metre</th>\n",
       "      <th>floors_category</th>\n",
       "    </tr>\n",
       "  </thead>\n",
       "  <tbody>\n",
       "    <tr>\n",
       "      <th>0</th>\n",
       "      <td>20</td>\n",
       "      <td>13000000</td>\n",
       "      <td>108</td>\n",
       "      <td>2019-03-07</td>\n",
       "      <td>3</td>\n",
       "      <td>2.7</td>\n",
       "      <td>16</td>\n",
       "      <td>51</td>\n",
       "      <td>8</td>\n",
       "      <td>True</td>\n",
       "      <td>...</td>\n",
       "      <td>санкт-петербург</td>\n",
       "      <td>18863.0</td>\n",
       "      <td>16028.0</td>\n",
       "      <td>1.0</td>\n",
       "      <td>482.0</td>\n",
       "      <td>2.0</td>\n",
       "      <td>755.0</td>\n",
       "      <td>99999</td>\n",
       "      <td>120370.37037</td>\n",
       "      <td>другой</td>\n",
       "    </tr>\n",
       "  </tbody>\n",
       "</table>\n",
       "<p>1 rows × 24 columns</p>\n",
       "</div>"
      ],
      "text/plain": [
       "   total_images  last_price  total_area first_day_exposition  rooms  \\\n",
       "0            20    13000000         108           2019-03-07      3   \n",
       "\n",
       "   ceiling_height  floors_total  living_area  floor  is_apartment  ...  \\\n",
       "0             2.7            16           51      8          True  ...   \n",
       "\n",
       "     locality_name  airports_nearest  cityCenters_nearest  parks_around3000  \\\n",
       "0  санкт-петербург           18863.0              16028.0               1.0   \n",
       "\n",
       "  parks_nearest  ponds_around3000  ponds_nearest  days_exposition  \\\n",
       "0         482.0               2.0          755.0            99999   \n",
       "\n",
       "   price_per_metre  floors_category  \n",
       "0     120370.37037           другой  \n",
       "\n",
       "[1 rows x 24 columns]"
      ]
     },
     "execution_count": 48,
     "metadata": {},
     "output_type": "execute_result"
    }
   ],
   "source": [
    "def floors_category(row):\n",
    "    number = row['floor']\n",
    "    last_floor = row['floors_total']\n",
    "    if number == 1: \n",
    "        return 'первый'\n",
    "    elif number == last_floor: \n",
    "        return 'последний'\n",
    "    else: \n",
    "        return 'другой'\n",
    "    \n",
    "data['floors_category'] = data.apply(floors_category, axis=1)\n",
    "data.head(1)"
   ]
  },
  {
   "cell_type": "markdown",
   "metadata": {},
   "source": [
    "**Расчет соотношений жилой площади и площади кухни к общей, площади кухни к жилой**"
   ]
  },
  {
   "cell_type": "code",
   "execution_count": 49,
   "metadata": {},
   "outputs": [
    {
     "data": {
      "text/html": [
       "<div>\n",
       "<style scoped>\n",
       "    .dataframe tbody tr th:only-of-type {\n",
       "        vertical-align: middle;\n",
       "    }\n",
       "\n",
       "    .dataframe tbody tr th {\n",
       "        vertical-align: top;\n",
       "    }\n",
       "\n",
       "    .dataframe thead th {\n",
       "        text-align: right;\n",
       "    }\n",
       "</style>\n",
       "<table border=\"1\" class=\"dataframe\">\n",
       "  <thead>\n",
       "    <tr style=\"text-align: right;\">\n",
       "      <th></th>\n",
       "      <th>total_images</th>\n",
       "      <th>last_price</th>\n",
       "      <th>total_area</th>\n",
       "      <th>first_day_exposition</th>\n",
       "      <th>rooms</th>\n",
       "      <th>ceiling_height</th>\n",
       "      <th>floors_total</th>\n",
       "      <th>living_area</th>\n",
       "      <th>floor</th>\n",
       "      <th>is_apartment</th>\n",
       "      <th>...</th>\n",
       "      <th>parks_around3000</th>\n",
       "      <th>parks_nearest</th>\n",
       "      <th>ponds_around3000</th>\n",
       "      <th>ponds_nearest</th>\n",
       "      <th>days_exposition</th>\n",
       "      <th>price_per_metre</th>\n",
       "      <th>floors_category</th>\n",
       "      <th>living_ratio</th>\n",
       "      <th>kitchen_ratio</th>\n",
       "      <th>kitchen_to_living_ratio</th>\n",
       "    </tr>\n",
       "  </thead>\n",
       "  <tbody>\n",
       "    <tr>\n",
       "      <th>0</th>\n",
       "      <td>20</td>\n",
       "      <td>13000000</td>\n",
       "      <td>108</td>\n",
       "      <td>2019-03-07</td>\n",
       "      <td>3</td>\n",
       "      <td>2.7</td>\n",
       "      <td>16</td>\n",
       "      <td>51</td>\n",
       "      <td>8</td>\n",
       "      <td>True</td>\n",
       "      <td>...</td>\n",
       "      <td>1.0</td>\n",
       "      <td>482.0</td>\n",
       "      <td>2.0</td>\n",
       "      <td>755.0</td>\n",
       "      <td>99999</td>\n",
       "      <td>120370.37037</td>\n",
       "      <td>другой</td>\n",
       "      <td>0.47</td>\n",
       "      <td>0.23</td>\n",
       "      <td>0.49</td>\n",
       "    </tr>\n",
       "  </tbody>\n",
       "</table>\n",
       "<p>1 rows × 27 columns</p>\n",
       "</div>"
      ],
      "text/plain": [
       "   total_images  last_price  total_area first_day_exposition  rooms  \\\n",
       "0            20    13000000         108           2019-03-07      3   \n",
       "\n",
       "   ceiling_height  floors_total  living_area  floor  is_apartment  ...  \\\n",
       "0             2.7            16           51      8          True  ...   \n",
       "\n",
       "   parks_around3000  parks_nearest  ponds_around3000  ponds_nearest  \\\n",
       "0               1.0          482.0               2.0          755.0   \n",
       "\n",
       "  days_exposition  price_per_metre  floors_category  living_ratio  \\\n",
       "0           99999     120370.37037           другой          0.47   \n",
       "\n",
       "   kitchen_ratio  kitchen_to_living_ratio  \n",
       "0           0.23                     0.49  \n",
       "\n",
       "[1 rows x 27 columns]"
      ]
     },
     "execution_count": 49,
     "metadata": {},
     "output_type": "execute_result"
    }
   ],
   "source": [
    "data['living_ratio'] = (data['living_area'] / data['total_area']).apply(lambda x: '{:.2}'.format(x))\n",
    "data['kitchen_ratio'] = (data['kitchen_area'] / data['total_area']).apply(lambda x: '{:.2}'.format(x))\n",
    "data['kitchen_to_living_ratio'] = (data['kitchen_area'] / data['living_area']).apply(lambda x: '{:.2}'.format(x))\n",
    "\n",
    "data.head(1)"
   ]
  },
  {
   "cell_type": "markdown",
   "metadata": {},
   "source": [
    "**Расчет даты публикации объявления**"
   ]
  },
  {
   "cell_type": "code",
   "execution_count": 50,
   "metadata": {
    "scrolled": false
   },
   "outputs": [
    {
     "data": {
      "text/html": [
       "<div>\n",
       "<style scoped>\n",
       "    .dataframe tbody tr th:only-of-type {\n",
       "        vertical-align: middle;\n",
       "    }\n",
       "\n",
       "    .dataframe tbody tr th {\n",
       "        vertical-align: top;\n",
       "    }\n",
       "\n",
       "    .dataframe thead th {\n",
       "        text-align: right;\n",
       "    }\n",
       "</style>\n",
       "<table border=\"1\" class=\"dataframe\">\n",
       "  <thead>\n",
       "    <tr style=\"text-align: right;\">\n",
       "      <th></th>\n",
       "      <th>total_images</th>\n",
       "      <th>last_price</th>\n",
       "      <th>total_area</th>\n",
       "      <th>first_day_exposition</th>\n",
       "      <th>rooms</th>\n",
       "      <th>ceiling_height</th>\n",
       "      <th>floors_total</th>\n",
       "      <th>living_area</th>\n",
       "      <th>floor</th>\n",
       "      <th>is_apartment</th>\n",
       "      <th>...</th>\n",
       "      <th>ponds_nearest</th>\n",
       "      <th>days_exposition</th>\n",
       "      <th>price_per_metre</th>\n",
       "      <th>floors_category</th>\n",
       "      <th>living_ratio</th>\n",
       "      <th>kitchen_ratio</th>\n",
       "      <th>kitchen_to_living_ratio</th>\n",
       "      <th>first_day_weekday</th>\n",
       "      <th>first_day_month</th>\n",
       "      <th>first_day_year</th>\n",
       "    </tr>\n",
       "  </thead>\n",
       "  <tbody>\n",
       "    <tr>\n",
       "      <th>0</th>\n",
       "      <td>20</td>\n",
       "      <td>13000000</td>\n",
       "      <td>108</td>\n",
       "      <td>2019-03-07</td>\n",
       "      <td>3</td>\n",
       "      <td>2.7</td>\n",
       "      <td>16</td>\n",
       "      <td>51</td>\n",
       "      <td>8</td>\n",
       "      <td>True</td>\n",
       "      <td>...</td>\n",
       "      <td>755.0</td>\n",
       "      <td>99999</td>\n",
       "      <td>120370.37037</td>\n",
       "      <td>другой</td>\n",
       "      <td>0.47</td>\n",
       "      <td>0.23</td>\n",
       "      <td>0.49</td>\n",
       "      <td>3</td>\n",
       "      <td>3</td>\n",
       "      <td>2019</td>\n",
       "    </tr>\n",
       "  </tbody>\n",
       "</table>\n",
       "<p>1 rows × 30 columns</p>\n",
       "</div>"
      ],
      "text/plain": [
       "   total_images  last_price  total_area first_day_exposition  rooms  \\\n",
       "0            20    13000000         108           2019-03-07      3   \n",
       "\n",
       "   ceiling_height  floors_total  living_area  floor  is_apartment  ...  \\\n",
       "0             2.7            16           51      8          True  ...   \n",
       "\n",
       "   ponds_nearest  days_exposition  price_per_metre  floors_category  \\\n",
       "0          755.0            99999     120370.37037           другой   \n",
       "\n",
       "  living_ratio  kitchen_ratio  kitchen_to_living_ratio  first_day_weekday  \\\n",
       "0         0.47           0.23                     0.49                  3   \n",
       "\n",
       "   first_day_month  first_day_year  \n",
       "0                3            2019  \n",
       "\n",
       "[1 rows x 30 columns]"
      ]
     },
     "execution_count": 50,
     "metadata": {},
     "output_type": "execute_result"
    }
   ],
   "source": [
    "data['first_day_weekday'] = data['first_day_exposition'].dt.weekday\n",
    "data['first_day_month'] = data['first_day_exposition'].dt.month\n",
    "data['first_day_year'] = data['first_day_exposition'].dt.year\n",
    "\n",
    "data.head(1)"
   ]
  },
  {
   "cell_type": "code",
   "execution_count": 51,
   "metadata": {},
   "outputs": [
    {
     "name": "stdout",
     "output_type": "stream",
     "text": [
      "<class 'pandas.core.frame.DataFrame'>\n",
      "Int64Index: 23565 entries, 0 to 23698\n",
      "Data columns (total 30 columns):\n",
      " #   Column                   Non-Null Count  Dtype         \n",
      "---  ------                   --------------  -----         \n",
      " 0   total_images             23565 non-null  int64         \n",
      " 1   last_price               23565 non-null  int32         \n",
      " 2   total_area               23565 non-null  int32         \n",
      " 3   first_day_exposition     23565 non-null  datetime64[ns]\n",
      " 4   rooms                    23565 non-null  int64         \n",
      " 5   ceiling_height           23565 non-null  float64       \n",
      " 6   floors_total             23565 non-null  int32         \n",
      " 7   living_area              23565 non-null  int32         \n",
      " 8   floor                    23565 non-null  int64         \n",
      " 9   is_apartment             23565 non-null  bool          \n",
      " 10  studio                   23565 non-null  bool          \n",
      " 11  open_plan                23565 non-null  bool          \n",
      " 12  kitchen_area             23565 non-null  int32         \n",
      " 13  balcony                  23565 non-null  int64         \n",
      " 14  locality_name            23565 non-null  object        \n",
      " 15  airports_nearest         18041 non-null  float64       \n",
      " 16  cityCenters_nearest      23565 non-null  float64       \n",
      " 17  parks_around3000         18065 non-null  float64       \n",
      " 18  parks_nearest            8030 non-null   float64       \n",
      " 19  ponds_around3000         18065 non-null  float64       \n",
      " 20  ponds_nearest            9036 non-null   float64       \n",
      " 21  days_exposition          23565 non-null  int32         \n",
      " 22  price_per_metre          23565 non-null  float64       \n",
      " 23  floors_category          23565 non-null  object        \n",
      " 24  living_ratio             23565 non-null  object        \n",
      " 25  kitchen_ratio            23565 non-null  object        \n",
      " 26  kitchen_to_living_ratio  23565 non-null  object        \n",
      " 27  first_day_weekday        23565 non-null  int64         \n",
      " 28  first_day_month          23565 non-null  int64         \n",
      " 29  first_day_year           23565 non-null  int64         \n",
      "dtypes: bool(3), datetime64[ns](1), float64(8), int32(6), int64(7), object(5)\n",
      "memory usage: 5.1+ MB\n"
     ]
    }
   ],
   "source": [
    "data.info()"
   ]
  },
  {
   "cell_type": "markdown",
   "metadata": {},
   "source": [
    "***Вывод***"
   ]
  },
  {
   "cell_type": "markdown",
   "metadata": {},
   "source": [
    "Данные готовы для анализа. У каждой строки посчитаны стоимость квадратного метра, отдельно в таблицу выведены день недели, месяц и год публикации объявления, этажи разделены на категории: первый, последний, другой; посчитано соотношение жилой площади и площади кухни к общей площади, а также кухни к жилой. "
   ]
  },
  {
   "cell_type": "markdown",
   "metadata": {},
   "source": [
    "## Исследовательский анализ данных"
   ]
  },
  {
   "cell_type": "markdown",
   "metadata": {},
   "source": [
    "### Исследование площади, цены, числа комнат, высоты потолков"
   ]
  },
  {
   "cell_type": "markdown",
   "metadata": {},
   "source": [
    "**Площадь**"
   ]
  },
  {
   "cell_type": "code",
   "execution_count": 52,
   "metadata": {},
   "outputs": [
    {
     "data": {
      "text/plain": [
       "count    23565.000000\n",
       "mean        60.095226\n",
       "std         35.668758\n",
       "min         12.000000\n",
       "25%         40.000000\n",
       "50%         52.000000\n",
       "75%         69.000000\n",
       "max        900.000000\n",
       "Name: total_area, dtype: float64"
      ]
     },
     "execution_count": 52,
     "metadata": {},
     "output_type": "execute_result"
    }
   ],
   "source": [
    "data['total_area'].describe()"
   ]
  },
  {
   "cell_type": "markdown",
   "metadata": {},
   "source": [
    "Согласно анализу основных статистических показателей, средняя площадь квартир составляет 60 квадратных метров, минимальная и максимальная при этом 12 и 900 метров соответственно. "
   ]
  },
  {
   "cell_type": "code",
   "execution_count": 53,
   "metadata": {},
   "outputs": [
    {
     "data": {
      "image/png": "[encoded data removed]",
      "text/plain": [
       "<Figure size 144x720 with 1 Axes>"
      ]
     },
     "metadata": {
      "needs_background": "light"
     },
     "output_type": "display_data"
    }
   ],
   "source": [
    "data.boxplot('total_area', figsize=(2, 10))\n",
    "plt.ylim(0, 200)\n",
    "plt.show()"
   ]
  },
  {
   "cell_type": "code",
   "execution_count": 54,
   "metadata": {
    "scrolled": true
   },
   "outputs": [
    {
     "data": {
      "image/png": "[encoded data removed]",
      "text/plain": [
       "<Figure size 720x360 with 1 Axes>"
      ]
     },
     "metadata": {
      "needs_background": "light"
     },
     "output_type": "display_data"
    }
   ],
   "source": [
    "fig, ax = plt.subplots(figsize=(10, 5))\n",
    "ax.set_title('Гистограмма распределения площади')\n",
    "ax.grid()\n",
    "plt.hist(data['total_area'], bins=100, range=(0, 200), alpha=0.8, color='green')\n",
    "plt.xlabel('площадь квартир')\n",
    "plt.ylabel('количество квартир')\n",
    "\n",
    "plt.show()"
   ]
  },
  {
   "cell_type": "code",
   "execution_count": 55,
   "metadata": {},
   "outputs": [
    {
     "data": {
      "text/plain": [
       "1045"
      ]
     },
     "execution_count": 55,
     "metadata": {},
     "output_type": "execute_result"
    }
   ],
   "source": [
    "len(data[data['total_area'] > 120])"
   ]
  },
  {
   "cell_type": "markdown",
   "metadata": {},
   "source": [
    "Гистограмма распределения и диаграмма размаха показывают, что большинство квартир по площади находятся в диапазоне от 25 до 120 квадратных метров. Квартир площадью больше 120 в разы меньше: с увеличением площади, частота стремится к оси абсцисс."
   ]
  },
  {
   "cell_type": "markdown",
   "metadata": {},
   "source": [
    "**Цена**"
   ]
  },
  {
   "cell_type": "code",
   "execution_count": 56,
   "metadata": {},
   "outputs": [
    {
     "data": {
      "text/plain": [
       "count    2.356500e+04\n",
       "mean     6.540058e+06\n",
       "std      1.091093e+07\n",
       "min      1.219000e+04\n",
       "25%      3.400000e+06\n",
       "50%      4.646000e+06\n",
       "75%      6.790000e+06\n",
       "max      7.630000e+08\n",
       "Name: last_price, dtype: float64"
      ]
     },
     "execution_count": 56,
     "metadata": {},
     "output_type": "execute_result"
    }
   ],
   "source": [
    "data['last_price'].describe()"
   ]
  },
  {
   "cell_type": "code",
   "execution_count": 57,
   "metadata": {
    "scrolled": true
   },
   "outputs": [
    {
     "data": {
      "text/html": [
       "<div>\n",
       "<style scoped>\n",
       "    .dataframe tbody tr th:only-of-type {\n",
       "        vertical-align: middle;\n",
       "    }\n",
       "\n",
       "    .dataframe tbody tr th {\n",
       "        vertical-align: top;\n",
       "    }\n",
       "\n",
       "    .dataframe thead th {\n",
       "        text-align: right;\n",
       "    }\n",
       "</style>\n",
       "<table border=\"1\" class=\"dataframe\">\n",
       "  <thead>\n",
       "    <tr style=\"text-align: right;\">\n",
       "      <th></th>\n",
       "      <th>total_images</th>\n",
       "      <th>last_price</th>\n",
       "      <th>total_area</th>\n",
       "      <th>first_day_exposition</th>\n",
       "      <th>rooms</th>\n",
       "      <th>ceiling_height</th>\n",
       "      <th>floors_total</th>\n",
       "      <th>living_area</th>\n",
       "      <th>floor</th>\n",
       "      <th>is_apartment</th>\n",
       "      <th>...</th>\n",
       "      <th>ponds_nearest</th>\n",
       "      <th>days_exposition</th>\n",
       "      <th>price_per_metre</th>\n",
       "      <th>floors_category</th>\n",
       "      <th>living_ratio</th>\n",
       "      <th>kitchen_ratio</th>\n",
       "      <th>kitchen_to_living_ratio</th>\n",
       "      <th>first_day_weekday</th>\n",
       "      <th>first_day_month</th>\n",
       "      <th>first_day_year</th>\n",
       "    </tr>\n",
       "  </thead>\n",
       "  <tbody>\n",
       "    <tr>\n",
       "      <th>3</th>\n",
       "      <td>0</td>\n",
       "      <td>64900000</td>\n",
       "      <td>159</td>\n",
       "      <td>2015-07-24</td>\n",
       "      <td>3</td>\n",
       "      <td>777.00</td>\n",
       "      <td>14</td>\n",
       "      <td>98</td>\n",
       "      <td>9</td>\n",
       "      <td>True</td>\n",
       "      <td>...</td>\n",
       "      <td>234.0</td>\n",
       "      <td>424</td>\n",
       "      <td>4.081761e+05</td>\n",
       "      <td>другой</td>\n",
       "      <td>0.62</td>\n",
       "      <td>0.13</td>\n",
       "      <td>0.2</td>\n",
       "      <td>4</td>\n",
       "      <td>7</td>\n",
       "      <td>2015</td>\n",
       "    </tr>\n",
       "    <tr>\n",
       "      <th>155</th>\n",
       "      <td>8</td>\n",
       "      <td>96000000</td>\n",
       "      <td>317</td>\n",
       "      <td>2017-07-07</td>\n",
       "      <td>4</td>\n",
       "      <td>3.50</td>\n",
       "      <td>3</td>\n",
       "      <td>183</td>\n",
       "      <td>3</td>\n",
       "      <td>True</td>\n",
       "      <td>...</td>\n",
       "      <td>366.0</td>\n",
       "      <td>62</td>\n",
       "      <td>3.028391e+05</td>\n",
       "      <td>последний</td>\n",
       "      <td>0.58</td>\n",
       "      <td>0.11</td>\n",
       "      <td>0.19</td>\n",
       "      <td>4</td>\n",
       "      <td>7</td>\n",
       "      <td>2017</td>\n",
       "    </tr>\n",
       "    <tr>\n",
       "      <th>464</th>\n",
       "      <td>15</td>\n",
       "      <td>66571000</td>\n",
       "      <td>280</td>\n",
       "      <td>2015-06-11</td>\n",
       "      <td>6</td>\n",
       "      <td>5.20</td>\n",
       "      <td>8</td>\n",
       "      <td>159</td>\n",
       "      <td>7</td>\n",
       "      <td>True</td>\n",
       "      <td>...</td>\n",
       "      <td>616.0</td>\n",
       "      <td>578</td>\n",
       "      <td>2.377536e+05</td>\n",
       "      <td>другой</td>\n",
       "      <td>0.57</td>\n",
       "      <td>0.075</td>\n",
       "      <td>0.13</td>\n",
       "      <td>3</td>\n",
       "      <td>6</td>\n",
       "      <td>2015</td>\n",
       "    </tr>\n",
       "    <tr>\n",
       "      <th>492</th>\n",
       "      <td>18</td>\n",
       "      <td>95000000</td>\n",
       "      <td>216</td>\n",
       "      <td>2017-12-05</td>\n",
       "      <td>4</td>\n",
       "      <td>3.00</td>\n",
       "      <td>5</td>\n",
       "      <td>86</td>\n",
       "      <td>4</td>\n",
       "      <td>True</td>\n",
       "      <td>...</td>\n",
       "      <td>620.0</td>\n",
       "      <td>14</td>\n",
       "      <td>4.398148e+05</td>\n",
       "      <td>другой</td>\n",
       "      <td>0.4</td>\n",
       "      <td>0.36</td>\n",
       "      <td>0.9</td>\n",
       "      <td>1</td>\n",
       "      <td>12</td>\n",
       "      <td>2017</td>\n",
       "    </tr>\n",
       "    <tr>\n",
       "      <th>509</th>\n",
       "      <td>5</td>\n",
       "      <td>90000000</td>\n",
       "      <td>225</td>\n",
       "      <td>2016-06-26</td>\n",
       "      <td>6</td>\n",
       "      <td>777.00</td>\n",
       "      <td>4</td>\n",
       "      <td>134</td>\n",
       "      <td>2</td>\n",
       "      <td>True</td>\n",
       "      <td>...</td>\n",
       "      <td>519.0</td>\n",
       "      <td>416</td>\n",
       "      <td>4.000000e+05</td>\n",
       "      <td>другой</td>\n",
       "      <td>0.6</td>\n",
       "      <td>0.084</td>\n",
       "      <td>0.14</td>\n",
       "      <td>6</td>\n",
       "      <td>6</td>\n",
       "      <td>2016</td>\n",
       "    </tr>\n",
       "    <tr>\n",
       "      <th>...</th>\n",
       "      <td>...</td>\n",
       "      <td>...</td>\n",
       "      <td>...</td>\n",
       "      <td>...</td>\n",
       "      <td>...</td>\n",
       "      <td>...</td>\n",
       "      <td>...</td>\n",
       "      <td>...</td>\n",
       "      <td>...</td>\n",
       "      <td>...</td>\n",
       "      <td>...</td>\n",
       "      <td>...</td>\n",
       "      <td>...</td>\n",
       "      <td>...</td>\n",
       "      <td>...</td>\n",
       "      <td>...</td>\n",
       "      <td>...</td>\n",
       "      <td>...</td>\n",
       "      <td>...</td>\n",
       "      <td>...</td>\n",
       "      <td>...</td>\n",
       "    </tr>\n",
       "    <tr>\n",
       "      <th>22709</th>\n",
       "      <td>20</td>\n",
       "      <td>59000000</td>\n",
       "      <td>127</td>\n",
       "      <td>2016-12-21</td>\n",
       "      <td>4</td>\n",
       "      <td>3.00</td>\n",
       "      <td>12</td>\n",
       "      <td>85</td>\n",
       "      <td>8</td>\n",
       "      <td>True</td>\n",
       "      <td>...</td>\n",
       "      <td>234.0</td>\n",
       "      <td>635</td>\n",
       "      <td>4.645669e+05</td>\n",
       "      <td>другой</td>\n",
       "      <td>0.67</td>\n",
       "      <td>0.1</td>\n",
       "      <td>0.15</td>\n",
       "      <td>2</td>\n",
       "      <td>12</td>\n",
       "      <td>2016</td>\n",
       "    </tr>\n",
       "    <tr>\n",
       "      <th>22804</th>\n",
       "      <td>4</td>\n",
       "      <td>81960000</td>\n",
       "      <td>205</td>\n",
       "      <td>2017-09-29</td>\n",
       "      <td>4</td>\n",
       "      <td>3.20</td>\n",
       "      <td>9</td>\n",
       "      <td>108</td>\n",
       "      <td>3</td>\n",
       "      <td>True</td>\n",
       "      <td>...</td>\n",
       "      <td>227.0</td>\n",
       "      <td>169</td>\n",
       "      <td>3.998049e+05</td>\n",
       "      <td>другой</td>\n",
       "      <td>0.53</td>\n",
       "      <td>0.049</td>\n",
       "      <td>0.093</td>\n",
       "      <td>4</td>\n",
       "      <td>9</td>\n",
       "      <td>2017</td>\n",
       "    </tr>\n",
       "    <tr>\n",
       "      <th>22831</th>\n",
       "      <td>18</td>\n",
       "      <td>289238400</td>\n",
       "      <td>187</td>\n",
       "      <td>2019-03-19</td>\n",
       "      <td>2</td>\n",
       "      <td>3.37</td>\n",
       "      <td>6</td>\n",
       "      <td>63</td>\n",
       "      <td>6</td>\n",
       "      <td>True</td>\n",
       "      <td>...</td>\n",
       "      <td>188.0</td>\n",
       "      <td>99999</td>\n",
       "      <td>1.546729e+06</td>\n",
       "      <td>последний</td>\n",
       "      <td>0.34</td>\n",
       "      <td>0.16</td>\n",
       "      <td>0.48</td>\n",
       "      <td>1</td>\n",
       "      <td>3</td>\n",
       "      <td>2019</td>\n",
       "    </tr>\n",
       "    <tr>\n",
       "      <th>22907</th>\n",
       "      <td>9</td>\n",
       "      <td>65000000</td>\n",
       "      <td>228</td>\n",
       "      <td>2016-06-02</td>\n",
       "      <td>4</td>\n",
       "      <td>777.00</td>\n",
       "      <td>5</td>\n",
       "      <td>200</td>\n",
       "      <td>2</td>\n",
       "      <td>True</td>\n",
       "      <td>...</td>\n",
       "      <td>269.0</td>\n",
       "      <td>99999</td>\n",
       "      <td>2.850877e+05</td>\n",
       "      <td>другой</td>\n",
       "      <td>0.88</td>\n",
       "      <td>0.11</td>\n",
       "      <td>0.12</td>\n",
       "      <td>3</td>\n",
       "      <td>6</td>\n",
       "      <td>2016</td>\n",
       "    </tr>\n",
       "    <tr>\n",
       "      <th>23574</th>\n",
       "      <td>14</td>\n",
       "      <td>64990000</td>\n",
       "      <td>139</td>\n",
       "      <td>2015-11-24</td>\n",
       "      <td>3</td>\n",
       "      <td>3.00</td>\n",
       "      <td>8</td>\n",
       "      <td>3</td>\n",
       "      <td>8</td>\n",
       "      <td>True</td>\n",
       "      <td>...</td>\n",
       "      <td>100.0</td>\n",
       "      <td>280</td>\n",
       "      <td>4.675540e+05</td>\n",
       "      <td>последний</td>\n",
       "      <td>0.022</td>\n",
       "      <td>0.12</td>\n",
       "      <td>5.3</td>\n",
       "      <td>1</td>\n",
       "      <td>11</td>\n",
       "      <td>2015</td>\n",
       "    </tr>\n",
       "  </tbody>\n",
       "</table>\n",
       "<p>131 rows × 30 columns</p>\n",
       "</div>"
      ],
      "text/plain": [
       "       total_images  last_price  total_area first_day_exposition  rooms  \\\n",
       "3                 0    64900000         159           2015-07-24      3   \n",
       "155               8    96000000         317           2017-07-07      4   \n",
       "464              15    66571000         280           2015-06-11      6   \n",
       "492              18    95000000         216           2017-12-05      4   \n",
       "509               5    90000000         225           2016-06-26      6   \n",
       "...             ...         ...         ...                  ...    ...   \n",
       "22709            20    59000000         127           2016-12-21      4   \n",
       "22804             4    81960000         205           2017-09-29      4   \n",
       "22831            18   289238400         187           2019-03-19      2   \n",
       "22907             9    65000000         228           2016-06-02      4   \n",
       "23574            14    64990000         139           2015-11-24      3   \n",
       "\n",
       "       ceiling_height  floors_total  living_area  floor  is_apartment  ...  \\\n",
       "3              777.00            14           98      9          True  ...   \n",
       "155              3.50             3          183      3          True  ...   \n",
       "464              5.20             8          159      7          True  ...   \n",
       "492              3.00             5           86      4          True  ...   \n",
       "509            777.00             4          134      2          True  ...   \n",
       "...               ...           ...          ...    ...           ...  ...   \n",
       "22709            3.00            12           85      8          True  ...   \n",
       "22804            3.20             9          108      3          True  ...   \n",
       "22831            3.37             6           63      6          True  ...   \n",
       "22907          777.00             5          200      2          True  ...   \n",
       "23574            3.00             8            3      8          True  ...   \n",
       "\n",
       "       ponds_nearest  days_exposition  price_per_metre  floors_category  \\\n",
       "3              234.0              424     4.081761e+05           другой   \n",
       "155            366.0               62     3.028391e+05        последний   \n",
       "464            616.0              578     2.377536e+05           другой   \n",
       "492            620.0               14     4.398148e+05           другой   \n",
       "509            519.0              416     4.000000e+05           другой   \n",
       "...              ...              ...              ...              ...   \n",
       "22709          234.0              635     4.645669e+05           другой   \n",
       "22804          227.0              169     3.998049e+05           другой   \n",
       "22831          188.0            99999     1.546729e+06        последний   \n",
       "22907          269.0            99999     2.850877e+05           другой   \n",
       "23574          100.0              280     4.675540e+05        последний   \n",
       "\n",
       "      living_ratio  kitchen_ratio  kitchen_to_living_ratio  first_day_weekday  \\\n",
       "3             0.62           0.13                      0.2                  4   \n",
       "155           0.58           0.11                     0.19                  4   \n",
       "464           0.57          0.075                     0.13                  3   \n",
       "492            0.4           0.36                      0.9                  1   \n",
       "509            0.6          0.084                     0.14                  6   \n",
       "...            ...            ...                      ...                ...   \n",
       "22709         0.67            0.1                     0.15                  2   \n",
       "22804         0.53          0.049                    0.093                  4   \n",
       "22831         0.34           0.16                     0.48                  1   \n",
       "22907         0.88           0.11                     0.12                  3   \n",
       "23574        0.022           0.12                      5.3                  1   \n",
       "\n",
       "       first_day_month  first_day_year  \n",
       "3                    7            2015  \n",
       "155                  7            2017  \n",
       "464                  6            2015  \n",
       "492                 12            2017  \n",
       "509                  6            2016  \n",
       "...                ...             ...  \n",
       "22709               12            2016  \n",
       "22804                9            2017  \n",
       "22831                3            2019  \n",
       "22907                6            2016  \n",
       "23574               11            2015  \n",
       "\n",
       "[131 rows x 30 columns]"
      ]
     },
     "execution_count": 57,
     "metadata": {},
     "output_type": "execute_result"
    }
   ],
   "source": [
    "data.query('last_price > 50000000')"
   ]
  },
  {
   "cell_type": "code",
   "execution_count": 58,
   "metadata": {},
   "outputs": [
    {
     "data": {
      "text/html": [
       "<div>\n",
       "<style scoped>\n",
       "    .dataframe tbody tr th:only-of-type {\n",
       "        vertical-align: middle;\n",
       "    }\n",
       "\n",
       "    .dataframe tbody tr th {\n",
       "        vertical-align: top;\n",
       "    }\n",
       "\n",
       "    .dataframe thead th {\n",
       "        text-align: right;\n",
       "    }\n",
       "</style>\n",
       "<table border=\"1\" class=\"dataframe\">\n",
       "  <thead>\n",
       "    <tr style=\"text-align: right;\">\n",
       "      <th></th>\n",
       "      <th>total_images</th>\n",
       "      <th>last_price</th>\n",
       "      <th>total_area</th>\n",
       "      <th>first_day_exposition</th>\n",
       "      <th>rooms</th>\n",
       "      <th>ceiling_height</th>\n",
       "      <th>floors_total</th>\n",
       "      <th>living_area</th>\n",
       "      <th>floor</th>\n",
       "      <th>is_apartment</th>\n",
       "      <th>...</th>\n",
       "      <th>ponds_nearest</th>\n",
       "      <th>days_exposition</th>\n",
       "      <th>price_per_metre</th>\n",
       "      <th>floors_category</th>\n",
       "      <th>living_ratio</th>\n",
       "      <th>kitchen_ratio</th>\n",
       "      <th>kitchen_to_living_ratio</th>\n",
       "      <th>first_day_weekday</th>\n",
       "      <th>first_day_month</th>\n",
       "      <th>first_day_year</th>\n",
       "    </tr>\n",
       "  </thead>\n",
       "  <tbody>\n",
       "    <tr>\n",
       "      <th>5698</th>\n",
       "      <td>7</td>\n",
       "      <td>450000</td>\n",
       "      <td>42</td>\n",
       "      <td>2017-07-31</td>\n",
       "      <td>2</td>\n",
       "      <td>777.00</td>\n",
       "      <td>1</td>\n",
       "      <td>23</td>\n",
       "      <td>1</td>\n",
       "      <td>True</td>\n",
       "      <td>...</td>\n",
       "      <td>NaN</td>\n",
       "      <td>233</td>\n",
       "      <td>10714.285714</td>\n",
       "      <td>первый</td>\n",
       "      <td>0.55</td>\n",
       "      <td>0.12</td>\n",
       "      <td>0.22</td>\n",
       "      <td>0</td>\n",
       "      <td>7</td>\n",
       "      <td>2017</td>\n",
       "    </tr>\n",
       "    <tr>\n",
       "      <th>6859</th>\n",
       "      <td>6</td>\n",
       "      <td>490000</td>\n",
       "      <td>40</td>\n",
       "      <td>2017-12-11</td>\n",
       "      <td>1</td>\n",
       "      <td>777.00</td>\n",
       "      <td>5</td>\n",
       "      <td>19</td>\n",
       "      <td>3</td>\n",
       "      <td>True</td>\n",
       "      <td>...</td>\n",
       "      <td>NaN</td>\n",
       "      <td>43</td>\n",
       "      <td>12250.000000</td>\n",
       "      <td>другой</td>\n",
       "      <td>0.47</td>\n",
       "      <td>0.23</td>\n",
       "      <td>0.47</td>\n",
       "      <td>0</td>\n",
       "      <td>12</td>\n",
       "      <td>2017</td>\n",
       "    </tr>\n",
       "    <tr>\n",
       "      <th>8793</th>\n",
       "      <td>7</td>\n",
       "      <td>12190</td>\n",
       "      <td>109</td>\n",
       "      <td>2019-03-20</td>\n",
       "      <td>2</td>\n",
       "      <td>2.75</td>\n",
       "      <td>25</td>\n",
       "      <td>32</td>\n",
       "      <td>25</td>\n",
       "      <td>True</td>\n",
       "      <td>...</td>\n",
       "      <td>NaN</td>\n",
       "      <td>8</td>\n",
       "      <td>111.834862</td>\n",
       "      <td>последний</td>\n",
       "      <td>0.29</td>\n",
       "      <td>0.37</td>\n",
       "      <td>1.2</td>\n",
       "      <td>2</td>\n",
       "      <td>3</td>\n",
       "      <td>2019</td>\n",
       "    </tr>\n",
       "    <tr>\n",
       "      <th>9581</th>\n",
       "      <td>7</td>\n",
       "      <td>450000</td>\n",
       "      <td>43</td>\n",
       "      <td>2018-08-31</td>\n",
       "      <td>2</td>\n",
       "      <td>777.00</td>\n",
       "      <td>5</td>\n",
       "      <td>30</td>\n",
       "      <td>3</td>\n",
       "      <td>True</td>\n",
       "      <td>...</td>\n",
       "      <td>NaN</td>\n",
       "      <td>96</td>\n",
       "      <td>10465.116279</td>\n",
       "      <td>другой</td>\n",
       "      <td>0.7</td>\n",
       "      <td>0.12</td>\n",
       "      <td>0.17</td>\n",
       "      <td>4</td>\n",
       "      <td>8</td>\n",
       "      <td>2018</td>\n",
       "    </tr>\n",
       "    <tr>\n",
       "      <th>10782</th>\n",
       "      <td>3</td>\n",
       "      <td>490000</td>\n",
       "      <td>29</td>\n",
       "      <td>2016-05-05</td>\n",
       "      <td>1</td>\n",
       "      <td>2.50</td>\n",
       "      <td>5</td>\n",
       "      <td>17</td>\n",
       "      <td>5</td>\n",
       "      <td>True</td>\n",
       "      <td>...</td>\n",
       "      <td>NaN</td>\n",
       "      <td>719</td>\n",
       "      <td>16896.551724</td>\n",
       "      <td>последний</td>\n",
       "      <td>0.59</td>\n",
       "      <td>0.17</td>\n",
       "      <td>0.29</td>\n",
       "      <td>3</td>\n",
       "      <td>5</td>\n",
       "      <td>2016</td>\n",
       "    </tr>\n",
       "    <tr>\n",
       "      <th>14911</th>\n",
       "      <td>5</td>\n",
       "      <td>430000</td>\n",
       "      <td>54</td>\n",
       "      <td>2018-06-26</td>\n",
       "      <td>2</td>\n",
       "      <td>777.00</td>\n",
       "      <td>3</td>\n",
       "      <td>31</td>\n",
       "      <td>3</td>\n",
       "      <td>True</td>\n",
       "      <td>...</td>\n",
       "      <td>NaN</td>\n",
       "      <td>44</td>\n",
       "      <td>7962.962963</td>\n",
       "      <td>последний</td>\n",
       "      <td>0.57</td>\n",
       "      <td>0.15</td>\n",
       "      <td>0.26</td>\n",
       "      <td>1</td>\n",
       "      <td>6</td>\n",
       "      <td>2018</td>\n",
       "    </tr>\n",
       "    <tr>\n",
       "      <th>16032</th>\n",
       "      <td>8</td>\n",
       "      <td>480000</td>\n",
       "      <td>32</td>\n",
       "      <td>2019-01-06</td>\n",
       "      <td>1</td>\n",
       "      <td>777.00</td>\n",
       "      <td>2</td>\n",
       "      <td>16</td>\n",
       "      <td>1</td>\n",
       "      <td>True</td>\n",
       "      <td>...</td>\n",
       "      <td>NaN</td>\n",
       "      <td>83</td>\n",
       "      <td>15000.000000</td>\n",
       "      <td>первый</td>\n",
       "      <td>0.5</td>\n",
       "      <td>0.22</td>\n",
       "      <td>0.44</td>\n",
       "      <td>6</td>\n",
       "      <td>1</td>\n",
       "      <td>2019</td>\n",
       "    </tr>\n",
       "    <tr>\n",
       "      <th>16219</th>\n",
       "      <td>14</td>\n",
       "      <td>450000</td>\n",
       "      <td>38</td>\n",
       "      <td>2018-07-11</td>\n",
       "      <td>2</td>\n",
       "      <td>2.65</td>\n",
       "      <td>2</td>\n",
       "      <td>22</td>\n",
       "      <td>1</td>\n",
       "      <td>True</td>\n",
       "      <td>...</td>\n",
       "      <td>NaN</td>\n",
       "      <td>45</td>\n",
       "      <td>11842.105263</td>\n",
       "      <td>первый</td>\n",
       "      <td>0.58</td>\n",
       "      <td>0.16</td>\n",
       "      <td>0.27</td>\n",
       "      <td>2</td>\n",
       "      <td>7</td>\n",
       "      <td>2018</td>\n",
       "    </tr>\n",
       "    <tr>\n",
       "      <th>16274</th>\n",
       "      <td>18</td>\n",
       "      <td>440000</td>\n",
       "      <td>40</td>\n",
       "      <td>2018-07-10</td>\n",
       "      <td>1</td>\n",
       "      <td>777.00</td>\n",
       "      <td>5</td>\n",
       "      <td>19</td>\n",
       "      <td>1</td>\n",
       "      <td>True</td>\n",
       "      <td>...</td>\n",
       "      <td>NaN</td>\n",
       "      <td>45</td>\n",
       "      <td>11000.000000</td>\n",
       "      <td>первый</td>\n",
       "      <td>0.47</td>\n",
       "      <td>0.23</td>\n",
       "      <td>0.47</td>\n",
       "      <td>1</td>\n",
       "      <td>7</td>\n",
       "      <td>2018</td>\n",
       "    </tr>\n",
       "    <tr>\n",
       "      <th>17456</th>\n",
       "      <td>7</td>\n",
       "      <td>430000</td>\n",
       "      <td>30</td>\n",
       "      <td>2019-04-22</td>\n",
       "      <td>1</td>\n",
       "      <td>777.00</td>\n",
       "      <td>2</td>\n",
       "      <td>16</td>\n",
       "      <td>1</td>\n",
       "      <td>True</td>\n",
       "      <td>...</td>\n",
       "      <td>NaN</td>\n",
       "      <td>99999</td>\n",
       "      <td>14333.333333</td>\n",
       "      <td>первый</td>\n",
       "      <td>0.53</td>\n",
       "      <td>0.2</td>\n",
       "      <td>0.38</td>\n",
       "      <td>0</td>\n",
       "      <td>4</td>\n",
       "      <td>2019</td>\n",
       "    </tr>\n",
       "    <tr>\n",
       "      <th>17676</th>\n",
       "      <td>0</td>\n",
       "      <td>450000</td>\n",
       "      <td>36</td>\n",
       "      <td>2018-02-01</td>\n",
       "      <td>1</td>\n",
       "      <td>777.00</td>\n",
       "      <td>5</td>\n",
       "      <td>17</td>\n",
       "      <td>4</td>\n",
       "      <td>True</td>\n",
       "      <td>...</td>\n",
       "      <td>NaN</td>\n",
       "      <td>120</td>\n",
       "      <td>12500.000000</td>\n",
       "      <td>другой</td>\n",
       "      <td>0.47</td>\n",
       "      <td>0.22</td>\n",
       "      <td>0.47</td>\n",
       "      <td>3</td>\n",
       "      <td>2</td>\n",
       "      <td>2018</td>\n",
       "    </tr>\n",
       "    <tr>\n",
       "      <th>18867</th>\n",
       "      <td>1</td>\n",
       "      <td>470000</td>\n",
       "      <td>41</td>\n",
       "      <td>2018-02-11</td>\n",
       "      <td>1</td>\n",
       "      <td>777.00</td>\n",
       "      <td>5</td>\n",
       "      <td>32</td>\n",
       "      <td>3</td>\n",
       "      <td>True</td>\n",
       "      <td>...</td>\n",
       "      <td>NaN</td>\n",
       "      <td>46</td>\n",
       "      <td>11463.414634</td>\n",
       "      <td>другой</td>\n",
       "      <td>0.78</td>\n",
       "      <td>0.22</td>\n",
       "      <td>0.28</td>\n",
       "      <td>6</td>\n",
       "      <td>2</td>\n",
       "      <td>2018</td>\n",
       "    </tr>\n",
       "    <tr>\n",
       "      <th>21912</th>\n",
       "      <td>0</td>\n",
       "      <td>470000</td>\n",
       "      <td>37</td>\n",
       "      <td>2018-02-18</td>\n",
       "      <td>1</td>\n",
       "      <td>777.00</td>\n",
       "      <td>3</td>\n",
       "      <td>17</td>\n",
       "      <td>3</td>\n",
       "      <td>True</td>\n",
       "      <td>...</td>\n",
       "      <td>NaN</td>\n",
       "      <td>45</td>\n",
       "      <td>12702.702703</td>\n",
       "      <td>последний</td>\n",
       "      <td>0.46</td>\n",
       "      <td>0.24</td>\n",
       "      <td>0.53</td>\n",
       "      <td>6</td>\n",
       "      <td>2</td>\n",
       "      <td>2018</td>\n",
       "    </tr>\n",
       "    <tr>\n",
       "      <th>23484</th>\n",
       "      <td>11</td>\n",
       "      <td>470000</td>\n",
       "      <td>44</td>\n",
       "      <td>2018-07-02</td>\n",
       "      <td>2</td>\n",
       "      <td>777.00</td>\n",
       "      <td>2</td>\n",
       "      <td>28</td>\n",
       "      <td>2</td>\n",
       "      <td>True</td>\n",
       "      <td>...</td>\n",
       "      <td>NaN</td>\n",
       "      <td>298</td>\n",
       "      <td>10681.818182</td>\n",
       "      <td>последний</td>\n",
       "      <td>0.64</td>\n",
       "      <td>0.16</td>\n",
       "      <td>0.25</td>\n",
       "      <td>0</td>\n",
       "      <td>7</td>\n",
       "      <td>2018</td>\n",
       "    </tr>\n",
       "  </tbody>\n",
       "</table>\n",
       "<p>14 rows × 30 columns</p>\n",
       "</div>"
      ],
      "text/plain": [
       "       total_images  last_price  total_area first_day_exposition  rooms  \\\n",
       "5698              7      450000          42           2017-07-31      2   \n",
       "6859              6      490000          40           2017-12-11      1   \n",
       "8793              7       12190         109           2019-03-20      2   \n",
       "9581              7      450000          43           2018-08-31      2   \n",
       "10782             3      490000          29           2016-05-05      1   \n",
       "14911             5      430000          54           2018-06-26      2   \n",
       "16032             8      480000          32           2019-01-06      1   \n",
       "16219            14      450000          38           2018-07-11      2   \n",
       "16274            18      440000          40           2018-07-10      1   \n",
       "17456             7      430000          30           2019-04-22      1   \n",
       "17676             0      450000          36           2018-02-01      1   \n",
       "18867             1      470000          41           2018-02-11      1   \n",
       "21912             0      470000          37           2018-02-18      1   \n",
       "23484            11      470000          44           2018-07-02      2   \n",
       "\n",
       "       ceiling_height  floors_total  living_area  floor  is_apartment  ...  \\\n",
       "5698           777.00             1           23      1          True  ...   \n",
       "6859           777.00             5           19      3          True  ...   \n",
       "8793             2.75            25           32     25          True  ...   \n",
       "9581           777.00             5           30      3          True  ...   \n",
       "10782            2.50             5           17      5          True  ...   \n",
       "14911          777.00             3           31      3          True  ...   \n",
       "16032          777.00             2           16      1          True  ...   \n",
       "16219            2.65             2           22      1          True  ...   \n",
       "16274          777.00             5           19      1          True  ...   \n",
       "17456          777.00             2           16      1          True  ...   \n",
       "17676          777.00             5           17      4          True  ...   \n",
       "18867          777.00             5           32      3          True  ...   \n",
       "21912          777.00             3           17      3          True  ...   \n",
       "23484          777.00             2           28      2          True  ...   \n",
       "\n",
       "       ponds_nearest  days_exposition  price_per_metre  floors_category  \\\n",
       "5698             NaN              233     10714.285714           первый   \n",
       "6859             NaN               43     12250.000000           другой   \n",
       "8793             NaN                8       111.834862        последний   \n",
       "9581             NaN               96     10465.116279           другой   \n",
       "10782            NaN              719     16896.551724        последний   \n",
       "14911            NaN               44      7962.962963        последний   \n",
       "16032            NaN               83     15000.000000           первый   \n",
       "16219            NaN               45     11842.105263           первый   \n",
       "16274            NaN               45     11000.000000           первый   \n",
       "17456            NaN            99999     14333.333333           первый   \n",
       "17676            NaN              120     12500.000000           другой   \n",
       "18867            NaN               46     11463.414634           другой   \n",
       "21912            NaN               45     12702.702703        последний   \n",
       "23484            NaN              298     10681.818182        последний   \n",
       "\n",
       "      living_ratio  kitchen_ratio  kitchen_to_living_ratio  first_day_weekday  \\\n",
       "5698          0.55           0.12                     0.22                  0   \n",
       "6859          0.47           0.23                     0.47                  0   \n",
       "8793          0.29           0.37                      1.2                  2   \n",
       "9581           0.7           0.12                     0.17                  4   \n",
       "10782         0.59           0.17                     0.29                  3   \n",
       "14911         0.57           0.15                     0.26                  1   \n",
       "16032          0.5           0.22                     0.44                  6   \n",
       "16219         0.58           0.16                     0.27                  2   \n",
       "16274         0.47           0.23                     0.47                  1   \n",
       "17456         0.53            0.2                     0.38                  0   \n",
       "17676         0.47           0.22                     0.47                  3   \n",
       "18867         0.78           0.22                     0.28                  6   \n",
       "21912         0.46           0.24                     0.53                  6   \n",
       "23484         0.64           0.16                     0.25                  0   \n",
       "\n",
       "       first_day_month  first_day_year  \n",
       "5698                 7            2017  \n",
       "6859                12            2017  \n",
       "8793                 3            2019  \n",
       "9581                 8            2018  \n",
       "10782                5            2016  \n",
       "14911                6            2018  \n",
       "16032                1            2019  \n",
       "16219                7            2018  \n",
       "16274                7            2018  \n",
       "17456                4            2019  \n",
       "17676                2            2018  \n",
       "18867                2            2018  \n",
       "21912                2            2018  \n",
       "23484                7            2018  \n",
       "\n",
       "[14 rows x 30 columns]"
      ]
     },
     "execution_count": 58,
     "metadata": {},
     "output_type": "execute_result"
    }
   ],
   "source": [
    "data.query('last_price < 500000')"
   ]
  },
  {
   "cell_type": "markdown",
   "metadata": {},
   "source": [
    "Статистические характеристики говорят о том, что средняя цена за квартиру в Санкт-Петербурге и Ленобласти составляет 6,5 млн рублей, медианное значение же соответствует цифре в 4,6 млн рублей. Также заметно наличие явных выбросов - квартир, стоимость которых превышает 700 млн. Кроме того, минимальное значение - 12 тысяч рублей, что больше похоже на ошибку при вводе данных, чем на реальную стоимость квартиры. Вывод срезов позволяет увидеть, что 131 квартира в датасете стоит больше 50 млн рублей, 14 квартир стоят меньше 500 тысяч рублей, что тоже выглядит странно. Наличие выбросов критично влияет на среднюю цену. Посмотрим на диаграмму размаха в диапазоне от 500 тысяч до 50 млн. "
   ]
  },
  {
   "cell_type": "code",
   "execution_count": 59,
   "metadata": {},
   "outputs": [
    {
     "data": {
      "image/png": "[encoded data removed]",
      "text/plain": [
       "<Figure size 144x720 with 1 Axes>"
      ]
     },
     "metadata": {
      "needs_background": "light"
     },
     "output_type": "display_data"
    }
   ],
   "source": [
    "data.boxplot('last_price', figsize=(2, 10))\n",
    "plt.ylim(500000, 50000000)\n",
    "plt.show()"
   ]
  },
  {
   "cell_type": "markdown",
   "metadata": {},
   "source": [
    "Мы видим, что большая часть значений лежит в диапазоне до 12 млн. Выведем гистограмму распределения."
   ]
  },
  {
   "cell_type": "code",
   "execution_count": 60,
   "metadata": {
    "scrolled": false
   },
   "outputs": [
    {
     "data": {
      "image/png": "[encoded data removed]",
      "text/plain": [
       "<Figure size 720x360 with 1 Axes>"
      ]
     },
     "metadata": {
      "needs_background": "light"
     },
     "output_type": "display_data"
    }
   ],
   "source": [
    "fig, ax = plt.subplots(figsize=(10, 5))\n",
    "ax.set_title('Гистограмма распределения цены')\n",
    "ax.grid()\n",
    "plt.hist(data['last_price'], bins=2000, color='red', alpha=0.8)\n",
    "ax.set_xlim([500000, 12000000])\n",
    "plt.xlabel('цена, млн')\n",
    "plt.ylabel('количество квартир')\n",
    "\n",
    "plt.show()"
   ]
  },
  {
   "cell_type": "code",
   "execution_count": 61,
   "metadata": {},
   "outputs": [
    {
     "data": {
      "text/plain": [
       "1926"
      ]
     },
     "execution_count": 61,
     "metadata": {},
     "output_type": "execute_result"
    }
   ],
   "source": [
    "len(data[data['last_price'] > 12000000])"
   ]
  },
  {
   "cell_type": "markdown",
   "metadata": {},
   "source": [
    "Такое распределение соответствует нормальному. Эти данные пригодятся нам для расчетов средней цены за квадратный метр в регионе. Остальные 1926 придется удалить.  "
   ]
  },
  {
   "cell_type": "markdown",
   "metadata": {},
   "source": [
    "**Число комнат**"
   ]
  },
  {
   "cell_type": "code",
   "execution_count": 62,
   "metadata": {
    "scrolled": true
   },
   "outputs": [
    {
     "data": {
      "text/plain": [
       "count    23565.000000\n",
       "mean         2.070656\n",
       "std          1.078591\n",
       "min          0.000000\n",
       "25%          1.000000\n",
       "50%          2.000000\n",
       "75%          3.000000\n",
       "max         19.000000\n",
       "Name: rooms, dtype: float64"
      ]
     },
     "execution_count": 62,
     "metadata": {},
     "output_type": "execute_result"
    }
   ],
   "source": [
    "data['rooms'].describe()"
   ]
  },
  {
   "cell_type": "markdown",
   "metadata": {},
   "source": [
    "Большинство квартир в датасете одно-, двух- или трехкомнатные, однако наблюдаются и такие, в которых число комнат достигает 19, а также некоторое количество квартир с открытой планировкой. "
   ]
  },
  {
   "cell_type": "code",
   "execution_count": 63,
   "metadata": {},
   "outputs": [
    {
     "data": {
      "image/png": "[encoded data removed]",
      "text/plain": [
       "<Figure size 144x720 with 1 Axes>"
      ]
     },
     "metadata": {
      "needs_background": "light"
     },
     "output_type": "display_data"
    }
   ],
   "source": [
    "data.boxplot('rooms', figsize=(2, 10))\n",
    "plt.show()"
   ]
  },
  {
   "cell_type": "code",
   "execution_count": 64,
   "metadata": {
    "scrolled": true
   },
   "outputs": [
    {
     "data": {
      "image/png": "[encoded data removed]",
      "text/plain": [
       "<Figure size 720x360 with 1 Axes>"
      ]
     },
     "metadata": {
      "needs_background": "light"
     },
     "output_type": "display_data"
    }
   ],
   "source": [
    "fig, ax = plt.subplots(figsize=(10, 5))\n",
    "ax.set_title('Гистограмма распределения числа комнат')\n",
    "ax.grid()\n",
    "plt.hist(data['rooms'], bins=10, color='blue', alpha=0.8, range=(0, 10))\n",
    "plt.xlabel('количество комнат')\n",
    "plt.ylabel('количество квартир')\n",
    "\n",
    "plt.show()"
   ]
  },
  {
   "cell_type": "markdown",
   "metadata": {},
   "source": [
    "Так, приблизительно 8 тысяч квартир в датасете однокомнатные, 7,9 тысяч - двухкомнатные, 5,8 тысяч квартир трехкомнатные, в 1,1 тысяче четыре комнаты, в 300 - 5 комнат и в 200 открытая планировка или студия. Распределение соотвествует нормальному с небольшой скошенностью вправо, поскольку в датасете встречаются редкие квартиры с числом комнат превышающим 6 (Их всего 90, от них можно избавиться). "
   ]
  },
  {
   "cell_type": "code",
   "execution_count": 65,
   "metadata": {
    "scrolled": true
   },
   "outputs": [
    {
     "data": {
      "text/html": [
       "<div>\n",
       "<style scoped>\n",
       "    .dataframe tbody tr th:only-of-type {\n",
       "        vertical-align: middle;\n",
       "    }\n",
       "\n",
       "    .dataframe tbody tr th {\n",
       "        vertical-align: top;\n",
       "    }\n",
       "\n",
       "    .dataframe thead th {\n",
       "        text-align: right;\n",
       "    }\n",
       "</style>\n",
       "<table border=\"1\" class=\"dataframe\">\n",
       "  <thead>\n",
       "    <tr style=\"text-align: right;\">\n",
       "      <th></th>\n",
       "      <th>total_images</th>\n",
       "      <th>last_price</th>\n",
       "      <th>total_area</th>\n",
       "      <th>first_day_exposition</th>\n",
       "      <th>rooms</th>\n",
       "      <th>ceiling_height</th>\n",
       "      <th>floors_total</th>\n",
       "      <th>living_area</th>\n",
       "      <th>floor</th>\n",
       "      <th>is_apartment</th>\n",
       "      <th>...</th>\n",
       "      <th>ponds_nearest</th>\n",
       "      <th>days_exposition</th>\n",
       "      <th>price_per_metre</th>\n",
       "      <th>floors_category</th>\n",
       "      <th>living_ratio</th>\n",
       "      <th>kitchen_ratio</th>\n",
       "      <th>kitchen_to_living_ratio</th>\n",
       "      <th>first_day_weekday</th>\n",
       "      <th>first_day_month</th>\n",
       "      <th>first_day_year</th>\n",
       "    </tr>\n",
       "  </thead>\n",
       "  <tbody>\n",
       "    <tr>\n",
       "      <th>581</th>\n",
       "      <td>20</td>\n",
       "      <td>65000000</td>\n",
       "      <td>365</td>\n",
       "      <td>2019-03-18</td>\n",
       "      <td>7</td>\n",
       "      <td>2.90</td>\n",
       "      <td>7</td>\n",
       "      <td>247</td>\n",
       "      <td>7</td>\n",
       "      <td>True</td>\n",
       "      <td>...</td>\n",
       "      <td>58.0</td>\n",
       "      <td>99999</td>\n",
       "      <td>178082.191781</td>\n",
       "      <td>последний</td>\n",
       "      <td>0.68</td>\n",
       "      <td>0.093</td>\n",
       "      <td>0.14</td>\n",
       "      <td>0</td>\n",
       "      <td>3</td>\n",
       "      <td>2019</td>\n",
       "    </tr>\n",
       "    <tr>\n",
       "      <th>648</th>\n",
       "      <td>3</td>\n",
       "      <td>17500000</td>\n",
       "      <td>183</td>\n",
       "      <td>2018-07-01</td>\n",
       "      <td>11</td>\n",
       "      <td>3.40</td>\n",
       "      <td>7</td>\n",
       "      <td>138</td>\n",
       "      <td>7</td>\n",
       "      <td>True</td>\n",
       "      <td>...</td>\n",
       "      <td>NaN</td>\n",
       "      <td>99999</td>\n",
       "      <td>95628.415301</td>\n",
       "      <td>последний</td>\n",
       "      <td>0.75</td>\n",
       "      <td>0.071</td>\n",
       "      <td>0.094</td>\n",
       "      <td>6</td>\n",
       "      <td>7</td>\n",
       "      <td>2018</td>\n",
       "    </tr>\n",
       "    <tr>\n",
       "      <th>660</th>\n",
       "      <td>3</td>\n",
       "      <td>49950000</td>\n",
       "      <td>483</td>\n",
       "      <td>2017-10-04</td>\n",
       "      <td>7</td>\n",
       "      <td>3.20</td>\n",
       "      <td>6</td>\n",
       "      <td>312</td>\n",
       "      <td>4</td>\n",
       "      <td>True</td>\n",
       "      <td>...</td>\n",
       "      <td>22.0</td>\n",
       "      <td>391</td>\n",
       "      <td>103416.149068</td>\n",
       "      <td>другой</td>\n",
       "      <td>0.65</td>\n",
       "      <td>0.054</td>\n",
       "      <td>0.083</td>\n",
       "      <td>2</td>\n",
       "      <td>10</td>\n",
       "      <td>2017</td>\n",
       "    </tr>\n",
       "    <tr>\n",
       "      <th>681</th>\n",
       "      <td>20</td>\n",
       "      <td>24900000</td>\n",
       "      <td>249</td>\n",
       "      <td>2015-08-13</td>\n",
       "      <td>7</td>\n",
       "      <td>777.00</td>\n",
       "      <td>5</td>\n",
       "      <td>180</td>\n",
       "      <td>4</td>\n",
       "      <td>True</td>\n",
       "      <td>...</td>\n",
       "      <td>NaN</td>\n",
       "      <td>781</td>\n",
       "      <td>100000.000000</td>\n",
       "      <td>другой</td>\n",
       "      <td>0.72</td>\n",
       "      <td>0.092</td>\n",
       "      <td>0.13</td>\n",
       "      <td>3</td>\n",
       "      <td>8</td>\n",
       "      <td>2015</td>\n",
       "    </tr>\n",
       "    <tr>\n",
       "      <th>750</th>\n",
       "      <td>9</td>\n",
       "      <td>29500000</td>\n",
       "      <td>188</td>\n",
       "      <td>2017-03-04</td>\n",
       "      <td>7</td>\n",
       "      <td>2.70</td>\n",
       "      <td>2</td>\n",
       "      <td>119</td>\n",
       "      <td>1</td>\n",
       "      <td>True</td>\n",
       "      <td>...</td>\n",
       "      <td>267.0</td>\n",
       "      <td>246</td>\n",
       "      <td>156914.893617</td>\n",
       "      <td>первый</td>\n",
       "      <td>0.63</td>\n",
       "      <td>0.053</td>\n",
       "      <td>0.084</td>\n",
       "      <td>5</td>\n",
       "      <td>3</td>\n",
       "      <td>2017</td>\n",
       "    </tr>\n",
       "    <tr>\n",
       "      <th>...</th>\n",
       "      <td>...</td>\n",
       "      <td>...</td>\n",
       "      <td>...</td>\n",
       "      <td>...</td>\n",
       "      <td>...</td>\n",
       "      <td>...</td>\n",
       "      <td>...</td>\n",
       "      <td>...</td>\n",
       "      <td>...</td>\n",
       "      <td>...</td>\n",
       "      <td>...</td>\n",
       "      <td>...</td>\n",
       "      <td>...</td>\n",
       "      <td>...</td>\n",
       "      <td>...</td>\n",
       "      <td>...</td>\n",
       "      <td>...</td>\n",
       "      <td>...</td>\n",
       "      <td>...</td>\n",
       "      <td>...</td>\n",
       "      <td>...</td>\n",
       "    </tr>\n",
       "    <tr>\n",
       "      <th>22264</th>\n",
       "      <td>20</td>\n",
       "      <td>22000000</td>\n",
       "      <td>141</td>\n",
       "      <td>2019-01-24</td>\n",
       "      <td>7</td>\n",
       "      <td>777.00</td>\n",
       "      <td>5</td>\n",
       "      <td>84</td>\n",
       "      <td>2</td>\n",
       "      <td>True</td>\n",
       "      <td>...</td>\n",
       "      <td>468.0</td>\n",
       "      <td>90</td>\n",
       "      <td>156028.368794</td>\n",
       "      <td>другой</td>\n",
       "      <td>0.6</td>\n",
       "      <td>0.18</td>\n",
       "      <td>0.3</td>\n",
       "      <td>3</td>\n",
       "      <td>1</td>\n",
       "      <td>2019</td>\n",
       "    </tr>\n",
       "    <tr>\n",
       "      <th>22420</th>\n",
       "      <td>12</td>\n",
       "      <td>25000000</td>\n",
       "      <td>196</td>\n",
       "      <td>2016-11-04</td>\n",
       "      <td>7</td>\n",
       "      <td>3.50</td>\n",
       "      <td>6</td>\n",
       "      <td>145</td>\n",
       "      <td>5</td>\n",
       "      <td>True</td>\n",
       "      <td>...</td>\n",
       "      <td>NaN</td>\n",
       "      <td>99999</td>\n",
       "      <td>127551.020408</td>\n",
       "      <td>другой</td>\n",
       "      <td>0.74</td>\n",
       "      <td>0.087</td>\n",
       "      <td>0.12</td>\n",
       "      <td>4</td>\n",
       "      <td>11</td>\n",
       "      <td>2016</td>\n",
       "    </tr>\n",
       "    <tr>\n",
       "      <th>22649</th>\n",
       "      <td>18</td>\n",
       "      <td>22900000</td>\n",
       "      <td>206</td>\n",
       "      <td>2016-04-04</td>\n",
       "      <td>7</td>\n",
       "      <td>777.00</td>\n",
       "      <td>6</td>\n",
       "      <td>142</td>\n",
       "      <td>2</td>\n",
       "      <td>True</td>\n",
       "      <td>...</td>\n",
       "      <td>251.0</td>\n",
       "      <td>75</td>\n",
       "      <td>111165.048544</td>\n",
       "      <td>другой</td>\n",
       "      <td>0.69</td>\n",
       "      <td>0.078</td>\n",
       "      <td>0.11</td>\n",
       "      <td>0</td>\n",
       "      <td>4</td>\n",
       "      <td>2016</td>\n",
       "    </tr>\n",
       "    <tr>\n",
       "      <th>23400</th>\n",
       "      <td>17</td>\n",
       "      <td>30000000</td>\n",
       "      <td>213</td>\n",
       "      <td>2017-09-28</td>\n",
       "      <td>7</td>\n",
       "      <td>3.40</td>\n",
       "      <td>5</td>\n",
       "      <td>151</td>\n",
       "      <td>5</td>\n",
       "      <td>True</td>\n",
       "      <td>...</td>\n",
       "      <td>30.0</td>\n",
       "      <td>299</td>\n",
       "      <td>140845.070423</td>\n",
       "      <td>последний</td>\n",
       "      <td>0.71</td>\n",
       "      <td>0.14</td>\n",
       "      <td>0.2</td>\n",
       "      <td>3</td>\n",
       "      <td>9</td>\n",
       "      <td>2017</td>\n",
       "    </tr>\n",
       "    <tr>\n",
       "      <th>23555</th>\n",
       "      <td>5</td>\n",
       "      <td>15350000</td>\n",
       "      <td>158</td>\n",
       "      <td>2019-03-07</td>\n",
       "      <td>7</td>\n",
       "      <td>2.95</td>\n",
       "      <td>7</td>\n",
       "      <td>57</td>\n",
       "      <td>7</td>\n",
       "      <td>True</td>\n",
       "      <td>...</td>\n",
       "      <td>NaN</td>\n",
       "      <td>99999</td>\n",
       "      <td>97151.898734</td>\n",
       "      <td>последний</td>\n",
       "      <td>0.36</td>\n",
       "      <td>0.076</td>\n",
       "      <td>0.21</td>\n",
       "      <td>3</td>\n",
       "      <td>3</td>\n",
       "      <td>2019</td>\n",
       "    </tr>\n",
       "  </tbody>\n",
       "</table>\n",
       "<p>90 rows × 30 columns</p>\n",
       "</div>"
      ],
      "text/plain": [
       "       total_images  last_price  total_area first_day_exposition  rooms  \\\n",
       "581              20    65000000         365           2019-03-18      7   \n",
       "648               3    17500000         183           2018-07-01     11   \n",
       "660               3    49950000         483           2017-10-04      7   \n",
       "681              20    24900000         249           2015-08-13      7   \n",
       "750               9    29500000         188           2017-03-04      7   \n",
       "...             ...         ...         ...                  ...    ...   \n",
       "22264            20    22000000         141           2019-01-24      7   \n",
       "22420            12    25000000         196           2016-11-04      7   \n",
       "22649            18    22900000         206           2016-04-04      7   \n",
       "23400            17    30000000         213           2017-09-28      7   \n",
       "23555             5    15350000         158           2019-03-07      7   \n",
       "\n",
       "       ceiling_height  floors_total  living_area  floor  is_apartment  ...  \\\n",
       "581              2.90             7          247      7          True  ...   \n",
       "648              3.40             7          138      7          True  ...   \n",
       "660              3.20             6          312      4          True  ...   \n",
       "681            777.00             5          180      4          True  ...   \n",
       "750              2.70             2          119      1          True  ...   \n",
       "...               ...           ...          ...    ...           ...  ...   \n",
       "22264          777.00             5           84      2          True  ...   \n",
       "22420            3.50             6          145      5          True  ...   \n",
       "22649          777.00             6          142      2          True  ...   \n",
       "23400            3.40             5          151      5          True  ...   \n",
       "23555            2.95             7           57      7          True  ...   \n",
       "\n",
       "       ponds_nearest  days_exposition  price_per_metre  floors_category  \\\n",
       "581             58.0            99999    178082.191781        последний   \n",
       "648              NaN            99999     95628.415301        последний   \n",
       "660             22.0              391    103416.149068           другой   \n",
       "681              NaN              781    100000.000000           другой   \n",
       "750            267.0              246    156914.893617           первый   \n",
       "...              ...              ...              ...              ...   \n",
       "22264          468.0               90    156028.368794           другой   \n",
       "22420            NaN            99999    127551.020408           другой   \n",
       "22649          251.0               75    111165.048544           другой   \n",
       "23400           30.0              299    140845.070423        последний   \n",
       "23555            NaN            99999     97151.898734        последний   \n",
       "\n",
       "      living_ratio  kitchen_ratio  kitchen_to_living_ratio  first_day_weekday  \\\n",
       "581           0.68          0.093                     0.14                  0   \n",
       "648           0.75          0.071                    0.094                  6   \n",
       "660           0.65          0.054                    0.083                  2   \n",
       "681           0.72          0.092                     0.13                  3   \n",
       "750           0.63          0.053                    0.084                  5   \n",
       "...            ...            ...                      ...                ...   \n",
       "22264          0.6           0.18                      0.3                  3   \n",
       "22420         0.74          0.087                     0.12                  4   \n",
       "22649         0.69          0.078                     0.11                  0   \n",
       "23400         0.71           0.14                      0.2                  3   \n",
       "23555         0.36          0.076                     0.21                  3   \n",
       "\n",
       "       first_day_month  first_day_year  \n",
       "581                  3            2019  \n",
       "648                  7            2018  \n",
       "660                 10            2017  \n",
       "681                  8            2015  \n",
       "750                  3            2017  \n",
       "...                ...             ...  \n",
       "22264                1            2019  \n",
       "22420               11            2016  \n",
       "22649                4            2016  \n",
       "23400                9            2017  \n",
       "23555                3            2019  \n",
       "\n",
       "[90 rows x 30 columns]"
      ]
     },
     "execution_count": 65,
     "metadata": {},
     "output_type": "execute_result"
    }
   ],
   "source": [
    "data.query('rooms > 6')"
   ]
  },
  {
   "cell_type": "markdown",
   "metadata": {},
   "source": [
    "**Высота потолков**"
   ]
  },
  {
   "cell_type": "code",
   "execution_count": 66,
   "metadata": {
    "scrolled": true
   },
   "outputs": [
    {
     "data": {
      "text/plain": [
       "count    23565.000000\n",
       "mean       301.200567\n",
       "std        376.853469\n",
       "min          1.000000\n",
       "25%          2.600000\n",
       "50%          2.900000\n",
       "75%        777.000000\n",
       "max        777.000000\n",
       "Name: ceiling_height, dtype: float64"
      ]
     },
     "execution_count": 66,
     "metadata": {},
     "output_type": "execute_result"
    }
   ],
   "source": [
    "data['ceiling_height'].describe()"
   ]
  },
  {
   "cell_type": "markdown",
   "metadata": {},
   "source": [
    "Ранее пропуски, которых было довольно много, были заменены на маркеры, что повлияло на среднее значение. Для построения гистограммы их необходио отсечь. "
   ]
  },
  {
   "cell_type": "code",
   "execution_count": 67,
   "metadata": {},
   "outputs": [
    {
     "data": {
      "text/plain": [
       "count    14481.000000\n",
       "mean         2.729325\n",
       "std          0.319779\n",
       "min          1.000000\n",
       "25%          2.510000\n",
       "50%          2.650000\n",
       "75%          2.800000\n",
       "max         14.000000\n",
       "Name: ceiling_height, dtype: float64"
      ]
     },
     "execution_count": 67,
     "metadata": {},
     "output_type": "execute_result"
    }
   ],
   "source": [
    "ceiling_cut = data.query('ceiling_height != 777')\n",
    "ceiling_cut['ceiling_height'].describe()"
   ]
  },
  {
   "cell_type": "code",
   "execution_count": 68,
   "metadata": {
    "scrolled": true
   },
   "outputs": [
    {
     "data": {
      "image/png": "[encoded data removed]",
      "text/plain": [
       "<Figure size 144x720 with 1 Axes>"
      ]
     },
     "metadata": {
      "needs_background": "light"
     },
     "output_type": "display_data"
    }
   ],
   "source": [
    "ceiling_cut.boxplot('ceiling_height', figsize=(2, 10))\n",
    "plt.show()"
   ]
  },
  {
   "cell_type": "markdown",
   "metadata": {},
   "source": [
    "Диаграмма размаха показывает, что выбросы есть по обеим сторонам от \"усов\" диаграммы. В целом, средняя высота потолков по городу варьируется от 2,5 до 3 м. "
   ]
  },
  {
   "cell_type": "code",
   "execution_count": 69,
   "metadata": {},
   "outputs": [
    {
     "data": {
      "image/png": "[encoded data removed]",
      "text/plain": [
       "<Figure size 720x360 with 1 Axes>"
      ]
     },
     "metadata": {
      "needs_background": "light"
     },
     "output_type": "display_data"
    }
   ],
   "source": [
    "fig, ax = plt.subplots(figsize=(10, 5))\n",
    "ax.set_title('Гистограмма распределения высоты пототков')\n",
    "ax.grid()\n",
    "plt.hist(ceiling_cut['ceiling_height'], bins=20, range=(2.4, 4), color='yellow', alpha=0.9)\n",
    "plt.xlabel('высота потолков')\n",
    "plt.ylabel('количество квартир')\n",
    "\n",
    "plt.show()"
   ]
  },
  {
   "cell_type": "markdown",
   "metadata": {},
   "source": [
    "В абсолютном большинстве квартир высота потолка составляет 2,5 м. Также на графике заметно, что существует некоторая совокупность квартир с потолками 2,6 м, 2,7 м, 2,8 м и 3 м. Это указыввает на обилие типовой застройки в регоине. Согласно графику, для дальнейшей работы нам понадобятся данные в пределах от 2,4 (законодательный минимум) до 3,5 метров."
   ]
  },
  {
   "cell_type": "markdown",
   "metadata": {},
   "source": [
    "### Изучение время продажи квартиры"
   ]
  },
  {
   "cell_type": "code",
   "execution_count": 70,
   "metadata": {},
   "outputs": [
    {
     "data": {
      "text/plain": [
       "count    23565.000000\n",
       "mean     13612.682750\n",
       "std      34065.040353\n",
       "min          1.000000\n",
       "25%         45.000000\n",
       "50%        124.000000\n",
       "75%        390.000000\n",
       "max      99999.000000\n",
       "Name: days_exposition, dtype: float64"
      ]
     },
     "execution_count": 70,
     "metadata": {},
     "output_type": "execute_result"
    }
   ],
   "source": [
    "data['days_exposition'].describe()"
   ]
  },
  {
   "cell_type": "markdown",
   "metadata": {},
   "source": [
    "Пропуски в этих данных также заполнены маркерами, поскольку, вероятно, на момент создания датасета квартира все еще находилась в продаже. Оценим статистические характеристики без учета пропусков. "
   ]
  },
  {
   "cell_type": "code",
   "execution_count": 71,
   "metadata": {},
   "outputs": [
    {
     "data": {
      "text/plain": [
       "count    20394.000000\n",
       "mean       180.741395\n",
       "std        219.732782\n",
       "min          1.000000\n",
       "25%         45.000000\n",
       "50%         95.000000\n",
       "75%        231.000000\n",
       "max       1580.000000\n",
       "Name: days_exposition, dtype: float64"
      ]
     },
     "execution_count": 71,
     "metadata": {},
     "output_type": "execute_result"
    }
   ],
   "source": [
    "days_cut = data.query('days_exposition != 99999')\n",
    "days_cut['days_exposition'].describe()"
   ]
  },
  {
   "cell_type": "markdown",
   "metadata": {},
   "source": [
    "Медиана времени продажи составляет 95 дней, тогда как среднее почти в два раза больше - 180 дней. Это говорит о том, что в данных большое количество крупных значений, выходящих за рамки стандартного времени продажи."
   ]
  },
  {
   "cell_type": "code",
   "execution_count": 72,
   "metadata": {
    "scrolled": false
   },
   "outputs": [
    {
     "data": {
      "image/png": "[encoded data removed]",
      "text/plain": [
       "<Figure size 144x720 with 1 Axes>"
      ]
     },
     "metadata": {
      "needs_background": "light"
     },
     "output_type": "display_data"
    }
   ],
   "source": [
    "days_cut.boxplot('days_exposition', figsize=(2, 10))\n",
    "plt.show()"
   ]
  },
  {
   "cell_type": "markdown",
   "metadata": {},
   "source": [
    "Действительно, диаграмма размаха показывает, что в среднем квартиры продаются в течение полутора лет, однако многие из тех, что предсталены в датасете, были выставлены на продажу в течение двух, трех и более лет. "
   ]
  },
  {
   "cell_type": "code",
   "execution_count": 73,
   "metadata": {},
   "outputs": [
    {
     "data": {
      "image/png": "[encoded data removed]",
      "text/plain": [
       "<Figure size 720x360 with 1 Axes>"
      ]
     },
     "metadata": {
      "needs_background": "light"
     },
     "output_type": "display_data"
    }
   ],
   "source": [
    "fig, ax = plt.subplots(figsize=(10, 5))\n",
    "ax.set_title('Гистограмма распределения времени')\n",
    "ax.grid()\n",
    "plt.hist(days_cut['days_exposition'], bins=200, color='purple', alpha=0.7)\n",
    "plt.xlabel('время продажи')\n",
    "plt.ylabel('количество квартир')\n",
    "\n",
    "plt.show()"
   ]
  },
  {
   "cell_type": "markdown",
   "metadata": {},
   "source": [
    "Выставим для гистограммы лимиты по \"усам\" диаграммы размаха. "
   ]
  },
  {
   "cell_type": "code",
   "execution_count": 74,
   "metadata": {
    "scrolled": true
   },
   "outputs": [
    {
     "data": {
      "image/png": "[encoded data removed]",
      "text/plain": [
       "<Figure size 720x360 with 1 Axes>"
      ]
     },
     "metadata": {
      "needs_background": "light"
     },
     "output_type": "display_data"
    }
   ],
   "source": [
    "fig, ax = plt.subplots(figsize=(10, 5))\n",
    "ax.set_title('Гистограмма распределения времени')\n",
    "ax.grid()\n",
    "plt.hist(days_cut['days_exposition'], range=(0, 500), bins=100, color='purple', alpha=0.7)\n",
    "plt.xlabel('время продажи')\n",
    "plt.ylabel('количество квартир')\n",
    "\n",
    "plt.show()"
   ]
  },
  {
   "cell_type": "code",
   "execution_count": 75,
   "metadata": {},
   "outputs": [
    {
     "data": {
      "text/plain": [
       "5950"
      ]
     },
     "execution_count": 75,
     "metadata": {},
     "output_type": "execute_result"
    }
   ],
   "source": [
    "len(days_cut[days_cut['days_exposition'] <= 45])"
   ]
  },
  {
   "cell_type": "code",
   "execution_count": 76,
   "metadata": {},
   "outputs": [
    {
     "data": {
      "text/plain": [
       "15300"
      ]
     },
     "execution_count": 76,
     "metadata": {},
     "output_type": "execute_result"
    }
   ],
   "source": [
    "len(days_cut[days_cut['days_exposition'] <= 231])"
   ]
  },
  {
   "cell_type": "code",
   "execution_count": 77,
   "metadata": {},
   "outputs": [
    {
     "data": {
      "text/plain": [
       "17369"
      ]
     },
     "execution_count": 77,
     "metadata": {},
     "output_type": "execute_result"
    }
   ],
   "source": [
    "len(days_cut[days_cut['days_exposition'] <= 365])"
   ]
  },
  {
   "cell_type": "code",
   "execution_count": 78,
   "metadata": {},
   "outputs": [
    {
     "data": {
      "text/plain": [
       "1737"
      ]
     },
     "execution_count": 78,
     "metadata": {},
     "output_type": "execute_result"
    }
   ],
   "source": [
    "len(days_cut[days_cut['days_exposition'] > 500])"
   ]
  },
  {
   "cell_type": "code",
   "execution_count": 79,
   "metadata": {},
   "outputs": [
    {
     "data": {
      "text/plain": [
       "3171"
      ]
     },
     "execution_count": 79,
     "metadata": {},
     "output_type": "execute_result"
    }
   ],
   "source": [
    "len(data[data['days_exposition'] == 99999])"
   ]
  },
  {
   "cell_type": "code",
   "execution_count": 80,
   "metadata": {},
   "outputs": [
    {
     "data": {
      "text/plain": [
       "104.85358972882722"
      ]
     },
     "execution_count": 80,
     "metadata": {},
     "output_type": "execute_result"
    }
   ],
   "source": [
    "year = data.query('days_exposition <= 365')\n",
    "year['days_exposition'].mean()"
   ]
  },
  {
   "cell_type": "markdown",
   "metadata": {},
   "source": [
    "Почти 6 тысяч квартир в датасете были проданы менее, чем за полтора месяца (45 дней). Это параметр, по которому можно считать, что квартира была продана быстро. В рамках третьего квартиля (231 день и 7,7 месяцев) было продано еще 9,5 тысяч квартир. \"Усы\" диаграммы размаха заканчиваются на отметке в 500 дней, значит абсолютное большинство квартир продается в пределах полутора лет. \n",
    "\n",
    "Если рассматривать более удобный временной промежуток, то 17,3 квартир было продано за первый год с момента выставления объявления. В среднем за год квартира продается за 3,5 месяца (104 дня). \n",
    "\n",
    "В более 3 тысячах объявлений снятия квартир с продажи не указана. "
   ]
  },
  {
   "cell_type": "markdown",
   "metadata": {},
   "source": [
    "### Редкие или выбивающиеся значения "
   ]
  },
  {
   "cell_type": "markdown",
   "metadata": {},
   "source": [
    "Опираясь на предыдущие расчеты, нам необходимо избавиться от выбросов, поскольку они не позволяют качественно оценить среднюю цену за квадратный метр за стандартную квартиру в регионе площадью до 120 метров, с высотой потолков до 3,5 метров, количеством комнат не превышающим 6 и ценой до 12 млн рублей, коих большинство. Аномалии в данном случае могут негативно повлиять на построение автоматизированной системы расчета данных на рынке недвижимости. "
   ]
  },
  {
   "cell_type": "markdown",
   "metadata": {},
   "source": [
    "**Площадь**"
   ]
  },
  {
   "cell_type": "code",
   "execution_count": 81,
   "metadata": {},
   "outputs": [
    {
     "data": {
      "text/plain": [
       "22520"
      ]
     },
     "execution_count": 81,
     "metadata": {},
     "output_type": "execute_result"
    }
   ],
   "source": [
    "data.drop(data[data['total_area'] > 120].index, inplace=True)\n",
    "len(data['total_area'])"
   ]
  },
  {
   "cell_type": "markdown",
   "metadata": {},
   "source": [
    "**Цена**"
   ]
  },
  {
   "cell_type": "code",
   "execution_count": 82,
   "metadata": {},
   "outputs": [
    {
     "data": {
      "text/plain": [
       "21495"
      ]
     },
     "execution_count": 82,
     "metadata": {},
     "output_type": "execute_result"
    }
   ],
   "source": [
    "data.drop(data[data['last_price'] > 12000000].index, inplace=True)\n",
    "data.drop(data[data['last_price'] < 500000].index, inplace=True)\n",
    "len(data['last_price'])"
   ]
  },
  {
   "cell_type": "markdown",
   "metadata": {},
   "source": [
    "**Высота потолков**"
   ]
  },
  {
   "cell_type": "markdown",
   "metadata": {},
   "source": [
    "Выбросов и пропусков в этих данных настолько много, что их удаление повлечет уменьшение датасета почти на 40 процентов. Данные о высоте потребуются нам для анализа сегмента квартир в центре Петербурга, поэтому позже посчитаем, какой процент данных некорректен, учитывая сегментацию. "
   ]
  },
  {
   "cell_type": "markdown",
   "metadata": {},
   "source": [
    "**Количество комнат** "
   ]
  },
  {
   "cell_type": "code",
   "execution_count": 83,
   "metadata": {},
   "outputs": [
    {
     "data": {
      "text/plain": [
       "21495"
      ]
     },
     "execution_count": 83,
     "metadata": {},
     "output_type": "execute_result"
    }
   ],
   "source": [
    "data.drop(data[data['rooms'] > 6].index, inplace=True)\n",
    "len(data['rooms'])"
   ]
  },
  {
   "cell_type": "markdown",
   "metadata": {},
   "source": [
    "Большое количество комнат, цена и площадь связаны, поскольку удаление неподходящих для анализа данных о количестве комнат после ликвидации выбросов в цене и площади не изменило количество строк в датасете. "
   ]
  },
  {
   "cell_type": "code",
   "execution_count": 84,
   "metadata": {},
   "outputs": [
    {
     "data": {
      "text/plain": [
       "(21495, 30)"
      ]
     },
     "execution_count": 84,
     "metadata": {},
     "output_type": "execute_result"
    }
   ],
   "source": [
    "data.shape"
   ]
  },
  {
   "cell_type": "markdown",
   "metadata": {},
   "source": [
    "***Вывод***"
   ]
  },
  {
   "cell_type": "markdown",
   "metadata": {},
   "source": [
    "Таким образом, у нас осталось 21495 строк, пригодных для анализа, не учитывая данные о высоте потолков. "
   ]
  },
  {
   "cell_type": "markdown",
   "metadata": {},
   "source": [
    "### Исследование факторов, влияющих на стоимость квартиры ###"
   ]
  },
  {
   "cell_type": "markdown",
   "metadata": {},
   "source": [
    "Нам необходимо выяснить, зависит ли цена от площади, числа комнат, удалённости от центра, а также от того, на каком этаже расположена квартира: первом, последнем или другом, и от даты размещения: дня недели, месяца и года."
   ]
  },
  {
   "cell_type": "markdown",
   "metadata": {},
   "source": [
    "**Зависимость цены от площади**"
   ]
  },
  {
   "cell_type": "code",
   "execution_count": 85,
   "metadata": {
    "scrolled": false
   },
   "outputs": [
    {
     "data": {
      "image/png": "[encoded data removed]",
      "text/plain": [
       "<Figure size 576x432 with 2 Axes>"
      ]
     },
     "metadata": {
      "needs_background": "light"
     },
     "output_type": "display_data"
    }
   ],
   "source": [
    "data.sort_values('total_area').plot(x='total_area', y='last_price', kind='hexbin', \n",
    "                                    gridsize=20, figsize=(8, 6), sharex=False, grid=True, cmap=plt.cm.Reds)\n",
    "plt.xlabel('Площадь')\n",
    "plt.ylabel('Цена ')\n",
    "plt.show()"
   ]
  },
  {
   "cell_type": "markdown",
   "metadata": {},
   "source": [
    "График показывает, что с увеличением площади растет цена на квартиру. Так, если цена за квартиру площадью 35 кв.м около 3,7 млн. рублей, то квартира площадью 60 кв.м стоит уже 5,8 млн. рублей.  "
   ]
  },
  {
   "cell_type": "markdown",
   "metadata": {},
   "source": [
    "**Зависимость цены от числа комнат** "
   ]
  },
  {
   "cell_type": "code",
   "execution_count": 86,
   "metadata": {
    "scrolled": false
   },
   "outputs": [
    {
     "data": {
      "image/png": "[encoded data removed]",
      "text/plain": [
       "<Figure size 720x360 with 1 Axes>"
      ]
     },
     "metadata": {
      "needs_background": "light"
     },
     "output_type": "display_data"
    }
   ],
   "source": [
    "data.pivot_table(index='rooms', values='last_price', aggfunc='median').plot(\n",
    "    kind='bar', figsize=(10, 5), grid=True, color='blue', alpha=0.8)\n",
    "plt.show()"
   ]
  },
  {
   "cell_type": "markdown",
   "metadata": {},
   "source": [
    "Наблюдается прямая зависимость цены от количества комнат, связанная еще к тому же и с увеличением площади. Медианная цена за студию в Санкт-Петербурге и Ленобласти примерно 2,8 млн. рублей, цена за трехкомнатную квартиру в районе 5,8 млн. рублей. "
   ]
  },
  {
   "cell_type": "markdown",
   "metadata": {},
   "source": [
    "**Зависимость цены от этажа**"
   ]
  },
  {
   "cell_type": "code",
   "execution_count": 87,
   "metadata": {},
   "outputs": [
    {
     "data": {
      "text/html": [
       "<div>\n",
       "<style scoped>\n",
       "    .dataframe tbody tr th:only-of-type {\n",
       "        vertical-align: middle;\n",
       "    }\n",
       "\n",
       "    .dataframe tbody tr th {\n",
       "        vertical-align: top;\n",
       "    }\n",
       "\n",
       "    .dataframe thead th {\n",
       "        text-align: right;\n",
       "    }\n",
       "</style>\n",
       "<table border=\"1\" class=\"dataframe\">\n",
       "  <thead>\n",
       "    <tr style=\"text-align: right;\">\n",
       "      <th></th>\n",
       "      <th>total_images</th>\n",
       "      <th>last_price</th>\n",
       "      <th>total_area</th>\n",
       "      <th>first_day_exposition</th>\n",
       "      <th>rooms</th>\n",
       "      <th>ceiling_height</th>\n",
       "      <th>floors_total</th>\n",
       "      <th>living_area</th>\n",
       "      <th>floor</th>\n",
       "      <th>is_apartment</th>\n",
       "      <th>...</th>\n",
       "      <th>ponds_nearest</th>\n",
       "      <th>days_exposition</th>\n",
       "      <th>price_per_metre</th>\n",
       "      <th>floors_category</th>\n",
       "      <th>living_ratio</th>\n",
       "      <th>kitchen_ratio</th>\n",
       "      <th>kitchen_to_living_ratio</th>\n",
       "      <th>first_day_weekday</th>\n",
       "      <th>first_day_month</th>\n",
       "      <th>first_day_year</th>\n",
       "    </tr>\n",
       "  </thead>\n",
       "  <tbody>\n",
       "    <tr>\n",
       "      <th>1</th>\n",
       "      <td>7</td>\n",
       "      <td>3350000</td>\n",
       "      <td>40</td>\n",
       "      <td>2018-12-04</td>\n",
       "      <td>1</td>\n",
       "      <td>777.00</td>\n",
       "      <td>11</td>\n",
       "      <td>18</td>\n",
       "      <td>1</td>\n",
       "      <td>True</td>\n",
       "      <td>...</td>\n",
       "      <td>NaN</td>\n",
       "      <td>81</td>\n",
       "      <td>83750.000000</td>\n",
       "      <td>первый</td>\n",
       "      <td>0.45</td>\n",
       "      <td>0.28</td>\n",
       "      <td>0.61</td>\n",
       "      <td>1</td>\n",
       "      <td>12</td>\n",
       "      <td>2018</td>\n",
       "    </tr>\n",
       "    <tr>\n",
       "      <th>2</th>\n",
       "      <td>10</td>\n",
       "      <td>5196000</td>\n",
       "      <td>56</td>\n",
       "      <td>2015-08-20</td>\n",
       "      <td>2</td>\n",
       "      <td>777.00</td>\n",
       "      <td>5</td>\n",
       "      <td>34</td>\n",
       "      <td>4</td>\n",
       "      <td>True</td>\n",
       "      <td>...</td>\n",
       "      <td>574.0</td>\n",
       "      <td>558</td>\n",
       "      <td>92785.714286</td>\n",
       "      <td>другой</td>\n",
       "      <td>0.61</td>\n",
       "      <td>0.14</td>\n",
       "      <td>0.24</td>\n",
       "      <td>3</td>\n",
       "      <td>8</td>\n",
       "      <td>2015</td>\n",
       "    </tr>\n",
       "    <tr>\n",
       "      <th>4</th>\n",
       "      <td>2</td>\n",
       "      <td>10000000</td>\n",
       "      <td>100</td>\n",
       "      <td>2018-06-19</td>\n",
       "      <td>2</td>\n",
       "      <td>3.03</td>\n",
       "      <td>14</td>\n",
       "      <td>32</td>\n",
       "      <td>13</td>\n",
       "      <td>True</td>\n",
       "      <td>...</td>\n",
       "      <td>48.0</td>\n",
       "      <td>121</td>\n",
       "      <td>100000.000000</td>\n",
       "      <td>другой</td>\n",
       "      <td>0.32</td>\n",
       "      <td>0.41</td>\n",
       "      <td>1.3</td>\n",
       "      <td>1</td>\n",
       "      <td>6</td>\n",
       "      <td>2018</td>\n",
       "    </tr>\n",
       "    <tr>\n",
       "      <th>5</th>\n",
       "      <td>10</td>\n",
       "      <td>2890000</td>\n",
       "      <td>30</td>\n",
       "      <td>2018-09-10</td>\n",
       "      <td>1</td>\n",
       "      <td>777.00</td>\n",
       "      <td>12</td>\n",
       "      <td>14</td>\n",
       "      <td>5</td>\n",
       "      <td>True</td>\n",
       "      <td>...</td>\n",
       "      <td>NaN</td>\n",
       "      <td>55</td>\n",
       "      <td>96333.333333</td>\n",
       "      <td>другой</td>\n",
       "      <td>0.47</td>\n",
       "      <td>0.3</td>\n",
       "      <td>0.64</td>\n",
       "      <td>0</td>\n",
       "      <td>9</td>\n",
       "      <td>2018</td>\n",
       "    </tr>\n",
       "    <tr>\n",
       "      <th>6</th>\n",
       "      <td>6</td>\n",
       "      <td>3700000</td>\n",
       "      <td>37</td>\n",
       "      <td>2017-11-02</td>\n",
       "      <td>1</td>\n",
       "      <td>777.00</td>\n",
       "      <td>26</td>\n",
       "      <td>10</td>\n",
       "      <td>6</td>\n",
       "      <td>True</td>\n",
       "      <td>...</td>\n",
       "      <td>NaN</td>\n",
       "      <td>155</td>\n",
       "      <td>100000.000000</td>\n",
       "      <td>другой</td>\n",
       "      <td>0.27</td>\n",
       "      <td>0.38</td>\n",
       "      <td>1.4</td>\n",
       "      <td>3</td>\n",
       "      <td>11</td>\n",
       "      <td>2017</td>\n",
       "    </tr>\n",
       "  </tbody>\n",
       "</table>\n",
       "<p>5 rows × 30 columns</p>\n",
       "</div>"
      ],
      "text/plain": [
       "   total_images  last_price  total_area first_day_exposition  rooms  \\\n",
       "1             7     3350000          40           2018-12-04      1   \n",
       "2            10     5196000          56           2015-08-20      2   \n",
       "4             2    10000000         100           2018-06-19      2   \n",
       "5            10     2890000          30           2018-09-10      1   \n",
       "6             6     3700000          37           2017-11-02      1   \n",
       "\n",
       "   ceiling_height  floors_total  living_area  floor  is_apartment  ...  \\\n",
       "1          777.00            11           18      1          True  ...   \n",
       "2          777.00             5           34      4          True  ...   \n",
       "4            3.03            14           32     13          True  ...   \n",
       "5          777.00            12           14      5          True  ...   \n",
       "6          777.00            26           10      6          True  ...   \n",
       "\n",
       "   ponds_nearest  days_exposition  price_per_metre  floors_category  \\\n",
       "1            NaN               81     83750.000000           первый   \n",
       "2          574.0              558     92785.714286           другой   \n",
       "4           48.0              121    100000.000000           другой   \n",
       "5            NaN               55     96333.333333           другой   \n",
       "6            NaN              155    100000.000000           другой   \n",
       "\n",
       "  living_ratio  kitchen_ratio  kitchen_to_living_ratio  first_day_weekday  \\\n",
       "1         0.45           0.28                     0.61                  1   \n",
       "2         0.61           0.14                     0.24                  3   \n",
       "4         0.32           0.41                      1.3                  1   \n",
       "5         0.47            0.3                     0.64                  0   \n",
       "6         0.27           0.38                      1.4                  3   \n",
       "\n",
       "   first_day_month  first_day_year  \n",
       "1               12            2018  \n",
       "2                8            2015  \n",
       "4                6            2018  \n",
       "5                9            2018  \n",
       "6               11            2017  \n",
       "\n",
       "[5 rows x 30 columns]"
      ]
     },
     "execution_count": 87,
     "metadata": {},
     "output_type": "execute_result"
    }
   ],
   "source": [
    "data.head()"
   ]
  },
  {
   "cell_type": "code",
   "execution_count": 88,
   "metadata": {
    "scrolled": false
   },
   "outputs": [
    {
     "data": {
      "image/png": "[encoded data removed]",
      "text/plain": [
       "<Figure size 720x360 with 1 Axes>"
      ]
     },
     "metadata": {
      "needs_background": "light"
     },
     "output_type": "display_data"
    }
   ],
   "source": [
    "data.pivot_table(index='floors_category', values='last_price', aggfunc=('median', 'mean')).plot(\n",
    "    kind='bar', figsize=(10, 5), grid=True)\n",
    "plt.show()"
   ]
  },
  {
   "cell_type": "markdown",
   "metadata": {},
   "source": [
    "Цена квартир на первом этаже заметно ниже, чем тех, что находятся на другом уровне лестничной клетки. Последний этаж тоже не пользуется популярностью, но все-таки чуть менее, чем первый. Так, в среднем, квартира на первом этаже стоит 4,1 млн. рублей, квартира на условно 4 этаже 5 млн. рублей, на последнем этаже в доме - 4,5 млн. рублей. "
   ]
  },
  {
   "cell_type": "markdown",
   "metadata": {},
   "source": [
    "**Зависимость цены от локации** "
   ]
  },
  {
   "cell_type": "code",
   "execution_count": 89,
   "metadata": {},
   "outputs": [
    {
     "data": {
      "image/png": "[encoded data removed]",
      "text/plain": [
       "<Figure size 576x432 with 2 Axes>"
      ]
     },
     "metadata": {
      "needs_background": "light"
     },
     "output_type": "display_data"
    }
   ],
   "source": [
    "data.query('cityCenters_nearest != 5555555').sort_values('cityCenters_nearest').plot(x='cityCenters_nearest', y='last_price', \n",
    "                                    kind='hexbin', gridsize=20, figsize=(8, 6), grid=True, sharex=False)\n",
    "plt.show()"
   ]
  },
  {
   "cell_type": "markdown",
   "metadata": {},
   "source": [
    "Наибольшее число квартир, представленных в датасете расположено примерно в 12 км от центра Петербурга и цена их находится в районе 4,2-5,1 млн. рублей. На графике видно, что близость к центру прямо влияет на рост цены. Так, уже в пределах 5 км от центра стоимость некоторого количества квартир растет в цене и превышает отметку в 6,3 млн. рублей. "
   ]
  },
  {
   "cell_type": "code",
   "execution_count": 90,
   "metadata": {},
   "outputs": [
    {
     "data": {
      "image/png": "[encoded data removed]",
      "text/plain": [
       "<Figure size 576x432 with 1 Axes>"
      ]
     },
     "metadata": {
      "needs_background": "light"
     },
     "output_type": "display_data"
    }
   ],
   "source": [
    "data.query('cityCenters_nearest != 5555555').sort_values('cityCenters_nearest').plot(\n",
    "    x='cityCenters_nearest', y='last_price', kind='scatter', \n",
    "    figsize=(8, 6), grid=True)\n",
    "plt.show()"
   ]
  },
  {
   "cell_type": "markdown",
   "metadata": {},
   "source": [
    "Точечное рассеивание более наглядно показывает, как квартиры дорожают, если их локация приближается к центру Санкт-Петербурга. В пределах 20 км от центра количество квартир, превышающих ценник в 10 млн в разы больше, чем за чертой города. На расстоянии в 50 км от центра Питера средний ценник на недвижимость примерно 3,7 млн. рублей. "
   ]
  },
  {
   "cell_type": "markdown",
   "metadata": {},
   "source": [
    "**Зависимость цены от времени размещения** "
   ]
  },
  {
   "cell_type": "code",
   "execution_count": 91,
   "metadata": {},
   "outputs": [
    {
     "data": {
      "image/png": "[encoded data removed]",
      "text/plain": [
       "<Figure size 720x360 with 1 Axes>"
      ]
     },
     "metadata": {
      "needs_background": "light"
     },
     "output_type": "display_data"
    }
   ],
   "source": [
    "data.pivot_table(index='first_day_weekday', values='last_price', aggfunc=('median', 'mean')).plot(\n",
    "    kind='bar', figsize=(10, 5), grid=True, alpha=0.8)\n",
    "plt.show()"
   ]
  },
  {
   "cell_type": "code",
   "execution_count": 92,
   "metadata": {},
   "outputs": [
    {
     "data": {
      "image/png": "[encoded data removed]",
      "text/plain": [
       "<Figure size 864x432 with 1 Axes>"
      ]
     },
     "metadata": {
      "needs_background": "light"
     },
     "output_type": "display_data"
    }
   ],
   "source": [
    "data.pivot_table(index='first_day_month', values='last_price', aggfunc=('median', 'mean')).plot(\n",
    "    kind='bar', figsize=(12, 6), grid=True, alpha=0.8)\n",
    "plt.show()"
   ]
  },
  {
   "cell_type": "code",
   "execution_count": 93,
   "metadata": {},
   "outputs": [
    {
     "data": {
      "image/png": "[encoded data removed]",
      "text/plain": [
       "<Figure size 864x432 with 1 Axes>"
      ]
     },
     "metadata": {
      "needs_background": "light"
     },
     "output_type": "display_data"
    }
   ],
   "source": [
    "data.pivot_table(index='first_day_year', values='last_price', aggfunc=('median', 'mean')).plot(\n",
    "    kind='bar', figsize=(12, 6), grid=True, alpha=0.8)\n",
    "plt.show()"
   ]
  },
  {
   "cell_type": "markdown",
   "metadata": {},
   "source": [
    "Графики показывают, что день недели особо не влияет на ценообразование: разница составляет около 50 тысяч рублей. Тем не менее, можно сказать, что выгоднее всего продавать во вторник, среду и выходные. Пятница наименее удачное время для продажи недвижимости. \n",
    "\n",
    "Месяц продажи уже более влиятельный фактор. Опираясь на медианные значения, наименее удачная для продавца сделка может пройти в июне. Далее цена понемногу растет к концу года. В начале года происходит некоторая стагнация: в течение января-марта цена не меняется, однако, пик происходит уже в апреле. Волатильность рынка недвижимости, судя по этому графику, можно объяснить психологическими факторами и сезонностью. Средние значения превышают медианные почти на половину миллиона, в апреле и сентябре достигают почти 5 млн. (тогда как медиана 4,6 и 4,3 соответственно) и менее понятны для анализа. Средняя цена на недвижимость меняется от месяца к месяцу, вероятно, это связано с продажами более дорогих квартир с переменным успехом, значения которых вляют на усредненное. Тем не менее, средняя цена в июне все так же самая низкая - 4,7 (медиана - 4,2)\n",
    "\n",
    "Согласно третьему график, рынок недвижимости в Санкт-Петербурге и Ленобласти упал в 2016 году среднее значение достигло 4,7 (4,3 медиана), тенденция сохранилась и в следующем году. В 2018 году начался рост и резко продолжился в 2019 году - 5,1 среднее (4,8 медиана). Пиковые значения стоимости в рамках данного в датасете периода жилье имело в 2014 - почти 5,8 млн. рублей (5,45 медиана)."
   ]
  },
  {
   "cell_type": "markdown",
   "metadata": {},
   "source": [
    "*Однако стоит отметить, что графики выше построены на данных с учетом тех объявлений, продажа которых еще не закрыта.* "
   ]
  },
  {
   "cell_type": "code",
   "execution_count": 94,
   "metadata": {},
   "outputs": [
    {
     "data": {
      "text/plain": [
       "99999    1581\n",
       "45         47\n",
       "7          40\n",
       "5          35\n",
       "60         31\n",
       "Name: days_exposition, dtype: int64"
      ]
     },
     "execution_count": 94,
     "metadata": {},
     "output_type": "execute_result"
    }
   ],
   "source": [
    "year_2019 = data.query('first_day_year == 2019')\n",
    "year_2019['days_exposition'].value_counts().head()"
   ]
  },
  {
   "cell_type": "code",
   "execution_count": 95,
   "metadata": {},
   "outputs": [
    {
     "data": {
      "text/plain": [
       "99999    776\n",
       "45       476\n",
       "60       280\n",
       "7        128\n",
       "4         87\n",
       "Name: days_exposition, dtype: int64"
      ]
     },
     "execution_count": 95,
     "metadata": {},
     "output_type": "execute_result"
    }
   ],
   "source": [
    "year_2018 = data.query('first_day_year == 2018')\n",
    "year_2018['days_exposition'].value_counts().head()"
   ]
  },
  {
   "cell_type": "markdown",
   "metadata": {},
   "source": [
    "Большинство незакрытых объявлений датируются 2018 и 2019 годом. Для сравления посмотрим на график распределения цены по годам без учета объявлений, в которых не указано количество дней размещения. "
   ]
  },
  {
   "cell_type": "code",
   "execution_count": 96,
   "metadata": {
    "scrolled": false
   },
   "outputs": [
    {
     "data": {
      "image/png": "[encoded data removed]",
      "text/plain": [
       "<Figure size 864x432 with 1 Axes>"
      ]
     },
     "metadata": {
      "needs_background": "light"
     },
     "output_type": "display_data"
    }
   ],
   "source": [
    "data.query('days_exposition != 99999').pivot_table(index='first_day_year', values='last_price', \n",
    "            aggfunc=('median', 'mean')).plot(kind='bar', figsize=(12, 6), grid=True, alpha=0.8)\n",
    "plt.show()"
   ]
  },
  {
   "cell_type": "markdown",
   "metadata": {},
   "source": [
    "Незакрытые объявления, в целом, не влияют на средний ценник на недвижимость в рамках годовой статистики. Несмотря на то, что полторы тысячи объявлений в 2019 году не имеют данных о дате снятия их с продажи, средняя цена на квартиру в регионе все также достигает 5 млн. рублей. "
   ]
  },
  {
   "cell_type": "markdown",
   "metadata": {},
   "source": [
    "***Вывод***"
   ]
  },
  {
   "cell_type": "markdown",
   "metadata": {},
   "source": [
    "Таким образом, такие факторы как площадь, число комнат, удаленность от центра, этаж и дата размещения (особенно год) влияют на ценообразование на рынке недвижимости в Санкт-Петербурге и Ленобласти. "
   ]
  },
  {
   "cell_type": "markdown",
   "metadata": {},
   "source": [
    "### Анализ десяти населенных пунктов с наибольшим числом объявлений ###"
   ]
  },
  {
   "cell_type": "markdown",
   "metadata": {},
   "source": [
    "Нам необходимо посчитать среднюю цену за квадратный метр в населенных пунктах с наибольшим количеством объявлений и выяснить, в каком из них цена за метр наибольшая и наименьшая. "
   ]
  },
  {
   "cell_type": "code",
   "execution_count": 97,
   "metadata": {},
   "outputs": [
    {
     "data": {
      "text/plain": [
       "санкт-петербург    13694\n",
       "мурино               586\n",
       "кудрово              468\n",
       "шушары               438\n",
       "всеволожск           394\n",
       "пушкин               338\n",
       "колпино              335\n",
       "парголово            326\n",
       "гатчина              303\n",
       "выборг               232\n",
       "Name: locality_name, dtype: int64"
      ]
     },
     "execution_count": 97,
     "metadata": {},
     "output_type": "execute_result"
    }
   ],
   "source": [
    "data['locality_name'].value_counts().head(10)"
   ]
  },
  {
   "cell_type": "markdown",
   "metadata": {},
   "source": [
    "Создадим словарь, обращение к которому позволит нам создать сводную таблицу только с теми населенными пунктами, которые нас инетересуют."
   ]
  },
  {
   "cell_type": "code",
   "execution_count": 98,
   "metadata": {},
   "outputs": [],
   "source": [
    "locality_list = ['санкт-петербург', \n",
    "                        'мурино', \n",
    "                        'кудрово', \n",
    "                        'шушары', \n",
    "                        'всеволожск', \n",
    "                        'пушкин', \n",
    "                        'колпино', \n",
    "                        'парголово', \n",
    "                        'гатчина', \n",
    "                        'выборг']"
   ]
  },
  {
   "cell_type": "code",
   "execution_count": 99,
   "metadata": {
    "scrolled": true
   },
   "outputs": [
    {
     "data": {
      "text/html": [
       "<div>\n",
       "<style scoped>\n",
       "    .dataframe tbody tr th:only-of-type {\n",
       "        vertical-align: middle;\n",
       "    }\n",
       "\n",
       "    .dataframe tbody tr th {\n",
       "        vertical-align: top;\n",
       "    }\n",
       "\n",
       "    .dataframe thead th {\n",
       "        text-align: right;\n",
       "    }\n",
       "</style>\n",
       "<table border=\"1\" class=\"dataframe\">\n",
       "  <thead>\n",
       "    <tr style=\"text-align: right;\">\n",
       "      <th></th>\n",
       "      <th>price_per_metre</th>\n",
       "    </tr>\n",
       "    <tr>\n",
       "      <th>locality_name</th>\n",
       "      <th></th>\n",
       "    </tr>\n",
       "  </thead>\n",
       "  <tbody>\n",
       "    <tr>\n",
       "      <th>санкт-петербург</th>\n",
       "      <td>106369.346299</td>\n",
       "    </tr>\n",
       "    <tr>\n",
       "      <th>пушкин</th>\n",
       "      <td>100894.974333</td>\n",
       "    </tr>\n",
       "    <tr>\n",
       "      <th>кудрово</th>\n",
       "      <td>95638.381258</td>\n",
       "    </tr>\n",
       "    <tr>\n",
       "      <th>парголово</th>\n",
       "      <td>90833.211024</td>\n",
       "    </tr>\n",
       "    <tr>\n",
       "      <th>мурино</th>\n",
       "      <td>86677.958763</td>\n",
       "    </tr>\n",
       "    <tr>\n",
       "      <th>шушары</th>\n",
       "      <td>78932.857393</td>\n",
       "    </tr>\n",
       "    <tr>\n",
       "      <th>колпино</th>\n",
       "      <td>75535.215462</td>\n",
       "    </tr>\n",
       "    <tr>\n",
       "      <th>гатчина</th>\n",
       "      <td>68966.408848</td>\n",
       "    </tr>\n",
       "    <tr>\n",
       "      <th>всеволожск</th>\n",
       "      <td>67551.417955</td>\n",
       "    </tr>\n",
       "    <tr>\n",
       "      <th>выборг</th>\n",
       "      <td>58387.263232</td>\n",
       "    </tr>\n",
       "  </tbody>\n",
       "</table>\n",
       "</div>"
      ],
      "text/plain": [
       "                 price_per_metre\n",
       "locality_name                   \n",
       "санкт-петербург    106369.346299\n",
       "пушкин             100894.974333\n",
       "кудрово             95638.381258\n",
       "парголово           90833.211024\n",
       "мурино              86677.958763\n",
       "шушары              78932.857393\n",
       "колпино             75535.215462\n",
       "гатчина             68966.408848\n",
       "всеволожск          67551.417955\n",
       "выборг              58387.263232"
      ]
     },
     "execution_count": 99,
     "metadata": {},
     "output_type": "execute_result"
    }
   ],
   "source": [
    "locality_price = data.query('locality_name in @locality_list').pivot_table(index='locality_name', values='price_per_metre', aggfunc='mean')\n",
    "locality_price.sort_values(by='price_per_metre', ascending=False)"
   ]
  },
  {
   "cell_type": "markdown",
   "metadata": {},
   "source": [
    "***Вывод***"
   ]
  },
  {
   "cell_type": "markdown",
   "metadata": {},
   "source": [
    "Согласно таблице, средний ценник за квадратный метр в Санкт-Петербурге и Ленобласти наиболее высокий в самом Петербурге - 106,3 тысяч рублей за единицу. Чуть меньше стоит квадратный метр в Пушкине, но также превышает отметку в 100,8 тысяч рублей. Самая низкая стоимость квадратного метра (среди наиболее часто втречающихся населенных пунктов в объявлениях) в Выборге - 58,3 тысяч. "
   ]
  },
  {
   "cell_type": "markdown",
   "metadata": {},
   "source": [
    "### Анализ изменения цены по степени удаленности от центра ###"
   ]
  },
  {
   "cell_type": "markdown",
   "metadata": {},
   "source": [
    "Максимальное расстояние от квартиры в объявлении до центра Санкт-Петербурга 29 км. Эта недвижимость расположена, вероятно, в Петродворцовом или Курортном районе города, которые также входят в границы федерального субъекта. Нам необходимо выяснить, какая область входит в центр."
   ]
  },
  {
   "cell_type": "code",
   "execution_count": 100,
   "metadata": {},
   "outputs": [
    {
     "data": {
      "text/plain": [
       "29493.0"
      ]
     },
     "execution_count": 100,
     "metadata": {},
     "output_type": "execute_result"
    }
   ],
   "source": [
    "data.loc[data['locality_name'] == 'санкт-петербург', 'cityCenters_nearest'].max()"
   ]
  },
  {
   "cell_type": "markdown",
   "metadata": {},
   "source": [
    "Создадим столбец с расстоянием до центра в километрах и посчитаем среднюю цену на недвижимость для каждого километра. "
   ]
  },
  {
   "cell_type": "code",
   "execution_count": 101,
   "metadata": {},
   "outputs": [
    {
     "data": {
      "text/html": [
       "<div>\n",
       "<style scoped>\n",
       "    .dataframe tbody tr th:only-of-type {\n",
       "        vertical-align: middle;\n",
       "    }\n",
       "\n",
       "    .dataframe tbody tr th {\n",
       "        vertical-align: top;\n",
       "    }\n",
       "\n",
       "    .dataframe thead th {\n",
       "        text-align: right;\n",
       "    }\n",
       "</style>\n",
       "<table border=\"1\" class=\"dataframe\">\n",
       "  <thead>\n",
       "    <tr style=\"text-align: right;\">\n",
       "      <th></th>\n",
       "      <th>total_images</th>\n",
       "      <th>last_price</th>\n",
       "      <th>total_area</th>\n",
       "      <th>first_day_exposition</th>\n",
       "      <th>rooms</th>\n",
       "      <th>ceiling_height</th>\n",
       "      <th>floors_total</th>\n",
       "      <th>living_area</th>\n",
       "      <th>floor</th>\n",
       "      <th>is_apartment</th>\n",
       "      <th>...</th>\n",
       "      <th>days_exposition</th>\n",
       "      <th>price_per_metre</th>\n",
       "      <th>floors_category</th>\n",
       "      <th>living_ratio</th>\n",
       "      <th>kitchen_ratio</th>\n",
       "      <th>kitchen_to_living_ratio</th>\n",
       "      <th>first_day_weekday</th>\n",
       "      <th>first_day_month</th>\n",
       "      <th>first_day_year</th>\n",
       "      <th>center_km</th>\n",
       "    </tr>\n",
       "  </thead>\n",
       "  <tbody>\n",
       "    <tr>\n",
       "      <th>1</th>\n",
       "      <td>7</td>\n",
       "      <td>3350000</td>\n",
       "      <td>40</td>\n",
       "      <td>2018-12-04</td>\n",
       "      <td>1</td>\n",
       "      <td>777.00</td>\n",
       "      <td>11</td>\n",
       "      <td>18</td>\n",
       "      <td>1</td>\n",
       "      <td>True</td>\n",
       "      <td>...</td>\n",
       "      <td>81</td>\n",
       "      <td>83750.000000</td>\n",
       "      <td>первый</td>\n",
       "      <td>0.45</td>\n",
       "      <td>0.28</td>\n",
       "      <td>0.61</td>\n",
       "      <td>1</td>\n",
       "      <td>12</td>\n",
       "      <td>2018</td>\n",
       "      <td>18</td>\n",
       "    </tr>\n",
       "    <tr>\n",
       "      <th>2</th>\n",
       "      <td>10</td>\n",
       "      <td>5196000</td>\n",
       "      <td>56</td>\n",
       "      <td>2015-08-20</td>\n",
       "      <td>2</td>\n",
       "      <td>777.00</td>\n",
       "      <td>5</td>\n",
       "      <td>34</td>\n",
       "      <td>4</td>\n",
       "      <td>True</td>\n",
       "      <td>...</td>\n",
       "      <td>558</td>\n",
       "      <td>92785.714286</td>\n",
       "      <td>другой</td>\n",
       "      <td>0.61</td>\n",
       "      <td>0.14</td>\n",
       "      <td>0.24</td>\n",
       "      <td>3</td>\n",
       "      <td>8</td>\n",
       "      <td>2015</td>\n",
       "      <td>13</td>\n",
       "    </tr>\n",
       "    <tr>\n",
       "      <th>4</th>\n",
       "      <td>2</td>\n",
       "      <td>10000000</td>\n",
       "      <td>100</td>\n",
       "      <td>2018-06-19</td>\n",
       "      <td>2</td>\n",
       "      <td>3.03</td>\n",
       "      <td>14</td>\n",
       "      <td>32</td>\n",
       "      <td>13</td>\n",
       "      <td>True</td>\n",
       "      <td>...</td>\n",
       "      <td>121</td>\n",
       "      <td>100000.000000</td>\n",
       "      <td>другой</td>\n",
       "      <td>0.32</td>\n",
       "      <td>0.41</td>\n",
       "      <td>1.3</td>\n",
       "      <td>1</td>\n",
       "      <td>6</td>\n",
       "      <td>2018</td>\n",
       "      <td>8</td>\n",
       "    </tr>\n",
       "  </tbody>\n",
       "</table>\n",
       "<p>3 rows × 31 columns</p>\n",
       "</div>"
      ],
      "text/plain": [
       "   total_images  last_price  total_area first_day_exposition  rooms  \\\n",
       "1             7     3350000          40           2018-12-04      1   \n",
       "2            10     5196000          56           2015-08-20      2   \n",
       "4             2    10000000         100           2018-06-19      2   \n",
       "\n",
       "   ceiling_height  floors_total  living_area  floor  is_apartment  ...  \\\n",
       "1          777.00            11           18      1          True  ...   \n",
       "2          777.00             5           34      4          True  ...   \n",
       "4            3.03            14           32     13          True  ...   \n",
       "\n",
       "   days_exposition  price_per_metre  floors_category  living_ratio  \\\n",
       "1               81     83750.000000           первый          0.45   \n",
       "2              558     92785.714286           другой          0.61   \n",
       "4              121    100000.000000           другой          0.32   \n",
       "\n",
       "  kitchen_ratio  kitchen_to_living_ratio  first_day_weekday  first_day_month  \\\n",
       "1          0.28                     0.61                  1               12   \n",
       "2          0.14                     0.24                  3                8   \n",
       "4          0.41                      1.3                  1                6   \n",
       "\n",
       "   first_day_year  center_km  \n",
       "1            2018         18  \n",
       "2            2015         13  \n",
       "4            2018          8  \n",
       "\n",
       "[3 rows x 31 columns]"
      ]
     },
     "execution_count": 101,
     "metadata": {},
     "output_type": "execute_result"
    }
   ],
   "source": [
    "data['center_km'] = (data['cityCenters_nearest'] / 1000).astype('int')\n",
    "data.head(3)"
   ]
  },
  {
   "cell_type": "code",
   "execution_count": 102,
   "metadata": {},
   "outputs": [
    {
     "data": {
      "image/png": "[encoded data removed]",
      "text/plain": [
       "<Figure size 864x432 with 1 Axes>"
      ]
     },
     "metadata": {
      "needs_background": "light"
     },
     "output_type": "display_data"
    }
   ],
   "source": [
    "spb_price = data.query('locality_name == \"санкт-петербург\"').sort_values('center_km').pivot_table(\n",
    "    index='center_km', values='last_price', aggfunc='mean').plot(xlim=(0, 29), grid=True, figsize=(12, 6))\n",
    "plt.show()"
   ]
  },
  {
   "cell_type": "markdown",
   "metadata": {},
   "source": [
    "***Вывод***"
   ]
  },
  {
   "cell_type": "markdown",
   "metadata": {},
   "source": [
    "Согласно графику, в пределах 4 км от точки отсчета средняя цена за квартиру в районе 7,5-8,3 млн. рублей. Далее с точки в 7,7 млн. и 4 км график снижается до отметки в 5,4 млн. рублей и 9 км. Затем до отметки в 19 км стоимость недвижимости варьируется от 5,5 до 4,6 млн. рублей. После точки в 19 км график резко растет вверх до 6,3 млн. и резко падает вниз на отметке в 27 км дл 2,3 млн. Можно предположить, что где-то на расстоянии в 20 км от центра города находится большое количество элитной застройки с высоким средним ценником, и, допустим, типовых однушек в радиусе 27 км. Либо в целом в датасете не так много объявлений, которые подпадают под условие \"находятся в Санкт-Петербурге\" и \"удаленность от центра более 20 км\". Поэтому единичные случаи появления таких объявлений влияют на перепады графика. \n",
    "\n",
    "Так, выделим условные зоны, где радиус 4 км - центр, 9 км - близко к центру, 19 км - далеко от центра, 29 км - окраина. "
   ]
  },
  {
   "cell_type": "markdown",
   "metadata": {},
   "source": [
    "### Анализ квартир в центре ###"
   ]
  },
  {
   "cell_type": "markdown",
   "metadata": {},
   "source": [
    "Мы определили, что центральную часть города будем ограничивать радиусом 4 км. Нам необходимо проанализировать эту территорию и изучить следующие параметры: площадь, цена, число комнат, высота потолков. Также выделить факторы, которые влияют на стоимость квартиры (число комнат, этаж, удалённость от центра, дата размещения объявления). "
   ]
  },
  {
   "cell_type": "markdown",
   "metadata": {},
   "source": [
    "Для удобства создадим отдельный столбец с категориями: центр, близко к центру и далеко от центра, остальные - условная область. Не будем учитывать зону окраины, поскольку с 19 км уже начинается территория Парголово, не входящая в ядро агломерации.  "
   ]
  },
  {
   "cell_type": "code",
   "execution_count": 103,
   "metadata": {},
   "outputs": [
    {
     "data": {
      "text/plain": [
       "'центр'"
      ]
     },
     "execution_count": 103,
     "metadata": {},
     "output_type": "execute_result"
    }
   ],
   "source": [
    "def center_category(km):\n",
    "    if km <= 4:\n",
    "        return 'центр'\n",
    "    if km > 4 and km <= 9:\n",
    "        return 'близко к центру'\n",
    "    if km > 9 and km < 19:\n",
    "        return 'далеко от центра'\n",
    "    return 'область'\n",
    "\n",
    "data['center_category'] = data['center_km'].apply(center_category)\n",
    "\n",
    "center_category(3)"
   ]
  },
  {
   "cell_type": "markdown",
   "metadata": {},
   "source": [
    "Теперь проанализируем каждый параметр в разных зонах города. "
   ]
  },
  {
   "cell_type": "markdown",
   "metadata": {},
   "source": [
    "**Площадь**"
   ]
  },
  {
   "cell_type": "code",
   "execution_count": 104,
   "metadata": {},
   "outputs": [
    {
     "data": {
      "image/png": "[encoded data removed]",
      "text/plain": [
       "<Figure size 864x432 with 1 Axes>"
      ]
     },
     "metadata": {
      "needs_background": "light"
     },
     "output_type": "display_data"
    }
   ],
   "source": [
    "data.pivot_table(index='center_category', values='total_area', aggfunc='mean').plot(\n",
    "    kind='bar', figsize=(12, 6), grid=True, color='green', alpha=0.8)\n",
    "plt.show()"
   ]
  },
  {
   "cell_type": "markdown",
   "metadata": {},
   "source": [
    "Чем дальше от центра, тем меньше средняя площадь недвижимости. Для квартир в центре она составляет 68 кв.м, в радиусе 9 км - 57 кв.м, на окраине города - 52 кв.м. В области - 50 кв.м. "
   ]
  },
  {
   "cell_type": "markdown",
   "metadata": {},
   "source": [
    "**Цена** "
   ]
  },
  {
   "cell_type": "code",
   "execution_count": 105,
   "metadata": {},
   "outputs": [
    {
     "data": {
      "image/png": "[encoded data removed]",
      "text/plain": [
       "<Figure size 864x432 with 1 Axes>"
      ]
     },
     "metadata": {
      "needs_background": "light"
     },
     "output_type": "display_data"
    }
   ],
   "source": [
    "data.pivot_table(index='center_category', values=('last_price'), aggfunc='mean').plot(\n",
    "    kind='bar', figsize=(12, 6), grid=True, color='red', alpha=0.8)\n",
    "plt.show()"
   ]
  },
  {
   "cell_type": "markdown",
   "metadata": {},
   "source": [
    "В среднем цена за квартиру в центральном районе составляет 7,7 млн. рублей, тогда как на окраине этот показатель чуть выше 5 млн. В районах, приближенных к центру средний ценник на жилье - 6,4 млн. рублей. В области - 3,5 млн. Разница между центром и периферией составляет почти 2,5 млн рублей. "
   ]
  },
  {
   "cell_type": "markdown",
   "metadata": {},
   "source": [
    "**Число комнат**"
   ]
  },
  {
   "cell_type": "code",
   "execution_count": 106,
   "metadata": {},
   "outputs": [
    {
     "data": {
      "image/png": "[encoded data removed]",
      "text/plain": [
       "<Figure size 864x432 with 1 Axes>"
      ]
     },
     "metadata": {
      "needs_background": "light"
     },
     "output_type": "display_data"
    }
   ],
   "source": [
    "data.pivot_table(index='center_category', values=('rooms'), aggfunc='mean').plot(\n",
    "    kind='bar', figsize=(12, 6), grid=True, color='blue', alpha=0.8)\n",
    "plt.show()"
   ]
  },
  {
   "cell_type": "markdown",
   "metadata": {},
   "source": [
    "В центре квартир с большим числом комнат больше. На периферии средний показатель меньше двух, значит однокомнатных квартир довольно много. "
   ]
  },
  {
   "cell_type": "markdown",
   "metadata": {},
   "source": [
    "**Высота потолка**"
   ]
  },
  {
   "cell_type": "code",
   "execution_count": 107,
   "metadata": {},
   "outputs": [
    {
     "data": {
      "image/png": "[encoded data removed]",
      "text/plain": [
       "<Figure size 864x432 with 1 Axes>"
      ]
     },
     "metadata": {
      "needs_background": "light"
     },
     "output_type": "display_data"
    }
   ],
   "source": [
    "data.query('ceiling_height != 777').pivot_table(\n",
    "    index='center_category', values=('ceiling_height'), aggfunc='mean').plot(\n",
    "    kind='bar', figsize=(12, 6), grid=True, color='yellow', alpha=0.9)\n",
    "plt.show()"
   ]
  },
  {
   "cell_type": "markdown",
   "metadata": {},
   "source": [
    "Чтобы не портить статистику, предварительно убрали строки, пропуски в которых были заменены маркерами. В центральной части города потолки самые высокие - в среднем 3,2 метра. В радиусе 9 км высота составляет 2,8 м, на периферии и в области - 2,6 м.  "
   ]
  },
  {
   "cell_type": "code",
   "execution_count": 108,
   "metadata": {},
   "outputs": [
    {
     "data": {
      "image/png": "[encoded data removed]",
      "text/plain": [
       "<Figure size 864x432 with 1 Axes>"
      ]
     },
     "metadata": {
      "needs_background": "light"
     },
     "output_type": "display_data"
    }
   ],
   "source": [
    "data.query('ceiling_height > 2.4 and ceiling_height < 3.5').pivot_table(\n",
    "    index='center_category', values=('ceiling_height'), aggfunc='mean').plot(\n",
    "    kind='bar', figsize=(12, 6), grid=True, color='yellow', alpha=0.9)\n",
    "plt.show()"
   ]
  },
  {
   "cell_type": "markdown",
   "metadata": {},
   "source": [
    "Посмотрим данные по срезу значений с ограничениями, выведенными выше: не меньше 2,4 м и не больше 3,5 м в высоту. Здесь меняется только средняя высота потолка в центральной части города с 3,2 м до 3 м. Это связано с тем, что в границах центра наблюдается предложение недвижимости, высота потолков в которой превышает стандартную. Влияние выбросов здесь некритично, поскольку мы можем допустить, что высота потолков в старом фонде достигает больших значений по сравнению с более поздней застройкой, расположеной на окраинах города и в области."
   ]
  },
  {
   "cell_type": "markdown",
   "metadata": {},
   "source": [
    "**Зависимость цены от числа комнат** "
   ]
  },
  {
   "cell_type": "markdown",
   "metadata": {},
   "source": [
    "Рассмотрим только те квартиры, которые находятся в рамках самого города."
   ]
  },
  {
   "cell_type": "code",
   "execution_count": 109,
   "metadata": {},
   "outputs": [],
   "source": [
    "spb_center_rooms = data.query('center_category == \"центр\"').pivot_table(\n",
    "    index='rooms', values='last_price', aggfunc='mean')\n",
    "spb_city_rooms = data.query('center_category != \"центр\" and center_category != \"область\"').pivot_table(\n",
    "    index='rooms', values='last_price', aggfunc='mean')"
   ]
  },
  {
   "cell_type": "code",
   "execution_count": 110,
   "metadata": {},
   "outputs": [
    {
     "data": {
      "image/png": "[encoded data removed]",
      "text/plain": [
       "<Figure size 864x432 with 1 Axes>"
      ]
     },
     "metadata": {
      "needs_background": "light"
     },
     "output_type": "display_data"
    }
   ],
   "source": [
    "ax = spb_center_rooms.plot(\n",
    "    kind='bar', \n",
    "    alpha=0.7, \n",
    "    color='blue', \n",
    "    label='center', \n",
    "    grid=True,\n",
    "    figsize=(12, 6))\n",
    "\n",
    "spb_city_rooms.plot(\n",
    "    kind='bar',  \n",
    "    alpha=0.7, \n",
    "    color='red', \n",
    "    label='city', \n",
    "    ax=ax, \n",
    "    grid=True,\n",
    "    legend=True, \n",
    "    figsize=(12, 6))\n",
    "plt.show()"
   ]
  },
  {
   "cell_type": "markdown",
   "metadata": {},
   "source": [
    "График показывает, что средний ценник на квартиру в центре Петербурга больше, чем в пределах городской черты на 1,5 млн. Разница цен на студии меньше: 3,5 не в центре, почти 4 в центре. Однушка, двушка и трешка в пределах города и в пределах центральной части города обойдутся в 4,2/5,9 млн., 5,9/7,4 млн., 6,7/8,3 млн. соотвественно. Пятикомнатную квартиру не в центре можно купить за 7,8 млн., в центре города за 9,7 млн. рублей."
   ]
  },
  {
   "cell_type": "markdown",
   "metadata": {},
   "source": [
    "**Зависимость цены от этажа** "
   ]
  },
  {
   "cell_type": "code",
   "execution_count": 111,
   "metadata": {},
   "outputs": [],
   "source": [
    "spb_center_floors = data.query('center_category == \"центр\"').pivot_table(\n",
    "    index='floors_category', values='last_price', aggfunc='mean')\n",
    "spb_city_floors = data.query('center_category != \"центр\" and center_category != \"область\"').pivot_table(\n",
    "    index='floors_category', values='last_price', aggfunc='mean')"
   ]
  },
  {
   "cell_type": "code",
   "execution_count": 112,
   "metadata": {},
   "outputs": [
    {
     "data": {
      "image/png": "[encoded data removed]",
      "text/plain": [
       "<Figure size 864x432 with 1 Axes>"
      ]
     },
     "metadata": {
      "needs_background": "light"
     },
     "output_type": "display_data"
    }
   ],
   "source": [
    "ax = spb_center_floors.plot(\n",
    "    kind='bar', \n",
    "    alpha=0.7, \n",
    "    color='blue', \n",
    "    label='center', \n",
    "    grid=True,\n",
    "    figsize=(12, 6))\n",
    "\n",
    "spb_city_floors.plot(\n",
    "    kind='bar',  \n",
    "    alpha=0.7, \n",
    "    color='red', \n",
    "    label='city', \n",
    "    ax=ax, \n",
    "    grid=True,\n",
    "    legend=True, \n",
    "    figsize=(12, 6))\n",
    "plt.show()"
   ]
  },
  {
   "cell_type": "markdown",
   "metadata": {},
   "source": [
    "Так же как и по городу, первый этаж в центре пользуется меньшей популярностью, чем другие. Последний этаж в центре, в отличие от остальной части города, наоборот, догоняет в цене любой другой. "
   ]
  },
  {
   "cell_type": "markdown",
   "metadata": {},
   "source": [
    "**Зависимость цены от даты размещения** "
   ]
  },
  {
   "cell_type": "markdown",
   "metadata": {},
   "source": [
    "Посмотрим зависимость цены в центре от даты размещения. "
   ]
  },
  {
   "cell_type": "markdown",
   "metadata": {},
   "source": [
    "По дням недели."
   ]
  },
  {
   "cell_type": "code",
   "execution_count": 113,
   "metadata": {},
   "outputs": [],
   "source": [
    "spb_center_price = data.query('center_category == \"центр\"').pivot_table(\n",
    "    index='first_day_weekday', values='last_price', aggfunc='mean')\n",
    "spb_city_price = data.query('center_category != \"центр\"').pivot_table(\n",
    "    index='first_day_weekday', values='last_price', aggfunc='mean')"
   ]
  },
  {
   "cell_type": "code",
   "execution_count": 114,
   "metadata": {},
   "outputs": [
    {
     "data": {
      "image/png": "[encoded data removed]",
      "text/plain": [
       "<Figure size 864x432 with 1 Axes>"
      ]
     },
     "metadata": {
      "needs_background": "light"
     },
     "output_type": "display_data"
    }
   ],
   "source": [
    "ax = spb_center_price.plot(\n",
    "    kind='bar', \n",
    "    alpha=0.7, \n",
    "    color='blue', \n",
    "    label='center', \n",
    "    grid=True,\n",
    "    figsize=(12, 6))\n",
    "\n",
    "spb_city_price.plot(\n",
    "    kind='bar',  \n",
    "    alpha=0.7, \n",
    "    color='red', \n",
    "    label='city', \n",
    "    ax=ax, \n",
    "    grid=True,\n",
    "    legend=True, \n",
    "    figsize=(12, 6))\n",
    "plt.show()"
   ]
  },
  {
   "cell_type": "markdown",
   "metadata": {},
   "source": [
    "В центральной части города в субботу наблюдается уменьшение средней цены по сравнению с пятницей на почти на пол миллиона. В воскресенье, наоборот, цена повышается до 8 млн. в среднем, тогда как в других районах день недели очевидно не влияет на ценообразование. "
   ]
  },
  {
   "cell_type": "markdown",
   "metadata": {},
   "source": [
    "По месяцам."
   ]
  },
  {
   "cell_type": "code",
   "execution_count": 115,
   "metadata": {},
   "outputs": [],
   "source": [
    "spb_center_price = data.query('center_category == \"центр\"').pivot_table(\n",
    "    index='first_day_month', values='last_price', aggfunc='mean')\n",
    "spb_city_price = data.query('center_category != \"центр\"').pivot_table(\n",
    "    index='first_day_month', values='last_price', aggfunc='mean')"
   ]
  },
  {
   "cell_type": "code",
   "execution_count": 116,
   "metadata": {},
   "outputs": [
    {
     "data": {
      "image/png": "[encoded data removed]",
      "text/plain": [
       "<Figure size 864x432 with 1 Axes>"
      ]
     },
     "metadata": {
      "needs_background": "light"
     },
     "output_type": "display_data"
    }
   ],
   "source": [
    "ax = spb_center_price.plot(\n",
    "    kind='bar', \n",
    "    alpha=0.7, \n",
    "    color='blue', \n",
    "    label='center', \n",
    "    grid=True,\n",
    "    figsize=(12, 6))\n",
    "\n",
    "spb_city_price.plot(\n",
    "    kind='bar',  \n",
    "    alpha=0.7, \n",
    "    color='red', \n",
    "    label='city', \n",
    "    ax=ax, \n",
    "    grid=True,\n",
    "    legend=True, \n",
    "    figsize=(12, 6))\n",
    "plt.show()"
   ]
  },
  {
   "cell_type": "markdown",
   "metadata": {},
   "source": [
    "Самое выгодное время для продажи квартиры в центре - сентябрь. Здесь средняя цена превышает 8 млн., в то время как в июле, например, она достигает отметки только в 7,3 млн. рублей, но в июле повышается до 7,7 млн. Также невыгодно продавать в декабре (7,3 млн. в среднем), но в начале года наблюдается рост и в феврале средняя цена снова чуть выше 8 млн. рублей. Далее - спад до июня. Сезонная зависимость цены от даты размещения в центре более явная, поскольку разница между минимальным и максимальным значением составляет почти 1 млн. рублей. "
   ]
  },
  {
   "cell_type": "markdown",
   "metadata": {},
   "source": [
    "По годам. "
   ]
  },
  {
   "cell_type": "code",
   "execution_count": 117,
   "metadata": {},
   "outputs": [],
   "source": [
    "spb_center_price = data.query('center_category == \"центр\"').pivot_table(\n",
    "    index='first_day_year', values='last_price', aggfunc='mean')\n",
    "spb_city_price = data.query('center_category != \"центр\"').pivot_table(\n",
    "    index='first_day_year', values='last_price', aggfunc='mean')"
   ]
  },
  {
   "cell_type": "code",
   "execution_count": 118,
   "metadata": {},
   "outputs": [
    {
     "data": {
      "image/png": "[encoded data removed]",
      "text/plain": [
       "<Figure size 864x432 with 1 Axes>"
      ]
     },
     "metadata": {
      "needs_background": "light"
     },
     "output_type": "display_data"
    }
   ],
   "source": [
    "ax = spb_center_price.plot(\n",
    "    kind='bar', \n",
    "    alpha=0.7, \n",
    "    color='blue', \n",
    "    label='center', \n",
    "    grid=True,\n",
    "    figsize=(12, 6))\n",
    "\n",
    "spb_city_price.plot(\n",
    "    kind='bar',  \n",
    "    alpha=0.7, \n",
    "    color='red', \n",
    "    label='city', \n",
    "    ax=ax, \n",
    "    grid=True,\n",
    "    legend=True, \n",
    "    figsize=(12, 6))\n",
    "plt.show()"
   ]
  },
  {
   "cell_type": "markdown",
   "metadata": {},
   "source": [
    "В то время, как 2016 год оказался годом просадки для недвижимости за пределами центра, в центре средний ценник немного поднялся по сравнению с 2015 годом. В отличие от периферии, где пик цены наблюдался в 2014, пиковым годом по стоимости жилья в центре Санкт-Петербурга оказался 2019 - средняя цена 8,3 млн. рублей (5 млн. рублей в остальной части города). Наименьшая же стоимось была также в 2017 и 2018 году - примерно 7,6 млн. рублей. "
   ]
  },
  {
   "cell_type": "markdown",
   "metadata": {},
   "source": [
    "## Общий вывод"
   ]
  },
  {
   "cell_type": "markdown",
   "metadata": {},
   "source": [
    "Итак, опираясь на данные, мы можем выделить несколько стандартных ***параметров***, позволяющих определять рыночную стоимость недвижимости в Санкт-Петербурге и Ленинградской области. Центральный район города обозначается радиусом в *4 км*, районы, граничащие с центральным в границах *9 км*, городская окраина определяется зоной в *19 км* от центра. Остальное - областная территория. \n",
    "\n",
    "***Площадь***\n",
    "\n",
    "Средняя площадь квартир в регионе составляет *60 кв. метров*, минимальная и максимальная при этом *12* и *900* метров соответственно. Большинство квартир по площади находятся в диапазоне *от 25 до 120 кв. метров*. \n",
    "Чем дальше от центра, тем меньше средняя площадь недвижимости. Для квартир в центре она составляет *68 кв.метра*, в радиусе 9 км - *57 кв.метров*, на окраине города - *52 кв.метров*. В области - *50 кв.метров*.\n",
    "\n",
    "***Число комнат***\n",
    "\n",
    "Приблизительно 8 тысяч квартир в датасете однокомнатные, 7,9 тысяч - двухкомнатные, 5,8 тысяч квартир трехкомнатные, в 1,1 тысяче четыре комнаты, в 300 - 5 комнат и в 200 открытая планировка или студия. В центре квартир с большим числом комнат больше. На периферии больше продают однокомнатные квартиры.\n",
    "\n",
    "***Высота потолков***\n",
    "\n",
    "В центральной части города потолки самые высокие - в среднем *3,2 метра*. В радиусе 9 км высота составляет *2,8 м*, на периферии и в области - *2,6 м*. В границах центра наблюдается предложение недвижимости, высота потолков в которой превышает стандартную: в старом фонде высота достигает больших значений по сравнению с более поздней застройкой, расположеной на окраинах города и в области.\n",
    "\n",
    "***Время продажи***\n",
    "\n",
    "*25,2%* квартир в датасете были проданы *менее, чем за полтора месяца* (45 дней). Это параметр, по которому можно считать, что квартира была продана быстро. \n",
    "\n",
    "В рамках третьего квартиля (231 день и 7,7 месяцев) было продано еще *39,6%* квартир. Абсолютное большинство квартир продается в пределах *полутора лет*. \n",
    "\n",
    "Если рассматривать более удобный временной промежуток, то *73,7%* квартир было продано за *первый год* с момента выставления объявления. В среднем за год квартира продается за *3,5 месяца* (104 дня). \n",
    "\n",
    "*7,3%* предложений требуют более тщательного анализа, поскольку их публикация на сервисе находилась в продаже более полутора лет и может быть связана с мошеннической деятельностью или несоответствием недвижимости основным рыночным характеристикам. \n",
    "\n",
    "***Цена***\n",
    "\n",
    "Средний ценник за квадратный метр в Санкт-Петербурге и Ленобласти наиболее высокий в самом Петербурге - *106,3 тысяч рублей* за единицу. Чуть меньше стоит квадратный метр в Пушкине, но также превышает отметку в *100,8 тысяч рублей*. Самая низкая стоимость квадратного метра (среди наиболее часто втречающихся населенных пунктов в объявлениях) в Выборге - *58,3 тысяч*.\n",
    "\n",
    "Средняя цена за квартиру в Санкт-Петербурге и Ленобласти составляет *6,5 млн рублей*, медианное значение же соответствует цифре в *4,6 млн рублей*.\n",
    "\n",
    "Цена за квартиру в центральном районе в среднем составляет *7,7 млн. рублей*. В районах, приближенных к центру средний ценник на жилье - *6,4 млн. рублей*, тогда как на окраине этот показатель чуть выше *5 млн.* В области - *3,5 млн.* \n",
    "\n",
    "Разница между городским центром и периферией составляет почти *2,5 млн рублей*.\n",
    "\n",
    "***\n",
    "\n",
    "Кроме того, мы можем выделить ***факторы***, которые влияют на стоимость квартиры в центральной части города и за ее пределами, среди которых число комнат, этаж, удаленность от центра и дата размещения объявления.  \n",
    "\n",
    "***Число комнат***\n",
    "\n",
    "Медианная цена за студию в регионе примерно *2,8 млн. рублей*, цена за однокомнатную квартиру *3,8 млн.*, двухкомнатную - *4,7 млн.*, трехкомнатную квартиру в районе *5,8 млн. рублей.* \n",
    "\n",
    "***Этаж***\n",
    "\n",
    "В среднем, квартира на первом этаже стоит *4,1 млн. рублей*, квартира на условно 4 этаже *5 млн. рублей*, на последнем этаже в доме - *4,5 млн. рублей*. Так же как и по городу, первый этаж в центре пользуется меньшей популярностью, чем другие. Последний этаж в центре, в отличие от остальной части города, наоборот, догоняет в цене любой другой.\n",
    "\n",
    "***Удаленность от центра***\n",
    "\n",
    "Наибольшее число квартир, представленных в датасете расположено примерно в 12 км от центра Петербурга и цена их находится в районе *4,2-5,1 млн. рублей*. \n",
    "\n",
    "Средний ценник на квартиру в центре Петербурга больше, чем в пределах городской черты на *1,5 млн.* Разница цен на студии меньше: *3,5 млн. не в центре, почти 4 млн. в центре.* Однушка, двушка и трешка в пределах города и в пределах центральной части города обойдутся в *4,2/5,9 млн.*, *5,9/7,4 млн.*, *6,7/8,3 млн.* соотвественно. Пятикомнатную квартиру не в центре можно купить за *7,8 млн.*, в центре города за *9,7 млн. рублей.*\n",
    "\n",
    "***Дата размещения объявления***\n",
    "\n",
    "День недели, месяц и год размещения объявления по-разному влияют на ценообразование на рынке недвижимости в регионе.  \n",
    "\n",
    "День недели особо не влияет на стоимость: разница составляет около *50 тысяч рублей*. Можно сказать, что выгоднее всего продавать во вторник, среду и выходные. Пятница наименее удачное время для продажи недвижимости.\n",
    "\n",
    "Месяц продажи уже более влиятельный фактор. Опираясь на медианные значения, наименее удачная для продавца сделка может пройти в июне. Далее цена понемногу растет к концу года. В начале года происходит стагнация: в течение января-марта цена не меняется, однако, пик происходит уже в апреле. Волатильность рынка недвижимости можно объяснить психологическими факторами и сезонностью. \n",
    "\n",
    "Годовая статистика более показательна. Рынок недвижимости в Санкт-Петербурге и Ленобласти упал в 2016 году: среднее значение достигло *4,7 млн. рублей*, тенденция сохранилась и в 2017 году. В 2018 году начался рост и резко продолжился в 2019 году - *5,1 млн.* Пиковые значения стоимости в рамках данного в датасете периода жилье имело в 2014 - почти *5,8 млн. рублей.* \n",
    "\n",
    "В центральной части города статистика несколько другая. В то время, как 2016 год оказался годом просадки для недвижимости за пределами центра, в центре средний ценник немного поднялся по сравнению с 2015 годом. В отличие от периферии, где пик цены наблюдался в 2014, пиковым годом по стоимости жилья в центре Санкт-Петербурга оказался 2019 - средняя цена *8,3 млн. рублей*. Наименьшая же стоимось была также в 2017 и 2018 году - примерно *7,6 млн. рублей.*"
   ]
  }
 ],
 "metadata": {
  "ExecuteTimeLog": [
   {
    "duration": 116,
    "start_time": "2021-08-19T11:21:30.858Z"
   },
   {
    "duration": 109,
    "start_time": "2021-08-19T11:23:51.257Z"
   },
   {
    "duration": 112,
    "start_time": "2021-08-19T11:25:44.004Z"
   },
   {
    "duration": 111,
    "start_time": "2021-08-19T11:26:43.105Z"
   },
   {
    "duration": 413,
    "start_time": "2021-08-19T11:42:27.631Z"
   },
   {
    "duration": 4061,
    "start_time": "2021-08-19T11:42:36.972Z"
   },
   {
    "duration": -56,
    "start_time": "2021-08-19T11:42:41.097Z"
   },
   {
    "duration": -58,
    "start_time": "2021-08-19T11:42:41.101Z"
   },
   {
    "duration": -62,
    "start_time": "2021-08-19T11:42:41.106Z"
   },
   {
    "duration": -64,
    "start_time": "2021-08-19T11:42:41.110Z"
   },
   {
    "duration": -67,
    "start_time": "2021-08-19T11:42:41.114Z"
   },
   {
    "duration": -70,
    "start_time": "2021-08-19T11:42:41.118Z"
   },
   {
    "duration": -71,
    "start_time": "2021-08-19T11:42:41.121Z"
   },
   {
    "duration": -82,
    "start_time": "2021-08-19T11:42:41.133Z"
   },
   {
    "duration": -87,
    "start_time": "2021-08-19T11:42:41.139Z"
   },
   {
    "duration": -92,
    "start_time": "2021-08-19T11:42:41.146Z"
   },
   {
    "duration": -95,
    "start_time": "2021-08-19T11:42:41.150Z"
   },
   {
    "duration": -98,
    "start_time": "2021-08-19T11:42:41.154Z"
   },
   {
    "duration": -100,
    "start_time": "2021-08-19T11:42:41.157Z"
   },
   {
    "duration": -103,
    "start_time": "2021-08-19T11:42:41.162Z"
   },
   {
    "duration": -106,
    "start_time": "2021-08-19T11:42:41.166Z"
   },
   {
    "duration": -109,
    "start_time": "2021-08-19T11:42:41.170Z"
   },
   {
    "duration": -110,
    "start_time": "2021-08-19T11:42:41.173Z"
   },
   {
    "duration": -113,
    "start_time": "2021-08-19T11:42:41.177Z"
   },
   {
    "duration": -124,
    "start_time": "2021-08-19T11:42:41.189Z"
   },
   {
    "duration": -128,
    "start_time": "2021-08-19T11:42:41.195Z"
   },
   {
    "duration": -132,
    "start_time": "2021-08-19T11:42:41.200Z"
   },
   {
    "duration": -135,
    "start_time": "2021-08-19T11:42:41.204Z"
   },
   {
    "duration": -136,
    "start_time": "2021-08-19T11:42:41.207Z"
   },
   {
    "duration": -140,
    "start_time": "2021-08-19T11:42:41.212Z"
   },
   {
    "duration": -137,
    "start_time": "2021-08-19T11:42:41.215Z"
   },
   {
    "duration": -134,
    "start_time": "2021-08-19T11:42:41.219Z"
   },
   {
    "duration": -135,
    "start_time": "2021-08-19T11:42:41.222Z"
   },
   {
    "duration": -136,
    "start_time": "2021-08-19T11:42:41.226Z"
   },
   {
    "duration": -137,
    "start_time": "2021-08-19T11:42:41.229Z"
   },
   {
    "duration": -139,
    "start_time": "2021-08-19T11:42:41.233Z"
   },
   {
    "duration": -140,
    "start_time": "2021-08-19T11:42:41.236Z"
   },
   {
    "duration": -141,
    "start_time": "2021-08-19T11:42:41.240Z"
   },
   {
    "duration": -143,
    "start_time": "2021-08-19T11:42:41.244Z"
   },
   {
    "duration": -145,
    "start_time": "2021-08-19T11:42:41.248Z"
   },
   {
    "duration": -146,
    "start_time": "2021-08-19T11:42:41.251Z"
   },
   {
    "duration": -146,
    "start_time": "2021-08-19T11:42:41.254Z"
   },
   {
    "duration": -147,
    "start_time": "2021-08-19T11:42:41.258Z"
   },
   {
    "duration": -149,
    "start_time": "2021-08-19T11:42:41.262Z"
   },
   {
    "duration": -151,
    "start_time": "2021-08-19T11:42:41.266Z"
   },
   {
    "duration": -202,
    "start_time": "2021-08-19T11:42:41.319Z"
   },
   {
    "duration": -207,
    "start_time": "2021-08-19T11:42:41.326Z"
   },
   {
    "duration": -210,
    "start_time": "2021-08-19T11:42:41.331Z"
   },
   {
    "duration": -250,
    "start_time": "2021-08-19T11:42:41.373Z"
   },
   {
    "duration": -253,
    "start_time": "2021-08-19T11:42:41.378Z"
   },
   {
    "duration": -255,
    "start_time": "2021-08-19T11:42:41.382Z"
   },
   {
    "duration": -200,
    "start_time": "2021-08-19T11:42:41.386Z"
   },
   {
    "duration": -203,
    "start_time": "2021-08-19T11:42:41.390Z"
   },
   {
    "duration": -205,
    "start_time": "2021-08-19T11:42:41.394Z"
   },
   {
    "duration": -263,
    "start_time": "2021-08-19T11:42:41.453Z"
   },
   {
    "duration": -2011,
    "start_time": "2021-08-19T11:42:43.203Z"
   },
   {
    "duration": -2014,
    "start_time": "2021-08-19T11:42:43.207Z"
   },
   {
    "duration": -2019,
    "start_time": "2021-08-19T11:42:43.213Z"
   },
   {
    "duration": -2023,
    "start_time": "2021-08-19T11:42:43.218Z"
   },
   {
    "duration": -2026,
    "start_time": "2021-08-19T11:42:43.223Z"
   },
   {
    "duration": -2030,
    "start_time": "2021-08-19T11:42:43.228Z"
   },
   {
    "duration": -2033,
    "start_time": "2021-08-19T11:42:43.232Z"
   },
   {
    "duration": -2036,
    "start_time": "2021-08-19T11:42:43.237Z"
   },
   {
    "duration": -2041,
    "start_time": "2021-08-19T11:42:43.243Z"
   },
   {
    "duration": -2044,
    "start_time": "2021-08-19T11:42:43.248Z"
   },
   {
    "duration": -2047,
    "start_time": "2021-08-19T11:42:43.252Z"
   },
   {
    "duration": -2051,
    "start_time": "2021-08-19T11:42:43.257Z"
   },
   {
    "duration": -2054,
    "start_time": "2021-08-19T11:42:43.262Z"
   },
   {
    "duration": -2057,
    "start_time": "2021-08-19T11:42:43.266Z"
   },
   {
    "duration": -2060,
    "start_time": "2021-08-19T11:42:43.271Z"
   },
   {
    "duration": -2064,
    "start_time": "2021-08-19T11:42:43.276Z"
   },
   {
    "duration": -2066,
    "start_time": "2021-08-19T11:42:43.280Z"
   },
   {
    "duration": -2494,
    "start_time": "2021-08-19T11:42:43.710Z"
   },
   {
    "duration": -2496,
    "start_time": "2021-08-19T11:42:43.714Z"
   },
   {
    "duration": -2500,
    "start_time": "2021-08-19T11:42:43.719Z"
   },
   {
    "duration": -2503,
    "start_time": "2021-08-19T11:42:43.723Z"
   },
   {
    "duration": -2505,
    "start_time": "2021-08-19T11:42:43.727Z"
   },
   {
    "duration": -2443,
    "start_time": "2021-08-19T11:42:43.730Z"
   },
   {
    "duration": -2454,
    "start_time": "2021-08-19T11:42:43.743Z"
   },
   {
    "duration": -2461,
    "start_time": "2021-08-19T11:42:43.751Z"
   },
   {
    "duration": -2498,
    "start_time": "2021-08-19T11:42:43.789Z"
   },
   {
    "duration": -2502,
    "start_time": "2021-08-19T11:42:43.795Z"
   },
   {
    "duration": -2505,
    "start_time": "2021-08-19T11:42:43.799Z"
   },
   {
    "duration": -2508,
    "start_time": "2021-08-19T11:42:43.803Z"
   },
   {
    "duration": -2509,
    "start_time": "2021-08-19T11:42:43.806Z"
   },
   {
    "duration": -2513,
    "start_time": "2021-08-19T11:42:43.811Z"
   },
   {
    "duration": -2516,
    "start_time": "2021-08-19T11:42:43.815Z"
   },
   {
    "duration": -2613,
    "start_time": "2021-08-19T11:42:43.914Z"
   },
   {
    "duration": -2616,
    "start_time": "2021-08-19T11:42:43.919Z"
   },
   {
    "duration": -2620,
    "start_time": "2021-08-19T11:42:43.924Z"
   },
   {
    "duration": -2624,
    "start_time": "2021-08-19T11:42:43.929Z"
   },
   {
    "duration": -2628,
    "start_time": "2021-08-19T11:42:43.935Z"
   },
   {
    "duration": -2632,
    "start_time": "2021-08-19T11:42:43.940Z"
   },
   {
    "duration": -2636,
    "start_time": "2021-08-19T11:42:43.945Z"
   },
   {
    "duration": -2640,
    "start_time": "2021-08-19T11:42:43.950Z"
   },
   {
    "duration": -2645,
    "start_time": "2021-08-19T11:42:43.956Z"
   },
   {
    "duration": -2648,
    "start_time": "2021-08-19T11:42:43.961Z"
   },
   {
    "duration": -2652,
    "start_time": "2021-08-19T11:42:43.966Z"
   },
   {
    "duration": -2669,
    "start_time": "2021-08-19T11:42:43.984Z"
   },
   {
    "duration": -2677,
    "start_time": "2021-08-19T11:42:43.993Z"
   },
   {
    "duration": -2682,
    "start_time": "2021-08-19T11:42:44.000Z"
   },
   {
    "duration": -2687,
    "start_time": "2021-08-19T11:42:44.006Z"
   },
   {
    "duration": -2759,
    "start_time": "2021-08-19T11:42:44.079Z"
   },
   {
    "duration": -2770,
    "start_time": "2021-08-19T11:42:44.092Z"
   },
   {
    "duration": -2775,
    "start_time": "2021-08-19T11:42:44.098Z"
   },
   {
    "duration": -2781,
    "start_time": "2021-08-19T11:42:44.105Z"
   },
   {
    "duration": -2727,
    "start_time": "2021-08-19T11:42:44.112Z"
   },
   {
    "duration": -2729,
    "start_time": "2021-08-19T11:42:44.116Z"
   },
   {
    "duration": -2731,
    "start_time": "2021-08-19T11:42:44.119Z"
   },
   {
    "duration": -2734,
    "start_time": "2021-08-19T11:42:44.123Z"
   },
   {
    "duration": -2736,
    "start_time": "2021-08-19T11:42:44.127Z"
   },
   {
    "duration": -2739,
    "start_time": "2021-08-19T11:42:44.131Z"
   },
   {
    "duration": -2742,
    "start_time": "2021-08-19T11:42:44.135Z"
   },
   {
    "duration": -2744,
    "start_time": "2021-08-19T11:42:44.139Z"
   },
   {
    "duration": -2745,
    "start_time": "2021-08-19T11:42:44.142Z"
   },
   {
    "duration": -2748,
    "start_time": "2021-08-19T11:42:44.146Z"
   },
   {
    "duration": 130,
    "start_time": "2021-08-19T11:45:23.240Z"
   },
   {
    "duration": 3698,
    "start_time": "2021-08-20T06:25:37.253Z"
   },
   {
    "duration": -622,
    "start_time": "2021-08-20T06:25:41.582Z"
   },
   {
    "duration": -633,
    "start_time": "2021-08-20T06:25:41.594Z"
   },
   {
    "duration": -640,
    "start_time": "2021-08-20T06:25:41.602Z"
   },
   {
    "duration": -642,
    "start_time": "2021-08-20T06:25:41.606Z"
   },
   {
    "duration": -645,
    "start_time": "2021-08-20T06:25:41.610Z"
   },
   {
    "duration": -649,
    "start_time": "2021-08-20T06:25:41.615Z"
   },
   {
    "duration": -661,
    "start_time": "2021-08-20T06:25:41.628Z"
   },
   {
    "duration": -671,
    "start_time": "2021-08-20T06:25:41.640Z"
   },
   {
    "duration": -682,
    "start_time": "2021-08-20T06:25:41.652Z"
   },
   {
    "duration": -817,
    "start_time": "2021-08-20T06:25:41.788Z"
   },
   {
    "duration": -1390,
    "start_time": "2021-08-20T06:25:42.363Z"
   },
   {
    "duration": -1396,
    "start_time": "2021-08-20T06:25:42.370Z"
   },
   {
    "duration": -1541,
    "start_time": "2021-08-20T06:25:42.516Z"
   },
   {
    "duration": -1546,
    "start_time": "2021-08-20T06:25:42.523Z"
   },
   {
    "duration": -1550,
    "start_time": "2021-08-20T06:25:42.528Z"
   },
   {
    "duration": -1554,
    "start_time": "2021-08-20T06:25:42.533Z"
   },
   {
    "duration": -1558,
    "start_time": "2021-08-20T06:25:42.538Z"
   },
   {
    "duration": -1561,
    "start_time": "2021-08-20T06:25:42.542Z"
   },
   {
    "duration": -1564,
    "start_time": "2021-08-20T06:25:42.547Z"
   },
   {
    "duration": -1567,
    "start_time": "2021-08-20T06:25:42.551Z"
   },
   {
    "duration": -1618,
    "start_time": "2021-08-20T06:25:42.604Z"
   },
   {
    "duration": -1621,
    "start_time": "2021-08-20T06:25:42.608Z"
   },
   {
    "duration": -1624,
    "start_time": "2021-08-20T06:25:42.613Z"
   },
   {
    "duration": -1636,
    "start_time": "2021-08-20T06:25:42.626Z"
   },
   {
    "duration": -1647,
    "start_time": "2021-08-20T06:25:42.639Z"
   },
   {
    "duration": -1664,
    "start_time": "2021-08-20T06:25:42.657Z"
   },
   {
    "duration": -1671,
    "start_time": "2021-08-20T06:25:42.665Z"
   },
   {
    "duration": -1675,
    "start_time": "2021-08-20T06:25:42.671Z"
   },
   {
    "duration": -1644,
    "start_time": "2021-08-20T06:25:42.702Z"
   },
   {
    "duration": -1649,
    "start_time": "2021-08-20T06:25:42.708Z"
   },
   {
    "duration": -1657,
    "start_time": "2021-08-20T06:25:42.718Z"
   },
   {
    "duration": -1695,
    "start_time": "2021-08-20T06:25:42.757Z"
   },
   {
    "duration": -1704,
    "start_time": "2021-08-20T06:25:42.767Z"
   },
   {
    "duration": -1736,
    "start_time": "2021-08-20T06:25:42.801Z"
   },
   {
    "duration": -1741,
    "start_time": "2021-08-20T06:25:42.807Z"
   },
   {
    "duration": -1746,
    "start_time": "2021-08-20T06:25:42.814Z"
   },
   {
    "duration": -1755,
    "start_time": "2021-08-20T06:25:42.824Z"
   },
   {
    "duration": -1763,
    "start_time": "2021-08-20T06:25:42.833Z"
   },
   {
    "duration": -1793,
    "start_time": "2021-08-20T06:25:42.865Z"
   },
   {
    "duration": -1799,
    "start_time": "2021-08-20T06:25:42.872Z"
   },
   {
    "duration": -1805,
    "start_time": "2021-08-20T06:25:42.880Z"
   },
   {
    "duration": -1810,
    "start_time": "2021-08-20T06:25:42.886Z"
   },
   {
    "duration": -1842,
    "start_time": "2021-08-20T06:25:42.919Z"
   },
   {
    "duration": -1846,
    "start_time": "2021-08-20T06:25:42.925Z"
   },
   {
    "duration": -1854,
    "start_time": "2021-08-20T06:25:42.934Z"
   },
   {
    "duration": -1861,
    "start_time": "2021-08-20T06:25:42.942Z"
   },
   {
    "duration": -1866,
    "start_time": "2021-08-20T06:25:42.949Z"
   },
   {
    "duration": -1872,
    "start_time": "2021-08-20T06:25:42.956Z"
   },
   {
    "duration": -1880,
    "start_time": "2021-08-20T06:25:42.965Z"
   },
   {
    "duration": -1907,
    "start_time": "2021-08-20T06:25:42.994Z"
   },
   {
    "duration": -1915,
    "start_time": "2021-08-20T06:25:43.003Z"
   },
   {
    "duration": -1920,
    "start_time": "2021-08-20T06:25:43.009Z"
   },
   {
    "duration": -1927,
    "start_time": "2021-08-20T06:25:43.017Z"
   },
   {
    "duration": -1950,
    "start_time": "2021-08-20T06:25:43.041Z"
   },
   {
    "duration": -1955,
    "start_time": "2021-08-20T06:25:43.048Z"
   },
   {
    "duration": -1976,
    "start_time": "2021-08-20T06:25:43.070Z"
   },
   {
    "duration": -1920,
    "start_time": "2021-08-20T06:25:43.076Z"
   },
   {
    "duration": -1937,
    "start_time": "2021-08-20T06:25:43.094Z"
   },
   {
    "duration": -1952,
    "start_time": "2021-08-20T06:25:43.110Z"
   },
   {
    "duration": -1957,
    "start_time": "2021-08-20T06:25:43.117Z"
   },
   {
    "duration": -1970,
    "start_time": "2021-08-20T06:25:43.131Z"
   },
   {
    "duration": -1975,
    "start_time": "2021-08-20T06:25:43.137Z"
   },
   {
    "duration": -1982,
    "start_time": "2021-08-20T06:25:43.145Z"
   },
   {
    "duration": -1986,
    "start_time": "2021-08-20T06:25:43.150Z"
   },
   {
    "duration": -1989,
    "start_time": "2021-08-20T06:25:43.154Z"
   },
   {
    "duration": -1991,
    "start_time": "2021-08-20T06:25:43.158Z"
   },
   {
    "duration": -1995,
    "start_time": "2021-08-20T06:25:43.163Z"
   },
   {
    "duration": -1997,
    "start_time": "2021-08-20T06:25:43.167Z"
   },
   {
    "duration": -2000,
    "start_time": "2021-08-20T06:25:43.171Z"
   },
   {
    "duration": -2002,
    "start_time": "2021-08-20T06:25:43.174Z"
   },
   {
    "duration": -2005,
    "start_time": "2021-08-20T06:25:43.178Z"
   },
   {
    "duration": -2007,
    "start_time": "2021-08-20T06:25:43.182Z"
   },
   {
    "duration": -2010,
    "start_time": "2021-08-20T06:25:43.186Z"
   },
   {
    "duration": -2012,
    "start_time": "2021-08-20T06:25:43.189Z"
   },
   {
    "duration": -2015,
    "start_time": "2021-08-20T06:25:43.193Z"
   },
   {
    "duration": -2017,
    "start_time": "2021-08-20T06:25:43.197Z"
   },
   {
    "duration": -2020,
    "start_time": "2021-08-20T06:25:43.201Z"
   },
   {
    "duration": -2022,
    "start_time": "2021-08-20T06:25:43.204Z"
   },
   {
    "duration": -2025,
    "start_time": "2021-08-20T06:25:43.208Z"
   },
   {
    "duration": -2028,
    "start_time": "2021-08-20T06:25:43.212Z"
   },
   {
    "duration": -2031,
    "start_time": "2021-08-20T06:25:43.216Z"
   },
   {
    "duration": -2033,
    "start_time": "2021-08-20T06:25:43.220Z"
   },
   {
    "duration": -2036,
    "start_time": "2021-08-20T06:25:43.224Z"
   },
   {
    "duration": -2050,
    "start_time": "2021-08-20T06:25:43.239Z"
   },
   {
    "duration": -2056,
    "start_time": "2021-08-20T06:25:43.247Z"
   },
   {
    "duration": -2060,
    "start_time": "2021-08-20T06:25:43.252Z"
   },
   {
    "duration": -2063,
    "start_time": "2021-08-20T06:25:43.256Z"
   },
   {
    "duration": -2005,
    "start_time": "2021-08-20T06:25:43.260Z"
   },
   {
    "duration": -2010,
    "start_time": "2021-08-20T06:25:43.266Z"
   },
   {
    "duration": -2011,
    "start_time": "2021-08-20T06:25:43.269Z"
   },
   {
    "duration": -2014,
    "start_time": "2021-08-20T06:25:43.273Z"
   },
   {
    "duration": -2016,
    "start_time": "2021-08-20T06:25:43.276Z"
   },
   {
    "duration": -2020,
    "start_time": "2021-08-20T06:25:43.281Z"
   },
   {
    "duration": -2021,
    "start_time": "2021-08-20T06:25:43.284Z"
   },
   {
    "duration": -2024,
    "start_time": "2021-08-20T06:25:43.288Z"
   },
   {
    "duration": -2026,
    "start_time": "2021-08-20T06:25:43.291Z"
   },
   {
    "duration": -2049,
    "start_time": "2021-08-20T06:25:43.316Z"
   },
   {
    "duration": -2052,
    "start_time": "2021-08-20T06:25:43.320Z"
   },
   {
    "duration": -2055,
    "start_time": "2021-08-20T06:25:43.324Z"
   },
   {
    "duration": -2057,
    "start_time": "2021-08-20T06:25:43.327Z"
   },
   {
    "duration": -2060,
    "start_time": "2021-08-20T06:25:43.332Z"
   },
   {
    "duration": -2062,
    "start_time": "2021-08-20T06:25:43.335Z"
   },
   {
    "duration": -2084,
    "start_time": "2021-08-20T06:25:43.358Z"
   },
   {
    "duration": -2090,
    "start_time": "2021-08-20T06:25:43.365Z"
   },
   {
    "duration": -2095,
    "start_time": "2021-08-20T06:25:43.371Z"
   },
   {
    "duration": -2096,
    "start_time": "2021-08-20T06:25:43.374Z"
   },
   {
    "duration": -2102,
    "start_time": "2021-08-20T06:25:43.381Z"
   },
   {
    "duration": -2107,
    "start_time": "2021-08-20T06:25:43.387Z"
   },
   {
    "duration": -2116,
    "start_time": "2021-08-20T06:25:43.397Z"
   },
   {
    "duration": -2124,
    "start_time": "2021-08-20T06:25:43.406Z"
   },
   {
    "duration": -2130,
    "start_time": "2021-08-20T06:25:43.414Z"
   },
   {
    "duration": -2138,
    "start_time": "2021-08-20T06:25:43.423Z"
   },
   {
    "duration": 2434,
    "start_time": "2021-08-20T07:22:36.149Z"
   },
   {
    "duration": 361,
    "start_time": "2021-08-20T07:22:43.611Z"
   },
   {
    "duration": 23,
    "start_time": "2021-08-20T07:23:17.403Z"
   },
   {
    "duration": 857,
    "start_time": "2021-08-20T08:35:34.999Z"
   },
   {
    "duration": 12,
    "start_time": "2021-08-20T08:36:58.980Z"
   },
   {
    "duration": 975,
    "start_time": "2021-08-20T08:37:22.879Z"
   },
   {
    "duration": 10,
    "start_time": "2021-08-20T08:37:23.856Z"
   },
   {
    "duration": 35,
    "start_time": "2021-08-20T08:37:23.868Z"
   },
   {
    "duration": 7,
    "start_time": "2021-08-20T08:37:23.905Z"
   },
   {
    "duration": 8,
    "start_time": "2021-08-20T08:37:23.914Z"
   },
   {
    "duration": 13,
    "start_time": "2021-08-20T08:37:23.924Z"
   },
   {
    "duration": 6,
    "start_time": "2021-08-20T08:37:23.938Z"
   },
   {
    "duration": 16,
    "start_time": "2021-08-20T08:37:23.946Z"
   },
   {
    "duration": 16,
    "start_time": "2021-08-20T08:37:23.964Z"
   },
   {
    "duration": 45,
    "start_time": "2021-08-20T08:37:23.991Z"
   },
   {
    "duration": 6,
    "start_time": "2021-08-20T08:37:24.037Z"
   },
   {
    "duration": 6,
    "start_time": "2021-08-20T08:37:24.045Z"
   },
   {
    "duration": 14,
    "start_time": "2021-08-20T08:37:24.053Z"
   },
   {
    "duration": 3539,
    "start_time": "2021-08-20T08:37:24.069Z"
   },
   {
    "duration": 3,
    "start_time": "2021-08-20T08:37:27.610Z"
   },
   {
    "duration": 3656,
    "start_time": "2021-08-20T08:37:27.614Z"
   },
   {
    "duration": 6,
    "start_time": "2021-08-20T08:37:31.272Z"
   },
   {
    "duration": 10,
    "start_time": "2021-08-20T08:37:31.292Z"
   },
   {
    "duration": 7,
    "start_time": "2021-08-20T08:37:31.304Z"
   },
   {
    "duration": 13,
    "start_time": "2021-08-20T08:37:31.312Z"
   },
   {
    "duration": 33,
    "start_time": "2021-08-20T08:37:31.326Z"
   },
   {
    "duration": 85,
    "start_time": "2021-08-20T08:37:31.361Z"
   },
   {
    "duration": 34,
    "start_time": "2021-08-20T08:37:31.449Z"
   },
   {
    "duration": 70,
    "start_time": "2021-08-20T08:37:31.493Z"
   },
   {
    "duration": 9,
    "start_time": "2021-08-20T08:37:31.564Z"
   },
   {
    "duration": 20,
    "start_time": "2021-08-20T08:37:31.574Z"
   },
   {
    "duration": 13,
    "start_time": "2021-08-20T08:37:31.595Z"
   },
   {
    "duration": 17,
    "start_time": "2021-08-20T08:37:31.610Z"
   },
   {
    "duration": 21,
    "start_time": "2021-08-20T08:37:31.628Z"
   },
   {
    "duration": 11,
    "start_time": "2021-08-20T08:37:31.651Z"
   },
   {
    "duration": 17,
    "start_time": "2021-08-20T08:37:31.663Z"
   },
   {
    "duration": 13,
    "start_time": "2021-08-20T08:37:31.681Z"
   },
   {
    "duration": 32,
    "start_time": "2021-08-20T08:37:31.695Z"
   },
   {
    "duration": 16,
    "start_time": "2021-08-20T08:37:31.728Z"
   },
   {
    "duration": 12,
    "start_time": "2021-08-20T08:37:31.745Z"
   },
   {
    "duration": 21,
    "start_time": "2021-08-20T08:37:31.758Z"
   },
   {
    "duration": 16,
    "start_time": "2021-08-20T08:37:31.780Z"
   },
   {
    "duration": 10,
    "start_time": "2021-08-20T08:37:31.798Z"
   },
   {
    "duration": 13,
    "start_time": "2021-08-20T08:37:31.810Z"
   },
   {
    "duration": 18,
    "start_time": "2021-08-20T08:37:31.824Z"
   },
   {
    "duration": 21,
    "start_time": "2021-08-20T08:37:31.843Z"
   },
   {
    "duration": 23,
    "start_time": "2021-08-20T08:37:31.865Z"
   },
   {
    "duration": 20,
    "start_time": "2021-08-20T08:37:31.889Z"
   },
   {
    "duration": 20,
    "start_time": "2021-08-20T08:37:31.911Z"
   },
   {
    "duration": 21,
    "start_time": "2021-08-20T08:37:31.933Z"
   },
   {
    "duration": 17,
    "start_time": "2021-08-20T08:37:31.956Z"
   },
   {
    "duration": 458,
    "start_time": "2021-08-20T08:37:31.975Z"
   },
   {
    "duration": 62,
    "start_time": "2021-08-20T08:37:32.434Z"
   },
   {
    "duration": 25,
    "start_time": "2021-08-20T08:37:32.498Z"
   },
   {
    "duration": 19,
    "start_time": "2021-08-20T08:37:32.524Z"
   },
   {
    "duration": 8,
    "start_time": "2021-08-20T08:37:32.545Z"
   },
   {
    "duration": 157,
    "start_time": "2021-08-20T08:37:32.554Z"
   },
   {
    "duration": 362,
    "start_time": "2021-08-20T08:37:32.713Z"
   },
   {
    "duration": 14,
    "start_time": "2021-08-20T08:37:33.077Z"
   },
   {
    "duration": 15,
    "start_time": "2021-08-20T08:37:33.093Z"
   },
   {
    "duration": 29,
    "start_time": "2021-08-20T08:37:33.109Z"
   },
   {
    "duration": 22,
    "start_time": "2021-08-20T08:37:33.140Z"
   },
   {
    "duration": 142,
    "start_time": "2021-08-20T08:37:33.163Z"
   },
   {
    "duration": 3120,
    "start_time": "2021-08-20T08:37:33.307Z"
   },
   {
    "duration": 7,
    "start_time": "2021-08-20T08:37:36.429Z"
   },
   {
    "duration": 9,
    "start_time": "2021-08-20T08:37:36.437Z"
   },
   {
    "duration": 146,
    "start_time": "2021-08-20T08:37:36.447Z"
   },
   {
    "duration": 209,
    "start_time": "2021-08-20T08:37:36.594Z"
   },
   {
    "duration": 29,
    "start_time": "2021-08-20T08:37:36.804Z"
   },
   {
    "duration": 9,
    "start_time": "2021-08-20T08:37:36.834Z"
   },
   {
    "duration": 13,
    "start_time": "2021-08-20T08:37:36.844Z"
   },
   {
    "duration": 154,
    "start_time": "2021-08-20T08:37:36.858Z"
   },
   {
    "duration": 233,
    "start_time": "2021-08-20T08:37:37.017Z"
   },
   {
    "duration": 9,
    "start_time": "2021-08-20T08:37:37.253Z"
   },
   {
    "duration": 31,
    "start_time": "2021-08-20T08:37:37.264Z"
   },
   {
    "duration": 146,
    "start_time": "2021-08-20T08:37:37.297Z"
   },
   {
    "duration": 693,
    "start_time": "2021-08-20T08:37:37.446Z"
   },
   {
    "duration": 339,
    "start_time": "2021-08-20T08:37:38.142Z"
   },
   {
    "duration": 13,
    "start_time": "2021-08-20T08:37:38.483Z"
   },
   {
    "duration": 18,
    "start_time": "2021-08-20T08:37:38.497Z"
   },
   {
    "duration": 8,
    "start_time": "2021-08-20T08:37:38.517Z"
   },
   {
    "duration": 9,
    "start_time": "2021-08-20T08:37:38.526Z"
   },
   {
    "duration": 18,
    "start_time": "2021-08-20T08:37:38.536Z"
   },
   {
    "duration": 10,
    "start_time": "2021-08-20T08:37:38.556Z"
   },
   {
    "duration": 27,
    "start_time": "2021-08-20T08:37:38.567Z"
   },
   {
    "duration": 19,
    "start_time": "2021-08-20T08:37:38.595Z"
   },
   {
    "duration": 10,
    "start_time": "2021-08-20T08:37:38.616Z"
   },
   {
    "duration": 8,
    "start_time": "2021-08-20T08:37:38.628Z"
   },
   {
    "duration": 345,
    "start_time": "2021-08-20T08:37:38.638Z"
   },
   {
    "duration": 193,
    "start_time": "2021-08-20T08:37:38.984Z"
   },
   {
    "duration": 23,
    "start_time": "2021-08-20T08:37:39.179Z"
   },
   {
    "duration": 197,
    "start_time": "2021-08-20T08:37:39.203Z"
   },
   {
    "duration": 320,
    "start_time": "2021-08-20T08:37:39.401Z"
   },
   {
    "duration": 501,
    "start_time": "2021-08-20T08:37:39.723Z"
   },
   {
    "duration": 223,
    "start_time": "2021-08-20T08:37:40.226Z"
   },
   {
    "duration": 278,
    "start_time": "2021-08-20T08:37:40.451Z"
   },
   {
    "duration": 316,
    "start_time": "2021-08-20T08:37:40.731Z"
   },
   {
    "duration": 9,
    "start_time": "2021-08-20T08:37:41.048Z"
   },
   {
    "duration": 22,
    "start_time": "2021-08-20T08:37:41.059Z"
   },
   {
    "duration": 258,
    "start_time": "2021-08-20T08:37:41.083Z"
   },
   {
    "duration": 10,
    "start_time": "2021-08-20T08:37:41.343Z"
   },
   {
    "duration": 6,
    "start_time": "2021-08-20T08:37:41.355Z"
   },
   {
    "duration": 42,
    "start_time": "2021-08-20T08:37:41.362Z"
   },
   {
    "duration": 7,
    "start_time": "2021-08-20T08:37:41.405Z"
   },
   {
    "duration": 17,
    "start_time": "2021-08-20T08:37:41.414Z"
   },
   {
    "duration": 244,
    "start_time": "2021-08-20T08:37:41.433Z"
   },
   {
    "duration": 20,
    "start_time": "2021-08-20T08:37:41.679Z"
   },
   {
    "duration": 221,
    "start_time": "2021-08-20T08:37:41.701Z"
   },
   {
    "duration": 229,
    "start_time": "2021-08-20T08:37:41.923Z"
   },
   {
    "duration": 219,
    "start_time": "2021-08-20T08:37:42.154Z"
   },
   {
    "duration": 327,
    "start_time": "2021-08-20T08:37:42.375Z"
   },
   {
    "duration": 219,
    "start_time": "2021-08-20T08:37:42.704Z"
   },
   {
    "duration": 26,
    "start_time": "2021-08-20T08:37:42.925Z"
   },
   {
    "duration": 242,
    "start_time": "2021-08-20T08:37:42.953Z"
   },
   {
    "duration": 25,
    "start_time": "2021-08-20T08:37:43.196Z"
   },
   {
    "duration": 237,
    "start_time": "2021-08-20T08:37:43.223Z"
   },
   {
    "duration": 36,
    "start_time": "2021-08-20T08:37:43.462Z"
   },
   {
    "duration": 247,
    "start_time": "2021-08-20T08:37:43.499Z"
   },
   {
    "duration": 411,
    "start_time": "2021-08-21T06:39:37.775Z"
   },
   {
    "duration": 1377,
    "start_time": "2021-08-21T06:39:44.503Z"
   },
   {
    "duration": 15,
    "start_time": "2021-08-21T06:39:45.883Z"
   },
   {
    "duration": 62,
    "start_time": "2021-08-21T06:39:45.902Z"
   },
   {
    "duration": 13,
    "start_time": "2021-08-21T06:39:45.967Z"
   },
   {
    "duration": 36,
    "start_time": "2021-08-21T06:39:45.983Z"
   },
   {
    "duration": 47,
    "start_time": "2021-08-21T06:39:46.021Z"
   },
   {
    "duration": 23,
    "start_time": "2021-08-21T06:39:46.071Z"
   },
   {
    "duration": 31,
    "start_time": "2021-08-21T06:39:46.097Z"
   },
   {
    "duration": 22,
    "start_time": "2021-08-21T06:39:46.132Z"
   },
   {
    "duration": 84,
    "start_time": "2021-08-21T06:39:46.157Z"
   },
   {
    "duration": 10,
    "start_time": "2021-08-21T06:39:46.244Z"
   },
   {
    "duration": 8,
    "start_time": "2021-08-21T06:39:46.257Z"
   },
   {
    "duration": 16,
    "start_time": "2021-08-21T06:39:46.268Z"
   },
   {
    "duration": 6624,
    "start_time": "2021-08-21T06:39:46.287Z"
   },
   {
    "duration": 5,
    "start_time": "2021-08-21T06:39:52.913Z"
   },
   {
    "duration": 7036,
    "start_time": "2021-08-21T06:39:52.921Z"
   },
   {
    "duration": 9,
    "start_time": "2021-08-21T06:39:59.960Z"
   },
   {
    "duration": 16,
    "start_time": "2021-08-21T06:39:59.971Z"
   },
   {
    "duration": 11,
    "start_time": "2021-08-21T06:39:59.989Z"
   },
   {
    "duration": 28,
    "start_time": "2021-08-21T06:40:00.003Z"
   },
   {
    "duration": 65,
    "start_time": "2021-08-21T06:40:00.034Z"
   },
   {
    "duration": 138,
    "start_time": "2021-08-21T06:40:00.102Z"
   },
   {
    "duration": 52,
    "start_time": "2021-08-21T06:40:00.242Z"
   },
   {
    "duration": 125,
    "start_time": "2021-08-21T06:40:00.296Z"
   },
   {
    "duration": 12,
    "start_time": "2021-08-21T06:40:00.423Z"
   },
   {
    "duration": 27,
    "start_time": "2021-08-21T06:40:00.438Z"
   },
   {
    "duration": 30,
    "start_time": "2021-08-21T06:40:00.471Z"
   },
   {
    "duration": 42,
    "start_time": "2021-08-21T06:40:00.505Z"
   },
   {
    "duration": 34,
    "start_time": "2021-08-21T06:40:00.549Z"
   },
   {
    "duration": 24,
    "start_time": "2021-08-21T06:40:00.585Z"
   },
   {
    "duration": 37,
    "start_time": "2021-08-21T06:40:00.612Z"
   },
   {
    "duration": 33,
    "start_time": "2021-08-21T06:40:00.652Z"
   },
   {
    "duration": 56,
    "start_time": "2021-08-21T06:40:00.688Z"
   },
   {
    "duration": 29,
    "start_time": "2021-08-21T06:40:00.746Z"
   },
   {
    "duration": 65,
    "start_time": "2021-08-21T06:40:00.778Z"
   },
   {
    "duration": 39,
    "start_time": "2021-08-21T06:40:00.846Z"
   },
   {
    "duration": 35,
    "start_time": "2021-08-21T06:40:00.888Z"
   },
   {
    "duration": 33,
    "start_time": "2021-08-21T06:40:00.925Z"
   },
   {
    "duration": 17,
    "start_time": "2021-08-21T06:40:00.960Z"
   },
   {
    "duration": 31,
    "start_time": "2021-08-21T06:40:00.979Z"
   },
   {
    "duration": 38,
    "start_time": "2021-08-21T06:40:01.013Z"
   },
   {
    "duration": 36,
    "start_time": "2021-08-21T06:40:01.054Z"
   },
   {
    "duration": 39,
    "start_time": "2021-08-21T06:40:01.092Z"
   },
   {
    "duration": 48,
    "start_time": "2021-08-21T06:40:01.133Z"
   },
   {
    "duration": 49,
    "start_time": "2021-08-21T06:40:01.183Z"
   },
   {
    "duration": 37,
    "start_time": "2021-08-21T06:40:01.235Z"
   },
   {
    "duration": 811,
    "start_time": "2021-08-21T06:40:01.275Z"
   },
   {
    "duration": 95,
    "start_time": "2021-08-21T06:40:02.089Z"
   },
   {
    "duration": 45,
    "start_time": "2021-08-21T06:40:02.187Z"
   },
   {
    "duration": 45,
    "start_time": "2021-08-21T06:40:02.234Z"
   },
   {
    "duration": 12,
    "start_time": "2021-08-21T06:40:02.281Z"
   },
   {
    "duration": 263,
    "start_time": "2021-08-21T06:40:02.296Z"
   },
   {
    "duration": 645,
    "start_time": "2021-08-21T06:40:02.562Z"
   },
   {
    "duration": 9,
    "start_time": "2021-08-21T06:40:03.210Z"
   },
   {
    "duration": 34,
    "start_time": "2021-08-21T06:40:03.222Z"
   },
   {
    "duration": 53,
    "start_time": "2021-08-21T06:40:03.259Z"
   },
   {
    "duration": 66,
    "start_time": "2021-08-21T06:40:03.314Z"
   },
   {
    "duration": 229,
    "start_time": "2021-08-21T06:40:03.382Z"
   },
   {
    "duration": 5882,
    "start_time": "2021-08-21T06:40:03.614Z"
   },
   {
    "duration": 13,
    "start_time": "2021-08-21T06:40:09.499Z"
   },
   {
    "duration": 39,
    "start_time": "2021-08-21T06:40:09.515Z"
   },
   {
    "duration": 271,
    "start_time": "2021-08-21T06:40:09.557Z"
   },
   {
    "duration": 411,
    "start_time": "2021-08-21T06:40:09.831Z"
   },
   {
    "duration": 57,
    "start_time": "2021-08-21T06:40:10.245Z"
   },
   {
    "duration": 11,
    "start_time": "2021-08-21T06:40:10.304Z"
   },
   {
    "duration": 51,
    "start_time": "2021-08-21T06:40:10.318Z"
   },
   {
    "duration": 257,
    "start_time": "2021-08-21T06:40:10.371Z"
   },
   {
    "duration": 414,
    "start_time": "2021-08-21T06:40:10.631Z"
   },
   {
    "duration": 11,
    "start_time": "2021-08-21T06:40:11.055Z"
   },
   {
    "duration": 28,
    "start_time": "2021-08-21T06:40:11.069Z"
   },
   {
    "duration": 272,
    "start_time": "2021-08-21T06:40:11.099Z"
   },
   {
    "duration": 1169,
    "start_time": "2021-08-21T06:40:11.374Z"
   },
   {
    "duration": 648,
    "start_time": "2021-08-21T06:40:12.545Z"
   },
   {
    "duration": 9,
    "start_time": "2021-08-21T06:40:13.195Z"
   },
   {
    "duration": 36,
    "start_time": "2021-08-21T06:40:13.207Z"
   },
   {
    "duration": 27,
    "start_time": "2021-08-21T06:40:13.246Z"
   },
   {
    "duration": 31,
    "start_time": "2021-08-21T06:40:13.275Z"
   },
   {
    "duration": 28,
    "start_time": "2021-08-21T06:40:13.308Z"
   },
   {
    "duration": 31,
    "start_time": "2021-08-21T06:40:13.338Z"
   },
   {
    "duration": 34,
    "start_time": "2021-08-21T06:40:13.371Z"
   },
   {
    "duration": 31,
    "start_time": "2021-08-21T06:40:13.414Z"
   },
   {
    "duration": 18,
    "start_time": "2021-08-21T06:40:13.449Z"
   },
   {
    "duration": 23,
    "start_time": "2021-08-21T06:40:13.469Z"
   },
   {
    "duration": 627,
    "start_time": "2021-08-21T06:40:13.494Z"
   },
   {
    "duration": 384,
    "start_time": "2021-08-21T06:40:14.124Z"
   },
   {
    "duration": 58,
    "start_time": "2021-08-21T06:40:14.512Z"
   },
   {
    "duration": 376,
    "start_time": "2021-08-21T06:40:14.573Z"
   },
   {
    "duration": 553,
    "start_time": "2021-08-21T06:40:14.954Z"
   },
   {
    "duration": 845,
    "start_time": "2021-08-21T06:40:15.510Z"
   },
   {
    "duration": 400,
    "start_time": "2021-08-21T06:40:16.357Z"
   },
   {
    "duration": 612,
    "start_time": "2021-08-21T06:40:16.759Z"
   },
   {
    "duration": 525,
    "start_time": "2021-08-21T06:40:17.373Z"
   },
   {
    "duration": 14,
    "start_time": "2021-08-21T06:40:17.900Z"
   },
   {
    "duration": 39,
    "start_time": "2021-08-21T06:40:17.916Z"
   },
   {
    "duration": 417,
    "start_time": "2021-08-21T06:40:17.958Z"
   },
   {
    "duration": 11,
    "start_time": "2021-08-21T06:40:18.377Z"
   },
   {
    "duration": 21,
    "start_time": "2021-08-21T06:40:18.390Z"
   },
   {
    "duration": 59,
    "start_time": "2021-08-21T06:40:18.413Z"
   },
   {
    "duration": 9,
    "start_time": "2021-08-21T06:40:18.474Z"
   },
   {
    "duration": 38,
    "start_time": "2021-08-21T06:40:18.486Z"
   },
   {
    "duration": 433,
    "start_time": "2021-08-21T06:40:18.526Z"
   },
   {
    "duration": 17,
    "start_time": "2021-08-21T06:40:18.962Z"
   },
   {
    "duration": 400,
    "start_time": "2021-08-21T06:40:18.982Z"
   },
   {
    "duration": 410,
    "start_time": "2021-08-21T06:40:19.384Z"
   },
   {
    "duration": 375,
    "start_time": "2021-08-21T06:40:19.797Z"
   },
   {
    "duration": 399,
    "start_time": "2021-08-21T06:40:20.175Z"
   },
   {
    "duration": 493,
    "start_time": "2021-08-21T06:40:20.576Z"
   },
   {
    "duration": 38,
    "start_time": "2021-08-21T06:40:21.072Z"
   },
   {
    "duration": 431,
    "start_time": "2021-08-21T06:40:21.113Z"
   },
   {
    "duration": 43,
    "start_time": "2021-08-21T06:40:21.547Z"
   },
   {
    "duration": 410,
    "start_time": "2021-08-21T06:40:21.593Z"
   },
   {
    "duration": 39,
    "start_time": "2021-08-21T06:40:31.546Z"
   },
   {
    "duration": 38,
    "start_time": "2021-08-21T06:40:44.283Z"
   },
   {
    "duration": 428,
    "start_time": "2021-08-21T06:41:20.311Z"
   },
   {
    "duration": 36,
    "start_time": "2021-08-21T06:41:51.714Z"
   },
   {
    "duration": 571,
    "start_time": "2021-08-21T06:42:04.265Z"
   },
   {
    "duration": 38,
    "start_time": "2021-08-21T06:44:55.735Z"
   },
   {
    "duration": 518,
    "start_time": "2021-08-21T06:44:56.556Z"
   },
   {
    "duration": 42,
    "start_time": "2021-08-21T06:45:28.820Z"
   },
   {
    "duration": 424,
    "start_time": "2021-08-21T06:45:29.595Z"
   },
   {
    "duration": 38,
    "start_time": "2021-08-21T06:45:34.670Z"
   },
   {
    "duration": 503,
    "start_time": "2021-08-21T06:45:35.427Z"
   },
   {
    "duration": 37,
    "start_time": "2021-08-21T06:45:38.379Z"
   },
   {
    "duration": 424,
    "start_time": "2021-08-21T06:45:40.046Z"
   },
   {
    "duration": 36,
    "start_time": "2021-08-21T06:46:12.439Z"
   },
   {
    "duration": 418,
    "start_time": "2021-08-21T06:46:13.280Z"
   },
   {
    "duration": 37,
    "start_time": "2021-08-21T06:46:17.067Z"
   },
   {
    "duration": 474,
    "start_time": "2021-08-21T06:46:19.280Z"
   },
   {
    "duration": 39,
    "start_time": "2021-08-21T06:46:23.313Z"
   },
   {
    "duration": 440,
    "start_time": "2021-08-21T06:46:24.133Z"
   },
   {
    "duration": 100,
    "start_time": "2021-08-21T06:57:45.229Z"
   },
   {
    "duration": 648,
    "start_time": "2021-08-21T06:58:31.862Z"
   },
   {
    "duration": 529,
    "start_time": "2021-08-21T06:59:03.076Z"
   },
   {
    "duration": 519,
    "start_time": "2021-08-21T06:59:33.606Z"
   },
   {
    "duration": 628,
    "start_time": "2021-08-21T06:59:58.603Z"
   },
   {
    "duration": 527,
    "start_time": "2021-08-21T07:00:08.016Z"
   },
   {
    "duration": 565,
    "start_time": "2021-08-21T07:00:22.220Z"
   },
   {
    "duration": 23,
    "start_time": "2021-08-21T07:02:03.874Z"
   },
   {
    "duration": 266,
    "start_time": "2021-08-21T07:02:43.189Z"
   },
   {
    "duration": 17,
    "start_time": "2021-08-21T07:02:43.458Z"
   },
   {
    "duration": 45,
    "start_time": "2021-08-21T07:02:43.479Z"
   },
   {
    "duration": 32,
    "start_time": "2021-08-21T07:02:43.528Z"
   },
   {
    "duration": 14,
    "start_time": "2021-08-21T07:02:43.562Z"
   },
   {
    "duration": 20,
    "start_time": "2021-08-21T07:02:43.578Z"
   },
   {
    "duration": 35,
    "start_time": "2021-08-21T07:02:43.600Z"
   },
   {
    "duration": 24,
    "start_time": "2021-08-21T07:02:43.639Z"
   },
   {
    "duration": 27,
    "start_time": "2021-08-21T07:02:43.666Z"
   },
   {
    "duration": 75,
    "start_time": "2021-08-21T07:02:43.695Z"
   },
   {
    "duration": 9,
    "start_time": "2021-08-21T07:02:43.772Z"
   },
   {
    "duration": 19,
    "start_time": "2021-08-21T07:02:43.783Z"
   },
   {
    "duration": 29,
    "start_time": "2021-08-21T07:02:43.804Z"
   },
   {
    "duration": 6877,
    "start_time": "2021-08-21T07:02:43.836Z"
   },
   {
    "duration": 5,
    "start_time": "2021-08-21T07:02:50.716Z"
   },
   {
    "duration": 7104,
    "start_time": "2021-08-21T07:02:50.723Z"
   },
   {
    "duration": 7,
    "start_time": "2021-08-21T07:02:57.829Z"
   },
   {
    "duration": 12,
    "start_time": "2021-08-21T07:02:57.854Z"
   },
   {
    "duration": 18,
    "start_time": "2021-08-21T07:02:57.868Z"
   },
   {
    "duration": 19,
    "start_time": "2021-08-21T07:02:57.889Z"
   },
   {
    "duration": 50,
    "start_time": "2021-08-21T07:02:57.910Z"
   },
   {
    "duration": 129,
    "start_time": "2021-08-21T07:02:57.962Z"
   },
   {
    "duration": 43,
    "start_time": "2021-08-21T07:02:58.095Z"
   },
   {
    "duration": 115,
    "start_time": "2021-08-21T07:02:58.154Z"
   },
   {
    "duration": 12,
    "start_time": "2021-08-21T07:02:58.271Z"
   },
   {
    "duration": 13,
    "start_time": "2021-08-21T07:02:58.285Z"
   },
   {
    "duration": 19,
    "start_time": "2021-08-21T07:02:58.301Z"
   },
   {
    "duration": 34,
    "start_time": "2021-08-21T07:02:58.323Z"
   },
   {
    "duration": 58,
    "start_time": "2021-08-21T07:03:02.226Z"
   },
   {
    "duration": 8,
    "start_time": "2021-08-21T07:03:31.108Z"
   },
   {
    "duration": 10,
    "start_time": "2021-08-21T07:03:34.769Z"
   },
   {
    "duration": 59,
    "start_time": "2021-08-21T07:04:04.776Z"
   },
   {
    "duration": 1186,
    "start_time": "2021-08-21T07:09:16.138Z"
   },
   {
    "duration": 16,
    "start_time": "2021-08-21T07:09:17.327Z"
   },
   {
    "duration": 47,
    "start_time": "2021-08-21T07:09:17.355Z"
   },
   {
    "duration": 12,
    "start_time": "2021-08-21T07:09:17.404Z"
   },
   {
    "duration": 35,
    "start_time": "2021-08-21T07:09:17.419Z"
   },
   {
    "duration": 26,
    "start_time": "2021-08-21T07:09:17.457Z"
   },
   {
    "duration": 24,
    "start_time": "2021-08-21T07:09:17.485Z"
   },
   {
    "duration": 31,
    "start_time": "2021-08-21T07:09:17.513Z"
   },
   {
    "duration": 19,
    "start_time": "2021-08-21T07:09:17.547Z"
   },
   {
    "duration": 74,
    "start_time": "2021-08-21T07:09:17.569Z"
   },
   {
    "duration": 12,
    "start_time": "2021-08-21T07:09:17.646Z"
   },
   {
    "duration": 9,
    "start_time": "2021-08-21T07:09:17.661Z"
   },
   {
    "duration": 24,
    "start_time": "2021-08-21T07:09:17.672Z"
   },
   {
    "duration": 6598,
    "start_time": "2021-08-21T07:09:17.699Z"
   },
   {
    "duration": 5,
    "start_time": "2021-08-21T07:09:24.299Z"
   },
   {
    "duration": 7810,
    "start_time": "2021-08-21T07:09:24.306Z"
   },
   {
    "duration": 8,
    "start_time": "2021-08-21T07:09:32.119Z"
   },
   {
    "duration": 37,
    "start_time": "2021-08-21T07:09:32.130Z"
   },
   {
    "duration": 10,
    "start_time": "2021-08-21T07:09:32.170Z"
   },
   {
    "duration": 19,
    "start_time": "2021-08-21T07:09:32.182Z"
   },
   {
    "duration": 55,
    "start_time": "2021-08-21T07:09:32.204Z"
   },
   {
    "duration": 131,
    "start_time": "2021-08-21T07:09:32.262Z"
   },
   {
    "duration": 59,
    "start_time": "2021-08-21T07:09:32.401Z"
   },
   {
    "duration": 114,
    "start_time": "2021-08-21T07:09:32.464Z"
   },
   {
    "duration": 15,
    "start_time": "2021-08-21T07:09:32.581Z"
   },
   {
    "duration": 26,
    "start_time": "2021-08-21T07:09:32.599Z"
   },
   {
    "duration": 34,
    "start_time": "2021-08-21T07:09:32.627Z"
   },
   {
    "duration": 15,
    "start_time": "2021-08-21T07:09:32.664Z"
   },
   {
    "duration": 86,
    "start_time": "2021-08-21T07:09:32.681Z"
   },
   {
    "duration": 14,
    "start_time": "2021-08-21T07:09:32.769Z"
   },
   {
    "duration": 13,
    "start_time": "2021-08-21T07:09:32.787Z"
   },
   {
    "duration": 15,
    "start_time": "2021-08-21T07:09:32.803Z"
   },
   {
    "duration": 51,
    "start_time": "2021-08-21T07:09:32.821Z"
   },
   {
    "duration": 19,
    "start_time": "2021-08-21T07:09:32.875Z"
   },
   {
    "duration": 11,
    "start_time": "2021-08-21T07:09:32.897Z"
   },
   {
    "duration": 49,
    "start_time": "2021-08-21T07:09:32.910Z"
   },
   {
    "duration": 11,
    "start_time": "2021-08-21T07:09:32.962Z"
   },
   {
    "duration": 11,
    "start_time": "2021-08-21T07:09:32.976Z"
   },
   {
    "duration": 11,
    "start_time": "2021-08-21T07:09:32.989Z"
   },
   {
    "duration": 8,
    "start_time": "2021-08-21T07:09:33.002Z"
   },
   {
    "duration": 46,
    "start_time": "2021-08-21T07:09:33.012Z"
   },
   {
    "duration": 22,
    "start_time": "2021-08-21T07:09:33.061Z"
   },
   {
    "duration": 36,
    "start_time": "2021-08-21T07:09:33.086Z"
   },
   {
    "duration": 80,
    "start_time": "2021-08-21T07:09:33.125Z"
   },
   {
    "duration": 46,
    "start_time": "2021-08-21T07:09:33.209Z"
   },
   {
    "duration": 59,
    "start_time": "2021-08-21T07:09:33.258Z"
   },
   {
    "duration": 71,
    "start_time": "2021-08-21T07:09:33.321Z"
   },
   {
    "duration": 1555,
    "start_time": "2021-08-21T07:09:33.395Z"
   },
   {
    "duration": 148,
    "start_time": "2021-08-21T07:09:34.955Z"
   },
   {
    "duration": 74,
    "start_time": "2021-08-21T07:09:35.107Z"
   },
   {
    "duration": 40,
    "start_time": "2021-08-21T07:09:35.185Z"
   },
   {
    "duration": 37,
    "start_time": "2021-08-21T07:09:35.228Z"
   },
   {
    "duration": 249,
    "start_time": "2021-08-21T07:09:35.268Z"
   },
   {
    "duration": 640,
    "start_time": "2021-08-21T07:09:35.520Z"
   },
   {
    "duration": 9,
    "start_time": "2021-08-21T07:09:36.162Z"
   },
   {
    "duration": 14,
    "start_time": "2021-08-21T07:09:36.174Z"
   },
   {
    "duration": 84,
    "start_time": "2021-08-21T07:09:36.190Z"
   },
   {
    "duration": 39,
    "start_time": "2021-08-21T07:09:36.276Z"
   },
   {
    "duration": 236,
    "start_time": "2021-08-21T07:09:36.318Z"
   },
   {
    "duration": 5673,
    "start_time": "2021-08-21T07:09:36.556Z"
   },
   {
    "duration": 8,
    "start_time": "2021-08-21T07:09:42.232Z"
   },
   {
    "duration": 10,
    "start_time": "2021-08-21T07:09:42.255Z"
   },
   {
    "duration": 248,
    "start_time": "2021-08-21T07:09:42.267Z"
   },
   {
    "duration": 372,
    "start_time": "2021-08-21T07:09:42.517Z"
   },
   {
    "duration": 69,
    "start_time": "2021-08-21T07:09:42.891Z"
   },
   {
    "duration": 14,
    "start_time": "2021-08-21T07:09:42.963Z"
   },
   {
    "duration": 20,
    "start_time": "2021-08-21T07:09:42.980Z"
   },
   {
    "duration": 382,
    "start_time": "2021-08-21T07:09:43.011Z"
   },
   {
    "duration": 505,
    "start_time": "2021-08-21T07:09:43.397Z"
   },
   {
    "duration": 15,
    "start_time": "2021-08-21T07:09:43.905Z"
   },
   {
    "duration": 52,
    "start_time": "2021-08-21T07:09:43.924Z"
   },
   {
    "duration": 382,
    "start_time": "2021-08-21T07:09:43.979Z"
   },
   {
    "duration": 1860,
    "start_time": "2021-08-21T07:09:44.365Z"
   },
   {
    "duration": 1001,
    "start_time": "2021-08-21T07:09:46.229Z"
   },
   {
    "duration": 24,
    "start_time": "2021-08-21T07:09:47.233Z"
   },
   {
    "duration": 14,
    "start_time": "2021-08-21T07:09:47.259Z"
   },
   {
    "duration": 20,
    "start_time": "2021-08-21T07:09:47.276Z"
   },
   {
    "duration": 10,
    "start_time": "2021-08-21T07:09:47.299Z"
   },
   {
    "duration": 44,
    "start_time": "2021-08-21T07:09:47.312Z"
   },
   {
    "duration": 24,
    "start_time": "2021-08-21T07:09:47.360Z"
   },
   {
    "duration": 23,
    "start_time": "2021-08-21T07:09:47.387Z"
   },
   {
    "duration": 59,
    "start_time": "2021-08-21T07:09:47.414Z"
   },
   {
    "duration": 21,
    "start_time": "2021-08-21T07:09:47.476Z"
   },
   {
    "duration": 6,
    "start_time": "2021-08-21T07:09:47.501Z"
   },
   {
    "duration": 873,
    "start_time": "2021-08-21T07:09:47.510Z"
   },
   {
    "duration": 522,
    "start_time": "2021-08-21T07:09:48.386Z"
   },
   {
    "duration": 64,
    "start_time": "2021-08-21T07:09:48.911Z"
   },
   {
    "duration": 509,
    "start_time": "2021-08-21T07:09:48.979Z"
   },
   {
    "duration": 574,
    "start_time": "2021-08-21T07:09:49.491Z"
   },
   {
    "duration": 726,
    "start_time": "2021-08-21T07:09:50.068Z"
   },
   {
    "duration": 544,
    "start_time": "2021-08-21T07:09:50.796Z"
   },
   {
    "duration": 533,
    "start_time": "2021-08-21T07:09:51.343Z"
   },
   {
    "duration": 490,
    "start_time": "2021-08-21T07:09:51.879Z"
   },
   {
    "duration": 14,
    "start_time": "2021-08-21T07:09:52.371Z"
   },
   {
    "duration": 14,
    "start_time": "2021-08-21T07:09:52.388Z"
   },
   {
    "duration": 453,
    "start_time": "2021-08-21T07:09:52.404Z"
   },
   {
    "duration": 12,
    "start_time": "2021-08-21T07:09:52.859Z"
   },
   {
    "duration": 9,
    "start_time": "2021-08-21T07:09:52.873Z"
   },
   {
    "duration": 42,
    "start_time": "2021-08-21T07:09:52.885Z"
   },
   {
    "duration": 26,
    "start_time": "2021-08-21T07:09:52.930Z"
   },
   {
    "duration": 33,
    "start_time": "2021-08-21T07:09:52.959Z"
   },
   {
    "duration": 626,
    "start_time": "2021-08-21T07:09:52.995Z"
   },
   {
    "duration": 32,
    "start_time": "2021-08-21T07:09:53.625Z"
   },
   {
    "duration": 374,
    "start_time": "2021-08-21T07:09:53.659Z"
   },
   {
    "duration": 401,
    "start_time": "2021-08-21T07:09:54.036Z"
   },
   {
    "duration": 378,
    "start_time": "2021-08-21T07:09:54.440Z"
   },
   {
    "duration": 381,
    "start_time": "2021-08-21T07:09:54.820Z"
   },
   {
    "duration": 386,
    "start_time": "2021-08-21T07:09:55.203Z"
   },
   {
    "duration": 40,
    "start_time": "2021-08-21T07:09:55.591Z"
   },
   {
    "duration": 520,
    "start_time": "2021-08-21T07:09:55.634Z"
   },
   {
    "duration": 43,
    "start_time": "2021-08-21T07:09:56.156Z"
   },
   {
    "duration": 420,
    "start_time": "2021-08-21T07:09:56.202Z"
   },
   {
    "duration": 53,
    "start_time": "2021-08-21T07:09:56.625Z"
   },
   {
    "duration": 467,
    "start_time": "2021-08-21T07:09:56.681Z"
   },
   {
    "duration": 38,
    "start_time": "2021-08-21T07:09:57.150Z"
   },
   {
    "duration": 764,
    "start_time": "2021-08-21T07:09:57.191Z"
   },
   {
    "duration": 41,
    "start_time": "2021-08-21T07:09:57.957Z"
   },
   {
    "duration": 447,
    "start_time": "2021-08-21T07:09:58.000Z"
   },
   {
    "duration": 95,
    "start_time": "2021-08-21T12:40:05.188Z"
   }
  ],
  "kernelspec": {
   "display_name": "Python 3",
   "language": "python",
   "name": "python3"
  },
  "language_info": {
   "codemirror_mode": {
    "name": "ipython",
    "version": 3
   },
   "file_extension": ".py",
   "mimetype": "text/x-python",
   "name": "python",
   "nbconvert_exporter": "python",
   "pygments_lexer": "ipython3",
   "version": "3.8.8"
  },
  "toc": {
   "base_numbering": 1,
   "nav_menu": {},
   "number_sections": true,
   "sideBar": true,
   "skip_h1_title": true,
   "title_cell": "Содержание",
   "title_sidebar": "Contents",
   "toc_cell": true,
   "toc_position": {
    "height": "calc(100% - 180px)",
    "left": "10px",
    "top": "150px",
    "width": "165px"
   },
   "toc_section_display": true,
   "toc_window_display": true
  }
 },
 "nbformat": 4,
 "nbformat_minor": 2
}
