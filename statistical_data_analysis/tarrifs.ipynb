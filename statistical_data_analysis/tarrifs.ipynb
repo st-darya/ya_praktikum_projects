{
 "cells": [
  {
   "cell_type": "markdown",
   "id": "f9241c6d",
   "metadata": {
    "toc": true
   },
   "source": [
    "<h1>Содержание<span class=\"tocSkip\"></span></h1>\n",
    "<div class=\"toc\"><ul class=\"toc-item\"><li><span><a href=\"#Изучение-данных-из-файла\" data-toc-modified-id=\"Изучение-данных-из-файла-1\"><span class=\"toc-item-num\">1&nbsp;&nbsp;</span>Изучение данных из файла</a></span></li><li><span><a href=\"#Подготовка-данных\" data-toc-modified-id=\"Подготовка-данных-2\"><span class=\"toc-item-num\">2&nbsp;&nbsp;</span>Подготовка данных</a></span><ul class=\"toc-item\"><li><span><a href=\"#Замена-типов-данных\" data-toc-modified-id=\"Замена-типов-данных-2.1\"><span class=\"toc-item-num\">2.1&nbsp;&nbsp;</span>Замена типов данных</a></span></li><li><span><a href=\"#Подготовка-пользовательских-данных\" data-toc-modified-id=\"Подготовка-пользовательских-данных-2.2\"><span class=\"toc-item-num\">2.2&nbsp;&nbsp;</span>Подготовка пользовательских данных</a></span></li></ul></li><li><span><a href=\"#Анализ-и-описание-данных\" data-toc-modified-id=\"Анализ-и-описание-данных-3\"><span class=\"toc-item-num\">3&nbsp;&nbsp;</span>Анализ и описание данных</a></span></li><li><span><a href=\"#Проверка-гипотез\" data-toc-modified-id=\"Проверка-гипотез-4\"><span class=\"toc-item-num\">4&nbsp;&nbsp;</span>Проверка гипотез</a></span></li><li><span><a href=\"#Общий-вывод\" data-toc-modified-id=\"Общий-вывод-5\"><span class=\"toc-item-num\">5&nbsp;&nbsp;</span>Общий вывод</a></span></li></ul></div>"
   ]
  },
  {
   "cell_type": "markdown",
   "id": "e1e3c1cf",
   "metadata": {},
   "source": [
    "# Определение перспективного тарифа для телеком компании"
   ]
  },
  {
   "cell_type": "markdown",
   "id": "f3df7cd6",
   "metadata": {},
   "source": [
    "Клиентам предлагают два тарифных плана: «Смарт» и «Ультра». Чтобы скорректировать рекламный бюджет, коммерческий департамент хочет понять, какой тариф приносит больше денег.\n",
    "\n",
    "Необходимо сделать предварительный анализ тарифов на небольшой выборке клиентов. В распоряжении данные 500 пользователей «Мегалайна»: кто они, откуда, каким тарифом пользуются, сколько звонков и сообщений каждый отправил за 2018 год. Нужно проанализировать поведение клиентов и сделать вывод — какой тариф лучше."
   ]
  },
  {
   "cell_type": "markdown",
   "id": "2cd48672",
   "metadata": {},
   "source": [
    "## Изучение данных из файла "
   ]
  },
  {
   "cell_type": "code",
   "execution_count": 1,
   "id": "b49ec30d",
   "metadata": {},
   "outputs": [],
   "source": [
    "import pandas as pd \n",
    "from scipy import stats as st\n",
    "import numpy as np\n",
    "import matplotlib.pyplot as plt\n",
    "import math\n",
    "\n",
    "server_path_calls = '/datasets/calls.csv'\n",
    "server_path_internet = '/datasets/internet.csv'\n",
    "server_path_messages = '/datasets/messages.csv'\n",
    "server_path_tariffs = '/datasets/tariffs.csv'\n",
    "server_path_users = '/datasets/users.csv'\n",
    "\n",
    "filename_calls = 'calls.csv'\n",
    "filename_internet = 'internet.csv'\n",
    "filename_messages = 'messages.csv'\n",
    "filename_tariffs = 'tariffs.csv'\n",
    "filename_users = 'users.csv'\n",
    "\n",
    "try: \n",
    "    calls = pd.read_csv(filename_calls, sep=',')\n",
    "    internet = pd.read_csv(filename_internet, sep=',')\n",
    "    messages = pd.read_csv(filename_messages, sep=',')\n",
    "    tariffs = pd.read_csv(filename_tariffs, sep=',')\n",
    "    users = pd.read_csv(filename_users, sep=',')\n",
    "except: \n",
    "    calls = pd.read_csv(server_path_calls, sep=',')\n",
    "    internet = pd.read_csv(server_path_internet, sep=',')\n",
    "    messages = pd.read_csv(server_path_messages, sep=',')\n",
    "    tariffs = pd.read_csv(server_path_tariffs, sep=',')\n",
    "    users = pd.read_csv(server_path_users, sep=',')"
   ]
  },
  {
   "cell_type": "code",
   "execution_count": 2,
   "id": "df421fd9",
   "metadata": {},
   "outputs": [
    {
     "name": "stdout",
     "output_type": "stream",
     "text": [
      "<class 'pandas.core.frame.DataFrame'>\n",
      "RangeIndex: 202607 entries, 0 to 202606\n",
      "Data columns (total 4 columns):\n",
      " #   Column     Non-Null Count   Dtype  \n",
      "---  ------     --------------   -----  \n",
      " 0   id         202607 non-null  object \n",
      " 1   call_date  202607 non-null  object \n",
      " 2   duration   202607 non-null  float64\n",
      " 3   user_id    202607 non-null  int64  \n",
      "dtypes: float64(1), int64(1), object(2)\n",
      "memory usage: 6.2+ MB\n"
     ]
    }
   ],
   "source": [
    "calls.info()"
   ]
  },
  {
   "cell_type": "code",
   "execution_count": 3,
   "id": "dd3b1f0d",
   "metadata": {},
   "outputs": [
    {
     "data": {
      "text/html": [
       "<div>\n",
       "<style scoped>\n",
       "    .dataframe tbody tr th:only-of-type {\n",
       "        vertical-align: middle;\n",
       "    }\n",
       "\n",
       "    .dataframe tbody tr th {\n",
       "        vertical-align: top;\n",
       "    }\n",
       "\n",
       "    .dataframe thead th {\n",
       "        text-align: right;\n",
       "    }\n",
       "</style>\n",
       "<table border=\"1\" class=\"dataframe\">\n",
       "  <thead>\n",
       "    <tr style=\"text-align: right;\">\n",
       "      <th></th>\n",
       "      <th>id</th>\n",
       "      <th>call_date</th>\n",
       "      <th>duration</th>\n",
       "      <th>user_id</th>\n",
       "    </tr>\n",
       "  </thead>\n",
       "  <tbody>\n",
       "    <tr>\n",
       "      <th>0</th>\n",
       "      <td>1000_0</td>\n",
       "      <td>2018-07-25</td>\n",
       "      <td>0.00</td>\n",
       "      <td>1000</td>\n",
       "    </tr>\n",
       "    <tr>\n",
       "      <th>1</th>\n",
       "      <td>1000_1</td>\n",
       "      <td>2018-08-17</td>\n",
       "      <td>0.00</td>\n",
       "      <td>1000</td>\n",
       "    </tr>\n",
       "    <tr>\n",
       "      <th>2</th>\n",
       "      <td>1000_2</td>\n",
       "      <td>2018-06-11</td>\n",
       "      <td>2.85</td>\n",
       "      <td>1000</td>\n",
       "    </tr>\n",
       "    <tr>\n",
       "      <th>3</th>\n",
       "      <td>1000_3</td>\n",
       "      <td>2018-09-21</td>\n",
       "      <td>13.80</td>\n",
       "      <td>1000</td>\n",
       "    </tr>\n",
       "    <tr>\n",
       "      <th>4</th>\n",
       "      <td>1000_4</td>\n",
       "      <td>2018-12-15</td>\n",
       "      <td>5.18</td>\n",
       "      <td>1000</td>\n",
       "    </tr>\n",
       "  </tbody>\n",
       "</table>\n",
       "</div>"
      ],
      "text/plain": [
       "       id   call_date  duration  user_id\n",
       "0  1000_0  2018-07-25      0.00     1000\n",
       "1  1000_1  2018-08-17      0.00     1000\n",
       "2  1000_2  2018-06-11      2.85     1000\n",
       "3  1000_3  2018-09-21     13.80     1000\n",
       "4  1000_4  2018-12-15      5.18     1000"
      ]
     },
     "execution_count": 3,
     "metadata": {},
     "output_type": "execute_result"
    }
   ],
   "source": [
    "calls.head()"
   ]
  },
  {
   "cell_type": "code",
   "execution_count": 4,
   "id": "3270955b",
   "metadata": {},
   "outputs": [
    {
     "name": "stdout",
     "output_type": "stream",
     "text": [
      "<class 'pandas.core.frame.DataFrame'>\n",
      "RangeIndex: 149396 entries, 0 to 149395\n",
      "Data columns (total 5 columns):\n",
      " #   Column        Non-Null Count   Dtype  \n",
      "---  ------        --------------   -----  \n",
      " 0   Unnamed: 0    149396 non-null  int64  \n",
      " 1   id            149396 non-null  object \n",
      " 2   mb_used       149396 non-null  float64\n",
      " 3   session_date  149396 non-null  object \n",
      " 4   user_id       149396 non-null  int64  \n",
      "dtypes: float64(1), int64(2), object(2)\n",
      "memory usage: 5.7+ MB\n"
     ]
    }
   ],
   "source": [
    "internet.info()"
   ]
  },
  {
   "cell_type": "code",
   "execution_count": 5,
   "id": "89f38193",
   "metadata": {
    "scrolled": true
   },
   "outputs": [
    {
     "data": {
      "text/html": [
       "<div>\n",
       "<style scoped>\n",
       "    .dataframe tbody tr th:only-of-type {\n",
       "        vertical-align: middle;\n",
       "    }\n",
       "\n",
       "    .dataframe tbody tr th {\n",
       "        vertical-align: top;\n",
       "    }\n",
       "\n",
       "    .dataframe thead th {\n",
       "        text-align: right;\n",
       "    }\n",
       "</style>\n",
       "<table border=\"1\" class=\"dataframe\">\n",
       "  <thead>\n",
       "    <tr style=\"text-align: right;\">\n",
       "      <th></th>\n",
       "      <th>Unnamed: 0</th>\n",
       "      <th>id</th>\n",
       "      <th>mb_used</th>\n",
       "      <th>session_date</th>\n",
       "      <th>user_id</th>\n",
       "    </tr>\n",
       "  </thead>\n",
       "  <tbody>\n",
       "    <tr>\n",
       "      <th>0</th>\n",
       "      <td>0</td>\n",
       "      <td>1000_0</td>\n",
       "      <td>112.95</td>\n",
       "      <td>2018-11-25</td>\n",
       "      <td>1000</td>\n",
       "    </tr>\n",
       "    <tr>\n",
       "      <th>1</th>\n",
       "      <td>1</td>\n",
       "      <td>1000_1</td>\n",
       "      <td>1052.81</td>\n",
       "      <td>2018-09-07</td>\n",
       "      <td>1000</td>\n",
       "    </tr>\n",
       "    <tr>\n",
       "      <th>2</th>\n",
       "      <td>2</td>\n",
       "      <td>1000_2</td>\n",
       "      <td>1197.26</td>\n",
       "      <td>2018-06-25</td>\n",
       "      <td>1000</td>\n",
       "    </tr>\n",
       "    <tr>\n",
       "      <th>3</th>\n",
       "      <td>3</td>\n",
       "      <td>1000_3</td>\n",
       "      <td>550.27</td>\n",
       "      <td>2018-08-22</td>\n",
       "      <td>1000</td>\n",
       "    </tr>\n",
       "    <tr>\n",
       "      <th>4</th>\n",
       "      <td>4</td>\n",
       "      <td>1000_4</td>\n",
       "      <td>302.56</td>\n",
       "      <td>2018-09-24</td>\n",
       "      <td>1000</td>\n",
       "    </tr>\n",
       "  </tbody>\n",
       "</table>\n",
       "</div>"
      ],
      "text/plain": [
       "   Unnamed: 0      id  mb_used session_date  user_id\n",
       "0           0  1000_0   112.95   2018-11-25     1000\n",
       "1           1  1000_1  1052.81   2018-09-07     1000\n",
       "2           2  1000_2  1197.26   2018-06-25     1000\n",
       "3           3  1000_3   550.27   2018-08-22     1000\n",
       "4           4  1000_4   302.56   2018-09-24     1000"
      ]
     },
     "execution_count": 5,
     "metadata": {},
     "output_type": "execute_result"
    }
   ],
   "source": [
    "internet.head()"
   ]
  },
  {
   "cell_type": "code",
   "execution_count": 6,
   "id": "4159f5c4",
   "metadata": {},
   "outputs": [
    {
     "name": "stdout",
     "output_type": "stream",
     "text": [
      "<class 'pandas.core.frame.DataFrame'>\n",
      "RangeIndex: 123036 entries, 0 to 123035\n",
      "Data columns (total 3 columns):\n",
      " #   Column        Non-Null Count   Dtype \n",
      "---  ------        --------------   ----- \n",
      " 0   id            123036 non-null  object\n",
      " 1   message_date  123036 non-null  object\n",
      " 2   user_id       123036 non-null  int64 \n",
      "dtypes: int64(1), object(2)\n",
      "memory usage: 2.8+ MB\n"
     ]
    }
   ],
   "source": [
    "messages.info()"
   ]
  },
  {
   "cell_type": "code",
   "execution_count": 7,
   "id": "e7f81fec",
   "metadata": {},
   "outputs": [
    {
     "data": {
      "text/html": [
       "<div>\n",
       "<style scoped>\n",
       "    .dataframe tbody tr th:only-of-type {\n",
       "        vertical-align: middle;\n",
       "    }\n",
       "\n",
       "    .dataframe tbody tr th {\n",
       "        vertical-align: top;\n",
       "    }\n",
       "\n",
       "    .dataframe thead th {\n",
       "        text-align: right;\n",
       "    }\n",
       "</style>\n",
       "<table border=\"1\" class=\"dataframe\">\n",
       "  <thead>\n",
       "    <tr style=\"text-align: right;\">\n",
       "      <th></th>\n",
       "      <th>id</th>\n",
       "      <th>message_date</th>\n",
       "      <th>user_id</th>\n",
       "    </tr>\n",
       "  </thead>\n",
       "  <tbody>\n",
       "    <tr>\n",
       "      <th>0</th>\n",
       "      <td>1000_0</td>\n",
       "      <td>2018-06-27</td>\n",
       "      <td>1000</td>\n",
       "    </tr>\n",
       "    <tr>\n",
       "      <th>1</th>\n",
       "      <td>1000_1</td>\n",
       "      <td>2018-10-08</td>\n",
       "      <td>1000</td>\n",
       "    </tr>\n",
       "    <tr>\n",
       "      <th>2</th>\n",
       "      <td>1000_2</td>\n",
       "      <td>2018-08-04</td>\n",
       "      <td>1000</td>\n",
       "    </tr>\n",
       "    <tr>\n",
       "      <th>3</th>\n",
       "      <td>1000_3</td>\n",
       "      <td>2018-06-16</td>\n",
       "      <td>1000</td>\n",
       "    </tr>\n",
       "    <tr>\n",
       "      <th>4</th>\n",
       "      <td>1000_4</td>\n",
       "      <td>2018-12-05</td>\n",
       "      <td>1000</td>\n",
       "    </tr>\n",
       "  </tbody>\n",
       "</table>\n",
       "</div>"
      ],
      "text/plain": [
       "       id message_date  user_id\n",
       "0  1000_0   2018-06-27     1000\n",
       "1  1000_1   2018-10-08     1000\n",
       "2  1000_2   2018-08-04     1000\n",
       "3  1000_3   2018-06-16     1000\n",
       "4  1000_4   2018-12-05     1000"
      ]
     },
     "execution_count": 7,
     "metadata": {},
     "output_type": "execute_result"
    }
   ],
   "source": [
    "messages.head()"
   ]
  },
  {
   "cell_type": "code",
   "execution_count": 8,
   "id": "c55f7838",
   "metadata": {},
   "outputs": [
    {
     "name": "stdout",
     "output_type": "stream",
     "text": [
      "<class 'pandas.core.frame.DataFrame'>\n",
      "RangeIndex: 2 entries, 0 to 1\n",
      "Data columns (total 8 columns):\n",
      " #   Column                 Non-Null Count  Dtype \n",
      "---  ------                 --------------  ----- \n",
      " 0   messages_included      2 non-null      int64 \n",
      " 1   mb_per_month_included  2 non-null      int64 \n",
      " 2   minutes_included       2 non-null      int64 \n",
      " 3   rub_monthly_fee        2 non-null      int64 \n",
      " 4   rub_per_gb             2 non-null      int64 \n",
      " 5   rub_per_message        2 non-null      int64 \n",
      " 6   rub_per_minute         2 non-null      int64 \n",
      " 7   tariff_name            2 non-null      object\n",
      "dtypes: int64(7), object(1)\n",
      "memory usage: 256.0+ bytes\n"
     ]
    }
   ],
   "source": [
    "tariffs.info()"
   ]
  },
  {
   "cell_type": "code",
   "execution_count": 9,
   "id": "1c98ae49",
   "metadata": {},
   "outputs": [
    {
     "data": {
      "text/html": [
       "<div>\n",
       "<style scoped>\n",
       "    .dataframe tbody tr th:only-of-type {\n",
       "        vertical-align: middle;\n",
       "    }\n",
       "\n",
       "    .dataframe tbody tr th {\n",
       "        vertical-align: top;\n",
       "    }\n",
       "\n",
       "    .dataframe thead th {\n",
       "        text-align: right;\n",
       "    }\n",
       "</style>\n",
       "<table border=\"1\" class=\"dataframe\">\n",
       "  <thead>\n",
       "    <tr style=\"text-align: right;\">\n",
       "      <th></th>\n",
       "      <th>messages_included</th>\n",
       "      <th>mb_per_month_included</th>\n",
       "      <th>minutes_included</th>\n",
       "      <th>rub_monthly_fee</th>\n",
       "      <th>rub_per_gb</th>\n",
       "      <th>rub_per_message</th>\n",
       "      <th>rub_per_minute</th>\n",
       "      <th>tariff_name</th>\n",
       "    </tr>\n",
       "  </thead>\n",
       "  <tbody>\n",
       "    <tr>\n",
       "      <th>0</th>\n",
       "      <td>50</td>\n",
       "      <td>15360</td>\n",
       "      <td>500</td>\n",
       "      <td>550</td>\n",
       "      <td>200</td>\n",
       "      <td>3</td>\n",
       "      <td>3</td>\n",
       "      <td>smart</td>\n",
       "    </tr>\n",
       "    <tr>\n",
       "      <th>1</th>\n",
       "      <td>1000</td>\n",
       "      <td>30720</td>\n",
       "      <td>3000</td>\n",
       "      <td>1950</td>\n",
       "      <td>150</td>\n",
       "      <td>1</td>\n",
       "      <td>1</td>\n",
       "      <td>ultra</td>\n",
       "    </tr>\n",
       "  </tbody>\n",
       "</table>\n",
       "</div>"
      ],
      "text/plain": [
       "   messages_included  mb_per_month_included  minutes_included  \\\n",
       "0                 50                  15360               500   \n",
       "1               1000                  30720              3000   \n",
       "\n",
       "   rub_monthly_fee  rub_per_gb  rub_per_message  rub_per_minute tariff_name  \n",
       "0              550         200                3               3       smart  \n",
       "1             1950         150                1               1       ultra  "
      ]
     },
     "execution_count": 9,
     "metadata": {},
     "output_type": "execute_result"
    }
   ],
   "source": [
    "tariffs"
   ]
  },
  {
   "cell_type": "code",
   "execution_count": 10,
   "id": "a6e724e6",
   "metadata": {},
   "outputs": [
    {
     "name": "stdout",
     "output_type": "stream",
     "text": [
      "<class 'pandas.core.frame.DataFrame'>\n",
      "RangeIndex: 500 entries, 0 to 499\n",
      "Data columns (total 8 columns):\n",
      " #   Column      Non-Null Count  Dtype \n",
      "---  ------      --------------  ----- \n",
      " 0   user_id     500 non-null    int64 \n",
      " 1   age         500 non-null    int64 \n",
      " 2   churn_date  38 non-null     object\n",
      " 3   city        500 non-null    object\n",
      " 4   first_name  500 non-null    object\n",
      " 5   last_name   500 non-null    object\n",
      " 6   reg_date    500 non-null    object\n",
      " 7   tariff      500 non-null    object\n",
      "dtypes: int64(2), object(6)\n",
      "memory usage: 31.4+ KB\n"
     ]
    }
   ],
   "source": [
    "users.info()"
   ]
  },
  {
   "cell_type": "code",
   "execution_count": 11,
   "id": "b97da7b0",
   "metadata": {},
   "outputs": [
    {
     "data": {
      "text/html": [
       "<div>\n",
       "<style scoped>\n",
       "    .dataframe tbody tr th:only-of-type {\n",
       "        vertical-align: middle;\n",
       "    }\n",
       "\n",
       "    .dataframe tbody tr th {\n",
       "        vertical-align: top;\n",
       "    }\n",
       "\n",
       "    .dataframe thead th {\n",
       "        text-align: right;\n",
       "    }\n",
       "</style>\n",
       "<table border=\"1\" class=\"dataframe\">\n",
       "  <thead>\n",
       "    <tr style=\"text-align: right;\">\n",
       "      <th></th>\n",
       "      <th>user_id</th>\n",
       "      <th>age</th>\n",
       "      <th>churn_date</th>\n",
       "      <th>city</th>\n",
       "      <th>first_name</th>\n",
       "      <th>last_name</th>\n",
       "      <th>reg_date</th>\n",
       "      <th>tariff</th>\n",
       "    </tr>\n",
       "  </thead>\n",
       "  <tbody>\n",
       "    <tr>\n",
       "      <th>0</th>\n",
       "      <td>1000</td>\n",
       "      <td>52</td>\n",
       "      <td>NaN</td>\n",
       "      <td>Краснодар</td>\n",
       "      <td>Рафаил</td>\n",
       "      <td>Верещагин</td>\n",
       "      <td>2018-05-25</td>\n",
       "      <td>ultra</td>\n",
       "    </tr>\n",
       "    <tr>\n",
       "      <th>1</th>\n",
       "      <td>1001</td>\n",
       "      <td>41</td>\n",
       "      <td>NaN</td>\n",
       "      <td>Москва</td>\n",
       "      <td>Иван</td>\n",
       "      <td>Ежов</td>\n",
       "      <td>2018-11-01</td>\n",
       "      <td>smart</td>\n",
       "    </tr>\n",
       "    <tr>\n",
       "      <th>2</th>\n",
       "      <td>1002</td>\n",
       "      <td>59</td>\n",
       "      <td>NaN</td>\n",
       "      <td>Стерлитамак</td>\n",
       "      <td>Евгений</td>\n",
       "      <td>Абрамович</td>\n",
       "      <td>2018-06-17</td>\n",
       "      <td>smart</td>\n",
       "    </tr>\n",
       "    <tr>\n",
       "      <th>3</th>\n",
       "      <td>1003</td>\n",
       "      <td>23</td>\n",
       "      <td>NaN</td>\n",
       "      <td>Москва</td>\n",
       "      <td>Белла</td>\n",
       "      <td>Белякова</td>\n",
       "      <td>2018-08-17</td>\n",
       "      <td>ultra</td>\n",
       "    </tr>\n",
       "    <tr>\n",
       "      <th>4</th>\n",
       "      <td>1004</td>\n",
       "      <td>68</td>\n",
       "      <td>NaN</td>\n",
       "      <td>Новокузнецк</td>\n",
       "      <td>Татьяна</td>\n",
       "      <td>Авдеенко</td>\n",
       "      <td>2018-05-14</td>\n",
       "      <td>ultra</td>\n",
       "    </tr>\n",
       "  </tbody>\n",
       "</table>\n",
       "</div>"
      ],
      "text/plain": [
       "   user_id  age churn_date         city first_name  last_name    reg_date  \\\n",
       "0     1000   52        NaN    Краснодар     Рафаил  Верещагин  2018-05-25   \n",
       "1     1001   41        NaN       Москва       Иван       Ежов  2018-11-01   \n",
       "2     1002   59        NaN  Стерлитамак    Евгений  Абрамович  2018-06-17   \n",
       "3     1003   23        NaN       Москва      Белла   Белякова  2018-08-17   \n",
       "4     1004   68        NaN  Новокузнецк    Татьяна   Авдеенко  2018-05-14   \n",
       "\n",
       "  tariff  \n",
       "0  ultra  \n",
       "1  smart  \n",
       "2  smart  \n",
       "3  ultra  \n",
       "4  ultra  "
      ]
     },
     "execution_count": 11,
     "metadata": {},
     "output_type": "execute_result"
    }
   ],
   "source": [
    "users.head()"
   ]
  },
  {
   "cell_type": "markdown",
   "id": "8836f428",
   "metadata": {},
   "source": [
    "## Подготовка данных "
   ]
  },
  {
   "cell_type": "markdown",
   "id": "611a0531",
   "metadata": {},
   "source": [
    "Отдельно по каждой таблице посчитаем для каждого пользователя количество сделанных звонков и израсходованных минут разговора по месяцам; количество отправленных сообщений по месяцам; объем израсходованного интернет-трафика по месяцам, а также помесячную выручку с каждого пользователя. "
   ]
  },
  {
   "cell_type": "markdown",
   "id": "c2d4e017",
   "metadata": {},
   "source": [
    "### Замена типов данных "
   ]
  },
  {
   "cell_type": "markdown",
   "id": "57fb12b8",
   "metadata": {},
   "source": [
    "Для начала в каждой из таблиц необходимо заменить тип данных в столбцах с информацией, содержащей дату, методом *to_datetime* и проверить, есть ли ошибки в данных. "
   ]
  },
  {
   "cell_type": "code",
   "execution_count": 12,
   "id": "5468b8b5",
   "metadata": {},
   "outputs": [],
   "source": [
    "calls['call_date'] = pd.to_datetime(calls['call_date'], format='%Y-%m-%dT%H:%M:%S')"
   ]
  },
  {
   "cell_type": "code",
   "execution_count": 13,
   "id": "474d37f8",
   "metadata": {},
   "outputs": [
    {
     "data": {
      "text/plain": [
       "count    202607.000000\n",
       "mean          6.755887\n",
       "std           5.843365\n",
       "min           0.000000\n",
       "25%           1.300000\n",
       "50%           6.000000\n",
       "75%          10.700000\n",
       "max          38.000000\n",
       "Name: duration, dtype: float64"
      ]
     },
     "execution_count": 13,
     "metadata": {},
     "output_type": "execute_result"
    }
   ],
   "source": [
    "calls['duration'].describe()"
   ]
  },
  {
   "cell_type": "code",
   "execution_count": 14,
   "id": "35bb5546",
   "metadata": {},
   "outputs": [
    {
     "data": {
      "text/plain": [
       "492"
      ]
     },
     "execution_count": 14,
     "metadata": {},
     "output_type": "execute_result"
    }
   ],
   "source": [
    "len(calls['user_id'].unique())"
   ]
  },
  {
   "cell_type": "code",
   "execution_count": 15,
   "id": "10692062",
   "metadata": {},
   "outputs": [
    {
     "data": {
      "text/plain": [
       "0"
      ]
     },
     "execution_count": 15,
     "metadata": {},
     "output_type": "execute_result"
    }
   ],
   "source": [
    "calls.duplicated().sum()"
   ]
  },
  {
   "cell_type": "markdown",
   "id": "eb341ed0",
   "metadata": {},
   "source": [
    "В таблице со звонками не наблюдается аномалий. Дубликатов и пропусков нет. \n",
    "\n",
    "Количество пользователей составляет 492 вместо 500. Это вероятно объясняется тем, что не все пользователи используют звонки в рамках тарифов (пользуются, например, мессенджерами) или это автоматическая ошибка заполнения. \n",
    "\n",
    "Максимальная длительность звонка в данных 38 минут, что больше среднего почти в 6 раз, но логически допустимо и важно для статистики. Ноль в строках о длительности звонка говорит о том, что звонок пропущен. \n",
    "\n",
    "В таблице дана фактическая длительность звонков пользователей. Мобильный оператор округляет секунды до минут, каждый звонок отдельно. Округлим длительность звонков до минут в данной таблице для дальнейших расчетов. "
   ]
  },
  {
   "cell_type": "code",
   "execution_count": 16,
   "id": "aaad78e7",
   "metadata": {},
   "outputs": [
    {
     "data": {
      "text/plain": [
       "1368790.0399999998"
      ]
     },
     "execution_count": 16,
     "metadata": {},
     "output_type": "execute_result"
    }
   ],
   "source": [
    "calls['duration'].sum()"
   ]
  },
  {
   "cell_type": "code",
   "execution_count": 17,
   "id": "01ee28db",
   "metadata": {},
   "outputs": [
    {
     "data": {
      "text/plain": [
       "1450301"
      ]
     },
     "execution_count": 17,
     "metadata": {},
     "output_type": "execute_result"
    }
   ],
   "source": [
    "calls['duration'] = calls['duration'].apply(np.ceil).astype('int')\n",
    "calls['duration'].sum()"
   ]
  },
  {
   "cell_type": "code",
   "execution_count": 18,
   "id": "93d7b942",
   "metadata": {},
   "outputs": [],
   "source": [
    "internet['session_date'] = pd.to_datetime(internet['session_date'], format='%Y-%m-%dT%H:%M:%S')"
   ]
  },
  {
   "cell_type": "markdown",
   "id": "cb3d6e57",
   "metadata": {},
   "source": [
    "В таблице присутствуют значения с нулевым трафиком. Поскольку данные приведены о каждой конкретной интернет-сессии, то нулевые значения можно объяснить, например, тем, что пользователь заходил в интернет с вай-фай, параллельно используя мобильные данные, что ошибочно отразилось в статистике. Правильным будет от них избавиться, потому что ноль здесь, вероятнее всего, указывает на ошибку. "
   ]
  },
  {
   "cell_type": "code",
   "execution_count": 19,
   "id": "4e54faf5",
   "metadata": {},
   "outputs": [
    {
     "data": {
      "text/plain": [
       "0.00      19598\n",
       "335.91        9\n",
       "447.30        9\n",
       "197.56        9\n",
       "199.11        8\n",
       "Name: mb_used, dtype: int64"
      ]
     },
     "execution_count": 19,
     "metadata": {},
     "output_type": "execute_result"
    }
   ],
   "source": [
    "internet['mb_used'].value_counts().head()"
   ]
  },
  {
   "cell_type": "code",
   "execution_count": 20,
   "id": "d5eb55c2",
   "metadata": {},
   "outputs": [],
   "source": [
    "internet.drop(internet[internet['mb_used'] == 0].index, inplace=True)"
   ]
  },
  {
   "cell_type": "code",
   "execution_count": 21,
   "id": "310c61ec",
   "metadata": {},
   "outputs": [
    {
     "data": {
      "text/plain": [
       "count    129798.000000\n",
       "mean        426.087210\n",
       "std         255.596447\n",
       "min           0.030000\n",
       "25%         227.460000\n",
       "50%         400.540000\n",
       "75%         592.947500\n",
       "max        1724.830000\n",
       "Name: mb_used, dtype: float64"
      ]
     },
     "execution_count": 21,
     "metadata": {},
     "output_type": "execute_result"
    }
   ],
   "source": [
    "internet['mb_used'].describe()"
   ]
  },
  {
   "cell_type": "code",
   "execution_count": 22,
   "id": "d7221904",
   "metadata": {},
   "outputs": [
    {
     "data": {
      "text/plain": [
       "497"
      ]
     },
     "execution_count": 22,
     "metadata": {},
     "output_type": "execute_result"
    }
   ],
   "source": [
    "len(internet['user_id'].unique())"
   ]
  },
  {
   "cell_type": "code",
   "execution_count": 23,
   "id": "99824591",
   "metadata": {},
   "outputs": [
    {
     "data": {
      "text/plain": [
       "0"
      ]
     },
     "execution_count": 23,
     "metadata": {},
     "output_type": "execute_result"
    }
   ],
   "source": [
    "internet.duplicated().sum()"
   ]
  },
  {
   "cell_type": "markdown",
   "id": "62d9d844",
   "metadata": {},
   "source": [
    "В среднем пользователь за интернет-сессию использует 420 мб. Максимальное значение по выборке 1724 мб (1,6 гб или скачать кино, когда рутрекер еще работал). Пользователей, пользующихся интернетом 497. Дубликатов также нет.   \n",
    "\n",
    "В таблице \"интернет\" присутствует странный столбец 'Unnamed: 0', повторяющий индексы. Избавимся от него за ненадобностью. "
   ]
  },
  {
   "cell_type": "code",
   "execution_count": 24,
   "id": "bafd1ad4",
   "metadata": {},
   "outputs": [
    {
     "data": {
      "text/html": [
       "<div>\n",
       "<style scoped>\n",
       "    .dataframe tbody tr th:only-of-type {\n",
       "        vertical-align: middle;\n",
       "    }\n",
       "\n",
       "    .dataframe tbody tr th {\n",
       "        vertical-align: top;\n",
       "    }\n",
       "\n",
       "    .dataframe thead th {\n",
       "        text-align: right;\n",
       "    }\n",
       "</style>\n",
       "<table border=\"1\" class=\"dataframe\">\n",
       "  <thead>\n",
       "    <tr style=\"text-align: right;\">\n",
       "      <th></th>\n",
       "      <th>id</th>\n",
       "      <th>mb_used</th>\n",
       "      <th>session_date</th>\n",
       "      <th>user_id</th>\n",
       "    </tr>\n",
       "  </thead>\n",
       "  <tbody>\n",
       "    <tr>\n",
       "      <th>0</th>\n",
       "      <td>1000_0</td>\n",
       "      <td>112.95</td>\n",
       "      <td>2018-11-25</td>\n",
       "      <td>1000</td>\n",
       "    </tr>\n",
       "    <tr>\n",
       "      <th>1</th>\n",
       "      <td>1000_1</td>\n",
       "      <td>1052.81</td>\n",
       "      <td>2018-09-07</td>\n",
       "      <td>1000</td>\n",
       "    </tr>\n",
       "    <tr>\n",
       "      <th>2</th>\n",
       "      <td>1000_2</td>\n",
       "      <td>1197.26</td>\n",
       "      <td>2018-06-25</td>\n",
       "      <td>1000</td>\n",
       "    </tr>\n",
       "    <tr>\n",
       "      <th>3</th>\n",
       "      <td>1000_3</td>\n",
       "      <td>550.27</td>\n",
       "      <td>2018-08-22</td>\n",
       "      <td>1000</td>\n",
       "    </tr>\n",
       "    <tr>\n",
       "      <th>4</th>\n",
       "      <td>1000_4</td>\n",
       "      <td>302.56</td>\n",
       "      <td>2018-09-24</td>\n",
       "      <td>1000</td>\n",
       "    </tr>\n",
       "  </tbody>\n",
       "</table>\n",
       "</div>"
      ],
      "text/plain": [
       "       id  mb_used session_date  user_id\n",
       "0  1000_0   112.95   2018-11-25     1000\n",
       "1  1000_1  1052.81   2018-09-07     1000\n",
       "2  1000_2  1197.26   2018-06-25     1000\n",
       "3  1000_3   550.27   2018-08-22     1000\n",
       "4  1000_4   302.56   2018-09-24     1000"
      ]
     },
     "execution_count": 24,
     "metadata": {},
     "output_type": "execute_result"
    }
   ],
   "source": [
    "internet = internet.drop(['Unnamed: 0'], axis=1)\n",
    "internet.head()"
   ]
  },
  {
   "cell_type": "code",
   "execution_count": 25,
   "id": "2bbf4454",
   "metadata": {},
   "outputs": [],
   "source": [
    "messages['message_date'] = pd.to_datetime(messages['message_date'], format='%Y-%m-%dT%H:%M:%S')"
   ]
  },
  {
   "cell_type": "code",
   "execution_count": 26,
   "id": "cacad652",
   "metadata": {},
   "outputs": [
    {
     "data": {
      "text/plain": [
       "426"
      ]
     },
     "execution_count": 26,
     "metadata": {},
     "output_type": "execute_result"
    }
   ],
   "source": [
    "len(messages['user_id'].unique())"
   ]
  },
  {
   "cell_type": "code",
   "execution_count": 27,
   "id": "3ed5cb09",
   "metadata": {},
   "outputs": [
    {
     "data": {
      "text/plain": [
       "0"
      ]
     },
     "execution_count": 27,
     "metadata": {},
     "output_type": "execute_result"
    }
   ],
   "source": [
    "messages.duplicated().sum()"
   ]
  },
  {
   "cell_type": "markdown",
   "id": "9fd42f18",
   "metadata": {},
   "source": [
    "В данных по сообщениям нет количественых переменных, по которым можно было бы оценить статистические характеристики. Пропусков и дубликатов нет. Пользователей 426 из 500."
   ]
  },
  {
   "cell_type": "code",
   "execution_count": 28,
   "id": "95138310",
   "metadata": {},
   "outputs": [],
   "source": [
    "users['churn_date'] = pd.to_datetime(users['churn_date'], format='%Y-%m-%dT%H:%M:%S')\n",
    "users['reg_date'] = pd.to_datetime(users['reg_date'], format='%Y-%m-%dT%H:%M:%S')"
   ]
  },
  {
   "cell_type": "code",
   "execution_count": 29,
   "id": "d111e475",
   "metadata": {},
   "outputs": [
    {
     "data": {
      "text/html": [
       "<div>\n",
       "<style scoped>\n",
       "    .dataframe tbody tr th:only-of-type {\n",
       "        vertical-align: middle;\n",
       "    }\n",
       "\n",
       "    .dataframe tbody tr th {\n",
       "        vertical-align: top;\n",
       "    }\n",
       "\n",
       "    .dataframe thead th {\n",
       "        text-align: right;\n",
       "    }\n",
       "</style>\n",
       "<table border=\"1\" class=\"dataframe\">\n",
       "  <thead>\n",
       "    <tr style=\"text-align: right;\">\n",
       "      <th></th>\n",
       "      <th>user_id</th>\n",
       "      <th>age</th>\n",
       "    </tr>\n",
       "  </thead>\n",
       "  <tbody>\n",
       "    <tr>\n",
       "      <th>count</th>\n",
       "      <td>500.000000</td>\n",
       "      <td>500.00000</td>\n",
       "    </tr>\n",
       "    <tr>\n",
       "      <th>mean</th>\n",
       "      <td>1249.500000</td>\n",
       "      <td>46.58800</td>\n",
       "    </tr>\n",
       "    <tr>\n",
       "      <th>std</th>\n",
       "      <td>144.481833</td>\n",
       "      <td>16.66763</td>\n",
       "    </tr>\n",
       "    <tr>\n",
       "      <th>min</th>\n",
       "      <td>1000.000000</td>\n",
       "      <td>18.00000</td>\n",
       "    </tr>\n",
       "    <tr>\n",
       "      <th>25%</th>\n",
       "      <td>1124.750000</td>\n",
       "      <td>32.00000</td>\n",
       "    </tr>\n",
       "    <tr>\n",
       "      <th>50%</th>\n",
       "      <td>1249.500000</td>\n",
       "      <td>46.00000</td>\n",
       "    </tr>\n",
       "    <tr>\n",
       "      <th>75%</th>\n",
       "      <td>1374.250000</td>\n",
       "      <td>62.00000</td>\n",
       "    </tr>\n",
       "    <tr>\n",
       "      <th>max</th>\n",
       "      <td>1499.000000</td>\n",
       "      <td>75.00000</td>\n",
       "    </tr>\n",
       "  </tbody>\n",
       "</table>\n",
       "</div>"
      ],
      "text/plain": [
       "           user_id        age\n",
       "count   500.000000  500.00000\n",
       "mean   1249.500000   46.58800\n",
       "std     144.481833   16.66763\n",
       "min    1000.000000   18.00000\n",
       "25%    1124.750000   32.00000\n",
       "50%    1249.500000   46.00000\n",
       "75%    1374.250000   62.00000\n",
       "max    1499.000000   75.00000"
      ]
     },
     "execution_count": 29,
     "metadata": {},
     "output_type": "execute_result"
    }
   ],
   "source": [
    "users.describe()"
   ]
  },
  {
   "cell_type": "code",
   "execution_count": 30,
   "id": "413da401",
   "metadata": {},
   "outputs": [
    {
     "data": {
      "text/plain": [
       "user_id         0\n",
       "age             0\n",
       "churn_date    462\n",
       "city            0\n",
       "first_name      0\n",
       "last_name       0\n",
       "reg_date        0\n",
       "tariff          0\n",
       "dtype: int64"
      ]
     },
     "execution_count": 30,
     "metadata": {},
     "output_type": "execute_result"
    }
   ],
   "source": [
    "users.isnull().sum()"
   ]
  },
  {
   "cell_type": "markdown",
   "id": "22d7ed6a",
   "metadata": {},
   "source": [
    "Пропуски в данных о дате прекращения пользования тарифом указывают на то, что тариф все еще действителен. Оставим их нетронутыми. В остальном, ошибок, дубликатов или аномалий не наблюдается. \n",
    "\n",
    "Таблица с тарифами содержит всего две строки с описанием условий и представлена выше. Типы данных корректны, пропусков нет. Объем трафика дан в мб, переведем в гб. "
   ]
  },
  {
   "cell_type": "code",
   "execution_count": 31,
   "id": "c4291f52",
   "metadata": {},
   "outputs": [
    {
     "data": {
      "text/html": [
       "<div>\n",
       "<style scoped>\n",
       "    .dataframe tbody tr th:only-of-type {\n",
       "        vertical-align: middle;\n",
       "    }\n",
       "\n",
       "    .dataframe tbody tr th {\n",
       "        vertical-align: top;\n",
       "    }\n",
       "\n",
       "    .dataframe thead th {\n",
       "        text-align: right;\n",
       "    }\n",
       "</style>\n",
       "<table border=\"1\" class=\"dataframe\">\n",
       "  <thead>\n",
       "    <tr style=\"text-align: right;\">\n",
       "      <th></th>\n",
       "      <th>messages_included</th>\n",
       "      <th>mb_per_month_included</th>\n",
       "      <th>minutes_included</th>\n",
       "      <th>rub_monthly_fee</th>\n",
       "      <th>rub_per_gb</th>\n",
       "      <th>rub_per_message</th>\n",
       "      <th>rub_per_minute</th>\n",
       "      <th>tariff_name</th>\n",
       "      <th>gb_per_month_included</th>\n",
       "    </tr>\n",
       "  </thead>\n",
       "  <tbody>\n",
       "    <tr>\n",
       "      <th>0</th>\n",
       "      <td>50</td>\n",
       "      <td>15360</td>\n",
       "      <td>500</td>\n",
       "      <td>550</td>\n",
       "      <td>200</td>\n",
       "      <td>3</td>\n",
       "      <td>3</td>\n",
       "      <td>smart</td>\n",
       "      <td>15.0</td>\n",
       "    </tr>\n",
       "    <tr>\n",
       "      <th>1</th>\n",
       "      <td>1000</td>\n",
       "      <td>30720</td>\n",
       "      <td>3000</td>\n",
       "      <td>1950</td>\n",
       "      <td>150</td>\n",
       "      <td>1</td>\n",
       "      <td>1</td>\n",
       "      <td>ultra</td>\n",
       "      <td>30.0</td>\n",
       "    </tr>\n",
       "  </tbody>\n",
       "</table>\n",
       "</div>"
      ],
      "text/plain": [
       "   messages_included  mb_per_month_included  minutes_included  \\\n",
       "0                 50                  15360               500   \n",
       "1               1000                  30720              3000   \n",
       "\n",
       "   rub_monthly_fee  rub_per_gb  rub_per_message  rub_per_minute tariff_name  \\\n",
       "0              550         200                3               3       smart   \n",
       "1             1950         150                1               1       ultra   \n",
       "\n",
       "   gb_per_month_included  \n",
       "0                   15.0  \n",
       "1                   30.0  "
      ]
     },
     "execution_count": 31,
     "metadata": {},
     "output_type": "execute_result"
    }
   ],
   "source": [
    "tariffs['gb_per_month_included'] = tariffs['mb_per_month_included'] / 1024\n",
    "tariffs"
   ]
  },
  {
   "cell_type": "markdown",
   "id": "73a8f263",
   "metadata": {},
   "source": [
    "### Подготовка пользовательских данных "
   ]
  },
  {
   "cell_type": "markdown",
   "id": "b2a862ff",
   "metadata": {},
   "source": [
    "**Звонки**"
   ]
  },
  {
   "cell_type": "markdown",
   "id": "a1f35944",
   "metadata": {},
   "source": [
    "Необходимо посчитать количество звонков и израсходованных минут для каждого пользователя по месяцам. Добавим столбец с месяцем каждой операции. "
   ]
  },
  {
   "cell_type": "code",
   "execution_count": 32,
   "id": "22be7316",
   "metadata": {},
   "outputs": [
    {
     "data": {
      "text/html": [
       "<div>\n",
       "<style scoped>\n",
       "    .dataframe tbody tr th:only-of-type {\n",
       "        vertical-align: middle;\n",
       "    }\n",
       "\n",
       "    .dataframe tbody tr th {\n",
       "        vertical-align: top;\n",
       "    }\n",
       "\n",
       "    .dataframe thead th {\n",
       "        text-align: right;\n",
       "    }\n",
       "</style>\n",
       "<table border=\"1\" class=\"dataframe\">\n",
       "  <thead>\n",
       "    <tr style=\"text-align: right;\">\n",
       "      <th></th>\n",
       "      <th>id</th>\n",
       "      <th>call_date</th>\n",
       "      <th>duration</th>\n",
       "      <th>user_id</th>\n",
       "      <th>month</th>\n",
       "    </tr>\n",
       "  </thead>\n",
       "  <tbody>\n",
       "    <tr>\n",
       "      <th>0</th>\n",
       "      <td>1000_0</td>\n",
       "      <td>2018-07-25</td>\n",
       "      <td>0</td>\n",
       "      <td>1000</td>\n",
       "      <td>7</td>\n",
       "    </tr>\n",
       "  </tbody>\n",
       "</table>\n",
       "</div>"
      ],
      "text/plain": [
       "       id  call_date  duration  user_id  month\n",
       "0  1000_0 2018-07-25         0     1000      7"
      ]
     },
     "execution_count": 32,
     "metadata": {},
     "output_type": "execute_result"
    }
   ],
   "source": [
    "calls['month'] = calls['call_date'].dt.month\n",
    "calls.head(1)"
   ]
  },
  {
   "cell_type": "code",
   "execution_count": 33,
   "id": "4aa79680",
   "metadata": {
    "scrolled": true
   },
   "outputs": [
    {
     "data": {
      "text/html": [
       "<div>\n",
       "<style scoped>\n",
       "    .dataframe tbody tr th:only-of-type {\n",
       "        vertical-align: middle;\n",
       "    }\n",
       "\n",
       "    .dataframe tbody tr th {\n",
       "        vertical-align: top;\n",
       "    }\n",
       "\n",
       "    .dataframe thead th {\n",
       "        text-align: right;\n",
       "    }\n",
       "</style>\n",
       "<table border=\"1\" class=\"dataframe\">\n",
       "  <thead>\n",
       "    <tr style=\"text-align: right;\">\n",
       "      <th></th>\n",
       "      <th>user_id</th>\n",
       "      <th>month</th>\n",
       "      <th>duration</th>\n",
       "      <th>id</th>\n",
       "    </tr>\n",
       "  </thead>\n",
       "  <tbody>\n",
       "    <tr>\n",
       "      <th>0</th>\n",
       "      <td>1000</td>\n",
       "      <td>5</td>\n",
       "      <td>159</td>\n",
       "      <td>22</td>\n",
       "    </tr>\n",
       "    <tr>\n",
       "      <th>1</th>\n",
       "      <td>1000</td>\n",
       "      <td>6</td>\n",
       "      <td>172</td>\n",
       "      <td>43</td>\n",
       "    </tr>\n",
       "    <tr>\n",
       "      <th>2</th>\n",
       "      <td>1000</td>\n",
       "      <td>7</td>\n",
       "      <td>340</td>\n",
       "      <td>47</td>\n",
       "    </tr>\n",
       "    <tr>\n",
       "      <th>3</th>\n",
       "      <td>1000</td>\n",
       "      <td>8</td>\n",
       "      <td>408</td>\n",
       "      <td>52</td>\n",
       "    </tr>\n",
       "    <tr>\n",
       "      <th>4</th>\n",
       "      <td>1000</td>\n",
       "      <td>9</td>\n",
       "      <td>466</td>\n",
       "      <td>58</td>\n",
       "    </tr>\n",
       "  </tbody>\n",
       "</table>\n",
       "</div>"
      ],
      "text/plain": [
       "   user_id  month  duration  id\n",
       "0     1000      5       159  22\n",
       "1     1000      6       172  43\n",
       "2     1000      7       340  47\n",
       "3     1000      8       408  52\n",
       "4     1000      9       466  58"
      ]
     },
     "execution_count": 33,
     "metadata": {},
     "output_type": "execute_result"
    }
   ],
   "source": [
    "calls_count = calls.pivot_table(index=('user_id', 'month'), values=(\n",
    "    'id', 'duration'), aggfunc={'id':'count', 'duration':'sum'}).reset_index()\n",
    "calls_count.head()"
   ]
  },
  {
   "cell_type": "markdown",
   "id": "ad7434a8",
   "metadata": {},
   "source": [
    "Переименуем столбцы *id* в *calls* для того, чтобы в сводной таблице не потерять количество сообщений и звонков. "
   ]
  },
  {
   "cell_type": "code",
   "execution_count": 34,
   "id": "43cd1b5b",
   "metadata": {},
   "outputs": [
    {
     "name": "stdout",
     "output_type": "stream",
     "text": [
      "<class 'pandas.core.frame.DataFrame'>\n",
      "RangeIndex: 3174 entries, 0 to 3173\n",
      "Data columns (total 4 columns):\n",
      " #   Column    Non-Null Count  Dtype\n",
      "---  ------    --------------  -----\n",
      " 0   user_id   3174 non-null   int64\n",
      " 1   month     3174 non-null   int64\n",
      " 2   duration  3174 non-null   int32\n",
      " 3   calls     3174 non-null   int64\n",
      "dtypes: int32(1), int64(3)\n",
      "memory usage: 86.9 KB\n"
     ]
    }
   ],
   "source": [
    "calls_count.columns = ['user_id', 'month', 'duration', 'calls']\n",
    "calls_count.info()"
   ]
  },
  {
   "cell_type": "markdown",
   "id": "38565f29",
   "metadata": {},
   "source": [
    "**Сообщения**"
   ]
  },
  {
   "cell_type": "markdown",
   "id": "26c47fda",
   "metadata": {},
   "source": [
    "Аналогично посчитаем количество отправленных сообщений по месяцам для каждого пользователя. "
   ]
  },
  {
   "cell_type": "code",
   "execution_count": 35,
   "id": "23de911c",
   "metadata": {},
   "outputs": [
    {
     "data": {
      "text/html": [
       "<div>\n",
       "<style scoped>\n",
       "    .dataframe tbody tr th:only-of-type {\n",
       "        vertical-align: middle;\n",
       "    }\n",
       "\n",
       "    .dataframe tbody tr th {\n",
       "        vertical-align: top;\n",
       "    }\n",
       "\n",
       "    .dataframe thead th {\n",
       "        text-align: right;\n",
       "    }\n",
       "</style>\n",
       "<table border=\"1\" class=\"dataframe\">\n",
       "  <thead>\n",
       "    <tr style=\"text-align: right;\">\n",
       "      <th></th>\n",
       "      <th>id</th>\n",
       "      <th>message_date</th>\n",
       "      <th>user_id</th>\n",
       "      <th>month</th>\n",
       "    </tr>\n",
       "  </thead>\n",
       "  <tbody>\n",
       "    <tr>\n",
       "      <th>0</th>\n",
       "      <td>1000_0</td>\n",
       "      <td>2018-06-27</td>\n",
       "      <td>1000</td>\n",
       "      <td>6</td>\n",
       "    </tr>\n",
       "  </tbody>\n",
       "</table>\n",
       "</div>"
      ],
      "text/plain": [
       "       id message_date  user_id  month\n",
       "0  1000_0   2018-06-27     1000      6"
      ]
     },
     "execution_count": 35,
     "metadata": {},
     "output_type": "execute_result"
    }
   ],
   "source": [
    "messages['month'] = messages['message_date'].dt.month\n",
    "messages.head(1)"
   ]
  },
  {
   "cell_type": "code",
   "execution_count": 36,
   "id": "782f534d",
   "metadata": {
    "scrolled": true
   },
   "outputs": [
    {
     "data": {
      "text/html": [
       "<div>\n",
       "<style scoped>\n",
       "    .dataframe tbody tr th:only-of-type {\n",
       "        vertical-align: middle;\n",
       "    }\n",
       "\n",
       "    .dataframe tbody tr th {\n",
       "        vertical-align: top;\n",
       "    }\n",
       "\n",
       "    .dataframe thead th {\n",
       "        text-align: right;\n",
       "    }\n",
       "</style>\n",
       "<table border=\"1\" class=\"dataframe\">\n",
       "  <thead>\n",
       "    <tr style=\"text-align: right;\">\n",
       "      <th></th>\n",
       "      <th>user_id</th>\n",
       "      <th>month</th>\n",
       "      <th>id</th>\n",
       "    </tr>\n",
       "  </thead>\n",
       "  <tbody>\n",
       "    <tr>\n",
       "      <th>0</th>\n",
       "      <td>1000</td>\n",
       "      <td>5</td>\n",
       "      <td>22</td>\n",
       "    </tr>\n",
       "    <tr>\n",
       "      <th>1</th>\n",
       "      <td>1000</td>\n",
       "      <td>6</td>\n",
       "      <td>60</td>\n",
       "    </tr>\n",
       "    <tr>\n",
       "      <th>2</th>\n",
       "      <td>1000</td>\n",
       "      <td>7</td>\n",
       "      <td>75</td>\n",
       "    </tr>\n",
       "    <tr>\n",
       "      <th>3</th>\n",
       "      <td>1000</td>\n",
       "      <td>8</td>\n",
       "      <td>81</td>\n",
       "    </tr>\n",
       "    <tr>\n",
       "      <th>4</th>\n",
       "      <td>1000</td>\n",
       "      <td>9</td>\n",
       "      <td>57</td>\n",
       "    </tr>\n",
       "  </tbody>\n",
       "</table>\n",
       "</div>"
      ],
      "text/plain": [
       "   user_id  month  id\n",
       "0     1000      5  22\n",
       "1     1000      6  60\n",
       "2     1000      7  75\n",
       "3     1000      8  81\n",
       "4     1000      9  57"
      ]
     },
     "execution_count": 36,
     "metadata": {},
     "output_type": "execute_result"
    }
   ],
   "source": [
    "messages_count = messages.pivot_table(index=('user_id', 'month'), values='id', aggfunc='count').reset_index()\n",
    "messages_count.head()"
   ]
  },
  {
   "cell_type": "code",
   "execution_count": 37,
   "id": "53b842f8",
   "metadata": {},
   "outputs": [
    {
     "name": "stdout",
     "output_type": "stream",
     "text": [
      "<class 'pandas.core.frame.DataFrame'>\n",
      "RangeIndex: 2717 entries, 0 to 2716\n",
      "Data columns (total 3 columns):\n",
      " #   Column    Non-Null Count  Dtype\n",
      "---  ------    --------------  -----\n",
      " 0   user_id   2717 non-null   int64\n",
      " 1   month     2717 non-null   int64\n",
      " 2   messages  2717 non-null   int64\n",
      "dtypes: int64(3)\n",
      "memory usage: 63.8 KB\n"
     ]
    }
   ],
   "source": [
    "messages_count.columns = ['user_id', 'month', 'messages']\n",
    "messages_count.info()"
   ]
  },
  {
   "cell_type": "markdown",
   "id": "e6faac3f",
   "metadata": {},
   "source": [
    "**Интернет-трафик** "
   ]
  },
  {
   "cell_type": "markdown",
   "id": "fff255d5",
   "metadata": {},
   "source": [
    "Мобильный оператор не округляет мб, использованные в разовые интернет-сессии, но делает это, высчитывая общую сумму использования веб-трафика в месяц. Поэтому полученные результаты округлим в большую сторону до гб. "
   ]
  },
  {
   "cell_type": "code",
   "execution_count": 38,
   "id": "28494405",
   "metadata": {},
   "outputs": [
    {
     "data": {
      "text/html": [
       "<div>\n",
       "<style scoped>\n",
       "    .dataframe tbody tr th:only-of-type {\n",
       "        vertical-align: middle;\n",
       "    }\n",
       "\n",
       "    .dataframe tbody tr th {\n",
       "        vertical-align: top;\n",
       "    }\n",
       "\n",
       "    .dataframe thead th {\n",
       "        text-align: right;\n",
       "    }\n",
       "</style>\n",
       "<table border=\"1\" class=\"dataframe\">\n",
       "  <thead>\n",
       "    <tr style=\"text-align: right;\">\n",
       "      <th></th>\n",
       "      <th>id</th>\n",
       "      <th>mb_used</th>\n",
       "      <th>session_date</th>\n",
       "      <th>user_id</th>\n",
       "      <th>month</th>\n",
       "    </tr>\n",
       "  </thead>\n",
       "  <tbody>\n",
       "    <tr>\n",
       "      <th>0</th>\n",
       "      <td>1000_0</td>\n",
       "      <td>112.95</td>\n",
       "      <td>2018-11-25</td>\n",
       "      <td>1000</td>\n",
       "      <td>11</td>\n",
       "    </tr>\n",
       "    <tr>\n",
       "      <th>1</th>\n",
       "      <td>1000_1</td>\n",
       "      <td>1052.81</td>\n",
       "      <td>2018-09-07</td>\n",
       "      <td>1000</td>\n",
       "      <td>9</td>\n",
       "    </tr>\n",
       "    <tr>\n",
       "      <th>2</th>\n",
       "      <td>1000_2</td>\n",
       "      <td>1197.26</td>\n",
       "      <td>2018-06-25</td>\n",
       "      <td>1000</td>\n",
       "      <td>6</td>\n",
       "    </tr>\n",
       "    <tr>\n",
       "      <th>3</th>\n",
       "      <td>1000_3</td>\n",
       "      <td>550.27</td>\n",
       "      <td>2018-08-22</td>\n",
       "      <td>1000</td>\n",
       "      <td>8</td>\n",
       "    </tr>\n",
       "    <tr>\n",
       "      <th>4</th>\n",
       "      <td>1000_4</td>\n",
       "      <td>302.56</td>\n",
       "      <td>2018-09-24</td>\n",
       "      <td>1000</td>\n",
       "      <td>9</td>\n",
       "    </tr>\n",
       "  </tbody>\n",
       "</table>\n",
       "</div>"
      ],
      "text/plain": [
       "       id  mb_used session_date  user_id  month\n",
       "0  1000_0   112.95   2018-11-25     1000     11\n",
       "1  1000_1  1052.81   2018-09-07     1000      9\n",
       "2  1000_2  1197.26   2018-06-25     1000      6\n",
       "3  1000_3   550.27   2018-08-22     1000      8\n",
       "4  1000_4   302.56   2018-09-24     1000      9"
      ]
     },
     "execution_count": 38,
     "metadata": {},
     "output_type": "execute_result"
    }
   ],
   "source": [
    "internet['month'] = internet['session_date'].dt.month\n",
    "internet.head()"
   ]
  },
  {
   "cell_type": "code",
   "execution_count": 39,
   "id": "f4e6a903",
   "metadata": {},
   "outputs": [],
   "source": [
    "internet_count = internet.pivot_table(index=('user_id', 'month'), values='mb_used', aggfunc='sum').reset_index()"
   ]
  },
  {
   "cell_type": "code",
   "execution_count": 40,
   "id": "59af5bc7",
   "metadata": {},
   "outputs": [
    {
     "name": "stdout",
     "output_type": "stream",
     "text": [
      "<class 'pandas.core.frame.DataFrame'>\n",
      "RangeIndex: 3201 entries, 0 to 3200\n",
      "Data columns (total 4 columns):\n",
      " #   Column   Non-Null Count  Dtype  \n",
      "---  ------   --------------  -----  \n",
      " 0   user_id  3201 non-null   int64  \n",
      " 1   month    3201 non-null   int64  \n",
      " 2   mb_used  3201 non-null   float64\n",
      " 3   gb_used  3201 non-null   float64\n",
      "dtypes: float64(2), int64(2)\n",
      "memory usage: 100.2 KB\n"
     ]
    }
   ],
   "source": [
    "internet_count['gb_used'] = (internet_count['mb_used'] / 1024).apply(np.ceil)\n",
    "internet_count.info()"
   ]
  },
  {
   "cell_type": "markdown",
   "id": "8cbb97fb",
   "metadata": {},
   "source": [
    "**Месячная выручка с пользователей**"
   ]
  },
  {
   "cell_type": "code",
   "execution_count": 41,
   "id": "83677062",
   "metadata": {},
   "outputs": [
    {
     "data": {
      "text/html": [
       "<div>\n",
       "<style scoped>\n",
       "    .dataframe tbody tr th:only-of-type {\n",
       "        vertical-align: middle;\n",
       "    }\n",
       "\n",
       "    .dataframe tbody tr th {\n",
       "        vertical-align: top;\n",
       "    }\n",
       "\n",
       "    .dataframe thead th {\n",
       "        text-align: right;\n",
       "    }\n",
       "</style>\n",
       "<table border=\"1\" class=\"dataframe\">\n",
       "  <thead>\n",
       "    <tr style=\"text-align: right;\">\n",
       "      <th></th>\n",
       "      <th>user_id</th>\n",
       "      <th>age</th>\n",
       "      <th>churn_date</th>\n",
       "      <th>city</th>\n",
       "      <th>first_name</th>\n",
       "      <th>last_name</th>\n",
       "      <th>reg_date</th>\n",
       "      <th>tariff</th>\n",
       "      <th>month</th>\n",
       "      <th>duration</th>\n",
       "      <th>calls</th>\n",
       "    </tr>\n",
       "  </thead>\n",
       "  <tbody>\n",
       "    <tr>\n",
       "      <th>0</th>\n",
       "      <td>1000</td>\n",
       "      <td>52</td>\n",
       "      <td>NaT</td>\n",
       "      <td>Краснодар</td>\n",
       "      <td>Рафаил</td>\n",
       "      <td>Верещагин</td>\n",
       "      <td>2018-05-25</td>\n",
       "      <td>ultra</td>\n",
       "      <td>5.0</td>\n",
       "      <td>159.0</td>\n",
       "      <td>22.0</td>\n",
       "    </tr>\n",
       "    <tr>\n",
       "      <th>1</th>\n",
       "      <td>1000</td>\n",
       "      <td>52</td>\n",
       "      <td>NaT</td>\n",
       "      <td>Краснодар</td>\n",
       "      <td>Рафаил</td>\n",
       "      <td>Верещагин</td>\n",
       "      <td>2018-05-25</td>\n",
       "      <td>ultra</td>\n",
       "      <td>6.0</td>\n",
       "      <td>172.0</td>\n",
       "      <td>43.0</td>\n",
       "    </tr>\n",
       "    <tr>\n",
       "      <th>2</th>\n",
       "      <td>1000</td>\n",
       "      <td>52</td>\n",
       "      <td>NaT</td>\n",
       "      <td>Краснодар</td>\n",
       "      <td>Рафаил</td>\n",
       "      <td>Верещагин</td>\n",
       "      <td>2018-05-25</td>\n",
       "      <td>ultra</td>\n",
       "      <td>7.0</td>\n",
       "      <td>340.0</td>\n",
       "      <td>47.0</td>\n",
       "    </tr>\n",
       "    <tr>\n",
       "      <th>3</th>\n",
       "      <td>1000</td>\n",
       "      <td>52</td>\n",
       "      <td>NaT</td>\n",
       "      <td>Краснодар</td>\n",
       "      <td>Рафаил</td>\n",
       "      <td>Верещагин</td>\n",
       "      <td>2018-05-25</td>\n",
       "      <td>ultra</td>\n",
       "      <td>8.0</td>\n",
       "      <td>408.0</td>\n",
       "      <td>52.0</td>\n",
       "    </tr>\n",
       "    <tr>\n",
       "      <th>4</th>\n",
       "      <td>1000</td>\n",
       "      <td>52</td>\n",
       "      <td>NaT</td>\n",
       "      <td>Краснодар</td>\n",
       "      <td>Рафаил</td>\n",
       "      <td>Верещагин</td>\n",
       "      <td>2018-05-25</td>\n",
       "      <td>ultra</td>\n",
       "      <td>9.0</td>\n",
       "      <td>466.0</td>\n",
       "      <td>58.0</td>\n",
       "    </tr>\n",
       "    <tr>\n",
       "      <th>5</th>\n",
       "      <td>1000</td>\n",
       "      <td>52</td>\n",
       "      <td>NaT</td>\n",
       "      <td>Краснодар</td>\n",
       "      <td>Рафаил</td>\n",
       "      <td>Верещагин</td>\n",
       "      <td>2018-05-25</td>\n",
       "      <td>ultra</td>\n",
       "      <td>10.0</td>\n",
       "      <td>350.0</td>\n",
       "      <td>57.0</td>\n",
       "    </tr>\n",
       "    <tr>\n",
       "      <th>6</th>\n",
       "      <td>1000</td>\n",
       "      <td>52</td>\n",
       "      <td>NaT</td>\n",
       "      <td>Краснодар</td>\n",
       "      <td>Рафаил</td>\n",
       "      <td>Верещагин</td>\n",
       "      <td>2018-05-25</td>\n",
       "      <td>ultra</td>\n",
       "      <td>11.0</td>\n",
       "      <td>338.0</td>\n",
       "      <td>43.0</td>\n",
       "    </tr>\n",
       "    <tr>\n",
       "      <th>7</th>\n",
       "      <td>1000</td>\n",
       "      <td>52</td>\n",
       "      <td>NaT</td>\n",
       "      <td>Краснодар</td>\n",
       "      <td>Рафаил</td>\n",
       "      <td>Верещагин</td>\n",
       "      <td>2018-05-25</td>\n",
       "      <td>ultra</td>\n",
       "      <td>12.0</td>\n",
       "      <td>333.0</td>\n",
       "      <td>46.0</td>\n",
       "    </tr>\n",
       "    <tr>\n",
       "      <th>8</th>\n",
       "      <td>1001</td>\n",
       "      <td>41</td>\n",
       "      <td>NaT</td>\n",
       "      <td>Москва</td>\n",
       "      <td>Иван</td>\n",
       "      <td>Ежов</td>\n",
       "      <td>2018-11-01</td>\n",
       "      <td>smart</td>\n",
       "      <td>11.0</td>\n",
       "      <td>430.0</td>\n",
       "      <td>59.0</td>\n",
       "    </tr>\n",
       "    <tr>\n",
       "      <th>9</th>\n",
       "      <td>1001</td>\n",
       "      <td>41</td>\n",
       "      <td>NaT</td>\n",
       "      <td>Москва</td>\n",
       "      <td>Иван</td>\n",
       "      <td>Ежов</td>\n",
       "      <td>2018-11-01</td>\n",
       "      <td>smart</td>\n",
       "      <td>12.0</td>\n",
       "      <td>414.0</td>\n",
       "      <td>63.0</td>\n",
       "    </tr>\n",
       "  </tbody>\n",
       "</table>\n",
       "</div>"
      ],
      "text/plain": [
       "   user_id  age churn_date       city first_name  last_name   reg_date tariff  \\\n",
       "0     1000   52        NaT  Краснодар     Рафаил  Верещагин 2018-05-25  ultra   \n",
       "1     1000   52        NaT  Краснодар     Рафаил  Верещагин 2018-05-25  ultra   \n",
       "2     1000   52        NaT  Краснодар     Рафаил  Верещагин 2018-05-25  ultra   \n",
       "3     1000   52        NaT  Краснодар     Рафаил  Верещагин 2018-05-25  ultra   \n",
       "4     1000   52        NaT  Краснодар     Рафаил  Верещагин 2018-05-25  ultra   \n",
       "5     1000   52        NaT  Краснодар     Рафаил  Верещагин 2018-05-25  ultra   \n",
       "6     1000   52        NaT  Краснодар     Рафаил  Верещагин 2018-05-25  ultra   \n",
       "7     1000   52        NaT  Краснодар     Рафаил  Верещагин 2018-05-25  ultra   \n",
       "8     1001   41        NaT     Москва       Иван       Ежов 2018-11-01  smart   \n",
       "9     1001   41        NaT     Москва       Иван       Ежов 2018-11-01  smart   \n",
       "\n",
       "   month  duration  calls  \n",
       "0    5.0     159.0   22.0  \n",
       "1    6.0     172.0   43.0  \n",
       "2    7.0     340.0   47.0  \n",
       "3    8.0     408.0   52.0  \n",
       "4    9.0     466.0   58.0  \n",
       "5   10.0     350.0   57.0  \n",
       "6   11.0     338.0   43.0  \n",
       "7   12.0     333.0   46.0  \n",
       "8   11.0     430.0   59.0  \n",
       "9   12.0     414.0   63.0  "
      ]
     },
     "execution_count": 41,
     "metadata": {},
     "output_type": "execute_result"
    }
   ],
   "source": [
    "users_calls = users.merge(calls_count, on='user_id', how='outer')\n",
    "users_calls.head(10)"
   ]
  },
  {
   "cell_type": "code",
   "execution_count": 42,
   "id": "7b032e29",
   "metadata": {},
   "outputs": [
    {
     "name": "stdout",
     "output_type": "stream",
     "text": [
      "<class 'pandas.core.frame.DataFrame'>\n",
      "Int64Index: 3182 entries, 0 to 3181\n",
      "Data columns (total 11 columns):\n",
      " #   Column      Non-Null Count  Dtype         \n",
      "---  ------      --------------  -----         \n",
      " 0   user_id     3182 non-null   int64         \n",
      " 1   age         3182 non-null   int64         \n",
      " 2   churn_date  189 non-null    datetime64[ns]\n",
      " 3   city        3182 non-null   object        \n",
      " 4   first_name  3182 non-null   object        \n",
      " 5   last_name   3182 non-null   object        \n",
      " 6   reg_date    3182 non-null   datetime64[ns]\n",
      " 7   tariff      3182 non-null   object        \n",
      " 8   month       3174 non-null   float64       \n",
      " 9   duration    3174 non-null   float64       \n",
      " 10  calls       3174 non-null   float64       \n",
      "dtypes: datetime64[ns](2), float64(3), int64(2), object(4)\n",
      "memory usage: 298.3+ KB\n"
     ]
    }
   ],
   "source": [
    "users_calls.info()"
   ]
  },
  {
   "cell_type": "code",
   "execution_count": 43,
   "id": "6396e33c",
   "metadata": {},
   "outputs": [
    {
     "data": {
      "text/html": [
       "<div>\n",
       "<style scoped>\n",
       "    .dataframe tbody tr th:only-of-type {\n",
       "        vertical-align: middle;\n",
       "    }\n",
       "\n",
       "    .dataframe tbody tr th {\n",
       "        vertical-align: top;\n",
       "    }\n",
       "\n",
       "    .dataframe thead th {\n",
       "        text-align: right;\n",
       "    }\n",
       "</style>\n",
       "<table border=\"1\" class=\"dataframe\">\n",
       "  <thead>\n",
       "    <tr style=\"text-align: right;\">\n",
       "      <th></th>\n",
       "      <th>user_id</th>\n",
       "      <th>age</th>\n",
       "      <th>churn_date</th>\n",
       "      <th>city</th>\n",
       "      <th>first_name</th>\n",
       "      <th>last_name</th>\n",
       "      <th>reg_date</th>\n",
       "      <th>tariff</th>\n",
       "      <th>month</th>\n",
       "      <th>duration</th>\n",
       "      <th>calls</th>\n",
       "    </tr>\n",
       "  </thead>\n",
       "  <tbody>\n",
       "    <tr>\n",
       "      <th>570</th>\n",
       "      <td>1091</td>\n",
       "      <td>36</td>\n",
       "      <td>NaT</td>\n",
       "      <td>Набережные Челны</td>\n",
       "      <td>Вера</td>\n",
       "      <td>Суслова</td>\n",
       "      <td>2018-05-08</td>\n",
       "      <td>ultra</td>\n",
       "      <td>NaN</td>\n",
       "      <td>NaN</td>\n",
       "      <td>NaN</td>\n",
       "    </tr>\n",
       "    <tr>\n",
       "      <th>664</th>\n",
       "      <td>1106</td>\n",
       "      <td>67</td>\n",
       "      <td>NaT</td>\n",
       "      <td>Калуга</td>\n",
       "      <td>Исаак</td>\n",
       "      <td>Костин</td>\n",
       "      <td>2018-04-26</td>\n",
       "      <td>ultra</td>\n",
       "      <td>NaN</td>\n",
       "      <td>NaN</td>\n",
       "      <td>NaN</td>\n",
       "    </tr>\n",
       "    <tr>\n",
       "      <th>812</th>\n",
       "      <td>1128</td>\n",
       "      <td>51</td>\n",
       "      <td>2018-12-23</td>\n",
       "      <td>Волжский</td>\n",
       "      <td>Ксения</td>\n",
       "      <td>Агаева</td>\n",
       "      <td>2018-12-15</td>\n",
       "      <td>ultra</td>\n",
       "      <td>NaN</td>\n",
       "      <td>NaN</td>\n",
       "      <td>NaN</td>\n",
       "    </tr>\n",
       "    <tr>\n",
       "      <th>1460</th>\n",
       "      <td>1231</td>\n",
       "      <td>63</td>\n",
       "      <td>NaT</td>\n",
       "      <td>Чебоксары</td>\n",
       "      <td>Касьян</td>\n",
       "      <td>Авдюков</td>\n",
       "      <td>2018-05-23</td>\n",
       "      <td>ultra</td>\n",
       "      <td>NaN</td>\n",
       "      <td>NaN</td>\n",
       "      <td>NaN</td>\n",
       "    </tr>\n",
       "    <tr>\n",
       "      <th>2061</th>\n",
       "      <td>1328</td>\n",
       "      <td>44</td>\n",
       "      <td>NaT</td>\n",
       "      <td>Мурманск</td>\n",
       "      <td>Рауль</td>\n",
       "      <td>Аркадьев</td>\n",
       "      <td>2018-10-16</td>\n",
       "      <td>ultra</td>\n",
       "      <td>NaN</td>\n",
       "      <td>NaN</td>\n",
       "      <td>NaN</td>\n",
       "    </tr>\n",
       "    <tr>\n",
       "      <th>2311</th>\n",
       "      <td>1371</td>\n",
       "      <td>50</td>\n",
       "      <td>2018-12-30</td>\n",
       "      <td>Омск</td>\n",
       "      <td>Ириней</td>\n",
       "      <td>Трофимов</td>\n",
       "      <td>2018-12-25</td>\n",
       "      <td>smart</td>\n",
       "      <td>NaN</td>\n",
       "      <td>NaN</td>\n",
       "      <td>NaN</td>\n",
       "    </tr>\n",
       "    <tr>\n",
       "      <th>3022</th>\n",
       "      <td>1473</td>\n",
       "      <td>18</td>\n",
       "      <td>NaT</td>\n",
       "      <td>Красноярск</td>\n",
       "      <td>Николай</td>\n",
       "      <td>Лебедев</td>\n",
       "      <td>2018-08-05</td>\n",
       "      <td>ultra</td>\n",
       "      <td>NaN</td>\n",
       "      <td>NaN</td>\n",
       "      <td>NaN</td>\n",
       "    </tr>\n",
       "    <tr>\n",
       "      <th>3121</th>\n",
       "      <td>1489</td>\n",
       "      <td>35</td>\n",
       "      <td>NaT</td>\n",
       "      <td>Санкт-Петербург</td>\n",
       "      <td>Павел</td>\n",
       "      <td>Гончаров</td>\n",
       "      <td>2018-08-15</td>\n",
       "      <td>smart</td>\n",
       "      <td>NaN</td>\n",
       "      <td>NaN</td>\n",
       "      <td>NaN</td>\n",
       "    </tr>\n",
       "  </tbody>\n",
       "</table>\n",
       "</div>"
      ],
      "text/plain": [
       "      user_id  age churn_date              city first_name last_name  \\\n",
       "570      1091   36        NaT  Набережные Челны       Вера   Суслова   \n",
       "664      1106   67        NaT            Калуга      Исаак    Костин   \n",
       "812      1128   51 2018-12-23          Волжский     Ксения    Агаева   \n",
       "1460     1231   63        NaT         Чебоксары     Касьян   Авдюков   \n",
       "2061     1328   44        NaT          Мурманск      Рауль  Аркадьев   \n",
       "2311     1371   50 2018-12-30              Омск     Ириней  Трофимов   \n",
       "3022     1473   18        NaT        Красноярск    Николай   Лебедев   \n",
       "3121     1489   35        NaT   Санкт-Петербург      Павел  Гончаров   \n",
       "\n",
       "       reg_date tariff  month  duration  calls  \n",
       "570  2018-05-08  ultra    NaN       NaN    NaN  \n",
       "664  2018-04-26  ultra    NaN       NaN    NaN  \n",
       "812  2018-12-15  ultra    NaN       NaN    NaN  \n",
       "1460 2018-05-23  ultra    NaN       NaN    NaN  \n",
       "2061 2018-10-16  ultra    NaN       NaN    NaN  \n",
       "2311 2018-12-25  smart    NaN       NaN    NaN  \n",
       "3022 2018-08-05  ultra    NaN       NaN    NaN  \n",
       "3121 2018-08-15  smart    NaN       NaN    NaN  "
      ]
     },
     "execution_count": 43,
     "metadata": {},
     "output_type": "execute_result"
    }
   ],
   "source": [
    "users_calls.loc[users_calls['month'].isnull()]"
   ]
  },
  {
   "cell_type": "markdown",
   "id": "0a4add2e",
   "metadata": {},
   "source": [
    "Некоторые пользователи не пользовались одной из предложенных функций в тарифе (например, звонками), поэтому при составлении сводных таблиц по месяцам/функциям, значения месяца просчитаны как NaN. Заменим пропуски на рандомный 12-й месяц, чтобы в дальнейшем эти строки не потерялись. "
   ]
  },
  {
   "cell_type": "code",
   "execution_count": 44,
   "id": "767f4360",
   "metadata": {},
   "outputs": [],
   "source": [
    "users_calls['month'] = users_calls['month'].fillna(12)"
   ]
  },
  {
   "cell_type": "code",
   "execution_count": 45,
   "id": "d5eafdc8",
   "metadata": {},
   "outputs": [
    {
     "name": "stdout",
     "output_type": "stream",
     "text": [
      "<class 'pandas.core.frame.DataFrame'>\n",
      "Int64Index: 3182 entries, 0 to 3181\n",
      "Data columns (total 11 columns):\n",
      " #   Column      Non-Null Count  Dtype         \n",
      "---  ------      --------------  -----         \n",
      " 0   user_id     3182 non-null   int64         \n",
      " 1   age         3182 non-null   int64         \n",
      " 2   churn_date  189 non-null    datetime64[ns]\n",
      " 3   city        3182 non-null   object        \n",
      " 4   first_name  3182 non-null   object        \n",
      " 5   last_name   3182 non-null   object        \n",
      " 6   reg_date    3182 non-null   datetime64[ns]\n",
      " 7   tariff      3182 non-null   object        \n",
      " 8   month       3182 non-null   float64       \n",
      " 9   duration    3174 non-null   float64       \n",
      " 10  calls       3174 non-null   float64       \n",
      "dtypes: datetime64[ns](2), float64(3), int64(2), object(4)\n",
      "memory usage: 298.3+ KB\n"
     ]
    }
   ],
   "source": [
    "users_calls.info()"
   ]
  },
  {
   "cell_type": "code",
   "execution_count": 46,
   "id": "856cc78d",
   "metadata": {},
   "outputs": [
    {
     "data": {
      "text/html": [
       "<div>\n",
       "<style scoped>\n",
       "    .dataframe tbody tr th:only-of-type {\n",
       "        vertical-align: middle;\n",
       "    }\n",
       "\n",
       "    .dataframe tbody tr th {\n",
       "        vertical-align: top;\n",
       "    }\n",
       "\n",
       "    .dataframe thead th {\n",
       "        text-align: right;\n",
       "    }\n",
       "</style>\n",
       "<table border=\"1\" class=\"dataframe\">\n",
       "  <thead>\n",
       "    <tr style=\"text-align: right;\">\n",
       "      <th></th>\n",
       "      <th>user_id</th>\n",
       "      <th>age</th>\n",
       "      <th>churn_date</th>\n",
       "      <th>city</th>\n",
       "      <th>first_name</th>\n",
       "      <th>last_name</th>\n",
       "      <th>reg_date</th>\n",
       "      <th>tariff</th>\n",
       "      <th>month</th>\n",
       "      <th>messages</th>\n",
       "    </tr>\n",
       "  </thead>\n",
       "  <tbody>\n",
       "    <tr>\n",
       "      <th>0</th>\n",
       "      <td>1000</td>\n",
       "      <td>52</td>\n",
       "      <td>NaT</td>\n",
       "      <td>Краснодар</td>\n",
       "      <td>Рафаил</td>\n",
       "      <td>Верещагин</td>\n",
       "      <td>2018-05-25</td>\n",
       "      <td>ultra</td>\n",
       "      <td>5.0</td>\n",
       "      <td>22.0</td>\n",
       "    </tr>\n",
       "    <tr>\n",
       "      <th>1</th>\n",
       "      <td>1000</td>\n",
       "      <td>52</td>\n",
       "      <td>NaT</td>\n",
       "      <td>Краснодар</td>\n",
       "      <td>Рафаил</td>\n",
       "      <td>Верещагин</td>\n",
       "      <td>2018-05-25</td>\n",
       "      <td>ultra</td>\n",
       "      <td>6.0</td>\n",
       "      <td>60.0</td>\n",
       "    </tr>\n",
       "    <tr>\n",
       "      <th>2</th>\n",
       "      <td>1000</td>\n",
       "      <td>52</td>\n",
       "      <td>NaT</td>\n",
       "      <td>Краснодар</td>\n",
       "      <td>Рафаил</td>\n",
       "      <td>Верещагин</td>\n",
       "      <td>2018-05-25</td>\n",
       "      <td>ultra</td>\n",
       "      <td>7.0</td>\n",
       "      <td>75.0</td>\n",
       "    </tr>\n",
       "    <tr>\n",
       "      <th>3</th>\n",
       "      <td>1000</td>\n",
       "      <td>52</td>\n",
       "      <td>NaT</td>\n",
       "      <td>Краснодар</td>\n",
       "      <td>Рафаил</td>\n",
       "      <td>Верещагин</td>\n",
       "      <td>2018-05-25</td>\n",
       "      <td>ultra</td>\n",
       "      <td>8.0</td>\n",
       "      <td>81.0</td>\n",
       "    </tr>\n",
       "    <tr>\n",
       "      <th>4</th>\n",
       "      <td>1000</td>\n",
       "      <td>52</td>\n",
       "      <td>NaT</td>\n",
       "      <td>Краснодар</td>\n",
       "      <td>Рафаил</td>\n",
       "      <td>Верещагин</td>\n",
       "      <td>2018-05-25</td>\n",
       "      <td>ultra</td>\n",
       "      <td>9.0</td>\n",
       "      <td>57.0</td>\n",
       "    </tr>\n",
       "    <tr>\n",
       "      <th>5</th>\n",
       "      <td>1000</td>\n",
       "      <td>52</td>\n",
       "      <td>NaT</td>\n",
       "      <td>Краснодар</td>\n",
       "      <td>Рафаил</td>\n",
       "      <td>Верещагин</td>\n",
       "      <td>2018-05-25</td>\n",
       "      <td>ultra</td>\n",
       "      <td>10.0</td>\n",
       "      <td>73.0</td>\n",
       "    </tr>\n",
       "    <tr>\n",
       "      <th>6</th>\n",
       "      <td>1000</td>\n",
       "      <td>52</td>\n",
       "      <td>NaT</td>\n",
       "      <td>Краснодар</td>\n",
       "      <td>Рафаил</td>\n",
       "      <td>Верещагин</td>\n",
       "      <td>2018-05-25</td>\n",
       "      <td>ultra</td>\n",
       "      <td>11.0</td>\n",
       "      <td>58.0</td>\n",
       "    </tr>\n",
       "    <tr>\n",
       "      <th>7</th>\n",
       "      <td>1000</td>\n",
       "      <td>52</td>\n",
       "      <td>NaT</td>\n",
       "      <td>Краснодар</td>\n",
       "      <td>Рафаил</td>\n",
       "      <td>Верещагин</td>\n",
       "      <td>2018-05-25</td>\n",
       "      <td>ultra</td>\n",
       "      <td>12.0</td>\n",
       "      <td>70.0</td>\n",
       "    </tr>\n",
       "    <tr>\n",
       "      <th>8</th>\n",
       "      <td>1001</td>\n",
       "      <td>41</td>\n",
       "      <td>NaT</td>\n",
       "      <td>Москва</td>\n",
       "      <td>Иван</td>\n",
       "      <td>Ежов</td>\n",
       "      <td>2018-11-01</td>\n",
       "      <td>smart</td>\n",
       "      <td>NaN</td>\n",
       "      <td>NaN</td>\n",
       "    </tr>\n",
       "    <tr>\n",
       "      <th>9</th>\n",
       "      <td>1002</td>\n",
       "      <td>59</td>\n",
       "      <td>NaT</td>\n",
       "      <td>Стерлитамак</td>\n",
       "      <td>Евгений</td>\n",
       "      <td>Абрамович</td>\n",
       "      <td>2018-06-17</td>\n",
       "      <td>smart</td>\n",
       "      <td>6.0</td>\n",
       "      <td>4.0</td>\n",
       "    </tr>\n",
       "  </tbody>\n",
       "</table>\n",
       "</div>"
      ],
      "text/plain": [
       "   user_id  age churn_date         city first_name  last_name   reg_date  \\\n",
       "0     1000   52        NaT    Краснодар     Рафаил  Верещагин 2018-05-25   \n",
       "1     1000   52        NaT    Краснодар     Рафаил  Верещагин 2018-05-25   \n",
       "2     1000   52        NaT    Краснодар     Рафаил  Верещагин 2018-05-25   \n",
       "3     1000   52        NaT    Краснодар     Рафаил  Верещагин 2018-05-25   \n",
       "4     1000   52        NaT    Краснодар     Рафаил  Верещагин 2018-05-25   \n",
       "5     1000   52        NaT    Краснодар     Рафаил  Верещагин 2018-05-25   \n",
       "6     1000   52        NaT    Краснодар     Рафаил  Верещагин 2018-05-25   \n",
       "7     1000   52        NaT    Краснодар     Рафаил  Верещагин 2018-05-25   \n",
       "8     1001   41        NaT       Москва       Иван       Ежов 2018-11-01   \n",
       "9     1002   59        NaT  Стерлитамак    Евгений  Абрамович 2018-06-17   \n",
       "\n",
       "  tariff  month  messages  \n",
       "0  ultra    5.0      22.0  \n",
       "1  ultra    6.0      60.0  \n",
       "2  ultra    7.0      75.0  \n",
       "3  ultra    8.0      81.0  \n",
       "4  ultra    9.0      57.0  \n",
       "5  ultra   10.0      73.0  \n",
       "6  ultra   11.0      58.0  \n",
       "7  ultra   12.0      70.0  \n",
       "8  smart    NaN       NaN  \n",
       "9  smart    6.0       4.0  "
      ]
     },
     "execution_count": 46,
     "metadata": {},
     "output_type": "execute_result"
    }
   ],
   "source": [
    "users_messages = users.merge(messages_count, on=('user_id'), how='outer')\n",
    "users_messages.head(10)"
   ]
  },
  {
   "cell_type": "code",
   "execution_count": 47,
   "id": "5bfba414",
   "metadata": {},
   "outputs": [
    {
     "name": "stdout",
     "output_type": "stream",
     "text": [
      "<class 'pandas.core.frame.DataFrame'>\n",
      "Int64Index: 2791 entries, 0 to 2790\n",
      "Data columns (total 10 columns):\n",
      " #   Column      Non-Null Count  Dtype         \n",
      "---  ------      --------------  -----         \n",
      " 0   user_id     2791 non-null   int64         \n",
      " 1   age         2791 non-null   int64         \n",
      " 2   churn_date  149 non-null    datetime64[ns]\n",
      " 3   city        2791 non-null   object        \n",
      " 4   first_name  2791 non-null   object        \n",
      " 5   last_name   2791 non-null   object        \n",
      " 6   reg_date    2791 non-null   datetime64[ns]\n",
      " 7   tariff      2791 non-null   object        \n",
      " 8   month       2717 non-null   float64       \n",
      " 9   messages    2717 non-null   float64       \n",
      "dtypes: datetime64[ns](2), float64(2), int64(2), object(4)\n",
      "memory usage: 239.9+ KB\n"
     ]
    }
   ],
   "source": [
    "users_messages.info()"
   ]
  },
  {
   "cell_type": "code",
   "execution_count": 48,
   "id": "4f7d65e3",
   "metadata": {},
   "outputs": [
    {
     "data": {
      "text/html": [
       "<div>\n",
       "<style scoped>\n",
       "    .dataframe tbody tr th:only-of-type {\n",
       "        vertical-align: middle;\n",
       "    }\n",
       "\n",
       "    .dataframe tbody tr th {\n",
       "        vertical-align: top;\n",
       "    }\n",
       "\n",
       "    .dataframe thead th {\n",
       "        text-align: right;\n",
       "    }\n",
       "</style>\n",
       "<table border=\"1\" class=\"dataframe\">\n",
       "  <thead>\n",
       "    <tr style=\"text-align: right;\">\n",
       "      <th></th>\n",
       "      <th>user_id</th>\n",
       "      <th>age</th>\n",
       "      <th>churn_date</th>\n",
       "      <th>city</th>\n",
       "      <th>first_name</th>\n",
       "      <th>last_name</th>\n",
       "      <th>reg_date</th>\n",
       "      <th>tariff</th>\n",
       "      <th>month</th>\n",
       "      <th>messages</th>\n",
       "    </tr>\n",
       "  </thead>\n",
       "  <tbody>\n",
       "    <tr>\n",
       "      <th>8</th>\n",
       "      <td>1001</td>\n",
       "      <td>41</td>\n",
       "      <td>NaT</td>\n",
       "      <td>Москва</td>\n",
       "      <td>Иван</td>\n",
       "      <td>Ежов</td>\n",
       "      <td>2018-11-01</td>\n",
       "      <td>smart</td>\n",
       "      <td>NaN</td>\n",
       "      <td>NaN</td>\n",
       "    </tr>\n",
       "    <tr>\n",
       "      <th>41</th>\n",
       "      <td>1006</td>\n",
       "      <td>21</td>\n",
       "      <td>NaT</td>\n",
       "      <td>Ульяновск</td>\n",
       "      <td>Леонид</td>\n",
       "      <td>Ермолаев</td>\n",
       "      <td>2018-02-26</td>\n",
       "      <td>smart</td>\n",
       "      <td>NaN</td>\n",
       "      <td>NaN</td>\n",
       "    </tr>\n",
       "    <tr>\n",
       "      <th>62</th>\n",
       "      <td>1010</td>\n",
       "      <td>26</td>\n",
       "      <td>NaT</td>\n",
       "      <td>Тюмень</td>\n",
       "      <td>Эдуард</td>\n",
       "      <td>Кононов</td>\n",
       "      <td>2018-08-05</td>\n",
       "      <td>smart</td>\n",
       "      <td>NaN</td>\n",
       "      <td>NaN</td>\n",
       "    </tr>\n",
       "    <tr>\n",
       "      <th>104</th>\n",
       "      <td>1017</td>\n",
       "      <td>73</td>\n",
       "      <td>NaT</td>\n",
       "      <td>Краснодар</td>\n",
       "      <td>Мария</td>\n",
       "      <td>Аленникова</td>\n",
       "      <td>2018-05-22</td>\n",
       "      <td>smart</td>\n",
       "      <td>NaN</td>\n",
       "      <td>NaN</td>\n",
       "    </tr>\n",
       "    <tr>\n",
       "      <th>136</th>\n",
       "      <td>1024</td>\n",
       "      <td>73</td>\n",
       "      <td>NaT</td>\n",
       "      <td>Санкт-Петербург</td>\n",
       "      <td>Иулиан</td>\n",
       "      <td>Антипов</td>\n",
       "      <td>2018-10-31</td>\n",
       "      <td>ultra</td>\n",
       "      <td>NaN</td>\n",
       "      <td>NaN</td>\n",
       "    </tr>\n",
       "    <tr>\n",
       "      <th>...</th>\n",
       "      <td>...</td>\n",
       "      <td>...</td>\n",
       "      <td>...</td>\n",
       "      <td>...</td>\n",
       "      <td>...</td>\n",
       "      <td>...</td>\n",
       "      <td>...</td>\n",
       "      <td>...</td>\n",
       "      <td>...</td>\n",
       "      <td>...</td>\n",
       "    </tr>\n",
       "    <tr>\n",
       "      <th>2568</th>\n",
       "      <td>1462</td>\n",
       "      <td>72</td>\n",
       "      <td>NaT</td>\n",
       "      <td>Тольятти</td>\n",
       "      <td>Алёна</td>\n",
       "      <td>Абрамычева</td>\n",
       "      <td>2018-10-29</td>\n",
       "      <td>smart</td>\n",
       "      <td>NaN</td>\n",
       "      <td>NaN</td>\n",
       "    </tr>\n",
       "    <tr>\n",
       "      <th>2591</th>\n",
       "      <td>1466</td>\n",
       "      <td>37</td>\n",
       "      <td>NaT</td>\n",
       "      <td>Новосибирск</td>\n",
       "      <td>Рубен</td>\n",
       "      <td>Шевцов</td>\n",
       "      <td>2018-02-28</td>\n",
       "      <td>ultra</td>\n",
       "      <td>NaN</td>\n",
       "      <td>NaN</td>\n",
       "    </tr>\n",
       "    <tr>\n",
       "      <th>2605</th>\n",
       "      <td>1469</td>\n",
       "      <td>41</td>\n",
       "      <td>NaT</td>\n",
       "      <td>Сочи</td>\n",
       "      <td>Аксён</td>\n",
       "      <td>Абалкин</td>\n",
       "      <td>2018-07-06</td>\n",
       "      <td>ultra</td>\n",
       "      <td>NaN</td>\n",
       "      <td>NaN</td>\n",
       "    </tr>\n",
       "    <tr>\n",
       "      <th>2674</th>\n",
       "      <td>1479</td>\n",
       "      <td>40</td>\n",
       "      <td>NaT</td>\n",
       "      <td>Хабаровск</td>\n",
       "      <td>Игорь</td>\n",
       "      <td>Богданов</td>\n",
       "      <td>2018-07-03</td>\n",
       "      <td>smart</td>\n",
       "      <td>NaN</td>\n",
       "      <td>NaN</td>\n",
       "    </tr>\n",
       "    <tr>\n",
       "      <th>2762</th>\n",
       "      <td>1494</td>\n",
       "      <td>62</td>\n",
       "      <td>NaT</td>\n",
       "      <td>Омск</td>\n",
       "      <td>Ренат</td>\n",
       "      <td>Андропов</td>\n",
       "      <td>2018-08-17</td>\n",
       "      <td>smart</td>\n",
       "      <td>NaN</td>\n",
       "      <td>NaN</td>\n",
       "    </tr>\n",
       "  </tbody>\n",
       "</table>\n",
       "<p>74 rows × 10 columns</p>\n",
       "</div>"
      ],
      "text/plain": [
       "      user_id  age churn_date             city first_name   last_name  \\\n",
       "8        1001   41        NaT           Москва       Иван        Ежов   \n",
       "41       1006   21        NaT        Ульяновск     Леонид    Ермолаев   \n",
       "62       1010   26        NaT           Тюмень     Эдуард     Кононов   \n",
       "104      1017   73        NaT        Краснодар      Мария  Аленникова   \n",
       "136      1024   73        NaT  Санкт-Петербург     Иулиан     Антипов   \n",
       "...       ...  ...        ...              ...        ...         ...   \n",
       "2568     1462   72        NaT         Тольятти      Алёна  Абрамычева   \n",
       "2591     1466   37        NaT      Новосибирск      Рубен      Шевцов   \n",
       "2605     1469   41        NaT             Сочи      Аксён     Абалкин   \n",
       "2674     1479   40        NaT        Хабаровск      Игорь    Богданов   \n",
       "2762     1494   62        NaT             Омск      Ренат    Андропов   \n",
       "\n",
       "       reg_date tariff  month  messages  \n",
       "8    2018-11-01  smart    NaN       NaN  \n",
       "41   2018-02-26  smart    NaN       NaN  \n",
       "62   2018-08-05  smart    NaN       NaN  \n",
       "104  2018-05-22  smart    NaN       NaN  \n",
       "136  2018-10-31  ultra    NaN       NaN  \n",
       "...         ...    ...    ...       ...  \n",
       "2568 2018-10-29  smart    NaN       NaN  \n",
       "2591 2018-02-28  ultra    NaN       NaN  \n",
       "2605 2018-07-06  ultra    NaN       NaN  \n",
       "2674 2018-07-03  smart    NaN       NaN  \n",
       "2762 2018-08-17  smart    NaN       NaN  \n",
       "\n",
       "[74 rows x 10 columns]"
      ]
     },
     "execution_count": 48,
     "metadata": {},
     "output_type": "execute_result"
    }
   ],
   "source": [
    "users_messages.loc[users_messages['month'].isnull()]"
   ]
  },
  {
   "cell_type": "code",
   "execution_count": 49,
   "id": "da6e3b97",
   "metadata": {},
   "outputs": [],
   "source": [
    "users_messages['month'] = users_messages['month'].fillna(12)"
   ]
  },
  {
   "cell_type": "code",
   "execution_count": 50,
   "id": "b71c84f4",
   "metadata": {},
   "outputs": [
    {
     "name": "stdout",
     "output_type": "stream",
     "text": [
      "<class 'pandas.core.frame.DataFrame'>\n",
      "Int64Index: 2791 entries, 0 to 2790\n",
      "Data columns (total 10 columns):\n",
      " #   Column      Non-Null Count  Dtype         \n",
      "---  ------      --------------  -----         \n",
      " 0   user_id     2791 non-null   int64         \n",
      " 1   age         2791 non-null   int64         \n",
      " 2   churn_date  149 non-null    datetime64[ns]\n",
      " 3   city        2791 non-null   object        \n",
      " 4   first_name  2791 non-null   object        \n",
      " 5   last_name   2791 non-null   object        \n",
      " 6   reg_date    2791 non-null   datetime64[ns]\n",
      " 7   tariff      2791 non-null   object        \n",
      " 8   month       2791 non-null   float64       \n",
      " 9   messages    2717 non-null   float64       \n",
      "dtypes: datetime64[ns](2), float64(2), int64(2), object(4)\n",
      "memory usage: 239.9+ KB\n"
     ]
    }
   ],
   "source": [
    "users_messages.info()"
   ]
  },
  {
   "cell_type": "code",
   "execution_count": 51,
   "id": "f4bbe860",
   "metadata": {},
   "outputs": [
    {
     "data": {
      "text/html": [
       "<div>\n",
       "<style scoped>\n",
       "    .dataframe tbody tr th:only-of-type {\n",
       "        vertical-align: middle;\n",
       "    }\n",
       "\n",
       "    .dataframe tbody tr th {\n",
       "        vertical-align: top;\n",
       "    }\n",
       "\n",
       "    .dataframe thead th {\n",
       "        text-align: right;\n",
       "    }\n",
       "</style>\n",
       "<table border=\"1\" class=\"dataframe\">\n",
       "  <thead>\n",
       "    <tr style=\"text-align: right;\">\n",
       "      <th></th>\n",
       "      <th>user_id</th>\n",
       "      <th>age</th>\n",
       "      <th>churn_date</th>\n",
       "      <th>city</th>\n",
       "      <th>first_name</th>\n",
       "      <th>last_name</th>\n",
       "      <th>reg_date</th>\n",
       "      <th>tariff</th>\n",
       "      <th>month</th>\n",
       "      <th>mb_used</th>\n",
       "      <th>gb_used</th>\n",
       "    </tr>\n",
       "  </thead>\n",
       "  <tbody>\n",
       "    <tr>\n",
       "      <th>0</th>\n",
       "      <td>1000</td>\n",
       "      <td>52</td>\n",
       "      <td>NaT</td>\n",
       "      <td>Краснодар</td>\n",
       "      <td>Рафаил</td>\n",
       "      <td>Верещагин</td>\n",
       "      <td>2018-05-25</td>\n",
       "      <td>ultra</td>\n",
       "      <td>5.0</td>\n",
       "      <td>2253.49</td>\n",
       "      <td>3.0</td>\n",
       "    </tr>\n",
       "    <tr>\n",
       "      <th>1</th>\n",
       "      <td>1000</td>\n",
       "      <td>52</td>\n",
       "      <td>NaT</td>\n",
       "      <td>Краснодар</td>\n",
       "      <td>Рафаил</td>\n",
       "      <td>Верещагин</td>\n",
       "      <td>2018-05-25</td>\n",
       "      <td>ultra</td>\n",
       "      <td>6.0</td>\n",
       "      <td>23233.77</td>\n",
       "      <td>23.0</td>\n",
       "    </tr>\n",
       "    <tr>\n",
       "      <th>2</th>\n",
       "      <td>1000</td>\n",
       "      <td>52</td>\n",
       "      <td>NaT</td>\n",
       "      <td>Краснодар</td>\n",
       "      <td>Рафаил</td>\n",
       "      <td>Верещагин</td>\n",
       "      <td>2018-05-25</td>\n",
       "      <td>ultra</td>\n",
       "      <td>7.0</td>\n",
       "      <td>14003.64</td>\n",
       "      <td>14.0</td>\n",
       "    </tr>\n",
       "    <tr>\n",
       "      <th>3</th>\n",
       "      <td>1000</td>\n",
       "      <td>52</td>\n",
       "      <td>NaT</td>\n",
       "      <td>Краснодар</td>\n",
       "      <td>Рафаил</td>\n",
       "      <td>Верещагин</td>\n",
       "      <td>2018-05-25</td>\n",
       "      <td>ultra</td>\n",
       "      <td>8.0</td>\n",
       "      <td>14055.93</td>\n",
       "      <td>14.0</td>\n",
       "    </tr>\n",
       "    <tr>\n",
       "      <th>4</th>\n",
       "      <td>1000</td>\n",
       "      <td>52</td>\n",
       "      <td>NaT</td>\n",
       "      <td>Краснодар</td>\n",
       "      <td>Рафаил</td>\n",
       "      <td>Верещагин</td>\n",
       "      <td>2018-05-25</td>\n",
       "      <td>ultra</td>\n",
       "      <td>9.0</td>\n",
       "      <td>14568.91</td>\n",
       "      <td>15.0</td>\n",
       "    </tr>\n",
       "    <tr>\n",
       "      <th>5</th>\n",
       "      <td>1000</td>\n",
       "      <td>52</td>\n",
       "      <td>NaT</td>\n",
       "      <td>Краснодар</td>\n",
       "      <td>Рафаил</td>\n",
       "      <td>Верещагин</td>\n",
       "      <td>2018-05-25</td>\n",
       "      <td>ultra</td>\n",
       "      <td>10.0</td>\n",
       "      <td>14702.49</td>\n",
       "      <td>15.0</td>\n",
       "    </tr>\n",
       "    <tr>\n",
       "      <th>6</th>\n",
       "      <td>1000</td>\n",
       "      <td>52</td>\n",
       "      <td>NaT</td>\n",
       "      <td>Краснодар</td>\n",
       "      <td>Рафаил</td>\n",
       "      <td>Верещагин</td>\n",
       "      <td>2018-05-25</td>\n",
       "      <td>ultra</td>\n",
       "      <td>11.0</td>\n",
       "      <td>14756.47</td>\n",
       "      <td>15.0</td>\n",
       "    </tr>\n",
       "    <tr>\n",
       "      <th>7</th>\n",
       "      <td>1000</td>\n",
       "      <td>52</td>\n",
       "      <td>NaT</td>\n",
       "      <td>Краснодар</td>\n",
       "      <td>Рафаил</td>\n",
       "      <td>Верещагин</td>\n",
       "      <td>2018-05-25</td>\n",
       "      <td>ultra</td>\n",
       "      <td>12.0</td>\n",
       "      <td>9817.61</td>\n",
       "      <td>10.0</td>\n",
       "    </tr>\n",
       "    <tr>\n",
       "      <th>8</th>\n",
       "      <td>1001</td>\n",
       "      <td>41</td>\n",
       "      <td>NaT</td>\n",
       "      <td>Москва</td>\n",
       "      <td>Иван</td>\n",
       "      <td>Ежов</td>\n",
       "      <td>2018-11-01</td>\n",
       "      <td>smart</td>\n",
       "      <td>11.0</td>\n",
       "      <td>18429.34</td>\n",
       "      <td>18.0</td>\n",
       "    </tr>\n",
       "    <tr>\n",
       "      <th>9</th>\n",
       "      <td>1001</td>\n",
       "      <td>41</td>\n",
       "      <td>NaT</td>\n",
       "      <td>Москва</td>\n",
       "      <td>Иван</td>\n",
       "      <td>Ежов</td>\n",
       "      <td>2018-11-01</td>\n",
       "      <td>smart</td>\n",
       "      <td>12.0</td>\n",
       "      <td>14036.66</td>\n",
       "      <td>14.0</td>\n",
       "    </tr>\n",
       "  </tbody>\n",
       "</table>\n",
       "</div>"
      ],
      "text/plain": [
       "   user_id  age churn_date       city first_name  last_name   reg_date tariff  \\\n",
       "0     1000   52        NaT  Краснодар     Рафаил  Верещагин 2018-05-25  ultra   \n",
       "1     1000   52        NaT  Краснодар     Рафаил  Верещагин 2018-05-25  ultra   \n",
       "2     1000   52        NaT  Краснодар     Рафаил  Верещагин 2018-05-25  ultra   \n",
       "3     1000   52        NaT  Краснодар     Рафаил  Верещагин 2018-05-25  ultra   \n",
       "4     1000   52        NaT  Краснодар     Рафаил  Верещагин 2018-05-25  ultra   \n",
       "5     1000   52        NaT  Краснодар     Рафаил  Верещагин 2018-05-25  ultra   \n",
       "6     1000   52        NaT  Краснодар     Рафаил  Верещагин 2018-05-25  ultra   \n",
       "7     1000   52        NaT  Краснодар     Рафаил  Верещагин 2018-05-25  ultra   \n",
       "8     1001   41        NaT     Москва       Иван       Ежов 2018-11-01  smart   \n",
       "9     1001   41        NaT     Москва       Иван       Ежов 2018-11-01  smart   \n",
       "\n",
       "   month   mb_used  gb_used  \n",
       "0    5.0   2253.49      3.0  \n",
       "1    6.0  23233.77     23.0  \n",
       "2    7.0  14003.64     14.0  \n",
       "3    8.0  14055.93     14.0  \n",
       "4    9.0  14568.91     15.0  \n",
       "5   10.0  14702.49     15.0  \n",
       "6   11.0  14756.47     15.0  \n",
       "7   12.0   9817.61     10.0  \n",
       "8   11.0  18429.34     18.0  \n",
       "9   12.0  14036.66     14.0  "
      ]
     },
     "execution_count": 51,
     "metadata": {},
     "output_type": "execute_result"
    }
   ],
   "source": [
    "users_internet = users.merge(internet_count, on=('user_id'), how='outer')\n",
    "users_internet.head(10)"
   ]
  },
  {
   "cell_type": "code",
   "execution_count": 52,
   "id": "491bf8fa",
   "metadata": {},
   "outputs": [
    {
     "name": "stdout",
     "output_type": "stream",
     "text": [
      "<class 'pandas.core.frame.DataFrame'>\n",
      "Int64Index: 3204 entries, 0 to 3203\n",
      "Data columns (total 11 columns):\n",
      " #   Column      Non-Null Count  Dtype         \n",
      "---  ------      --------------  -----         \n",
      " 0   user_id     3204 non-null   int64         \n",
      " 1   age         3204 non-null   int64         \n",
      " 2   churn_date  188 non-null    datetime64[ns]\n",
      " 3   city        3204 non-null   object        \n",
      " 4   first_name  3204 non-null   object        \n",
      " 5   last_name   3204 non-null   object        \n",
      " 6   reg_date    3204 non-null   datetime64[ns]\n",
      " 7   tariff      3204 non-null   object        \n",
      " 8   month       3201 non-null   float64       \n",
      " 9   mb_used     3201 non-null   float64       \n",
      " 10  gb_used     3201 non-null   float64       \n",
      "dtypes: datetime64[ns](2), float64(3), int64(2), object(4)\n",
      "memory usage: 300.4+ KB\n"
     ]
    }
   ],
   "source": [
    "users_internet.info()"
   ]
  },
  {
   "cell_type": "code",
   "execution_count": 53,
   "id": "d03924c2",
   "metadata": {},
   "outputs": [
    {
     "data": {
      "text/html": [
       "<div>\n",
       "<style scoped>\n",
       "    .dataframe tbody tr th:only-of-type {\n",
       "        vertical-align: middle;\n",
       "    }\n",
       "\n",
       "    .dataframe tbody tr th {\n",
       "        vertical-align: top;\n",
       "    }\n",
       "\n",
       "    .dataframe thead th {\n",
       "        text-align: right;\n",
       "    }\n",
       "</style>\n",
       "<table border=\"1\" class=\"dataframe\">\n",
       "  <thead>\n",
       "    <tr style=\"text-align: right;\">\n",
       "      <th></th>\n",
       "      <th>user_id</th>\n",
       "      <th>age</th>\n",
       "      <th>churn_date</th>\n",
       "      <th>city</th>\n",
       "      <th>first_name</th>\n",
       "      <th>last_name</th>\n",
       "      <th>reg_date</th>\n",
       "      <th>tariff</th>\n",
       "      <th>month</th>\n",
       "      <th>mb_used</th>\n",
       "      <th>gb_used</th>\n",
       "    </tr>\n",
       "  </thead>\n",
       "  <tbody>\n",
       "    <tr>\n",
       "      <th>826</th>\n",
       "      <td>1128</td>\n",
       "      <td>51</td>\n",
       "      <td>2018-12-23</td>\n",
       "      <td>Волжский</td>\n",
       "      <td>Ксения</td>\n",
       "      <td>Агаева</td>\n",
       "      <td>2018-12-15</td>\n",
       "      <td>ultra</td>\n",
       "      <td>NaN</td>\n",
       "      <td>NaN</td>\n",
       "      <td>NaN</td>\n",
       "    </tr>\n",
       "    <tr>\n",
       "      <th>1722</th>\n",
       "      <td>1273</td>\n",
       "      <td>46</td>\n",
       "      <td>NaT</td>\n",
       "      <td>Курган</td>\n",
       "      <td>Рэм</td>\n",
       "      <td>Корнилов</td>\n",
       "      <td>2018-05-15</td>\n",
       "      <td>ultra</td>\n",
       "      <td>NaN</td>\n",
       "      <td>NaN</td>\n",
       "      <td>NaN</td>\n",
       "    </tr>\n",
       "    <tr>\n",
       "      <th>2326</th>\n",
       "      <td>1371</td>\n",
       "      <td>50</td>\n",
       "      <td>2018-12-30</td>\n",
       "      <td>Омск</td>\n",
       "      <td>Ириней</td>\n",
       "      <td>Трофимов</td>\n",
       "      <td>2018-12-25</td>\n",
       "      <td>smart</td>\n",
       "      <td>NaN</td>\n",
       "      <td>NaN</td>\n",
       "      <td>NaN</td>\n",
       "    </tr>\n",
       "  </tbody>\n",
       "</table>\n",
       "</div>"
      ],
      "text/plain": [
       "      user_id  age churn_date      city first_name last_name   reg_date  \\\n",
       "826      1128   51 2018-12-23  Волжский     Ксения    Агаева 2018-12-15   \n",
       "1722     1273   46        NaT    Курган        Рэм  Корнилов 2018-05-15   \n",
       "2326     1371   50 2018-12-30      Омск     Ириней  Трофимов 2018-12-25   \n",
       "\n",
       "     tariff  month  mb_used  gb_used  \n",
       "826   ultra    NaN      NaN      NaN  \n",
       "1722  ultra    NaN      NaN      NaN  \n",
       "2326  smart    NaN      NaN      NaN  "
      ]
     },
     "execution_count": 53,
     "metadata": {},
     "output_type": "execute_result"
    }
   ],
   "source": [
    "users_internet.loc[users_internet['month'].isnull()]"
   ]
  },
  {
   "cell_type": "code",
   "execution_count": 54,
   "id": "1927b838",
   "metadata": {},
   "outputs": [],
   "source": [
    "users_internet['month'] = users_internet['month'].fillna(12)"
   ]
  },
  {
   "cell_type": "code",
   "execution_count": 55,
   "id": "857e56e0",
   "metadata": {},
   "outputs": [
    {
     "name": "stdout",
     "output_type": "stream",
     "text": [
      "<class 'pandas.core.frame.DataFrame'>\n",
      "Int64Index: 3204 entries, 0 to 3203\n",
      "Data columns (total 11 columns):\n",
      " #   Column      Non-Null Count  Dtype         \n",
      "---  ------      --------------  -----         \n",
      " 0   user_id     3204 non-null   int64         \n",
      " 1   age         3204 non-null   int64         \n",
      " 2   churn_date  188 non-null    datetime64[ns]\n",
      " 3   city        3204 non-null   object        \n",
      " 4   first_name  3204 non-null   object        \n",
      " 5   last_name   3204 non-null   object        \n",
      " 6   reg_date    3204 non-null   datetime64[ns]\n",
      " 7   tariff      3204 non-null   object        \n",
      " 8   month       3204 non-null   float64       \n",
      " 9   mb_used     3201 non-null   float64       \n",
      " 10  gb_used     3201 non-null   float64       \n",
      "dtypes: datetime64[ns](2), float64(3), int64(2), object(4)\n",
      "memory usage: 300.4+ KB\n"
     ]
    }
   ],
   "source": [
    "users_internet.info()"
   ]
  },
  {
   "cell_type": "markdown",
   "id": "24f3298b",
   "metadata": {},
   "source": [
    "Создадим таблицу со звонками, сообщениями и трафиком. Делаем это по отдельности методом *merge*, поскольку, применяя *join*, мы теряем часть данных, индексы которых не совпадают. Чтобы количество столбцов не удваивалось, в *on* записываем все повторяющиеся столбцы двух таблиц. "
   ]
  },
  {
   "cell_type": "code",
   "execution_count": 56,
   "id": "7020f306",
   "metadata": {},
   "outputs": [
    {
     "data": {
      "text/html": [
       "<div>\n",
       "<style scoped>\n",
       "    .dataframe tbody tr th:only-of-type {\n",
       "        vertical-align: middle;\n",
       "    }\n",
       "\n",
       "    .dataframe tbody tr th {\n",
       "        vertical-align: top;\n",
       "    }\n",
       "\n",
       "    .dataframe thead th {\n",
       "        text-align: right;\n",
       "    }\n",
       "</style>\n",
       "<table border=\"1\" class=\"dataframe\">\n",
       "  <thead>\n",
       "    <tr style=\"text-align: right;\">\n",
       "      <th></th>\n",
       "      <th>user_id</th>\n",
       "      <th>age</th>\n",
       "      <th>churn_date</th>\n",
       "      <th>city</th>\n",
       "      <th>first_name</th>\n",
       "      <th>last_name</th>\n",
       "      <th>reg_date</th>\n",
       "      <th>tariff</th>\n",
       "      <th>month</th>\n",
       "      <th>duration</th>\n",
       "      <th>calls</th>\n",
       "      <th>messages</th>\n",
       "    </tr>\n",
       "  </thead>\n",
       "  <tbody>\n",
       "    <tr>\n",
       "      <th>3214</th>\n",
       "      <td>1473</td>\n",
       "      <td>18</td>\n",
       "      <td>NaT</td>\n",
       "      <td>Красноярск</td>\n",
       "      <td>Николай</td>\n",
       "      <td>Лебедев</td>\n",
       "      <td>2018-08-05</td>\n",
       "      <td>ultra</td>\n",
       "      <td>11.0</td>\n",
       "      <td>NaN</td>\n",
       "      <td>NaN</td>\n",
       "      <td>14.0</td>\n",
       "    </tr>\n",
       "    <tr>\n",
       "      <th>3215</th>\n",
       "      <td>1489</td>\n",
       "      <td>35</td>\n",
       "      <td>NaT</td>\n",
       "      <td>Санкт-Петербург</td>\n",
       "      <td>Павел</td>\n",
       "      <td>Гончаров</td>\n",
       "      <td>2018-08-15</td>\n",
       "      <td>smart</td>\n",
       "      <td>8.0</td>\n",
       "      <td>NaN</td>\n",
       "      <td>NaN</td>\n",
       "      <td>17.0</td>\n",
       "    </tr>\n",
       "    <tr>\n",
       "      <th>3216</th>\n",
       "      <td>1489</td>\n",
       "      <td>35</td>\n",
       "      <td>NaT</td>\n",
       "      <td>Санкт-Петербург</td>\n",
       "      <td>Павел</td>\n",
       "      <td>Гончаров</td>\n",
       "      <td>2018-08-15</td>\n",
       "      <td>smart</td>\n",
       "      <td>9.0</td>\n",
       "      <td>NaN</td>\n",
       "      <td>NaN</td>\n",
       "      <td>32.0</td>\n",
       "    </tr>\n",
       "    <tr>\n",
       "      <th>3217</th>\n",
       "      <td>1489</td>\n",
       "      <td>35</td>\n",
       "      <td>NaT</td>\n",
       "      <td>Санкт-Петербург</td>\n",
       "      <td>Павел</td>\n",
       "      <td>Гончаров</td>\n",
       "      <td>2018-08-15</td>\n",
       "      <td>smart</td>\n",
       "      <td>10.0</td>\n",
       "      <td>NaN</td>\n",
       "      <td>NaN</td>\n",
       "      <td>21.0</td>\n",
       "    </tr>\n",
       "    <tr>\n",
       "      <th>3218</th>\n",
       "      <td>1489</td>\n",
       "      <td>35</td>\n",
       "      <td>NaT</td>\n",
       "      <td>Санкт-Петербург</td>\n",
       "      <td>Павел</td>\n",
       "      <td>Гончаров</td>\n",
       "      <td>2018-08-15</td>\n",
       "      <td>smart</td>\n",
       "      <td>11.0</td>\n",
       "      <td>NaN</td>\n",
       "      <td>NaN</td>\n",
       "      <td>20.0</td>\n",
       "    </tr>\n",
       "  </tbody>\n",
       "</table>\n",
       "</div>"
      ],
      "text/plain": [
       "      user_id  age churn_date             city first_name last_name  \\\n",
       "3214     1473   18        NaT       Красноярск    Николай   Лебедев   \n",
       "3215     1489   35        NaT  Санкт-Петербург      Павел  Гончаров   \n",
       "3216     1489   35        NaT  Санкт-Петербург      Павел  Гончаров   \n",
       "3217     1489   35        NaT  Санкт-Петербург      Павел  Гончаров   \n",
       "3218     1489   35        NaT  Санкт-Петербург      Павел  Гончаров   \n",
       "\n",
       "       reg_date tariff  month  duration  calls  messages  \n",
       "3214 2018-08-05  ultra   11.0       NaN    NaN      14.0  \n",
       "3215 2018-08-15  smart    8.0       NaN    NaN      17.0  \n",
       "3216 2018-08-15  smart    9.0       NaN    NaN      32.0  \n",
       "3217 2018-08-15  smart   10.0       NaN    NaN      21.0  \n",
       "3218 2018-08-15  smart   11.0       NaN    NaN      20.0  "
      ]
     },
     "execution_count": 56,
     "metadata": {},
     "output_type": "execute_result"
    }
   ],
   "source": [
    "users_calls_messages = users_calls.merge(users_messages, on=(\n",
    "    'user_id', 'age', 'churn_date', 'city', 'first_name', 'last_name', 'reg_date', 'tariff', 'month'), how='outer')\n",
    "users_calls_messages.tail()"
   ]
  },
  {
   "cell_type": "code",
   "execution_count": 57,
   "id": "0b532ed5",
   "metadata": {},
   "outputs": [
    {
     "data": {
      "text/html": [
       "<div>\n",
       "<style scoped>\n",
       "    .dataframe tbody tr th:only-of-type {\n",
       "        vertical-align: middle;\n",
       "    }\n",
       "\n",
       "    .dataframe tbody tr th {\n",
       "        vertical-align: top;\n",
       "    }\n",
       "\n",
       "    .dataframe thead th {\n",
       "        text-align: right;\n",
       "    }\n",
       "</style>\n",
       "<table border=\"1\" class=\"dataframe\">\n",
       "  <thead>\n",
       "    <tr style=\"text-align: right;\">\n",
       "      <th></th>\n",
       "      <th>user_id</th>\n",
       "      <th>age</th>\n",
       "      <th>churn_date</th>\n",
       "      <th>city</th>\n",
       "      <th>first_name</th>\n",
       "      <th>last_name</th>\n",
       "      <th>reg_date</th>\n",
       "      <th>tariff</th>\n",
       "      <th>month</th>\n",
       "      <th>duration</th>\n",
       "      <th>calls</th>\n",
       "      <th>messages</th>\n",
       "      <th>mb_used</th>\n",
       "      <th>gb_used</th>\n",
       "    </tr>\n",
       "  </thead>\n",
       "  <tbody>\n",
       "    <tr>\n",
       "      <th>3217</th>\n",
       "      <td>1489</td>\n",
       "      <td>35</td>\n",
       "      <td>NaT</td>\n",
       "      <td>Санкт-Петербург</td>\n",
       "      <td>Павел</td>\n",
       "      <td>Гончаров</td>\n",
       "      <td>2018-08-15</td>\n",
       "      <td>smart</td>\n",
       "      <td>10.0</td>\n",
       "      <td>NaN</td>\n",
       "      <td>NaN</td>\n",
       "      <td>21.0</td>\n",
       "      <td>19559.44</td>\n",
       "      <td>20.0</td>\n",
       "    </tr>\n",
       "    <tr>\n",
       "      <th>3218</th>\n",
       "      <td>1489</td>\n",
       "      <td>35</td>\n",
       "      <td>NaT</td>\n",
       "      <td>Санкт-Петербург</td>\n",
       "      <td>Павел</td>\n",
       "      <td>Гончаров</td>\n",
       "      <td>2018-08-15</td>\n",
       "      <td>smart</td>\n",
       "      <td>11.0</td>\n",
       "      <td>NaN</td>\n",
       "      <td>NaN</td>\n",
       "      <td>20.0</td>\n",
       "      <td>17491.56</td>\n",
       "      <td>18.0</td>\n",
       "    </tr>\n",
       "    <tr>\n",
       "      <th>3219</th>\n",
       "      <td>1476</td>\n",
       "      <td>50</td>\n",
       "      <td>NaT</td>\n",
       "      <td>Москва</td>\n",
       "      <td>Валентина</td>\n",
       "      <td>Семенова</td>\n",
       "      <td>2018-04-30</td>\n",
       "      <td>ultra</td>\n",
       "      <td>4.0</td>\n",
       "      <td>NaN</td>\n",
       "      <td>NaN</td>\n",
       "      <td>NaN</td>\n",
       "      <td>530.78</td>\n",
       "      <td>1.0</td>\n",
       "    </tr>\n",
       "  </tbody>\n",
       "</table>\n",
       "</div>"
      ],
      "text/plain": [
       "      user_id  age churn_date             city first_name last_name  \\\n",
       "3217     1489   35        NaT  Санкт-Петербург      Павел  Гончаров   \n",
       "3218     1489   35        NaT  Санкт-Петербург      Павел  Гончаров   \n",
       "3219     1476   50        NaT           Москва  Валентина  Семенова   \n",
       "\n",
       "       reg_date tariff  month  duration  calls  messages   mb_used  gb_used  \n",
       "3217 2018-08-15  smart   10.0       NaN    NaN      21.0  19559.44     20.0  \n",
       "3218 2018-08-15  smart   11.0       NaN    NaN      20.0  17491.56     18.0  \n",
       "3219 2018-04-30  ultra    4.0       NaN    NaN       NaN    530.78      1.0  "
      ]
     },
     "execution_count": 57,
     "metadata": {},
     "output_type": "execute_result"
    }
   ],
   "source": [
    "users_calls_messages_internet = users_calls_messages.merge(users_internet, on=(\n",
    "    'user_id', 'age', 'churn_date', 'city', 'first_name', 'last_name', 'reg_date', 'tariff', 'month'), how='outer')\n",
    "users_calls_messages_internet.tail(3)"
   ]
  },
  {
   "cell_type": "code",
   "execution_count": 58,
   "id": "a1804669",
   "metadata": {},
   "outputs": [
    {
     "name": "stdout",
     "output_type": "stream",
     "text": [
      "<class 'pandas.core.frame.DataFrame'>\n",
      "Int64Index: 3220 entries, 0 to 3219\n",
      "Data columns (total 14 columns):\n",
      " #   Column      Non-Null Count  Dtype         \n",
      "---  ------      --------------  -----         \n",
      " 0   user_id     3220 non-null   int64         \n",
      " 1   age         3220 non-null   int64         \n",
      " 2   churn_date  193 non-null    datetime64[ns]\n",
      " 3   city        3220 non-null   object        \n",
      " 4   first_name  3220 non-null   object        \n",
      " 5   last_name   3220 non-null   object        \n",
      " 6   reg_date    3220 non-null   datetime64[ns]\n",
      " 7   tariff      3220 non-null   object        \n",
      " 8   month       3220 non-null   float64       \n",
      " 9   duration    3174 non-null   float64       \n",
      " 10  calls       3174 non-null   float64       \n",
      " 11  messages    2717 non-null   float64       \n",
      " 12  mb_used     3201 non-null   float64       \n",
      " 13  gb_used     3201 non-null   float64       \n",
      "dtypes: datetime64[ns](2), float64(6), int64(2), object(4)\n",
      "memory usage: 377.3+ KB\n"
     ]
    }
   ],
   "source": [
    "users_calls_messages_internet.info()"
   ]
  },
  {
   "cell_type": "markdown",
   "id": "2d923fae",
   "metadata": {},
   "source": [
    "Сформируем итоговую таблицу *data*, в которой для каждого пользователя известны продолжительность и количество звонков, количество сообщений и использованного трафика по месяцам и условия используемого тарифа. "
   ]
  },
  {
   "cell_type": "code",
   "execution_count": 59,
   "id": "0f975466",
   "metadata": {},
   "outputs": [],
   "source": [
    "tariffs.columns = ['messages_included', 'mb_per_month_included', 'minutes_included', \n",
    "                   'rub_monthly_fee', 'rub_per_gb', 'rub_per_message', 'rub_per_minute', 'tariff', 'gb_per_month_included']"
   ]
  },
  {
   "cell_type": "code",
   "execution_count": 60,
   "id": "60f95b76",
   "metadata": {},
   "outputs": [
    {
     "data": {
      "text/plain": [
       "user_id                                 1476\n",
       "age                                       50\n",
       "churn_date                               NaT\n",
       "city                                  Москва\n",
       "first_name                         Валентина\n",
       "last_name                           Семенова\n",
       "reg_date                 2018-04-30 00:00:00\n",
       "tariff                                 ultra\n",
       "month                                    4.0\n",
       "duration                                 NaN\n",
       "calls                                    NaN\n",
       "messages                                 NaN\n",
       "mb_used                               530.78\n",
       "gb_used                                  1.0\n",
       "messages_included                       1000\n",
       "mb_per_month_included                  30720\n",
       "minutes_included                        3000\n",
       "rub_monthly_fee                         1950\n",
       "rub_per_gb                               150\n",
       "rub_per_message                            1\n",
       "rub_per_minute                             1\n",
       "gb_per_month_included                   30.0\n",
       "Name: 3219, dtype: object"
      ]
     },
     "execution_count": 60,
     "metadata": {},
     "output_type": "execute_result"
    }
   ],
   "source": [
    "data = users_calls_messages_internet.merge(tariffs, on='tariff', how='left')\n",
    "data.loc[3219]"
   ]
  },
  {
   "cell_type": "markdown",
   "id": "778a2f7f",
   "metadata": {},
   "source": [
    "Вывод последней строки показывает, что данные соединены верно. У пользователей, которые использовали одну или две функции тарифа сохранились данные по всем столбцам, что делает дальнейший анализ более репрезентативным. "
   ]
  },
  {
   "cell_type": "code",
   "execution_count": 61,
   "id": "548ff08d",
   "metadata": {},
   "outputs": [
    {
     "name": "stdout",
     "output_type": "stream",
     "text": [
      "<class 'pandas.core.frame.DataFrame'>\n",
      "Int64Index: 3220 entries, 0 to 3219\n",
      "Data columns (total 22 columns):\n",
      " #   Column                 Non-Null Count  Dtype         \n",
      "---  ------                 --------------  -----         \n",
      " 0   user_id                3220 non-null   int64         \n",
      " 1   age                    3220 non-null   int64         \n",
      " 2   churn_date             193 non-null    datetime64[ns]\n",
      " 3   city                   3220 non-null   object        \n",
      " 4   first_name             3220 non-null   object        \n",
      " 5   last_name              3220 non-null   object        \n",
      " 6   reg_date               3220 non-null   datetime64[ns]\n",
      " 7   tariff                 3220 non-null   object        \n",
      " 8   month                  3220 non-null   float64       \n",
      " 9   duration               3174 non-null   float64       \n",
      " 10  calls                  3174 non-null   float64       \n",
      " 11  messages               2717 non-null   float64       \n",
      " 12  mb_used                3201 non-null   float64       \n",
      " 13  gb_used                3201 non-null   float64       \n",
      " 14  messages_included      3220 non-null   int64         \n",
      " 15  mb_per_month_included  3220 non-null   int64         \n",
      " 16  minutes_included       3220 non-null   int64         \n",
      " 17  rub_monthly_fee        3220 non-null   int64         \n",
      " 18  rub_per_gb             3220 non-null   int64         \n",
      " 19  rub_per_message        3220 non-null   int64         \n",
      " 20  rub_per_minute         3220 non-null   int64         \n",
      " 21  gb_per_month_included  3220 non-null   float64       \n",
      "dtypes: datetime64[ns](2), float64(7), int64(9), object(4)\n",
      "memory usage: 707.6+ KB\n"
     ]
    }
   ],
   "source": [
    "data.info()"
   ]
  },
  {
   "cell_type": "markdown",
   "id": "7827c017",
   "metadata": {},
   "source": [
    "Заменим пропуски в данных о длительности и количестве звонков, смс и потраченном интернет-трафике в гб на нули, поскольку они означают, что юзер не пользовался опциями и не израсходовал предложенный в тарифе пакет. "
   ]
  },
  {
   "cell_type": "code",
   "execution_count": 62,
   "id": "18b570d5",
   "metadata": {},
   "outputs": [],
   "source": [
    "data['duration'] = data['duration'].fillna(0)\n",
    "data['calls'] = data['calls'].fillna(0)\n",
    "data['messages'] = data['messages'].fillna(0)\n",
    "data['gb_used'] = data['gb_used'].fillna(0)"
   ]
  },
  {
   "cell_type": "markdown",
   "id": "6c160f16",
   "metadata": {},
   "source": [
    "Теперь посчитаем помесячную выручку: необходимо вычесть бесплатный лимит из суммарного количества звонков, сообщений и интернет-трафика; остаток умножить на значение из тарифного плана; прибавить абонентскую плату, соответствующую тарифному плану. \n",
    "\n",
    "Введем отдельные функции, которые считают количество потраченных минут, смс и трафика, сравнивают их с пакетом в тарифе и возвращают *0*, если сверх лимита потрачено не было и *количество потраченных единиц - лимит*, если их количество за месяц было выше данных в тарифе. "
   ]
  },
  {
   "cell_type": "code",
   "execution_count": 63,
   "id": "975cce50",
   "metadata": {},
   "outputs": [],
   "source": [
    "def minutes_overspent(row): \n",
    "    minutes = row['duration']\n",
    "    minutes_included = row['minutes_included']\n",
    "    if minutes > minutes_included: \n",
    "        return minutes - minutes_included\n",
    "    else: \n",
    "        return 0\n",
    "    \n",
    "data['minutes_overspent'] = data.apply(minutes_overspent, axis=1)"
   ]
  },
  {
   "cell_type": "code",
   "execution_count": 64,
   "id": "6dc92a79",
   "metadata": {},
   "outputs": [],
   "source": [
    "def messages_overspent(row): \n",
    "    messages = row['messages']\n",
    "    messages_included = row['messages_included']\n",
    "    if messages > messages_included: \n",
    "        return messages - messages_included\n",
    "    else: \n",
    "        return 0\n",
    "\n",
    "data['messages_overspent'] = data.apply(messages_overspent, axis=1)"
   ]
  },
  {
   "cell_type": "code",
   "execution_count": 65,
   "id": "5536bb8e",
   "metadata": {},
   "outputs": [],
   "source": [
    "def gb_overspent(row): \n",
    "    gb = row['gb_used']\n",
    "    gb_included = row['gb_per_month_included']\n",
    "    if gb > gb_included: \n",
    "        return gb - gb_included\n",
    "    else: \n",
    "        return 0\n",
    "\n",
    "data['gb_overspent'] = data.apply(gb_overspent, axis=1)"
   ]
  },
  {
   "cell_type": "code",
   "execution_count": 66,
   "id": "4b88cb7e",
   "metadata": {
    "scrolled": true
   },
   "outputs": [
    {
     "data": {
      "text/plain": [
       "user_id                                 1005\n",
       "age                                       67\n",
       "churn_date                               NaT\n",
       "city                        Набережные Челны\n",
       "first_name                          Афанасий\n",
       "last_name                             Горлов\n",
       "reg_date                 2018-01-25 00:00:00\n",
       "tariff                                 smart\n",
       "month                                    8.0\n",
       "duration                               619.0\n",
       "calls                                   71.0\n",
       "messages                                64.0\n",
       "mb_used                              7543.63\n",
       "gb_used                                  8.0\n",
       "messages_included                         50\n",
       "mb_per_month_included                  15360\n",
       "minutes_included                         500\n",
       "rub_monthly_fee                          550\n",
       "rub_per_gb                               200\n",
       "rub_per_message                            3\n",
       "rub_per_minute                             3\n",
       "gb_per_month_included                   15.0\n",
       "minutes_overspent                      119.0\n",
       "messages_overspent                      14.0\n",
       "gb_overspent                             0.0\n",
       "Name: 37, dtype: object"
      ]
     },
     "execution_count": 66,
     "metadata": {},
     "output_type": "execute_result"
    }
   ],
   "source": [
    "data.loc[37]"
   ]
  },
  {
   "cell_type": "markdown",
   "id": "67f77a5f",
   "metadata": {},
   "source": [
    "Так, например, вывод рандомной строки показывает, что Афанасию из Набережных Челнов не хватает тарифа *smart* для звонков и сообщений, поскольку он выходит за рамки лимита, однако, мало пользуется интернетом и почти не расходует предоставленные гб. "
   ]
  },
  {
   "cell_type": "markdown",
   "id": "8a180a08",
   "metadata": {},
   "source": [
    "Далее нам необходимо по каждому пользователю посчитать переплату сверх тарифа.  "
   ]
  },
  {
   "cell_type": "code",
   "execution_count": 67,
   "id": "24f3f8e5",
   "metadata": {},
   "outputs": [],
   "source": [
    "data['overpayment'] = data['minutes_overspent'] * data['rub_per_minute'] + \\\n",
    "data['messages_overspent'] * data['rub_per_message'] + \\\n",
    "data['gb_overspent'] * data['rub_per_gb']"
   ]
  },
  {
   "cell_type": "code",
   "execution_count": 68,
   "id": "3603191a",
   "metadata": {
    "scrolled": true
   },
   "outputs": [
    {
     "data": {
      "text/plain": [
       "user_id                                 1005\n",
       "age                                       67\n",
       "churn_date                               NaT\n",
       "city                        Набережные Челны\n",
       "first_name                          Афанасий\n",
       "last_name                             Горлов\n",
       "reg_date                 2018-01-25 00:00:00\n",
       "tariff                                 smart\n",
       "month                                    8.0\n",
       "duration                               619.0\n",
       "calls                                   71.0\n",
       "messages                                64.0\n",
       "mb_used                              7543.63\n",
       "gb_used                                  8.0\n",
       "messages_included                         50\n",
       "mb_per_month_included                  15360\n",
       "minutes_included                         500\n",
       "rub_monthly_fee                          550\n",
       "rub_per_gb                               200\n",
       "rub_per_message                            3\n",
       "rub_per_minute                             3\n",
       "gb_per_month_included                   15.0\n",
       "minutes_overspent                      119.0\n",
       "messages_overspent                      14.0\n",
       "gb_overspent                             0.0\n",
       "overpayment                            399.0\n",
       "Name: 37, dtype: object"
      ]
     },
     "execution_count": 68,
     "metadata": {},
     "output_type": "execute_result"
    }
   ],
   "source": [
    "data.loc[37]"
   ]
  },
  {
   "cell_type": "markdown",
   "id": "02af7d68",
   "metadata": {},
   "source": [
    "Несмотря на то, что Афанасий переплатил в августе 399 рублей сверх тарифа *smart*, ему все равно выгоден этот тариф больше, чем *ultra* с ежемесячной платой 1950 рублей. "
   ]
  },
  {
   "cell_type": "markdown",
   "id": "de8bb6ab",
   "metadata": {},
   "source": [
    "Последний шаг - посчитать ежемесячную выручку мобильного оператора по каждому пользователю, прибавив абонентскую плату. "
   ]
  },
  {
   "cell_type": "code",
   "execution_count": 69,
   "id": "da3603c6",
   "metadata": {},
   "outputs": [],
   "source": [
    "data['monthly_revenue'] = data['overpayment'] + data['rub_monthly_fee']"
   ]
  },
  {
   "cell_type": "code",
   "execution_count": 70,
   "id": "6cc93a70",
   "metadata": {},
   "outputs": [],
   "source": [
    "data['monthly_revenue'] = data['monthly_revenue'].astype('int')"
   ]
  },
  {
   "cell_type": "markdown",
   "id": "568fd127",
   "metadata": {},
   "source": [
    "Удалим ненужные для анализа столбцы. "
   ]
  },
  {
   "cell_type": "code",
   "execution_count": 71,
   "id": "552c19ec",
   "metadata": {
    "scrolled": true
   },
   "outputs": [],
   "source": [
    "data = data.drop('first_name', axis=1)"
   ]
  },
  {
   "cell_type": "code",
   "execution_count": 72,
   "id": "2bcea4fa",
   "metadata": {},
   "outputs": [],
   "source": [
    "data = data.drop('last_name', axis=1)"
   ]
  },
  {
   "cell_type": "code",
   "execution_count": 73,
   "id": "ee9ea3d9",
   "metadata": {},
   "outputs": [
    {
     "data": {
      "text/html": [
       "<div>\n",
       "<style scoped>\n",
       "    .dataframe tbody tr th:only-of-type {\n",
       "        vertical-align: middle;\n",
       "    }\n",
       "\n",
       "    .dataframe tbody tr th {\n",
       "        vertical-align: top;\n",
       "    }\n",
       "\n",
       "    .dataframe thead th {\n",
       "        text-align: right;\n",
       "    }\n",
       "</style>\n",
       "<table border=\"1\" class=\"dataframe\">\n",
       "  <thead>\n",
       "    <tr style=\"text-align: right;\">\n",
       "      <th></th>\n",
       "      <th>user_id</th>\n",
       "      <th>age</th>\n",
       "      <th>churn_date</th>\n",
       "      <th>city</th>\n",
       "      <th>reg_date</th>\n",
       "      <th>tariff</th>\n",
       "      <th>month</th>\n",
       "      <th>duration</th>\n",
       "      <th>calls</th>\n",
       "      <th>messages</th>\n",
       "      <th>...</th>\n",
       "      <th>rub_monthly_fee</th>\n",
       "      <th>rub_per_gb</th>\n",
       "      <th>rub_per_message</th>\n",
       "      <th>rub_per_minute</th>\n",
       "      <th>gb_per_month_included</th>\n",
       "      <th>minutes_overspent</th>\n",
       "      <th>messages_overspent</th>\n",
       "      <th>gb_overspent</th>\n",
       "      <th>overpayment</th>\n",
       "      <th>monthly_revenue</th>\n",
       "    </tr>\n",
       "  </thead>\n",
       "  <tbody>\n",
       "    <tr>\n",
       "      <th>3215</th>\n",
       "      <td>1489</td>\n",
       "      <td>35</td>\n",
       "      <td>NaT</td>\n",
       "      <td>Санкт-Петербург</td>\n",
       "      <td>2018-08-15</td>\n",
       "      <td>smart</td>\n",
       "      <td>8.0</td>\n",
       "      <td>0.0</td>\n",
       "      <td>0.0</td>\n",
       "      <td>17.0</td>\n",
       "      <td>...</td>\n",
       "      <td>550</td>\n",
       "      <td>200</td>\n",
       "      <td>3</td>\n",
       "      <td>3</td>\n",
       "      <td>15.0</td>\n",
       "      <td>0.0</td>\n",
       "      <td>0.0</td>\n",
       "      <td>0.0</td>\n",
       "      <td>0.0</td>\n",
       "      <td>550</td>\n",
       "    </tr>\n",
       "    <tr>\n",
       "      <th>3216</th>\n",
       "      <td>1489</td>\n",
       "      <td>35</td>\n",
       "      <td>NaT</td>\n",
       "      <td>Санкт-Петербург</td>\n",
       "      <td>2018-08-15</td>\n",
       "      <td>smart</td>\n",
       "      <td>9.0</td>\n",
       "      <td>0.0</td>\n",
       "      <td>0.0</td>\n",
       "      <td>32.0</td>\n",
       "      <td>...</td>\n",
       "      <td>550</td>\n",
       "      <td>200</td>\n",
       "      <td>3</td>\n",
       "      <td>3</td>\n",
       "      <td>15.0</td>\n",
       "      <td>0.0</td>\n",
       "      <td>0.0</td>\n",
       "      <td>2.0</td>\n",
       "      <td>400.0</td>\n",
       "      <td>950</td>\n",
       "    </tr>\n",
       "    <tr>\n",
       "      <th>3217</th>\n",
       "      <td>1489</td>\n",
       "      <td>35</td>\n",
       "      <td>NaT</td>\n",
       "      <td>Санкт-Петербург</td>\n",
       "      <td>2018-08-15</td>\n",
       "      <td>smart</td>\n",
       "      <td>10.0</td>\n",
       "      <td>0.0</td>\n",
       "      <td>0.0</td>\n",
       "      <td>21.0</td>\n",
       "      <td>...</td>\n",
       "      <td>550</td>\n",
       "      <td>200</td>\n",
       "      <td>3</td>\n",
       "      <td>3</td>\n",
       "      <td>15.0</td>\n",
       "      <td>0.0</td>\n",
       "      <td>0.0</td>\n",
       "      <td>5.0</td>\n",
       "      <td>1000.0</td>\n",
       "      <td>1550</td>\n",
       "    </tr>\n",
       "    <tr>\n",
       "      <th>3218</th>\n",
       "      <td>1489</td>\n",
       "      <td>35</td>\n",
       "      <td>NaT</td>\n",
       "      <td>Санкт-Петербург</td>\n",
       "      <td>2018-08-15</td>\n",
       "      <td>smart</td>\n",
       "      <td>11.0</td>\n",
       "      <td>0.0</td>\n",
       "      <td>0.0</td>\n",
       "      <td>20.0</td>\n",
       "      <td>...</td>\n",
       "      <td>550</td>\n",
       "      <td>200</td>\n",
       "      <td>3</td>\n",
       "      <td>3</td>\n",
       "      <td>15.0</td>\n",
       "      <td>0.0</td>\n",
       "      <td>0.0</td>\n",
       "      <td>3.0</td>\n",
       "      <td>600.0</td>\n",
       "      <td>1150</td>\n",
       "    </tr>\n",
       "    <tr>\n",
       "      <th>3219</th>\n",
       "      <td>1476</td>\n",
       "      <td>50</td>\n",
       "      <td>NaT</td>\n",
       "      <td>Москва</td>\n",
       "      <td>2018-04-30</td>\n",
       "      <td>ultra</td>\n",
       "      <td>4.0</td>\n",
       "      <td>0.0</td>\n",
       "      <td>0.0</td>\n",
       "      <td>0.0</td>\n",
       "      <td>...</td>\n",
       "      <td>1950</td>\n",
       "      <td>150</td>\n",
       "      <td>1</td>\n",
       "      <td>1</td>\n",
       "      <td>30.0</td>\n",
       "      <td>0.0</td>\n",
       "      <td>0.0</td>\n",
       "      <td>0.0</td>\n",
       "      <td>0.0</td>\n",
       "      <td>1950</td>\n",
       "    </tr>\n",
       "  </tbody>\n",
       "</table>\n",
       "<p>5 rows × 25 columns</p>\n",
       "</div>"
      ],
      "text/plain": [
       "      user_id  age churn_date             city   reg_date tariff  month  \\\n",
       "3215     1489   35        NaT  Санкт-Петербург 2018-08-15  smart    8.0   \n",
       "3216     1489   35        NaT  Санкт-Петербург 2018-08-15  smart    9.0   \n",
       "3217     1489   35        NaT  Санкт-Петербург 2018-08-15  smart   10.0   \n",
       "3218     1489   35        NaT  Санкт-Петербург 2018-08-15  smart   11.0   \n",
       "3219     1476   50        NaT           Москва 2018-04-30  ultra    4.0   \n",
       "\n",
       "      duration  calls  messages  ...  rub_monthly_fee  rub_per_gb  \\\n",
       "3215       0.0    0.0      17.0  ...              550         200   \n",
       "3216       0.0    0.0      32.0  ...              550         200   \n",
       "3217       0.0    0.0      21.0  ...              550         200   \n",
       "3218       0.0    0.0      20.0  ...              550         200   \n",
       "3219       0.0    0.0       0.0  ...             1950         150   \n",
       "\n",
       "      rub_per_message  rub_per_minute  gb_per_month_included  \\\n",
       "3215                3               3                   15.0   \n",
       "3216                3               3                   15.0   \n",
       "3217                3               3                   15.0   \n",
       "3218                3               3                   15.0   \n",
       "3219                1               1                   30.0   \n",
       "\n",
       "      minutes_overspent  messages_overspent  gb_overspent  overpayment  \\\n",
       "3215                0.0                 0.0           0.0          0.0   \n",
       "3216                0.0                 0.0           2.0        400.0   \n",
       "3217                0.0                 0.0           5.0       1000.0   \n",
       "3218                0.0                 0.0           3.0        600.0   \n",
       "3219                0.0                 0.0           0.0          0.0   \n",
       "\n",
       "      monthly_revenue  \n",
       "3215              550  \n",
       "3216              950  \n",
       "3217             1550  \n",
       "3218             1150  \n",
       "3219             1950  \n",
       "\n",
       "[5 rows x 25 columns]"
      ]
     },
     "execution_count": 73,
     "metadata": {},
     "output_type": "execute_result"
    }
   ],
   "source": [
    "data.tail()"
   ]
  },
  {
   "cell_type": "markdown",
   "id": "e4e89415",
   "metadata": {},
   "source": [
    "***Вывод***"
   ]
  },
  {
   "cell_type": "markdown",
   "id": "0ba4b488",
   "metadata": {},
   "source": [
    "Итоговая таблица данных содержит в себе ежемесячную информацию по каждому пользователю с указанием тарифа и его условий, использованных сверх пакета минут, смс и веб-трафика, переплатами и конечной выручкой. "
   ]
  },
  {
   "cell_type": "markdown",
   "id": "b29853b2",
   "metadata": {},
   "source": [
    "## Анализ и описание данных"
   ]
  },
  {
   "cell_type": "markdown",
   "id": "af30c086",
   "metadata": {},
   "source": [
    "Проведем статистический анализ и посчитаем, сколько минут разговора, сколько сообщений и какой объём интернет-трафика требуется пользователям каждого тарифа в месяц. "
   ]
  },
  {
   "cell_type": "markdown",
   "id": "e43dece2",
   "metadata": {},
   "source": [
    "**Звонки**"
   ]
  },
  {
   "cell_type": "code",
   "execution_count": 74,
   "id": "c95b0f96",
   "metadata": {},
   "outputs": [
    {
     "data": {
      "text/plain": [
       "count    3220.000000\n",
       "mean      450.404037\n",
       "std       242.466884\n",
       "min         0.000000\n",
       "25%       282.000000\n",
       "50%       443.000000\n",
       "75%       589.000000\n",
       "max      1673.000000\n",
       "Name: duration, dtype: float64"
      ]
     },
     "execution_count": 74,
     "metadata": {},
     "output_type": "execute_result"
    }
   ],
   "source": [
    "data['duration'].describe()"
   ]
  },
  {
   "cell_type": "code",
   "execution_count": 75,
   "id": "a0219805",
   "metadata": {},
   "outputs": [
    {
     "data": {
      "image/png": "[encoded data removed]",
      "text/plain": [
       "<Figure size 144x720 with 1 Axes>"
      ]
     },
     "metadata": {
      "needs_background": "light"
     },
     "output_type": "display_data"
    }
   ],
   "source": [
    "data.boxplot('duration', figsize=(2, 10))\n",
    "plt.show()"
   ]
  },
  {
   "cell_type": "markdown",
   "id": "6f86d8b5",
   "metadata": {},
   "source": [
    "Диаграмма размаха показывает, что в среднем в месяц пользователи звонили около 450 минут, однако наблюдаются значения, превышающие 1050 минут в месяц вплоть до 1673. Выбросы важны, поскольку мобильный оператор предоставляет 3000 минут в тарифе *ultra*. Это говорит нам о том, что ни один пользователь не превысил лимит по минутам, даже пользуясь более дорогим тарифом. \n",
    "\n",
    "Если провести простые математические вычисления, можно заметить, что если пользователь, который проговорил в месяц 1673 минут, использовал бы тариф *smart*, то только со звонков конкретного человека оператор получил бы 3519, не считая абонентской платы ((1673 - 500) * 3). "
   ]
  },
  {
   "cell_type": "code",
   "execution_count": 76,
   "id": "f4e660b8",
   "metadata": {},
   "outputs": [
    {
     "data": {
      "image/png": "[encoded data removed]",
      "text/plain": [
       "<Figure size 432x288 with 1 Axes>"
      ]
     },
     "metadata": {
      "needs_background": "light"
     },
     "output_type": "display_data"
    }
   ],
   "source": [
    "data.pivot_table(index='tariff', values='duration', aggfunc='mean').plot(kind='bar')\n",
    "plt.show()"
   ]
  },
  {
   "cell_type": "markdown",
   "id": "77fc2ffb",
   "metadata": {},
   "source": [
    "График показывает, что в среднем, звонки пользователей тарифа *ultra* дольше. Посчитаем среднее, дисперсию и стандартное отклонение для каждого тарифа. Необходимо учитывать, что имеющиеся у нас данные - выборка. "
   ]
  },
  {
   "cell_type": "code",
   "execution_count": 77,
   "id": "3db806a8",
   "metadata": {},
   "outputs": [],
   "source": [
    "smart = data.query('tariff == \"smart\"')\n",
    "ultra = data.query('tariff == \"ultra\"')"
   ]
  },
  {
   "cell_type": "code",
   "execution_count": 78,
   "id": "1008b678",
   "metadata": {},
   "outputs": [
    {
     "data": {
      "text/plain": [
       "417.56028686687586"
      ]
     },
     "execution_count": 78,
     "metadata": {},
     "output_type": "execute_result"
    }
   ],
   "source": [
    "mean_smart_calls = np.mean(smart['duration'])\n",
    "mean_smart_calls"
   ]
  },
  {
   "cell_type": "code",
   "execution_count": 79,
   "id": "f99a18a6",
   "metadata": {},
   "outputs": [
    {
     "data": {
      "text/plain": [
       "36343.34602754098"
      ]
     },
     "execution_count": 79,
     "metadata": {},
     "output_type": "execute_result"
    }
   ],
   "source": [
    "var_smart_calls = np.var(smart['duration'], ddof=1)\n",
    "var_smart_calls"
   ]
  },
  {
   "cell_type": "code",
   "execution_count": 80,
   "id": "bb5eee8f",
   "metadata": {},
   "outputs": [
    {
     "data": {
      "text/plain": [
       "190.6393087155453"
      ]
     },
     "execution_count": 80,
     "metadata": {},
     "output_type": "execute_result"
    }
   ],
   "source": [
    "std_smart_calls = np.sqrt(var_smart_calls)\n",
    "std_smart_calls"
   ]
  },
  {
   "cell_type": "code",
   "execution_count": 81,
   "id": "02baa7ed",
   "metadata": {
    "scrolled": false
   },
   "outputs": [
    {
     "data": {
      "image/png": "[encoded data removed]",
      "text/plain": [
       "<Figure size 720x360 with 1 Axes>"
      ]
     },
     "metadata": {
      "needs_background": "light"
     },
     "output_type": "display_data"
    }
   ],
   "source": [
    "fig, ax = plt.subplots(figsize=(10, 5))\n",
    "ax.set_title('Smart calls')\n",
    "ax.hist(smart['duration'], color='red')\n",
    "plt.show()"
   ]
  },
  {
   "cell_type": "code",
   "execution_count": 82,
   "id": "f0928d96",
   "metadata": {},
   "outputs": [
    {
     "name": "stdout",
     "output_type": "stream",
     "text": [
      "Интервал: -154.35763927976 - 989.4782130135118\n"
     ]
    }
   ],
   "source": [
    "smart_calls_bottom_line = mean_smart_calls - 3 * std_smart_calls\n",
    "smart_calls_top_line = mean_smart_calls + 3 * std_smart_calls\n",
    "print('Интервал:', smart_calls_bottom_line, '-', smart_calls_top_line)"
   ]
  },
  {
   "cell_type": "code",
   "execution_count": 83,
   "id": "648f9080",
   "metadata": {},
   "outputs": [
    {
     "data": {
      "text/plain": [
       "754"
      ]
     },
     "execution_count": 83,
     "metadata": {},
     "output_type": "execute_result"
    }
   ],
   "source": [
    "len(smart.query('duration > 500'))"
   ]
  },
  {
   "cell_type": "code",
   "execution_count": 84,
   "id": "09fc26e4",
   "metadata": {},
   "outputs": [
    {
     "data": {
      "text/plain": [
       "2231"
      ]
     },
     "execution_count": 84,
     "metadata": {},
     "output_type": "execute_result"
    }
   ],
   "source": [
    "len(smart)"
   ]
  },
  {
   "cell_type": "markdown",
   "id": "ca559039",
   "metadata": {},
   "source": [
    "Данные о потраченных пользователями минутах на тарифе *smart* соответствуют нормальному распределению с небольшой долей выбросов. Значения расположены вокруг среднего, равному 417 минут. Однако наибольшее количество значений лежит в интервале от 430 до 574 минут. В 754 случаях (33,8%) пользователи выходили за рамки предложенного месячного лимита и тратили больше 500 минут. \n",
    "\n",
    "Стандартное отклонение равно 190. В 68% случаев, по ЦПТ, пользователи тратят от 227 до 607 минут. Согласно правилу трех сигм, практически все значения находятся в интервале: минус три сигмы/плюс три сигмы от среднего. В данном случае только 7 значений превышают заданный интервал, что не является и процентом от датасета. "
   ]
  },
  {
   "cell_type": "code",
   "execution_count": 85,
   "id": "a2bdd5ce",
   "metadata": {},
   "outputs": [
    {
     "data": {
      "text/plain": [
       "524.4934277047523"
      ]
     },
     "execution_count": 85,
     "metadata": {},
     "output_type": "execute_result"
    }
   ],
   "source": [
    "mean_ultra_calls = np.mean(ultra['duration'])\n",
    "mean_ultra_calls "
   ]
  },
  {
   "cell_type": "code",
   "execution_count": 86,
   "id": "86b38cd5",
   "metadata": {},
   "outputs": [
    {
     "data": {
      "text/plain": [
       "101583.49919765213"
      ]
     },
     "execution_count": 86,
     "metadata": {},
     "output_type": "execute_result"
    }
   ],
   "source": [
    "var_ultra_calls = np.var(ultra['duration'], ddof=1)\n",
    "var_ultra_calls "
   ]
  },
  {
   "cell_type": "code",
   "execution_count": 87,
   "id": "ddbc9c7d",
   "metadata": {},
   "outputs": [
    {
     "data": {
      "text/plain": [
       "318.7216641485987"
      ]
     },
     "execution_count": 87,
     "metadata": {},
     "output_type": "execute_result"
    }
   ],
   "source": [
    "std_ultra_calls = np.sqrt(var_ultra_calls)\n",
    "std_ultra_calls"
   ]
  },
  {
   "cell_type": "code",
   "execution_count": 88,
   "id": "66ca0bf4",
   "metadata": {},
   "outputs": [
    {
     "data": {
      "image/png": "[encoded data removed]",
      "text/plain": [
       "<Figure size 720x360 with 1 Axes>"
      ]
     },
     "metadata": {
      "needs_background": "light"
     },
     "output_type": "display_data"
    }
   ],
   "source": [
    "fig, ax = plt.subplots(figsize=(10, 5))\n",
    "ax.set_title('Ultra calls')\n",
    "ax.hist(ultra['duration'], color='green')\n",
    "plt.show()"
   ]
  },
  {
   "cell_type": "code",
   "execution_count": 89,
   "id": "9130b9b3",
   "metadata": {},
   "outputs": [
    {
     "name": "stdout",
     "output_type": "stream",
     "text": [
      "Интервал: -431.67156474104377 - 1480.6584201505484\n"
     ]
    }
   ],
   "source": [
    "ultra_calls_bottom_line = mean_ultra_calls - 3 * std_ultra_calls\n",
    "ultra_calls_top_line = mean_ultra_calls + 3 * std_ultra_calls\n",
    "print('Интервал:', ultra_calls_bottom_line, '-', ultra_calls_top_line)"
   ]
  },
  {
   "cell_type": "markdown",
   "id": "4cab2cbe",
   "metadata": {},
   "source": [
    "Среднее для пользователей тарифа *ultra* составляет 524 минуты. Относительное большинство значений лежит в интервале от 501 до 669 минут. Также достаточно много тех, кто звонил меньше 334 минут в месяц. Плотность этого интервала выше. Распределение не выглядит нормальным, поскольку среди пользователей этого тарифа много тех, кто совсем не использовал опцию звонков на телефоне. Посмотрим на гистограмму без учета этих данных.  "
   ]
  },
  {
   "cell_type": "code",
   "execution_count": 90,
   "id": "a87799d0",
   "metadata": {},
   "outputs": [
    {
     "data": {
      "image/png": "[encoded data removed]",
      "text/plain": [
       "<Figure size 720x360 with 1 Axes>"
      ]
     },
     "metadata": {
      "needs_background": "light"
     },
     "output_type": "display_data"
    }
   ],
   "source": [
    "ultra_calls_cut = ultra.query('duration != 0')\n",
    "fig, ax = plt.subplots(figsize=(10, 5))\n",
    "ax.set_title('Ultra calls cut')\n",
    "ax.hist(ultra_calls_cut['duration'], color='green')\n",
    "plt.show()"
   ]
  },
  {
   "cell_type": "markdown",
   "id": "f1ede817",
   "metadata": {},
   "source": [
    "Это распределение больше соответствует нормальному с некоторым количеством выбросов, которых, согласно правилу трех стандартных отклонений, не больше 5. Однако все еще много пользователей не используют и десятую часть предоставленного в тарифе лимита минут. "
   ]
  },
  {
   "cell_type": "markdown",
   "id": "df884fd3",
   "metadata": {},
   "source": [
    "**Сообщения**"
   ]
  },
  {
   "cell_type": "code",
   "execution_count": 91,
   "id": "b1c3f5ac",
   "metadata": {},
   "outputs": [
    {
     "data": {
      "text/plain": [
       "count    3220.000000\n",
       "mean       38.209938\n",
       "std        36.152348\n",
       "min         0.000000\n",
       "25%         9.000000\n",
       "50%        30.000000\n",
       "75%        57.000000\n",
       "max       224.000000\n",
       "Name: messages, dtype: float64"
      ]
     },
     "execution_count": 91,
     "metadata": {},
     "output_type": "execute_result"
    }
   ],
   "source": [
    "data['messages'].describe()"
   ]
  },
  {
   "cell_type": "code",
   "execution_count": 92,
   "id": "5a00a45a",
   "metadata": {},
   "outputs": [
    {
     "data": {
      "image/png": "[encoded data removed]",
      "text/plain": [
       "<Figure size 144x720 with 1 Axes>"
      ]
     },
     "metadata": {
      "needs_background": "light"
     },
     "output_type": "display_data"
    }
   ],
   "source": [
    "data.boxplot('messages', figsize=(2, 10))\n",
    "plt.show()"
   ]
  },
  {
   "cell_type": "markdown",
   "id": "82f0af42",
   "metadata": {},
   "source": [
    "В среднем пользователи отправляют 30 смс в месяц. Но есть и те, кто пишет часто и превышает порог в 130 сообщений. Проблема в том, что ни один из них не превысил лимит в 1000 сообщений, предоставленный оператором на тарифе *ultra*. На данном этапе можно предположить, что единственной опцией мобильного оператора получить сверхвыручку с пользователей тарифа *ultra* является интернет-трафик. "
   ]
  },
  {
   "cell_type": "code",
   "execution_count": 93,
   "id": "be6e0fbe",
   "metadata": {},
   "outputs": [
    {
     "data": {
      "image/png": "[encoded data removed]",
      "text/plain": [
       "<Figure size 432x288 with 1 Axes>"
      ]
     },
     "metadata": {
      "needs_background": "light"
     },
     "output_type": "display_data"
    }
   ],
   "source": [
    "data.pivot_table(index='tariff', values='messages', aggfunc='mean').plot(kind='bar')\n",
    "plt.show()"
   ]
  },
  {
   "cell_type": "code",
   "execution_count": 94,
   "id": "33164b6a",
   "metadata": {},
   "outputs": [
    {
     "data": {
      "text/plain": [
       "33.35410129986553"
      ]
     },
     "execution_count": 94,
     "metadata": {},
     "output_type": "execute_result"
    }
   ],
   "source": [
    "mean_smart_messages = np.mean(smart['messages'])\n",
    "mean_smart_messages"
   ]
  },
  {
   "cell_type": "code",
   "execution_count": 95,
   "id": "178bb4cc",
   "metadata": {},
   "outputs": [
    {
     "data": {
      "text/plain": [
       "797.096977566413"
      ]
     },
     "execution_count": 95,
     "metadata": {},
     "output_type": "execute_result"
    }
   ],
   "source": [
    "var_smart_messages = np.var(smart['messages'], ddof=1)\n",
    "var_smart_messages"
   ]
  },
  {
   "cell_type": "code",
   "execution_count": 96,
   "id": "2ba1801c",
   "metadata": {},
   "outputs": [
    {
     "data": {
      "text/plain": [
       "28.232905935564144"
      ]
     },
     "execution_count": 96,
     "metadata": {},
     "output_type": "execute_result"
    }
   ],
   "source": [
    "std_smart_messages = np.sqrt(var_smart_messages)\n",
    "std_smart_messages"
   ]
  },
  {
   "cell_type": "code",
   "execution_count": 97,
   "id": "78a9582d",
   "metadata": {},
   "outputs": [
    {
     "data": {
      "image/png": "[encoded data removed]",
      "text/plain": [
       "<Figure size 720x360 with 1 Axes>"
      ]
     },
     "metadata": {
      "needs_background": "light"
     },
     "output_type": "display_data"
    }
   ],
   "source": [
    "fig, ax = plt.subplots(figsize=(10, 5))\n",
    "ax.set_title('Smart messages')\n",
    "ax.hist(smart['messages'], color='red')\n",
    "plt.show()"
   ]
  },
  {
   "cell_type": "code",
   "execution_count": 98,
   "id": "b8b3e3ec",
   "metadata": {},
   "outputs": [
    {
     "data": {
      "text/plain": [
       "309"
      ]
     },
     "execution_count": 98,
     "metadata": {},
     "output_type": "execute_result"
    }
   ],
   "source": [
    "len(smart.query('messages == 0'))"
   ]
  },
  {
   "cell_type": "markdown",
   "id": "adb8d1f1",
   "metadata": {},
   "source": [
    "Почти 14% пользователей тарифа не используют смс. Посмотрим на гистаграмму по срезу, где количество сообщений не равно нулю.  "
   ]
  },
  {
   "cell_type": "code",
   "execution_count": 99,
   "id": "08564bd6",
   "metadata": {},
   "outputs": [
    {
     "data": {
      "image/png": "[encoded data removed]",
      "text/plain": [
       "<Figure size 720x360 with 1 Axes>"
      ]
     },
     "metadata": {
      "needs_background": "light"
     },
     "output_type": "display_data"
    }
   ],
   "source": [
    "smart_messages_cut = smart.query('messages != 0')\n",
    "fig, ax = plt.subplots(figsize=(10, 5))\n",
    "ax.set_title('Smart messages cut')\n",
    "ax.hist(smart_messages_cut['messages'], color='red')\n",
    "plt.show()"
   ]
  },
  {
   "cell_type": "code",
   "execution_count": 100,
   "id": "ef88a6eb",
   "metadata": {},
   "outputs": [
    {
     "data": {
      "text/plain": [
       "72.92198581560284"
      ]
     },
     "execution_count": 100,
     "metadata": {},
     "output_type": "execute_result"
    }
   ],
   "source": [
    "smart_messages_cut2 = smart.query('messages > 50')\n",
    "smart_messages_cut2['messages'].mean()"
   ]
  },
  {
   "cell_type": "code",
   "execution_count": 101,
   "id": "08eee4e2",
   "metadata": {},
   "outputs": [
    {
     "data": {
      "text/plain": [
       "564"
      ]
     },
     "execution_count": 101,
     "metadata": {},
     "output_type": "execute_result"
    }
   ],
   "source": [
    "len(smart_messages_cut2)"
   ]
  },
  {
   "cell_type": "code",
   "execution_count": 102,
   "id": "c24ba3fa",
   "metadata": {},
   "outputs": [
    {
     "data": {
      "text/plain": [
       "143.0"
      ]
     },
     "execution_count": 102,
     "metadata": {},
     "output_type": "execute_result"
    }
   ],
   "source": [
    "smart['messages'].max()"
   ]
  },
  {
   "cell_type": "markdown",
   "id": "a3820eb5",
   "metadata": {},
   "source": [
    "Смс-сообщения в целом, не самый популярный способ связи. Среднее значение равно 33. Стандартное отклонение при этом 28. То есть большинство пользователей отправляют от 5 до 61 сообщений в месяц. 25% из всех превышают обозначенный лимит. В среднем, оператор может получить 66 рублей в месяц свыше абонентской платы с тех, кому смс мало в тарифе *smart*. Максимально по выборке 279. "
   ]
  },
  {
   "cell_type": "code",
   "execution_count": 103,
   "id": "378d01d1",
   "metadata": {},
   "outputs": [
    {
     "data": {
      "text/plain": [
       "49.163801820020225"
      ]
     },
     "execution_count": 103,
     "metadata": {},
     "output_type": "execute_result"
    }
   ],
   "source": [
    "mean_ultra_messages = np.mean(ultra['messages'])\n",
    "mean_ultra_messages"
   ]
  },
  {
   "cell_type": "code",
   "execution_count": 104,
   "id": "92b62587",
   "metadata": {},
   "outputs": [
    {
     "data": {
      "text/plain": [
       "2285.839538567966"
      ]
     },
     "execution_count": 104,
     "metadata": {},
     "output_type": "execute_result"
    }
   ],
   "source": [
    "var_ultra_messages = np.var(ultra['messages'], ddof=1)\n",
    "var_ultra_messages"
   ]
  },
  {
   "cell_type": "code",
   "execution_count": 105,
   "id": "561c7c51",
   "metadata": {},
   "outputs": [
    {
     "data": {
      "text/plain": [
       "47.81045428112942"
      ]
     },
     "execution_count": 105,
     "metadata": {},
     "output_type": "execute_result"
    }
   ],
   "source": [
    "std_ultra_messages = np.sqrt(var_ultra_messages)\n",
    "std_ultra_messages"
   ]
  },
  {
   "cell_type": "code",
   "execution_count": 106,
   "id": "02a90eab",
   "metadata": {},
   "outputs": [
    {
     "data": {
      "image/png": "[encoded data removed]",
      "text/plain": [
       "<Figure size 720x360 with 1 Axes>"
      ]
     },
     "metadata": {
      "needs_background": "light"
     },
     "output_type": "display_data"
    }
   ],
   "source": [
    "fig, ax = plt.subplots(figsize=(10, 5))\n",
    "ax.set_title('Ultra messages')\n",
    "ax.hist(ultra['messages'], color='green')\n",
    "plt.show()"
   ]
  },
  {
   "cell_type": "code",
   "execution_count": 107,
   "id": "330ad79f",
   "metadata": {},
   "outputs": [
    {
     "data": {
      "text/plain": [
       "194"
      ]
     },
     "execution_count": 107,
     "metadata": {},
     "output_type": "execute_result"
    }
   ],
   "source": [
    "len(ultra.query('messages == 0'))"
   ]
  },
  {
   "cell_type": "code",
   "execution_count": 108,
   "id": "276945f0",
   "metadata": {},
   "outputs": [
    {
     "data": {
      "text/plain": [
       "989"
      ]
     },
     "execution_count": 108,
     "metadata": {},
     "output_type": "execute_result"
    }
   ],
   "source": [
    "len(ultra)"
   ]
  },
  {
   "cell_type": "code",
   "execution_count": 109,
   "id": "80c1b7fd",
   "metadata": {},
   "outputs": [
    {
     "data": {
      "image/png": "[encoded data removed]",
      "text/plain": [
       "<Figure size 720x360 with 1 Axes>"
      ]
     },
     "metadata": {
      "needs_background": "light"
     },
     "output_type": "display_data"
    }
   ],
   "source": [
    "ultra_messages_cut = ultra.query('messages != 0')\n",
    "fig, ax = plt.subplots(figsize=(10, 5))\n",
    "ax.set_title('Ultra messages cut')\n",
    "ax.hist(ultra_messages_cut['messages'], color='green')\n",
    "plt.show()"
   ]
  },
  {
   "cell_type": "code",
   "execution_count": 110,
   "id": "c0fccd3a",
   "metadata": {},
   "outputs": [
    {
     "data": {
      "text/plain": [
       "7"
      ]
     },
     "execution_count": 110,
     "metadata": {},
     "output_type": "execute_result"
    }
   ],
   "source": [
    "len(ultra.query('messages > 190'))"
   ]
  },
  {
   "cell_type": "markdown",
   "id": "a95a2610",
   "metadata": {},
   "source": [
    "19,6% пользователей тарифа *ultra* не используют смс вовсе. Среднее значение равно 49, стандартное отклонение - 47. Большинство людей пишут от 2 до 96 сообщений в месяц. 99,3% пользователей пишут до 190 смс в месяц. "
   ]
  },
  {
   "cell_type": "markdown",
   "id": "1d647830",
   "metadata": {},
   "source": [
    "**Интернет-трафик**"
   ]
  },
  {
   "cell_type": "code",
   "execution_count": 111,
   "id": "d33aed1a",
   "metadata": {},
   "outputs": [
    {
     "data": {
      "text/plain": [
       "count    3220.000000\n",
       "mean       17.266770\n",
       "std         7.431239\n",
       "min         0.000000\n",
       "25%        13.000000\n",
       "50%        17.000000\n",
       "75%        21.000000\n",
       "max        49.000000\n",
       "Name: gb_used, dtype: float64"
      ]
     },
     "execution_count": 111,
     "metadata": {},
     "output_type": "execute_result"
    }
   ],
   "source": [
    "data['gb_used'].describe()"
   ]
  },
  {
   "cell_type": "code",
   "execution_count": 112,
   "id": "b3144e94",
   "metadata": {},
   "outputs": [
    {
     "data": {
      "image/png": "[encoded data removed]",
      "text/plain": [
       "<Figure size 144x720 with 1 Axes>"
      ]
     },
     "metadata": {
      "needs_background": "light"
     },
     "output_type": "display_data"
    }
   ],
   "source": [
    "data.boxplot('gb_used', figsize=(2, 10))\n",
    "plt.show()"
   ]
  },
  {
   "cell_type": "markdown",
   "id": "b91764a8",
   "metadata": {},
   "source": [
    "Судя по диаграмме размаха, нулевое значение не очень распространено. В среднем у пользователей мобильным интернетом уходит 17 гб в месяц. Наблюдаются выбросы, превышающие значение в 33 гб. "
   ]
  },
  {
   "cell_type": "code",
   "execution_count": 113,
   "id": "59f31038",
   "metadata": {},
   "outputs": [
    {
     "data": {
      "image/png": "[encoded data removed]",
      "text/plain": [
       "<Figure size 432x288 with 1 Axes>"
      ]
     },
     "metadata": {
      "needs_background": "light"
     },
     "output_type": "display_data"
    }
   ],
   "source": [
    "data.pivot_table(index='tariff', values='gb_used', aggfunc='mean').plot(kind='bar')\n",
    "plt.show()"
   ]
  },
  {
   "cell_type": "code",
   "execution_count": 114,
   "id": "ec85564b",
   "metadata": {},
   "outputs": [
    {
     "data": {
      "text/plain": [
       "16.314208874943972"
      ]
     },
     "execution_count": 114,
     "metadata": {},
     "output_type": "execute_result"
    }
   ],
   "source": [
    "mean_smart_gb = np.mean(smart['gb_used'])\n",
    "mean_smart_gb"
   ]
  },
  {
   "cell_type": "code",
   "execution_count": 115,
   "id": "55dc5c6a",
   "metadata": {},
   "outputs": [
    {
     "data": {
      "text/plain": [
       "33.23799981106018"
      ]
     },
     "execution_count": 115,
     "metadata": {},
     "output_type": "execute_result"
    }
   ],
   "source": [
    "var_smart_gb = np.var(smart['gb_used'], ddof=1)\n",
    "var_smart_gb "
   ]
  },
  {
   "cell_type": "code",
   "execution_count": 116,
   "id": "9b8eeda7",
   "metadata": {},
   "outputs": [
    {
     "data": {
      "text/plain": [
       "5.765240655086323"
      ]
     },
     "execution_count": 116,
     "metadata": {},
     "output_type": "execute_result"
    }
   ],
   "source": [
    "std_smart_gb = np.sqrt(var_smart_gb)\n",
    "std_smart_gb "
   ]
  },
  {
   "cell_type": "code",
   "execution_count": 117,
   "id": "eb57f8b9",
   "metadata": {},
   "outputs": [
    {
     "data": {
      "image/png": "[encoded data removed]",
      "text/plain": [
       "<Figure size 720x360 with 1 Axes>"
      ]
     },
     "metadata": {
      "needs_background": "light"
     },
     "output_type": "display_data"
    }
   ],
   "source": [
    "fig, ax = plt.subplots(figsize=(10, 5))\n",
    "ax.set_title('Smart gb')\n",
    "ax.hist(smart['gb_used'], color='red')\n",
    "plt.show()"
   ]
  },
  {
   "cell_type": "markdown",
   "id": "aa1d20a5",
   "metadata": {},
   "source": [
    "Распределение соответствует нормальному. Значения расположены вокруг среднего в 16 гб. Стандартное отклонение - 5. 68% пользователей тратят от 11 до 21 гб в месяц. Это интересно, поскольку тариф предлагает лишь 15 гб, плата сверх лимита - 200 рублей за гб. "
   ]
  },
  {
   "cell_type": "code",
   "execution_count": 118,
   "id": "e41fdadc",
   "metadata": {},
   "outputs": [
    {
     "data": {
      "text/plain": [
       "1304"
      ]
     },
     "execution_count": 118,
     "metadata": {},
     "output_type": "execute_result"
    }
   ],
   "source": [
    "smart_gb_cut = smart.query('gb_used > 15')\n",
    "len(smart_gb_cut)"
   ]
  },
  {
   "cell_type": "code",
   "execution_count": 119,
   "id": "449a32d3",
   "metadata": {},
   "outputs": [
    {
     "data": {
      "text/plain": [
       "38.0"
      ]
     },
     "execution_count": 119,
     "metadata": {},
     "output_type": "execute_result"
    }
   ],
   "source": [
    "smart['gb_used'].max()"
   ]
  },
  {
   "cell_type": "markdown",
   "id": "8832e708",
   "metadata": {},
   "source": [
    "58% юзеров переплачивают за трафик, используя тариф *smart*. Максимальная выручка сверх абонентской платы по выборке составляет 4600 рублей. "
   ]
  },
  {
   "cell_type": "code",
   "execution_count": 120,
   "id": "3166890c",
   "metadata": {},
   "outputs": [
    {
     "data": {
      "text/plain": [
       "19.41557128412538"
      ]
     },
     "execution_count": 120,
     "metadata": {},
     "output_type": "execute_result"
    }
   ],
   "source": [
    "mean_ultra_gb = np.mean(ultra['gb_used'])\n",
    "mean_ultra_gb"
   ]
  },
  {
   "cell_type": "code",
   "execution_count": 121,
   "id": "c42a6438",
   "metadata": {},
   "outputs": [
    {
     "data": {
      "text/plain": [
       "98.23097186459981"
      ]
     },
     "execution_count": 121,
     "metadata": {},
     "output_type": "execute_result"
    }
   ],
   "source": [
    "var_ultra_gb = np.var(ultra['gb_used'], ddof=1)\n",
    "var_ultra_gb "
   ]
  },
  {
   "cell_type": "code",
   "execution_count": 122,
   "id": "35cf7dd0",
   "metadata": {},
   "outputs": [
    {
     "data": {
      "text/plain": [
       "9.911153911861112"
      ]
     },
     "execution_count": 122,
     "metadata": {},
     "output_type": "execute_result"
    }
   ],
   "source": [
    "std_ultra_gb = np.sqrt(var_ultra_gb)\n",
    "std_ultra_gb"
   ]
  },
  {
   "cell_type": "code",
   "execution_count": 123,
   "id": "167305b0",
   "metadata": {},
   "outputs": [
    {
     "data": {
      "image/png": "[encoded data removed]",
      "text/plain": [
       "<Figure size 720x360 with 1 Axes>"
      ]
     },
     "metadata": {
      "needs_background": "light"
     },
     "output_type": "display_data"
    }
   ],
   "source": [
    "fig, ax = plt.subplots(figsize=(10, 5))\n",
    "ax.set_title('Ultra gb')\n",
    "ax.hist(ultra['gb_used'], color='green')\n",
    "plt.show()"
   ]
  },
  {
   "cell_type": "code",
   "execution_count": 124,
   "id": "b1733b7d",
   "metadata": {},
   "outputs": [
    {
     "data": {
      "text/plain": [
       "134"
      ]
     },
     "execution_count": 124,
     "metadata": {},
     "output_type": "execute_result"
    }
   ],
   "source": [
    "len(ultra.query('gb_used > 30'))"
   ]
  },
  {
   "cell_type": "markdown",
   "id": "01adfb31",
   "metadata": {},
   "source": [
    "Распределение нормальное вокруг среднего в 19 гб. Стандартное отклонение - 10. Большинство укладывается в рамки от 9 до 29 гб трафика в месяц. Доля тех, кто превышает предложенный лимит - 13,5%, что в 4 раза меньше, чем на тарифе *smart*. Оплата 1 гб интернета сверх составляет 150 рублей. Пользователь, который использовал 49 гб (максимум по выборке) заплатил сверх абонентской платы 2850. "
   ]
  },
  {
   "cell_type": "code",
   "execution_count": 125,
   "id": "22b334bd",
   "metadata": {},
   "outputs": [
    {
     "data": {
      "text/plain": [
       "tariff\n",
       "smart    739.310175\n",
       "ultra    119.666330\n",
       "Name: overpayment, dtype: float64"
      ]
     },
     "execution_count": 125,
     "metadata": {},
     "output_type": "execute_result"
    }
   ],
   "source": [
    "tariff_over = data.groupby('tariff')['overpayment'].agg('mean')\n",
    "tariff_over"
   ]
  },
  {
   "cell_type": "code",
   "execution_count": 126,
   "id": "3b51c6e5",
   "metadata": {},
   "outputs": [
    {
     "data": {
      "text/plain": [
       "tariff\n",
       "smart    1289.310175\n",
       "ultra    2069.666330\n",
       "Name: monthly_revenue, dtype: float64"
      ]
     },
     "execution_count": 126,
     "metadata": {},
     "output_type": "execute_result"
    }
   ],
   "source": [
    "revenue = data.groupby('tariff')['monthly_revenue']\n",
    "revenue.mean()"
   ]
  },
  {
   "cell_type": "markdown",
   "id": "07c02e16",
   "metadata": {},
   "source": [
    "***Вывод***"
   ]
  },
  {
   "cell_type": "markdown",
   "id": "4f4da25a",
   "metadata": {},
   "source": [
    "Использование тарифа *ultra* более выгодно тем, кто много говорит и пишет смс: пакет настолько большой, что израсходовать его полностью за месяц крайне сложно. Основные переплаты в рамках обоих тарифов происходят за дополнительный веб-трафик, тем не менее, большему количеству пользователей не хватает 15 гб в тарифе *smart*, а увеличенная стоимость 1 гб трафика заставляет их переплачивать до двух раз больше за интернет, чем пользователям *ultra*. \n",
    "\n",
    "Можно предположить, что тариф *smart* для оператора выгоднее, поскольку помимо абонентской платы, он получает выручку с дополнительных расходов пользователей, которым не хватает пакета, однако даже с учетом переплат сверх абонентской платы в среднем выручка не достигает значений абонентской платы по тарифу *ultra*. "
   ]
  },
  {
   "cell_type": "markdown",
   "id": "f978b11b",
   "metadata": {},
   "source": [
    "## Проверка гипотез"
   ]
  },
  {
   "cell_type": "markdown",
   "id": "a63d0788",
   "metadata": {},
   "source": [
    "Поскольку нулевая гипотеза всегда формулируется так, чтобы использовать знак равенства, то нулевая гипотеза звучит так: *средняя выручка оператора с пользователей тарифа smart равна выручке с пользователей тарифа ultra*. Если данные гипотезе не противоречат, то мы ее не отвергаем. Но если нулевую гипотезу мы отвергаем, то в качестве альтернативной выступает следующая: *средняя выручка с пользователей тарифов отличаются*. "
   ]
  },
  {
   "cell_type": "markdown",
   "id": "a4df0c09",
   "metadata": {},
   "source": [
    "По сути мы имеем две выборки двух совокупностей: по одному и по другому тарифу. Для того, чтобы проверить гипотезу о равенстве среднего двух генеральных совокупностей, необходимо провести t-тестирование с использованием распределения Стьюдента. "
   ]
  },
  {
   "cell_type": "code",
   "execution_count": 127,
   "id": "f953d6a8",
   "metadata": {},
   "outputs": [
    {
     "data": {
      "text/plain": [
       "669375.4806629508"
      ]
     },
     "execution_count": 127,
     "metadata": {},
     "output_type": "execute_result"
    }
   ],
   "source": [
    "np.var(smart['monthly_revenue'])"
   ]
  },
  {
   "cell_type": "code",
   "execution_count": 128,
   "id": "cbf85441",
   "metadata": {},
   "outputs": [
    {
     "data": {
      "text/plain": [
       "140859.4437702482"
      ]
     },
     "execution_count": 128,
     "metadata": {},
     "output_type": "execute_result"
    }
   ],
   "source": [
    "np.var(ultra['monthly_revenue'])"
   ]
  },
  {
   "cell_type": "markdown",
   "id": "4cfc2178",
   "metadata": {},
   "source": [
    "Дисперсия выборок сильно отличается, поэтому мы проведем модификацию теста Стьюдента для случая с разными дисперсиями - тест Уэлча. "
   ]
  },
  {
   "cell_type": "code",
   "execution_count": 129,
   "id": "412dce26",
   "metadata": {},
   "outputs": [],
   "source": [
    "ultra_list = np.asarray(ultra['monthly_revenue'])\n",
    "smart_list = np.asarray(smart['monthly_revenue'])"
   ]
  },
  {
   "cell_type": "markdown",
   "id": "f80bc864",
   "metadata": {},
   "source": [
    "Критический уровень статистической значимости определим как 0.05. "
   ]
  },
  {
   "cell_type": "code",
   "execution_count": 130,
   "id": "e2fca7db",
   "metadata": {
    "scrolled": true
   },
   "outputs": [
    {
     "name": "stdout",
     "output_type": "stream",
     "text": [
      "p-значение: 6.009462238678286e-251\n",
      "Отвергаем нулевую гипотезу\n"
     ]
    }
   ],
   "source": [
    "alpha = 0.05 \n",
    "\n",
    "results = st.ttest_ind(smart_list, ultra_list, equal_var=False) \n",
    "print('p-значение:', results.pvalue) \n",
    "if results.pvalue < alpha:\n",
    "    print(\"Отвергаем нулевую гипотезу\")\n",
    "else:\n",
    "    print(\"Не получилось отвергнуть нулевую гипотезу\")"
   ]
  },
  {
   "cell_type": "markdown",
   "id": "76cdad1b",
   "metadata": {},
   "source": [
    "Средние выборок не равны. Попробуем визуализировать это. Нарисуем гистограмму частот для каждого тарифа."
   ]
  },
  {
   "cell_type": "code",
   "execution_count": 131,
   "id": "1202fa6b",
   "metadata": {},
   "outputs": [
    {
     "data": {
      "image/png": "[encoded data removed]",
      "text/plain": [
       "<Figure size 1080x504 with 2 Axes>"
      ]
     },
     "metadata": {
      "needs_background": "light"
     },
     "output_type": "display_data"
    }
   ],
   "source": [
    "fig, ax = plt.subplots(nrows=1, ncols=2, figsize=(15,7))\n",
    "\n",
    "ax[0].set_title('Smart')\n",
    "ax[0].hist(smart_list, bins=20, color='red')\n",
    "\n",
    "ax[1].set_title('Ultra')\n",
    "ax[1].hist(ultra_list, bins=20, color='green')\n",
    "\n",
    "fig.tight_layout()"
   ]
  },
  {
   "cell_type": "markdown",
   "id": "e728f7e2",
   "metadata": {},
   "source": [
    "Создадим рандомные одинаковые по размеру массивы средних значений из обеих выборок и выведем распределение на гистограммы. "
   ]
  },
  {
   "cell_type": "code",
   "execution_count": 132,
   "id": "25369638",
   "metadata": {},
   "outputs": [],
   "source": [
    "means_smart = []\n",
    "means_ultra = []\n",
    "\n",
    "for _ in range(1000):\n",
    "    smart_random = np.random.choice(smart_list, size=len(smart_list), replace=True)\n",
    "    ultra_random = np.random.choice(ultra_list, size=len(ultra_list), replace=True)\n",
    "    means_smart.append(np.mean(smart_random))\n",
    "    means_ultra.append(np.mean(ultra_random))"
   ]
  },
  {
   "cell_type": "code",
   "execution_count": 133,
   "id": "6bac8809",
   "metadata": {},
   "outputs": [
    {
     "data": {
      "image/png": "[encoded data removed]",
      "text/plain": [
       "<Figure size 1080x360 with 3 Axes>"
      ]
     },
     "metadata": {
      "needs_background": "light"
     },
     "output_type": "display_data"
    }
   ],
   "source": [
    "fig, ax = plt.subplots(nrows=1, ncols=3, figsize=(15,5))\n",
    "\n",
    "ax[0].set_title('Smart распределение средних')\n",
    "ax[0].hist(means_smart, bins=20, color='red')\n",
    "\n",
    "ax[1].set_title('Ultra распределение средних')\n",
    "ax[1].hist(means_ultra, bins=20, color='green')\n",
    "\n",
    "ax[2].set_title('Smart и Ultra распределение средних')\n",
    "ax[2].hist(means_smart, bins=20, color='red')\n",
    "ax[2].hist(means_ultra, bins=20, color='green')\n",
    "\n",
    "fig.tight_layout()"
   ]
  },
  {
   "cell_type": "markdown",
   "id": "e42e8d27",
   "metadata": {},
   "source": [
    "Средние выборок распределены нормально вокруг разных значений: 1290 для тарифа *smart*, 2070 - для *ultra*. Они не пересекаются. Аномальные значения для тарифа *smart*, вероятно, только редкие выбросы. Пользователи в целом переплачивают сверх абонентской платы, но все равно не так много, сколько бы они платили по абонентской плате тарифа *ultra*. "
   ]
  },
  {
   "cell_type": "markdown",
   "id": "c0e9a8de",
   "metadata": {},
   "source": [
    "Рассмотрим географический фактор оплаты услуг связи. Нулевая гипотеза заключается в том, что *выручка пользователей из Москвы равна выручке пользователей из других регионов*. Альтернативная гипотеза - *выручка не равна*. "
   ]
  },
  {
   "cell_type": "code",
   "execution_count": 134,
   "id": "40da44f4",
   "metadata": {},
   "outputs": [],
   "source": [
    "moscow = data.query('city == \"Москва\"')\n",
    "another_city = data.query('city != \"Москва\"')"
   ]
  },
  {
   "cell_type": "code",
   "execution_count": 135,
   "id": "5da2f0bf",
   "metadata": {},
   "outputs": [
    {
     "data": {
      "text/plain": [
       "563397.1671638676"
      ]
     },
     "execution_count": 135,
     "metadata": {},
     "output_type": "execute_result"
    }
   ],
   "source": [
    "np.var(moscow['monthly_revenue'])"
   ]
  },
  {
   "cell_type": "code",
   "execution_count": 136,
   "id": "35a6bcb5",
   "metadata": {},
   "outputs": [
    {
     "data": {
      "text/plain": [
       "653750.6732683578"
      ]
     },
     "execution_count": 136,
     "metadata": {},
     "output_type": "execute_result"
    }
   ],
   "source": [
    "np.var(another_city['monthly_revenue'])"
   ]
  },
  {
   "cell_type": "markdown",
   "id": "30a7cbab",
   "metadata": {},
   "source": [
    "Дисперсии выборок довольно близки, поэтому проводим стандартный t-тест Стьюдента. "
   ]
  },
  {
   "cell_type": "code",
   "execution_count": 137,
   "id": "35a2aa96",
   "metadata": {},
   "outputs": [],
   "source": [
    "moscow_list = np.asarray(moscow['monthly_revenue'])\n",
    "another_city_list = np.asarray(another_city['monthly_revenue'])"
   ]
  },
  {
   "cell_type": "code",
   "execution_count": 138,
   "id": "1283685f",
   "metadata": {},
   "outputs": [
    {
     "name": "stdout",
     "output_type": "stream",
     "text": [
      "p-значение: 0.5116159327212516\n",
      "Не получилось отвергнуть нулевую гипотезу\n"
     ]
    }
   ],
   "source": [
    "alpha = 0.05 \n",
    "\n",
    "results = st.ttest_ind(moscow_list, another_city_list, equal_var=True) \n",
    "print('p-значение:', results.pvalue) \n",
    "if results.pvalue < alpha:\n",
    "    print(\"Отвергаем нулевую гипотезу\")\n",
    "else:\n",
    "    print(\"Не получилось отвергнуть нулевую гипотезу\")"
   ]
  },
  {
   "cell_type": "markdown",
   "id": "2f2f68aa",
   "metadata": {},
   "source": [
    "Нулевая гипотеза не отвергнута. P-value больше уровня критической значимости, что говорит о том, что вероятность вероятности события, при котором средние выборок равны, высока.  "
   ]
  },
  {
   "cell_type": "code",
   "execution_count": 139,
   "id": "cf25202c",
   "metadata": {},
   "outputs": [
    {
     "data": {
      "image/png": "[encoded data removed]",
      "text/plain": [
       "<Figure size 1080x504 with 2 Axes>"
      ]
     },
     "metadata": {
      "needs_background": "light"
     },
     "output_type": "display_data"
    }
   ],
   "source": [
    "fig, ax = plt.subplots(nrows=1, ncols=2, figsize=(15,7))\n",
    "\n",
    "ax[0].set_title('Moscow')\n",
    "ax[0].hist(moscow_list, bins=20, color='blue')\n",
    "\n",
    "ax[1].set_title('Not Moscow')\n",
    "ax[1].hist(another_city_list, bins=20, color='pink')\n",
    "\n",
    "fig.tight_layout()"
   ]
  },
  {
   "cell_type": "code",
   "execution_count": 140,
   "id": "1ac4d3ea",
   "metadata": {},
   "outputs": [],
   "source": [
    "means_moscow = []\n",
    "means_another_city = []\n",
    "\n",
    "for _ in range(500):\n",
    "    moscow_random = np.random.choice(moscow_list, size=len(moscow_list), replace=True)\n",
    "    another_random = np.random.choice(another_city_list, size=len(another_city_list), replace=True)\n",
    "    means_moscow.append(np.mean(moscow_random))\n",
    "    means_another_city.append(np.mean(another_random))"
   ]
  },
  {
   "cell_type": "code",
   "execution_count": 141,
   "id": "6784d07c",
   "metadata": {},
   "outputs": [
    {
     "data": {
      "image/png": "[encoded data removed]",
      "text/plain": [
       "<Figure size 1080x360 with 3 Axes>"
      ]
     },
     "metadata": {
      "needs_background": "light"
     },
     "output_type": "display_data"
    }
   ],
   "source": [
    "fig, ax = plt.subplots(nrows=1, ncols=3, figsize=(15,5))\n",
    "\n",
    "ax[0].set_title('Распределение средних в Москве')\n",
    "ax[0].hist(means_moscow, bins=20, color='blue')\n",
    "\n",
    "ax[1].set_title('Распределение средних не в Москве')\n",
    "ax[1].hist(means_another_city, bins=20, color='pink')\n",
    "\n",
    "ax[2].set_title('Распределение средних в Москве и не в Москве')\n",
    "ax[2].hist(means_moscow, bins=20, color='blue')\n",
    "ax[2].hist(means_another_city, bins=20, color='pink')\n",
    "\n",
    "fig.tight_layout()"
   ]
  },
  {
   "cell_type": "markdown",
   "id": "3ed9ff19",
   "metadata": {},
   "source": [
    "Московские значения распределены вокруг среднего в 1550 рублей, тогда как остальные вокруг значения в 1520 рублей. Разность в 30 рублей позволяет сказать, что в целом, на услуги связи в Москве тратят немного больше, чем в остальных регионах.  "
   ]
  },
  {
   "cell_type": "markdown",
   "id": "ac3c613e",
   "metadata": {},
   "source": [
    "## Общий вывод"
   ]
  },
  {
   "cell_type": "markdown",
   "id": "30339173",
   "metadata": {},
   "source": [
    "Таким образом, можно выделить некоторые паттерны пользовательского поведения на разных тарифах. \n",
    "\n",
    "*Smart:*\n",
    "- В среднем пользователи расходуют 417 минут из тарифного пакета. Большинство пользователей (в пределах одного стандартного отклонения, равного 190) тратят от 227 до 607 минут. В 33,8% случаев пользователи выходили за рамки предложенного месячного лимита и тратили больше 500 минут.\n",
    "- Смс-сообщения не самый популярный способ связи. Среднее значение равно 33. Стандартное отклонение при этом 28. То есть большинство пользователей отправляют от 5 до 61 сообщений в месяц. 25% из всех превышают обозначенный лимит. В среднем, оператор может получить 66 рублей в месяц свыше абонентской платы с тех, кому смс мало в тарифе smart. Максимально по выборке 279.\n",
    "- Значения расхода интернет-трафика расположены вокруг среднего в 16 гб. Стандартное отклонение - 5. 68% пользователей тратят от 11 до 21 гб в месяц. 58% юзеров переплачивают за трафик, используя тариф smart. Максимальная выручка сверх абонентской платы по выборке составляет 4600 рублей.\n",
    "\n",
    "*Ultra:*\n",
    "- Среднее количетсво потраченных минут для пользователей тарифа ultra составляет 524 минуты. Стандартное отклонение 318. Большинство значений лежит в интервале от 206 до 842 минут. Среди пользователей этого тарифа много тех, кто совсем не использовал опцию звонков на телефоне. \n",
    "- В среднем пользователи отправляют 30 смс в месяц. 19,6% пользователей не используют смс вовсе. Среднее значение равно 49, стандартное отклонение - 47. Большинство людей пишут от 2 до 96 сообщений в месяц. 99,3% пользователей пишут до 190 смс в месяц.\n",
    "- Среднее количество использованных гб - 19. Стандартное отклонение - 10. Большинство укладывается в рамки от 9 до 29 гб трафика в месяц. Доля тех, кто превышает предложенный лимит - 13,5%, что в 4 раза меньше, чем на тарифе smart. Оплата 1 гб интернета сверх составляет 150 рублей. Пользователь, который использовал 49 гб (максимум по выборке) заплатил сверх абонентской платы 2850 рублей.\n",
    "\n",
    "Несмотря на то, что условия тарифа *smart* заставляют пользователей превышать лимит единиц, предоставленный оператором, и доплачивать сверх абонентской платы, в среднем переплаты составляют около 700 рублей. Пользователи тарифа *ultra* хоть и переплачивают меньше, но абонентская плата за тариф превышает даже возможные переплаты при более дешевом тарифе. \n",
    "\n",
    "В ходе исследования отвергли гипотезу: *средняя выручка оператора с пользователей тарифа smart равна выручке с пользователей тарифа ultra*. Средние выборок, несмотря на выбросы, распределены нормально вокруг разных значений: 1290 для тарифа smart, 2070 - для ultra.\n",
    "\n",
    "Также не смогли отвергнуть гипотезу, согласно которой *выручка пользователей из Москвы равна выручке пользователей из других регионов*. Московские значения распределены вокруг среднего в 1550 рублей, тогда как остальные вокруг значения в 1520 рублей. Разность в 30 рублей позволяет сказать, что в целом, на услуги связи в Москве тратят немногим больше, чем в остальных регионах."
   ]
  }
 ],
 "metadata": {
  "ExecuteTimeLog": [
   {
    "duration": 390,
    "start_time": "2021-09-01T06:38:08.323Z"
   },
   {
    "duration": 246,
    "start_time": "2021-09-01T08:45:01.329Z"
   },
   {
    "duration": 1539,
    "start_time": "2021-09-01T08:45:10.830Z"
   },
   {
    "duration": 21,
    "start_time": "2021-09-01T08:45:12.371Z"
   },
   {
    "duration": 10,
    "start_time": "2021-09-01T08:45:12.394Z"
   },
   {
    "duration": 18,
    "start_time": "2021-09-01T08:45:12.406Z"
   },
   {
    "duration": 7,
    "start_time": "2021-09-01T08:45:12.426Z"
   },
   {
    "duration": 18,
    "start_time": "2021-09-01T08:45:12.434Z"
   },
   {
    "duration": 32,
    "start_time": "2021-09-01T08:45:12.454Z"
   },
   {
    "duration": 6,
    "start_time": "2021-09-01T08:45:12.488Z"
   },
   {
    "duration": 8,
    "start_time": "2021-09-01T08:45:12.496Z"
   },
   {
    "duration": 7,
    "start_time": "2021-09-01T08:45:12.506Z"
   },
   {
    "duration": 22,
    "start_time": "2021-09-01T08:45:12.515Z"
   },
   {
    "duration": 48,
    "start_time": "2021-09-01T08:45:12.538Z"
   },
   {
    "duration": 16,
    "start_time": "2021-09-01T08:45:12.587Z"
   },
   {
    "duration": 16,
    "start_time": "2021-09-01T08:45:12.605Z"
   },
   {
    "duration": 101,
    "start_time": "2021-09-01T08:45:12.622Z"
   },
   {
    "duration": 4,
    "start_time": "2021-09-01T08:45:12.725Z"
   },
   {
    "duration": 20,
    "start_time": "2021-09-01T08:45:12.731Z"
   },
   {
    "duration": 24,
    "start_time": "2021-09-01T08:45:12.753Z"
   },
   {
    "duration": 16,
    "start_time": "2021-09-01T08:45:12.779Z"
   },
   {
    "duration": 17,
    "start_time": "2021-09-01T08:45:27.025Z"
   },
   {
    "duration": 17,
    "start_time": "2021-09-01T08:48:37.067Z"
   },
   {
    "duration": 13,
    "start_time": "2021-09-01T08:48:43.422Z"
   },
   {
    "duration": 20,
    "start_time": "2021-09-01T08:49:08.972Z"
   },
   {
    "duration": 18,
    "start_time": "2021-09-01T08:49:36.329Z"
   },
   {
    "duration": 12,
    "start_time": "2021-09-01T08:50:19.512Z"
   },
   {
    "duration": 8,
    "start_time": "2021-09-01T08:52:18.789Z"
   },
   {
    "duration": 10,
    "start_time": "2021-09-01T08:52:35.698Z"
   },
   {
    "duration": 16,
    "start_time": "2021-09-01T08:59:28.600Z"
   },
   {
    "duration": 15,
    "start_time": "2021-09-01T09:03:01.320Z"
   },
   {
    "duration": 14,
    "start_time": "2021-09-01T09:06:22.128Z"
   },
   {
    "duration": 15,
    "start_time": "2021-09-01T09:18:18.816Z"
   },
   {
    "duration": 20,
    "start_time": "2021-09-01T09:20:27.136Z"
   },
   {
    "duration": 15,
    "start_time": "2021-09-01T09:20:41.495Z"
   },
   {
    "duration": 13,
    "start_time": "2021-09-01T09:20:46.217Z"
   },
   {
    "duration": 27,
    "start_time": "2021-09-01T09:20:50.031Z"
   },
   {
    "duration": 13,
    "start_time": "2021-09-01T09:20:52.213Z"
   },
   {
    "duration": 5,
    "start_time": "2021-09-01T09:21:56.323Z"
   },
   {
    "duration": 58,
    "start_time": "2021-09-01T09:21:58.662Z"
   },
   {
    "duration": 495,
    "start_time": "2021-09-01T09:22:55.757Z"
   },
   {
    "duration": 20,
    "start_time": "2021-09-01T09:22:56.254Z"
   },
   {
    "duration": 9,
    "start_time": "2021-09-01T09:22:56.276Z"
   },
   {
    "duration": 16,
    "start_time": "2021-09-01T09:22:56.287Z"
   },
   {
    "duration": 7,
    "start_time": "2021-09-01T09:22:56.305Z"
   },
   {
    "duration": 17,
    "start_time": "2021-09-01T09:22:56.314Z"
   },
   {
    "duration": 8,
    "start_time": "2021-09-01T09:22:56.333Z"
   },
   {
    "duration": 7,
    "start_time": "2021-09-01T09:22:56.384Z"
   },
   {
    "duration": 9,
    "start_time": "2021-09-01T09:22:56.393Z"
   },
   {
    "duration": 5,
    "start_time": "2021-09-01T09:22:56.404Z"
   },
   {
    "duration": 10,
    "start_time": "2021-09-01T09:22:56.411Z"
   },
   {
    "duration": 28,
    "start_time": "2021-09-01T09:22:56.422Z"
   },
   {
    "duration": 45,
    "start_time": "2021-09-01T09:22:56.452Z"
   },
   {
    "duration": 5,
    "start_time": "2021-09-01T09:22:56.498Z"
   },
   {
    "duration": 95,
    "start_time": "2021-09-01T09:22:56.505Z"
   },
   {
    "duration": 5,
    "start_time": "2021-09-01T09:22:56.602Z"
   },
   {
    "duration": 6,
    "start_time": "2021-09-01T09:22:56.609Z"
   },
   {
    "duration": 22,
    "start_time": "2021-09-01T09:22:56.617Z"
   },
   {
    "duration": 15,
    "start_time": "2021-09-01T09:22:56.641Z"
   },
   {
    "duration": 44,
    "start_time": "2021-09-01T09:22:56.658Z"
   },
   {
    "duration": 13,
    "start_time": "2021-09-01T09:22:56.703Z"
   },
   {
    "duration": 4,
    "start_time": "2021-09-01T09:22:56.718Z"
   },
   {
    "duration": 88,
    "start_time": "2021-09-01T09:22:56.726Z"
   },
   {
    "duration": 13,
    "start_time": "2021-09-01T09:22:56.816Z"
   },
   {
    "duration": 17,
    "start_time": "2021-09-01T09:22:56.831Z"
   },
   {
    "duration": 3,
    "start_time": "2021-09-01T09:22:56.850Z"
   },
   {
    "duration": 62,
    "start_time": "2021-09-01T09:22:56.855Z"
   },
   {
    "duration": 6,
    "start_time": "2021-09-01T09:22:56.919Z"
   },
   {
    "duration": 18,
    "start_time": "2021-09-01T09:22:56.926Z"
   },
   {
    "duration": 5,
    "start_time": "2021-09-01T09:22:56.945Z"
   },
   {
    "duration": 10,
    "start_time": "2021-09-01T09:22:56.952Z"
   },
   {
    "duration": 28,
    "start_time": "2021-09-01T09:22:56.984Z"
   },
   {
    "duration": 47,
    "start_time": "2021-09-01T09:22:57.014Z"
   },
   {
    "duration": 24,
    "start_time": "2021-09-01T09:22:57.062Z"
   },
   {
    "duration": 21,
    "start_time": "2021-09-01T09:22:57.087Z"
   },
   {
    "duration": 30,
    "start_time": "2021-09-01T09:22:57.109Z"
   },
   {
    "duration": 6,
    "start_time": "2021-09-01T09:22:57.140Z"
   },
   {
    "duration": 41,
    "start_time": "2021-09-01T09:22:57.147Z"
   },
   {
    "duration": 19,
    "start_time": "2021-09-01T09:22:57.190Z"
   },
   {
    "duration": 7,
    "start_time": "2021-09-01T09:22:57.211Z"
   },
   {
    "duration": 19,
    "start_time": "2021-09-01T09:22:57.219Z"
   },
   {
    "duration": 8,
    "start_time": "2021-09-01T09:22:57.240Z"
   },
   {
    "duration": 46,
    "start_time": "2021-09-01T09:22:57.250Z"
   },
   {
    "duration": 7,
    "start_time": "2021-09-01T09:22:57.298Z"
   },
   {
    "duration": 9,
    "start_time": "2021-09-01T09:22:57.306Z"
   },
   {
    "duration": 16,
    "start_time": "2021-09-01T09:22:57.316Z"
   },
   {
    "duration": 8,
    "start_time": "2021-09-01T09:22:57.334Z"
   },
   {
    "duration": 48,
    "start_time": "2021-09-01T09:22:57.343Z"
   },
   {
    "duration": 5,
    "start_time": "2021-09-01T09:22:57.392Z"
   },
   {
    "duration": 9,
    "start_time": "2021-09-01T09:22:57.398Z"
   },
   {
    "duration": 18,
    "start_time": "2021-09-01T09:22:57.409Z"
   },
   {
    "duration": 8,
    "start_time": "2021-09-01T09:22:57.429Z"
   },
   {
    "duration": 50,
    "start_time": "2021-09-01T09:22:57.439Z"
   },
   {
    "duration": 5,
    "start_time": "2021-09-01T09:22:57.491Z"
   },
   {
    "duration": 10,
    "start_time": "2021-09-01T09:22:57.497Z"
   },
   {
    "duration": 26,
    "start_time": "2021-09-01T09:22:57.509Z"
   },
   {
    "duration": 51,
    "start_time": "2021-09-01T09:22:57.537Z"
   },
   {
    "duration": 9,
    "start_time": "2021-09-01T09:22:57.590Z"
   },
   {
    "duration": 3,
    "start_time": "2021-09-01T09:22:57.601Z"
   },
   {
    "duration": 12,
    "start_time": "2021-09-01T09:22:57.606Z"
   },
   {
    "duration": 7,
    "start_time": "2021-09-01T09:22:57.620Z"
   },
   {
    "duration": 5,
    "start_time": "2021-09-01T09:22:57.628Z"
   },
   {
    "duration": 103,
    "start_time": "2021-09-01T09:22:57.634Z"
   },
   {
    "duration": 80,
    "start_time": "2021-09-01T09:22:57.738Z"
   },
   {
    "duration": 81,
    "start_time": "2021-09-01T09:22:57.819Z"
   },
   {
    "duration": 5,
    "start_time": "2021-09-01T09:22:57.902Z"
   },
   {
    "duration": 5,
    "start_time": "2021-09-01T09:22:57.909Z"
   },
   {
    "duration": 5,
    "start_time": "2021-09-01T09:22:57.920Z"
   },
   {
    "duration": 3,
    "start_time": "2021-09-01T09:22:57.928Z"
   },
   {
    "duration": 22,
    "start_time": "2021-09-01T09:22:57.933Z"
   },
   {
    "duration": 30,
    "start_time": "2021-09-01T09:22:57.956Z"
   },
   {
    "duration": 155,
    "start_time": "2021-09-01T09:22:57.987Z"
   },
   {
    "duration": 164,
    "start_time": "2021-09-01T09:22:58.144Z"
   },
   {
    "duration": 8,
    "start_time": "2021-09-01T09:22:58.310Z"
   },
   {
    "duration": 13,
    "start_time": "2021-09-01T09:22:58.319Z"
   },
   {
    "duration": 6,
    "start_time": "2021-09-01T09:22:58.333Z"
   },
   {
    "duration": 5,
    "start_time": "2021-09-01T09:22:58.341Z"
   },
   {
    "duration": 231,
    "start_time": "2021-09-01T09:22:58.348Z"
   },
   {
    "duration": 3,
    "start_time": "2021-09-01T09:22:58.585Z"
   },
   {
    "duration": 10,
    "start_time": "2021-09-01T09:22:58.590Z"
   },
   {
    "duration": 5,
    "start_time": "2021-09-01T09:22:58.602Z"
   },
   {
    "duration": 6,
    "start_time": "2021-09-01T09:22:58.609Z"
   },
   {
    "duration": 5,
    "start_time": "2021-09-01T09:22:58.616Z"
   },
   {
    "duration": 5,
    "start_time": "2021-09-01T09:22:58.623Z"
   },
   {
    "duration": 251,
    "start_time": "2021-09-01T09:22:58.629Z"
   },
   {
    "duration": 4,
    "start_time": "2021-09-01T09:22:58.885Z"
   },
   {
    "duration": 243,
    "start_time": "2021-09-01T09:22:58.891Z"
   },
   {
    "duration": 8,
    "start_time": "2021-09-01T09:22:59.135Z"
   },
   {
    "duration": 145,
    "start_time": "2021-09-01T09:22:59.144Z"
   },
   {
    "duration": 216,
    "start_time": "2021-09-01T09:22:59.291Z"
   },
   {
    "duration": 4,
    "start_time": "2021-09-01T09:22:59.508Z"
   },
   {
    "duration": 8,
    "start_time": "2021-09-01T09:22:59.514Z"
   },
   {
    "duration": 5,
    "start_time": "2021-09-01T09:22:59.524Z"
   },
   {
    "duration": 235,
    "start_time": "2021-09-01T09:22:59.531Z"
   },
   {
    "duration": 6,
    "start_time": "2021-09-01T09:22:59.768Z"
   },
   {
    "duration": 223,
    "start_time": "2021-09-01T09:22:59.785Z"
   },
   {
    "duration": 7,
    "start_time": "2021-09-01T09:23:00.010Z"
   },
   {
    "duration": 16,
    "start_time": "2021-09-01T09:23:00.019Z"
   },
   {
    "duration": 12,
    "start_time": "2021-09-01T09:23:00.037Z"
   },
   {
    "duration": 6,
    "start_time": "2021-09-01T09:23:00.050Z"
   },
   {
    "duration": 9,
    "start_time": "2021-09-01T09:23:00.057Z"
   },
   {
    "duration": 17,
    "start_time": "2021-09-01T09:23:00.068Z"
   },
   {
    "duration": 220,
    "start_time": "2021-09-01T09:23:00.087Z"
   },
   {
    "duration": 6,
    "start_time": "2021-09-01T09:23:00.309Z"
   },
   {
    "duration": 8,
    "start_time": "2021-09-01T09:23:00.317Z"
   },
   {
    "duration": 234,
    "start_time": "2021-09-01T09:23:00.326Z"
   },
   {
    "duration": 6,
    "start_time": "2021-09-01T09:23:00.561Z"
   },
   {
    "duration": 20,
    "start_time": "2021-09-01T09:23:00.569Z"
   },
   {
    "duration": 138,
    "start_time": "2021-09-01T09:23:00.591Z"
   },
   {
    "duration": 171,
    "start_time": "2021-09-01T09:23:00.731Z"
   },
   {
    "duration": 5,
    "start_time": "2021-09-01T09:23:00.904Z"
   },
   {
    "duration": 16,
    "start_time": "2021-09-01T09:23:00.910Z"
   },
   {
    "duration": 13,
    "start_time": "2021-09-01T09:23:00.928Z"
   },
   {
    "duration": 223,
    "start_time": "2021-09-01T09:23:00.942Z"
   },
   {
    "duration": 7,
    "start_time": "2021-09-01T09:23:01.167Z"
   },
   {
    "duration": 12,
    "start_time": "2021-09-01T09:23:01.185Z"
   },
   {
    "duration": 21,
    "start_time": "2021-09-01T09:23:01.199Z"
   },
   {
    "duration": 23,
    "start_time": "2021-09-01T09:23:01.222Z"
   },
   {
    "duration": 20,
    "start_time": "2021-09-01T09:23:01.247Z"
   },
   {
    "duration": 243,
    "start_time": "2021-09-01T09:23:01.269Z"
   },
   {
    "duration": 6,
    "start_time": "2021-09-01T09:23:01.513Z"
   },
   {
    "duration": 20,
    "start_time": "2021-09-01T09:23:01.521Z"
   },
   {
    "duration": 22,
    "start_time": "2021-09-01T09:23:01.543Z"
   },
   {
    "duration": 21,
    "start_time": "2021-09-01T09:23:01.567Z"
   },
   {
    "duration": 34,
    "start_time": "2021-09-01T09:23:01.589Z"
   },
   {
    "duration": 16,
    "start_time": "2021-09-01T09:23:01.624Z"
   },
   {
    "duration": 17,
    "start_time": "2021-09-01T09:23:01.642Z"
   },
   {
    "duration": 655,
    "start_time": "2021-09-01T09:23:01.660Z"
   },
   {
    "duration": 113,
    "start_time": "2021-09-01T09:23:02.317Z"
   },
   {
    "duration": 924,
    "start_time": "2021-09-01T09:23:02.432Z"
   },
   {
    "duration": 9,
    "start_time": "2021-09-01T09:23:03.358Z"
   },
   {
    "duration": 18,
    "start_time": "2021-09-01T09:23:03.369Z"
   },
   {
    "duration": 6,
    "start_time": "2021-09-01T09:23:03.389Z"
   },
   {
    "duration": 4,
    "start_time": "2021-09-01T09:23:03.397Z"
   },
   {
    "duration": 8,
    "start_time": "2021-09-01T09:23:03.402Z"
   },
   {
    "duration": 633,
    "start_time": "2021-09-01T09:23:03.412Z"
   },
   {
    "duration": 61,
    "start_time": "2021-09-01T09:23:04.047Z"
   },
   {
    "duration": 817,
    "start_time": "2021-09-01T09:23:04.110Z"
   },
   {
    "duration": 579,
    "start_time": "2021-09-01T09:26:46.967Z"
   },
   {
    "duration": 20,
    "start_time": "2021-09-01T09:26:47.547Z"
   },
   {
    "duration": 7,
    "start_time": "2021-09-01T09:26:47.570Z"
   },
   {
    "duration": 21,
    "start_time": "2021-09-01T09:26:47.579Z"
   },
   {
    "duration": 7,
    "start_time": "2021-09-01T09:26:47.601Z"
   },
   {
    "duration": 17,
    "start_time": "2021-09-01T09:26:47.610Z"
   },
   {
    "duration": 7,
    "start_time": "2021-09-01T09:26:47.628Z"
   },
   {
    "duration": 5,
    "start_time": "2021-09-01T09:26:47.638Z"
   },
   {
    "duration": 9,
    "start_time": "2021-09-01T09:26:47.645Z"
   },
   {
    "duration": 34,
    "start_time": "2021-09-01T09:26:47.655Z"
   },
   {
    "duration": 11,
    "start_time": "2021-09-01T09:26:47.691Z"
   },
   {
    "duration": 27,
    "start_time": "2021-09-01T09:26:47.704Z"
   },
   {
    "duration": 14,
    "start_time": "2021-09-01T09:26:47.733Z"
   },
   {
    "duration": 36,
    "start_time": "2021-09-01T09:26:47.749Z"
   },
   {
    "duration": 78,
    "start_time": "2021-09-01T09:26:47.787Z"
   },
   {
    "duration": 19,
    "start_time": "2021-09-01T09:26:47.867Z"
   },
   {
    "duration": 7,
    "start_time": "2021-09-01T09:26:47.887Z"
   },
   {
    "duration": 24,
    "start_time": "2021-09-01T09:26:47.895Z"
   },
   {
    "duration": 15,
    "start_time": "2021-09-01T09:26:47.921Z"
   },
   {
    "duration": 19,
    "start_time": "2021-09-01T09:26:47.937Z"
   },
   {
    "duration": 38,
    "start_time": "2021-09-01T09:26:47.957Z"
   },
   {
    "duration": 4,
    "start_time": "2021-09-01T09:26:47.997Z"
   },
   {
    "duration": 81,
    "start_time": "2021-09-01T09:26:48.005Z"
   },
   {
    "duration": 13,
    "start_time": "2021-09-01T09:26:48.088Z"
   },
   {
    "duration": 19,
    "start_time": "2021-09-01T09:26:48.103Z"
   },
   {
    "duration": 5,
    "start_time": "2021-09-01T09:26:48.123Z"
   },
   {
    "duration": 56,
    "start_time": "2021-09-01T09:26:48.129Z"
   },
   {
    "duration": 7,
    "start_time": "2021-09-01T09:26:48.186Z"
   },
   {
    "duration": 17,
    "start_time": "2021-09-01T09:26:48.194Z"
   },
   {
    "duration": 5,
    "start_time": "2021-09-01T09:26:48.213Z"
   },
   {
    "duration": 12,
    "start_time": "2021-09-01T09:26:48.219Z"
   },
   {
    "duration": 54,
    "start_time": "2021-09-01T09:26:48.232Z"
   },
   {
    "duration": 55,
    "start_time": "2021-09-01T09:26:48.288Z"
   },
   {
    "duration": 7,
    "start_time": "2021-09-01T09:26:48.345Z"
   },
   {
    "duration": 46,
    "start_time": "2021-09-01T09:26:48.354Z"
   },
   {
    "duration": 29,
    "start_time": "2021-09-01T09:26:48.402Z"
   },
   {
    "duration": 5,
    "start_time": "2021-09-01T09:26:48.433Z"
   },
   {
    "duration": 22,
    "start_time": "2021-09-01T09:26:48.440Z"
   },
   {
    "duration": 37,
    "start_time": "2021-09-01T09:26:48.463Z"
   },
   {
    "duration": 7,
    "start_time": "2021-09-01T09:26:48.502Z"
   },
   {
    "duration": 22,
    "start_time": "2021-09-01T09:26:48.511Z"
   },
   {
    "duration": 8,
    "start_time": "2021-09-01T09:26:48.535Z"
   },
   {
    "duration": 45,
    "start_time": "2021-09-01T09:26:48.545Z"
   },
   {
    "duration": 6,
    "start_time": "2021-09-01T09:26:48.592Z"
   },
   {
    "duration": 8,
    "start_time": "2021-09-01T09:26:48.599Z"
   },
   {
    "duration": 18,
    "start_time": "2021-09-01T09:26:48.609Z"
   },
   {
    "duration": 8,
    "start_time": "2021-09-01T09:26:48.629Z"
   },
   {
    "duration": 49,
    "start_time": "2021-09-01T09:26:48.639Z"
   },
   {
    "duration": 4,
    "start_time": "2021-09-01T09:26:48.690Z"
   },
   {
    "duration": 11,
    "start_time": "2021-09-01T09:26:48.696Z"
   },
   {
    "duration": 18,
    "start_time": "2021-09-01T09:26:48.709Z"
   },
   {
    "duration": 8,
    "start_time": "2021-09-01T09:26:48.728Z"
   },
   {
    "duration": 12,
    "start_time": "2021-09-01T09:26:48.737Z"
   },
   {
    "duration": 3,
    "start_time": "2021-09-01T09:26:48.785Z"
   },
   {
    "duration": 13,
    "start_time": "2021-09-01T09:26:48.790Z"
   },
   {
    "duration": 26,
    "start_time": "2021-09-01T09:26:48.804Z"
   },
   {
    "duration": 26,
    "start_time": "2021-09-01T09:26:48.831Z"
   },
   {
    "duration": 27,
    "start_time": "2021-09-01T09:26:48.859Z"
   },
   {
    "duration": 3,
    "start_time": "2021-09-01T09:26:48.887Z"
   },
   {
    "duration": 14,
    "start_time": "2021-09-01T09:26:48.892Z"
   },
   {
    "duration": 8,
    "start_time": "2021-09-01T09:26:48.908Z"
   },
   {
    "duration": 6,
    "start_time": "2021-09-01T09:26:48.917Z"
   },
   {
    "duration": 101,
    "start_time": "2021-09-01T09:26:48.924Z"
   },
   {
    "duration": 75,
    "start_time": "2021-09-01T09:26:49.027Z"
   },
   {
    "duration": 70,
    "start_time": "2021-09-01T09:26:49.104Z"
   },
   {
    "duration": 13,
    "start_time": "2021-09-01T09:26:49.175Z"
   },
   {
    "duration": 5,
    "start_time": "2021-09-01T09:26:49.190Z"
   },
   {
    "duration": 5,
    "start_time": "2021-09-01T09:26:49.201Z"
   },
   {
    "duration": 4,
    "start_time": "2021-09-01T09:26:49.209Z"
   },
   {
    "duration": 24,
    "start_time": "2021-09-01T09:26:49.215Z"
   },
   {
    "duration": 7,
    "start_time": "2021-09-01T09:26:49.241Z"
   },
   {
    "duration": 183,
    "start_time": "2021-09-01T09:26:49.250Z"
   },
   {
    "duration": 267,
    "start_time": "2021-09-01T09:26:49.435Z"
   },
   {
    "duration": 9,
    "start_time": "2021-09-01T09:26:49.704Z"
   },
   {
    "duration": 7,
    "start_time": "2021-09-01T09:26:49.715Z"
   },
   {
    "duration": 5,
    "start_time": "2021-09-01T09:26:49.724Z"
   },
   {
    "duration": 5,
    "start_time": "2021-09-01T09:26:49.731Z"
   },
   {
    "duration": 249,
    "start_time": "2021-09-01T09:26:49.737Z"
   },
   {
    "duration": 3,
    "start_time": "2021-09-01T09:26:49.988Z"
   },
   {
    "duration": 10,
    "start_time": "2021-09-01T09:26:49.993Z"
   },
   {
    "duration": 7,
    "start_time": "2021-09-01T09:26:50.005Z"
   },
   {
    "duration": 6,
    "start_time": "2021-09-01T09:26:50.014Z"
   },
   {
    "duration": 11,
    "start_time": "2021-09-01T09:26:50.022Z"
   },
   {
    "duration": 8,
    "start_time": "2021-09-01T09:26:50.035Z"
   },
   {
    "duration": 259,
    "start_time": "2021-09-01T09:26:50.045Z"
   },
   {
    "duration": 4,
    "start_time": "2021-09-01T09:26:50.306Z"
   },
   {
    "duration": 244,
    "start_time": "2021-09-01T09:26:50.312Z"
   },
   {
    "duration": 9,
    "start_time": "2021-09-01T09:26:50.558Z"
   },
   {
    "duration": 156,
    "start_time": "2021-09-01T09:26:50.569Z"
   },
   {
    "duration": 163,
    "start_time": "2021-09-01T09:26:50.727Z"
   },
   {
    "duration": 4,
    "start_time": "2021-09-01T09:26:50.892Z"
   },
   {
    "duration": 8,
    "start_time": "2021-09-01T09:26:50.897Z"
   },
   {
    "duration": 6,
    "start_time": "2021-09-01T09:26:50.906Z"
   },
   {
    "duration": 247,
    "start_time": "2021-09-01T09:26:50.913Z"
   },
   {
    "duration": 6,
    "start_time": "2021-09-01T09:26:51.162Z"
   },
   {
    "duration": 243,
    "start_time": "2021-09-01T09:26:51.169Z"
   },
   {
    "duration": 6,
    "start_time": "2021-09-01T09:26:51.414Z"
   },
   {
    "duration": 6,
    "start_time": "2021-09-01T09:26:51.422Z"
   },
   {
    "duration": 8,
    "start_time": "2021-09-01T09:26:51.429Z"
   },
   {
    "duration": 6,
    "start_time": "2021-09-01T09:26:51.439Z"
   },
   {
    "duration": 6,
    "start_time": "2021-09-01T09:26:51.446Z"
   },
   {
    "duration": 7,
    "start_time": "2021-09-01T09:26:51.453Z"
   },
   {
    "duration": 218,
    "start_time": "2021-09-01T09:26:51.485Z"
   },
   {
    "duration": 7,
    "start_time": "2021-09-01T09:26:51.704Z"
   },
   {
    "duration": 7,
    "start_time": "2021-09-01T09:26:51.713Z"
   },
   {
    "duration": 230,
    "start_time": "2021-09-01T09:26:51.721Z"
   },
   {
    "duration": 6,
    "start_time": "2021-09-01T09:26:51.953Z"
   },
   {
    "duration": 18,
    "start_time": "2021-09-01T09:26:51.961Z"
   },
   {
    "duration": 146,
    "start_time": "2021-09-01T09:26:51.980Z"
   },
   {
    "duration": 168,
    "start_time": "2021-09-01T09:26:52.128Z"
   },
   {
    "duration": 4,
    "start_time": "2021-09-01T09:26:52.298Z"
   },
   {
    "duration": 11,
    "start_time": "2021-09-01T09:26:52.303Z"
   },
   {
    "duration": 11,
    "start_time": "2021-09-01T09:26:52.316Z"
   },
   {
    "duration": 219,
    "start_time": "2021-09-01T09:26:52.328Z"
   },
   {
    "duration": 6,
    "start_time": "2021-09-01T09:26:52.549Z"
   },
   {
    "duration": 14,
    "start_time": "2021-09-01T09:26:52.557Z"
   },
   {
    "duration": 12,
    "start_time": "2021-09-01T09:26:52.573Z"
   },
   {
    "duration": 8,
    "start_time": "2021-09-01T09:26:52.587Z"
   },
   {
    "duration": 8,
    "start_time": "2021-09-01T09:26:52.597Z"
   },
   {
    "duration": 218,
    "start_time": "2021-09-01T09:26:52.607Z"
   },
   {
    "duration": 6,
    "start_time": "2021-09-01T09:26:52.827Z"
   },
   {
    "duration": 11,
    "start_time": "2021-09-01T09:26:52.835Z"
   },
   {
    "duration": 7,
    "start_time": "2021-09-01T09:26:52.847Z"
   },
   {
    "duration": 6,
    "start_time": "2021-09-01T09:26:52.855Z"
   },
   {
    "duration": 24,
    "start_time": "2021-09-01T09:26:52.863Z"
   },
   {
    "duration": 12,
    "start_time": "2021-09-01T09:26:52.888Z"
   },
   {
    "duration": 11,
    "start_time": "2021-09-01T09:26:52.901Z"
   },
   {
    "duration": 727,
    "start_time": "2021-09-01T09:26:52.914Z"
   },
   {
    "duration": 110,
    "start_time": "2021-09-01T09:26:53.643Z"
   },
   {
    "duration": 863,
    "start_time": "2021-09-01T09:26:53.755Z"
   },
   {
    "duration": 8,
    "start_time": "2021-09-01T09:26:54.620Z"
   },
   {
    "duration": 6,
    "start_time": "2021-09-01T09:26:54.630Z"
   },
   {
    "duration": 14,
    "start_time": "2021-09-01T09:26:54.638Z"
   },
   {
    "duration": 14,
    "start_time": "2021-09-01T09:26:54.653Z"
   },
   {
    "duration": 21,
    "start_time": "2021-09-01T09:26:54.669Z"
   },
   {
    "duration": 635,
    "start_time": "2021-09-01T09:26:54.692Z"
   },
   {
    "duration": 61,
    "start_time": "2021-09-01T09:26:55.329Z"
   },
   {
    "duration": 822,
    "start_time": "2021-09-01T09:26:55.392Z"
   },
   {
    "duration": 46,
    "start_time": "2021-09-01T09:28:53.177Z"
   },
   {
    "duration": 21,
    "start_time": "2021-09-01T09:29:23.073Z"
   },
   {
    "duration": 7,
    "start_time": "2021-09-01T09:29:42.695Z"
   },
   {
    "duration": 44,
    "start_time": "2021-09-01T09:30:01.778Z"
   },
   {
    "duration": 22,
    "start_time": "2021-09-01T09:30:09.686Z"
   },
   {
    "duration": 4,
    "start_time": "2021-09-01T09:31:08.875Z"
   },
   {
    "duration": 8,
    "start_time": "2021-09-01T09:31:13.028Z"
   },
   {
    "duration": 222,
    "start_time": "2021-09-01T09:37:16.384Z"
   },
   {
    "duration": 35,
    "start_time": "2021-09-01T09:37:25.351Z"
   },
   {
    "duration": 34,
    "start_time": "2021-09-01T09:37:49.239Z"
   },
   {
    "duration": 33,
    "start_time": "2021-09-01T09:37:55.346Z"
   },
   {
    "duration": 34,
    "start_time": "2021-09-01T09:37:57.174Z"
   },
   {
    "duration": 4,
    "start_time": "2021-09-01T09:38:18.212Z"
   },
   {
    "duration": 190,
    "start_time": "2021-09-01T09:38:27.266Z"
   },
   {
    "duration": 169,
    "start_time": "2021-09-01T09:38:40.300Z"
   },
   {
    "duration": 499,
    "start_time": "2021-09-01T09:38:49.775Z"
   },
   {
    "duration": 20,
    "start_time": "2021-09-01T09:38:50.276Z"
   },
   {
    "duration": 7,
    "start_time": "2021-09-01T09:38:50.298Z"
   },
   {
    "duration": 18,
    "start_time": "2021-09-01T09:38:50.306Z"
   },
   {
    "duration": 8,
    "start_time": "2021-09-01T09:38:50.325Z"
   },
   {
    "duration": 21,
    "start_time": "2021-09-01T09:38:50.335Z"
   },
   {
    "duration": 8,
    "start_time": "2021-09-01T09:38:50.357Z"
   },
   {
    "duration": 23,
    "start_time": "2021-09-01T09:38:50.368Z"
   },
   {
    "duration": 8,
    "start_time": "2021-09-01T09:38:50.394Z"
   },
   {
    "duration": 7,
    "start_time": "2021-09-01T09:38:50.404Z"
   },
   {
    "duration": 10,
    "start_time": "2021-09-01T09:38:50.413Z"
   },
   {
    "duration": 60,
    "start_time": "2021-09-01T09:38:50.425Z"
   },
   {
    "duration": 17,
    "start_time": "2021-09-01T09:38:50.486Z"
   },
   {
    "duration": 6,
    "start_time": "2021-09-01T09:38:50.505Z"
   },
   {
    "duration": 120,
    "start_time": "2021-09-01T09:38:50.513Z"
   },
   {
    "duration": 6,
    "start_time": "2021-09-01T09:38:50.635Z"
   },
   {
    "duration": 42,
    "start_time": "2021-09-01T09:38:50.643Z"
   },
   {
    "duration": 22,
    "start_time": "2021-09-01T09:38:50.687Z"
   },
   {
    "duration": 16,
    "start_time": "2021-09-01T09:38:50.710Z"
   },
   {
    "duration": 20,
    "start_time": "2021-09-01T09:38:50.728Z"
   },
   {
    "duration": 42,
    "start_time": "2021-09-01T09:38:50.750Z"
   },
   {
    "duration": 6,
    "start_time": "2021-09-01T09:38:50.794Z"
   },
   {
    "duration": 81,
    "start_time": "2021-09-01T09:38:50.805Z"
   },
   {
    "duration": 13,
    "start_time": "2021-09-01T09:38:50.888Z"
   },
   {
    "duration": 21,
    "start_time": "2021-09-01T09:38:50.902Z"
   },
   {
    "duration": 4,
    "start_time": "2021-09-01T09:38:50.924Z"
   },
   {
    "duration": 36,
    "start_time": "2021-09-01T09:38:50.929Z"
   },
   {
    "duration": 7,
    "start_time": "2021-09-01T09:38:50.985Z"
   },
   {
    "duration": 18,
    "start_time": "2021-09-01T09:38:50.993Z"
   },
   {
    "duration": 4,
    "start_time": "2021-09-01T09:38:51.013Z"
   },
   {
    "duration": 14,
    "start_time": "2021-09-01T09:38:51.019Z"
   },
   {
    "duration": 28,
    "start_time": "2021-09-01T09:38:51.035Z"
   },
   {
    "duration": 63,
    "start_time": "2021-09-01T09:38:51.064Z"
   },
   {
    "duration": 6,
    "start_time": "2021-09-01T09:38:51.128Z"
   },
   {
    "duration": 21,
    "start_time": "2021-09-01T09:38:51.136Z"
   },
   {
    "duration": 49,
    "start_time": "2021-09-01T09:38:51.158Z"
   },
   {
    "duration": 6,
    "start_time": "2021-09-01T09:38:51.208Z"
   },
   {
    "duration": 21,
    "start_time": "2021-09-01T09:38:51.216Z"
   },
   {
    "duration": 17,
    "start_time": "2021-09-01T09:38:51.239Z"
   },
   {
    "duration": 7,
    "start_time": "2021-09-01T09:38:51.285Z"
   },
   {
    "duration": 17,
    "start_time": "2021-09-01T09:38:51.294Z"
   },
   {
    "duration": 7,
    "start_time": "2021-09-01T09:38:51.313Z"
   },
   {
    "duration": 12,
    "start_time": "2021-09-01T09:38:51.322Z"
   },
   {
    "duration": 4,
    "start_time": "2021-09-01T09:38:51.336Z"
   },
   {
    "duration": 8,
    "start_time": "2021-09-01T09:38:51.341Z"
   },
   {
    "duration": 17,
    "start_time": "2021-09-01T09:38:51.384Z"
   },
   {
    "duration": 6,
    "start_time": "2021-09-01T09:38:51.403Z"
   },
   {
    "duration": 19,
    "start_time": "2021-09-01T09:38:51.411Z"
   },
   {
    "duration": 3,
    "start_time": "2021-09-01T09:38:51.431Z"
   },
   {
    "duration": 10,
    "start_time": "2021-09-01T09:38:51.436Z"
   },
   {
    "duration": 50,
    "start_time": "2021-09-01T09:38:51.448Z"
   },
   {
    "duration": 8,
    "start_time": "2021-09-01T09:38:51.499Z"
   },
   {
    "duration": 12,
    "start_time": "2021-09-01T09:38:51.508Z"
   },
   {
    "duration": 9,
    "start_time": "2021-09-01T09:38:51.521Z"
   },
   {
    "duration": 11,
    "start_time": "2021-09-01T09:38:51.531Z"
   },
   {
    "duration": 49,
    "start_time": "2021-09-01T09:38:51.543Z"
   },
   {
    "duration": 27,
    "start_time": "2021-09-01T09:38:51.594Z"
   },
   {
    "duration": 7,
    "start_time": "2021-09-01T09:38:51.622Z"
   },
   {
    "duration": 2,
    "start_time": "2021-09-01T09:38:51.631Z"
   },
   {
    "duration": 12,
    "start_time": "2021-09-01T09:38:51.634Z"
   },
   {
    "duration": 7,
    "start_time": "2021-09-01T09:38:51.648Z"
   },
   {
    "duration": 6,
    "start_time": "2021-09-01T09:38:51.684Z"
   },
   {
    "duration": 195,
    "start_time": "2021-09-01T09:38:51.691Z"
   },
   {
    "duration": 70,
    "start_time": "2021-09-01T09:38:51.887Z"
   },
   {
    "duration": 81,
    "start_time": "2021-09-01T09:38:51.959Z"
   },
   {
    "duration": 5,
    "start_time": "2021-09-01T09:38:52.042Z"
   },
   {
    "duration": 6,
    "start_time": "2021-09-01T09:38:52.049Z"
   },
   {
    "duration": 5,
    "start_time": "2021-09-01T09:38:52.061Z"
   },
   {
    "duration": 4,
    "start_time": "2021-09-01T09:38:52.084Z"
   },
   {
    "duration": 23,
    "start_time": "2021-09-01T09:38:52.089Z"
   },
   {
    "duration": 4,
    "start_time": "2021-09-01T09:38:52.113Z"
   },
   {
    "duration": 8,
    "start_time": "2021-09-01T09:38:52.119Z"
   },
   {
    "duration": 166,
    "start_time": "2021-09-01T09:38:52.129Z"
   },
   {
    "duration": 151,
    "start_time": "2021-09-01T09:38:52.296Z"
   },
   {
    "duration": 8,
    "start_time": "2021-09-01T09:38:52.449Z"
   },
   {
    "duration": 7,
    "start_time": "2021-09-01T09:38:52.459Z"
   },
   {
    "duration": 17,
    "start_time": "2021-09-01T09:38:52.468Z"
   },
   {
    "duration": 3,
    "start_time": "2021-09-01T09:38:52.486Z"
   },
   {
    "duration": 225,
    "start_time": "2021-09-01T09:38:52.490Z"
   },
   {
    "duration": 3,
    "start_time": "2021-09-01T09:38:52.717Z"
   },
   {
    "duration": 8,
    "start_time": "2021-09-01T09:38:52.722Z"
   },
   {
    "duration": 4,
    "start_time": "2021-09-01T09:38:52.732Z"
   },
   {
    "duration": 9,
    "start_time": "2021-09-01T09:38:52.737Z"
   },
   {
    "duration": 6,
    "start_time": "2021-09-01T09:38:52.747Z"
   },
   {
    "duration": 5,
    "start_time": "2021-09-01T09:38:52.754Z"
   },
   {
    "duration": 223,
    "start_time": "2021-09-01T09:38:52.784Z"
   },
   {
    "duration": 3,
    "start_time": "2021-09-01T09:38:53.009Z"
   },
   {
    "duration": 228,
    "start_time": "2021-09-01T09:38:53.014Z"
   },
   {
    "duration": 8,
    "start_time": "2021-09-01T09:38:53.244Z"
   },
   {
    "duration": 146,
    "start_time": "2021-09-01T09:38:53.253Z"
   },
   {
    "duration": 161,
    "start_time": "2021-09-01T09:38:53.400Z"
   },
   {
    "duration": 4,
    "start_time": "2021-09-01T09:38:53.563Z"
   },
   {
    "duration": 16,
    "start_time": "2021-09-01T09:38:53.568Z"
   },
   {
    "duration": 4,
    "start_time": "2021-09-01T09:38:53.586Z"
   },
   {
    "duration": 217,
    "start_time": "2021-09-01T09:38:53.591Z"
   },
   {
    "duration": 7,
    "start_time": "2021-09-01T09:38:53.809Z"
   },
   {
    "duration": 231,
    "start_time": "2021-09-01T09:38:53.818Z"
   },
   {
    "duration": 7,
    "start_time": "2021-09-01T09:38:54.051Z"
   },
   {
    "duration": 5,
    "start_time": "2021-09-01T09:38:54.059Z"
   },
   {
    "duration": 4,
    "start_time": "2021-09-01T09:38:54.084Z"
   },
   {
    "duration": 7,
    "start_time": "2021-09-01T09:38:54.090Z"
   },
   {
    "duration": 9,
    "start_time": "2021-09-01T09:38:54.098Z"
   },
   {
    "duration": 5,
    "start_time": "2021-09-01T09:38:54.108Z"
   },
   {
    "duration": 224,
    "start_time": "2021-09-01T09:38:54.115Z"
   },
   {
    "duration": 7,
    "start_time": "2021-09-01T09:38:54.341Z"
   },
   {
    "duration": 9,
    "start_time": "2021-09-01T09:38:54.350Z"
   },
   {
    "duration": 229,
    "start_time": "2021-09-01T09:38:54.360Z"
   },
   {
    "duration": 7,
    "start_time": "2021-09-01T09:38:54.591Z"
   },
   {
    "duration": 9,
    "start_time": "2021-09-01T09:38:54.599Z"
   },
   {
    "duration": 149,
    "start_time": "2021-09-01T09:38:54.610Z"
   },
   {
    "duration": 159,
    "start_time": "2021-09-01T09:38:54.761Z"
   },
   {
    "duration": 4,
    "start_time": "2021-09-01T09:38:54.921Z"
   },
   {
    "duration": 7,
    "start_time": "2021-09-01T09:38:54.927Z"
   },
   {
    "duration": 6,
    "start_time": "2021-09-01T09:38:54.935Z"
   },
   {
    "duration": 230,
    "start_time": "2021-09-01T09:38:54.943Z"
   },
   {
    "duration": 13,
    "start_time": "2021-09-01T09:38:55.175Z"
   },
   {
    "duration": 5,
    "start_time": "2021-09-01T09:38:55.190Z"
   },
   {
    "duration": 5,
    "start_time": "2021-09-01T09:38:55.197Z"
   },
   {
    "duration": 5,
    "start_time": "2021-09-01T09:38:55.204Z"
   },
   {
    "duration": 4,
    "start_time": "2021-09-01T09:38:55.211Z"
   },
   {
    "duration": 237,
    "start_time": "2021-09-01T09:38:55.217Z"
   },
   {
    "duration": 6,
    "start_time": "2021-09-01T09:38:55.456Z"
   },
   {
    "duration": 21,
    "start_time": "2021-09-01T09:38:55.464Z"
   },
   {
    "duration": 7,
    "start_time": "2021-09-01T09:38:55.487Z"
   },
   {
    "duration": 5,
    "start_time": "2021-09-01T09:38:55.495Z"
   },
   {
    "duration": 5,
    "start_time": "2021-09-01T09:38:55.502Z"
   },
   {
    "duration": 4,
    "start_time": "2021-09-01T09:38:55.509Z"
   },
   {
    "duration": 6,
    "start_time": "2021-09-01T09:38:55.515Z"
   },
   {
    "duration": 755,
    "start_time": "2021-09-01T09:38:55.523Z"
   },
   {
    "duration": 108,
    "start_time": "2021-09-01T09:38:56.280Z"
   },
   {
    "duration": 817,
    "start_time": "2021-09-01T09:38:56.390Z"
   },
   {
    "duration": 8,
    "start_time": "2021-09-01T09:38:57.209Z"
   },
   {
    "duration": 8,
    "start_time": "2021-09-01T09:38:57.218Z"
   },
   {
    "duration": 6,
    "start_time": "2021-09-01T09:38:57.227Z"
   },
   {
    "duration": 6,
    "start_time": "2021-09-01T09:38:57.234Z"
   },
   {
    "duration": 6,
    "start_time": "2021-09-01T09:38:57.241Z"
   },
   {
    "duration": 624,
    "start_time": "2021-09-01T09:38:57.249Z"
   },
   {
    "duration": 61,
    "start_time": "2021-09-01T09:38:57.875Z"
   },
   {
    "duration": 854,
    "start_time": "2021-09-01T09:38:57.938Z"
   },
   {
    "duration": 5,
    "start_time": "2021-09-01T09:39:30.392Z"
   },
   {
    "duration": 23,
    "start_time": "2021-09-01T09:39:44.416Z"
   },
   {
    "duration": 4,
    "start_time": "2021-09-01T09:41:00.764Z"
   },
   {
    "duration": 23,
    "start_time": "2021-09-01T09:41:04.057Z"
   },
   {
    "duration": 21,
    "start_time": "2021-09-01T09:49:00.163Z"
   },
   {
    "duration": 23,
    "start_time": "2021-09-01T09:49:25.727Z"
   },
   {
    "duration": 487,
    "start_time": "2021-09-01T09:57:25.867Z"
   },
   {
    "duration": 72,
    "start_time": "2021-09-01T10:06:34.179Z"
   },
   {
    "duration": 1689,
    "start_time": "2021-09-01T10:09:29.819Z"
   },
   {
    "duration": 21,
    "start_time": "2021-09-01T10:09:31.510Z"
   },
   {
    "duration": 104,
    "start_time": "2021-09-01T10:09:31.534Z"
   },
   {
    "duration": 18,
    "start_time": "2021-09-01T10:09:31.640Z"
   },
   {
    "duration": 8,
    "start_time": "2021-09-01T10:09:31.660Z"
   },
   {
    "duration": 35,
    "start_time": "2021-09-01T10:09:31.669Z"
   },
   {
    "duration": 7,
    "start_time": "2021-09-01T10:09:31.706Z"
   },
   {
    "duration": 6,
    "start_time": "2021-09-01T10:09:31.716Z"
   },
   {
    "duration": 9,
    "start_time": "2021-09-01T10:09:31.724Z"
   },
   {
    "duration": 16,
    "start_time": "2021-09-01T10:09:31.735Z"
   },
   {
    "duration": 10,
    "start_time": "2021-09-01T10:09:31.753Z"
   },
   {
    "duration": 46,
    "start_time": "2021-09-01T10:09:31.785Z"
   },
   {
    "duration": 16,
    "start_time": "2021-09-01T10:09:31.833Z"
   },
   {
    "duration": 5,
    "start_time": "2021-09-01T10:09:31.851Z"
   },
   {
    "duration": 115,
    "start_time": "2021-09-01T10:09:31.857Z"
   },
   {
    "duration": 14,
    "start_time": "2021-09-01T10:09:31.974Z"
   },
   {
    "duration": 14,
    "start_time": "2021-09-01T10:09:31.990Z"
   },
   {
    "duration": 27,
    "start_time": "2021-09-01T10:09:32.006Z"
   },
   {
    "duration": 18,
    "start_time": "2021-09-01T10:09:32.034Z"
   },
   {
    "duration": 56,
    "start_time": "2021-09-01T10:09:32.054Z"
   },
   {
    "duration": 15,
    "start_time": "2021-09-01T10:09:32.111Z"
   },
   {
    "duration": 5,
    "start_time": "2021-09-01T10:09:32.128Z"
   },
   {
    "duration": 97,
    "start_time": "2021-09-01T10:09:32.137Z"
   },
   {
    "duration": 13,
    "start_time": "2021-09-01T10:09:32.237Z"
   },
   {
    "duration": 33,
    "start_time": "2021-09-01T10:09:32.252Z"
   },
   {
    "duration": 7,
    "start_time": "2021-09-01T10:09:32.290Z"
   },
   {
    "duration": 41,
    "start_time": "2021-09-01T10:09:32.300Z"
   },
   {
    "duration": 6,
    "start_time": "2021-09-01T10:09:32.342Z"
   },
   {
    "duration": 42,
    "start_time": "2021-09-01T10:09:32.350Z"
   },
   {
    "duration": 7,
    "start_time": "2021-09-01T10:09:32.394Z"
   },
   {
    "duration": 19,
    "start_time": "2021-09-01T10:09:32.404Z"
   },
   {
    "duration": 27,
    "start_time": "2021-09-01T10:09:32.425Z"
   },
   {
    "duration": 74,
    "start_time": "2021-09-01T10:09:32.453Z"
   },
   {
    "duration": 6,
    "start_time": "2021-09-01T10:09:32.529Z"
   },
   {
    "duration": 22,
    "start_time": "2021-09-01T10:09:32.536Z"
   },
   {
    "duration": 49,
    "start_time": "2021-09-01T10:09:32.559Z"
   },
   {
    "duration": 6,
    "start_time": "2021-09-01T10:09:32.611Z"
   },
   {
    "duration": 23,
    "start_time": "2021-09-01T10:09:32.619Z"
   },
   {
    "duration": 41,
    "start_time": "2021-09-01T10:09:32.644Z"
   },
   {
    "duration": 11,
    "start_time": "2021-09-01T10:09:32.687Z"
   },
   {
    "duration": 18,
    "start_time": "2021-09-01T10:09:32.700Z"
   },
   {
    "duration": 7,
    "start_time": "2021-09-01T10:09:32.720Z"
   },
   {
    "duration": 12,
    "start_time": "2021-09-01T10:09:32.729Z"
   },
   {
    "duration": 6,
    "start_time": "2021-09-01T10:09:32.743Z"
   },
   {
    "duration": 40,
    "start_time": "2021-09-01T10:09:32.751Z"
   },
   {
    "duration": 23,
    "start_time": "2021-09-01T10:09:32.793Z"
   },
   {
    "duration": 7,
    "start_time": "2021-09-01T10:09:32.817Z"
   },
   {
    "duration": 19,
    "start_time": "2021-09-01T10:09:32.825Z"
   },
   {
    "duration": 6,
    "start_time": "2021-09-01T10:09:32.845Z"
   },
   {
    "duration": 33,
    "start_time": "2021-09-01T10:09:32.853Z"
   },
   {
    "duration": 23,
    "start_time": "2021-09-01T10:09:32.889Z"
   },
   {
    "duration": 7,
    "start_time": "2021-09-01T10:09:32.913Z"
   },
   {
    "duration": 11,
    "start_time": "2021-09-01T10:09:32.922Z"
   },
   {
    "duration": 5,
    "start_time": "2021-09-01T10:09:32.934Z"
   },
   {
    "duration": 9,
    "start_time": "2021-09-01T10:09:32.940Z"
   },
   {
    "duration": 62,
    "start_time": "2021-09-01T10:09:32.951Z"
   },
   {
    "duration": 26,
    "start_time": "2021-09-01T10:09:33.014Z"
   },
   {
    "duration": 8,
    "start_time": "2021-09-01T10:09:33.041Z"
   },
   {
    "duration": 3,
    "start_time": "2021-09-01T10:09:33.051Z"
   },
   {
    "duration": 43,
    "start_time": "2021-09-01T10:09:33.056Z"
   },
   {
    "duration": 8,
    "start_time": "2021-09-01T10:09:33.101Z"
   },
   {
    "duration": 5,
    "start_time": "2021-09-01T10:09:33.111Z"
   },
   {
    "duration": 96,
    "start_time": "2021-09-01T10:09:33.118Z"
   },
   {
    "duration": 92,
    "start_time": "2021-09-01T10:09:33.215Z"
   },
   {
    "duration": 100,
    "start_time": "2021-09-01T10:09:33.310Z"
   },
   {
    "duration": 5,
    "start_time": "2021-09-01T10:09:33.412Z"
   },
   {
    "duration": 6,
    "start_time": "2021-09-01T10:09:33.419Z"
   },
   {
    "duration": 6,
    "start_time": "2021-09-01T10:09:33.431Z"
   },
   {
    "duration": 4,
    "start_time": "2021-09-01T10:09:33.439Z"
   },
   {
    "duration": 6,
    "start_time": "2021-09-01T10:09:33.444Z"
   },
   {
    "duration": 34,
    "start_time": "2021-09-01T10:09:33.451Z"
   },
   {
    "duration": 5,
    "start_time": "2021-09-01T10:09:33.487Z"
   },
   {
    "duration": 25,
    "start_time": "2021-09-01T10:09:33.495Z"
   },
   {
    "duration": 7,
    "start_time": "2021-09-01T10:09:33.522Z"
   },
   {
    "duration": 180,
    "start_time": "2021-09-01T10:09:33.530Z"
   },
   {
    "duration": 163,
    "start_time": "2021-09-01T10:09:33.712Z"
   },
   {
    "duration": 15,
    "start_time": "2021-09-01T10:09:33.876Z"
   },
   {
    "duration": 7,
    "start_time": "2021-09-01T10:09:33.894Z"
   },
   {
    "duration": 5,
    "start_time": "2021-09-01T10:09:33.903Z"
   },
   {
    "duration": 5,
    "start_time": "2021-09-01T10:09:33.910Z"
   },
   {
    "duration": 261,
    "start_time": "2021-09-01T10:09:33.917Z"
   },
   {
    "duration": 6,
    "start_time": "2021-09-01T10:09:34.180Z"
   },
   {
    "duration": 14,
    "start_time": "2021-09-01T10:09:34.188Z"
   },
   {
    "duration": 4,
    "start_time": "2021-09-01T10:09:34.204Z"
   },
   {
    "duration": 8,
    "start_time": "2021-09-01T10:09:34.210Z"
   },
   {
    "duration": 7,
    "start_time": "2021-09-01T10:09:34.220Z"
   },
   {
    "duration": 7,
    "start_time": "2021-09-01T10:09:34.228Z"
   },
   {
    "duration": 273,
    "start_time": "2021-09-01T10:09:34.237Z"
   },
   {
    "duration": 4,
    "start_time": "2021-09-01T10:09:34.511Z"
   },
   {
    "duration": 257,
    "start_time": "2021-09-01T10:09:34.517Z"
   },
   {
    "duration": 16,
    "start_time": "2021-09-01T10:09:34.776Z"
   },
   {
    "duration": 147,
    "start_time": "2021-09-01T10:09:34.794Z"
   },
   {
    "duration": 181,
    "start_time": "2021-09-01T10:09:34.943Z"
   },
   {
    "duration": 4,
    "start_time": "2021-09-01T10:09:35.126Z"
   },
   {
    "duration": 10,
    "start_time": "2021-09-01T10:09:35.131Z"
   },
   {
    "duration": 5,
    "start_time": "2021-09-01T10:09:35.143Z"
   },
   {
    "duration": 312,
    "start_time": "2021-09-01T10:09:35.149Z"
   },
   {
    "duration": 6,
    "start_time": "2021-09-01T10:09:35.462Z"
   },
   {
    "duration": 256,
    "start_time": "2021-09-01T10:09:35.469Z"
   },
   {
    "duration": 7,
    "start_time": "2021-09-01T10:09:35.726Z"
   },
   {
    "duration": 7,
    "start_time": "2021-09-01T10:09:35.735Z"
   },
   {
    "duration": 6,
    "start_time": "2021-09-01T10:09:35.743Z"
   },
   {
    "duration": 7,
    "start_time": "2021-09-01T10:09:35.751Z"
   },
   {
    "duration": 28,
    "start_time": "2021-09-01T10:09:35.760Z"
   },
   {
    "duration": 7,
    "start_time": "2021-09-01T10:09:35.789Z"
   },
   {
    "duration": 252,
    "start_time": "2021-09-01T10:09:35.797Z"
   },
   {
    "duration": 6,
    "start_time": "2021-09-01T10:09:36.051Z"
   },
   {
    "duration": 8,
    "start_time": "2021-09-01T10:09:36.059Z"
   },
   {
    "duration": 242,
    "start_time": "2021-09-01T10:09:36.068Z"
   },
   {
    "duration": 7,
    "start_time": "2021-09-01T10:09:36.312Z"
   },
   {
    "duration": 25,
    "start_time": "2021-09-01T10:09:36.320Z"
   },
   {
    "duration": 161,
    "start_time": "2021-09-01T10:09:36.347Z"
   },
   {
    "duration": 178,
    "start_time": "2021-09-01T10:09:36.510Z"
   },
   {
    "duration": 7,
    "start_time": "2021-09-01T10:09:36.690Z"
   },
   {
    "duration": 9,
    "start_time": "2021-09-01T10:09:36.699Z"
   },
   {
    "duration": 8,
    "start_time": "2021-09-01T10:09:36.709Z"
   },
   {
    "duration": 240,
    "start_time": "2021-09-01T10:09:36.718Z"
   },
   {
    "duration": 7,
    "start_time": "2021-09-01T10:09:36.959Z"
   },
   {
    "duration": 18,
    "start_time": "2021-09-01T10:09:36.968Z"
   },
   {
    "duration": 25,
    "start_time": "2021-09-01T10:09:36.987Z"
   },
   {
    "duration": 18,
    "start_time": "2021-09-01T10:09:37.013Z"
   },
   {
    "duration": 10,
    "start_time": "2021-09-01T10:09:37.032Z"
   },
   {
    "duration": 239,
    "start_time": "2021-09-01T10:09:37.044Z"
   },
   {
    "duration": 9,
    "start_time": "2021-09-01T10:09:37.285Z"
   },
   {
    "duration": 10,
    "start_time": "2021-09-01T10:09:37.296Z"
   },
   {
    "duration": 6,
    "start_time": "2021-09-01T10:09:37.307Z"
   },
   {
    "duration": 5,
    "start_time": "2021-09-01T10:09:37.315Z"
   },
   {
    "duration": 5,
    "start_time": "2021-09-01T10:09:37.321Z"
   },
   {
    "duration": 5,
    "start_time": "2021-09-01T10:09:37.327Z"
   },
   {
    "duration": 6,
    "start_time": "2021-09-01T10:09:37.333Z"
   },
   {
    "duration": 696,
    "start_time": "2021-09-01T10:09:37.341Z"
   },
   {
    "duration": 123,
    "start_time": "2021-09-01T10:09:38.039Z"
   },
   {
    "duration": 944,
    "start_time": "2021-09-01T10:09:38.164Z"
   },
   {
    "duration": 8,
    "start_time": "2021-09-01T10:09:39.110Z"
   },
   {
    "duration": 8,
    "start_time": "2021-09-01T10:09:39.119Z"
   },
   {
    "duration": 5,
    "start_time": "2021-09-01T10:09:39.129Z"
   },
   {
    "duration": 7,
    "start_time": "2021-09-01T10:09:39.135Z"
   },
   {
    "duration": 6,
    "start_time": "2021-09-01T10:09:39.143Z"
   },
   {
    "duration": 639,
    "start_time": "2021-09-01T10:09:39.150Z"
   },
   {
    "duration": 61,
    "start_time": "2021-09-01T10:09:39.791Z"
   },
   {
    "duration": 900,
    "start_time": "2021-09-01T10:09:39.853Z"
   }
  ],
  "kernelspec": {
   "display_name": "Python 3",
   "language": "python",
   "name": "python3"
  },
  "language_info": {
   "codemirror_mode": {
    "name": "ipython",
    "version": 3
   },
   "file_extension": ".py",
   "mimetype": "text/x-python",
   "name": "python",
   "nbconvert_exporter": "python",
   "pygments_lexer": "ipython3",
   "version": "3.8.8"
  },
  "toc": {
   "base_numbering": 1,
   "nav_menu": {},
   "number_sections": true,
   "sideBar": true,
   "skip_h1_title": true,
   "title_cell": "Table of Contents",
   "title_sidebar": "Contents",
   "toc_cell": true,
   "toc_position": {},
   "toc_section_display": true,
   "toc_window_display": true
  }
 },
 "nbformat": 4,
 "nbformat_minor": 5
}
