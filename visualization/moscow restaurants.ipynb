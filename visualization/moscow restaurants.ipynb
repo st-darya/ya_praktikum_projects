{
 "cells": [
  {
   "cell_type": "markdown",
   "id": "1db4e8ea",
   "metadata": {},
   "source": [
    "# Рынок заведений общественного питания Москвы"
   ]
  },
  {
   "cell_type": "markdown",
   "id": "87da9e07",
   "metadata": {},
   "source": [
    "Цель проекта: поиск наиболее перспективных параметров заведения общественного питания в Москве для успешного длительного существования предприятия. Особенность заведения - обслуживание клиентов роботами. \n",
    "\n",
    "Задачи: проанализировать рынок ресторанов и кафе на основе открытых данных, подготовить список рекомендаций инвесторам о виде заведения, количестве посадочных мест, а также районе расположения, проанализировать возможное развитие сети, подготовить презентацию."
   ]
  },
  {
   "cell_type": "markdown",
   "id": "376a8e52",
   "metadata": {},
   "source": [
    "## Изучение и подготовка данных"
   ]
  },
  {
   "cell_type": "code",
   "execution_count": 1,
   "id": "db598821",
   "metadata": {},
   "outputs": [],
   "source": [
    "import pandas as pd\n",
    "import numpy as np \n",
    "import matplotlib.pyplot as plt\n",
    "import seaborn as sns\n",
    "import warnings\n",
    "warnings.filterwarnings('ignore') \n",
    "import re\n",
    "import requests\n",
    "from io import BytesIO\n",
    "\n",
    "server_path = '/datasets/rest_data.csv'\n",
    "\n",
    "filename = 'rest_data.csv'\n",
    "\n",
    "try: \n",
    "    rest_data = pd.read_csv(server_path, sep=',')\n",
    "except: \n",
    "    rest_data = pd.read_csv(filename, sep=',') "
   ]
  },
  {
   "cell_type": "code",
   "execution_count": 2,
   "id": "ab7428a2",
   "metadata": {},
   "outputs": [],
   "source": [
    "spreadsheet_id = '1Twj69JiHbL9Kl-sNCS6loXAFm-e8D6Ec_fOuH4Moa-c'\n",
    "url =  'https://docs.google.com/spreadsheets/d/{}/export?format=csv'.format(spreadsheet_id)\n",
    "r = requests.get(url)\n",
    "districts = pd.read_csv(BytesIO(r.content))"
   ]
  },
  {
   "cell_type": "code",
   "execution_count": 3,
   "id": "1352f648",
   "metadata": {},
   "outputs": [
    {
     "data": {
      "text/html": [
       "<div>\n",
       "<style scoped>\n",
       "    .dataframe tbody tr th:only-of-type {\n",
       "        vertical-align: middle;\n",
       "    }\n",
       "\n",
       "    .dataframe tbody tr th {\n",
       "        vertical-align: top;\n",
       "    }\n",
       "\n",
       "    .dataframe thead th {\n",
       "        text-align: right;\n",
       "    }\n",
       "</style>\n",
       "<table border=\"1\" class=\"dataframe\">\n",
       "  <thead>\n",
       "    <tr style=\"text-align: right;\">\n",
       "      <th></th>\n",
       "      <th>id</th>\n",
       "      <th>object_name</th>\n",
       "      <th>chain</th>\n",
       "      <th>object_type</th>\n",
       "      <th>address</th>\n",
       "      <th>number</th>\n",
       "    </tr>\n",
       "  </thead>\n",
       "  <tbody>\n",
       "    <tr>\n",
       "      <td>0</td>\n",
       "      <td>151635</td>\n",
       "      <td>СМЕТАНА</td>\n",
       "      <td>нет</td>\n",
       "      <td>кафе</td>\n",
       "      <td>город Москва, улица Егора Абакумова, дом 9</td>\n",
       "      <td>48</td>\n",
       "    </tr>\n",
       "    <tr>\n",
       "      <td>1</td>\n",
       "      <td>77874</td>\n",
       "      <td>Родник</td>\n",
       "      <td>нет</td>\n",
       "      <td>кафе</td>\n",
       "      <td>город Москва, улица Талалихина, дом 2/1, корпус 1</td>\n",
       "      <td>35</td>\n",
       "    </tr>\n",
       "    <tr>\n",
       "      <td>2</td>\n",
       "      <td>24309</td>\n",
       "      <td>Кафе «Академия»</td>\n",
       "      <td>нет</td>\n",
       "      <td>кафе</td>\n",
       "      <td>город Москва, Абельмановская улица, дом 6</td>\n",
       "      <td>95</td>\n",
       "    </tr>\n",
       "    <tr>\n",
       "      <td>3</td>\n",
       "      <td>21894</td>\n",
       "      <td>ПИЦЦЕТОРИЯ</td>\n",
       "      <td>да</td>\n",
       "      <td>кафе</td>\n",
       "      <td>город Москва, Абрамцевская улица, дом 1</td>\n",
       "      <td>40</td>\n",
       "    </tr>\n",
       "    <tr>\n",
       "      <td>4</td>\n",
       "      <td>119365</td>\n",
       "      <td>Кафе «Вишневая метель»</td>\n",
       "      <td>нет</td>\n",
       "      <td>кафе</td>\n",
       "      <td>город Москва, Абрамцевская улица, дом 9, корпус 1</td>\n",
       "      <td>50</td>\n",
       "    </tr>\n",
       "  </tbody>\n",
       "</table>\n",
       "</div>"
      ],
      "text/plain": [
       "       id             object_name chain object_type  \\\n",
       "0  151635                 СМЕТАНА   нет        кафе   \n",
       "1   77874                  Родник   нет        кафе   \n",
       "2   24309         Кафе «Академия»   нет        кафе   \n",
       "3   21894              ПИЦЦЕТОРИЯ    да        кафе   \n",
       "4  119365  Кафе «Вишневая метель»   нет        кафе   \n",
       "\n",
       "                                             address  number  \n",
       "0         город Москва, улица Егора Абакумова, дом 9      48  \n",
       "1  город Москва, улица Талалихина, дом 2/1, корпус 1      35  \n",
       "2          город Москва, Абельмановская улица, дом 6      95  \n",
       "3            город Москва, Абрамцевская улица, дом 1      40  \n",
       "4  город Москва, Абрамцевская улица, дом 9, корпус 1      50  "
      ]
     },
     "execution_count": 3,
     "metadata": {},
     "output_type": "execute_result"
    }
   ],
   "source": [
    "rest_data.head()"
   ]
  },
  {
   "cell_type": "code",
   "execution_count": 4,
   "id": "3263ed6c",
   "metadata": {},
   "outputs": [
    {
     "name": "stdout",
     "output_type": "stream",
     "text": [
      "<class 'pandas.core.frame.DataFrame'>\n",
      "RangeIndex: 15366 entries, 0 to 15365\n",
      "Data columns (total 6 columns):\n",
      "id             15366 non-null int64\n",
      "object_name    15366 non-null object\n",
      "chain          15366 non-null object\n",
      "object_type    15366 non-null object\n",
      "address        15366 non-null object\n",
      "number         15366 non-null int64\n",
      "dtypes: int64(2), object(4)\n",
      "memory usage: 720.4+ KB\n"
     ]
    }
   ],
   "source": [
    "rest_data.info()"
   ]
  },
  {
   "cell_type": "markdown",
   "id": "6b9979b2",
   "metadata": {},
   "source": [
    "Пропусков нет, типы данных соответствуют. В столбце с объектами общественного питания наблюдаются наименования, написанные в верхнем регистре, некоторые их которых гипотетически могут препятствовать поиску сетевых заведений, а также продублированные наименования с разными типами заведений. Необходимо привезти названия к единому образцу и избавиться от кавычек. "
   ]
  },
  {
   "cell_type": "code",
   "execution_count": 5,
   "id": "defbc5dd",
   "metadata": {},
   "outputs": [
    {
     "data": {
      "text/plain": [
       "10393"
      ]
     },
     "execution_count": 5,
     "metadata": {},
     "output_type": "execute_result"
    }
   ],
   "source": [
    "len(rest_data['object_name'].unique())"
   ]
  },
  {
   "cell_type": "code",
   "execution_count": 6,
   "id": "ab042ef1",
   "metadata": {},
   "outputs": [],
   "source": [
    "rest_data['object_name'] = rest_data['object_name'].str.replace('«','')\n",
    "rest_data['object_name'] = rest_data['object_name'].str.replace('»','')"
   ]
  },
  {
   "cell_type": "code",
   "execution_count": 7,
   "id": "9235a475",
   "metadata": {},
   "outputs": [],
   "source": [
    "rest_data['object_name'] = rest_data['object_name'].str.lower()"
   ]
  },
  {
   "cell_type": "code",
   "execution_count": 8,
   "id": "5d530852",
   "metadata": {},
   "outputs": [
    {
     "data": {
      "text/plain": [
       "9840"
      ]
     },
     "execution_count": 8,
     "metadata": {},
     "output_type": "execute_result"
    }
   ],
   "source": [
    "len(rest_data['object_name'].unique())"
   ]
  },
  {
   "cell_type": "markdown",
   "id": "ca8853be",
   "metadata": {},
   "source": [
    "Удаление типов мест в названиях заведение может привезти к искажению самих наименований, поскольку в большинстве заведение \"кафе\", \"бар\", \"кальянная\" и проч. являются частью названия. Оставим эти данные как есть. "
   ]
  },
  {
   "cell_type": "markdown",
   "id": "9a829e1a",
   "metadata": {},
   "source": [
    "***Вывод***"
   ]
  },
  {
   "cell_type": "markdown",
   "id": "59dd6831",
   "metadata": {},
   "source": [
    "Данные загружены и готовы к анализу. Пропуском и дубликатов нет, типы данных соответствуют содержанию столбцов. Данные с названиями заведений оптимизированы: удалены кавычки и приведены к нижнему регистру. "
   ]
  },
  {
   "cell_type": "markdown",
   "id": "4274b33c",
   "metadata": {},
   "source": [
    "## Анализ данных"
   ]
  },
  {
   "cell_type": "code",
   "execution_count": 9,
   "id": "5ca87535",
   "metadata": {},
   "outputs": [],
   "source": [
    "sns.set_style('whitegrid')"
   ]
  },
  {
   "cell_type": "code",
   "execution_count": 10,
   "id": "09f7e0ef",
   "metadata": {},
   "outputs": [],
   "source": [
    "sns.set_palette(sns.color_palette('viridis', 20))"
   ]
  },
  {
   "cell_type": "markdown",
   "id": "1b1c1ac0",
   "metadata": {},
   "source": [
    "Сперва посмотрим на соотношение видов объектов питания. "
   ]
  },
  {
   "cell_type": "code",
   "execution_count": 11,
   "id": "131a783b",
   "metadata": {},
   "outputs": [
    {
     "data": {
      "image/png": "[encoded data removed]",
      "text/plain": [
       "<Figure size 1080x504 with 1 Axes>"
      ]
     },
     "metadata": {},
     "output_type": "display_data"
    }
   ],
   "source": [
    "rest_type = rest_data.groupby('object_type')[['id']].count().sort_values(by='id', ascending=False)\n",
    "plt.figure(figsize = (15, 7))\n",
    "ax = sns.barplot(x=rest_type.index, y='id', data=rest_type)\n",
    "plt.xticks(rotation=45, rotation_mode='anchor', ha='right')\n",
    "plt.title('Виды объектов питания в Москве', fontsize=13)\n",
    "plt.xlabel('')\n",
    "plt.ylabel('Количество', fontsize=10)\n",
    "plt.show()"
   ]
  },
  {
   "cell_type": "markdown",
   "id": "47fed30f",
   "metadata": {},
   "source": [
    "Среди всех типов объектов в Москве больше всего кафе - чуть больше 6 тысяч заведений. Следующие за ним типы - столовая (2,6 тысячи объектов), ресторан (2,3 тысячи) и предприятие быстрого обслуживания (1,9 тысяч). Меньше всего в городе кулинарных магазинов, закусочных и кафетериев. \n",
    "\n",
    "Каждый объект обладает своей спецификой. В то время как для ресторанов характерны ценник выше среднего, авторская кухня и определенный запрос аудитории, столовые расчитаны на большой поток клиентов, преимущественно связанных с локацией заведения (школа, университет, предприятие), бары предлагают специфический вид проведения досуга, закусочные и пбо в большинстве случаев не нацелены на создание уюта, что мешает клиентам рассматривать их в качестве места, куда хочется возвращаться, кафе представляет собой больший простор для формирования концепции и лояльной аудитории. Во-первых, кафе доступный и удобный тип заведения для большинства клиентов, во-вторых, нет особых ограничений для бизнеса с точки зрения выбора локации, кухни, размера, интерьера. "
   ]
  },
  {
   "cell_type": "markdown",
   "id": "17ed78d9",
   "metadata": {},
   "source": [
    "Проверим, сколько в Москве сетевых и несетевых заведений и для какого типа объектов характерно сетевое распространение. "
   ]
  },
  {
   "cell_type": "code",
   "execution_count": 12,
   "id": "a3767a94",
   "metadata": {},
   "outputs": [
    {
     "data": {
      "image/png": "[encoded data removed]",
      "text/plain": [
       "<Figure size 1080x504 with 1 Axes>"
      ]
     },
     "metadata": {},
     "output_type": "display_data"
    }
   ],
   "source": [
    "chain_type = rest_data.groupby('chain')[['id']].count().sort_values(by='id', ascending=False)\n",
    "plt.figure(figsize = (15, 7))\n",
    "ax = sns.barplot(x=chain_type.index, y='id', data=chain_type, palette=['C6','C3'])\n",
    "plt.title('Сетевые и несетевые заведения', fontsize=13)\n",
    "plt.xlabel('')\n",
    "plt.ylabel('Количество', fontsize=10)\n",
    "plt.show()"
   ]
  },
  {
   "cell_type": "markdown",
   "id": "866d8e5d",
   "metadata": {},
   "source": [
    "Несетевых заведений общественного питания в Москве превалирующее большинство: 12,2 тысяч единиц против 3 тысяч сетевых точек - более чем в 4 раза. \n",
    "\n",
    "Сегодня культура питания в России, особенно в Москве, развивается очень активно. Поход в кафе, ресторан, бар представляет собой не физиологическую необходимость, а способ проведения досуга, поиск новых впечатлений и вкусов. Исходя из этого, мы можем наблюдать рост числа авторских заведений, рассчитанных на узкую, но лояльную аудиторию. "
   ]
  },
  {
   "cell_type": "code",
   "execution_count": 13,
   "id": "c84259dc",
   "metadata": {},
   "outputs": [
    {
     "data": {
      "image/png": "[encoded data removed]",
      "text/plain": [
       "<Figure size 1008x1008 with 1 Axes>"
      ]
     },
     "metadata": {},
     "output_type": "display_data"
    }
   ],
   "source": [
    "chain_object = rest_data.query('chain == \"да\"').groupby('object_type')[['id']].count()\n",
    "plt.figure(figsize = (14, 14))\n",
    "plt.pie(chain_object['id'], labels=chain_object.index, colors=[\n",
    "    'C0', 'C3', 'C5', 'C7', 'C9', 'C11', 'C13', 'C15', 'C17'], autopct='%.1f%%', explode=[0.03]*9, pctdistance=1.05)\n",
    "plt.title('Сетевые заведения', fontsize=14)\n",
    "plt.show()"
   ]
  },
  {
   "cell_type": "markdown",
   "id": "d17c136a",
   "metadata": {},
   "source": [
    "Наиболее распространенный тип сетевого объекта - кафе: 47% от всех сетевых заведений. Заметно, что среди сетей доля предприятий быстрого обслуживания больше, чем ресторанов: 26,7% точек фастфуда против 18,3% сетевых ресторанов. Для магазина (отдела кульнарии) свойственно сетевое распространение, но доля среди всех типов объектов его мала. Для закусочных и кафетерий характерен ограниченный ассортимент блюд несложного приготовления: первые локализуются по большей степени в спальных районах, вторые - при продовольственных и крупных непродовльственных магазинах. Буфеты и столовые, обычно со сложной системой собственности, обслуживают рабочих, служащих, студентов и учащихся при специализированном предприятии. \n",
    "\n",
    "\n"
   ]
  },
  {
   "cell_type": "markdown",
   "id": "e5769b26",
   "metadata": {},
   "source": [
    "Следующий шаг: проанализируем параметры сетевых заведений с точки резния количества посадочных мест. Что характерно для сетевых заведений: много заведений с небольшим числом посадочных мест в каждом или мало заведений с большим количеством посадочных мест?"
   ]
  },
  {
   "cell_type": "code",
   "execution_count": 14,
   "id": "1a1d76b4",
   "metadata": {},
   "outputs": [
    {
     "data": {
      "text/html": [
       "<div>\n",
       "<style scoped>\n",
       "    .dataframe tbody tr th:only-of-type {\n",
       "        vertical-align: middle;\n",
       "    }\n",
       "\n",
       "    .dataframe tbody tr th {\n",
       "        vertical-align: top;\n",
       "    }\n",
       "\n",
       "    .dataframe thead th {\n",
       "        text-align: right;\n",
       "    }\n",
       "</style>\n",
       "<table border=\"1\" class=\"dataframe\">\n",
       "  <thead>\n",
       "    <tr style=\"text-align: right;\">\n",
       "      <th></th>\n",
       "      <th>id</th>\n",
       "      <th>object_name</th>\n",
       "      <th>chain</th>\n",
       "      <th>object_type</th>\n",
       "      <th>address</th>\n",
       "      <th>number</th>\n",
       "    </tr>\n",
       "  </thead>\n",
       "  <tbody>\n",
       "    <tr>\n",
       "      <td>3</td>\n",
       "      <td>21894</td>\n",
       "      <td>пиццетория</td>\n",
       "      <td>да</td>\n",
       "      <td>кафе</td>\n",
       "      <td>город Москва, Абрамцевская улица, дом 1</td>\n",
       "      <td>40</td>\n",
       "    </tr>\n",
       "    <tr>\n",
       "      <td>6</td>\n",
       "      <td>148815</td>\n",
       "      <td>брусника</td>\n",
       "      <td>да</td>\n",
       "      <td>кафе</td>\n",
       "      <td>город Москва, переулок Сивцев Вражек, дом 6/2</td>\n",
       "      <td>10</td>\n",
       "    </tr>\n",
       "    <tr>\n",
       "      <td>13</td>\n",
       "      <td>22579</td>\n",
       "      <td>алло пицца</td>\n",
       "      <td>да</td>\n",
       "      <td>кафе</td>\n",
       "      <td>город Москва, улица Авиаторов, дом 14</td>\n",
       "      <td>32</td>\n",
       "    </tr>\n",
       "    <tr>\n",
       "      <td>16</td>\n",
       "      <td>144107</td>\n",
       "      <td>суши wok</td>\n",
       "      <td>да</td>\n",
       "      <td>предприятие быстрого обслуживания</td>\n",
       "      <td>город Москва, Азовская улица, дом 3</td>\n",
       "      <td>7</td>\n",
       "    </tr>\n",
       "    <tr>\n",
       "      <td>18</td>\n",
       "      <td>58565</td>\n",
       "      <td>тануки</td>\n",
       "      <td>да</td>\n",
       "      <td>ресторан</td>\n",
       "      <td>город Москва, Большая Академическая улица, дом 65</td>\n",
       "      <td>160</td>\n",
       "    </tr>\n",
       "  </tbody>\n",
       "</table>\n",
       "</div>"
      ],
      "text/plain": [
       "        id object_name chain                        object_type  \\\n",
       "3    21894  пиццетория    да                               кафе   \n",
       "6   148815    брусника    да                               кафе   \n",
       "13   22579  алло пицца    да                               кафе   \n",
       "16  144107    суши wok    да  предприятие быстрого обслуживания   \n",
       "18   58565      тануки    да                           ресторан   \n",
       "\n",
       "                                              address  number  \n",
       "3             город Москва, Абрамцевская улица, дом 1      40  \n",
       "6       город Москва, переулок Сивцев Вражек, дом 6/2      10  \n",
       "13              город Москва, улица Авиаторов, дом 14      32  \n",
       "16                город Москва, Азовская улица, дом 3       7  \n",
       "18  город Москва, Большая Академическая улица, дом 65     160  "
      ]
     },
     "execution_count": 14,
     "metadata": {},
     "output_type": "execute_result"
    }
   ],
   "source": [
    "chain_object_name = rest_data.query('chain == \"да\"') \n",
    "chain_object_name.head()"
   ]
  },
  {
   "cell_type": "markdown",
   "id": "f4c211c2",
   "metadata": {},
   "source": [
    "Вероятно, некоторые сетевые заведения повторяются в списке, поскольку в некоторых наименованиях присутствую типы объектов, как например, \"kfc\", \"ростикс kfc\", \"ресторан kfc\". Удалим типы объектов по возможности. "
   ]
  },
  {
   "cell_type": "code",
   "execution_count": 15,
   "id": "603b909c",
   "metadata": {},
   "outputs": [
    {
     "data": {
      "text/plain": [
       "(2968, 7)"
      ]
     },
     "execution_count": 15,
     "metadata": {},
     "output_type": "execute_result"
    }
   ],
   "source": [
    "chain_object_name = chain_object_name.reset_index()\n",
    "chain_object_name.shape"
   ]
  },
  {
   "cell_type": "code",
   "execution_count": 16,
   "id": "88384bb0",
   "metadata": {},
   "outputs": [
    {
     "data": {
      "text/plain": [
       "array(['пиццетория', 'брусника', 'алло пицца', 'суши wok', 'тануки',\n",
       "       \"домино'с пицца\", 'готика', 'му-му', 'хлеб насущный', 'tajj mahal',\n",
       "       'данкин донатс', 'вареничная №1', 'шоколадница', 'теремок',\n",
       "       'хинкальная', 'шантимель', 'хинкальная city', 'кружка', 'суши вок',\n",
       "       'примавера', 'виктория', 'пиццерия академия', 'чебуречная ссср',\n",
       "       'макдоналдс', 'grand cru', 'чайхона №1', 'панчо пицца', 'kfc',\n",
       "       'сабвей', 'ресторан якитория', 'советские времена',\n",
       "       'кафе андерсон', 'кафе subway', 'ресторан макдоналдс', 'суши сет',\n",
       "       'шоколад', 'тирольские пироги', 'гамбринус', 'пицца фабрика',\n",
       "       'subway', 'кафе якитория', 'кафе тануки', 'сити пицца',\n",
       "       'кофе хаус',\n",
       "       'кулинарная лавка братьев караваевых братья караваевы', 'прайм',\n",
       "       'пицца экспресс', 'шоколадница кофе хаус', 'николай', 'якитория',\n",
       "       'магнолия', 'кофе с собой', 'джаганнат', 'волконский', 'moskalyan',\n",
       "       'гино-но-таки', 'тратория semplice', 'ньокки', 'хижина',\n",
       "       'додо пицца', 'крошка картошка', 'бургер кинг', 'папа джонс',\n",
       "       'кондитерская волконский', 'бар- буфет николай', 'ресторан тануки',\n",
       "       'две палочки', 'джон джоли', 'ваби-саби', 'кофемания',\n",
       "       'простые вещи', 'павлин-мавлин', 'кафе чайхана тапчан', 'штолле',\n",
       "       'бабай клаб', 'андерсон', 'кофе хаус. экспрессо и капучино бар',\n",
       "       'кактус', 'темпл бар', 'хлеб&co', 'кофе-бин',\n",
       "       'французская выпечка', 'кофейня кофе хаус', 'планета суши',\n",
       "       'де марко', 'ресторан илья муромец',\n",
       "       'ресторан корчма тарас бульба', 'кофейня шоколадница',\n",
       "       'стейк хаус гудман', 'иль патио', 'иль-патио', 'мюнгер',\n",
       "       'ботик петра', 'кафе папа джонс', 'кафе штолле', 'чин чин',\n",
       "       'правdа кофе', 'сити', 'krispy creme', 'prime прайм стар',\n",
       "       'азбука вкуса', 'ресторан джон джоли', 'пивко',\n",
       "       'пиццерия папа джонс', 'ресторан брудер', 'мимино', 'кофепорт',\n",
       "       'кафе пицца фабрика', 'прайм стар', 'цинандали хинкальная',\n",
       "       'иль форно', 'travelers coffee', 'рецептор', 'сушишоп',\n",
       "       'кофе-хаус', 'баскин роббинс', 'барашка', 'корчма тарас бульба',\n",
       "       'кафе шоколадница', 'пицца хат', 'мята lounge', 'costa coffee',\n",
       "       'илья муромец', 'ёрш', 'стардогs', 'upside down cake',\n",
       "       'кафе пекарня хачапури', 'домашнее кафе сеть городских кафе',\n",
       "       'бар-буфет николай', 'добрынинский и партнёры', 'кофейня де марко',\n",
       "       'менза', 'тапчан', 'колбасофф', 'крепери де пари',\n",
       "       'брава коста кофе', 'старбакс starbucks', 'венеция', 'жан жак',\n",
       "       'гурмания', 'кулинарная лавка братьев караваевых', 'кафе тапчан',\n",
       "       'ресторан ньокки', 'bierloga', 'штирбирлиц', 'маки-маки',\n",
       "       'хачапури', 'в&в бургер', 'jeffreys coffee', 'travelers coffe',\n",
       "       'академия', 'дабл би', 'золотая вобла', 'пилзнер',\n",
       "       'траттория примавера', 'праймкафе прайм стар',\n",
       "       \"пиццерия домино'с пицца\", 'кафе суши сет', 'коста кофе',\n",
       "       'перекресток', 'starbucks', 'руккола', 'иль патио планета суши',\n",
       "       'кафе starbucks', 'шантимель (кондитерские)', 'милано пицца',\n",
       "       'зодиак', 'ресторан ёрш', 'торро гриль', 'фитнес-бар world class',\n",
       "       'роллофф', 'кафе кулинарное бюро', 'билла', 'урюк',\n",
       "       'кофейня старбакс', 'кафе кружка', 'tokyo bay', 'кулинарное бюро',\n",
       "       'пиппони', 'пицца пипони', 'детское кафе андерсон',\n",
       "       'кафе хлеб насущный', 'кулинарное бюро китчен', 'сытая утка',\n",
       "       'икура паб', 'сварня', 'детский клуб андерсон',\n",
       "       'пиццерия пиу дель чибо',\n",
       "       'предприятие быстрого обслуживания бургер кинг',\n",
       "       'предприятие быстрого обслуживания крошка картошка',\n",
       "       'предприятие быстрого обслуживания макдоналдс',\n",
       "       'предприятие быстрого обслуживания теремок', 'ичибан боши',\n",
       "       'макс бреннер', 'бутчер бизон', 'магбургер азс №16',\n",
       "       'магазин-кулинария суши сет', 'магбургер азс №17',\n",
       "       'кондитерская-пекарня волконский', 'il forno иль форно',\n",
       "       'кафе prime прайм стар', 'то да сё', 'пицца pomodoro',\n",
       "       'бургер кинг burger king', 'чешская пивная козловица', 'грабли',\n",
       "       'vietcafe вьеткафе', 'оникс', 'пицца pomodoro и суши дзен',\n",
       "       'вьеткафе', 'да пино', 'старина миллер', 'кафе рецептор',\n",
       "       'якитория и ян примус', 'старина мюллер старина миллер',\n",
       "       'кафе кофемания', 'хинкальная №1', 'пронто', 'пицца паоло',\n",
       "       'лепешка', 'чешская пивная пилзнер', 'пироги штолле', 'гурман',\n",
       "       'территория ясенево', 'сабвей сушивок', 'городские автокофейни',\n",
       "       'вгости. урюк', 'порто мальтезе', 'мимино хинкальная',\n",
       "       'квартира 44', 'хинкальная кинто',\n",
       "       'американ сити пицца цех по изготовлению пиццы',\n",
       "       'ресторан чайхона №1', 'бар азбука вкуса', 'суп кафе',\n",
       "       'ресторан florentini', 'поль бейкери', 'кафе му-му',\n",
       "       'glowsubs sandwiches', 'ми пьяче', 'кафе хинкальная',\n",
       "       'закусочная сушишоп', 'ресторан территория', 'кафе kfc',\n",
       "       'кафе пицца хат', 'пиццерия донателло',\n",
       "       'закусочная американ сити пицца',\n",
       "       'предприятие быстрого обслуживания сушишоп', 'нияма пицца пи',\n",
       "       'кафе ваби-саби', 'кафе марукамэ', 'кафе чайхона №1', 'бир хаус',\n",
       "       'спб', 'кебаб хаус', 'прайм-кафе', 'paul поль', 'шашлык-машлык',\n",
       "       'генацвали', 'территория timbigfamily', 'территория',\n",
       "       'да пино (da pino)', 'ресторан золотая вобла',\n",
       "       'граци рагацци зю кафе', 'виват-пицца', 'ресторан вьеткафе',\n",
       "       'пироговая штолле', 'сабвей subway', 'starlite diner',\n",
       "       'прайм-кафе прайм стар', 'старбакс', 'ресторан урюк',\n",
       "       'krispy krem', 'кофе хаус,экспресс', 'ростикс kfc',\n",
       "       'ресторан иль патио', 'ресторан маки-маки', 'кафе пронто',\n",
       "       'кофетун', 'ташир пицца', 'ресторан хинкальная', 'закусочная kfc',\n",
       "       'елки-палки', 'кафе кофе тун', 'метро к&к', 'тамаси суши',\n",
       "       'burger club', 'фантоцци рус', 'кафе урюк хивинская чайхона',\n",
       "       'ресторан пронто', 'изба', 'воккер', 'нияма', 'ганс и марта',\n",
       "       'кафе поль бейкери', 'кафе сабвей старбакс', 'kfc волгоградский',\n",
       "       'кофе', 'кафе теремок', 'ливан-хаус', 'лето', 'суши бар маки-маки',\n",
       "       'ямми микс', 'брудер', 'баракат', 'кафе при азс', 'урюк вавилова',\n",
       "       'кулинарное бюро kitchen', 'москва - макдоналдс', 'теремок инвест',\n",
       "       'ресторанвьеткафе', 'кафе космик', 'сушиман', 'кафе шоколад',\n",
       "       'япоша', 'кофе тун', 'барбарис', 'yogurt frenzy', 'bocconcino',\n",
       "       'помидор', 'дюшес', 'чайхона №1 бутово', 'кафе то да сё',\n",
       "       'кафе старбакс', 'урожай', 'ресторан ян примус', 'шварцвальд',\n",
       "       'tutti frutti frozen yogurt', 'кафе нияма', 'кафе менза',\n",
       "       'ресторан джардино да пино', 'кафе меленка',\n",
       "       'кафе кофейня старбакс', 'ресторан колбасофф', 'кафе макдоналдс',\n",
       "       'сбарро', 'кафе восточный базар', 'кафе кофе-хаус',\n",
       "       'ресторан космик', 'каро', 'пбо kfc покрышкина',\n",
       "       'кофейня старбакс кофе', 'ресторан планета суши',\n",
       "       'white rabbite (белый кролик)', 'бакинский бульвар', 'ян примус',\n",
       "       'кафе prime (прайм стар)', 'healthy food', 'sushilka',\n",
       "       'coffeeshop company', 'теремок-инвест', 'maki maki',\n",
       "       'ресторанмакдоналдс', 'стейк-хаус гудман', 'барбекю',\n",
       "       'обжорный ряд', 'космик', 'тайм авеню', 'братья караваевы',\n",
       "       'стардогs и шаурма', 'wok & box', 'кафе при азс газпромнефть',\n",
       "       'старбакс кофе', 'бар боулинг-космик', 'ресторан темпл бар',\n",
       "       'закусочная бургер кинг', 'ресторан чайхана урюк',\n",
       "       'прайм стар кафе', 'кофе с собой gate 42',\n",
       "       'кафе-закусочная бургер кинг', 'кафе торнадо', 'магбургер',\n",
       "       'ресторан теремок', 'ресторан бакинский бульвар',\n",
       "       \"предприятие быстрого обслуживания домино'с пицца\",\n",
       "       'кафе прайм стар', 'предприятие быстрого обслуживания бенто wok',\n",
       "       'предприятие быстрого обслуживания kfc', 'бургер клаб',\n",
       "       'кафе кофе хаус', 'кафе при азс bp', 'wokker', 'ариана',\n",
       "       'кафе суши вок', 'кафе бургер кинг', 'папа джонс пицца',\n",
       "       'закусочная теремок', 'закусочная крошка картошка',\n",
       "       'спорт-бар космик', 'ресторан японской кухни маки-маки',\n",
       "       'детское кафе космик', 'ванвок', 'шикари иль патио',\n",
       "       'кафе данкин донатс', 'ресторан бургер кинг',\n",
       "       'кафе крошка картошка', 'закусочная пицца хат',\n",
       "       'кафе costa coffee', 'каффе wokker', 'семейный ресторан космик',\n",
       "       'кафе иль патио il patio', 'кофейня дабл би', 'ресторан kfc',\n",
       "       'ресторан быстрого питания крошка картошка', 'starbucks кофе',\n",
       "       'пражечка', 'павлин мавлин чайхона №1', 'блинная', 'correas',\n",
       "       'мистер картошка', 'кафе сим-сим', 'pizengof99 спб', 'меленка',\n",
       "       'югос', 'марчеллис', 'кафе песто и митлес',\n",
       "       'ресторан вареничная №1', 'молли гвинз', 'шоколадница кофемания',\n",
       "       'дорогая я перезвоню', 'm cafe хинкальная', 'marrakesh хинкальная',\n",
       "       'кофейня кофемания, пиццерия бармалини',\n",
       "       'кофешоп coffeeshop company', 'гудман гудвин', 'гудман',\n",
       "       'torro grill торро гриль', 'ресторан торро гриль', 'the terrace',\n",
       "       'бир хаус паб', 'вlack burger чайхона №1',\n",
       "       'пончиковое кафе икеа ikea', 'ресторан икеа ikea', 'black & white',\n",
       "       'пиццерия додо пицца', 'роснефть', 'upside down', 'пбо kfc',\n",
       "       'пбо теремок', 'starbucks, старбакс кофе', 'кофейня costa coffee',\n",
       "       'cookhouse', 'dunkin donuts', 'мск московская сеть кальянных',\n",
       "       'братья караваевых', 'предприятие быстрого обслуживания магбургер',\n",
       "       'кафе баскин роббинс', 'cofix', 'пикколо', 'милти',\n",
       "       'сеть магазинов суши wok', 'васаби',\n",
       "       'грузинская кухня эzо хинкальная', 'кафе быстрого питания му-му',\n",
       "       'кафе суши wok', 'хачапури, одесса -мама', 'tgi fridays',\n",
       "       'deli by prime прайм-кафе', 'пицерия папа джонс', 'дабл би блэк',\n",
       "       'точка продажи готовой еды милти',\n",
       "       'предприятие быстрого обслуживания додо пицца', 'суши маки-маки',\n",
       "       'семейное кафе и кондитерская андерсон', 'grand урюк',\n",
       "       'кафе волконский пекарня', 'panda express',\n",
       "       'ав-дейли азбука вкуса', 'ирландский паб',\n",
       "       'кафе мороженного tutti frutti', 'бар суши wok',\n",
       "       \"ресторан домино'с пицца\", 'tutti frutti',\n",
       "       'кафе prime прайм стар прайм-кафе', 'prime прайм стар прайм-кафе',\n",
       "       \"кафе домино'с пицца\", 'кафе-пекарея волконский',\n",
       "       'нияма. пицца пи', 'алло пицца 2', 'бистро пронто', 'зю кафе',\n",
       "       'восточный базар', 'сказка', 'ресторан пицца хат', 'вкусняшка',\n",
       "       'грузинские каникулы барбарис', 'стардогс стардогs',\n",
       "       'суши тун, хруст pizza, кофе тун', 'кофе с собой кофейня',\n",
       "       'пиццерия пицца паоло', 'кафе при азс лукойл',\n",
       "       'лукойл-центрнефтьпродукт', 'fridays', 'мираторг',\n",
       "       'закусочная баскин роббинс & стардогс', 'бенто wok',\n",
       "       'кафе иль патио', 'bubbleology', 'starbucks старбакс',\n",
       "       'бодрый день кофе с собой', 'boobo', 'кальянная мята lounge',\n",
       "       'кальян-бар мята lounge', 'кальян- бар мята lounge', 'паб кружка',\n",
       "       'luciano', 'пиццерия пицца хат', 'лукойл', 'мята lounge шаболовка',\n",
       "       'кальянная f-lounge', 'мск московская сеть кальянных на шаболовке',\n",
       "       'семейное кафе андерсон',\n",
       "       'кафе кулинарная лавка братьев караваевых',\n",
       "       \"домино'с пицца domino,s pizza\", 'beverly hills diner',\n",
       "       'предприятие быстрого питания крошка картошка', 'florentini',\n",
       "       'кондитерия тирольские пироги', 'lavkalavka', 'хлебница пекарня',\n",
       "       'кальян-бар moskalyan', 'анти-кафе кальянная moskalyan',\n",
       "       'советские времена чебуречная ссср', 'мята lounge автозаводская',\n",
       "       'osteria mario', 'мясоroob', 'газпромнефтьцентр',\n",
       "       'якитория и спорт бар', 'японский ресторан ваби-саби',\n",
       "       'goodman гудман', 'prime star прайм стар', 'праймстар',\n",
       "       'coffeeshop', 'my box', 'vanwok ванвок', 'van wok ванвок',\n",
       "       'бб энд бургерс в&в бургер', 'закусочная стардогs', 'сувлаки',\n",
       "       'суши тун', 'пицца паоло и бенто wok', 'starbucks coffee',\n",
       "       'кофемания starbucks', 'movenpick', 'fridays kfc',\n",
       "       'ресторан быстрого питания kfc', 'marmalato',\n",
       "       'предприятие быстрого обслуживания милти',\n",
       "       'магазин готовой еды милти', 'готовые блюда милти',\n",
       "       'лаундж-бар мята lounge', 'бар мята lounge',\n",
       "       'мята lounge октябрьская', 'мята'], dtype=object)"
      ]
     },
     "execution_count": 16,
     "metadata": {},
     "output_type": "execute_result"
    }
   ],
   "source": [
    "chain_object_name['object_name'].unique()"
   ]
  },
  {
   "cell_type": "code",
   "execution_count": 17,
   "id": "5d7571a7",
   "metadata": {
    "scrolled": true
   },
   "outputs": [],
   "source": [
    "chain_object_name['object_name'] = chain_object_name['object_name'].str.replace('кафе ','', regex=True)\n",
    "chain_object_name['object_name'] = chain_object_name['object_name'].str.replace('ресторан ','', regex=True)\n",
    "chain_object_name['object_name'] = chain_object_name['object_name'].str.replace('пиццерия ','', regex=True)\n",
    "chain_object_name['object_name'] = chain_object_name['object_name'].str.replace('кофейня ','', regex=True)\n",
    "chain_object_name['object_name'] = chain_object_name['object_name'].str.replace('предприятие быстрого обслуживания ','', regex=True)\n",
    "chain_object_name['object_name'] = chain_object_name['object_name'].str.replace('быстрого питания ','', regex=True)\n",
    "chain_object_name['object_name'] = chain_object_name['object_name'].str.replace('пбо ','', regex=True)\n",
    "chain_object_name['object_name'] = chain_object_name['object_name'].str.replace('закусочная ','', regex=True)\n",
    "chain_object_name['object_name'] = chain_object_name['object_name'].str.replace('кондитерская ','', regex=True)\n",
    "chain_object_name['object_name'] = chain_object_name['object_name'].str.replace('кондитерская-пекарня ','', regex=True)\n",
    "chain_object_name['object_name'] = chain_object_name['object_name'].str.replace('ростикс ','', regex=True)\n",
    "chain_object_name['object_name'] = chain_object_name['object_name'].str.replace('кальянная ','', regex=True)\n",
    "chain_object_name['object_name'] = chain_object_name['object_name'].str.replace('бар ','', regex=True)"
   ]
  },
  {
   "cell_type": "code",
   "execution_count": 18,
   "id": "d794c541",
   "metadata": {},
   "outputs": [
    {
     "data": {
      "text/plain": [
       "427"
      ]
     },
     "execution_count": 18,
     "metadata": {},
     "output_type": "execute_result"
    }
   ],
   "source": [
    "len(chain_object_name['object_name'].unique())"
   ]
  },
  {
   "cell_type": "markdown",
   "id": "df8669ed",
   "metadata": {},
   "source": [
    "Названий сетевых заведений стало меньше на 127 штук. "
   ]
  },
  {
   "cell_type": "markdown",
   "id": "769a56db",
   "metadata": {},
   "source": [
    "Однако еще много заведений, в которых присутсвует топонимы (вроде \"kfc волгоградский\" или \"мята lounge автозаводская\"), а также слитно написанные название (например, \"ресторанмакдоналдс\"). Чтобы еще несколько сократить список, методом перебора наиболее распространеннных названий заведений и типов объектов, не найденных ранее, с помощью кода: \n",
    "\n",
    "queries = np.asarray(chain_object_name['object_name'])\n",
    "\n",
    "for query in queries:\n",
    "\n",
    "if 'пример' in query: \n",
    "\n",
    "print(query)\n",
    "        \n",
    "добавим еще несколько строк."
   ]
  },
  {
   "cell_type": "code",
   "execution_count": 19,
   "id": "e8762daf",
   "metadata": {},
   "outputs": [],
   "source": [
    "chain_object_name['object_name'] = chain_object_name['object_name'].str.replace('детское ','', regex=True)\n",
    "chain_object_name['object_name'] = chain_object_name['object_name'].str.replace('детский клуб ','', regex=True)\n",
    "chain_object_name['object_name'] = chain_object_name['object_name'].str.replace('домашнее ','', regex=True)\n",
    "chain_object_name['object_name'] = chain_object_name['object_name'].str.replace('кальян-','', regex=True)\n",
    "chain_object_name['object_name'] = chain_object_name['object_name'].str.replace('семейное и ','', regex=True)"
   ]
  },
  {
   "cell_type": "code",
   "execution_count": 20,
   "id": "0657cd10",
   "metadata": {},
   "outputs": [
    {
     "name": "stdout",
     "output_type": "stream",
     "text": [
      "кофе хаус,экспресс\n",
      "кофемания, бармалини\n",
      "starbucks, старбакс кофе\n",
      "хачапури, одесса -мама\n",
      "суши тун, хруст pizza, кофе тун\n",
      "домино'с пицца domino,s pizza\n"
     ]
    }
   ],
   "source": [
    "queries = np.asarray(chain_object_name['object_name'])\n",
    "for query in queries:\n",
    "    if ',' in query: \n",
    "        print(query)"
   ]
  },
  {
   "cell_type": "code",
   "execution_count": 21,
   "id": "ec893972",
   "metadata": {},
   "outputs": [],
   "source": [
    "chain_object_name['object_name'] = chain_object_name['object_name'].str.replace('семейное ','', regex=True)\n",
    "chain_object_name['object_name'] = chain_object_name['object_name'].str.replace('лаундж-','', regex=True)\n",
    "chain_object_name['object_name'] = chain_object_name['object_name'].str.replace('точка продажи ','', regex=True)\n",
    "chain_object_name['object_name'] = chain_object_name['object_name'].str.replace(' инвест','', regex=True)\n",
    "chain_object_name['object_name'] = chain_object_name['object_name'].str.replace('-инвест','', regex=True)\n",
    "chain_object_name['object_name'] = chain_object_name['object_name'].str.replace(' пекарня','', regex=True)\n",
    "chain_object_name['object_name'] = chain_object_name['object_name'].str.replace('магазин ','', regex=True)\n",
    "chain_object_name['object_name'] = chain_object_name['object_name'].str.replace('магазин-кулинария','', regex=True)\n",
    "chain_object_name['object_name'] = chain_object_name['object_name'].str.replace('сеть магазинов ','', regex=True)\n",
    "chain_object_name['object_name'] = chain_object_name['object_name'].str.replace('мороженного ','', regex=True)\n",
    "chain_object_name['object_name'] = chain_object_name['object_name'].str.replace('готовой еды ','', regex=True)\n",
    "chain_object_name['object_name'] = chain_object_name['object_name'].str.replace(' покрышкина','', regex=True)\n",
    "chain_object_name['object_name'] = chain_object_name['object_name'].str.replace(' волгоградский','', regex=True)\n",
    "chain_object_name['object_name'] = chain_object_name['object_name'].str.replace(' автозаводская','', regex=True)\n",
    "chain_object_name['object_name'] = chain_object_name['object_name'].str.replace(' октябрьская','', regex=True)\n",
    "chain_object_name['object_name'] = chain_object_name['object_name'].str.replace(' шаболовка','', regex=True)\n",
    "chain_object_name['object_name'] = chain_object_name['object_name'].str.replace('москва - ','', regex=True)\n",
    "chain_object_name['object_name'] = chain_object_name['object_name'].str.replace('сабвей ','', regex=True)"
   ]
  },
  {
   "cell_type": "code",
   "execution_count": 22,
   "id": "62afe80f",
   "metadata": {},
   "outputs": [],
   "source": [
    "chain_object_name['object_name'] = chain_object_name['object_name'].str.replace('сабвей','subway', regex=True)\n",
    "chain_object_name['object_name'] = chain_object_name['object_name'].str.replace(', старбакс кофе','', regex=True)\n",
    "chain_object_name['object_name'] = chain_object_name['object_name'].str.replace('старбакс ','', regex=True)\n",
    "chain_object_name['object_name'] = chain_object_name['object_name'].str.replace(' старбакс','', regex=True)\n",
    "chain_object_name['object_name'] = chain_object_name['object_name'].str.replace('starbucks coffee','starbucks', regex=True)\n",
    "chain_object_name['object_name'] = chain_object_name['object_name'].str.replace('starbucks кофе','starbucks', regex=True)\n",
    "chain_object_name['object_name'] = chain_object_name['object_name'].str.replace('ресторанмакдоналдс','макдоналдс', regex=True)\n",
    "chain_object_name['object_name'] = chain_object_name['object_name'].str.replace('ресторанвьеткафе','вьет-кафе', regex=True)"
   ]
  },
  {
   "cell_type": "code",
   "execution_count": 23,
   "id": "e0f8a859",
   "metadata": {},
   "outputs": [
    {
     "data": {
      "text/plain": [
       "396"
      ]
     },
     "execution_count": 23,
     "metadata": {},
     "output_type": "execute_result"
    }
   ],
   "source": [
    "len(chain_object_name['object_name'].unique())"
   ]
  },
  {
   "cell_type": "markdown",
   "id": "36ce2a9c",
   "metadata": {},
   "source": [
    "У нас осталось 396 названий сетевых заведений. К единому образцу приведены не все, поскольку в самих данных есть ошибки с точки зрения заполнения, но уже значительно меньше некачественных значений. "
   ]
  },
  {
   "cell_type": "code",
   "execution_count": 24,
   "id": "0bb98670",
   "metadata": {},
   "outputs": [
    {
     "data": {
      "text/html": [
       "<div>\n",
       "<style scoped>\n",
       "    .dataframe tbody tr th:only-of-type {\n",
       "        vertical-align: middle;\n",
       "    }\n",
       "\n",
       "    .dataframe tbody tr th {\n",
       "        vertical-align: top;\n",
       "    }\n",
       "\n",
       "    .dataframe thead th {\n",
       "        text-align: right;\n",
       "    }\n",
       "</style>\n",
       "<table border=\"1\" class=\"dataframe\">\n",
       "  <thead>\n",
       "    <tr style=\"text-align: right;\">\n",
       "      <th></th>\n",
       "      <th>id</th>\n",
       "      <th>number</th>\n",
       "    </tr>\n",
       "    <tr>\n",
       "      <th>object_name</th>\n",
       "      <th></th>\n",
       "      <th></th>\n",
       "    </tr>\n",
       "  </thead>\n",
       "  <tbody>\n",
       "    <tr>\n",
       "      <td>kfc</td>\n",
       "      <td>187</td>\n",
       "      <td>55.866310</td>\n",
       "    </tr>\n",
       "    <tr>\n",
       "      <td>шоколадница</td>\n",
       "      <td>183</td>\n",
       "      <td>57.814208</td>\n",
       "    </tr>\n",
       "    <tr>\n",
       "      <td>макдоналдс</td>\n",
       "      <td>173</td>\n",
       "      <td>87.017341</td>\n",
       "    </tr>\n",
       "    <tr>\n",
       "      <td>бургер кинг</td>\n",
       "      <td>151</td>\n",
       "      <td>46.278146</td>\n",
       "    </tr>\n",
       "    <tr>\n",
       "      <td>теремок</td>\n",
       "      <td>111</td>\n",
       "      <td>27.144144</td>\n",
       "    </tr>\n",
       "    <tr>\n",
       "      <td>домино'с пицца</td>\n",
       "      <td>98</td>\n",
       "      <td>18.173469</td>\n",
       "    </tr>\n",
       "    <tr>\n",
       "      <td>крошка картошка</td>\n",
       "      <td>95</td>\n",
       "      <td>21.368421</td>\n",
       "    </tr>\n",
       "    <tr>\n",
       "      <td>милти</td>\n",
       "      <td>80</td>\n",
       "      <td>1.200000</td>\n",
       "    </tr>\n",
       "    <tr>\n",
       "      <td>суши wok</td>\n",
       "      <td>76</td>\n",
       "      <td>6.763158</td>\n",
       "    </tr>\n",
       "    <tr>\n",
       "      <td>папа джонс</td>\n",
       "      <td>65</td>\n",
       "      <td>22.307692</td>\n",
       "    </tr>\n",
       "  </tbody>\n",
       "</table>\n",
       "</div>"
      ],
      "text/plain": [
       "                  id     number\n",
       "object_name                    \n",
       "kfc              187  55.866310\n",
       "шоколадница      183  57.814208\n",
       "макдоналдс       173  87.017341\n",
       "бургер кинг      151  46.278146\n",
       "теремок          111  27.144144\n",
       "домино'с пицца    98  18.173469\n",
       "крошка картошка   95  21.368421\n",
       "милти             80   1.200000\n",
       "суши wok          76   6.763158\n",
       "папа джонс        65  22.307692"
      ]
     },
     "execution_count": 24,
     "metadata": {},
     "output_type": "execute_result"
    }
   ],
   "source": [
    "chain_object_name_new = chain_object_name.groupby('object_name').agg(\n",
    "    {'id':'nunique', 'number':'mean'}).sort_values(by='id', ascending=False)\n",
    "chain_object_name_new.head(10)"
   ]
  },
  {
   "cell_type": "code",
   "execution_count": 25,
   "id": "2f9e9890",
   "metadata": {},
   "outputs": [
    {
     "data": {
      "image/png": "[encoded data removed]",
      "text/plain": [
       "<Figure size 864x864 with 1 Axes>"
      ]
     },
     "metadata": {},
     "output_type": "display_data"
    }
   ],
   "source": [
    "plt.figure(figsize = (12, 12))\n",
    "sns.scatterplot(data=chain_object_name_new, x='id', y='number', color=['C3'])\n",
    "plt.title('Распределение сетевых заведений по количеству точек и посадочных мест', fontsize=14)\n",
    "plt.xlabel('Количество точек в сети', fontsize=12)\n",
    "plt.ylabel('Среднее количество посадочных мест', fontsize=12)\n",
    "plt.show()"
   ]
  },
  {
   "cell_type": "markdown",
   "id": "1ab82338",
   "metadata": {},
   "source": [
    "Сетки с большим количеством (от 150) точек на карте в среднем располагают 50-80 посадочными местами - это такие гиганты как kfc, бургер кинг, макдоналдс и шоколадница. В точках сетей поменьше (от 50 до 125 заведений) посадочных мест в среднем тоже меньше - от 1 до 30 мест. Это обычно средние по размеру пиццерии, сушишопы и фаст-фуд. \n",
    "\n",
    "В сетях, количество точек общепита в которых насчитывает от 10 до 50, могут встречаться как небольшие заведения с количеством посадочных мест от 0 до 50, так и крупные точки с числом мест больше 150 и их количество примерно одинаково. \n",
    "\n",
    "В совсем мелких сетях (1-3 заведения по городу) налюдается следующая картина: наибольшая концентрация объектов с количеством посадочных мест до 50. Затем чуть-чуть меньше объектов с посадкой на 100 человек. Выше концентрация спадает, но наблюдаются объекты с количеством посадочных от 150 до 305. \n",
    "\n",
    "Таким образом, сети, где число заведений небольшое, чаще имеют большее количество посадочных мест, чем крупные франшизы. "
   ]
  },
  {
   "cell_type": "markdown",
   "id": "e2d5cfb2",
   "metadata": {},
   "source": [
    "Для каждого вида объекта общественного питания посчитаем среднее количество посадочных мест."
   ]
  },
  {
   "cell_type": "code",
   "execution_count": 26,
   "id": "fb57aa67",
   "metadata": {},
   "outputs": [
    {
     "data": {
      "image/png": "[encoded data removed]",
      "text/plain": [
       "<Figure size 1440x864 with 2 Axes>"
      ]
     },
     "metadata": {},
     "output_type": "display_data"
    }
   ],
   "source": [
    "fig, ax=plt.subplots(1,2, figsize=(20, 12))\n",
    "\n",
    "sns.barplot(data=rest_data, x='object_type', y='number', ax=ax[0])\n",
    "sns.barplot(data=rest_data, x='object_type', y='number', hue='chain', ax=ax[1], palette=['C2', 'C7'])\n",
    "\n",
    "ax[0].set_title('Среднее количество посадочных мест', fontsize=14)\n",
    "ax[1].set_title('Среднее количество посадочных мест в зависимости от сетевого/несетевого типа', fontsize=14)\n",
    "\n",
    "locs, labels = plt.xticks()\n",
    "ax[0].set_xticklabels(labels, rotation=45, rotation_mode='anchor', ha='right', fontsize=12)\n",
    "ax[1].set_xticklabels(labels, rotation=45, rotation_mode='anchor', ha='right', fontsize=12)\n",
    "\n",
    "ax[0].set_xlabel('')\n",
    "ax[1].set_xlabel('')\n",
    "\n",
    "ax[0].set_ylabel('Посадочные места', fontsize=12)\n",
    "ax[1].set_ylabel('Посадочные места', fontsize=12)\n",
    "\n",
    "plt.legend(title='Сеть')\n",
    "plt.show()"
   ]
  },
  {
   "cell_type": "markdown",
   "id": "cb3b9a6a",
   "metadata": {},
   "source": [
    "Для столовой наиболее характерно большое количество посадочных мест - в среднем 130. В разрезе по принадлежности к сети, среднее у отметки в 110, однако, разброс значений сильнее. Рестораны, как сетевые, так и несетевые в среднем имеют 90-100 посадочных мест. Сетевые предприятия быстрого обслуживания имеют в среднем 40 посадочных мест, тогда как несетевые 20. Сетевые кафе также несколько больше несетевых в размерах.   \n",
    "\n",
    "Кафетерии, закусочные, магазины кулинарии зачастую совсем не имеют посадки и работают на вынос. Для баров, кафе свойственно создание уникальной атмосферы с ограниченным количеством посадочных мест. Столовые расчитаны на единовременное обслуживание большого числа клиентов. Рестораны, в свою очередь, одной из опций предлагают проведение мероприятий, банкетов, конференций на большое число гостей. "
   ]
  },
  {
   "cell_type": "markdown",
   "id": "e3da2901",
   "metadata": {},
   "source": [
    "Теперь необходимо из столбца с адресом выделить улицы, на которых расположены заведения. "
   ]
  },
  {
   "cell_type": "code",
   "execution_count": 27,
   "id": "e53cb90b",
   "metadata": {},
   "outputs": [],
   "source": [
    "rest_data['street'] = rest_data['address']"
   ]
  },
  {
   "cell_type": "code",
   "execution_count": 28,
   "id": "9c2ffe79",
   "metadata": {},
   "outputs": [],
   "source": [
    "words = ['улица','ул','переулок','шоссе','проспект','площадь',\n",
    "         'проезд','аллея','бульвар','набережная','тупик','линия','квартал','микрорайон','километр','территория','просек']\n",
    "\n",
    "str_pat = r\"(([A-zА-я0-9\\sёЁ -]+)?(?:{})([ A-zА-я0-9]+)?)\".format(\"|\".join(words))\n",
    "\n",
    "rest_data['street'] = rest_data['address'].str.extract(str_pat, flags=re.I)\n",
    "rest_data['street'] = rest_data['street'].str.strip()"
   ]
  },
  {
   "cell_type": "code",
   "execution_count": 29,
   "id": "9e8d426d",
   "metadata": {},
   "outputs": [],
   "source": [
    "rest_data['street'] = rest_data['street'].fillna('Без улицы')"
   ]
  },
  {
   "cell_type": "code",
   "execution_count": 30,
   "id": "7f005c96",
   "metadata": {},
   "outputs": [
    {
     "data": {
      "text/html": [
       "<div>\n",
       "<style scoped>\n",
       "    .dataframe tbody tr th:only-of-type {\n",
       "        vertical-align: middle;\n",
       "    }\n",
       "\n",
       "    .dataframe tbody tr th {\n",
       "        vertical-align: top;\n",
       "    }\n",
       "\n",
       "    .dataframe thead th {\n",
       "        text-align: right;\n",
       "    }\n",
       "</style>\n",
       "<table border=\"1\" class=\"dataframe\">\n",
       "  <thead>\n",
       "    <tr style=\"text-align: right;\">\n",
       "      <th></th>\n",
       "      <th>id</th>\n",
       "      <th>object_name</th>\n",
       "      <th>chain</th>\n",
       "      <th>object_type</th>\n",
       "      <th>address</th>\n",
       "      <th>number</th>\n",
       "      <th>street</th>\n",
       "    </tr>\n",
       "  </thead>\n",
       "  <tbody>\n",
       "    <tr>\n",
       "      <td>0</td>\n",
       "      <td>151635</td>\n",
       "      <td>сметана</td>\n",
       "      <td>нет</td>\n",
       "      <td>кафе</td>\n",
       "      <td>город Москва, улица Егора Абакумова, дом 9</td>\n",
       "      <td>48</td>\n",
       "      <td>улица Егора Абакумова</td>\n",
       "    </tr>\n",
       "    <tr>\n",
       "      <td>1</td>\n",
       "      <td>77874</td>\n",
       "      <td>родник</td>\n",
       "      <td>нет</td>\n",
       "      <td>кафе</td>\n",
       "      <td>город Москва, улица Талалихина, дом 2/1, корпус 1</td>\n",
       "      <td>35</td>\n",
       "      <td>улица Талалихина</td>\n",
       "    </tr>\n",
       "    <tr>\n",
       "      <td>2</td>\n",
       "      <td>24309</td>\n",
       "      <td>кафе академия</td>\n",
       "      <td>нет</td>\n",
       "      <td>кафе</td>\n",
       "      <td>город Москва, Абельмановская улица, дом 6</td>\n",
       "      <td>95</td>\n",
       "      <td>Абельмановская улица</td>\n",
       "    </tr>\n",
       "    <tr>\n",
       "      <td>3</td>\n",
       "      <td>21894</td>\n",
       "      <td>пиццетория</td>\n",
       "      <td>да</td>\n",
       "      <td>кафе</td>\n",
       "      <td>город Москва, Абрамцевская улица, дом 1</td>\n",
       "      <td>40</td>\n",
       "      <td>Абрамцевская улица</td>\n",
       "    </tr>\n",
       "    <tr>\n",
       "      <td>4</td>\n",
       "      <td>119365</td>\n",
       "      <td>кафе вишневая метель</td>\n",
       "      <td>нет</td>\n",
       "      <td>кафе</td>\n",
       "      <td>город Москва, Абрамцевская улица, дом 9, корпус 1</td>\n",
       "      <td>50</td>\n",
       "      <td>Абрамцевская улица</td>\n",
       "    </tr>\n",
       "  </tbody>\n",
       "</table>\n",
       "</div>"
      ],
      "text/plain": [
       "       id           object_name chain object_type  \\\n",
       "0  151635               сметана   нет        кафе   \n",
       "1   77874                родник   нет        кафе   \n",
       "2   24309         кафе академия   нет        кафе   \n",
       "3   21894            пиццетория    да        кафе   \n",
       "4  119365  кафе вишневая метель   нет        кафе   \n",
       "\n",
       "                                             address  number  \\\n",
       "0         город Москва, улица Егора Абакумова, дом 9      48   \n",
       "1  город Москва, улица Талалихина, дом 2/1, корпус 1      35   \n",
       "2          город Москва, Абельмановская улица, дом 6      95   \n",
       "3            город Москва, Абрамцевская улица, дом 1      40   \n",
       "4  город Москва, Абрамцевская улица, дом 9, корпус 1      50   \n",
       "\n",
       "                  street  \n",
       "0  улица Егора Абакумова  \n",
       "1       улица Талалихина  \n",
       "2   Абельмановская улица  \n",
       "3     Абрамцевская улица  \n",
       "4     Абрамцевская улица  "
      ]
     },
     "execution_count": 30,
     "metadata": {},
     "output_type": "execute_result"
    }
   ],
   "source": [
    "rest_data.head()"
   ]
  },
  {
   "cell_type": "code",
   "execution_count": 31,
   "id": "fb5a4a70",
   "metadata": {},
   "outputs": [
    {
     "data": {
      "text/html": [
       "<div>\n",
       "<style scoped>\n",
       "    .dataframe tbody tr th:only-of-type {\n",
       "        vertical-align: middle;\n",
       "    }\n",
       "\n",
       "    .dataframe tbody tr th {\n",
       "        vertical-align: top;\n",
       "    }\n",
       "\n",
       "    .dataframe thead th {\n",
       "        text-align: right;\n",
       "    }\n",
       "</style>\n",
       "<table border=\"1\" class=\"dataframe\">\n",
       "  <thead>\n",
       "    <tr style=\"text-align: right;\">\n",
       "      <th></th>\n",
       "      <th>id</th>\n",
       "      <th>object_name</th>\n",
       "      <th>chain</th>\n",
       "      <th>object_type</th>\n",
       "      <th>address</th>\n",
       "      <th>number</th>\n",
       "      <th>street</th>\n",
       "    </tr>\n",
       "  </thead>\n",
       "  <tbody>\n",
       "    <tr>\n",
       "      <td>14981</td>\n",
       "      <td>216909</td>\n",
       "      <td>кафе</td>\n",
       "      <td>нет</td>\n",
       "      <td>буфет</td>\n",
       "      <td>город Москва, поселение Десеновское, деревня В...</td>\n",
       "      <td>10</td>\n",
       "      <td>Без улицы</td>\n",
       "    </tr>\n",
       "    <tr>\n",
       "      <td>14997</td>\n",
       "      <td>216942</td>\n",
       "      <td>шашлычный дворик</td>\n",
       "      <td>нет</td>\n",
       "      <td>кафе</td>\n",
       "      <td>город Москва, поселение Десеновское, деревня В...</td>\n",
       "      <td>15</td>\n",
       "      <td>Без улицы</td>\n",
       "    </tr>\n",
       "    <tr>\n",
       "      <td>14998</td>\n",
       "      <td>216926</td>\n",
       "      <td>кафе сахли</td>\n",
       "      <td>нет</td>\n",
       "      <td>закусочная</td>\n",
       "      <td>город Москва, поселение Десеновское, деревня В...</td>\n",
       "      <td>10</td>\n",
       "      <td>Без улицы</td>\n",
       "    </tr>\n",
       "    <tr>\n",
       "      <td>15015</td>\n",
       "      <td>208239</td>\n",
       "      <td>газпромнефть</td>\n",
       "      <td>нет</td>\n",
       "      <td>кафе</td>\n",
       "      <td>поселение \"Мосрентген\", деревня Дудкино, владе...</td>\n",
       "      <td>20</td>\n",
       "      <td>Без улицы</td>\n",
       "    </tr>\n",
       "    <tr>\n",
       "      <td>15184</td>\n",
       "      <td>220587</td>\n",
       "      <td>пицца паоло</td>\n",
       "      <td>да</td>\n",
       "      <td>кафетерий</td>\n",
       "      <td>город Москва, город Зеленоград, корпус 1627</td>\n",
       "      <td>0</td>\n",
       "      <td>Без улицы</td>\n",
       "    </tr>\n",
       "  </tbody>\n",
       "</table>\n",
       "</div>"
      ],
      "text/plain": [
       "           id       object_name chain object_type  \\\n",
       "14981  216909              кафе   нет       буфет   \n",
       "14997  216942  шашлычный дворик   нет        кафе   \n",
       "14998  216926        кафе сахли   нет  закусочная   \n",
       "15015  208239      газпромнефть   нет        кафе   \n",
       "15184  220587       пицца паоло    да   кафетерий   \n",
       "\n",
       "                                                 address  number     street  \n",
       "14981  город Москва, поселение Десеновское, деревня В...      10  Без улицы  \n",
       "14997  город Москва, поселение Десеновское, деревня В...      15  Без улицы  \n",
       "14998  город Москва, поселение Десеновское, деревня В...      10  Без улицы  \n",
       "15015  поселение \"Мосрентген\", деревня Дудкино, владе...      20  Без улицы  \n",
       "15184        город Москва, город Зеленоград, корпус 1627       0  Без улицы  "
      ]
     },
     "execution_count": 31,
     "metadata": {},
     "output_type": "execute_result"
    }
   ],
   "source": [
    "rest_data.query('street == \"Без улицы\"').tail()"
   ]
  },
  {
   "cell_type": "code",
   "execution_count": 32,
   "id": "be8f8745",
   "metadata": {
    "scrolled": true
   },
   "outputs": [
    {
     "name": "stdout",
     "output_type": "stream",
     "text": [
      "город Москва, Школьная улица, дом 13\n",
      "город Москва, Школьная улица, дом 21\n",
      "город Москва, поселение Роговское, посёлок Рогово, Школьная улица, дом 5А\n",
      "город Москва, город Троицк, Школьная улица, дом 10\n",
      "город Москва, город Троицк, Школьная улица, дом 10А\n",
      "Школьная улица, дом 48, строение 1\n",
      "город Москва, поселение Щаповское, посёлок Курилово, Школьная улица, дом 3\n",
      "город Москва, поселение Первомайское, деревня Горчаково, Школьная улица, дом 1А\n",
      "город Москва, поселение Первомайское, деревня Горчаково, Школьная улица, дом 1А\n"
     ]
    }
   ],
   "source": [
    "queries = np.asarray(rest_data['address'])\n",
    "for query in queries:\n",
    "    if 'Школьная' in query:\n",
    "        print(query)"
   ]
  },
  {
   "cell_type": "markdown",
   "id": "55052b58",
   "metadata": {},
   "source": [
    "В нашем датасете много населенных пунктов, которые находятся в юрисдикции Москвы как субъекта РФ, но имеют собственную систему топонимов, из-за чего некоторые улицы самой Москвы могут пересекаться в названиях с улицами поселений и мелких городов, таких как Троицк или Зеленоград. Например, Школьная улица в Москве расположена в Таганском районе, но улица с таким же названием есть в Троицке и еще нескольких поселениях за пределами МКАД и ЦКАД. "
   ]
  },
  {
   "cell_type": "code",
   "execution_count": 33,
   "id": "0d19efff",
   "metadata": {
    "scrolled": true
   },
   "outputs": [
    {
     "name": "stdout",
     "output_type": "stream",
     "text": [
      "город Москва, поселение Сосенское, Калужское шоссе, 22-й километр, дом 10\n",
      "город Москва, поселение Сосенское, Калужское шоссе, 22-й километр, дом 10\n",
      "город Москва, поселение Сосенское, Калужское шоссе, 22-й километр, дом 10\n",
      "город Москва, поселение Сосенское, Калужское шоссе, 22-й километр, дом 10\n",
      "город Москва, поселение Сосенское, Калужское шоссе, 22-й километр, дом 10\n",
      "город Москва, поселение Сосенское, Калужское шоссе, 22-й километр, дом 10\n",
      "город Москва, поселение Сосенское, Калужское шоссе, 22-й километр, дом 10\n",
      "город Москва, поселение Сосенское, Калужское шоссе, 22-й километр, дом 10\n",
      "город Москва, поселение Сосенское, Калужское шоссе, 22-й километр, дом 10\n",
      "город Москва, поселение Сосенское, Калужское шоссе, 22-й километр, дом 10\n",
      "город Москва, поселение Сосенское, Калужское шоссе, 22-й километр, дом 10\n",
      "город Москва, поселение Сосенское, Калужское шоссе, 22-й километр, дом 10\n",
      "город Москва, поселение Сосенское, Калужское шоссе, 22-й километр, дом 10\n",
      "город Москва, поселение Сосенское, Калужское шоссе, 22-й километр, дом 10\n",
      "город Москва, поселение Сосенское, Калужское шоссе, 22-й километр, дом 10\n",
      "город Москва, поселение Сосенское, Калужское шоссе, 22-й километр, дом 10\n",
      "город Москва, поселение Сосенское, Калужское шоссе, 22-й километр, дом 10\n",
      "город Москва, поселение Сосенское, Калужское шоссе, 22-й километр, дом 10\n",
      "город Москва, поселение Сосенское, Калужское шоссе, 22-й километр, дом 10\n",
      "город Москва, поселение Сосенское, Калужское шоссе, 22-й километр, дом 10\n",
      "город Москва, поселение Сосенское, Калужское шоссе, 22-й километр, дом 10\n",
      "город Москва, поселение Сосенское, Калужское шоссе, 22-й километр, дом 10\n",
      "город Москва, поселение Сосенское, Калужское шоссе, 22-й километр, дом 10\n",
      "город Москва, поселение Сосенское, Калужское шоссе, 22-й километр, дом 10\n",
      "город Москва, поселение Сосенское, Калужское шоссе, 22-й километр, дом 10\n",
      "город Москва, поселение Сосенское, Калужское шоссе, 22-й километр, дом 10\n",
      "город Москва, город Троицк, Калужское шоссе, дом 17\n",
      "город Москва, город Троицк, Калужское шоссе, дом 17\n",
      "город Москва, город Троицк, Калужское шоссе, дом 17\n",
      "город Москва, поселение \"Мосрентген\", Калужское шоссе, 20-й километр, владение 4, строение 1\n",
      "город Москва, поселение \"Мосрентген\", Калужское шоссе, 20-й километр, владение 4, строение 1\n",
      "город Москва, поселение Краснопахорское, Калужское шоссе, 43-й километр, владение 1, строение 1\n",
      "город Москва, поселение Краснопахорское, Калужское шоссе, 47-й километр, дом 4, строение 1\n",
      "город Москва, поселение Краснопахорское, Калужское шоссе, 47-й километр, дом 4, строение 3\n",
      "город Москва, поселение \"Мосрентген\", Калужское шоссе, 22-й километр, домовладение 8, строение 1\n",
      "город Москва, поселение Сосенское, Калужское шоссе, 22-й километр, дом 10\n",
      "город Москва, поселение Сосенское, Калужское шоссе, 22-й километр, дом 10\n",
      "город Москва, поселение Сосенское, Калужское шоссе, 22-й километр, дом 10\n",
      "город Москва, поселение Сосенское, Калужское шоссе, 22-й километр, дом 10\n",
      "город Москва, город Троицк, Калужское шоссе, дом 17\n",
      "город Москва, поселение \"Мосрентген\", Калужское шоссе, 20-й километр, владение 4, строение 1\n",
      "город Москва, поселение \"Мосрентген\", Калужское шоссе, 20-й километр, владение 4, строение 1\n",
      "город Москва, поселение \"Мосрентген\", Калужское шоссе, 20-й километр, владение 4, строение 1\n",
      "город Москва, поселение \"Мосрентген\", Калужское шоссе, 20-й километр, владение 4, строение 1\n",
      "город Москва, поселение Краснопахорское, Калужское шоссе, 47-й километр, владение 6, строение 2\n",
      "город Москва, поселение Сосенское, Калужское шоссе, 22-й километр, дом 10\n",
      "город Москва, поселение Сосенское, Калужское шоссе, 22-й километр, дом 10\n",
      "город Москва, поселение Сосенское, Калужское шоссе, 22-й километр, дом 10\n",
      "город Москва, поселение Сосенское, Калужское шоссе, 22-й километр, дом 10\n",
      "город Москва, поселение Сосенское, Калужское шоссе, 22-й километр, дом 10\n",
      "город Москва, поселение Сосенское, Калужское шоссе, 22-й километр, дом 10\n",
      "город Москва, поселение Сосенское, Калужское шоссе, 22-й километр, дом 10\n",
      "город Москва, поселение Сосенское, Калужское шоссе, 22-й километр, дом 10\n"
     ]
    }
   ],
   "source": [
    "queries = np.asarray(rest_data['address'])\n",
    "for query in queries:\n",
    "    if 'Калужское шоссе' in query:\n",
    "        print(query)"
   ]
  },
  {
   "cell_type": "markdown",
   "id": "c2910f24",
   "metadata": {},
   "source": [
    "Или, например, есть очень длинные улицы как Калужское шоссе, которые идут сквозь несколько московских поселений. Предположим, что аудитория будущего заведения со специфическим роботизированным обслуживанием все-таки локализуется в центральных районах Москвы, поэтому, во-первых, чтобы избежать неправильной группировки по улицам, во-вторых, ограничить локацию заведения МКАДом, удалим из датасета строки, в адресе которых указаны мелкие поселения и города Москвы."
   ]
  },
  {
   "cell_type": "code",
   "execution_count": 34,
   "id": "695dbdf4",
   "metadata": {},
   "outputs": [],
   "source": [
    "rest_data = rest_data[~rest_data['address'].str.contains('поселение')]\n",
    "rest_data = rest_data[~rest_data['address'].str.contains('посёлок')]\n",
    "rest_data = rest_data[~rest_data['address'].str.contains('город Зеленоград')]\n",
    "rest_data = rest_data[~rest_data['address'].str.contains('город Троицк')]\n",
    "rest_data = rest_data[~rest_data['address'].str.contains('город Щербинка')]\n",
    "rest_data = rest_data[~rest_data['address'].str.contains('город Московский')]\n",
    "rest_data = rest_data[~rest_data['address'].str.contains('деревня')]"
   ]
  },
  {
   "cell_type": "markdown",
   "id": "45ca04e4",
   "metadata": {},
   "source": [
    "Теперь наша задача найти топ-10 улиц с наибольшим количеством заведений и с помощью внешних данных определить район города, в котором они расположены. А также найти улицы с всего одним объектом общественного питания и выяснить район."
   ]
  },
  {
   "cell_type": "code",
   "execution_count": 35,
   "id": "f14f5b5a",
   "metadata": {},
   "outputs": [
    {
     "data": {
      "text/html": [
       "<div>\n",
       "<style scoped>\n",
       "    .dataframe tbody tr th:only-of-type {\n",
       "        vertical-align: middle;\n",
       "    }\n",
       "\n",
       "    .dataframe tbody tr th {\n",
       "        vertical-align: top;\n",
       "    }\n",
       "\n",
       "    .dataframe thead th {\n",
       "        text-align: right;\n",
       "    }\n",
       "</style>\n",
       "<table border=\"1\" class=\"dataframe\">\n",
       "  <thead>\n",
       "    <tr style=\"text-align: right;\">\n",
       "      <th></th>\n",
       "      <th>streetname</th>\n",
       "      <th>areaid</th>\n",
       "      <th>okrug</th>\n",
       "      <th>area</th>\n",
       "    </tr>\n",
       "  </thead>\n",
       "  <tbody>\n",
       "    <tr>\n",
       "      <td>0</td>\n",
       "      <td>Выставочный переулок</td>\n",
       "      <td>17</td>\n",
       "      <td>ЦАО</td>\n",
       "      <td>Пресненский район</td>\n",
       "    </tr>\n",
       "    <tr>\n",
       "      <td>1</td>\n",
       "      <td>улица Гашека</td>\n",
       "      <td>17</td>\n",
       "      <td>ЦАО</td>\n",
       "      <td>Пресненский район</td>\n",
       "    </tr>\n",
       "    <tr>\n",
       "      <td>2</td>\n",
       "      <td>Большая Никитская улица</td>\n",
       "      <td>17</td>\n",
       "      <td>ЦАО</td>\n",
       "      <td>Пресненский район</td>\n",
       "    </tr>\n",
       "    <tr>\n",
       "      <td>3</td>\n",
       "      <td>Глубокий переулок</td>\n",
       "      <td>17</td>\n",
       "      <td>ЦАО</td>\n",
       "      <td>Пресненский район</td>\n",
       "    </tr>\n",
       "    <tr>\n",
       "      <td>4</td>\n",
       "      <td>Большой Гнездниковский переулок</td>\n",
       "      <td>17</td>\n",
       "      <td>ЦАО</td>\n",
       "      <td>Пресненский район</td>\n",
       "    </tr>\n",
       "  </tbody>\n",
       "</table>\n",
       "</div>"
      ],
      "text/plain": [
       "                        streetname  areaid okrug               area\n",
       "0             Выставочный переулок      17   ЦАО  Пресненский район\n",
       "1                     улица Гашека      17   ЦАО  Пресненский район\n",
       "2          Большая Никитская улица      17   ЦАО  Пресненский район\n",
       "3                Глубокий переулок      17   ЦАО  Пресненский район\n",
       "4  Большой Гнездниковский переулок      17   ЦАО  Пресненский район"
      ]
     },
     "execution_count": 35,
     "metadata": {},
     "output_type": "execute_result"
    }
   ],
   "source": [
    "districts.head()"
   ]
  },
  {
   "cell_type": "code",
   "execution_count": 36,
   "id": "e9f21abb",
   "metadata": {},
   "outputs": [],
   "source": [
    "districts = districts.drop(['areaid', 'okrug'], axis=1)"
   ]
  },
  {
   "cell_type": "code",
   "execution_count": 37,
   "id": "5175591e",
   "metadata": {},
   "outputs": [
    {
     "name": "stdout",
     "output_type": "stream",
     "text": [
      "<class 'pandas.core.frame.DataFrame'>\n",
      "RangeIndex: 4398 entries, 0 to 4397\n",
      "Data columns (total 2 columns):\n",
      "street    4398 non-null object\n",
      "area      4398 non-null object\n",
      "dtypes: object(2)\n",
      "memory usage: 68.8+ KB\n"
     ]
    }
   ],
   "source": [
    "districts.columns = ['street', 'area']\n",
    "districts['street'] = districts['street'].str.strip()\n",
    "districts.info()"
   ]
  },
  {
   "cell_type": "code",
   "execution_count": 38,
   "id": "866cf0c4",
   "metadata": {},
   "outputs": [
    {
     "data": {
      "text/html": [
       "<div>\n",
       "<style scoped>\n",
       "    .dataframe tbody tr th:only-of-type {\n",
       "        vertical-align: middle;\n",
       "    }\n",
       "\n",
       "    .dataframe tbody tr th {\n",
       "        vertical-align: top;\n",
       "    }\n",
       "\n",
       "    .dataframe thead th {\n",
       "        text-align: right;\n",
       "    }\n",
       "</style>\n",
       "<table border=\"1\" class=\"dataframe\">\n",
       "  <thead>\n",
       "    <tr style=\"text-align: right;\">\n",
       "      <th></th>\n",
       "      <th>street</th>\n",
       "      <th>id</th>\n",
       "    </tr>\n",
       "  </thead>\n",
       "  <tbody>\n",
       "    <tr>\n",
       "      <td>1379</td>\n",
       "      <td>проспект Мира</td>\n",
       "      <td>204</td>\n",
       "    </tr>\n",
       "    <tr>\n",
       "      <td>996</td>\n",
       "      <td>Профсоюзная улица</td>\n",
       "      <td>183</td>\n",
       "    </tr>\n",
       "    <tr>\n",
       "      <td>683</td>\n",
       "      <td>Ленинградский проспект</td>\n",
       "      <td>173</td>\n",
       "    </tr>\n",
       "    <tr>\n",
       "      <td>981</td>\n",
       "      <td>Пресненская набережная</td>\n",
       "      <td>167</td>\n",
       "    </tr>\n",
       "    <tr>\n",
       "      <td>406</td>\n",
       "      <td>Варшавское шоссе</td>\n",
       "      <td>162</td>\n",
       "    </tr>\n",
       "    <tr>\n",
       "      <td>686</td>\n",
       "      <td>Ленинский проспект</td>\n",
       "      <td>148</td>\n",
       "    </tr>\n",
       "    <tr>\n",
       "      <td>1376</td>\n",
       "      <td>проспект Вернадского</td>\n",
       "      <td>132</td>\n",
       "    </tr>\n",
       "    <tr>\n",
       "      <td>674</td>\n",
       "      <td>Кутузовский проспект</td>\n",
       "      <td>114</td>\n",
       "    </tr>\n",
       "    <tr>\n",
       "      <td>600</td>\n",
       "      <td>Каширское шоссе</td>\n",
       "      <td>112</td>\n",
       "    </tr>\n",
       "    <tr>\n",
       "      <td>605</td>\n",
       "      <td>Кировоградская улица</td>\n",
       "      <td>110</td>\n",
       "    </tr>\n",
       "  </tbody>\n",
       "</table>\n",
       "</div>"
      ],
      "text/plain": [
       "                      street   id\n",
       "1379           проспект Мира  204\n",
       "996        Профсоюзная улица  183\n",
       "683   Ленинградский проспект  173\n",
       "981   Пресненская набережная  167\n",
       "406         Варшавское шоссе  162\n",
       "686       Ленинский проспект  148\n",
       "1376    проспект Вернадского  132\n",
       "674     Кутузовский проспект  114\n",
       "600          Каширское шоссе  112\n",
       "605     Кировоградская улица  110"
      ]
     },
     "execution_count": 38,
     "metadata": {},
     "output_type": "execute_result"
    }
   ],
   "source": [
    "top_streets = rest_data.groupby('street')[['id']].nunique().reset_index().sort_values(by='id', ascending=False)\n",
    "top10_streets = top_streets.head(10)\n",
    "top10_streets"
   ]
  },
  {
   "cell_type": "code",
   "execution_count": 39,
   "id": "9a2b37af",
   "metadata": {},
   "outputs": [
    {
     "data": {
      "image/png": "[encoded data removed]",
      "text/plain": [
       "<Figure size 1080x504 with 1 Axes>"
      ]
     },
     "metadata": {},
     "output_type": "display_data"
    }
   ],
   "source": [
    "fig, ax = plt.subplots(figsize = (15, 7))\n",
    "ax.vlines(data=top10_streets, x='street', ymin=0, ymax=top10_streets.id, linewidth=2)\n",
    "ax.scatter(x='street', y='id', s=75, data=top10_streets)\n",
    "\n",
    "plt.xticks(rotation=45, rotation_mode='anchor', ha='right', fontsize=12)\n",
    "plt.title('Улицы Москвы с наибольшим количеством заведений', fontsize=14)\n",
    "plt.xlabel('')\n",
    "plt.ylabel('')\n",
    "plt.show()"
   ]
  },
  {
   "cell_type": "markdown",
   "id": "02204d23",
   "metadata": {},
   "source": [
    "Так, улицами Москвы с наибольши количеством заведений общепита являются проспект Мира, Профсоюзная улица, Ленинградский проспект, Пресненская набережная, Варшавское шоссе, Ленинский проспект, проспект Вернадского, Кутузовский проспект, Каширское шоссе, Кировоградская улица. На проспекте Мира находится 204 заведения. \t"
   ]
  },
  {
   "cell_type": "code",
   "execution_count": 40,
   "id": "b6a33085",
   "metadata": {},
   "outputs": [
    {
     "data": {
      "text/html": [
       "<div>\n",
       "<style scoped>\n",
       "    .dataframe tbody tr th:only-of-type {\n",
       "        vertical-align: middle;\n",
       "    }\n",
       "\n",
       "    .dataframe tbody tr th {\n",
       "        vertical-align: top;\n",
       "    }\n",
       "\n",
       "    .dataframe thead th {\n",
       "        text-align: right;\n",
       "    }\n",
       "</style>\n",
       "<table border=\"1\" class=\"dataframe\">\n",
       "  <thead>\n",
       "    <tr style=\"text-align: right;\">\n",
       "      <th></th>\n",
       "      <th></th>\n",
       "      <th>id</th>\n",
       "    </tr>\n",
       "    <tr>\n",
       "      <th>street</th>\n",
       "      <th>area</th>\n",
       "      <th></th>\n",
       "    </tr>\n",
       "  </thead>\n",
       "  <tbody>\n",
       "    <tr>\n",
       "      <td rowspan=\"8\" valign=\"top\">Варшавское шоссе</td>\n",
       "      <td>Донской район</td>\n",
       "      <td>162</td>\n",
       "    </tr>\n",
       "    <tr>\n",
       "      <td>Нагорный район</td>\n",
       "      <td>162</td>\n",
       "    </tr>\n",
       "    <tr>\n",
       "      <td>Район Нагатино-Садовники</td>\n",
       "      <td>162</td>\n",
       "    </tr>\n",
       "    <tr>\n",
       "      <td>Район Северное Бутово</td>\n",
       "      <td>162</td>\n",
       "    </tr>\n",
       "    <tr>\n",
       "      <td>Район Чертаново Северное</td>\n",
       "      <td>162</td>\n",
       "    </tr>\n",
       "    <tr>\n",
       "      <td>Район Чертаново Центральное</td>\n",
       "      <td>162</td>\n",
       "    </tr>\n",
       "    <tr>\n",
       "      <td>Район Чертаново Южное</td>\n",
       "      <td>162</td>\n",
       "    </tr>\n",
       "    <tr>\n",
       "      <td>Район Южное Бутово</td>\n",
       "      <td>162</td>\n",
       "    </tr>\n",
       "    <tr>\n",
       "      <td rowspan=\"4\" valign=\"top\">Каширское шоссе</td>\n",
       "      <td>Район Москворечье-Сабурово</td>\n",
       "      <td>112</td>\n",
       "    </tr>\n",
       "    <tr>\n",
       "      <td>Район Нагатино-Садовники</td>\n",
       "      <td>112</td>\n",
       "    </tr>\n",
       "    <tr>\n",
       "      <td>Район Орехово-Борисово Северное</td>\n",
       "      <td>112</td>\n",
       "    </tr>\n",
       "    <tr>\n",
       "      <td>Район Орехово-Борисово Южное</td>\n",
       "      <td>112</td>\n",
       "    </tr>\n",
       "    <tr>\n",
       "      <td rowspan=\"3\" valign=\"top\">Кировоградская улица</td>\n",
       "      <td>Район Чертаново Северное</td>\n",
       "      <td>110</td>\n",
       "    </tr>\n",
       "    <tr>\n",
       "      <td>Район Чертаново Центральное</td>\n",
       "      <td>110</td>\n",
       "    </tr>\n",
       "    <tr>\n",
       "      <td>Район Чертаново Южное</td>\n",
       "      <td>110</td>\n",
       "    </tr>\n",
       "    <tr>\n",
       "      <td rowspan=\"2\" valign=\"top\">Кутузовский проспект</td>\n",
       "      <td>Район Дорогомилово</td>\n",
       "      <td>114</td>\n",
       "    </tr>\n",
       "    <tr>\n",
       "      <td>Район Фили-Давыдково</td>\n",
       "      <td>114</td>\n",
       "    </tr>\n",
       "    <tr>\n",
       "      <td rowspan=\"4\" valign=\"top\">Ленинградский проспект</td>\n",
       "      <td>Район Аэропорт</td>\n",
       "      <td>173</td>\n",
       "    </tr>\n",
       "    <tr>\n",
       "      <td>Район Беговой</td>\n",
       "      <td>173</td>\n",
       "    </tr>\n",
       "    <tr>\n",
       "      <td>Район Сокол</td>\n",
       "      <td>173</td>\n",
       "    </tr>\n",
       "    <tr>\n",
       "      <td>Хорошевский район</td>\n",
       "      <td>173</td>\n",
       "    </tr>\n",
       "    <tr>\n",
       "      <td rowspan=\"8\" valign=\"top\">Ленинский проспект</td>\n",
       "      <td>Донской район</td>\n",
       "      <td>148</td>\n",
       "    </tr>\n",
       "    <tr>\n",
       "      <td>Ломоносовский район</td>\n",
       "      <td>148</td>\n",
       "    </tr>\n",
       "    <tr>\n",
       "      <td>Обручевский район</td>\n",
       "      <td>148</td>\n",
       "    </tr>\n",
       "    <tr>\n",
       "      <td>Район Гагаринский</td>\n",
       "      <td>148</td>\n",
       "    </tr>\n",
       "    <tr>\n",
       "      <td>Район Проспект Вернадского</td>\n",
       "      <td>148</td>\n",
       "    </tr>\n",
       "    <tr>\n",
       "      <td>Район Теплый Стан</td>\n",
       "      <td>148</td>\n",
       "    </tr>\n",
       "    <tr>\n",
       "      <td>Район Тропарево-Никулино</td>\n",
       "      <td>148</td>\n",
       "    </tr>\n",
       "    <tr>\n",
       "      <td>Район Якиманка</td>\n",
       "      <td>148</td>\n",
       "    </tr>\n",
       "    <tr>\n",
       "      <td>Пресненская набережная</td>\n",
       "      <td>Пресненский район</td>\n",
       "      <td>167</td>\n",
       "    </tr>\n",
       "    <tr>\n",
       "      <td rowspan=\"6\" valign=\"top\">Профсоюзная улица</td>\n",
       "      <td>Академический район</td>\n",
       "      <td>183</td>\n",
       "    </tr>\n",
       "    <tr>\n",
       "      <td>Обручевский район</td>\n",
       "      <td>183</td>\n",
       "    </tr>\n",
       "    <tr>\n",
       "      <td>Район Коньково</td>\n",
       "      <td>183</td>\n",
       "    </tr>\n",
       "    <tr>\n",
       "      <td>Район Теплый Стан</td>\n",
       "      <td>183</td>\n",
       "    </tr>\n",
       "    <tr>\n",
       "      <td>Район Черемушки</td>\n",
       "      <td>183</td>\n",
       "    </tr>\n",
       "    <tr>\n",
       "      <td>Район Ясенево</td>\n",
       "      <td>183</td>\n",
       "    </tr>\n",
       "    <tr>\n",
       "      <td rowspan=\"5\" valign=\"top\">проспект Вернадского</td>\n",
       "      <td>Ломоносовский район</td>\n",
       "      <td>132</td>\n",
       "    </tr>\n",
       "    <tr>\n",
       "      <td>Район Гагаринский</td>\n",
       "      <td>132</td>\n",
       "    </tr>\n",
       "    <tr>\n",
       "      <td>Район Проспект Вернадского</td>\n",
       "      <td>132</td>\n",
       "    </tr>\n",
       "    <tr>\n",
       "      <td>Район Раменки</td>\n",
       "      <td>132</td>\n",
       "    </tr>\n",
       "    <tr>\n",
       "      <td>Район Тропарево-Никулино</td>\n",
       "      <td>132</td>\n",
       "    </tr>\n",
       "    <tr>\n",
       "      <td rowspan=\"7\" valign=\"top\">проспект Мира</td>\n",
       "      <td>Алексеевский район</td>\n",
       "      <td>204</td>\n",
       "    </tr>\n",
       "    <tr>\n",
       "      <td>Мещанский район</td>\n",
       "      <td>204</td>\n",
       "    </tr>\n",
       "    <tr>\n",
       "      <td>Останкинский район</td>\n",
       "      <td>204</td>\n",
       "    </tr>\n",
       "    <tr>\n",
       "      <td>Район Марьина роща</td>\n",
       "      <td>204</td>\n",
       "    </tr>\n",
       "    <tr>\n",
       "      <td>Район Ростокино</td>\n",
       "      <td>204</td>\n",
       "    </tr>\n",
       "    <tr>\n",
       "      <td>Район Свиблово</td>\n",
       "      <td>204</td>\n",
       "    </tr>\n",
       "    <tr>\n",
       "      <td>Ярославский Район</td>\n",
       "      <td>204</td>\n",
       "    </tr>\n",
       "  </tbody>\n",
       "</table>\n",
       "</div>"
      ],
      "text/plain": [
       "                                                         id\n",
       "street                 area                                \n",
       "Варшавское шоссе       Донской район                    162\n",
       "                       Нагорный район                   162\n",
       "                       Район Нагатино-Садовники         162\n",
       "                       Район Северное Бутово            162\n",
       "                       Район Чертаново Северное         162\n",
       "                       Район Чертаново Центральное      162\n",
       "                       Район Чертаново Южное            162\n",
       "                       Район Южное Бутово               162\n",
       "Каширское шоссе        Район Москворечье-Сабурово       112\n",
       "                       Район Нагатино-Садовники         112\n",
       "                       Район Орехово-Борисово Северное  112\n",
       "                       Район Орехово-Борисово Южное     112\n",
       "Кировоградская улица   Район Чертаново Северное         110\n",
       "                       Район Чертаново Центральное      110\n",
       "                       Район Чертаново Южное            110\n",
       "Кутузовский проспект   Район Дорогомилово               114\n",
       "                       Район Фили-Давыдково             114\n",
       "Ленинградский проспект Район Аэропорт                   173\n",
       "                       Район Беговой                    173\n",
       "                       Район Сокол                      173\n",
       "                       Хорошевский район                173\n",
       "Ленинский проспект     Донской район                    148\n",
       "                       Ломоносовский район              148\n",
       "                       Обручевский район                148\n",
       "                       Район Гагаринский                148\n",
       "                       Район Проспект Вернадского       148\n",
       "                       Район Теплый Стан                148\n",
       "                       Район Тропарево-Никулино         148\n",
       "                       Район Якиманка                   148\n",
       "Пресненская набережная Пресненский район                167\n",
       "Профсоюзная улица      Академический район              183\n",
       "                       Обручевский район                183\n",
       "                       Район Коньково                   183\n",
       "                       Район Теплый Стан                183\n",
       "                       Район Черемушки                  183\n",
       "                       Район Ясенево                    183\n",
       "проспект Вернадского   Ломоносовский район              132\n",
       "                       Район Гагаринский                132\n",
       "                       Район Проспект Вернадского       132\n",
       "                       Район Раменки                    132\n",
       "                       Район Тропарево-Никулино         132\n",
       "проспект Мира          Алексеевский район               204\n",
       "                       Мещанский район                  204\n",
       "                       Останкинский район               204\n",
       "                       Район Марьина роща               204\n",
       "                       Район Ростокино                  204\n",
       "                       Район Свиблово                   204\n",
       "                       Ярославский Район                204"
      ]
     },
     "execution_count": 40,
     "metadata": {},
     "output_type": "execute_result"
    }
   ],
   "source": [
    "top10_with_districts = top10_streets.merge(districts, on='street', how='left')\n",
    "top10 = top10_with_districts.pivot_table(index=['street', 'area'])\n",
    "top10"
   ]
  },
  {
   "cell_type": "code",
   "execution_count": 41,
   "id": "6676984f",
   "metadata": {},
   "outputs": [
    {
     "data": {
      "text/html": [
       "<div>\n",
       "<style scoped>\n",
       "    .dataframe tbody tr th:only-of-type {\n",
       "        vertical-align: middle;\n",
       "    }\n",
       "\n",
       "    .dataframe tbody tr th {\n",
       "        vertical-align: top;\n",
       "    }\n",
       "\n",
       "    .dataframe thead th {\n",
       "        text-align: right;\n",
       "    }\n",
       "</style>\n",
       "<table border=\"1\" class=\"dataframe\">\n",
       "  <thead>\n",
       "    <tr style=\"text-align: right;\">\n",
       "      <th></th>\n",
       "      <th></th>\n",
       "    </tr>\n",
       "    <tr>\n",
       "      <th>area</th>\n",
       "      <th>street</th>\n",
       "    </tr>\n",
       "  </thead>\n",
       "  <tbody>\n",
       "    <tr>\n",
       "      <td>Академический район</td>\n",
       "      <td>Профсоюзная улица</td>\n",
       "    </tr>\n",
       "    <tr>\n",
       "      <td>Алексеевский район</td>\n",
       "      <td>проспект Мира</td>\n",
       "    </tr>\n",
       "    <tr>\n",
       "      <td rowspan=\"2\" valign=\"top\">Донской район</td>\n",
       "      <td>Варшавское шоссе</td>\n",
       "    </tr>\n",
       "    <tr>\n",
       "      <td>Ленинский проспект</td>\n",
       "    </tr>\n",
       "    <tr>\n",
       "      <td rowspan=\"2\" valign=\"top\">Ломоносовский район</td>\n",
       "      <td>Ленинский проспект</td>\n",
       "    </tr>\n",
       "    <tr>\n",
       "      <td>проспект Вернадского</td>\n",
       "    </tr>\n",
       "    <tr>\n",
       "      <td>Мещанский район</td>\n",
       "      <td>проспект Мира</td>\n",
       "    </tr>\n",
       "    <tr>\n",
       "      <td>Нагорный район</td>\n",
       "      <td>Варшавское шоссе</td>\n",
       "    </tr>\n",
       "    <tr>\n",
       "      <td rowspan=\"2\" valign=\"top\">Обручевский район</td>\n",
       "      <td>Ленинский проспект</td>\n",
       "    </tr>\n",
       "    <tr>\n",
       "      <td>Профсоюзная улица</td>\n",
       "    </tr>\n",
       "    <tr>\n",
       "      <td>Останкинский район</td>\n",
       "      <td>проспект Мира</td>\n",
       "    </tr>\n",
       "    <tr>\n",
       "      <td>Пресненский район</td>\n",
       "      <td>Пресненская набережная</td>\n",
       "    </tr>\n",
       "    <tr>\n",
       "      <td>Район Аэропорт</td>\n",
       "      <td>Ленинградский проспект</td>\n",
       "    </tr>\n",
       "    <tr>\n",
       "      <td>Район Беговой</td>\n",
       "      <td>Ленинградский проспект</td>\n",
       "    </tr>\n",
       "    <tr>\n",
       "      <td rowspan=\"2\" valign=\"top\">Район Гагаринский</td>\n",
       "      <td>Ленинский проспект</td>\n",
       "    </tr>\n",
       "    <tr>\n",
       "      <td>проспект Вернадского</td>\n",
       "    </tr>\n",
       "    <tr>\n",
       "      <td>Район Дорогомилово</td>\n",
       "      <td>Кутузовский проспект</td>\n",
       "    </tr>\n",
       "    <tr>\n",
       "      <td>Район Коньково</td>\n",
       "      <td>Профсоюзная улица</td>\n",
       "    </tr>\n",
       "    <tr>\n",
       "      <td>Район Марьина роща</td>\n",
       "      <td>проспект Мира</td>\n",
       "    </tr>\n",
       "    <tr>\n",
       "      <td>Район Москворечье-Сабурово</td>\n",
       "      <td>Каширское шоссе</td>\n",
       "    </tr>\n",
       "    <tr>\n",
       "      <td rowspan=\"2\" valign=\"top\">Район Нагатино-Садовники</td>\n",
       "      <td>Варшавское шоссе</td>\n",
       "    </tr>\n",
       "    <tr>\n",
       "      <td>Каширское шоссе</td>\n",
       "    </tr>\n",
       "    <tr>\n",
       "      <td>Район Орехово-Борисово Северное</td>\n",
       "      <td>Каширское шоссе</td>\n",
       "    </tr>\n",
       "    <tr>\n",
       "      <td>Район Орехово-Борисово Южное</td>\n",
       "      <td>Каширское шоссе</td>\n",
       "    </tr>\n",
       "    <tr>\n",
       "      <td rowspan=\"2\" valign=\"top\">Район Проспект Вернадского</td>\n",
       "      <td>Ленинский проспект</td>\n",
       "    </tr>\n",
       "    <tr>\n",
       "      <td>проспект Вернадского</td>\n",
       "    </tr>\n",
       "    <tr>\n",
       "      <td>Район Раменки</td>\n",
       "      <td>проспект Вернадского</td>\n",
       "    </tr>\n",
       "    <tr>\n",
       "      <td>Район Ростокино</td>\n",
       "      <td>проспект Мира</td>\n",
       "    </tr>\n",
       "    <tr>\n",
       "      <td>Район Свиблово</td>\n",
       "      <td>проспект Мира</td>\n",
       "    </tr>\n",
       "    <tr>\n",
       "      <td>Район Северное Бутово</td>\n",
       "      <td>Варшавское шоссе</td>\n",
       "    </tr>\n",
       "    <tr>\n",
       "      <td>Район Сокол</td>\n",
       "      <td>Ленинградский проспект</td>\n",
       "    </tr>\n",
       "    <tr>\n",
       "      <td rowspan=\"2\" valign=\"top\">Район Теплый Стан</td>\n",
       "      <td>Ленинский проспект</td>\n",
       "    </tr>\n",
       "    <tr>\n",
       "      <td>Профсоюзная улица</td>\n",
       "    </tr>\n",
       "    <tr>\n",
       "      <td rowspan=\"2\" valign=\"top\">Район Тропарево-Никулино</td>\n",
       "      <td>Ленинский проспект</td>\n",
       "    </tr>\n",
       "    <tr>\n",
       "      <td>проспект Вернадского</td>\n",
       "    </tr>\n",
       "    <tr>\n",
       "      <td>Район Фили-Давыдково</td>\n",
       "      <td>Кутузовский проспект</td>\n",
       "    </tr>\n",
       "    <tr>\n",
       "      <td>Район Черемушки</td>\n",
       "      <td>Профсоюзная улица</td>\n",
       "    </tr>\n",
       "    <tr>\n",
       "      <td rowspan=\"2\" valign=\"top\">Район Чертаново Северное</td>\n",
       "      <td>Варшавское шоссе</td>\n",
       "    </tr>\n",
       "    <tr>\n",
       "      <td>Кировоградская улица</td>\n",
       "    </tr>\n",
       "    <tr>\n",
       "      <td rowspan=\"2\" valign=\"top\">Район Чертаново Центральное</td>\n",
       "      <td>Варшавское шоссе</td>\n",
       "    </tr>\n",
       "    <tr>\n",
       "      <td>Кировоградская улица</td>\n",
       "    </tr>\n",
       "    <tr>\n",
       "      <td rowspan=\"2\" valign=\"top\">Район Чертаново Южное</td>\n",
       "      <td>Варшавское шоссе</td>\n",
       "    </tr>\n",
       "    <tr>\n",
       "      <td>Кировоградская улица</td>\n",
       "    </tr>\n",
       "    <tr>\n",
       "      <td>Район Южное Бутово</td>\n",
       "      <td>Варшавское шоссе</td>\n",
       "    </tr>\n",
       "    <tr>\n",
       "      <td>Район Якиманка</td>\n",
       "      <td>Ленинский проспект</td>\n",
       "    </tr>\n",
       "    <tr>\n",
       "      <td>Район Ясенево</td>\n",
       "      <td>Профсоюзная улица</td>\n",
       "    </tr>\n",
       "    <tr>\n",
       "      <td>Хорошевский район</td>\n",
       "      <td>Ленинградский проспект</td>\n",
       "    </tr>\n",
       "    <tr>\n",
       "      <td>Ярославский Район</td>\n",
       "      <td>проспект Мира</td>\n",
       "    </tr>\n",
       "  </tbody>\n",
       "</table>\n",
       "</div>"
      ],
      "text/plain": [
       "Empty DataFrame\n",
       "Columns: []\n",
       "Index: [(Академический район, Профсоюзная улица), (Алексеевский район, проспект Мира), (Донской район, Варшавское шоссе), (Донской район, Ленинский проспект), (Ломоносовский район, Ленинский проспект), (Ломоносовский район, проспект Вернадского), (Мещанский район, проспект Мира), (Нагорный район, Варшавское шоссе), (Обручевский район, Ленинский проспект), (Обручевский район, Профсоюзная улица), (Останкинский район, проспект Мира), (Пресненский район, Пресненская набережная), (Район Аэропорт, Ленинградский проспект), (Район Беговой, Ленинградский проспект), (Район Гагаринский, Ленинский проспект), (Район Гагаринский, проспект Вернадского), (Район Дорогомилово, Кутузовский проспект), (Район Коньково, Профсоюзная улица), (Район Марьина роща, проспект Мира), (Район Москворечье-Сабурово, Каширское шоссе), (Район Нагатино-Садовники, Варшавское шоссе), (Район Нагатино-Садовники, Каширское шоссе), (Район Орехово-Борисово Северное, Каширское шоссе), (Район Орехово-Борисово Южное, Каширское шоссе), (Район Проспект Вернадского, Ленинский проспект), (Район Проспект Вернадского, проспект Вернадского), (Район Раменки, проспект Вернадского), (Район Ростокино, проспект Мира), (Район Свиблово, проспект Мира), (Район Северное Бутово, Варшавское шоссе), (Район Сокол, Ленинградский проспект), (Район Теплый Стан, Ленинский проспект), (Район Теплый Стан, Профсоюзная улица), (Район Тропарево-Никулино, Ленинский проспект), (Район Тропарево-Никулино, проспект Вернадского), (Район Фили-Давыдково, Кутузовский проспект), (Район Черемушки, Профсоюзная улица), (Район Чертаново Северное, Варшавское шоссе), (Район Чертаново Северное, Кировоградская улица), (Район Чертаново Центральное, Варшавское шоссе), (Район Чертаново Центральное, Кировоградская улица), (Район Чертаново Южное, Варшавское шоссе), (Район Чертаново Южное, Кировоградская улица), (Район Южное Бутово, Варшавское шоссе), (Район Якиманка, Ленинский проспект), (Район Ясенево, Профсоюзная улица), (Хорошевский район, Ленинградский проспект), (Ярославский Район, проспект Мира)]"
      ]
     },
     "execution_count": 41,
     "metadata": {},
     "output_type": "execute_result"
    }
   ],
   "source": [
    "top_districts = top10.groupby(['area', 'street']).agg({'id':'count'}).drop(['id'], axis=1)\n",
    "top_districts"
   ]
  },
  {
   "cell_type": "markdown",
   "id": "e3273583",
   "metadata": {},
   "source": [
    "Топ-10 улиц по количеству предприятий общественного питания находится в следующих районах: Академический, Алексеевский, Донской, Ломоносовский, Мещанский, Нагорный, Обручевский, Останкинский, Пресненский, Аэропорт, Беговой, Гагаринский, Дорогомилово, Коньково, Марьина роща, Москворечье-Сабурово, Нагатино-Садовники, Орехово-Борисово Северное, Орехово-Борисово Южное, Проспект Вернадского, Раменки, Ростокино, Свиблово, Северное Бутово, Южное Бутово, Сокол, Теплый Стан, Тропарево-Никулино, Фили-Давыдково, Черемушки, Чертаново Северное, Чертаново Центральное, Чертаново Южное, Якиманка, Ясенево, Хорошевский, Ярославский."
   ]
  },
  {
   "cell_type": "markdown",
   "id": "62df372c",
   "metadata": {},
   "source": [
    "Большинство улиц проходят сквозь несколько районов. Так, 204 заведения на проспекте Мира распределены по территории семи районов. Наибольшее число мест, сконцентрированных в одном районе, находится на Пресненской набережной в Пресненском районе. Также высокая концентрация на Кутузовском проспекте, которых пересекает два района - Дорогомилово и Фили-Давыдково.\n",
    "\n",
    "Такое количество заведений может быть связано с длиной улиц, которые являются ключевыми транспортными магистралями и пересекают множество станций метро, деловых центров, мест скопления людей с разными целями. "
   ]
  },
  {
   "cell_type": "markdown",
   "id": "d32f5e2c",
   "metadata": {},
   "source": [
    "Теперь посмотрим на улицы, где всего один объект общественного питания."
   ]
  },
  {
   "cell_type": "code",
   "execution_count": 42,
   "id": "3bba65c5",
   "metadata": {},
   "outputs": [
    {
     "data": {
      "text/html": [
       "<div>\n",
       "<style scoped>\n",
       "    .dataframe tbody tr th:only-of-type {\n",
       "        vertical-align: middle;\n",
       "    }\n",
       "\n",
       "    .dataframe tbody tr th {\n",
       "        vertical-align: top;\n",
       "    }\n",
       "\n",
       "    .dataframe thead th {\n",
       "        text-align: right;\n",
       "    }\n",
       "</style>\n",
       "<table border=\"1\" class=\"dataframe\">\n",
       "  <thead>\n",
       "    <tr style=\"text-align: right;\">\n",
       "      <th></th>\n",
       "      <th>street</th>\n",
       "      <th>id</th>\n",
       "    </tr>\n",
       "  </thead>\n",
       "  <tbody>\n",
       "    <tr>\n",
       "      <td>221</td>\n",
       "      <td>7-й Ростовский переулок</td>\n",
       "      <td>1</td>\n",
       "    </tr>\n",
       "    <tr>\n",
       "      <td>170</td>\n",
       "      <td>3-я Новоостанкинская улица</td>\n",
       "      <td>1</td>\n",
       "    </tr>\n",
       "    <tr>\n",
       "      <td>144</td>\n",
       "      <td>2-я улица Бухвостова</td>\n",
       "      <td>1</td>\n",
       "    </tr>\n",
       "    <tr>\n",
       "      <td>233</td>\n",
       "      <td>80-й километр Московской Кольцевой Автодороги</td>\n",
       "      <td>1</td>\n",
       "    </tr>\n",
       "    <tr>\n",
       "      <td>162</td>\n",
       "      <td>3-й Стрелецкий проезд</td>\n",
       "      <td>1</td>\n",
       "    </tr>\n",
       "    <tr>\n",
       "      <td>163</td>\n",
       "      <td>3-й Угрешский проезд</td>\n",
       "      <td>1</td>\n",
       "    </tr>\n",
       "    <tr>\n",
       "      <td>1539</td>\n",
       "      <td>улица Знаменские Садки</td>\n",
       "      <td>1</td>\n",
       "    </tr>\n",
       "    <tr>\n",
       "      <td>225</td>\n",
       "      <td>7-я улица Лазенки</td>\n",
       "      <td>1</td>\n",
       "    </tr>\n",
       "    <tr>\n",
       "      <td>224</td>\n",
       "      <td>7-я Северная линия</td>\n",
       "      <td>1</td>\n",
       "    </tr>\n",
       "    <tr>\n",
       "      <td>1552</td>\n",
       "      <td>улица Каманина</td>\n",
       "      <td>1</td>\n",
       "    </tr>\n",
       "  </tbody>\n",
       "</table>\n",
       "</div>"
      ],
      "text/plain": [
       "                                             street  id\n",
       "221                         7-й Ростовский переулок   1\n",
       "170                      3-я Новоостанкинская улица   1\n",
       "144                            2-я улица Бухвостова   1\n",
       "233   80-й километр Московской Кольцевой Автодороги   1\n",
       "162                           3-й Стрелецкий проезд   1\n",
       "163                            3-й Угрешский проезд   1\n",
       "1539                         улица Знаменские Садки   1\n",
       "225                               7-я улица Лазенки   1\n",
       "224                              7-я Северная линия   1\n",
       "1552                                 улица Каманина   1"
      ]
     },
     "execution_count": 42,
     "metadata": {},
     "output_type": "execute_result"
    }
   ],
   "source": [
    "one_object = top_streets.query('id == 1')\n",
    "one_object.head(10)"
   ]
  },
  {
   "cell_type": "markdown",
   "id": "0476597e",
   "metadata": {},
   "source": [
    "Судя по карте, эти улицы либо совсем короткие и находятся в спальных районах, либо являются частью крупных транспортных развязок, не приспособленных для остановки и перекуса. "
   ]
  },
  {
   "cell_type": "code",
   "execution_count": 43,
   "id": "4288f200",
   "metadata": {},
   "outputs": [
    {
     "data": {
      "text/plain": [
       "538"
      ]
     },
     "execution_count": 43,
     "metadata": {},
     "output_type": "execute_result"
    }
   ],
   "source": [
    "one_object.shape[0]"
   ]
  },
  {
   "cell_type": "code",
   "execution_count": 44,
   "id": "333f1e12",
   "metadata": {},
   "outputs": [
    {
     "data": {
      "text/html": [
       "<div>\n",
       "<style scoped>\n",
       "    .dataframe tbody tr th:only-of-type {\n",
       "        vertical-align: middle;\n",
       "    }\n",
       "\n",
       "    .dataframe tbody tr th {\n",
       "        vertical-align: top;\n",
       "    }\n",
       "\n",
       "    .dataframe thead th {\n",
       "        text-align: right;\n",
       "    }\n",
       "</style>\n",
       "<table border=\"1\" class=\"dataframe\">\n",
       "  <thead>\n",
       "    <tr style=\"text-align: right;\">\n",
       "      <th></th>\n",
       "      <th>street</th>\n",
       "      <th>id</th>\n",
       "      <th>area</th>\n",
       "    </tr>\n",
       "  </thead>\n",
       "  <tbody>\n",
       "    <tr>\n",
       "      <td>0</td>\n",
       "      <td>7-й Ростовский переулок</td>\n",
       "      <td>1</td>\n",
       "      <td>Район Хамовники</td>\n",
       "    </tr>\n",
       "    <tr>\n",
       "      <td>1</td>\n",
       "      <td>3-я Новоостанкинская улица</td>\n",
       "      <td>1</td>\n",
       "      <td>Останкинский район</td>\n",
       "    </tr>\n",
       "    <tr>\n",
       "      <td>2</td>\n",
       "      <td>2-я улица Бухвостова</td>\n",
       "      <td>1</td>\n",
       "      <td>Район Преображенское</td>\n",
       "    </tr>\n",
       "    <tr>\n",
       "      <td>4</td>\n",
       "      <td>3-й Стрелецкий проезд</td>\n",
       "      <td>1</td>\n",
       "      <td>Район Марьина роща</td>\n",
       "    </tr>\n",
       "    <tr>\n",
       "      <td>5</td>\n",
       "      <td>3-й Угрешский проезд</td>\n",
       "      <td>1</td>\n",
       "      <td>Район Печатники</td>\n",
       "    </tr>\n",
       "  </tbody>\n",
       "</table>\n",
       "</div>"
      ],
      "text/plain": [
       "                       street  id                  area\n",
       "0     7-й Ростовский переулок   1       Район Хамовники\n",
       "1  3-я Новоостанкинская улица   1    Останкинский район\n",
       "2        2-я улица Бухвостова   1  Район Преображенское\n",
       "4       3-й Стрелецкий проезд   1    Район Марьина роща\n",
       "5        3-й Угрешский проезд   1       Район Печатники"
      ]
     },
     "execution_count": 44,
     "metadata": {},
     "output_type": "execute_result"
    }
   ],
   "source": [
    "one_object_with_district = one_object.merge(districts, on='street', how='left')\n",
    "one_object_with_district = one_object_with_district.dropna()\n",
    "one_object_with_district.head()"
   ]
  },
  {
   "cell_type": "code",
   "execution_count": 45,
   "id": "ac812d27",
   "metadata": {
    "scrolled": false
   },
   "outputs": [
    {
     "data": {
      "text/html": [
       "<div>\n",
       "<style scoped>\n",
       "    .dataframe tbody tr th:only-of-type {\n",
       "        vertical-align: middle;\n",
       "    }\n",
       "\n",
       "    .dataframe tbody tr th {\n",
       "        vertical-align: top;\n",
       "    }\n",
       "\n",
       "    .dataframe thead th {\n",
       "        text-align: right;\n",
       "    }\n",
       "</style>\n",
       "<table border=\"1\" class=\"dataframe\">\n",
       "  <thead>\n",
       "    <tr style=\"text-align: right;\">\n",
       "      <th></th>\n",
       "      <th>area</th>\n",
       "      <th>street</th>\n",
       "    </tr>\n",
       "  </thead>\n",
       "  <tbody>\n",
       "    <tr>\n",
       "      <td>0</td>\n",
       "      <td>Алексеевский район</td>\n",
       "      <td>7</td>\n",
       "    </tr>\n",
       "    <tr>\n",
       "      <td>1</td>\n",
       "      <td>Алтуфьевский район</td>\n",
       "      <td>1</td>\n",
       "    </tr>\n",
       "    <tr>\n",
       "      <td>2</td>\n",
       "      <td>Бабушкинский район</td>\n",
       "      <td>5</td>\n",
       "    </tr>\n",
       "    <tr>\n",
       "      <td>3</td>\n",
       "      <td>Басманный район</td>\n",
       "      <td>25</td>\n",
       "    </tr>\n",
       "    <tr>\n",
       "      <td>4</td>\n",
       "      <td>Бескудниковский Район</td>\n",
       "      <td>2</td>\n",
       "    </tr>\n",
       "  </tbody>\n",
       "</table>\n",
       "</div>"
      ],
      "text/plain": [
       "                    area  street\n",
       "0     Алексеевский район       7\n",
       "1     Алтуфьевский район       1\n",
       "2     Бабушкинский район       5\n",
       "3        Басманный район      25\n",
       "4  Бескудниковский Район       2"
      ]
     },
     "execution_count": 45,
     "metadata": {},
     "output_type": "execute_result"
    }
   ],
   "source": [
    "districts_with_streets = one_object_with_district.groupby('area', as_index=False)[['street']].count()\n",
    "districts_with_streets.head()"
   ]
  },
  {
   "cell_type": "code",
   "execution_count": 46,
   "id": "f6392c1a",
   "metadata": {},
   "outputs": [
    {
     "data": {
      "text/plain": [
       "array(['Алексеевский район', 'Алтуфьевский район', 'Бабушкинский район',\n",
       "       'Басманный район', 'Бескудниковский Район', 'Бутырский район',\n",
       "       'Войковский Район', 'Головинский район', 'Даниловский район',\n",
       "       'Дмитровский район', 'Донской район', 'Красносельский район',\n",
       "       'Лосиноостровский район', 'Мещанский район', 'Можайский Район',\n",
       "       'Молжаниновский район', 'Нагорный район', 'Нижегородский район',\n",
       "       'Обручевский район', 'Останкинский район', 'Пресненский район',\n",
       "       'Район Арбат', 'Район Аэропорт', 'Район Беговой',\n",
       "       'Район Бирюлево Восточное', 'Район Богородское', 'Район Внуково',\n",
       "       'Район Восточное Измайлово', 'Район Восточный',\n",
       "       'Район Выхино-Жулебино', 'Район Гагаринский', 'Район Гольяново',\n",
       "       'Район Дорогомилово', 'Район Замоскворечье',\n",
       "       'Район Западное Дегунино', 'Район Зюзино', 'Район Ивановское',\n",
       "       'Район Измайлово', 'Район Коньково', 'Район Коптево',\n",
       "       'Район Косино-Ухтомский', 'Район Котловка', 'Район Крюково',\n",
       "       'Район Кузьминки', 'Район Кунцево', 'Район Куркино',\n",
       "       'Район Левобережный', 'Район Лефортово', 'Район Лианозово',\n",
       "       'Район Люблино', 'Район Марфино', 'Район Марьина роща',\n",
       "       'Район Марьино', 'Район Матушкино-Савелки', 'Район Метрогородок',\n",
       "       'Район Митино', 'Район Москворечье-Сабурово',\n",
       "       'Район Нагатино-Садовники', 'Район Ново-Переделкино',\n",
       "       'Район Новогиреево', 'Район Отрадное', 'Район Очаково-Матвеевское',\n",
       "       'Район Перово', 'Район Печатники', 'Район Покровское-Стрешнево',\n",
       "       'Район Преображенское', 'Район Раменки', 'Район Ростокино',\n",
       "       'Район Свиблово', 'Район Северное Бутово',\n",
       "       'Район Северное Измайлово', 'Район Северное Медведково',\n",
       "       'Район Северный', 'Район Сокол', 'Район Соколиная Гора',\n",
       "       'Район Сокольники', 'Район Солнцево', 'Район Строгино',\n",
       "       'Район Текстильщики', 'Район Филевский Парк',\n",
       "       'Район Фили-Давыдково', 'Район Хамовники',\n",
       "       'Район Хорошево-Мневники', 'Район Царицыно', 'Район Черемушки',\n",
       "       'Район Чертаново Северное', 'Район Чертаново Южное',\n",
       "       'Район Щукино', 'Район Южное Бутово', 'Район Южное Медведково',\n",
       "       'Район Южное Тушино', 'Район Якиманка', 'Район Ясенево',\n",
       "       'Рязанский район', 'Савеловский район', 'Таганский район',\n",
       "       'Тверской район', 'Тимирязевский Район', 'Хорошевский район',\n",
       "       'Южнопортовый Район', 'Ярославский Район'], dtype=object)"
      ]
     },
     "execution_count": 46,
     "metadata": {},
     "output_type": "execute_result"
    }
   ],
   "source": [
    "districts_with_streets['area'].unique()"
   ]
  },
  {
   "cell_type": "markdown",
   "id": "b75798da",
   "metadata": {},
   "source": [
    "На 538 улицах Москвы всего по одному заведению общепита. Эти улицы расположены в 101 районе города, названия которых в списке выше."
   ]
  },
  {
   "cell_type": "markdown",
   "id": "9e82fee4",
   "metadata": {},
   "source": [
    "Посмотрим на распределение количества посадочных мест с большим количеством объектов общественного питания. "
   ]
  },
  {
   "cell_type": "code",
   "execution_count": 47,
   "id": "4c544694",
   "metadata": {},
   "outputs": [],
   "source": [
    "top10_streets = top10_streets.set_index(['street'])"
   ]
  },
  {
   "cell_type": "code",
   "execution_count": 48,
   "id": "284e8110",
   "metadata": {},
   "outputs": [],
   "source": [
    "number_street = rest_data.query('street in @top10_streets.index')"
   ]
  },
  {
   "cell_type": "code",
   "execution_count": 49,
   "id": "bb1eec3d",
   "metadata": {},
   "outputs": [
    {
     "data": {
      "image/png": "[encoded data removed]",
      "text/plain": [
       "<Figure size 1368x864 with 1 Axes>"
      ]
     },
     "metadata": {},
     "output_type": "display_data"
    }
   ],
   "source": [
    "fig, ax = plt.subplots(figsize=(19, 12))\n",
    "sns.stripplot(data=number_street, x='street', y='number', ax=ax)\n",
    "plt.xticks(rotation=45, rotation_mode='anchor', ha='right')\n",
    "plt.title('', fontsize=13)\n",
    "plt.xlabel('')\n",
    "plt.ylabel('', fontsize=10)\n",
    "plt.show()"
   ]
  },
  {
   "cell_type": "code",
   "execution_count": 50,
   "id": "a58fb960",
   "metadata": {},
   "outputs": [
    {
     "data": {
      "image/png": "[encoded data removed]",
      "text/plain": [
       "<Figure size 1080x504 with 1 Axes>"
      ]
     },
     "metadata": {},
     "output_type": "display_data"
    }
   ],
   "source": [
    "plt.figure(figsize = (15, 7))\n",
    "ax = sns.barplot(data=number_street, x='street', y='number')\n",
    "plt.title('Среднее число посадочных мест на популярных улицах', fontsize=14)\n",
    "plt.xlabel('')\n",
    "plt.ylabel('', fontsize=10)\n",
    "plt.xticks(rotation=45, rotation_mode='anchor', ha='right')\n",
    "plt.show()"
   ]
  },
  {
   "cell_type": "code",
   "execution_count": 51,
   "id": "603ec915",
   "metadata": {},
   "outputs": [
    {
     "data": {
      "text/html": [
       "<div>\n",
       "<style scoped>\n",
       "    .dataframe tbody tr th:only-of-type {\n",
       "        vertical-align: middle;\n",
       "    }\n",
       "\n",
       "    .dataframe tbody tr th {\n",
       "        vertical-align: top;\n",
       "    }\n",
       "\n",
       "    .dataframe thead th {\n",
       "        text-align: right;\n",
       "    }\n",
       "</style>\n",
       "<table border=\"1\" class=\"dataframe\">\n",
       "  <thead>\n",
       "    <tr style=\"text-align: right;\">\n",
       "      <th></th>\n",
       "      <th>id</th>\n",
       "      <th>object_name</th>\n",
       "      <th>chain</th>\n",
       "      <th>object_type</th>\n",
       "      <th>address</th>\n",
       "      <th>number</th>\n",
       "      <th>street</th>\n",
       "    </tr>\n",
       "  </thead>\n",
       "  <tbody>\n",
       "    <tr>\n",
       "      <td>4110</td>\n",
       "      <td>29320</td>\n",
       "      <td>столовая</td>\n",
       "      <td>нет</td>\n",
       "      <td>столовая</td>\n",
       "      <td>город Москва, Каширское шоссе, дом 31</td>\n",
       "      <td>680</td>\n",
       "      <td>Каширское шоссе</td>\n",
       "    </tr>\n",
       "    <tr>\n",
       "      <td>4480</td>\n",
       "      <td>27024</td>\n",
       "      <td>рум сервис</td>\n",
       "      <td>нет</td>\n",
       "      <td>ресторан</td>\n",
       "      <td>город Москва, Кутузовский проспект, дом 2/1, с...</td>\n",
       "      <td>1200</td>\n",
       "      <td>Кутузовский проспект</td>\n",
       "    </tr>\n",
       "    <tr>\n",
       "      <td>7104</td>\n",
       "      <td>27033</td>\n",
       "      <td>банкетный</td>\n",
       "      <td>нет</td>\n",
       "      <td>ресторан</td>\n",
       "      <td>город Москва, Ленинградский проспект, дом 31А,...</td>\n",
       "      <td>625</td>\n",
       "      <td>Ленинградский проспект</td>\n",
       "    </tr>\n",
       "    <tr>\n",
       "      <td>9064</td>\n",
       "      <td>19719</td>\n",
       "      <td>комбинат питания управление академсервис</td>\n",
       "      <td>нет</td>\n",
       "      <td>столовая</td>\n",
       "      <td>город Москва, проспект Вернадского, дом 84, ст...</td>\n",
       "      <td>1288</td>\n",
       "      <td>проспект Вернадского</td>\n",
       "    </tr>\n",
       "    <tr>\n",
       "      <td>12723</td>\n",
       "      <td>199696</td>\n",
       "      <td>arena by soho family</td>\n",
       "      <td>нет</td>\n",
       "      <td>бар</td>\n",
       "      <td>город Москва, Кутузовский проспект, дом 36, ст...</td>\n",
       "      <td>1700</td>\n",
       "      <td>Кутузовский проспект</td>\n",
       "    </tr>\n",
       "  </tbody>\n",
       "</table>\n",
       "</div>"
      ],
      "text/plain": [
       "           id                               object_name chain object_type  \\\n",
       "4110    29320                                  столовая   нет    столовая   \n",
       "4480    27024                                рум сервис   нет    ресторан   \n",
       "7104    27033                                 банкетный   нет    ресторан   \n",
       "9064    19719  комбинат питания управление академсервис   нет    столовая   \n",
       "12723  199696                      arena by soho family   нет         бар   \n",
       "\n",
       "                                                 address  number  \\\n",
       "4110               город Москва, Каширское шоссе, дом 31     680   \n",
       "4480   город Москва, Кутузовский проспект, дом 2/1, с...    1200   \n",
       "7104   город Москва, Ленинградский проспект, дом 31А,...     625   \n",
       "9064   город Москва, проспект Вернадского, дом 84, ст...    1288   \n",
       "12723  город Москва, Кутузовский проспект, дом 36, ст...    1700   \n",
       "\n",
       "                       street  \n",
       "4110          Каширское шоссе  \n",
       "4480     Кутузовский проспект  \n",
       "7104   Ленинградский проспект  \n",
       "9064     проспект Вернадского  \n",
       "12723    Кутузовский проспект  "
      ]
     },
     "execution_count": 51,
     "metadata": {},
     "output_type": "execute_result"
    }
   ],
   "source": [
    "number_street[number_street['number'] > 500]"
   ]
  },
  {
   "cell_type": "markdown",
   "id": "78747bbe",
   "metadata": {},
   "source": [
    "На Варшавском шоссе, Каширском шоссе и Ленинградском проспекте среднее количество посадочных мест чуть больше 50. На Кировоградской улице, Ленинском проспекте и проспекте Мира среднее количество посадочных мест в заведении колеблется от 60 до 65. Самая небольшая посадка на Профсоюзной улице и Пресненской набережной - меньше 50 мест. \n",
    "Среднее количество посадочных мест на проспекте Вернадского (68) и Кутузовском проспекте (83) обосновано значительными выбросами - на первом наблюдается заведение с 1288 посадочных мест - столовая университета РАНХиГС, а на Кутузовском находится высотка, внутри которой ресторан отеля, а также концертная арена на 1700 мест с баром. "
   ]
  },
  {
   "cell_type": "markdown",
   "id": "136b8635",
   "metadata": {},
   "source": [
    "## Выводы"
   ]
  },
  {
   "cell_type": "markdown",
   "id": "4ddffc24",
   "metadata": {},
   "source": [
    "- Среди всех типов объектов в Москве больше всего *кафе* - чуть больше 6 тысяч заведений. Следующие за ним типы - столовая (2,6 тысячи объектов), ресторан (2,3 тысячи) и предприятие быстрого обслуживания (1,9 тысяч). Меньше всего в городе кулинарных магазинов, закусочных и кафетериев.\n",
    "\n",
    "\n",
    "- *Несетевых заведений общественного питания в Москве превалирующее большинство:* 12,2 тысяч единиц против 3 тысяч сетевых точек - более чем в 4 раза. Это связано с ростом числа авторских заведений, рассчитанных на узкую, но лояльную аудиторию.\n",
    "\n",
    "\n",
    "- Наиболее распространенный тип сетевого объекта - кафе: 47% от всех сетевых заведений. Заметно, что среди сетей доля предприятий быстрого обслуживания больше, чем ресторанов: 26,7% точек фастфуда против 18,3% сетевых ресторанов. \n",
    "\n",
    "\n",
    "- Сетки с большим количеством (от 150) точек на карте в среднем располагают 50-80 посадочными местами - это такие гиганты как kfc, бургер кинг, макдоналдс и шоколадница. В точках сетей поменьше (от 50 до 125 заведений) посадочных мест в среднем тоже меньше - от 1 до 30 мест. Это обычно средние по размеру пиццерии, сушишопы и фаст-фуд. В сетях, количество точек общепита в которых насчитывает от 10 до 50, могут встречаться как небольшие заведения с количеством посадочных мест от 0 до 50, так и крупные точки с числом мест больше 150 и их количество примерно одинаково. В совсем мелких сетях (1-3 заведения по городу) налюдается следующая картина: наибольшая концентрация объектов с количеством посадочных мест до 50. Затем чуть-чуть меньше объектов с посадкой на 100 человек. Выше концентрация спадает, но наблюдаются объекты с количеством посадочных от 150 до 305. *Сети, где число заведений небольшое, чаще имеют большее количество посадочных мест, чем крупные франшизы.*\n",
    "\n",
    "\n",
    "- Улицами Москвы с наибольши количеством заведений общепита являются: *проспект Мира, Профсоюзная улица, Ленинградский проспект, Пресненская набережная, Варшавское шоссе, Ленинский проспект, проспект Вернадского, Кутузовский проспект, Каширское шоссе, Кировоградская улица. На проспекте Мира находится 204 заведения.*\n",
    "\n",
    "\n",
    "- Топ-10 улиц по количеству предприятий общественного питания находится в следующих районах: *Академический, Алексеевский, Донской, Ломоносовский, Мещанский, Нагорный, Обручевский, Останкинский, Пресненский, Аэропорт, Беговой, Гагаринский, Дорогомилово, Коньково, Марьина роща, Москворечье-Сабурово, Нагатино-Садовники, Орехово-Борисово Северное, Орехово-Борисово Южное, Проспект Вернадского, Раменки, Ростокино, Свиблово, Северное Бутово, Южное Бутово, Сокол, Теплый Стан, Тропарево-Никулино, Фили-Давыдково, Черемушки, Чертаново Северное, Чертаново Центральное, Чертаново Южное, Якиманка, Ясенево, Хорошевский, Ярославский.*\n",
    "\n",
    "\n",
    "- Большинство улиц проходят сквозь несколько районов. Так, 204 заведения на проспекте Мира распределены по территории семи районов. *Наибольшее число мест, сконцентрированных в одном районе находится на Пресненской набережной в Пресненском районе. Также высокая концентрация на Кутузовском проспекте, которых пересекает два района - Дорогомилово и Фили-Давыдково. Такое количество заведений может быть связано с длиной улиц, которые являются ключевыми транспортными магистралями и пересекают множество станций метро, деловых центров, мест скопления людей с разными целями.*\n",
    "\n",
    "\n",
    "- На 538 улицах Москвы всего по одному заведению общепита. Эти улицы расположены в 101 районе города. Судя по карте, *эти улицы либо совсем короткие и находятся в спальных районах, либо являются частью крупных транспортных развязок, не приспособленных для остановки и перекуса.*\n",
    "\n",
    "\n",
    "- На Варшавском шоссе, Каширском шоссе и Ленинградском проспекте среднее количество посадочных мест чуть больше 50. На Кировоградской улице, Ленинском проспекте и проспекте Мира среднее количество посадочных мест в заведении колеблется от 60 до 65. Самая небольшая посадка на Профсоюзной улице и Пресненской набережной - меньше 50 мест. Среднее количество посадочных мест на проспекте Вернадского (68) и Кутузовском проспекте (83) обосновано значительными выбросами - на первом наблюдается заведение с 1288 посадочных мест - столовая университета РАНХиГС, а на Кутузовском находится высотка, внутри которой ресторан отеля, а также концертная арена на 1700 мест с баром."
   ]
  },
  {
   "cell_type": "markdown",
   "id": "0711f3f0",
   "metadata": {},
   "source": [
    "## Рекомендации"
   ]
  },
  {
   "cell_type": "markdown",
   "id": "65e388dc",
   "metadata": {},
   "source": [
    "Наиболее перспективным сценарием для открытия заведения с роботизированным обслуживанием является, на мой вгляд, несетевое кафе с количеством мест около 50. Кафе, по сравнению с другими типами объектов, представляет собой больший простор для формирования концепции и лояльной аудитории. Во-первых, кафе доступный и удобный тип заведения для большинства клиентов, во-вторых, нет особых ограничений для бизнеса с точки зрения выбора локации, кухни, размера, интерьера.\n",
    "\n",
    "Район, вероятно, должен быть концентрирован желающими перекусить, поэтому выбор Пресненской набережной кажется адекватным. Плюс деловой центр располагает для открытия заведения с уникальной быстрой системой обслуживания. В случае, если проект окажется успешным его можно развить в других районах большого скопления людей, например, на проспекте Вернадского, где расположено скопление университетов. "
   ]
  },
  {
   "cell_type": "markdown",
   "id": "71ef9509",
   "metadata": {},
   "source": [
    "Ссылка на презентацию: https://drive.google.com/file/d/1L_9ZPH-J4sipDvIugoov4Jy0VAMfZs6Z/view?usp=sharing"
   ]
  }
 ],
 "metadata": {
  "ExecuteTimeLog": [
   {
    "duration": 3000,
    "start_time": "2021-11-19T21:38:08.347Z"
   },
   {
    "duration": 1262,
    "start_time": "2021-11-19T21:38:11.402Z"
   },
   {
    "duration": 50,
    "start_time": "2021-11-19T21:38:12.667Z"
   },
   {
    "duration": 16,
    "start_time": "2021-11-19T21:38:12.720Z"
   },
   {
    "duration": 73,
    "start_time": "2021-11-19T21:38:12.739Z"
   },
   {
    "duration": 86,
    "start_time": "2021-11-19T21:38:12.815Z"
   },
   {
    "duration": 20,
    "start_time": "2021-11-19T21:38:12.904Z"
   },
   {
    "duration": 10,
    "start_time": "2021-11-19T21:38:12.928Z"
   },
   {
    "duration": 5,
    "start_time": "2021-11-19T21:38:13.000Z"
   },
   {
    "duration": 15,
    "start_time": "2021-11-19T21:38:13.007Z"
   },
   {
    "duration": 1176,
    "start_time": "2021-11-19T21:38:13.025Z"
   },
   {
    "duration": 900,
    "start_time": "2021-11-19T21:38:14.203Z"
   },
   {
    "duration": 1006,
    "start_time": "2021-11-19T21:38:15.105Z"
   },
   {
    "duration": 19,
    "start_time": "2021-11-19T21:38:16.113Z"
   },
   {
    "duration": 72,
    "start_time": "2021-11-19T21:38:16.134Z"
   },
   {
    "duration": 11,
    "start_time": "2021-11-19T21:38:16.208Z"
   },
   {
    "duration": 115,
    "start_time": "2021-11-19T21:38:16.222Z"
   },
   {
    "duration": 62,
    "start_time": "2021-11-19T21:38:16.340Z"
   },
   {
    "duration": 24,
    "start_time": "2021-11-19T21:38:16.404Z"
   },
   {
    "duration": 72,
    "start_time": "2021-11-19T21:38:16.430Z"
   },
   {
    "duration": 129,
    "start_time": "2021-11-19T21:38:16.505Z"
   },
   {
    "duration": 87,
    "start_time": "2021-11-19T21:38:16.636Z"
   },
   {
    "duration": 13,
    "start_time": "2021-11-19T21:38:16.729Z"
   },
   {
    "duration": 79,
    "start_time": "2021-11-19T21:38:16.746Z"
   },
   {
    "duration": 1583,
    "start_time": "2021-11-19T21:38:16.828Z"
   },
   {
    "duration": 6489,
    "start_time": "2021-11-19T21:38:18.415Z"
   },
   {
    "duration": 5,
    "start_time": "2021-11-19T21:38:24.907Z"
   },
   {
    "duration": 1325,
    "start_time": "2021-11-19T21:38:24.916Z"
   },
   {
    "duration": 61,
    "start_time": "2021-11-19T21:38:26.244Z"
   },
   {
    "duration": 18,
    "start_time": "2021-11-19T21:38:26.308Z"
   },
   {
    "duration": 90,
    "start_time": "2021-11-19T21:38:26.329Z"
   },
   {
    "duration": 13,
    "start_time": "2021-11-19T21:38:26.422Z"
   },
   {
    "duration": 76,
    "start_time": "2021-11-19T21:38:26.438Z"
   },
   {
    "duration": 219,
    "start_time": "2021-11-19T21:38:26.517Z"
   },
   {
    "duration": 65,
    "start_time": "2021-11-19T21:38:26.739Z"
   },
   {
    "duration": 7,
    "start_time": "2021-11-19T21:38:26.806Z"
   },
   {
    "duration": 16,
    "start_time": "2021-11-19T21:38:26.815Z"
   },
   {
    "duration": 86,
    "start_time": "2021-11-19T21:38:26.833Z"
   },
   {
    "duration": 1299,
    "start_time": "2021-11-19T21:38:26.921Z"
   },
   {
    "duration": -329,
    "start_time": "2021-11-19T21:38:28.552Z"
   },
   {
    "duration": -332,
    "start_time": "2021-11-19T21:38:28.556Z"
   },
   {
    "duration": -334,
    "start_time": "2021-11-19T21:38:28.559Z"
   },
   {
    "duration": -335,
    "start_time": "2021-11-19T21:38:28.562Z"
   },
   {
    "duration": -337,
    "start_time": "2021-11-19T21:38:28.565Z"
   },
   {
    "duration": -337,
    "start_time": "2021-11-19T21:38:28.567Z"
   },
   {
    "duration": -370,
    "start_time": "2021-11-19T21:38:28.601Z"
   },
   {
    "duration": -372,
    "start_time": "2021-11-19T21:38:28.604Z"
   },
   {
    "duration": -380,
    "start_time": "2021-11-19T21:38:28.614Z"
   },
   {
    "duration": -381,
    "start_time": "2021-11-19T21:38:28.616Z"
   },
   {
    "duration": -319,
    "start_time": "2021-11-19T21:38:28.619Z"
   },
   {
    "duration": -323,
    "start_time": "2021-11-19T21:38:28.624Z"
   },
   {
    "duration": -324,
    "start_time": "2021-11-19T21:38:28.627Z"
   },
   {
    "duration": 2942,
    "start_time": "2021-11-19T21:38:43.800Z"
   },
   {
    "duration": 836,
    "start_time": "2021-11-19T21:38:46.800Z"
   },
   {
    "duration": 66,
    "start_time": "2021-11-19T21:38:47.639Z"
   },
   {
    "duration": 13,
    "start_time": "2021-11-19T21:38:47.708Z"
   },
   {
    "duration": 10,
    "start_time": "2021-11-19T21:38:47.724Z"
   },
   {
    "duration": 28,
    "start_time": "2021-11-19T21:38:47.800Z"
   },
   {
    "duration": 81,
    "start_time": "2021-11-19T21:38:47.831Z"
   },
   {
    "duration": 10,
    "start_time": "2021-11-19T21:38:47.916Z"
   },
   {
    "duration": 4,
    "start_time": "2021-11-19T21:38:47.929Z"
   },
   {
    "duration": 75,
    "start_time": "2021-11-19T21:38:47.935Z"
   },
   {
    "duration": 1110,
    "start_time": "2021-11-19T21:38:48.013Z"
   },
   {
    "duration": 782,
    "start_time": "2021-11-19T21:38:49.125Z"
   },
   {
    "duration": 1011,
    "start_time": "2021-11-19T21:38:49.910Z"
   },
   {
    "duration": 78,
    "start_time": "2021-11-19T21:38:50.923Z"
   },
   {
    "duration": 7,
    "start_time": "2021-11-19T21:38:51.004Z"
   },
   {
    "duration": 12,
    "start_time": "2021-11-19T21:38:51.014Z"
   },
   {
    "duration": 172,
    "start_time": "2021-11-19T21:38:51.029Z"
   },
   {
    "duration": 10,
    "start_time": "2021-11-19T21:38:51.203Z"
   },
   {
    "duration": 84,
    "start_time": "2021-11-19T21:38:51.216Z"
   },
   {
    "duration": 6,
    "start_time": "2021-11-19T21:38:51.303Z"
   },
   {
    "duration": 131,
    "start_time": "2021-11-19T21:38:51.311Z"
   },
   {
    "duration": 34,
    "start_time": "2021-11-19T21:38:51.501Z"
   },
   {
    "duration": 64,
    "start_time": "2021-11-19T21:38:51.540Z"
   },
   {
    "duration": 27,
    "start_time": "2021-11-19T21:38:51.608Z"
   },
   {
    "duration": 1465,
    "start_time": "2021-11-19T21:38:51.637Z"
   },
   {
    "duration": 6331,
    "start_time": "2021-11-19T21:38:53.105Z"
   },
   {
    "duration": 5,
    "start_time": "2021-11-19T21:38:59.438Z"
   },
   {
    "duration": 1311,
    "start_time": "2021-11-19T21:38:59.501Z"
   },
   {
    "duration": 6,
    "start_time": "2021-11-19T21:39:00.815Z"
   },
   {
    "duration": 81,
    "start_time": "2021-11-19T21:39:00.824Z"
   },
   {
    "duration": 26,
    "start_time": "2021-11-19T21:39:00.908Z"
   },
   {
    "duration": 69,
    "start_time": "2021-11-19T21:39:00.936Z"
   },
   {
    "duration": 22,
    "start_time": "2021-11-19T21:39:01.007Z"
   },
   {
    "duration": 214,
    "start_time": "2021-11-19T21:39:01.031Z"
   },
   {
    "duration": 12,
    "start_time": "2021-11-19T21:39:01.301Z"
   },
   {
    "duration": 17,
    "start_time": "2021-11-19T21:39:01.315Z"
   },
   {
    "duration": 73,
    "start_time": "2021-11-19T21:39:01.335Z"
   },
   {
    "duration": 90,
    "start_time": "2021-11-19T21:39:01.410Z"
   },
   {
    "duration": 1218,
    "start_time": "2021-11-19T21:39:01.503Z"
   },
   {
    "duration": -321,
    "start_time": "2021-11-19T21:39:03.044Z"
   },
   {
    "duration": -324,
    "start_time": "2021-11-19T21:39:03.048Z"
   },
   {
    "duration": -326,
    "start_time": "2021-11-19T21:39:03.051Z"
   },
   {
    "duration": -328,
    "start_time": "2021-11-19T21:39:03.054Z"
   },
   {
    "duration": -329,
    "start_time": "2021-11-19T21:39:03.057Z"
   },
   {
    "duration": -370,
    "start_time": "2021-11-19T21:39:03.099Z"
   },
   {
    "duration": -372,
    "start_time": "2021-11-19T21:39:03.102Z"
   },
   {
    "duration": -376,
    "start_time": "2021-11-19T21:39:03.108Z"
   },
   {
    "duration": -379,
    "start_time": "2021-11-19T21:39:03.112Z"
   },
   {
    "duration": -380,
    "start_time": "2021-11-19T21:39:03.115Z"
   },
   {
    "duration": -381,
    "start_time": "2021-11-19T21:39:03.117Z"
   },
   {
    "duration": -382,
    "start_time": "2021-11-19T21:39:03.120Z"
   },
   {
    "duration": -384,
    "start_time": "2021-11-19T21:39:03.123Z"
   },
   {
    "duration": 1691,
    "start_time": "2021-11-20T08:02:15.779Z"
   },
   {
    "duration": 1159,
    "start_time": "2021-11-20T08:02:17.474Z"
   },
   {
    "duration": 18,
    "start_time": "2021-11-20T08:02:18.636Z"
   },
   {
    "duration": 12,
    "start_time": "2021-11-20T08:02:18.657Z"
   },
   {
    "duration": 12,
    "start_time": "2021-11-20T08:02:18.671Z"
   },
   {
    "duration": 26,
    "start_time": "2021-11-20T08:02:18.685Z"
   },
   {
    "duration": 15,
    "start_time": "2021-11-20T08:02:18.714Z"
   },
   {
    "duration": 9,
    "start_time": "2021-11-20T08:02:18.734Z"
   },
   {
    "duration": 3,
    "start_time": "2021-11-20T08:02:18.746Z"
   },
   {
    "duration": 40,
    "start_time": "2021-11-20T08:02:18.751Z"
   },
   {
    "duration": 530,
    "start_time": "2021-11-20T08:02:18.793Z"
   },
   {
    "duration": 368,
    "start_time": "2021-11-20T08:02:19.326Z"
   },
   {
    "duration": 501,
    "start_time": "2021-11-20T08:02:19.697Z"
   },
   {
    "duration": 17,
    "start_time": "2021-11-20T08:02:20.201Z"
   },
   {
    "duration": 11,
    "start_time": "2021-11-20T08:02:20.221Z"
   },
   {
    "duration": 48,
    "start_time": "2021-11-20T08:02:20.234Z"
   },
   {
    "duration": 50,
    "start_time": "2021-11-20T08:02:20.285Z"
   },
   {
    "duration": 11,
    "start_time": "2021-11-20T08:02:20.337Z"
   },
   {
    "duration": 23,
    "start_time": "2021-11-20T08:02:20.382Z"
   },
   {
    "duration": 15,
    "start_time": "2021-11-20T08:02:20.408Z"
   },
   {
    "duration": 130,
    "start_time": "2021-11-20T08:02:20.426Z"
   },
   {
    "duration": 65,
    "start_time": "2021-11-20T08:02:20.559Z"
   },
   {
    "duration": 7,
    "start_time": "2021-11-20T08:02:20.632Z"
   },
   {
    "duration": 47,
    "start_time": "2021-11-20T08:02:20.643Z"
   },
   {
    "duration": 1190,
    "start_time": "2021-11-20T08:02:20.693Z"
   },
   {
    "duration": 3076,
    "start_time": "2021-11-20T08:02:21.886Z"
   },
   {
    "duration": 5,
    "start_time": "2021-11-20T08:02:24.965Z"
   },
   {
    "duration": 677,
    "start_time": "2021-11-20T08:02:24.983Z"
   },
   {
    "duration": 7,
    "start_time": "2021-11-20T08:02:25.662Z"
   },
   {
    "duration": 15,
    "start_time": "2021-11-20T08:02:25.683Z"
   },
   {
    "duration": 25,
    "start_time": "2021-11-20T08:02:25.700Z"
   },
   {
    "duration": 11,
    "start_time": "2021-11-20T08:02:25.727Z"
   },
   {
    "duration": 50,
    "start_time": "2021-11-20T08:02:25.740Z"
   },
   {
    "duration": 108,
    "start_time": "2021-11-20T08:02:25.792Z"
   },
   {
    "duration": 11,
    "start_time": "2021-11-20T08:02:25.902Z"
   },
   {
    "duration": 7,
    "start_time": "2021-11-20T08:02:25.915Z"
   },
   {
    "duration": 15,
    "start_time": "2021-11-20T08:02:25.924Z"
   },
   {
    "duration": 51,
    "start_time": "2021-11-20T08:02:25.941Z"
   },
   {
    "duration": 830,
    "start_time": "2021-11-20T08:02:25.994Z"
   },
   {
    "duration": -2202,
    "start_time": "2021-11-20T08:02:29.029Z"
   },
   {
    "duration": -2211,
    "start_time": "2021-11-20T08:02:29.040Z"
   },
   {
    "duration": -2226,
    "start_time": "2021-11-20T08:02:29.057Z"
   },
   {
    "duration": -2239,
    "start_time": "2021-11-20T08:02:29.072Z"
   },
   {
    "duration": -2248,
    "start_time": "2021-11-20T08:02:29.082Z"
   },
   {
    "duration": -2285,
    "start_time": "2021-11-20T08:02:29.121Z"
   },
   {
    "duration": -2289,
    "start_time": "2021-11-20T08:02:29.127Z"
   },
   {
    "duration": -2298,
    "start_time": "2021-11-20T08:02:29.138Z"
   },
   {
    "duration": -2301,
    "start_time": "2021-11-20T08:02:29.143Z"
   },
   {
    "duration": -2307,
    "start_time": "2021-11-20T08:02:29.151Z"
   },
   {
    "duration": -2309,
    "start_time": "2021-11-20T08:02:29.155Z"
   },
   {
    "duration": -2311,
    "start_time": "2021-11-20T08:02:29.159Z"
   },
   {
    "duration": -2287,
    "start_time": "2021-11-20T08:02:29.168Z"
   },
   {
    "duration": 22,
    "start_time": "2021-11-20T08:04:25.587Z"
   },
   {
    "duration": 24,
    "start_time": "2021-11-20T08:05:19.604Z"
   },
   {
    "duration": 24,
    "start_time": "2021-11-20T08:05:32.932Z"
   },
   {
    "duration": 27,
    "start_time": "2021-11-20T08:05:55.796Z"
   },
   {
    "duration": 25,
    "start_time": "2021-11-20T08:06:02.361Z"
   },
   {
    "duration": 811,
    "start_time": "2021-11-20T08:07:56.356Z"
   },
   {
    "duration": 2313,
    "start_time": "2021-11-20T09:34:58.546Z"
   },
   {
    "duration": 1340,
    "start_time": "2021-11-20T09:35:00.863Z"
   },
   {
    "duration": 24,
    "start_time": "2021-11-20T09:35:02.207Z"
   },
   {
    "duration": 12,
    "start_time": "2021-11-20T09:35:02.235Z"
   },
   {
    "duration": 36,
    "start_time": "2021-11-20T09:35:02.251Z"
   },
   {
    "duration": 26,
    "start_time": "2021-11-20T09:35:02.290Z"
   },
   {
    "duration": 17,
    "start_time": "2021-11-20T09:35:02.319Z"
   },
   {
    "duration": 43,
    "start_time": "2021-11-20T09:35:02.342Z"
   },
   {
    "duration": 5,
    "start_time": "2021-11-20T09:35:02.389Z"
   },
   {
    "duration": 31,
    "start_time": "2021-11-20T09:35:02.398Z"
   },
   {
    "duration": 609,
    "start_time": "2021-11-20T09:35:02.436Z"
   },
   {
    "duration": 490,
    "start_time": "2021-11-20T09:35:03.048Z"
   },
   {
    "duration": 523,
    "start_time": "2021-11-20T09:35:03.541Z"
   },
   {
    "duration": 27,
    "start_time": "2021-11-20T09:35:04.067Z"
   },
   {
    "duration": 7,
    "start_time": "2021-11-20T09:35:04.096Z"
   },
   {
    "duration": 11,
    "start_time": "2021-11-20T09:35:04.106Z"
   },
   {
    "duration": 85,
    "start_time": "2021-11-20T09:35:04.120Z"
   },
   {
    "duration": 16,
    "start_time": "2021-11-20T09:35:04.207Z"
   },
   {
    "duration": 23,
    "start_time": "2021-11-20T09:35:04.225Z"
   },
   {
    "duration": 32,
    "start_time": "2021-11-20T09:35:04.251Z"
   },
   {
    "duration": 96,
    "start_time": "2021-11-20T09:35:04.286Z"
   },
   {
    "duration": 41,
    "start_time": "2021-11-20T09:35:04.385Z"
   },
   {
    "duration": 10,
    "start_time": "2021-11-20T09:35:04.432Z"
   },
   {
    "duration": 48,
    "start_time": "2021-11-20T09:35:04.446Z"
   },
   {
    "duration": 1146,
    "start_time": "2021-11-20T09:35:04.496Z"
   },
   {
    "duration": 4728,
    "start_time": "2021-11-20T09:35:05.646Z"
   },
   {
    "duration": 6,
    "start_time": "2021-11-20T09:35:10.381Z"
   },
   {
    "duration": 1154,
    "start_time": "2021-11-20T09:35:10.390Z"
   },
   {
    "duration": 8,
    "start_time": "2021-11-20T09:35:11.547Z"
   },
   {
    "duration": 38,
    "start_time": "2021-11-20T09:35:11.558Z"
   },
   {
    "duration": 32,
    "start_time": "2021-11-20T09:35:11.599Z"
   },
   {
    "duration": 12,
    "start_time": "2021-11-20T09:35:11.634Z"
   },
   {
    "duration": 46,
    "start_time": "2021-11-20T09:35:11.649Z"
   },
   {
    "duration": 171,
    "start_time": "2021-11-20T09:35:11.698Z"
   },
   {
    "duration": 23,
    "start_time": "2021-11-20T09:35:11.872Z"
   },
   {
    "duration": 8,
    "start_time": "2021-11-20T09:35:11.898Z"
   },
   {
    "duration": 16,
    "start_time": "2021-11-20T09:35:11.909Z"
   },
   {
    "duration": 57,
    "start_time": "2021-11-20T09:35:11.927Z"
   },
   {
    "duration": 603,
    "start_time": "2021-11-20T09:35:11.987Z"
   },
   {
    "duration": 31,
    "start_time": "2021-11-20T09:35:12.592Z"
   },
   {
    "duration": 22,
    "start_time": "2021-11-20T09:35:12.625Z"
   },
   {
    "duration": 43,
    "start_time": "2021-11-20T09:35:12.649Z"
   },
   {
    "duration": 6,
    "start_time": "2021-11-20T09:35:12.694Z"
   },
   {
    "duration": 20,
    "start_time": "2021-11-20T09:35:12.702Z"
   },
   {
    "duration": 58,
    "start_time": "2021-11-20T09:35:12.724Z"
   },
   {
    "duration": 13,
    "start_time": "2021-11-20T09:35:12.784Z"
   },
   {
    "duration": 13,
    "start_time": "2021-11-20T09:35:12.799Z"
   },
   {
    "duration": 13,
    "start_time": "2021-11-20T09:35:12.814Z"
   },
   {
    "duration": 1013,
    "start_time": "2021-11-20T09:35:12.829Z"
   },
   {
    "duration": 538,
    "start_time": "2021-11-20T09:35:13.844Z"
   },
   {
    "duration": 901,
    "start_time": "2021-11-20T09:35:14.384Z"
   },
   {
    "duration": 15,
    "start_time": "2021-11-20T09:35:15.288Z"
   },
   {
    "duration": 13,
    "start_time": "2021-11-20T09:38:20.317Z"
   },
   {
    "duration": 1661,
    "start_time": "2021-11-20T09:41:05.259Z"
   },
   {
    "duration": 1207,
    "start_time": "2021-11-20T09:41:06.923Z"
   },
   {
    "duration": 18,
    "start_time": "2021-11-20T09:41:08.133Z"
   },
   {
    "duration": 12,
    "start_time": "2021-11-20T09:41:08.154Z"
   },
   {
    "duration": 10,
    "start_time": "2021-11-20T09:41:08.168Z"
   },
   {
    "duration": 26,
    "start_time": "2021-11-20T09:41:08.181Z"
   },
   {
    "duration": 17,
    "start_time": "2021-11-20T09:41:08.210Z"
   },
   {
    "duration": 11,
    "start_time": "2021-11-20T09:41:08.232Z"
   },
   {
    "duration": 36,
    "start_time": "2021-11-20T09:41:08.246Z"
   },
   {
    "duration": 12,
    "start_time": "2021-11-20T09:41:08.285Z"
   },
   {
    "duration": 538,
    "start_time": "2021-11-20T09:41:08.299Z"
   },
   {
    "duration": 376,
    "start_time": "2021-11-20T09:41:08.839Z"
   },
   {
    "duration": 615,
    "start_time": "2021-11-20T09:41:09.217Z"
   },
   {
    "duration": 17,
    "start_time": "2021-11-20T09:41:09.834Z"
   },
   {
    "duration": 34,
    "start_time": "2021-11-20T09:41:09.853Z"
   },
   {
    "duration": 13,
    "start_time": "2021-11-20T09:41:09.889Z"
   },
   {
    "duration": 82,
    "start_time": "2021-11-20T09:41:09.904Z"
   },
   {
    "duration": 15,
    "start_time": "2021-11-20T09:41:09.988Z"
   },
   {
    "duration": 21,
    "start_time": "2021-11-20T09:41:10.005Z"
   },
   {
    "duration": 16,
    "start_time": "2021-11-20T09:41:10.028Z"
   },
   {
    "duration": 86,
    "start_time": "2021-11-20T09:41:10.047Z"
   },
   {
    "duration": 52,
    "start_time": "2021-11-20T09:41:10.135Z"
   },
   {
    "duration": 9,
    "start_time": "2021-11-20T09:41:10.193Z"
   },
   {
    "duration": 21,
    "start_time": "2021-11-20T09:41:10.205Z"
   },
   {
    "duration": 831,
    "start_time": "2021-11-20T09:41:10.229Z"
   },
   {
    "duration": 3280,
    "start_time": "2021-11-20T09:41:11.062Z"
   },
   {
    "duration": 4,
    "start_time": "2021-11-20T09:41:14.345Z"
   },
   {
    "duration": 775,
    "start_time": "2021-11-20T09:41:14.351Z"
   },
   {
    "duration": 8,
    "start_time": "2021-11-20T09:41:15.128Z"
   },
   {
    "duration": 24,
    "start_time": "2021-11-20T09:41:15.138Z"
   },
   {
    "duration": 39,
    "start_time": "2021-11-20T09:41:15.164Z"
   },
   {
    "duration": 10,
    "start_time": "2021-11-20T09:41:15.206Z"
   },
   {
    "duration": 24,
    "start_time": "2021-11-20T09:41:15.218Z"
   },
   {
    "duration": 126,
    "start_time": "2021-11-20T09:41:15.244Z"
   },
   {
    "duration": 19,
    "start_time": "2021-11-20T09:41:15.372Z"
   },
   {
    "duration": 11,
    "start_time": "2021-11-20T09:41:15.393Z"
   },
   {
    "duration": 15,
    "start_time": "2021-11-20T09:41:15.406Z"
   },
   {
    "duration": 59,
    "start_time": "2021-11-20T09:41:15.424Z"
   },
   {
    "duration": 721,
    "start_time": "2021-11-20T09:41:15.486Z"
   },
   {
    "duration": 32,
    "start_time": "2021-11-20T09:41:16.211Z"
   },
   {
    "duration": 54,
    "start_time": "2021-11-20T09:41:16.246Z"
   },
   {
    "duration": 14,
    "start_time": "2021-11-20T09:41:16.303Z"
   },
   {
    "duration": 6,
    "start_time": "2021-11-20T09:41:16.319Z"
   },
   {
    "duration": 60,
    "start_time": "2021-11-20T09:41:16.328Z"
   },
   {
    "duration": 15,
    "start_time": "2021-11-20T09:41:16.391Z"
   },
   {
    "duration": 10,
    "start_time": "2021-11-20T09:41:16.409Z"
   },
   {
    "duration": 8,
    "start_time": "2021-11-20T09:41:16.421Z"
   },
   {
    "duration": 11,
    "start_time": "2021-11-20T09:41:16.431Z"
   },
   {
    "duration": 998,
    "start_time": "2021-11-20T09:41:16.445Z"
   },
   {
    "duration": 648,
    "start_time": "2021-11-20T09:41:17.447Z"
   },
   {
    "duration": 937,
    "start_time": "2021-11-20T09:41:18.098Z"
   },
   {
    "duration": 17,
    "start_time": "2021-11-20T09:41:19.037Z"
   },
   {
    "duration": 1954,
    "start_time": "2021-11-20T10:35:55.516Z"
   },
   {
    "duration": 1195,
    "start_time": "2021-11-20T10:35:57.473Z"
   },
   {
    "duration": 18,
    "start_time": "2021-11-20T10:35:58.671Z"
   },
   {
    "duration": 17,
    "start_time": "2021-11-20T10:35:58.692Z"
   },
   {
    "duration": 13,
    "start_time": "2021-11-20T10:35:58.712Z"
   },
   {
    "duration": 27,
    "start_time": "2021-11-20T10:35:58.727Z"
   },
   {
    "duration": 18,
    "start_time": "2021-11-20T10:35:58.757Z"
   },
   {
    "duration": 11,
    "start_time": "2021-11-20T10:35:58.784Z"
   },
   {
    "duration": 4,
    "start_time": "2021-11-20T10:35:58.798Z"
   },
   {
    "duration": 16,
    "start_time": "2021-11-20T10:35:58.805Z"
   },
   {
    "duration": 760,
    "start_time": "2021-11-20T10:35:58.824Z"
   },
   {
    "duration": 383,
    "start_time": "2021-11-20T10:35:59.588Z"
   },
   {
    "duration": 511,
    "start_time": "2021-11-20T10:35:59.973Z"
   },
   {
    "duration": 22,
    "start_time": "2021-11-20T10:36:00.487Z"
   },
   {
    "duration": 8,
    "start_time": "2021-11-20T10:36:00.511Z"
   },
   {
    "duration": 19,
    "start_time": "2021-11-20T10:36:00.521Z"
   },
   {
    "duration": 82,
    "start_time": "2021-11-20T10:36:00.583Z"
   },
   {
    "duration": 19,
    "start_time": "2021-11-20T10:36:00.668Z"
   },
   {
    "duration": 33,
    "start_time": "2021-11-20T10:36:00.690Z"
   },
   {
    "duration": 56,
    "start_time": "2021-11-20T10:36:00.725Z"
   },
   {
    "duration": 82,
    "start_time": "2021-11-20T10:36:00.784Z"
   },
   {
    "duration": 62,
    "start_time": "2021-11-20T10:36:00.869Z"
   },
   {
    "duration": 22,
    "start_time": "2021-11-20T10:36:00.937Z"
   },
   {
    "duration": 39,
    "start_time": "2021-11-20T10:36:00.962Z"
   },
   {
    "duration": 902,
    "start_time": "2021-11-20T10:36:01.003Z"
   },
   {
    "duration": 3380,
    "start_time": "2021-11-20T10:36:01.907Z"
   },
   {
    "duration": 5,
    "start_time": "2021-11-20T10:36:05.290Z"
   },
   {
    "duration": 687,
    "start_time": "2021-11-20T10:36:05.298Z"
   },
   {
    "duration": 6,
    "start_time": "2021-11-20T10:36:05.988Z"
   },
   {
    "duration": 19,
    "start_time": "2021-11-20T10:36:05.997Z"
   },
   {
    "duration": 24,
    "start_time": "2021-11-20T10:36:06.019Z"
   },
   {
    "duration": 36,
    "start_time": "2021-11-20T10:36:06.046Z"
   },
   {
    "duration": 22,
    "start_time": "2021-11-20T10:36:06.085Z"
   },
   {
    "duration": 130,
    "start_time": "2021-11-20T10:36:06.110Z"
   },
   {
    "duration": 11,
    "start_time": "2021-11-20T10:36:06.242Z"
   },
   {
    "duration": 14,
    "start_time": "2021-11-20T10:36:06.256Z"
   },
   {
    "duration": 13,
    "start_time": "2021-11-20T10:36:06.281Z"
   },
   {
    "duration": 34,
    "start_time": "2021-11-20T10:36:06.296Z"
   },
   {
    "duration": 672,
    "start_time": "2021-11-20T10:36:06.332Z"
   },
   {
    "duration": 32,
    "start_time": "2021-11-20T10:36:07.007Z"
   },
   {
    "duration": 58,
    "start_time": "2021-11-20T10:36:07.042Z"
   },
   {
    "duration": 20,
    "start_time": "2021-11-20T10:36:07.103Z"
   },
   {
    "duration": 13,
    "start_time": "2021-11-20T10:36:07.126Z"
   },
   {
    "duration": 58,
    "start_time": "2021-11-20T10:36:07.142Z"
   },
   {
    "duration": 14,
    "start_time": "2021-11-20T10:36:07.203Z"
   },
   {
    "duration": 15,
    "start_time": "2021-11-20T10:36:07.220Z"
   },
   {
    "duration": 8,
    "start_time": "2021-11-20T10:36:07.237Z"
   },
   {
    "duration": 36,
    "start_time": "2021-11-20T10:36:07.248Z"
   },
   {
    "duration": 1210,
    "start_time": "2021-11-20T10:36:07.287Z"
   },
   {
    "duration": 1569,
    "start_time": "2021-11-20T10:36:08.500Z"
   },
   {
    "duration": 31,
    "start_time": "2021-11-20T10:36:10.072Z"
   },
   {
    "duration": 1616,
    "start_time": "2021-11-21T10:06:42.738Z"
   },
   {
    "duration": 1196,
    "start_time": "2021-11-21T10:06:44.357Z"
   },
   {
    "duration": 17,
    "start_time": "2021-11-21T10:06:45.556Z"
   },
   {
    "duration": 14,
    "start_time": "2021-11-21T10:06:45.576Z"
   },
   {
    "duration": 10,
    "start_time": "2021-11-21T10:06:45.592Z"
   },
   {
    "duration": 31,
    "start_time": "2021-11-21T10:06:45.604Z"
   },
   {
    "duration": 18,
    "start_time": "2021-11-21T10:06:45.638Z"
   },
   {
    "duration": 13,
    "start_time": "2021-11-21T10:06:45.660Z"
   },
   {
    "duration": 24,
    "start_time": "2021-11-21T10:06:45.677Z"
   },
   {
    "duration": 14,
    "start_time": "2021-11-21T10:06:45.704Z"
   },
   {
    "duration": 553,
    "start_time": "2021-11-21T10:06:45.720Z"
   },
   {
    "duration": 393,
    "start_time": "2021-11-21T10:06:46.278Z"
   },
   {
    "duration": 799,
    "start_time": "2021-11-21T10:06:46.674Z"
   },
   {
    "duration": 36,
    "start_time": "2021-11-21T10:06:47.476Z"
   },
   {
    "duration": 8,
    "start_time": "2021-11-21T10:06:47.514Z"
   },
   {
    "duration": 15,
    "start_time": "2021-11-21T10:06:47.524Z"
   },
   {
    "duration": 83,
    "start_time": "2021-11-21T10:06:47.541Z"
   },
   {
    "duration": 8,
    "start_time": "2021-11-21T10:06:47.627Z"
   },
   {
    "duration": 24,
    "start_time": "2021-11-21T10:06:47.638Z"
   },
   {
    "duration": 49,
    "start_time": "2021-11-21T10:06:47.665Z"
   },
   {
    "duration": 85,
    "start_time": "2021-11-21T10:06:47.716Z"
   },
   {
    "duration": 53,
    "start_time": "2021-11-21T10:06:47.804Z"
   },
   {
    "duration": 7,
    "start_time": "2021-11-21T10:06:47.865Z"
   },
   {
    "duration": 20,
    "start_time": "2021-11-21T10:06:47.900Z"
   },
   {
    "duration": 1045,
    "start_time": "2021-11-21T10:06:47.923Z"
   },
   {
    "duration": 3347,
    "start_time": "2021-11-21T10:06:48.971Z"
   },
   {
    "duration": 6,
    "start_time": "2021-11-21T10:06:52.322Z"
   },
   {
    "duration": 1124,
    "start_time": "2021-11-21T10:06:52.331Z"
   },
   {
    "duration": 9,
    "start_time": "2021-11-21T10:06:53.458Z"
   },
   {
    "duration": 34,
    "start_time": "2021-11-21T10:06:53.470Z"
   },
   {
    "duration": 37,
    "start_time": "2021-11-21T10:06:53.508Z"
   },
   {
    "duration": 14,
    "start_time": "2021-11-21T10:06:53.548Z"
   },
   {
    "duration": 50,
    "start_time": "2021-11-21T10:06:53.566Z"
   },
   {
    "duration": 117,
    "start_time": "2021-11-21T10:06:53.618Z"
   },
   {
    "duration": 11,
    "start_time": "2021-11-21T10:06:53.738Z"
   },
   {
    "duration": 7,
    "start_time": "2021-11-21T10:06:53.752Z"
   },
   {
    "duration": 17,
    "start_time": "2021-11-21T10:06:53.762Z"
   },
   {
    "duration": 33,
    "start_time": "2021-11-21T10:06:53.802Z"
   },
   {
    "duration": 814,
    "start_time": "2021-11-21T10:06:53.837Z"
   },
   {
    "duration": 32,
    "start_time": "2021-11-21T10:06:54.653Z"
   },
   {
    "duration": 27,
    "start_time": "2021-11-21T10:06:54.700Z"
   },
   {
    "duration": 16,
    "start_time": "2021-11-21T10:06:54.730Z"
   },
   {
    "duration": 5,
    "start_time": "2021-11-21T10:06:54.749Z"
   },
   {
    "duration": 63,
    "start_time": "2021-11-21T10:06:54.757Z"
   },
   {
    "duration": 19,
    "start_time": "2021-11-21T10:06:54.823Z"
   },
   {
    "duration": 7,
    "start_time": "2021-11-21T10:06:54.845Z"
   },
   {
    "duration": 6,
    "start_time": "2021-11-21T10:06:54.855Z"
   },
   {
    "duration": 47,
    "start_time": "2021-11-21T10:06:54.863Z"
   },
   {
    "duration": 1378,
    "start_time": "2021-11-21T10:06:54.913Z"
   },
   {
    "duration": 1047,
    "start_time": "2021-11-21T10:06:56.301Z"
   },
   {
    "duration": 17,
    "start_time": "2021-11-21T10:06:57.351Z"
   }
  ],
  "kernelspec": {
   "display_name": "Python 3",
   "language": "python",
   "name": "python3"
  },
  "language_info": {
   "codemirror_mode": {
    "name": "ipython",
    "version": 3
   },
   "file_extension": ".py",
   "mimetype": "text/x-python",
   "name": "python",
   "nbconvert_exporter": "python",
   "pygments_lexer": "ipython3",
   "version": "3.8.8"
  },
  "toc": {
   "base_numbering": 1,
   "nav_menu": {},
   "number_sections": true,
   "sideBar": true,
   "skip_h1_title": true,
   "title_cell": "Table of Contents",
   "title_sidebar": "Contents",
   "toc_cell": false,
   "toc_position": {},
   "toc_section_display": true,
   "toc_window_display": false
  }
 },
 "nbformat": 4,
 "nbformat_minor": 5
}
