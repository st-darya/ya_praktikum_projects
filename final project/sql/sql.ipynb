{
 "cells": [
  {
   "cell_type": "markdown",
   "id": "5bfb3aa2",
   "metadata": {
    "toc": true
   },
   "source": [
    "<h1>Содержание<span class=\"tocSkip\"></span></h1>\n",
    "<div class=\"toc\"><ul class=\"toc-item\"><li><span><a href=\"#1.-Количество-книг,-выпущенных-после-1-января-2000-года\" data-toc-modified-id=\"1.-Количество-книг,-выпущенных-после-1-января-2000-года-1\">1. Количество книг, выпущенных после 1 января 2000 года</a></span></li><li><span><a href=\"#2.-Количество-обзоров-и-средняя-оценка-для-каждой-книги\" data-toc-modified-id=\"2.-Количество-обзоров-и-средняя-оценка-для-каждой-книги-2\">2. Количество обзоров и средняя оценка для каждой книги</a></span></li><li><span><a href=\"#3.-Издательство,-которое-выпустило-наибольшее-число-книг-толще-50-страниц\" data-toc-modified-id=\"3.-Издательство,-которое-выпустило-наибольшее-число-книг-толще-50-страниц-3\">3. Издательство, которое выпустило наибольшее число книг толще 50 страниц</a></span></li><li><span><a href=\"#4.-Автор-с-самой-высокой-средней-оценкой-книг\" data-toc-modified-id=\"4.-Автор-с-самой-высокой-средней-оценкой-книг-4\">4. Автор с самой высокой средней оценкой книг</a></span></li><li><span><a href=\"#5.-Среднее-количество-обзоров-от-пользователей,-которые-поставили-больше-50-оценок\" data-toc-modified-id=\"5.-Среднее-количество-обзоров-от-пользователей,-которые-поставили-больше-50-оценок-5\">5. Среднее количество обзоров от пользователей, которые поставили больше 50 оценок</a></span></li><li><span><a href=\"#Краткие-выводы\" data-toc-modified-id=\"Краткие-выводы-6\">Краткие выводы</a></span></li></ul></div>"
   ]
  },
  {
   "cell_type": "markdown",
   "id": "71387c65",
   "metadata": {},
   "source": [
    "# Сервис для чтения книг по подписке"
   ]
  },
  {
   "cell_type": "markdown",
   "id": "21feb950",
   "metadata": {},
   "source": [
    "Цель — проанализировать базу данных.\n",
    "База данных содержит информацию о книгах, издательствах, авторах, а также пользовательские обзоры книг. Эти данные помогут сформулировать ценностное предложение для нового продукта.\n",
    "\n",
    "Задачи:\n",
    "\n",
    "- Посчитать, сколько книг вышло после 1 января 2000 года;\n",
    "- Для каждой книги посчитать количество обзоров и среднюю оценку;\n",
    "- Определить издательство, которое выпустило наибольшее число книг толще 50 страниц для исключениях из анализа брошюры;\n",
    "- Определить автора с самой высокой средней оценкой книг, учитывая только книги с 50 и более оценками;\n",
    "- Посчитать среднее количество обзоров от пользователей, которые поставили больше 50 оценок."
   ]
  },
  {
   "cell_type": "code",
   "execution_count": 1,
   "id": "fbefb8ae",
   "metadata": {},
   "outputs": [],
   "source": [
    "import pandas as pd\n",
    "from sqlalchemy import create_engine"
   ]
  },
  {
   "cell_type": "code",
   "execution_count": 2,
   "id": "512f4c28",
   "metadata": {},
   "outputs": [],
   "source": [
    "# устанавливаем параметры\n",
    "db_config = {'user': 'praktikum_student', # имя пользователя\n",
    " 'pwd': 'Sdf4$2;d-d30pp', # пароль\n",
    " 'host': 'rc1b-wcoijxj3yxfsf3fs.mdb.yandexcloud.net',\n",
    " 'port': 6432, # порт подключения\n",
    " 'db': 'data-analyst-final-project-db'} # название базы данных\n",
    "connection_string = 'postgresql://{}:{}@{}:{}/{}'.format(db_config['user'],\n",
    " db_config['pwd'],\n",
    " db_config['host'],\n",
    " db_config['port'],\n",
    " db_config['db'])\n",
    "# сохраняем коннектор\n",
    "engine = create_engine(connection_string, connect_args={'sslmode':'require'})"
   ]
  },
  {
   "cell_type": "code",
   "execution_count": 3,
   "id": "d28d8d68",
   "metadata": {},
   "outputs": [],
   "source": [
    "def show(sql):\n",
    "    return pd.io.sql.read_sql(sql, con = engine) "
   ]
  },
  {
   "cell_type": "code",
   "execution_count": 4,
   "id": "c2ffa486",
   "metadata": {},
   "outputs": [],
   "source": [
    "query_books = '''\n",
    "        SELECT * FROM books\n",
    "        '''\n",
    "books = show(query_books)\n",
    "\n",
    "query_authors = '''\n",
    "                SELECT * FROM authors\n",
    "                '''\n",
    "authors = show(query_authors)\n",
    "\n",
    "query_publishers = '''\n",
    "                   SELECT * FROM publishers\n",
    "                   '''\n",
    "publishers = show(query_publishers)\n",
    "\n",
    "query_ratings = '''\n",
    "                SELECT * FROM ratings\n",
    "                '''\n",
    "ratings = show(query_ratings)\n",
    "\n",
    "query_reviews = '''\n",
    "                SELECT * FROM reviews\n",
    "                '''\n",
    "reviews = show(query_reviews)"
   ]
  },
  {
   "cell_type": "code",
   "execution_count": 5,
   "id": "96f6da88",
   "metadata": {},
   "outputs": [
    {
     "data": {
      "text/html": [
       "<div>\n",
       "<style scoped>\n",
       "    .dataframe tbody tr th:only-of-type {\n",
       "        vertical-align: middle;\n",
       "    }\n",
       "\n",
       "    .dataframe tbody tr th {\n",
       "        vertical-align: top;\n",
       "    }\n",
       "\n",
       "    .dataframe thead th {\n",
       "        text-align: right;\n",
       "    }\n",
       "</style>\n",
       "<table border=\"1\" class=\"dataframe\">\n",
       "  <thead>\n",
       "    <tr style=\"text-align: right;\">\n",
       "      <th></th>\n",
       "      <th>book_id</th>\n",
       "      <th>author_id</th>\n",
       "      <th>title</th>\n",
       "      <th>num_pages</th>\n",
       "      <th>publication_date</th>\n",
       "      <th>publisher_id</th>\n",
       "    </tr>\n",
       "  </thead>\n",
       "  <tbody>\n",
       "    <tr>\n",
       "      <td>0</td>\n",
       "      <td>1</td>\n",
       "      <td>546</td>\n",
       "      <td>'Salem's Lot</td>\n",
       "      <td>594</td>\n",
       "      <td>2005-11-01</td>\n",
       "      <td>93</td>\n",
       "    </tr>\n",
       "    <tr>\n",
       "      <td>1</td>\n",
       "      <td>2</td>\n",
       "      <td>465</td>\n",
       "      <td>1 000 Places to See Before You Die</td>\n",
       "      <td>992</td>\n",
       "      <td>2003-05-22</td>\n",
       "      <td>336</td>\n",
       "    </tr>\n",
       "    <tr>\n",
       "      <td>2</td>\n",
       "      <td>3</td>\n",
       "      <td>407</td>\n",
       "      <td>13 Little Blue Envelopes (Little Blue Envelope...</td>\n",
       "      <td>322</td>\n",
       "      <td>2010-12-21</td>\n",
       "      <td>135</td>\n",
       "    </tr>\n",
       "    <tr>\n",
       "      <td>3</td>\n",
       "      <td>4</td>\n",
       "      <td>82</td>\n",
       "      <td>1491: New Revelations of the Americas Before C...</td>\n",
       "      <td>541</td>\n",
       "      <td>2006-10-10</td>\n",
       "      <td>309</td>\n",
       "    </tr>\n",
       "    <tr>\n",
       "      <td>4</td>\n",
       "      <td>5</td>\n",
       "      <td>125</td>\n",
       "      <td>1776</td>\n",
       "      <td>386</td>\n",
       "      <td>2006-07-04</td>\n",
       "      <td>268</td>\n",
       "    </tr>\n",
       "  </tbody>\n",
       "</table>\n",
       "</div>"
      ],
      "text/plain": [
       "   book_id  author_id                                              title  \\\n",
       "0        1        546                                       'Salem's Lot   \n",
       "1        2        465                 1 000 Places to See Before You Die   \n",
       "2        3        407  13 Little Blue Envelopes (Little Blue Envelope...   \n",
       "3        4         82  1491: New Revelations of the Americas Before C...   \n",
       "4        5        125                                               1776   \n",
       "\n",
       "   num_pages publication_date  publisher_id  \n",
       "0        594       2005-11-01            93  \n",
       "1        992       2003-05-22           336  \n",
       "2        322       2010-12-21           135  \n",
       "3        541       2006-10-10           309  \n",
       "4        386       2006-07-04           268  "
      ]
     },
     "execution_count": 5,
     "metadata": {},
     "output_type": "execute_result"
    }
   ],
   "source": [
    "books.head()"
   ]
  },
  {
   "cell_type": "code",
   "execution_count": 6,
   "id": "ab28c81c",
   "metadata": {},
   "outputs": [
    {
     "data": {
      "text/html": [
       "<div>\n",
       "<style scoped>\n",
       "    .dataframe tbody tr th:only-of-type {\n",
       "        vertical-align: middle;\n",
       "    }\n",
       "\n",
       "    .dataframe tbody tr th {\n",
       "        vertical-align: top;\n",
       "    }\n",
       "\n",
       "    .dataframe thead th {\n",
       "        text-align: right;\n",
       "    }\n",
       "</style>\n",
       "<table border=\"1\" class=\"dataframe\">\n",
       "  <thead>\n",
       "    <tr style=\"text-align: right;\">\n",
       "      <th></th>\n",
       "      <th>author_id</th>\n",
       "      <th>author</th>\n",
       "    </tr>\n",
       "  </thead>\n",
       "  <tbody>\n",
       "    <tr>\n",
       "      <td>0</td>\n",
       "      <td>1</td>\n",
       "      <td>A.S. Byatt</td>\n",
       "    </tr>\n",
       "    <tr>\n",
       "      <td>1</td>\n",
       "      <td>2</td>\n",
       "      <td>Aesop/Laura Harris/Laura Gibbs</td>\n",
       "    </tr>\n",
       "    <tr>\n",
       "      <td>2</td>\n",
       "      <td>3</td>\n",
       "      <td>Agatha Christie</td>\n",
       "    </tr>\n",
       "    <tr>\n",
       "      <td>3</td>\n",
       "      <td>4</td>\n",
       "      <td>Alan Brennert</td>\n",
       "    </tr>\n",
       "    <tr>\n",
       "      <td>4</td>\n",
       "      <td>5</td>\n",
       "      <td>Alan Moore/David   Lloyd</td>\n",
       "    </tr>\n",
       "  </tbody>\n",
       "</table>\n",
       "</div>"
      ],
      "text/plain": [
       "   author_id                          author\n",
       "0          1                      A.S. Byatt\n",
       "1          2  Aesop/Laura Harris/Laura Gibbs\n",
       "2          3                 Agatha Christie\n",
       "3          4                   Alan Brennert\n",
       "4          5        Alan Moore/David   Lloyd"
      ]
     },
     "execution_count": 6,
     "metadata": {},
     "output_type": "execute_result"
    }
   ],
   "source": [
    "authors.head()"
   ]
  },
  {
   "cell_type": "code",
   "execution_count": 7,
   "id": "15538b4e",
   "metadata": {},
   "outputs": [
    {
     "data": {
      "text/html": [
       "<div>\n",
       "<style scoped>\n",
       "    .dataframe tbody tr th:only-of-type {\n",
       "        vertical-align: middle;\n",
       "    }\n",
       "\n",
       "    .dataframe tbody tr th {\n",
       "        vertical-align: top;\n",
       "    }\n",
       "\n",
       "    .dataframe thead th {\n",
       "        text-align: right;\n",
       "    }\n",
       "</style>\n",
       "<table border=\"1\" class=\"dataframe\">\n",
       "  <thead>\n",
       "    <tr style=\"text-align: right;\">\n",
       "      <th></th>\n",
       "      <th>publisher_id</th>\n",
       "      <th>publisher</th>\n",
       "    </tr>\n",
       "  </thead>\n",
       "  <tbody>\n",
       "    <tr>\n",
       "      <td>0</td>\n",
       "      <td>1</td>\n",
       "      <td>Ace</td>\n",
       "    </tr>\n",
       "    <tr>\n",
       "      <td>1</td>\n",
       "      <td>2</td>\n",
       "      <td>Ace Book</td>\n",
       "    </tr>\n",
       "    <tr>\n",
       "      <td>2</td>\n",
       "      <td>3</td>\n",
       "      <td>Ace Books</td>\n",
       "    </tr>\n",
       "    <tr>\n",
       "      <td>3</td>\n",
       "      <td>4</td>\n",
       "      <td>Ace Hardcover</td>\n",
       "    </tr>\n",
       "    <tr>\n",
       "      <td>4</td>\n",
       "      <td>5</td>\n",
       "      <td>Addison Wesley Publishing Company</td>\n",
       "    </tr>\n",
       "  </tbody>\n",
       "</table>\n",
       "</div>"
      ],
      "text/plain": [
       "   publisher_id                          publisher\n",
       "0             1                                Ace\n",
       "1             2                           Ace Book\n",
       "2             3                          Ace Books\n",
       "3             4                      Ace Hardcover\n",
       "4             5  Addison Wesley Publishing Company"
      ]
     },
     "execution_count": 7,
     "metadata": {},
     "output_type": "execute_result"
    }
   ],
   "source": [
    "publishers.head()"
   ]
  },
  {
   "cell_type": "code",
   "execution_count": 8,
   "id": "3382f92d",
   "metadata": {},
   "outputs": [
    {
     "data": {
      "text/html": [
       "<div>\n",
       "<style scoped>\n",
       "    .dataframe tbody tr th:only-of-type {\n",
       "        vertical-align: middle;\n",
       "    }\n",
       "\n",
       "    .dataframe tbody tr th {\n",
       "        vertical-align: top;\n",
       "    }\n",
       "\n",
       "    .dataframe thead th {\n",
       "        text-align: right;\n",
       "    }\n",
       "</style>\n",
       "<table border=\"1\" class=\"dataframe\">\n",
       "  <thead>\n",
       "    <tr style=\"text-align: right;\">\n",
       "      <th></th>\n",
       "      <th>rating_id</th>\n",
       "      <th>book_id</th>\n",
       "      <th>username</th>\n",
       "      <th>rating</th>\n",
       "    </tr>\n",
       "  </thead>\n",
       "  <tbody>\n",
       "    <tr>\n",
       "      <td>0</td>\n",
       "      <td>1</td>\n",
       "      <td>1</td>\n",
       "      <td>ryanfranco</td>\n",
       "      <td>4</td>\n",
       "    </tr>\n",
       "    <tr>\n",
       "      <td>1</td>\n",
       "      <td>2</td>\n",
       "      <td>1</td>\n",
       "      <td>grantpatricia</td>\n",
       "      <td>2</td>\n",
       "    </tr>\n",
       "    <tr>\n",
       "      <td>2</td>\n",
       "      <td>3</td>\n",
       "      <td>1</td>\n",
       "      <td>brandtandrea</td>\n",
       "      <td>5</td>\n",
       "    </tr>\n",
       "    <tr>\n",
       "      <td>3</td>\n",
       "      <td>4</td>\n",
       "      <td>2</td>\n",
       "      <td>lorichen</td>\n",
       "      <td>3</td>\n",
       "    </tr>\n",
       "    <tr>\n",
       "      <td>4</td>\n",
       "      <td>5</td>\n",
       "      <td>2</td>\n",
       "      <td>mariokeller</td>\n",
       "      <td>2</td>\n",
       "    </tr>\n",
       "  </tbody>\n",
       "</table>\n",
       "</div>"
      ],
      "text/plain": [
       "   rating_id  book_id       username  rating\n",
       "0          1        1     ryanfranco       4\n",
       "1          2        1  grantpatricia       2\n",
       "2          3        1   brandtandrea       5\n",
       "3          4        2       lorichen       3\n",
       "4          5        2    mariokeller       2"
      ]
     },
     "execution_count": 8,
     "metadata": {},
     "output_type": "execute_result"
    }
   ],
   "source": [
    "ratings.head()"
   ]
  },
  {
   "cell_type": "code",
   "execution_count": 9,
   "id": "716d0cfb",
   "metadata": {},
   "outputs": [
    {
     "data": {
      "text/html": [
       "<div>\n",
       "<style scoped>\n",
       "    .dataframe tbody tr th:only-of-type {\n",
       "        vertical-align: middle;\n",
       "    }\n",
       "\n",
       "    .dataframe tbody tr th {\n",
       "        vertical-align: top;\n",
       "    }\n",
       "\n",
       "    .dataframe thead th {\n",
       "        text-align: right;\n",
       "    }\n",
       "</style>\n",
       "<table border=\"1\" class=\"dataframe\">\n",
       "  <thead>\n",
       "    <tr style=\"text-align: right;\">\n",
       "      <th></th>\n",
       "      <th>review_id</th>\n",
       "      <th>book_id</th>\n",
       "      <th>username</th>\n",
       "      <th>text</th>\n",
       "    </tr>\n",
       "  </thead>\n",
       "  <tbody>\n",
       "    <tr>\n",
       "      <td>0</td>\n",
       "      <td>1</td>\n",
       "      <td>1</td>\n",
       "      <td>brandtandrea</td>\n",
       "      <td>Mention society tell send professor analysis. ...</td>\n",
       "    </tr>\n",
       "    <tr>\n",
       "      <td>1</td>\n",
       "      <td>2</td>\n",
       "      <td>1</td>\n",
       "      <td>ryanfranco</td>\n",
       "      <td>Foot glass pretty audience hit themselves. Amo...</td>\n",
       "    </tr>\n",
       "    <tr>\n",
       "      <td>2</td>\n",
       "      <td>3</td>\n",
       "      <td>2</td>\n",
       "      <td>lorichen</td>\n",
       "      <td>Listen treat keep worry. Miss husband tax but ...</td>\n",
       "    </tr>\n",
       "    <tr>\n",
       "      <td>3</td>\n",
       "      <td>4</td>\n",
       "      <td>3</td>\n",
       "      <td>johnsonamanda</td>\n",
       "      <td>Finally month interesting blue could nature cu...</td>\n",
       "    </tr>\n",
       "    <tr>\n",
       "      <td>4</td>\n",
       "      <td>5</td>\n",
       "      <td>3</td>\n",
       "      <td>scotttamara</td>\n",
       "      <td>Nation purpose heavy give wait song will. List...</td>\n",
       "    </tr>\n",
       "  </tbody>\n",
       "</table>\n",
       "</div>"
      ],
      "text/plain": [
       "   review_id  book_id       username  \\\n",
       "0          1        1   brandtandrea   \n",
       "1          2        1     ryanfranco   \n",
       "2          3        2       lorichen   \n",
       "3          4        3  johnsonamanda   \n",
       "4          5        3    scotttamara   \n",
       "\n",
       "                                                text  \n",
       "0  Mention society tell send professor analysis. ...  \n",
       "1  Foot glass pretty audience hit themselves. Amo...  \n",
       "2  Listen treat keep worry. Miss husband tax but ...  \n",
       "3  Finally month interesting blue could nature cu...  \n",
       "4  Nation purpose heavy give wait song will. List...  "
      ]
     },
     "execution_count": 9,
     "metadata": {},
     "output_type": "execute_result"
    }
   ],
   "source": [
    "reviews.head()"
   ]
  },
  {
   "cell_type": "markdown",
   "id": "3e752243",
   "metadata": {},
   "source": [
    "***Вывод*** \n",
    "\n",
    "Для анализа базы у нас в наличии пять таблиц - данные о книгах, изданиях, авторах, оценках и обзорах пользователей. Взаимосвязи между таблицами наглядно показаны в схеме ниже."
   ]
  },
  {
   "attachments": {
    "Untitled_%2833%29.png": {
     "image/png": "[encoded data removed]"
    }
   },
   "cell_type": "markdown",
   "id": "c389a6b8",
   "metadata": {},
   "source": [
    "![Untitled_%2833%29.png](attachment:Untitled_%2833%29.png)"
   ]
  },
  {
   "cell_type": "markdown",
   "id": "1b9894f3",
   "metadata": {},
   "source": [
    "## 1. Количество книг, выпущенных после 1 января 2000 года"
   ]
  },
  {
   "cell_type": "code",
   "execution_count": 10,
   "id": "63c850ee",
   "metadata": {},
   "outputs": [
    {
     "data": {
      "text/html": [
       "<div>\n",
       "<style scoped>\n",
       "    .dataframe tbody tr th:only-of-type {\n",
       "        vertical-align: middle;\n",
       "    }\n",
       "\n",
       "    .dataframe tbody tr th {\n",
       "        vertical-align: top;\n",
       "    }\n",
       "\n",
       "    .dataframe thead th {\n",
       "        text-align: right;\n",
       "    }\n",
       "</style>\n",
       "<table border=\"1\" class=\"dataframe\">\n",
       "  <thead>\n",
       "    <tr style=\"text-align: right;\">\n",
       "      <th></th>\n",
       "      <th>books_cnt</th>\n",
       "    </tr>\n",
       "  </thead>\n",
       "  <tbody>\n",
       "    <tr>\n",
       "      <td>0</td>\n",
       "      <td>819</td>\n",
       "    </tr>\n",
       "  </tbody>\n",
       "</table>\n",
       "</div>"
      ],
      "text/plain": [
       "   books_cnt\n",
       "0        819"
      ]
     },
     "execution_count": 10,
     "metadata": {},
     "output_type": "execute_result"
    }
   ],
   "source": [
    "books_cnt = '''\n",
    "            SELECT \n",
    "                COUNT(book_id) AS books_cnt \n",
    "            FROM \n",
    "                books\n",
    "            WHERE \n",
    "                publication_date > '2000-01-01'\n",
    "            '''\n",
    "show(books_cnt)"
   ]
  },
  {
   "cell_type": "markdown",
   "id": "ff32cddc",
   "metadata": {},
   "source": [
    "**819** книг было выпущено после 1 января 2000 года. "
   ]
  },
  {
   "cell_type": "markdown",
   "id": "5e949e4b",
   "metadata": {},
   "source": [
    "## 2. Количество обзоров и средняя оценка для каждой книги"
   ]
  },
  {
   "cell_type": "code",
   "execution_count": 17,
   "id": "57a5d135",
   "metadata": {},
   "outputs": [
    {
     "data": {
      "text/html": [
       "<div>\n",
       "<style scoped>\n",
       "    .dataframe tbody tr th:only-of-type {\n",
       "        vertical-align: middle;\n",
       "    }\n",
       "\n",
       "    .dataframe tbody tr th {\n",
       "        vertical-align: top;\n",
       "    }\n",
       "\n",
       "    .dataframe thead th {\n",
       "        text-align: right;\n",
       "    }\n",
       "</style>\n",
       "<table border=\"1\" class=\"dataframe\">\n",
       "  <thead>\n",
       "    <tr style=\"text-align: right;\">\n",
       "      <th></th>\n",
       "      <th>title</th>\n",
       "      <th>book_id</th>\n",
       "      <th>pub_date</th>\n",
       "      <th>reviews_cnt</th>\n",
       "      <th>rating_avg</th>\n",
       "    </tr>\n",
       "  </thead>\n",
       "  <tbody>\n",
       "    <tr>\n",
       "      <td>0</td>\n",
       "      <td>Twilight (Twilight  #1)</td>\n",
       "      <td>948</td>\n",
       "      <td>2006-09-06</td>\n",
       "      <td>7</td>\n",
       "      <td>3.662500</td>\n",
       "    </tr>\n",
       "    <tr>\n",
       "      <td>1</td>\n",
       "      <td>The Da Vinci Code (Robert Langdon  #2)</td>\n",
       "      <td>696</td>\n",
       "      <td>2006-03-28</td>\n",
       "      <td>6</td>\n",
       "      <td>3.830508</td>\n",
       "    </tr>\n",
       "    <tr>\n",
       "      <td>2</td>\n",
       "      <td>Eat  Pray  Love</td>\n",
       "      <td>207</td>\n",
       "      <td>2007-02-01</td>\n",
       "      <td>6</td>\n",
       "      <td>3.395833</td>\n",
       "    </tr>\n",
       "    <tr>\n",
       "      <td>3</td>\n",
       "      <td>The Alchemist</td>\n",
       "      <td>627</td>\n",
       "      <td>1993-05-01</td>\n",
       "      <td>6</td>\n",
       "      <td>3.789474</td>\n",
       "    </tr>\n",
       "    <tr>\n",
       "      <td>4</td>\n",
       "      <td>The Catcher in the Rye</td>\n",
       "      <td>673</td>\n",
       "      <td>2001-01-30</td>\n",
       "      <td>6</td>\n",
       "      <td>3.825581</td>\n",
       "    </tr>\n",
       "    <tr>\n",
       "      <td>5</td>\n",
       "      <td>The Curious Incident of the Dog in the Night-Time</td>\n",
       "      <td>695</td>\n",
       "      <td>2004-05-18</td>\n",
       "      <td>6</td>\n",
       "      <td>4.081081</td>\n",
       "    </tr>\n",
       "    <tr>\n",
       "      <td>6</td>\n",
       "      <td>Harry Potter and the Prisoner of Azkaban (Harr...</td>\n",
       "      <td>302</td>\n",
       "      <td>2004-05-01</td>\n",
       "      <td>6</td>\n",
       "      <td>4.414634</td>\n",
       "    </tr>\n",
       "    <tr>\n",
       "      <td>7</td>\n",
       "      <td>Harry Potter and the Chamber of Secrets (Harry...</td>\n",
       "      <td>299</td>\n",
       "      <td>1999-06-02</td>\n",
       "      <td>6</td>\n",
       "      <td>4.287500</td>\n",
       "    </tr>\n",
       "    <tr>\n",
       "      <td>8</td>\n",
       "      <td>Outlander (Outlander  #1)</td>\n",
       "      <td>497</td>\n",
       "      <td>2005-07-26</td>\n",
       "      <td>6</td>\n",
       "      <td>4.125000</td>\n",
       "    </tr>\n",
       "    <tr>\n",
       "      <td>9</td>\n",
       "      <td>The Book Thief</td>\n",
       "      <td>656</td>\n",
       "      <td>2006-03-14</td>\n",
       "      <td>6</td>\n",
       "      <td>4.264151</td>\n",
       "    </tr>\n",
       "  </tbody>\n",
       "</table>\n",
       "</div>"
      ],
      "text/plain": [
       "                                               title  book_id    pub_date  \\\n",
       "0                            Twilight (Twilight  #1)      948  2006-09-06   \n",
       "1             The Da Vinci Code (Robert Langdon  #2)      696  2006-03-28   \n",
       "2                                    Eat  Pray  Love      207  2007-02-01   \n",
       "3                                      The Alchemist      627  1993-05-01   \n",
       "4                             The Catcher in the Rye      673  2001-01-30   \n",
       "5  The Curious Incident of the Dog in the Night-Time      695  2004-05-18   \n",
       "6  Harry Potter and the Prisoner of Azkaban (Harr...      302  2004-05-01   \n",
       "7  Harry Potter and the Chamber of Secrets (Harry...      299  1999-06-02   \n",
       "8                          Outlander (Outlander  #1)      497  2005-07-26   \n",
       "9                                     The Book Thief      656  2006-03-14   \n",
       "\n",
       "   reviews_cnt  rating_avg  \n",
       "0            7    3.662500  \n",
       "1            6    3.830508  \n",
       "2            6    3.395833  \n",
       "3            6    3.789474  \n",
       "4            6    3.825581  \n",
       "5            6    4.081081  \n",
       "6            6    4.414634  \n",
       "7            6    4.287500  \n",
       "8            6    4.125000  \n",
       "9            6    4.264151  "
      ]
     },
     "execution_count": 17,
     "metadata": {},
     "output_type": "execute_result"
    }
   ],
   "source": [
    "reviews_cnt = '''\n",
    "              SELECT \n",
    "                  books.title AS title,\n",
    "                  books.book_id AS book_id,\n",
    "                  books.publication_date AS pub_date, \n",
    "                  COUNT(DISTINCT reviews.review_id) AS reviews_cnt, \n",
    "                  AVG(ratings.rating) AS rating_avg\n",
    "              FROM \n",
    "                  books\n",
    "              LEFT JOIN ratings ON ratings.book_id = books.book_id\n",
    "              LEFT JOIN reviews ON reviews.book_id = books.book_id\n",
    "              GROUP BY\n",
    "                  books.title, \n",
    "                  books.book_id\n",
    "              ORDER BY\n",
    "                  reviews_cnt DESC\n",
    "              LIMIT 10\n",
    "              '''\n",
    "show(reviews_cnt)"
   ]
  },
  {
   "cell_type": "code",
   "execution_count": 12,
   "id": "a4485799",
   "metadata": {},
   "outputs": [
    {
     "data": {
      "text/html": [
       "<div>\n",
       "<style scoped>\n",
       "    .dataframe tbody tr th:only-of-type {\n",
       "        vertical-align: middle;\n",
       "    }\n",
       "\n",
       "    .dataframe tbody tr th {\n",
       "        vertical-align: top;\n",
       "    }\n",
       "\n",
       "    .dataframe thead th {\n",
       "        text-align: right;\n",
       "    }\n",
       "</style>\n",
       "<table border=\"1\" class=\"dataframe\">\n",
       "  <thead>\n",
       "    <tr style=\"text-align: right;\">\n",
       "      <th></th>\n",
       "      <th>title</th>\n",
       "      <th>book_id</th>\n",
       "      <th>pub_date</th>\n",
       "      <th>reviews_cnt</th>\n",
       "      <th>rating_avg</th>\n",
       "    </tr>\n",
       "  </thead>\n",
       "  <tbody>\n",
       "    <tr>\n",
       "      <td>0</td>\n",
       "      <td>A Woman of Substance (Emma Harte Saga #1)</td>\n",
       "      <td>55</td>\n",
       "      <td>2005-12-01</td>\n",
       "      <td>2</td>\n",
       "      <td>5.000000</td>\n",
       "    </tr>\n",
       "    <tr>\n",
       "      <td>1</td>\n",
       "      <td>Dead Souls</td>\n",
       "      <td>182</td>\n",
       "      <td>2004-07-29</td>\n",
       "      <td>2</td>\n",
       "      <td>5.000000</td>\n",
       "    </tr>\n",
       "    <tr>\n",
       "      <td>2</td>\n",
       "      <td>The Walking Dead  Book One (The Walking Dead #...</td>\n",
       "      <td>901</td>\n",
       "      <td>2010-10-05</td>\n",
       "      <td>2</td>\n",
       "      <td>5.000000</td>\n",
       "    </tr>\n",
       "    <tr>\n",
       "      <td>3</td>\n",
       "      <td>Alas  Babylon</td>\n",
       "      <td>62</td>\n",
       "      <td>2005-07-05</td>\n",
       "      <td>2</td>\n",
       "      <td>5.000000</td>\n",
       "    </tr>\n",
       "    <tr>\n",
       "      <td>4</td>\n",
       "      <td>Welcome to Temptation (Dempseys  #1)</td>\n",
       "      <td>967</td>\n",
       "      <td>2004-07-11</td>\n",
       "      <td>2</td>\n",
       "      <td>5.000000</td>\n",
       "    </tr>\n",
       "    <tr>\n",
       "      <td>5</td>\n",
       "      <td>Evening Class</td>\n",
       "      <td>224</td>\n",
       "      <td>2005-06-30</td>\n",
       "      <td>2</td>\n",
       "      <td>5.000000</td>\n",
       "    </tr>\n",
       "    <tr>\n",
       "      <td>6</td>\n",
       "      <td>Tai-Pan (Asian Saga  #2)</td>\n",
       "      <td>610</td>\n",
       "      <td>2009-09-01</td>\n",
       "      <td>2</td>\n",
       "      <td>5.000000</td>\n",
       "    </tr>\n",
       "    <tr>\n",
       "      <td>7</td>\n",
       "      <td>The Demon-Haunted World: Science as a Candle i...</td>\n",
       "      <td>699</td>\n",
       "      <td>1997-02-25</td>\n",
       "      <td>2</td>\n",
       "      <td>5.000000</td>\n",
       "    </tr>\n",
       "    <tr>\n",
       "      <td>8</td>\n",
       "      <td>Women</td>\n",
       "      <td>993</td>\n",
       "      <td>2014-07-29</td>\n",
       "      <td>2</td>\n",
       "      <td>5.000000</td>\n",
       "    </tr>\n",
       "    <tr>\n",
       "      <td>9</td>\n",
       "      <td>Angels Fall</td>\n",
       "      <td>76</td>\n",
       "      <td>2006-07-11</td>\n",
       "      <td>2</td>\n",
       "      <td>5.000000</td>\n",
       "    </tr>\n",
       "    <tr>\n",
       "      <td>10</td>\n",
       "      <td>The War of Art: Break Through the Blocks &amp; Win...</td>\n",
       "      <td>902</td>\n",
       "      <td>2003-04-01</td>\n",
       "      <td>2</td>\n",
       "      <td>5.000000</td>\n",
       "    </tr>\n",
       "    <tr>\n",
       "      <td>11</td>\n",
       "      <td>The Woman in Black</td>\n",
       "      <td>913</td>\n",
       "      <td>2001-12-01</td>\n",
       "      <td>2</td>\n",
       "      <td>5.000000</td>\n",
       "    </tr>\n",
       "    <tr>\n",
       "      <td>12</td>\n",
       "      <td>Triptych (Will Trent  #1)</td>\n",
       "      <td>938</td>\n",
       "      <td>2006-08-15</td>\n",
       "      <td>2</td>\n",
       "      <td>5.000000</td>\n",
       "    </tr>\n",
       "    <tr>\n",
       "      <td>13</td>\n",
       "      <td>Stone of Farewell (Memory  Sorrow  and Thorn  #2)</td>\n",
       "      <td>599</td>\n",
       "      <td>2005-04-01</td>\n",
       "      <td>1</td>\n",
       "      <td>5.000000</td>\n",
       "    </tr>\n",
       "    <tr>\n",
       "      <td>14</td>\n",
       "      <td>Light in August</td>\n",
       "      <td>390</td>\n",
       "      <td>1991-01-30</td>\n",
       "      <td>2</td>\n",
       "      <td>5.000000</td>\n",
       "    </tr>\n",
       "    <tr>\n",
       "      <td>15</td>\n",
       "      <td>Neil Gaiman's Neverwhere</td>\n",
       "      <td>469</td>\n",
       "      <td>2007-02-14</td>\n",
       "      <td>2</td>\n",
       "      <td>5.000000</td>\n",
       "    </tr>\n",
       "    <tr>\n",
       "      <td>16</td>\n",
       "      <td>The Cat in the Hat and Other Dr. Seuss Favorites</td>\n",
       "      <td>672</td>\n",
       "      <td>2003-10-14</td>\n",
       "      <td>0</td>\n",
       "      <td>5.000000</td>\n",
       "    </tr>\n",
       "    <tr>\n",
       "      <td>17</td>\n",
       "      <td>The Big Bad Wolf  (Alex Cross  #9)</td>\n",
       "      <td>642</td>\n",
       "      <td>2004-10-01</td>\n",
       "      <td>2</td>\n",
       "      <td>5.000000</td>\n",
       "    </tr>\n",
       "    <tr>\n",
       "      <td>18</td>\n",
       "      <td>Marvel 1602</td>\n",
       "      <td>421</td>\n",
       "      <td>2006-08-02</td>\n",
       "      <td>2</td>\n",
       "      <td>5.000000</td>\n",
       "    </tr>\n",
       "    <tr>\n",
       "      <td>19</td>\n",
       "      <td>Wherever You Go  There You Are: Mindfulness Me...</td>\n",
       "      <td>972</td>\n",
       "      <td>2005-01-05</td>\n",
       "      <td>2</td>\n",
       "      <td>5.000000</td>\n",
       "    </tr>\n",
       "    <tr>\n",
       "      <td>20</td>\n",
       "      <td>My Name Is Asher Lev</td>\n",
       "      <td>459</td>\n",
       "      <td>2003-03-11</td>\n",
       "      <td>2</td>\n",
       "      <td>5.000000</td>\n",
       "    </tr>\n",
       "    <tr>\n",
       "      <td>21</td>\n",
       "      <td>Moneyball: The Art of Winning an Unfair Game</td>\n",
       "      <td>444</td>\n",
       "      <td>2004-03-17</td>\n",
       "      <td>3</td>\n",
       "      <td>5.000000</td>\n",
       "    </tr>\n",
       "    <tr>\n",
       "      <td>22</td>\n",
       "      <td>Piercing the Darkness (Darkness  #2)</td>\n",
       "      <td>513</td>\n",
       "      <td>2003-06-26</td>\n",
       "      <td>2</td>\n",
       "      <td>5.000000</td>\n",
       "    </tr>\n",
       "    <tr>\n",
       "      <td>23</td>\n",
       "      <td>Pop Goes the Weasel (Alex Cross  #5)</td>\n",
       "      <td>518</td>\n",
       "      <td>2000-10-01</td>\n",
       "      <td>2</td>\n",
       "      <td>5.000000</td>\n",
       "    </tr>\n",
       "    <tr>\n",
       "      <td>24</td>\n",
       "      <td>Plum Island (John Corey  #1)</td>\n",
       "      <td>516</td>\n",
       "      <td>2002-01-01</td>\n",
       "      <td>2</td>\n",
       "      <td>5.000000</td>\n",
       "    </tr>\n",
       "    <tr>\n",
       "      <td>25</td>\n",
       "      <td>Emily of New Moon (Emily  #1)</td>\n",
       "      <td>213</td>\n",
       "      <td>1983-04-01</td>\n",
       "      <td>2</td>\n",
       "      <td>5.000000</td>\n",
       "    </tr>\n",
       "    <tr>\n",
       "      <td>26</td>\n",
       "      <td>The Adventures of Tom Sawyer and Adventures of...</td>\n",
       "      <td>625</td>\n",
       "      <td>2002-12-03</td>\n",
       "      <td>1</td>\n",
       "      <td>5.000000</td>\n",
       "    </tr>\n",
       "    <tr>\n",
       "      <td>27</td>\n",
       "      <td>School's Out—Forever (Maximum Ride  #2)</td>\n",
       "      <td>553</td>\n",
       "      <td>2006-05-23</td>\n",
       "      <td>3</td>\n",
       "      <td>5.000000</td>\n",
       "    </tr>\n",
       "    <tr>\n",
       "      <td>28</td>\n",
       "      <td>Evil Under the Sun (Hercule Poirot  #24)</td>\n",
       "      <td>229</td>\n",
       "      <td>2006-09-01</td>\n",
       "      <td>2</td>\n",
       "      <td>5.000000</td>\n",
       "    </tr>\n",
       "    <tr>\n",
       "      <td>29</td>\n",
       "      <td>Stolen (Women of the Otherworld  #2)</td>\n",
       "      <td>598</td>\n",
       "      <td>2004-09-28</td>\n",
       "      <td>2</td>\n",
       "      <td>5.000000</td>\n",
       "    </tr>\n",
       "    <tr>\n",
       "      <td>30</td>\n",
       "      <td>Homage to Catalonia</td>\n",
       "      <td>321</td>\n",
       "      <td>1980-10-22</td>\n",
       "      <td>2</td>\n",
       "      <td>5.000000</td>\n",
       "    </tr>\n",
       "    <tr>\n",
       "      <td>31</td>\n",
       "      <td>Geek Love</td>\n",
       "      <td>275</td>\n",
       "      <td>2002-06-11</td>\n",
       "      <td>2</td>\n",
       "      <td>5.000000</td>\n",
       "    </tr>\n",
       "    <tr>\n",
       "      <td>32</td>\n",
       "      <td>A Dirty Job (Grim Reaper  #1)</td>\n",
       "      <td>17</td>\n",
       "      <td>2006-03-21</td>\n",
       "      <td>4</td>\n",
       "      <td>5.000000</td>\n",
       "    </tr>\n",
       "    <tr>\n",
       "      <td>33</td>\n",
       "      <td>Hard Times</td>\n",
       "      <td>297</td>\n",
       "      <td>2003-10-19</td>\n",
       "      <td>2</td>\n",
       "      <td>5.000000</td>\n",
       "    </tr>\n",
       "    <tr>\n",
       "      <td>34</td>\n",
       "      <td>In the Hand of the Goddess (Song of the Liones...</td>\n",
       "      <td>347</td>\n",
       "      <td>2005-01-01</td>\n",
       "      <td>2</td>\n",
       "      <td>5.000000</td>\n",
       "    </tr>\n",
       "    <tr>\n",
       "      <td>35</td>\n",
       "      <td>Act of Treason (Mitch Rapp  #9)</td>\n",
       "      <td>57</td>\n",
       "      <td>2006-10-10</td>\n",
       "      <td>2</td>\n",
       "      <td>5.000000</td>\n",
       "    </tr>\n",
       "    <tr>\n",
       "      <td>36</td>\n",
       "      <td>Arrows of the Queen (Heralds of Valdemar  #1)</td>\n",
       "      <td>86</td>\n",
       "      <td>1987-03-03</td>\n",
       "      <td>2</td>\n",
       "      <td>5.000000</td>\n",
       "    </tr>\n",
       "    <tr>\n",
       "      <td>37</td>\n",
       "      <td>How to Be a Domestic Goddess: Baking and the A...</td>\n",
       "      <td>330</td>\n",
       "      <td>2005-09-01</td>\n",
       "      <td>1</td>\n",
       "      <td>5.000000</td>\n",
       "    </tr>\n",
       "    <tr>\n",
       "      <td>38</td>\n",
       "      <td>A Fistful of Charms (The Hollows  #4)</td>\n",
       "      <td>20</td>\n",
       "      <td>2006-06-27</td>\n",
       "      <td>2</td>\n",
       "      <td>5.000000</td>\n",
       "    </tr>\n",
       "    <tr>\n",
       "      <td>39</td>\n",
       "      <td>Crucial Conversations: Tools for Talking When ...</td>\n",
       "      <td>169</td>\n",
       "      <td>2002-07-09</td>\n",
       "      <td>2</td>\n",
       "      <td>5.000000</td>\n",
       "    </tr>\n",
       "    <tr>\n",
       "      <td>40</td>\n",
       "      <td>March</td>\n",
       "      <td>418</td>\n",
       "      <td>2006-01-31</td>\n",
       "      <td>2</td>\n",
       "      <td>5.000000</td>\n",
       "    </tr>\n",
       "    <tr>\n",
       "      <td>41</td>\n",
       "      <td>The Ghost Map: The Story of London's Most Terr...</td>\n",
       "      <td>732</td>\n",
       "      <td>2006-11-01</td>\n",
       "      <td>2</td>\n",
       "      <td>5.000000</td>\n",
       "    </tr>\n",
       "    <tr>\n",
       "      <td>42</td>\n",
       "      <td>Captivating: Unveiling the Mystery of a Woman'...</td>\n",
       "      <td>136</td>\n",
       "      <td>2005-04-05</td>\n",
       "      <td>2</td>\n",
       "      <td>5.000000</td>\n",
       "    </tr>\n",
       "    <tr>\n",
       "      <td>43</td>\n",
       "      <td>Misty of Chincoteague (Misty  #1)</td>\n",
       "      <td>441</td>\n",
       "      <td>2006-12-26</td>\n",
       "      <td>2</td>\n",
       "      <td>5.000000</td>\n",
       "    </tr>\n",
       "    <tr>\n",
       "      <td>44</td>\n",
       "      <td>Dragonfly in Amber (Outlander  #2)</td>\n",
       "      <td>195</td>\n",
       "      <td>2001-08-07</td>\n",
       "      <td>4</td>\n",
       "      <td>4.875000</td>\n",
       "    </tr>\n",
       "    <tr>\n",
       "      <td>45</td>\n",
       "      <td>Preludes &amp; Nocturnes (The Sandman  #1)</td>\n",
       "      <td>524</td>\n",
       "      <td>1998-12-01</td>\n",
       "      <td>3</td>\n",
       "      <td>4.833333</td>\n",
       "    </tr>\n",
       "    <tr>\n",
       "      <td>46</td>\n",
       "      <td>The Witching Hour (Lives of the Mayfair Witche...</td>\n",
       "      <td>912</td>\n",
       "      <td>2004-11-04</td>\n",
       "      <td>3</td>\n",
       "      <td>4.750000</td>\n",
       "    </tr>\n",
       "    <tr>\n",
       "      <td>47</td>\n",
       "      <td>Lover Revealed (Black Dagger Brotherhood  #4)</td>\n",
       "      <td>411</td>\n",
       "      <td>2007-03-06</td>\n",
       "      <td>3</td>\n",
       "      <td>4.750000</td>\n",
       "    </tr>\n",
       "    <tr>\n",
       "      <td>48</td>\n",
       "      <td>The Monster at the End of this Book</td>\n",
       "      <td>801</td>\n",
       "      <td>2004-05-11</td>\n",
       "      <td>3</td>\n",
       "      <td>4.750000</td>\n",
       "    </tr>\n",
       "    <tr>\n",
       "      <td>49</td>\n",
       "      <td>The Twits</td>\n",
       "      <td>890</td>\n",
       "      <td>2004-06-24</td>\n",
       "      <td>3</td>\n",
       "      <td>4.750000</td>\n",
       "    </tr>\n",
       "  </tbody>\n",
       "</table>\n",
       "</div>"
      ],
      "text/plain": [
       "                                                title  book_id    pub_date  \\\n",
       "0           A Woman of Substance (Emma Harte Saga #1)       55  2005-12-01   \n",
       "1                                          Dead Souls      182  2004-07-29   \n",
       "2   The Walking Dead  Book One (The Walking Dead #...      901  2010-10-05   \n",
       "3                                       Alas  Babylon       62  2005-07-05   \n",
       "4                Welcome to Temptation (Dempseys  #1)      967  2004-07-11   \n",
       "5                                       Evening Class      224  2005-06-30   \n",
       "6                            Tai-Pan (Asian Saga  #2)      610  2009-09-01   \n",
       "7   The Demon-Haunted World: Science as a Candle i...      699  1997-02-25   \n",
       "8                                               Women      993  2014-07-29   \n",
       "9                                         Angels Fall       76  2006-07-11   \n",
       "10  The War of Art: Break Through the Blocks & Win...      902  2003-04-01   \n",
       "11                                 The Woman in Black      913  2001-12-01   \n",
       "12                          Triptych (Will Trent  #1)      938  2006-08-15   \n",
       "13  Stone of Farewell (Memory  Sorrow  and Thorn  #2)      599  2005-04-01   \n",
       "14                                    Light in August      390  1991-01-30   \n",
       "15                           Neil Gaiman's Neverwhere      469  2007-02-14   \n",
       "16   The Cat in the Hat and Other Dr. Seuss Favorites      672  2003-10-14   \n",
       "17                 The Big Bad Wolf  (Alex Cross  #9)      642  2004-10-01   \n",
       "18                                        Marvel 1602      421  2006-08-02   \n",
       "19  Wherever You Go  There You Are: Mindfulness Me...      972  2005-01-05   \n",
       "20                               My Name Is Asher Lev      459  2003-03-11   \n",
       "21       Moneyball: The Art of Winning an Unfair Game      444  2004-03-17   \n",
       "22               Piercing the Darkness (Darkness  #2)      513  2003-06-26   \n",
       "23               Pop Goes the Weasel (Alex Cross  #5)      518  2000-10-01   \n",
       "24                       Plum Island (John Corey  #1)      516  2002-01-01   \n",
       "25                      Emily of New Moon (Emily  #1)      213  1983-04-01   \n",
       "26  The Adventures of Tom Sawyer and Adventures of...      625  2002-12-03   \n",
       "27            School's Out—Forever (Maximum Ride  #2)      553  2006-05-23   \n",
       "28           Evil Under the Sun (Hercule Poirot  #24)      229  2006-09-01   \n",
       "29               Stolen (Women of the Otherworld  #2)      598  2004-09-28   \n",
       "30                                Homage to Catalonia      321  1980-10-22   \n",
       "31                                          Geek Love      275  2002-06-11   \n",
       "32                      A Dirty Job (Grim Reaper  #1)       17  2006-03-21   \n",
       "33                                         Hard Times      297  2003-10-19   \n",
       "34  In the Hand of the Goddess (Song of the Liones...      347  2005-01-01   \n",
       "35                    Act of Treason (Mitch Rapp  #9)       57  2006-10-10   \n",
       "36      Arrows of the Queen (Heralds of Valdemar  #1)       86  1987-03-03   \n",
       "37  How to Be a Domestic Goddess: Baking and the A...      330  2005-09-01   \n",
       "38              A Fistful of Charms (The Hollows  #4)       20  2006-06-27   \n",
       "39  Crucial Conversations: Tools for Talking When ...      169  2002-07-09   \n",
       "40                                              March      418  2006-01-31   \n",
       "41  The Ghost Map: The Story of London's Most Terr...      732  2006-11-01   \n",
       "42  Captivating: Unveiling the Mystery of a Woman'...      136  2005-04-05   \n",
       "43                  Misty of Chincoteague (Misty  #1)      441  2006-12-26   \n",
       "44                 Dragonfly in Amber (Outlander  #2)      195  2001-08-07   \n",
       "45             Preludes & Nocturnes (The Sandman  #1)      524  1998-12-01   \n",
       "46  The Witching Hour (Lives of the Mayfair Witche...      912  2004-11-04   \n",
       "47      Lover Revealed (Black Dagger Brotherhood  #4)      411  2007-03-06   \n",
       "48                The Monster at the End of this Book      801  2004-05-11   \n",
       "49                                          The Twits      890  2004-06-24   \n",
       "\n",
       "    reviews_cnt  rating_avg  \n",
       "0             2    5.000000  \n",
       "1             2    5.000000  \n",
       "2             2    5.000000  \n",
       "3             2    5.000000  \n",
       "4             2    5.000000  \n",
       "5             2    5.000000  \n",
       "6             2    5.000000  \n",
       "7             2    5.000000  \n",
       "8             2    5.000000  \n",
       "9             2    5.000000  \n",
       "10            2    5.000000  \n",
       "11            2    5.000000  \n",
       "12            2    5.000000  \n",
       "13            1    5.000000  \n",
       "14            2    5.000000  \n",
       "15            2    5.000000  \n",
       "16            0    5.000000  \n",
       "17            2    5.000000  \n",
       "18            2    5.000000  \n",
       "19            2    5.000000  \n",
       "20            2    5.000000  \n",
       "21            3    5.000000  \n",
       "22            2    5.000000  \n",
       "23            2    5.000000  \n",
       "24            2    5.000000  \n",
       "25            2    5.000000  \n",
       "26            1    5.000000  \n",
       "27            3    5.000000  \n",
       "28            2    5.000000  \n",
       "29            2    5.000000  \n",
       "30            2    5.000000  \n",
       "31            2    5.000000  \n",
       "32            4    5.000000  \n",
       "33            2    5.000000  \n",
       "34            2    5.000000  \n",
       "35            2    5.000000  \n",
       "36            2    5.000000  \n",
       "37            1    5.000000  \n",
       "38            2    5.000000  \n",
       "39            2    5.000000  \n",
       "40            2    5.000000  \n",
       "41            2    5.000000  \n",
       "42            2    5.000000  \n",
       "43            2    5.000000  \n",
       "44            4    4.875000  \n",
       "45            3    4.833333  \n",
       "46            3    4.750000  \n",
       "47            3    4.750000  \n",
       "48            3    4.750000  \n",
       "49            3    4.750000  "
      ]
     },
     "execution_count": 12,
     "metadata": {},
     "output_type": "execute_result"
    }
   ],
   "source": [
    "rating_avg = '''\n",
    "              SELECT  \n",
    "                  books.title AS title,\n",
    "                  books.book_id AS book_id,\n",
    "                  books.publication_date AS pub_date, \n",
    "                  COUNT(DISTINCT reviews.review_id) AS reviews_cnt, \n",
    "                  AVG(ratings.rating) AS rating_avg\n",
    "              FROM \n",
    "                  books\n",
    "              LEFT JOIN ratings ON ratings.book_id = books.book_id\n",
    "              LEFT JOIN reviews ON reviews.book_id = books.book_id\n",
    "              GROUP BY \n",
    "                  books.title, \n",
    "                  books.book_id\n",
    "              ORDER BY\n",
    "                  rating_avg DESC\n",
    "              LIMIT 50\n",
    "              '''\n",
    "show(rating_avg)"
   ]
  },
  {
   "cell_type": "markdown",
   "id": "4ce876ac",
   "metadata": {},
   "source": [
    "*По количеству обзоров* лидирует первая часть саги **\"Сумерки\"** с общим числом отзывов 7. Однако средний рейтинг в районе 3,6 пунктов.\n",
    "\n",
    "44 книги имеют рейтинг - 5.0, но количество отзывов варьируется от 0 до 4. *Больше всего отзывов с рейтингом 5.0* получил роман **\"Грязная работа\"**. Также, например, сборник произведений Доктора Сьюза \"Кот в шляпе и другие\" не получил обзоров, но его рейтинг составляет 5.0. "
   ]
  },
  {
   "cell_type": "markdown",
   "id": "3506b08e",
   "metadata": {},
   "source": [
    "## 3. Издательство, которое выпустило наибольшее число книг толще 50 страниц"
   ]
  },
  {
   "cell_type": "code",
   "execution_count": 13,
   "id": "81619d64",
   "metadata": {},
   "outputs": [
    {
     "data": {
      "text/html": [
       "<div>\n",
       "<style scoped>\n",
       "    .dataframe tbody tr th:only-of-type {\n",
       "        vertical-align: middle;\n",
       "    }\n",
       "\n",
       "    .dataframe tbody tr th {\n",
       "        vertical-align: top;\n",
       "    }\n",
       "\n",
       "    .dataframe thead th {\n",
       "        text-align: right;\n",
       "    }\n",
       "</style>\n",
       "<table border=\"1\" class=\"dataframe\">\n",
       "  <thead>\n",
       "    <tr style=\"text-align: right;\">\n",
       "      <th></th>\n",
       "      <th>pub</th>\n",
       "      <th>books_cnt</th>\n",
       "    </tr>\n",
       "  </thead>\n",
       "  <tbody>\n",
       "    <tr>\n",
       "      <td>0</td>\n",
       "      <td>Penguin Books</td>\n",
       "      <td>42</td>\n",
       "    </tr>\n",
       "  </tbody>\n",
       "</table>\n",
       "</div>"
      ],
      "text/plain": [
       "             pub  books_cnt\n",
       "0  Penguin Books         42"
      ]
     },
     "execution_count": 13,
     "metadata": {},
     "output_type": "execute_result"
    }
   ],
   "source": [
    "publisher_popular = '''\n",
    "                    SELECT  \n",
    "                        publishers.publisher AS pub, \n",
    "                        COUNT(books.book_id) AS books_cnt\n",
    "                    FROM\n",
    "                        publishers\n",
    "                        LEFT JOIN books ON books.publisher_id = publishers.publisher_id\n",
    "                    WHERE\n",
    "                        books.num_pages > 50  \n",
    "                    GROUP BY\n",
    "                        pub\n",
    "                    ORDER BY\n",
    "                        books_cnt DESC\n",
    "                    LIMIT 1\n",
    "                    '''\n",
    "show(publisher_popular)                   "
   ]
  },
  {
   "cell_type": "markdown",
   "id": "1799d590",
   "metadata": {},
   "source": [
    "Самое плодотворное издательство - **Penguin Books**, оно выпустило 42 книги в базе. "
   ]
  },
  {
   "cell_type": "markdown",
   "id": "8dbf4ae2",
   "metadata": {},
   "source": [
    "## 4. Автор с самой высокой средней оценкой книг"
   ]
  },
  {
   "cell_type": "code",
   "execution_count": 14,
   "id": "4ebf3229",
   "metadata": {},
   "outputs": [
    {
     "data": {
      "text/html": [
       "<div>\n",
       "<style scoped>\n",
       "    .dataframe tbody tr th:only-of-type {\n",
       "        vertical-align: middle;\n",
       "    }\n",
       "\n",
       "    .dataframe tbody tr th {\n",
       "        vertical-align: top;\n",
       "    }\n",
       "\n",
       "    .dataframe thead th {\n",
       "        text-align: right;\n",
       "    }\n",
       "</style>\n",
       "<table border=\"1\" class=\"dataframe\">\n",
       "  <thead>\n",
       "    <tr style=\"text-align: right;\">\n",
       "      <th></th>\n",
       "      <th>author</th>\n",
       "      <th>rating</th>\n",
       "    </tr>\n",
       "  </thead>\n",
       "  <tbody>\n",
       "    <tr>\n",
       "      <td>0</td>\n",
       "      <td>J.K. Rowling/Mary GrandPré</td>\n",
       "      <td>4.283844</td>\n",
       "    </tr>\n",
       "    <tr>\n",
       "      <td>1</td>\n",
       "      <td>Markus Zusak/Cao Xuân Việt Khương</td>\n",
       "      <td>4.264151</td>\n",
       "    </tr>\n",
       "    <tr>\n",
       "      <td>2</td>\n",
       "      <td>J.R.R. Tolkien</td>\n",
       "      <td>4.258446</td>\n",
       "    </tr>\n",
       "    <tr>\n",
       "      <td>3</td>\n",
       "      <td>Louisa May Alcott</td>\n",
       "      <td>4.192308</td>\n",
       "    </tr>\n",
       "    <tr>\n",
       "      <td>4</td>\n",
       "      <td>Rick Riordan</td>\n",
       "      <td>4.080645</td>\n",
       "    </tr>\n",
       "    <tr>\n",
       "      <td>5</td>\n",
       "      <td>William Golding</td>\n",
       "      <td>3.901408</td>\n",
       "    </tr>\n",
       "    <tr>\n",
       "      <td>6</td>\n",
       "      <td>J.D. Salinger</td>\n",
       "      <td>3.825581</td>\n",
       "    </tr>\n",
       "    <tr>\n",
       "      <td>7</td>\n",
       "      <td>Paulo Coelho/Alan R. Clarke/Özdemir İnce</td>\n",
       "      <td>3.789474</td>\n",
       "    </tr>\n",
       "    <tr>\n",
       "      <td>8</td>\n",
       "      <td>William Shakespeare/Paul Werstine/Barbara A. M...</td>\n",
       "      <td>3.787879</td>\n",
       "    </tr>\n",
       "    <tr>\n",
       "      <td>9</td>\n",
       "      <td>Dan Brown</td>\n",
       "      <td>3.754540</td>\n",
       "    </tr>\n",
       "  </tbody>\n",
       "</table>\n",
       "</div>"
      ],
      "text/plain": [
       "                                              author    rating\n",
       "0                         J.K. Rowling/Mary GrandPré  4.283844\n",
       "1                  Markus Zusak/Cao Xuân Việt Khương  4.264151\n",
       "2                                     J.R.R. Tolkien  4.258446\n",
       "3                                  Louisa May Alcott  4.192308\n",
       "4                                       Rick Riordan  4.080645\n",
       "5                                    William Golding  3.901408\n",
       "6                                      J.D. Salinger  3.825581\n",
       "7           Paulo Coelho/Alan R. Clarke/Özdemir İnce  3.789474\n",
       "8  William Shakespeare/Paul Werstine/Barbara A. M...  3.787879\n",
       "9                                          Dan Brown  3.754540"
      ]
     },
     "execution_count": 14,
     "metadata": {},
     "output_type": "execute_result"
    }
   ],
   "source": [
    "author_rating = '''\n",
    "                SELECT \n",
    "                    SUBQ.author AS author,  \n",
    "                    AVG(SUBQ.rating_avg) AS rating \n",
    "                FROM (\n",
    "                    SELECT\n",
    "                        authors.author AS author,\n",
    "                        books.book_id AS id_book, \n",
    "                        AVG(ratings.rating) AS rating_avg,\n",
    "                        COUNT(ratings.rating) AS rating_cnt\n",
    "                    FROM \n",
    "                        authors\n",
    "                        INNER JOIN books ON books.author_id = authors.author_id\n",
    "                        INNER JOIN ratings ON ratings.book_id = books.book_id\n",
    "                    GROUP BY \n",
    "                        author,\n",
    "                        id_book\n",
    "                        HAVING\n",
    "                        COUNT(ratings.rating) > 50) AS SUBQ\n",
    "                GROUP BY\n",
    "                    author\n",
    "                ORDER BY \n",
    "                    rating DESC\n",
    "                LIMIT 10\n",
    "                '''\n",
    "show(author_rating)"
   ]
  },
  {
   "cell_type": "markdown",
   "id": "1536eb88",
   "metadata": {},
   "source": [
    "Автором, книги которого получили самую высокую оценку читателей, является **Джоан Роулинг**. "
   ]
  },
  {
   "cell_type": "markdown",
   "id": "af816245",
   "metadata": {},
   "source": [
    "## 5. Среднее количество обзоров от пользователей, которые поставили больше 50 оценок"
   ]
  },
  {
   "cell_type": "code",
   "execution_count": 15,
   "id": "8c048291",
   "metadata": {},
   "outputs": [
    {
     "data": {
      "text/html": [
       "<div>\n",
       "<style scoped>\n",
       "    .dataframe tbody tr th:only-of-type {\n",
       "        vertical-align: middle;\n",
       "    }\n",
       "\n",
       "    .dataframe tbody tr th {\n",
       "        vertical-align: top;\n",
       "    }\n",
       "\n",
       "    .dataframe thead th {\n",
       "        text-align: right;\n",
       "    }\n",
       "</style>\n",
       "<table border=\"1\" class=\"dataframe\">\n",
       "  <thead>\n",
       "    <tr style=\"text-align: right;\">\n",
       "      <th></th>\n",
       "      <th>round</th>\n",
       "    </tr>\n",
       "  </thead>\n",
       "  <tbody>\n",
       "    <tr>\n",
       "      <td>0</td>\n",
       "      <td>24.22</td>\n",
       "    </tr>\n",
       "  </tbody>\n",
       "</table>\n",
       "</div>"
      ],
      "text/plain": [
       "   round\n",
       "0  24.22"
      ]
     },
     "execution_count": 15,
     "metadata": {},
     "output_type": "execute_result"
    }
   ],
   "source": [
    "user_reviews = '''\n",
    "               SELECT \n",
    "                   ROUND(AVG(SUBQ.reviews_cnt), 2)\n",
    "               FROM(\n",
    "                   SELECT\n",
    "                       username,\n",
    "                       COUNT(review_id) AS reviews_cnt\n",
    "                   FROM\n",
    "                       reviews\n",
    "                   WHERE \n",
    "                       username IN (\n",
    "                           SELECT\n",
    "                               username\n",
    "                           FROM\n",
    "                               ratings\n",
    "                           GROUP BY\n",
    "                               username \n",
    "                           HAVING \n",
    "                           COUNT(ratings.rating_id) >= 50)\n",
    "                   GROUP BY\n",
    "                       username) AS SUBQ\n",
    "                '''\n",
    "show(user_reviews)"
   ]
  },
  {
   "cell_type": "markdown",
   "id": "e2d05544",
   "metadata": {},
   "source": [
    "В среднем пользователи, поставившие более 50 оценок, написали **24 книжных обзора**."
   ]
  },
  {
   "cell_type": "markdown",
   "id": "b4c868d0",
   "metadata": {},
   "source": [
    "## Краткие выводы"
   ]
  },
  {
   "cell_type": "markdown",
   "id": "cdf3cdc3",
   "metadata": {},
   "source": [
    "- 819 книг было выпущено после с 1 января 2000 года.\n",
    "\n",
    "\n",
    "- По количеству обзоров лидирует первая часть саги \"Сумерки\" с общим числом отзывов 7. Однако средний рейтинг в районе 3,6 пунктов.\n",
    "\n",
    "\n",
    "- 44 книги имеют рейтинг - 5.0, но количество отзывов варьируется от 0 до 4. Больше всего отзывов с рейтингом 5.0 получил роман \"Грязная работа\". Также, например, сборник произведений Доктора Сьюза \"Кот в шляпе и другие\" не получил обзоров, но его рейтинг составляет 5.0.\n",
    "\n",
    "\n",
    "- Самое плодотворное издательство - Penguin Books, оно выпустило 42 книги в базе.\n",
    "\n",
    "\n",
    "- Автором, книги которого получили самую высокую оценку читателей, является Джоан Роулинг.\n",
    "\n",
    "\n",
    "- В среднем пользователи, поставившие более 50 оценок, написали 24 книжных обзора."
   ]
  }
 ],
 "metadata": {
  "ExecuteTimeLog": [
   {
    "duration": 627,
    "start_time": "2022-03-04T06:25:41.649Z"
   },
   {
    "duration": 2,
    "start_time": "2022-03-04T06:25:42.278Z"
   },
   {
    "duration": 65,
    "start_time": "2022-03-04T06:25:42.284Z"
   },
   {
    "duration": 12,
    "start_time": "2022-03-04T06:25:42.351Z"
   },
   {
    "duration": 8,
    "start_time": "2022-03-04T06:25:42.365Z"
   },
   {
    "duration": 10,
    "start_time": "2022-03-04T06:25:42.374Z"
   },
   {
    "duration": 7,
    "start_time": "2022-03-04T06:25:42.386Z"
   },
   {
    "duration": 7,
    "start_time": "2022-03-04T06:25:42.395Z"
   },
   {
    "duration": 11,
    "start_time": "2022-03-04T06:25:42.403Z"
   },
   {
    "duration": 20,
    "start_time": "2022-03-04T06:25:42.416Z"
   },
   {
    "duration": 23,
    "start_time": "2022-03-04T06:25:42.438Z"
   },
   {
    "duration": 10,
    "start_time": "2022-03-04T06:25:42.463Z"
   },
   {
    "duration": 14,
    "start_time": "2022-03-04T06:25:42.475Z"
   },
   {
    "duration": 10,
    "start_time": "2022-03-04T06:25:42.491Z"
   },
   {
    "duration": 28,
    "start_time": "2022-03-04T06:38:22.393Z"
   },
   {
    "duration": 22,
    "start_time": "2022-03-04T06:38:30.648Z"
   },
   {
    "duration": 23,
    "start_time": "2022-03-04T06:38:45.934Z"
   },
   {
    "duration": 21,
    "start_time": "2022-03-04T06:38:51.679Z"
   },
   {
    "duration": 15,
    "start_time": "2022-03-04T06:41:12.281Z"
   },
   {
    "duration": 15,
    "start_time": "2022-03-04T06:41:14.696Z"
   },
   {
    "duration": 661,
    "start_time": "2022-03-04T06:46:08.377Z"
   },
   {
    "duration": 3,
    "start_time": "2022-03-04T06:46:09.040Z"
   },
   {
    "duration": 63,
    "start_time": "2022-03-04T06:46:09.045Z"
   },
   {
    "duration": 11,
    "start_time": "2022-03-04T06:46:09.110Z"
   },
   {
    "duration": 7,
    "start_time": "2022-03-04T06:46:09.123Z"
   },
   {
    "duration": 7,
    "start_time": "2022-03-04T06:46:09.131Z"
   },
   {
    "duration": 9,
    "start_time": "2022-03-04T06:46:09.140Z"
   },
   {
    "duration": 7,
    "start_time": "2022-03-04T06:46:09.150Z"
   },
   {
    "duration": 9,
    "start_time": "2022-03-04T06:46:09.159Z"
   },
   {
    "duration": 20,
    "start_time": "2022-03-04T06:46:09.169Z"
   },
   {
    "duration": 38,
    "start_time": "2022-03-04T06:46:09.191Z"
   },
   {
    "duration": 10,
    "start_time": "2022-03-04T06:46:09.230Z"
   },
   {
    "duration": 13,
    "start_time": "2022-03-04T06:46:09.241Z"
   },
   {
    "duration": 10,
    "start_time": "2022-03-04T06:46:09.255Z"
   },
   {
    "duration": 635,
    "start_time": "2022-03-04T07:55:26.635Z"
   },
   {
    "duration": 3,
    "start_time": "2022-03-04T07:55:27.271Z"
   },
   {
    "duration": 62,
    "start_time": "2022-03-04T07:55:27.275Z"
   },
   {
    "duration": 13,
    "start_time": "2022-03-04T07:55:27.339Z"
   },
   {
    "duration": 7,
    "start_time": "2022-03-04T07:55:27.353Z"
   },
   {
    "duration": 6,
    "start_time": "2022-03-04T07:55:27.361Z"
   },
   {
    "duration": 6,
    "start_time": "2022-03-04T07:55:27.369Z"
   },
   {
    "duration": 7,
    "start_time": "2022-03-04T07:55:27.377Z"
   },
   {
    "duration": 9,
    "start_time": "2022-03-04T07:55:36.379Z"
   },
   {
    "duration": 23,
    "start_time": "2022-03-04T07:58:21.106Z"
   },
   {
    "duration": 663,
    "start_time": "2022-03-04T07:58:38.252Z"
   },
   {
    "duration": 21,
    "start_time": "2022-03-04T08:00:30.113Z"
   },
   {
    "duration": 616,
    "start_time": "2022-03-04T08:01:13.915Z"
   },
   {
    "duration": 34,
    "start_time": "2022-03-04T08:01:17.608Z"
   },
   {
    "duration": 25,
    "start_time": "2022-03-04T08:07:55.073Z"
   },
   {
    "duration": 20,
    "start_time": "2022-03-04T08:08:20.501Z"
   },
   {
    "duration": 581,
    "start_time": "2022-03-04T08:08:26.001Z"
   },
   {
    "duration": 22,
    "start_time": "2022-03-04T08:08:38.594Z"
   },
   {
    "duration": 25,
    "start_time": "2022-03-04T08:08:59.719Z"
   },
   {
    "duration": 26,
    "start_time": "2022-03-04T08:09:04.093Z"
   },
   {
    "duration": 593,
    "start_time": "2022-03-04T08:09:40.109Z"
   },
   {
    "duration": 21,
    "start_time": "2022-03-04T08:10:13.290Z"
   },
   {
    "duration": 578,
    "start_time": "2022-03-04T08:10:41.335Z"
   },
   {
    "duration": 28,
    "start_time": "2022-03-04T08:10:57.069Z"
   },
   {
    "duration": 21,
    "start_time": "2022-03-04T08:11:24.251Z"
   },
   {
    "duration": 23,
    "start_time": "2022-03-04T08:12:25.753Z"
   },
   {
    "duration": 23,
    "start_time": "2022-03-04T08:12:32.767Z"
   },
   {
    "duration": 26,
    "start_time": "2022-03-04T08:12:46.193Z"
   },
   {
    "duration": 21,
    "start_time": "2022-03-04T08:13:08.129Z"
   },
   {
    "duration": 25,
    "start_time": "2022-03-04T08:13:51.112Z"
   },
   {
    "duration": 17,
    "start_time": "2022-03-04T08:14:05.468Z"
   },
   {
    "duration": 30,
    "start_time": "2022-03-04T08:14:24.122Z"
   },
   {
    "duration": 28,
    "start_time": "2022-03-04T08:14:46.663Z"
   },
   {
    "duration": 23,
    "start_time": "2022-03-04T08:14:51.036Z"
   },
   {
    "duration": 29,
    "start_time": "2022-03-04T08:15:03.436Z"
   },
   {
    "duration": 30,
    "start_time": "2022-03-04T08:15:11.836Z"
   },
   {
    "duration": 26,
    "start_time": "2022-03-04T08:15:42.835Z"
   },
   {
    "duration": 26,
    "start_time": "2022-03-04T08:15:59.839Z"
   },
   {
    "duration": 22,
    "start_time": "2022-03-04T08:16:16.041Z"
   },
   {
    "duration": 28,
    "start_time": "2022-03-04T08:17:07.994Z"
   },
   {
    "duration": 11,
    "start_time": "2022-03-04T08:20:19.490Z"
   },
   {
    "duration": 17,
    "start_time": "2022-03-04T08:20:24.052Z"
   },
   {
    "duration": 12,
    "start_time": "2022-03-04T08:20:33.464Z"
   },
   {
    "duration": 644,
    "start_time": "2022-03-04T08:25:09.413Z"
   },
   {
    "duration": 26,
    "start_time": "2022-03-04T08:25:16.304Z"
   },
   {
    "duration": 3,
    "start_time": "2022-03-04T08:25:20.114Z"
   },
   {
    "duration": 64,
    "start_time": "2022-03-04T08:25:23.083Z"
   },
   {
    "duration": 14,
    "start_time": "2022-03-04T08:25:24.454Z"
   },
   {
    "duration": 7,
    "start_time": "2022-03-04T08:25:25.098Z"
   },
   {
    "duration": 6,
    "start_time": "2022-03-04T08:25:26.668Z"
   },
   {
    "duration": 7,
    "start_time": "2022-03-04T08:25:27.176Z"
   },
   {
    "duration": 7,
    "start_time": "2022-03-04T08:25:28.690Z"
   },
   {
    "duration": 10,
    "start_time": "2022-03-04T08:29:58.741Z"
   },
   {
    "duration": 23,
    "start_time": "2022-03-04T08:30:10.998Z"
   },
   {
    "duration": 27,
    "start_time": "2022-03-04T08:30:18.222Z"
   },
   {
    "duration": 12,
    "start_time": "2022-03-04T08:30:29.847Z"
   },
   {
    "duration": 16,
    "start_time": "2022-03-04T08:30:34.241Z"
   },
   {
    "duration": 12,
    "start_time": "2022-03-04T08:30:38.654Z"
   },
   {
    "duration": 12,
    "start_time": "2022-03-04T08:31:34.262Z"
   },
   {
    "duration": 643,
    "start_time": "2022-03-04T08:32:09.940Z"
   },
   {
    "duration": 12,
    "start_time": "2022-03-04T08:32:17.128Z"
   },
   {
    "duration": 612,
    "start_time": "2022-03-04T08:32:24.454Z"
   },
   {
    "duration": 12,
    "start_time": "2022-03-04T08:32:30.810Z"
   },
   {
    "duration": 12,
    "start_time": "2022-03-04T08:32:46.041Z"
   },
   {
    "duration": 12,
    "start_time": "2022-03-04T08:32:56.076Z"
   },
   {
    "duration": 704,
    "start_time": "2022-03-04T08:33:28.025Z"
   },
   {
    "duration": 23,
    "start_time": "2022-03-04T08:33:28.730Z"
   },
   {
    "duration": 2,
    "start_time": "2022-03-04T08:33:28.757Z"
   },
   {
    "duration": 58,
    "start_time": "2022-03-04T08:33:28.760Z"
   },
   {
    "duration": 13,
    "start_time": "2022-03-04T08:33:28.819Z"
   },
   {
    "duration": 9,
    "start_time": "2022-03-04T08:33:28.833Z"
   },
   {
    "duration": 6,
    "start_time": "2022-03-04T08:33:28.843Z"
   },
   {
    "duration": 9,
    "start_time": "2022-03-04T08:33:28.851Z"
   },
   {
    "duration": 6,
    "start_time": "2022-03-04T08:33:28.862Z"
   },
   {
    "duration": 11,
    "start_time": "2022-03-04T08:33:28.869Z"
   },
   {
    "duration": 20,
    "start_time": "2022-03-04T08:33:28.882Z"
   },
   {
    "duration": 24,
    "start_time": "2022-03-04T08:33:28.904Z"
   },
   {
    "duration": 10,
    "start_time": "2022-03-04T08:33:28.929Z"
   },
   {
    "duration": 13,
    "start_time": "2022-03-04T08:33:28.941Z"
   },
   {
    "duration": 10,
    "start_time": "2022-03-04T08:33:28.955Z"
   },
   {
    "duration": 624,
    "start_time": "2022-03-04T11:34:34.005Z"
   },
   {
    "duration": 25,
    "start_time": "2022-03-04T11:34:34.633Z"
   },
   {
    "duration": 2,
    "start_time": "2022-03-04T11:34:34.660Z"
   },
   {
    "duration": 615,
    "start_time": "2022-03-04T11:34:34.664Z"
   },
   {
    "duration": 14,
    "start_time": "2022-03-04T11:34:35.281Z"
   },
   {
    "duration": 6,
    "start_time": "2022-03-04T11:34:35.297Z"
   },
   {
    "duration": 8,
    "start_time": "2022-03-04T11:34:35.304Z"
   },
   {
    "duration": 10,
    "start_time": "2022-03-04T11:34:35.314Z"
   },
   {
    "duration": 7,
    "start_time": "2022-03-04T11:34:35.325Z"
   },
   {
    "duration": 81,
    "start_time": "2022-03-04T11:34:35.333Z"
   },
   {
    "duration": 89,
    "start_time": "2022-03-04T11:34:35.415Z"
   },
   {
    "duration": 91,
    "start_time": "2022-03-04T11:34:35.505Z"
   },
   {
    "duration": 79,
    "start_time": "2022-03-04T11:34:35.598Z"
   },
   {
    "duration": 81,
    "start_time": "2022-03-04T11:34:35.678Z"
   },
   {
    "duration": 79,
    "start_time": "2022-03-04T11:34:35.760Z"
   },
   {
    "duration": 108,
    "start_time": "2022-03-04T11:34:42.274Z"
   },
   {
    "duration": 86,
    "start_time": "2022-03-04T11:34:46.417Z"
   }
  ],
  "kernelspec": {
   "display_name": "Python 3",
   "language": "python",
   "name": "python3"
  },
  "language_info": {
   "codemirror_mode": {
    "name": "ipython",
    "version": 3
   },
   "file_extension": ".py",
   "mimetype": "text/x-python",
   "name": "python",
   "nbconvert_exporter": "python",
   "pygments_lexer": "ipython3",
   "version": "3.8.8"
  },
  "toc": {
   "base_numbering": 1,
   "nav_menu": {},
   "number_sections": false,
   "sideBar": true,
   "skip_h1_title": true,
   "title_cell": "Содержание",
   "title_sidebar": "Contents",
   "toc_cell": true,
   "toc_position": {},
   "toc_section_display": true,
   "toc_window_display": true
  }
 },
 "nbformat": 4,
 "nbformat_minor": 5
}
