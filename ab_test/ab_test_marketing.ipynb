{
 "cells": [
  {
   "cell_type": "markdown",
   "id": "cfe4e915",
   "metadata": {
    "toc": true
   },
   "source": [
    "<h1>Содержание<span class=\"tocSkip\"></span></h1>\n",
    "<div class=\"toc\"><ul class=\"toc-item\"><li><span><a href=\"#Изучение-и-подготовка-данных\" data-toc-modified-id=\"Изучение-и-подготовка-данных-1\"><span class=\"toc-item-num\">1&nbsp;&nbsp;</span>Изучение и подготовка данных</a></span></li><li><span><a href=\"#Часть-1.-Приоритизация-гипотез.\" data-toc-modified-id=\"Часть-1.-Приоритизация-гипотез.-2\"><span class=\"toc-item-num\">2&nbsp;&nbsp;</span>Часть 1. Приоритизация гипотез.</a></span></li><li><span><a href=\"#Часть-2.-Анализ-А/В-теста.\" data-toc-modified-id=\"Часть-2.-Анализ-А/В-теста.-3\"><span class=\"toc-item-num\">3&nbsp;&nbsp;</span>Часть 2. Анализ А/В-теста.</a></span></li><li><span><a href=\"#Вывод.\" data-toc-modified-id=\"Вывод.-4\"><span class=\"toc-item-num\">4&nbsp;&nbsp;</span>Вывод.</a></span></li></ul></div>"
   ]
  },
  {
   "cell_type": "markdown",
   "id": "14c6fcd8",
   "metadata": {},
   "source": [
    "# Результаты А/В-тестирования"
   ]
  },
  {
   "cell_type": "markdown",
   "id": "726f9b2c",
   "metadata": {},
   "source": [
    "Цель проекта: приоритизация гипотез по увеличению выручки, запуск A/B-теста и анализ результатов."
   ]
  },
  {
   "cell_type": "markdown",
   "id": "a956dda8",
   "metadata": {},
   "source": [
    "## Изучение и подготовка данных "
   ]
  },
  {
   "cell_type": "code",
   "execution_count": 1,
   "id": "b6948a4c",
   "metadata": {},
   "outputs": [],
   "source": [
    "import pandas as pd\n",
    "import numpy as np \n",
    "import matplotlib.pyplot as plt\n",
    "from scipy import stats as st\n",
    "import datetime as dt\n",
    "import math as mth\n",
    "import warnings\n",
    "warnings.filterwarnings(\"ignore\")\n",
    "\n",
    "server_path_hypothesis = '/datasets/hypothesis.csv'\n",
    "server_path_orders = '/datasets/orders.csv'\n",
    "server_path_visitors = '/datasets/visitors.csv'\n",
    "\n",
    "filename_hypothesis = 'hypothesis.csv'\n",
    "filename_orders = 'orders.csv'\n",
    "filename_visitors = 'visitors.csv'\n",
    "\n",
    "try: \n",
    "    hypothesis = pd.read_csv(server_path_hypothesis, sep=',')\n",
    "    orders = pd.read_csv(server_path_orders, sep=',')\n",
    "    visitors = pd.read_csv(server_path_visitors, sep=',')\n",
    "except: \n",
    "    hypothesis = pd.read_csv(filename_hypothesis, sep=',')\n",
    "    orders = pd.read_csv(filename_orders, sep=',')\n",
    "    visitors = pd.read_csv(filename_visitors, sep=',') "
   ]
  },
  {
   "cell_type": "code",
   "execution_count": 2,
   "id": "42c27d90",
   "metadata": {},
   "outputs": [
    {
     "data": {
      "text/html": [
       "<div>\n",
       "<style scoped>\n",
       "    .dataframe tbody tr th:only-of-type {\n",
       "        vertical-align: middle;\n",
       "    }\n",
       "\n",
       "    .dataframe tbody tr th {\n",
       "        vertical-align: top;\n",
       "    }\n",
       "\n",
       "    .dataframe thead th {\n",
       "        text-align: right;\n",
       "    }\n",
       "</style>\n",
       "<table border=\"1\" class=\"dataframe\">\n",
       "  <thead>\n",
       "    <tr style=\"text-align: right;\">\n",
       "      <th></th>\n",
       "      <th>Hypothesis</th>\n",
       "      <th>Reach</th>\n",
       "      <th>Impact</th>\n",
       "      <th>Confidence</th>\n",
       "      <th>Efforts</th>\n",
       "    </tr>\n",
       "  </thead>\n",
       "  <tbody>\n",
       "    <tr>\n",
       "      <th>0</th>\n",
       "      <td>Добавить два новых канала привлечения трафика,...</td>\n",
       "      <td>3</td>\n",
       "      <td>10</td>\n",
       "      <td>8</td>\n",
       "      <td>6</td>\n",
       "    </tr>\n",
       "    <tr>\n",
       "      <th>1</th>\n",
       "      <td>Запустить собственную службу доставки, что сок...</td>\n",
       "      <td>2</td>\n",
       "      <td>5</td>\n",
       "      <td>4</td>\n",
       "      <td>10</td>\n",
       "    </tr>\n",
       "    <tr>\n",
       "      <th>2</th>\n",
       "      <td>Добавить блоки рекомендаций товаров на сайт ин...</td>\n",
       "      <td>8</td>\n",
       "      <td>3</td>\n",
       "      <td>7</td>\n",
       "      <td>3</td>\n",
       "    </tr>\n",
       "    <tr>\n",
       "      <th>3</th>\n",
       "      <td>Изменить структура категорий, что увеличит кон...</td>\n",
       "      <td>8</td>\n",
       "      <td>3</td>\n",
       "      <td>3</td>\n",
       "      <td>8</td>\n",
       "    </tr>\n",
       "    <tr>\n",
       "      <th>4</th>\n",
       "      <td>Изменить цвет фона главной страницы, чтобы уве...</td>\n",
       "      <td>3</td>\n",
       "      <td>1</td>\n",
       "      <td>1</td>\n",
       "      <td>1</td>\n",
       "    </tr>\n",
       "    <tr>\n",
       "      <th>5</th>\n",
       "      <td>Добавить страницу отзывов клиентов о магазине,...</td>\n",
       "      <td>3</td>\n",
       "      <td>2</td>\n",
       "      <td>2</td>\n",
       "      <td>3</td>\n",
       "    </tr>\n",
       "    <tr>\n",
       "      <th>6</th>\n",
       "      <td>Показать на главной странице баннеры с актуаль...</td>\n",
       "      <td>5</td>\n",
       "      <td>3</td>\n",
       "      <td>8</td>\n",
       "      <td>3</td>\n",
       "    </tr>\n",
       "    <tr>\n",
       "      <th>7</th>\n",
       "      <td>Добавить форму подписки на все основные страни...</td>\n",
       "      <td>10</td>\n",
       "      <td>7</td>\n",
       "      <td>8</td>\n",
       "      <td>5</td>\n",
       "    </tr>\n",
       "    <tr>\n",
       "      <th>8</th>\n",
       "      <td>Запустить акцию, дающую скидку на товар в день...</td>\n",
       "      <td>1</td>\n",
       "      <td>9</td>\n",
       "      <td>9</td>\n",
       "      <td>5</td>\n",
       "    </tr>\n",
       "  </tbody>\n",
       "</table>\n",
       "</div>"
      ],
      "text/plain": [
       "                                          Hypothesis  Reach  Impact  \\\n",
       "0  Добавить два новых канала привлечения трафика,...      3      10   \n",
       "1  Запустить собственную службу доставки, что сок...      2       5   \n",
       "2  Добавить блоки рекомендаций товаров на сайт ин...      8       3   \n",
       "3  Изменить структура категорий, что увеличит кон...      8       3   \n",
       "4  Изменить цвет фона главной страницы, чтобы уве...      3       1   \n",
       "5  Добавить страницу отзывов клиентов о магазине,...      3       2   \n",
       "6  Показать на главной странице баннеры с актуаль...      5       3   \n",
       "7  Добавить форму подписки на все основные страни...     10       7   \n",
       "8  Запустить акцию, дающую скидку на товар в день...      1       9   \n",
       "\n",
       "   Confidence  Efforts  \n",
       "0           8        6  \n",
       "1           4       10  \n",
       "2           7        3  \n",
       "3           3        8  \n",
       "4           1        1  \n",
       "5           2        3  \n",
       "6           8        3  \n",
       "7           8        5  \n",
       "8           9        5  "
      ]
     },
     "execution_count": 2,
     "metadata": {},
     "output_type": "execute_result"
    }
   ],
   "source": [
    "hypothesis"
   ]
  },
  {
   "cell_type": "code",
   "execution_count": 3,
   "id": "ae491371",
   "metadata": {},
   "outputs": [],
   "source": [
    "hypothesis.columns = hypothesis.columns.str.lower()"
   ]
  },
  {
   "cell_type": "code",
   "execution_count": 4,
   "id": "b9e7db53",
   "metadata": {},
   "outputs": [
    {
     "name": "stdout",
     "output_type": "stream",
     "text": [
      "<class 'pandas.core.frame.DataFrame'>\n",
      "RangeIndex: 9 entries, 0 to 8\n",
      "Data columns (total 5 columns):\n",
      " #   Column      Non-Null Count  Dtype \n",
      "---  ------      --------------  ----- \n",
      " 0   hypothesis  9 non-null      object\n",
      " 1   reach       9 non-null      int64 \n",
      " 2   impact      9 non-null      int64 \n",
      " 3   confidence  9 non-null      int64 \n",
      " 4   efforts     9 non-null      int64 \n",
      "dtypes: int64(4), object(1)\n",
      "memory usage: 488.0+ bytes\n"
     ]
    }
   ],
   "source": [
    "hypothesis.info()"
   ]
  },
  {
   "cell_type": "code",
   "execution_count": 5,
   "id": "b053610e",
   "metadata": {},
   "outputs": [
    {
     "data": {
      "text/html": [
       "<div>\n",
       "<style scoped>\n",
       "    .dataframe tbody tr th:only-of-type {\n",
       "        vertical-align: middle;\n",
       "    }\n",
       "\n",
       "    .dataframe tbody tr th {\n",
       "        vertical-align: top;\n",
       "    }\n",
       "\n",
       "    .dataframe thead th {\n",
       "        text-align: right;\n",
       "    }\n",
       "</style>\n",
       "<table border=\"1\" class=\"dataframe\">\n",
       "  <thead>\n",
       "    <tr style=\"text-align: right;\">\n",
       "      <th></th>\n",
       "      <th>transactionId</th>\n",
       "      <th>visitorId</th>\n",
       "      <th>date</th>\n",
       "      <th>revenue</th>\n",
       "      <th>group</th>\n",
       "    </tr>\n",
       "  </thead>\n",
       "  <tbody>\n",
       "    <tr>\n",
       "      <th>0</th>\n",
       "      <td>3667963787</td>\n",
       "      <td>3312258926</td>\n",
       "      <td>2019-08-15</td>\n",
       "      <td>1650</td>\n",
       "      <td>B</td>\n",
       "    </tr>\n",
       "    <tr>\n",
       "      <th>1</th>\n",
       "      <td>2804400009</td>\n",
       "      <td>3642806036</td>\n",
       "      <td>2019-08-15</td>\n",
       "      <td>730</td>\n",
       "      <td>B</td>\n",
       "    </tr>\n",
       "    <tr>\n",
       "      <th>2</th>\n",
       "      <td>2961555356</td>\n",
       "      <td>4069496402</td>\n",
       "      <td>2019-08-15</td>\n",
       "      <td>400</td>\n",
       "      <td>A</td>\n",
       "    </tr>\n",
       "    <tr>\n",
       "      <th>3</th>\n",
       "      <td>3797467345</td>\n",
       "      <td>1196621759</td>\n",
       "      <td>2019-08-15</td>\n",
       "      <td>9759</td>\n",
       "      <td>B</td>\n",
       "    </tr>\n",
       "    <tr>\n",
       "      <th>4</th>\n",
       "      <td>2282983706</td>\n",
       "      <td>2322279887</td>\n",
       "      <td>2019-08-15</td>\n",
       "      <td>2308</td>\n",
       "      <td>B</td>\n",
       "    </tr>\n",
       "  </tbody>\n",
       "</table>\n",
       "</div>"
      ],
      "text/plain": [
       "   transactionId   visitorId        date  revenue group\n",
       "0     3667963787  3312258926  2019-08-15     1650     B\n",
       "1     2804400009  3642806036  2019-08-15      730     B\n",
       "2     2961555356  4069496402  2019-08-15      400     A\n",
       "3     3797467345  1196621759  2019-08-15     9759     B\n",
       "4     2282983706  2322279887  2019-08-15     2308     B"
      ]
     },
     "execution_count": 5,
     "metadata": {},
     "output_type": "execute_result"
    }
   ],
   "source": [
    "orders.head()"
   ]
  },
  {
   "cell_type": "code",
   "execution_count": 6,
   "id": "6dd96a84",
   "metadata": {},
   "outputs": [
    {
     "name": "stdout",
     "output_type": "stream",
     "text": [
      "<class 'pandas.core.frame.DataFrame'>\n",
      "RangeIndex: 1197 entries, 0 to 1196\n",
      "Data columns (total 5 columns):\n",
      " #   Column         Non-Null Count  Dtype \n",
      "---  ------         --------------  ----- \n",
      " 0   transactionId  1197 non-null   int64 \n",
      " 1   visitorId      1197 non-null   int64 \n",
      " 2   date           1197 non-null   object\n",
      " 3   revenue        1197 non-null   int64 \n",
      " 4   group          1197 non-null   object\n",
      "dtypes: int64(3), object(2)\n",
      "memory usage: 46.9+ KB\n"
     ]
    }
   ],
   "source": [
    "orders.info()"
   ]
  },
  {
   "cell_type": "code",
   "execution_count": 7,
   "id": "1f179db5",
   "metadata": {},
   "outputs": [],
   "source": [
    "orders['date'] = pd.to_datetime(orders['date']) "
   ]
  },
  {
   "cell_type": "code",
   "execution_count": 8,
   "id": "da70c6c3",
   "metadata": {},
   "outputs": [
    {
     "data": {
      "text/html": [
       "<div>\n",
       "<style scoped>\n",
       "    .dataframe tbody tr th:only-of-type {\n",
       "        vertical-align: middle;\n",
       "    }\n",
       "\n",
       "    .dataframe tbody tr th {\n",
       "        vertical-align: top;\n",
       "    }\n",
       "\n",
       "    .dataframe thead th {\n",
       "        text-align: right;\n",
       "    }\n",
       "</style>\n",
       "<table border=\"1\" class=\"dataframe\">\n",
       "  <thead>\n",
       "    <tr style=\"text-align: right;\">\n",
       "      <th></th>\n",
       "      <th>date</th>\n",
       "      <th>group</th>\n",
       "      <th>visitors</th>\n",
       "    </tr>\n",
       "  </thead>\n",
       "  <tbody>\n",
       "    <tr>\n",
       "      <th>0</th>\n",
       "      <td>2019-08-01</td>\n",
       "      <td>A</td>\n",
       "      <td>719</td>\n",
       "    </tr>\n",
       "    <tr>\n",
       "      <th>1</th>\n",
       "      <td>2019-08-02</td>\n",
       "      <td>A</td>\n",
       "      <td>619</td>\n",
       "    </tr>\n",
       "    <tr>\n",
       "      <th>2</th>\n",
       "      <td>2019-08-03</td>\n",
       "      <td>A</td>\n",
       "      <td>507</td>\n",
       "    </tr>\n",
       "    <tr>\n",
       "      <th>3</th>\n",
       "      <td>2019-08-04</td>\n",
       "      <td>A</td>\n",
       "      <td>717</td>\n",
       "    </tr>\n",
       "    <tr>\n",
       "      <th>4</th>\n",
       "      <td>2019-08-05</td>\n",
       "      <td>A</td>\n",
       "      <td>756</td>\n",
       "    </tr>\n",
       "  </tbody>\n",
       "</table>\n",
       "</div>"
      ],
      "text/plain": [
       "         date group  visitors\n",
       "0  2019-08-01     A       719\n",
       "1  2019-08-02     A       619\n",
       "2  2019-08-03     A       507\n",
       "3  2019-08-04     A       717\n",
       "4  2019-08-05     A       756"
      ]
     },
     "execution_count": 8,
     "metadata": {},
     "output_type": "execute_result"
    }
   ],
   "source": [
    "visitors.head()"
   ]
  },
  {
   "cell_type": "code",
   "execution_count": 9,
   "id": "e5642c18",
   "metadata": {},
   "outputs": [
    {
     "name": "stdout",
     "output_type": "stream",
     "text": [
      "<class 'pandas.core.frame.DataFrame'>\n",
      "RangeIndex: 62 entries, 0 to 61\n",
      "Data columns (total 3 columns):\n",
      " #   Column    Non-Null Count  Dtype \n",
      "---  ------    --------------  ----- \n",
      " 0   date      62 non-null     object\n",
      " 1   group     62 non-null     object\n",
      " 2   visitors  62 non-null     int64 \n",
      "dtypes: int64(1), object(2)\n",
      "memory usage: 1.6+ KB\n"
     ]
    }
   ],
   "source": [
    "visitors.info()"
   ]
  },
  {
   "cell_type": "code",
   "execution_count": 10,
   "id": "5449ad37",
   "metadata": {},
   "outputs": [],
   "source": [
    "visitors['date'] = pd.to_datetime(visitors['date'])"
   ]
  },
  {
   "cell_type": "code",
   "execution_count": 11,
   "id": "e59ca53b",
   "metadata": {},
   "outputs": [
    {
     "data": {
      "text/plain": [
       "0"
      ]
     },
     "execution_count": 11,
     "metadata": {},
     "output_type": "execute_result"
    }
   ],
   "source": [
    "orders.duplicated().sum()"
   ]
  },
  {
   "cell_type": "code",
   "execution_count": 12,
   "id": "940a57f5",
   "metadata": {},
   "outputs": [
    {
     "data": {
      "text/plain": [
       "0"
      ]
     },
     "execution_count": 12,
     "metadata": {},
     "output_type": "execute_result"
    }
   ],
   "source": [
    "visitors.duplicated().sum()"
   ]
  },
  {
   "cell_type": "markdown",
   "id": "003e84cf",
   "metadata": {},
   "source": [
    "Дубликаты и пропуски отсутствуют. Типы данных корректны. Для корректности исследования посмотрим, есть ли пользователи, попавшие в обе группы.  "
   ]
  },
  {
   "cell_type": "code",
   "execution_count": 13,
   "id": "77efee43",
   "metadata": {},
   "outputs": [
    {
     "data": {
      "text/html": [
       "<div>\n",
       "<style scoped>\n",
       "    .dataframe tbody tr th:only-of-type {\n",
       "        vertical-align: middle;\n",
       "    }\n",
       "\n",
       "    .dataframe tbody tr th {\n",
       "        vertical-align: top;\n",
       "    }\n",
       "\n",
       "    .dataframe thead th {\n",
       "        text-align: right;\n",
       "    }\n",
       "</style>\n",
       "<table border=\"1\" class=\"dataframe\">\n",
       "  <thead>\n",
       "    <tr style=\"text-align: right;\">\n",
       "      <th></th>\n",
       "      <th>visitorId</th>\n",
       "      <th>group</th>\n",
       "    </tr>\n",
       "  </thead>\n",
       "  <tbody>\n",
       "    <tr>\n",
       "      <th>0</th>\n",
       "      <td>5114589</td>\n",
       "      <td>1</td>\n",
       "    </tr>\n",
       "    <tr>\n",
       "      <th>1</th>\n",
       "      <td>6958315</td>\n",
       "      <td>1</td>\n",
       "    </tr>\n",
       "    <tr>\n",
       "      <th>2</th>\n",
       "      <td>8300375</td>\n",
       "      <td>2</td>\n",
       "    </tr>\n",
       "    <tr>\n",
       "      <th>3</th>\n",
       "      <td>11685486</td>\n",
       "      <td>1</td>\n",
       "    </tr>\n",
       "    <tr>\n",
       "      <th>4</th>\n",
       "      <td>39475350</td>\n",
       "      <td>1</td>\n",
       "    </tr>\n",
       "  </tbody>\n",
       "</table>\n",
       "</div>"
      ],
      "text/plain": [
       "   visitorId  group\n",
       "0    5114589      1\n",
       "1    6958315      1\n",
       "2    8300375      2\n",
       "3   11685486      1\n",
       "4   39475350      1"
      ]
     },
     "execution_count": 13,
     "metadata": {},
     "output_type": "execute_result"
    }
   ],
   "source": [
    "users_duplicated = orders.groupby('visitorId')['group'].nunique().reset_index()\n",
    "users_duplicated.head()"
   ]
  },
  {
   "cell_type": "code",
   "execution_count": 14,
   "id": "7546c166",
   "metadata": {},
   "outputs": [
    {
     "data": {
      "text/plain": [
       "(58, 2)"
      ]
     },
     "execution_count": 14,
     "metadata": {},
     "output_type": "execute_result"
    }
   ],
   "source": [
    "flickers = users_duplicated.query('group == 2')\n",
    "flickers.shape"
   ]
  },
  {
   "cell_type": "markdown",
   "id": "15f6f344",
   "metadata": {},
   "source": [
    "Есть 58 человек, которые попали в обе группы. Удалим их из датасета."
   ]
  },
  {
   "cell_type": "code",
   "execution_count": 15,
   "id": "67dc1e53",
   "metadata": {},
   "outputs": [
    {
     "data": {
      "text/plain": [
       "0          5114589\n",
       "1          6958315\n",
       "4         11685486\n",
       "5         39475350\n",
       "6         47206413\n",
       "           ...    \n",
       "1082    4259830713\n",
       "1085    4278982564\n",
       "1086    4279090005\n",
       "1087    4281247801\n",
       "1088    4283872382\n",
       "Name: visitorId, Length: 973, dtype: int64"
      ]
     },
     "execution_count": 15,
     "metadata": {},
     "output_type": "execute_result"
    }
   ],
   "source": [
    "users_by_group = orders.groupby(['visitorId', 'group'], as_index=False)['revenue'].sum()\n",
    "orders_new = users_by_group.drop_duplicates(subset='visitorId', keep=False)\n",
    "users_clean = pd.Series(orders_new['visitorId'])\n",
    "users_clean"
   ]
  },
  {
   "cell_type": "markdown",
   "id": "5e7cbb5a",
   "metadata": {},
   "source": [
    "Мы оставили объект Series с теми пользователями, чьи ID не повторяются в группировке по группам. Обрежем датасет orders так, чтобы ID пользователей соответствовал оставшимся. "
   ]
  },
  {
   "cell_type": "code",
   "execution_count": 16,
   "id": "e0ff7e28",
   "metadata": {},
   "outputs": [
    {
     "data": {
      "text/html": [
       "<div>\n",
       "<style scoped>\n",
       "    .dataframe tbody tr th:only-of-type {\n",
       "        vertical-align: middle;\n",
       "    }\n",
       "\n",
       "    .dataframe tbody tr th {\n",
       "        vertical-align: top;\n",
       "    }\n",
       "\n",
       "    .dataframe thead th {\n",
       "        text-align: right;\n",
       "    }\n",
       "</style>\n",
       "<table border=\"1\" class=\"dataframe\">\n",
       "  <thead>\n",
       "    <tr style=\"text-align: right;\">\n",
       "      <th></th>\n",
       "      <th>transactionId</th>\n",
       "      <th>visitorId</th>\n",
       "      <th>date</th>\n",
       "      <th>revenue</th>\n",
       "      <th>group</th>\n",
       "    </tr>\n",
       "  </thead>\n",
       "  <tbody>\n",
       "    <tr>\n",
       "      <th>0</th>\n",
       "      <td>3667963787</td>\n",
       "      <td>3312258926</td>\n",
       "      <td>2019-08-15</td>\n",
       "      <td>1650</td>\n",
       "      <td>B</td>\n",
       "    </tr>\n",
       "    <tr>\n",
       "      <th>1</th>\n",
       "      <td>2804400009</td>\n",
       "      <td>3642806036</td>\n",
       "      <td>2019-08-15</td>\n",
       "      <td>730</td>\n",
       "      <td>B</td>\n",
       "    </tr>\n",
       "    <tr>\n",
       "      <th>3</th>\n",
       "      <td>3797467345</td>\n",
       "      <td>1196621759</td>\n",
       "      <td>2019-08-15</td>\n",
       "      <td>9759</td>\n",
       "      <td>B</td>\n",
       "    </tr>\n",
       "    <tr>\n",
       "      <th>4</th>\n",
       "      <td>2282983706</td>\n",
       "      <td>2322279887</td>\n",
       "      <td>2019-08-15</td>\n",
       "      <td>2308</td>\n",
       "      <td>B</td>\n",
       "    </tr>\n",
       "    <tr>\n",
       "      <th>5</th>\n",
       "      <td>182168103</td>\n",
       "      <td>935554773</td>\n",
       "      <td>2019-08-15</td>\n",
       "      <td>2210</td>\n",
       "      <td>B</td>\n",
       "    </tr>\n",
       "  </tbody>\n",
       "</table>\n",
       "</div>"
      ],
      "text/plain": [
       "   transactionId   visitorId       date  revenue group\n",
       "0     3667963787  3312258926 2019-08-15     1650     B\n",
       "1     2804400009  3642806036 2019-08-15      730     B\n",
       "3     3797467345  1196621759 2019-08-15     9759     B\n",
       "4     2282983706  2322279887 2019-08-15     2308     B\n",
       "5      182168103   935554773 2019-08-15     2210     B"
      ]
     },
     "execution_count": 16,
     "metadata": {},
     "output_type": "execute_result"
    }
   ],
   "source": [
    "orders = orders.query('visitorId in @users_clean')\n",
    "orders.head()"
   ]
  },
  {
   "cell_type": "code",
   "execution_count": 17,
   "id": "e4bf29f6",
   "metadata": {},
   "outputs": [
    {
     "data": {
      "text/plain": [
       "0"
      ]
     },
     "execution_count": 17,
     "metadata": {},
     "output_type": "execute_result"
    }
   ],
   "source": [
    "users_duplicated_2 = orders.groupby('visitorId')['group'].nunique().reset_index()\n",
    "flickers_2 = users_duplicated_2.query('group == 2')\n",
    "flickers_2.shape[0]"
   ]
  },
  {
   "cell_type": "markdown",
   "id": "1f7dd5bb",
   "metadata": {},
   "source": [
    "Пользователей, оказавшихся в обеих группах исследования больше нет. Данные готовы к анализу. "
   ]
  },
  {
   "cell_type": "markdown",
   "id": "889b2c21",
   "metadata": {},
   "source": [
    "## Часть 1. Приоритизация гипотез."
   ]
  },
  {
   "cell_type": "markdown",
   "id": "38faa41f",
   "metadata": {},
   "source": [
    "Задачи: \n",
    "- Применить фреймворк ICE для приоритизации гипотез; \n",
    "- Применить фреймворк RICE для приоритизации гипотез, где: "
   ]
  },
  {
   "cell_type": "markdown",
   "id": "4bbf39db",
   "metadata": {},
   "source": [
    "$$ICE = \\frac{Impact * Confidence}{Efforts}$$"
   ]
  },
  {
   "cell_type": "markdown",
   "id": "92caa32f",
   "metadata": {},
   "source": [
    "$$RICE = \\frac{Reach * Impact * Confidence}{Efforts}$$"
   ]
  },
  {
   "cell_type": "code",
   "execution_count": 18,
   "id": "e9bac7be",
   "metadata": {},
   "outputs": [],
   "source": [
    "pd.options.display.max_colwidth = 110"
   ]
  },
  {
   "cell_type": "code",
   "execution_count": 19,
   "id": "cf2d8111",
   "metadata": {},
   "outputs": [
    {
     "data": {
      "text/html": [
       "<div>\n",
       "<style scoped>\n",
       "    .dataframe tbody tr th:only-of-type {\n",
       "        vertical-align: middle;\n",
       "    }\n",
       "\n",
       "    .dataframe tbody tr th {\n",
       "        vertical-align: top;\n",
       "    }\n",
       "\n",
       "    .dataframe thead th {\n",
       "        text-align: right;\n",
       "    }\n",
       "</style>\n",
       "<table border=\"1\" class=\"dataframe\">\n",
       "  <thead>\n",
       "    <tr style=\"text-align: right;\">\n",
       "      <th></th>\n",
       "      <th>hypothesis</th>\n",
       "      <th>ICE</th>\n",
       "    </tr>\n",
       "  </thead>\n",
       "  <tbody>\n",
       "    <tr>\n",
       "      <th>8</th>\n",
       "      <td>Запустить акцию, дающую скидку на товар в день рождения</td>\n",
       "      <td>16.2</td>\n",
       "    </tr>\n",
       "    <tr>\n",
       "      <th>0</th>\n",
       "      <td>Добавить два новых канала привлечения трафика, что позволит привлекать на 30% больше пользователей</td>\n",
       "      <td>13.3</td>\n",
       "    </tr>\n",
       "    <tr>\n",
       "      <th>7</th>\n",
       "      <td>Добавить форму подписки на все основные страницы, чтобы собрать базу клиентов для email-рассылок</td>\n",
       "      <td>11.2</td>\n",
       "    </tr>\n",
       "    <tr>\n",
       "      <th>6</th>\n",
       "      <td>Показать на главной странице баннеры с актуальными акциями и распродажами, чтобы увеличить конверсию</td>\n",
       "      <td>8.0</td>\n",
       "    </tr>\n",
       "    <tr>\n",
       "      <th>2</th>\n",
       "      <td>Добавить блоки рекомендаций товаров на сайт интернет магазина, чтобы повысить конверсию и средний чек заказа</td>\n",
       "      <td>7.0</td>\n",
       "    </tr>\n",
       "    <tr>\n",
       "      <th>1</th>\n",
       "      <td>Запустить собственную службу доставки, что сократит срок доставки заказов</td>\n",
       "      <td>2.0</td>\n",
       "    </tr>\n",
       "    <tr>\n",
       "      <th>5</th>\n",
       "      <td>Добавить страницу отзывов клиентов о магазине, что позволит увеличить количество заказов</td>\n",
       "      <td>1.3</td>\n",
       "    </tr>\n",
       "    <tr>\n",
       "      <th>3</th>\n",
       "      <td>Изменить структура категорий, что увеличит конверсию, т.к. пользователи быстрее найдут нужный товар</td>\n",
       "      <td>1.1</td>\n",
       "    </tr>\n",
       "    <tr>\n",
       "      <th>4</th>\n",
       "      <td>Изменить цвет фона главной страницы, чтобы увеличить вовлеченность пользователей</td>\n",
       "      <td>1.0</td>\n",
       "    </tr>\n",
       "  </tbody>\n",
       "</table>\n",
       "</div>"
      ],
      "text/plain": [
       "                                                                                                     hypothesis  \\\n",
       "8                                                       Запустить акцию, дающую скидку на товар в день рождения   \n",
       "0            Добавить два новых канала привлечения трафика, что позволит привлекать на 30% больше пользователей   \n",
       "7              Добавить форму подписки на все основные страницы, чтобы собрать базу клиентов для email-рассылок   \n",
       "6          Показать на главной странице баннеры с актуальными акциями и распродажами, чтобы увеличить конверсию   \n",
       "2  Добавить блоки рекомендаций товаров на сайт интернет магазина, чтобы повысить конверсию и средний чек заказа   \n",
       "1                                     Запустить собственную службу доставки, что сократит срок доставки заказов   \n",
       "5                      Добавить страницу отзывов клиентов о магазине, что позволит увеличить количество заказов   \n",
       "3           Изменить структура категорий, что увеличит конверсию, т.к. пользователи быстрее найдут нужный товар   \n",
       "4                              Изменить цвет фона главной страницы, чтобы увеличить вовлеченность пользователей   \n",
       "\n",
       "    ICE  \n",
       "8  16.2  \n",
       "0  13.3  \n",
       "7  11.2  \n",
       "6   8.0  \n",
       "2   7.0  \n",
       "1   2.0  \n",
       "5   1.3  \n",
       "3   1.1  \n",
       "4   1.0  "
      ]
     },
     "execution_count": 19,
     "metadata": {},
     "output_type": "execute_result"
    }
   ],
   "source": [
    "hypothesis['ICE'] = hypothesis['impact'] * hypothesis['confidence'] / hypothesis['efforts']\n",
    "hypothesis['ICE'] = pd.to_numeric(hypothesis['ICE'].map('{:.1f}'.format))\n",
    "hypothesis[['hypothesis', 'ICE']].sort_values(by='ICE', ascending=False)"
   ]
  },
  {
   "cell_type": "markdown",
   "id": "9a52fadd",
   "metadata": {},
   "source": [
    "Приоритизация гипотез с помощью фреймворка ICE, где потенциальное влияние изменений, помноженное на уверенность в результате, делятся на прилагаемые усилия, в качестве наиболее перспективных гипотез указывает на 8 - запуск акции, 0 - увеличение каналов привлечения трафика, 7 - добавление опции оформления подписки, 6 - установка баннера с актуальными предложениями.  "
   ]
  },
  {
   "cell_type": "code",
   "execution_count": 20,
   "id": "71b9e518",
   "metadata": {},
   "outputs": [
    {
     "data": {
      "text/html": [
       "<div>\n",
       "<style scoped>\n",
       "    .dataframe tbody tr th:only-of-type {\n",
       "        vertical-align: middle;\n",
       "    }\n",
       "\n",
       "    .dataframe tbody tr th {\n",
       "        vertical-align: top;\n",
       "    }\n",
       "\n",
       "    .dataframe thead th {\n",
       "        text-align: right;\n",
       "    }\n",
       "</style>\n",
       "<table border=\"1\" class=\"dataframe\">\n",
       "  <thead>\n",
       "    <tr style=\"text-align: right;\">\n",
       "      <th></th>\n",
       "      <th>hypothesis</th>\n",
       "      <th>RICE</th>\n",
       "    </tr>\n",
       "  </thead>\n",
       "  <tbody>\n",
       "    <tr>\n",
       "      <th>7</th>\n",
       "      <td>Добавить форму подписки на все основные страницы, чтобы собрать базу клиентов для email-рассылок</td>\n",
       "      <td>112.0</td>\n",
       "    </tr>\n",
       "    <tr>\n",
       "      <th>2</th>\n",
       "      <td>Добавить блоки рекомендаций товаров на сайт интернет магазина, чтобы повысить конверсию и средний чек заказа</td>\n",
       "      <td>56.0</td>\n",
       "    </tr>\n",
       "    <tr>\n",
       "      <th>0</th>\n",
       "      <td>Добавить два новых канала привлечения трафика, что позволит привлекать на 30% больше пользователей</td>\n",
       "      <td>40.0</td>\n",
       "    </tr>\n",
       "    <tr>\n",
       "      <th>6</th>\n",
       "      <td>Показать на главной странице баннеры с актуальными акциями и распродажами, чтобы увеличить конверсию</td>\n",
       "      <td>40.0</td>\n",
       "    </tr>\n",
       "    <tr>\n",
       "      <th>8</th>\n",
       "      <td>Запустить акцию, дающую скидку на товар в день рождения</td>\n",
       "      <td>16.2</td>\n",
       "    </tr>\n",
       "    <tr>\n",
       "      <th>3</th>\n",
       "      <td>Изменить структура категорий, что увеличит конверсию, т.к. пользователи быстрее найдут нужный товар</td>\n",
       "      <td>9.0</td>\n",
       "    </tr>\n",
       "    <tr>\n",
       "      <th>1</th>\n",
       "      <td>Запустить собственную службу доставки, что сократит срок доставки заказов</td>\n",
       "      <td>4.0</td>\n",
       "    </tr>\n",
       "    <tr>\n",
       "      <th>5</th>\n",
       "      <td>Добавить страницу отзывов клиентов о магазине, что позволит увеличить количество заказов</td>\n",
       "      <td>4.0</td>\n",
       "    </tr>\n",
       "    <tr>\n",
       "      <th>4</th>\n",
       "      <td>Изменить цвет фона главной страницы, чтобы увеличить вовлеченность пользователей</td>\n",
       "      <td>3.0</td>\n",
       "    </tr>\n",
       "  </tbody>\n",
       "</table>\n",
       "</div>"
      ],
      "text/plain": [
       "                                                                                                     hypothesis  \\\n",
       "7              Добавить форму подписки на все основные страницы, чтобы собрать базу клиентов для email-рассылок   \n",
       "2  Добавить блоки рекомендаций товаров на сайт интернет магазина, чтобы повысить конверсию и средний чек заказа   \n",
       "0            Добавить два новых канала привлечения трафика, что позволит привлекать на 30% больше пользователей   \n",
       "6          Показать на главной странице баннеры с актуальными акциями и распродажами, чтобы увеличить конверсию   \n",
       "8                                                       Запустить акцию, дающую скидку на товар в день рождения   \n",
       "3           Изменить структура категорий, что увеличит конверсию, т.к. пользователи быстрее найдут нужный товар   \n",
       "1                                     Запустить собственную службу доставки, что сократит срок доставки заказов   \n",
       "5                      Добавить страницу отзывов клиентов о магазине, что позволит увеличить количество заказов   \n",
       "4                              Изменить цвет фона главной страницы, чтобы увеличить вовлеченность пользователей   \n",
       "\n",
       "    RICE  \n",
       "7  112.0  \n",
       "2   56.0  \n",
       "0   40.0  \n",
       "6   40.0  \n",
       "8   16.2  \n",
       "3    9.0  \n",
       "1    4.0  \n",
       "5    4.0  \n",
       "4    3.0  "
      ]
     },
     "execution_count": 20,
     "metadata": {},
     "output_type": "execute_result"
    }
   ],
   "source": [
    "hypothesis['RICE'] = hypothesis['reach'] * hypothesis['impact'] * hypothesis['confidence'] / hypothesis['efforts']\n",
    "hypothesis[['hypothesis', 'RICE']].sort_values(by='RICE', ascending=False)"
   ]
  },
  {
   "cell_type": "markdown",
   "id": "305ddd5c",
   "metadata": {},
   "source": [
    "Добавление категории Reach в фреймворк показывает, что охваты в расчете некоторых гипотез обладают довольно высоким коэффициентом влияния. Исходя из данного метода приоритизации, самыми перспективными гипотезами являются 7 - офомление подписки (без учета категории reach коэффициент 11,2 против 112 с учетом охватов - reach по 10-балльной шкале максимальный), 2 - добавление блоков рекомендаций (охваты меняют коэффициент с 7 до 56), 0 - новые каналы привлечения, 6 - баннер с актуальными предложениями. "
   ]
  },
  {
   "cell_type": "code",
   "execution_count": 21,
   "id": "3e6ed147",
   "metadata": {},
   "outputs": [
    {
     "data": {
      "text/html": [
       "<style  type=\"text/css\" >\n",
       "#T_5dd4f_row0_col1,#T_5dd4f_row0_col2{\n",
       "            background-color:  #dce9f6;\n",
       "            color:  #000000;\n",
       "        }#T_5dd4f_row1_col1{\n",
       "            background-color:  #e1edf8;\n",
       "            color:  #000000;\n",
       "        }#T_5dd4f_row1_col2,#T_5dd4f_row3_col2{\n",
       "            background-color:  #a6cee4;\n",
       "            color:  #000000;\n",
       "        }#T_5dd4f_row2_col1{\n",
       "            background-color:  #e5eff9;\n",
       "            color:  #000000;\n",
       "        }#T_5dd4f_row2_col2{\n",
       "            background-color:  #08306b;\n",
       "            color:  #f1f1f1;\n",
       "        }#T_5dd4f_row3_col1{\n",
       "            background-color:  #eaf3fb;\n",
       "            color:  #000000;\n",
       "        }#T_5dd4f_row4_col1{\n",
       "            background-color:  #edf4fc;\n",
       "            color:  #000000;\n",
       "        }#T_5dd4f_row4_col2{\n",
       "            background-color:  #6dafd7;\n",
       "            color:  #000000;\n",
       "        }#T_5dd4f_row5_col1{\n",
       "            background-color:  #f5fafe;\n",
       "            color:  #000000;\n",
       "        }#T_5dd4f_row5_col2,#T_5dd4f_row6_col2{\n",
       "            background-color:  #f2f8fd;\n",
       "            color:  #000000;\n",
       "        }#T_5dd4f_row6_col1,#T_5dd4f_row7_col1,#T_5dd4f_row8_col1{\n",
       "            background-color:  #f7fbff;\n",
       "            color:  #000000;\n",
       "        }#T_5dd4f_row7_col2{\n",
       "            background-color:  #e9f2fa;\n",
       "            color:  #000000;\n",
       "        }#T_5dd4f_row8_col2{\n",
       "            background-color:  #f4f9fe;\n",
       "            color:  #000000;\n",
       "        }</style><table id=\"T_5dd4f_\" ><thead>    <tr>        <th class=\"blank level0\" ></th>        <th class=\"col_heading level0 col0\" >hypothesis</th>        <th class=\"col_heading level0 col1\" >ICE</th>        <th class=\"col_heading level0 col2\" >RICE</th>    </tr></thead><tbody>\n",
       "                <tr>\n",
       "                        <th id=\"T_5dd4f_level0_row0\" class=\"row_heading level0 row0\" >8</th>\n",
       "                        <td id=\"T_5dd4f_row0_col0\" class=\"data row0 col0\" >Запустить акцию, дающую скидку на товар в день рождения</td>\n",
       "                        <td id=\"T_5dd4f_row0_col1\" class=\"data row0 col1\" >16.200000</td>\n",
       "                        <td id=\"T_5dd4f_row0_col2\" class=\"data row0 col2\" >16.200000</td>\n",
       "            </tr>\n",
       "            <tr>\n",
       "                        <th id=\"T_5dd4f_level0_row1\" class=\"row_heading level0 row1\" >0</th>\n",
       "                        <td id=\"T_5dd4f_row1_col0\" class=\"data row1 col0\" >Добавить два новых канала привлечения трафика, что позволит привлекать на 30% больше пользователей</td>\n",
       "                        <td id=\"T_5dd4f_row1_col1\" class=\"data row1 col1\" >13.300000</td>\n",
       "                        <td id=\"T_5dd4f_row1_col2\" class=\"data row1 col2\" >40.000000</td>\n",
       "            </tr>\n",
       "            <tr>\n",
       "                        <th id=\"T_5dd4f_level0_row2\" class=\"row_heading level0 row2\" >7</th>\n",
       "                        <td id=\"T_5dd4f_row2_col0\" class=\"data row2 col0\" >Добавить форму подписки на все основные страницы, чтобы собрать базу клиентов для email-рассылок</td>\n",
       "                        <td id=\"T_5dd4f_row2_col1\" class=\"data row2 col1\" >11.200000</td>\n",
       "                        <td id=\"T_5dd4f_row2_col2\" class=\"data row2 col2\" >112.000000</td>\n",
       "            </tr>\n",
       "            <tr>\n",
       "                        <th id=\"T_5dd4f_level0_row3\" class=\"row_heading level0 row3\" >6</th>\n",
       "                        <td id=\"T_5dd4f_row3_col0\" class=\"data row3 col0\" >Показать на главной странице баннеры с актуальными акциями и распродажами, чтобы увеличить конверсию</td>\n",
       "                        <td id=\"T_5dd4f_row3_col1\" class=\"data row3 col1\" >8.000000</td>\n",
       "                        <td id=\"T_5dd4f_row3_col2\" class=\"data row3 col2\" >40.000000</td>\n",
       "            </tr>\n",
       "            <tr>\n",
       "                        <th id=\"T_5dd4f_level0_row4\" class=\"row_heading level0 row4\" >2</th>\n",
       "                        <td id=\"T_5dd4f_row4_col0\" class=\"data row4 col0\" >Добавить блоки рекомендаций товаров на сайт интернет магазина, чтобы повысить конверсию и средний чек заказа</td>\n",
       "                        <td id=\"T_5dd4f_row4_col1\" class=\"data row4 col1\" >7.000000</td>\n",
       "                        <td id=\"T_5dd4f_row4_col2\" class=\"data row4 col2\" >56.000000</td>\n",
       "            </tr>\n",
       "            <tr>\n",
       "                        <th id=\"T_5dd4f_level0_row5\" class=\"row_heading level0 row5\" >1</th>\n",
       "                        <td id=\"T_5dd4f_row5_col0\" class=\"data row5 col0\" >Запустить собственную службу доставки, что сократит срок доставки заказов</td>\n",
       "                        <td id=\"T_5dd4f_row5_col1\" class=\"data row5 col1\" >2.000000</td>\n",
       "                        <td id=\"T_5dd4f_row5_col2\" class=\"data row5 col2\" >4.000000</td>\n",
       "            </tr>\n",
       "            <tr>\n",
       "                        <th id=\"T_5dd4f_level0_row6\" class=\"row_heading level0 row6\" >5</th>\n",
       "                        <td id=\"T_5dd4f_row6_col0\" class=\"data row6 col0\" >Добавить страницу отзывов клиентов о магазине, что позволит увеличить количество заказов</td>\n",
       "                        <td id=\"T_5dd4f_row6_col1\" class=\"data row6 col1\" >1.300000</td>\n",
       "                        <td id=\"T_5dd4f_row6_col2\" class=\"data row6 col2\" >4.000000</td>\n",
       "            </tr>\n",
       "            <tr>\n",
       "                        <th id=\"T_5dd4f_level0_row7\" class=\"row_heading level0 row7\" >3</th>\n",
       "                        <td id=\"T_5dd4f_row7_col0\" class=\"data row7 col0\" >Изменить структура категорий, что увеличит конверсию, т.к. пользователи быстрее найдут нужный товар</td>\n",
       "                        <td id=\"T_5dd4f_row7_col1\" class=\"data row7 col1\" >1.100000</td>\n",
       "                        <td id=\"T_5dd4f_row7_col2\" class=\"data row7 col2\" >9.000000</td>\n",
       "            </tr>\n",
       "            <tr>\n",
       "                        <th id=\"T_5dd4f_level0_row8\" class=\"row_heading level0 row8\" >4</th>\n",
       "                        <td id=\"T_5dd4f_row8_col0\" class=\"data row8 col0\" >Изменить цвет фона главной страницы, чтобы увеличить вовлеченность пользователей</td>\n",
       "                        <td id=\"T_5dd4f_row8_col1\" class=\"data row8 col1\" >1.000000</td>\n",
       "                        <td id=\"T_5dd4f_row8_col2\" class=\"data row8 col2\" >3.000000</td>\n",
       "            </tr>\n",
       "    </tbody></table>"
      ],
      "text/plain": [
       "<pandas.io.formats.style.Styler at 0x1d11d26d580>"
      ]
     },
     "execution_count": 21,
     "metadata": {},
     "output_type": "execute_result"
    }
   ],
   "source": [
    "hypothesis[['hypothesis', 'ICE', 'RICE']].sort_values(\n",
    "    by='ICE', ascending=False).style.background_gradient(cmap='Blues', axis=None, low=0)"
   ]
  },
  {
   "cell_type": "markdown",
   "id": "7e1dfc7b",
   "metadata": {},
   "source": [
    "***Вывод***"
   ]
  },
  {
   "cell_type": "markdown",
   "id": "c970ca26",
   "metadata": {},
   "source": [
    "Потенциально успешными гипотезами, учитывая анализ фреймворков ICE и RICE, можно назвать 0, 2, 6 и 7. Гипотеза 8 показывает малые значения охватов, будучи на первом месте по ICE: показатель Reach не изменил итоговый коэффициент. "
   ]
  },
  {
   "cell_type": "markdown",
   "id": "54f0e239",
   "metadata": {},
   "source": [
    "## Часть 2. Анализ А/В-теста."
   ]
  },
  {
   "cell_type": "markdown",
   "id": "a6443972",
   "metadata": {},
   "source": [
    "Сформулируем общие гипотезы. \n",
    "\n",
    "- **Нулевая гипотеза: результаты группы А и группы В по конверсии и среднему чеку равны**\n",
    "- **Альтернативная гипотеза: результаты группы А и группы В по конверсии и среднему чеку различаются**"
   ]
  },
  {
   "cell_type": "markdown",
   "id": "8cc36353",
   "metadata": {},
   "source": [
    "Для анализа результатов тестирования и построения графиков нужно собрать кумулятивные данные. "
   ]
  },
  {
   "cell_type": "code",
   "execution_count": 22,
   "id": "b50f858a",
   "metadata": {},
   "outputs": [],
   "source": [
    "dates_groups = orders[['date', 'group']].drop_duplicates()"
   ]
  },
  {
   "cell_type": "code",
   "execution_count": 23,
   "id": "91b176bc",
   "metadata": {},
   "outputs": [
    {
     "data": {
      "text/html": [
       "<div>\n",
       "<style scoped>\n",
       "    .dataframe tbody tr th:only-of-type {\n",
       "        vertical-align: middle;\n",
       "    }\n",
       "\n",
       "    .dataframe tbody tr th {\n",
       "        vertical-align: top;\n",
       "    }\n",
       "\n",
       "    .dataframe thead th {\n",
       "        text-align: right;\n",
       "    }\n",
       "</style>\n",
       "<table border=\"1\" class=\"dataframe\">\n",
       "  <thead>\n",
       "    <tr style=\"text-align: right;\">\n",
       "      <th></th>\n",
       "      <th>date</th>\n",
       "      <th>group</th>\n",
       "      <th>transactionId</th>\n",
       "      <th>visitorId</th>\n",
       "      <th>revenue</th>\n",
       "    </tr>\n",
       "  </thead>\n",
       "  <tbody>\n",
       "    <tr>\n",
       "      <th>55</th>\n",
       "      <td>2019-08-01</td>\n",
       "      <td>A</td>\n",
       "      <td>23</td>\n",
       "      <td>19</td>\n",
       "      <td>142779</td>\n",
       "    </tr>\n",
       "    <tr>\n",
       "      <th>66</th>\n",
       "      <td>2019-08-01</td>\n",
       "      <td>B</td>\n",
       "      <td>17</td>\n",
       "      <td>17</td>\n",
       "      <td>59758</td>\n",
       "    </tr>\n",
       "    <tr>\n",
       "      <th>175</th>\n",
       "      <td>2019-08-02</td>\n",
       "      <td>A</td>\n",
       "      <td>42</td>\n",
       "      <td>36</td>\n",
       "      <td>234381</td>\n",
       "    </tr>\n",
       "    <tr>\n",
       "      <th>173</th>\n",
       "      <td>2019-08-02</td>\n",
       "      <td>B</td>\n",
       "      <td>40</td>\n",
       "      <td>39</td>\n",
       "      <td>221801</td>\n",
       "    </tr>\n",
       "    <tr>\n",
       "      <th>291</th>\n",
       "      <td>2019-08-03</td>\n",
       "      <td>A</td>\n",
       "      <td>66</td>\n",
       "      <td>60</td>\n",
       "      <td>346854</td>\n",
       "    </tr>\n",
       "  </tbody>\n",
       "</table>\n",
       "</div>"
      ],
      "text/plain": [
       "          date group  transactionId  visitorId  revenue\n",
       "55  2019-08-01     A             23         19   142779\n",
       "66  2019-08-01     B             17         17    59758\n",
       "175 2019-08-02     A             42         36   234381\n",
       "173 2019-08-02     B             40         39   221801\n",
       "291 2019-08-03     A             66         60   346854"
      ]
     },
     "execution_count": 23,
     "metadata": {},
     "output_type": "execute_result"
    }
   ],
   "source": [
    "orders_aggregated = dates_groups.apply(lambda x: orders[\n",
    "    np.logical_and(orders['date'] <= x['date'], orders['group'] == x['group'])].agg(\n",
    "    {'date':'max', 'group':'max', 'transactionId':'nunique', 'visitorId':'nunique', 'revenue':'sum'}), axis=1).sort_values(\n",
    "    by=['date', 'group'])\n",
    "orders_aggregated.head()"
   ]
  },
  {
   "cell_type": "code",
   "execution_count": 24,
   "id": "de2d8d0a",
   "metadata": {},
   "outputs": [
    {
     "data": {
      "text/html": [
       "<div>\n",
       "<style scoped>\n",
       "    .dataframe tbody tr th:only-of-type {\n",
       "        vertical-align: middle;\n",
       "    }\n",
       "\n",
       "    .dataframe tbody tr th {\n",
       "        vertical-align: top;\n",
       "    }\n",
       "\n",
       "    .dataframe thead th {\n",
       "        text-align: right;\n",
       "    }\n",
       "</style>\n",
       "<table border=\"1\" class=\"dataframe\">\n",
       "  <thead>\n",
       "    <tr style=\"text-align: right;\">\n",
       "      <th></th>\n",
       "      <th>date</th>\n",
       "      <th>group</th>\n",
       "      <th>visitors</th>\n",
       "    </tr>\n",
       "  </thead>\n",
       "  <tbody>\n",
       "    <tr>\n",
       "      <th>55</th>\n",
       "      <td>2019-08-01</td>\n",
       "      <td>A</td>\n",
       "      <td>719</td>\n",
       "    </tr>\n",
       "    <tr>\n",
       "      <th>66</th>\n",
       "      <td>2019-08-01</td>\n",
       "      <td>B</td>\n",
       "      <td>713</td>\n",
       "    </tr>\n",
       "    <tr>\n",
       "      <th>175</th>\n",
       "      <td>2019-08-02</td>\n",
       "      <td>A</td>\n",
       "      <td>1338</td>\n",
       "    </tr>\n",
       "    <tr>\n",
       "      <th>173</th>\n",
       "      <td>2019-08-02</td>\n",
       "      <td>B</td>\n",
       "      <td>1294</td>\n",
       "    </tr>\n",
       "    <tr>\n",
       "      <th>291</th>\n",
       "      <td>2019-08-03</td>\n",
       "      <td>A</td>\n",
       "      <td>1845</td>\n",
       "    </tr>\n",
       "  </tbody>\n",
       "</table>\n",
       "</div>"
      ],
      "text/plain": [
       "          date group  visitors\n",
       "55  2019-08-01     A       719\n",
       "66  2019-08-01     B       713\n",
       "175 2019-08-02     A      1338\n",
       "173 2019-08-02     B      1294\n",
       "291 2019-08-03     A      1845"
      ]
     },
     "execution_count": 24,
     "metadata": {},
     "output_type": "execute_result"
    }
   ],
   "source": [
    "visitors_aggregated = dates_groups.apply(lambda x: visitors[\n",
    "    np.logical_and(visitors['date'] <= x['date'], visitors['group'] == x['group'])].agg(\n",
    "    {'date':'max', 'group':'max', 'visitors':'sum'}), axis=1).sort_values(\n",
    "    by=['date', 'group'])\n",
    "visitors_aggregated.head()"
   ]
  },
  {
   "cell_type": "code",
   "execution_count": 25,
   "id": "2f929910",
   "metadata": {},
   "outputs": [
    {
     "data": {
      "text/html": [
       "<div>\n",
       "<style scoped>\n",
       "    .dataframe tbody tr th:only-of-type {\n",
       "        vertical-align: middle;\n",
       "    }\n",
       "\n",
       "    .dataframe tbody tr th {\n",
       "        vertical-align: top;\n",
       "    }\n",
       "\n",
       "    .dataframe thead th {\n",
       "        text-align: right;\n",
       "    }\n",
       "</style>\n",
       "<table border=\"1\" class=\"dataframe\">\n",
       "  <thead>\n",
       "    <tr style=\"text-align: right;\">\n",
       "      <th></th>\n",
       "      <th>date</th>\n",
       "      <th>group</th>\n",
       "      <th>transactions</th>\n",
       "      <th>buyers</th>\n",
       "      <th>revenue</th>\n",
       "      <th>visitors</th>\n",
       "    </tr>\n",
       "  </thead>\n",
       "  <tbody>\n",
       "    <tr>\n",
       "      <th>0</th>\n",
       "      <td>2019-08-01</td>\n",
       "      <td>A</td>\n",
       "      <td>23</td>\n",
       "      <td>19</td>\n",
       "      <td>142779</td>\n",
       "      <td>719</td>\n",
       "    </tr>\n",
       "    <tr>\n",
       "      <th>1</th>\n",
       "      <td>2019-08-01</td>\n",
       "      <td>B</td>\n",
       "      <td>17</td>\n",
       "      <td>17</td>\n",
       "      <td>59758</td>\n",
       "      <td>713</td>\n",
       "    </tr>\n",
       "    <tr>\n",
       "      <th>2</th>\n",
       "      <td>2019-08-02</td>\n",
       "      <td>A</td>\n",
       "      <td>42</td>\n",
       "      <td>36</td>\n",
       "      <td>234381</td>\n",
       "      <td>1338</td>\n",
       "    </tr>\n",
       "    <tr>\n",
       "      <th>3</th>\n",
       "      <td>2019-08-02</td>\n",
       "      <td>B</td>\n",
       "      <td>40</td>\n",
       "      <td>39</td>\n",
       "      <td>221801</td>\n",
       "      <td>1294</td>\n",
       "    </tr>\n",
       "    <tr>\n",
       "      <th>4</th>\n",
       "      <td>2019-08-03</td>\n",
       "      <td>A</td>\n",
       "      <td>66</td>\n",
       "      <td>60</td>\n",
       "      <td>346854</td>\n",
       "      <td>1845</td>\n",
       "    </tr>\n",
       "  </tbody>\n",
       "</table>\n",
       "</div>"
      ],
      "text/plain": [
       "        date group  transactions  buyers  revenue  visitors\n",
       "0 2019-08-01     A            23      19   142779       719\n",
       "1 2019-08-01     B            17      17    59758       713\n",
       "2 2019-08-02     A            42      36   234381      1338\n",
       "3 2019-08-02     B            40      39   221801      1294\n",
       "4 2019-08-03     A            66      60   346854      1845"
      ]
     },
     "execution_count": 25,
     "metadata": {},
     "output_type": "execute_result"
    }
   ],
   "source": [
    "cumulative_data = orders_aggregated.merge(visitors_aggregated, left_on=['date', 'group'], right_on=['date', 'group'])\n",
    "cumulative_data.columns = ['date', 'group', 'transactions', 'buyers', 'revenue', 'visitors']\n",
    "cumulative_data.head()"
   ]
  },
  {
   "cell_type": "markdown",
   "id": "45f198e8",
   "metadata": {},
   "source": [
    "Посчитаем кумулятивную выручку по группам и построим графики."
   ]
  },
  {
   "cell_type": "code",
   "execution_count": 26,
   "id": "9dbd2c6e",
   "metadata": {},
   "outputs": [
    {
     "data": {
      "text/html": [
       "<div>\n",
       "<style scoped>\n",
       "    .dataframe tbody tr th:only-of-type {\n",
       "        vertical-align: middle;\n",
       "    }\n",
       "\n",
       "    .dataframe tbody tr th {\n",
       "        vertical-align: top;\n",
       "    }\n",
       "\n",
       "    .dataframe thead th {\n",
       "        text-align: right;\n",
       "    }\n",
       "</style>\n",
       "<table border=\"1\" class=\"dataframe\">\n",
       "  <thead>\n",
       "    <tr style=\"text-align: right;\">\n",
       "      <th></th>\n",
       "      <th>date</th>\n",
       "      <th>revenue</th>\n",
       "      <th>transactions</th>\n",
       "    </tr>\n",
       "  </thead>\n",
       "  <tbody>\n",
       "    <tr>\n",
       "      <th>0</th>\n",
       "      <td>2019-08-01</td>\n",
       "      <td>142779</td>\n",
       "      <td>23</td>\n",
       "    </tr>\n",
       "    <tr>\n",
       "      <th>2</th>\n",
       "      <td>2019-08-02</td>\n",
       "      <td>234381</td>\n",
       "      <td>42</td>\n",
       "    </tr>\n",
       "    <tr>\n",
       "      <th>4</th>\n",
       "      <td>2019-08-03</td>\n",
       "      <td>346854</td>\n",
       "      <td>66</td>\n",
       "    </tr>\n",
       "    <tr>\n",
       "      <th>6</th>\n",
       "      <td>2019-08-04</td>\n",
       "      <td>388030</td>\n",
       "      <td>77</td>\n",
       "    </tr>\n",
       "    <tr>\n",
       "      <th>8</th>\n",
       "      <td>2019-08-05</td>\n",
       "      <td>474413</td>\n",
       "      <td>99</td>\n",
       "    </tr>\n",
       "  </tbody>\n",
       "</table>\n",
       "</div>"
      ],
      "text/plain": [
       "        date  revenue  transactions\n",
       "0 2019-08-01   142779            23\n",
       "2 2019-08-02   234381            42\n",
       "4 2019-08-03   346854            66\n",
       "6 2019-08-04   388030            77\n",
       "8 2019-08-05   474413            99"
      ]
     },
     "execution_count": 26,
     "metadata": {},
     "output_type": "execute_result"
    }
   ],
   "source": [
    "cumulative_revenue_A = cumulative_data[cumulative_data['group'] == 'A'][['date', 'revenue', 'transactions']]\n",
    "cumulative_revenue_A.head()"
   ]
  },
  {
   "cell_type": "code",
   "execution_count": 27,
   "id": "30d12d0e",
   "metadata": {},
   "outputs": [
    {
     "data": {
      "text/html": [
       "<div>\n",
       "<style scoped>\n",
       "    .dataframe tbody tr th:only-of-type {\n",
       "        vertical-align: middle;\n",
       "    }\n",
       "\n",
       "    .dataframe tbody tr th {\n",
       "        vertical-align: top;\n",
       "    }\n",
       "\n",
       "    .dataframe thead th {\n",
       "        text-align: right;\n",
       "    }\n",
       "</style>\n",
       "<table border=\"1\" class=\"dataframe\">\n",
       "  <thead>\n",
       "    <tr style=\"text-align: right;\">\n",
       "      <th></th>\n",
       "      <th>date</th>\n",
       "      <th>revenue</th>\n",
       "      <th>transactions</th>\n",
       "    </tr>\n",
       "  </thead>\n",
       "  <tbody>\n",
       "    <tr>\n",
       "      <th>1</th>\n",
       "      <td>2019-08-01</td>\n",
       "      <td>59758</td>\n",
       "      <td>17</td>\n",
       "    </tr>\n",
       "    <tr>\n",
       "      <th>3</th>\n",
       "      <td>2019-08-02</td>\n",
       "      <td>221801</td>\n",
       "      <td>40</td>\n",
       "    </tr>\n",
       "    <tr>\n",
       "      <th>5</th>\n",
       "      <td>2019-08-03</td>\n",
       "      <td>288850</td>\n",
       "      <td>54</td>\n",
       "    </tr>\n",
       "    <tr>\n",
       "      <th>7</th>\n",
       "      <td>2019-08-04</td>\n",
       "      <td>385740</td>\n",
       "      <td>68</td>\n",
       "    </tr>\n",
       "    <tr>\n",
       "      <th>9</th>\n",
       "      <td>2019-08-05</td>\n",
       "      <td>475648</td>\n",
       "      <td>89</td>\n",
       "    </tr>\n",
       "  </tbody>\n",
       "</table>\n",
       "</div>"
      ],
      "text/plain": [
       "        date  revenue  transactions\n",
       "1 2019-08-01    59758            17\n",
       "3 2019-08-02   221801            40\n",
       "5 2019-08-03   288850            54\n",
       "7 2019-08-04   385740            68\n",
       "9 2019-08-05   475648            89"
      ]
     },
     "execution_count": 27,
     "metadata": {},
     "output_type": "execute_result"
    }
   ],
   "source": [
    "cumulative_revenue_B = cumulative_data[cumulative_data['group'] == 'B'][['date', 'revenue', 'transactions']]\n",
    "cumulative_revenue_B.head()"
   ]
  },
  {
   "cell_type": "code",
   "execution_count": 28,
   "id": "ca4ce3c1",
   "metadata": {},
   "outputs": [
    {
     "data": {
      "image/png": "[encoded data removed]",
      "text/plain": [
       "<Figure size 1080x504 with 1 Axes>"
      ]
     },
     "metadata": {
      "needs_background": "light"
     },
     "output_type": "display_data"
    }
   ],
   "source": [
    "fig, ax = plt.subplots(figsize=(15, 7))\n",
    "plt.plot(cumulative_revenue_A['date'], cumulative_revenue_A['revenue'], label='A')\n",
    "plt.plot(cumulative_revenue_B['date'], cumulative_revenue_B['revenue'], label='B')\n",
    "ax.set_title('Кумулятивная выручка в группах А и В')\n",
    "ax.set_xlabel('Дата')\n",
    "ax.set_ylabel('Выручка')\n",
    "ax.grid()\n",
    "plt.legend()\n",
    "plt.show()"
   ]
  },
  {
   "cell_type": "markdown",
   "id": "a4dc8242",
   "metadata": {},
   "source": [
    "Обе линии растут со временем. В середине графика выручка группы В резко превышает значения группы А. 18 августа кумулятивная выручка группы В меняет значение с 2,7 млн. до 4,1 млн., затем растет параллельно графику группы А. Вероятно, это связано с особо крупным заказом в эту дату. "
   ]
  },
  {
   "cell_type": "markdown",
   "id": "e11e4da3",
   "metadata": {},
   "source": [
    "Теперь построим график кумулятивного среднего чека по группам."
   ]
  },
  {
   "cell_type": "code",
   "execution_count": 29,
   "id": "a7d64d28",
   "metadata": {},
   "outputs": [
    {
     "data": {
      "image/png": "[encoded data removed]",
      "text/plain": [
       "<Figure size 1080x504 with 1 Axes>"
      ]
     },
     "metadata": {
      "needs_background": "light"
     },
     "output_type": "display_data"
    }
   ],
   "source": [
    "fig, ax = plt.subplots(figsize=(15, 7))\n",
    "plt.plot(cumulative_revenue_A['date'], cumulative_revenue_A['revenue']/cumulative_revenue_A['transactions'], label='A')\n",
    "plt.plot(cumulative_revenue_B['date'], cumulative_revenue_B['revenue']/cumulative_revenue_B['transactions'], label='B')\n",
    "ax.set_title('Кумулятивный средний чек в группах А и В')\n",
    "ax.set_xlabel('Дата')\n",
    "ax.set_ylabel('Средний чек')\n",
    "ax.grid()\n",
    "plt.legend()\n",
    "plt.show()"
   ]
  },
  {
   "cell_type": "markdown",
   "id": "05c4a444",
   "metadata": {},
   "source": [
    "Графики среднего чека менее статичны. Линия группы А растет до 13 августа, затем практически выравнивается около значения в 7 тысяч. График группы В 18 августа резко поднимается вверх, затем немного спадает. Разница между значениями более 3 тысяч. Это подтверждает тезис о том, что необходимо очистить группы от выбросов. "
   ]
  },
  {
   "cell_type": "markdown",
   "id": "995dc9d5",
   "metadata": {},
   "source": [
    "Следующий шаг - расчет относительного изменения кумулятивного среднего чека группы В к группе А. "
   ]
  },
  {
   "cell_type": "code",
   "execution_count": 30,
   "id": "f28ef2cd",
   "metadata": {},
   "outputs": [
    {
     "data": {
      "text/html": [
       "<div>\n",
       "<style scoped>\n",
       "    .dataframe tbody tr th:only-of-type {\n",
       "        vertical-align: middle;\n",
       "    }\n",
       "\n",
       "    .dataframe tbody tr th {\n",
       "        vertical-align: top;\n",
       "    }\n",
       "\n",
       "    .dataframe thead th {\n",
       "        text-align: right;\n",
       "    }\n",
       "</style>\n",
       "<table border=\"1\" class=\"dataframe\">\n",
       "  <thead>\n",
       "    <tr style=\"text-align: right;\">\n",
       "      <th></th>\n",
       "      <th>date</th>\n",
       "      <th>revenueA</th>\n",
       "      <th>transactionsA</th>\n",
       "      <th>revenueB</th>\n",
       "      <th>transactionsB</th>\n",
       "    </tr>\n",
       "  </thead>\n",
       "  <tbody>\n",
       "    <tr>\n",
       "      <th>0</th>\n",
       "      <td>2019-08-01</td>\n",
       "      <td>142779</td>\n",
       "      <td>23</td>\n",
       "      <td>59758</td>\n",
       "      <td>17</td>\n",
       "    </tr>\n",
       "    <tr>\n",
       "      <th>1</th>\n",
       "      <td>2019-08-02</td>\n",
       "      <td>234381</td>\n",
       "      <td>42</td>\n",
       "      <td>221801</td>\n",
       "      <td>40</td>\n",
       "    </tr>\n",
       "    <tr>\n",
       "      <th>2</th>\n",
       "      <td>2019-08-03</td>\n",
       "      <td>346854</td>\n",
       "      <td>66</td>\n",
       "      <td>288850</td>\n",
       "      <td>54</td>\n",
       "    </tr>\n",
       "    <tr>\n",
       "      <th>3</th>\n",
       "      <td>2019-08-04</td>\n",
       "      <td>388030</td>\n",
       "      <td>77</td>\n",
       "      <td>385740</td>\n",
       "      <td>68</td>\n",
       "    </tr>\n",
       "    <tr>\n",
       "      <th>4</th>\n",
       "      <td>2019-08-05</td>\n",
       "      <td>474413</td>\n",
       "      <td>99</td>\n",
       "      <td>475648</td>\n",
       "      <td>89</td>\n",
       "    </tr>\n",
       "  </tbody>\n",
       "</table>\n",
       "</div>"
      ],
      "text/plain": [
       "        date  revenueA  transactionsA  revenueB  transactionsB\n",
       "0 2019-08-01    142779             23     59758             17\n",
       "1 2019-08-02    234381             42    221801             40\n",
       "2 2019-08-03    346854             66    288850             54\n",
       "3 2019-08-04    388030             77    385740             68\n",
       "4 2019-08-05    474413             99    475648             89"
      ]
     },
     "execution_count": 30,
     "metadata": {},
     "output_type": "execute_result"
    }
   ],
   "source": [
    "merged_cumulative_revenue = cumulative_revenue_A.merge(\n",
    "    cumulative_revenue_B, left_on='date', right_on='date', how='left', suffixes=['A', 'B'])\n",
    "merged_cumulative_revenue.head()"
   ]
  },
  {
   "cell_type": "code",
   "execution_count": 31,
   "id": "d22d356e",
   "metadata": {},
   "outputs": [
    {
     "data": {
      "image/png": "[encoded data removed]",
      "text/plain": [
       "<Figure size 1080x504 with 1 Axes>"
      ]
     },
     "metadata": {
      "needs_background": "light"
     },
     "output_type": "display_data"
    }
   ],
   "source": [
    "fig, ax = plt.subplots(figsize=(15, 7))\n",
    "plt.plot(merged_cumulative_revenue['date'], (merged_cumulative_revenue['revenueB']/merged_cumulative_revenue['transactionsB'])/(\n",
    "    merged_cumulative_revenue['revenueA']/merged_cumulative_revenue['transactionsA']))\n",
    "ax.set_title('Относительное изменение среднего чека группы В к группе А')\n",
    "ax.set_xlabel('Дата')\n",
    "ax.set_ylabel('Различие')\n",
    "ax.grid()\n",
    "plt.axhline(y=1, color='black', linestyle='--') \n",
    "plt.show()"
   ]
  },
  {
   "cell_type": "markdown",
   "id": "7e0ea593",
   "metadata": {},
   "source": [
    "Средний чек группы В сильно выше среднего чека группы А. График динамичный, минимальное значение находится у отметки в 0,6, максимальное - 1,5. В некоторые даты наблюдаются особо крупная разница в значениях."
   ]
  },
  {
   "cell_type": "markdown",
   "id": "7e9334ac",
   "metadata": {},
   "source": [
    "Далее посчитаем кумулятивную конверсию."
   ]
  },
  {
   "cell_type": "code",
   "execution_count": 32,
   "id": "ea9fa61e",
   "metadata": {},
   "outputs": [],
   "source": [
    "cumulative_data['conversion'] = cumulative_data['transactions'] / cumulative_data['visitors']\n",
    "cumulative_data_A = cumulative_data[cumulative_data['group'] == 'A']\n",
    "cumulative_data_B = cumulative_data[cumulative_data['group'] == 'B']"
   ]
  },
  {
   "cell_type": "code",
   "execution_count": 33,
   "id": "92b2f3cb",
   "metadata": {},
   "outputs": [
    {
     "data": {
      "image/png": "[encoded data removed]",
      "text/plain": [
       "<Figure size 1080x504 with 1 Axes>"
      ]
     },
     "metadata": {
      "needs_background": "light"
     },
     "output_type": "display_data"
    }
   ],
   "source": [
    "fig, ax = plt.subplots(figsize=(15, 7))\n",
    "plt.plot(cumulative_data_A['date'], cumulative_data_A['conversion'], label='A')\n",
    "plt.plot(cumulative_data_B['date'], cumulative_data_B['conversion'], label='B')\n",
    "ax.set_title('Кумулятивная конверсия в группах А и В')\n",
    "ax.set_xlabel('Дата')\n",
    "ax.set_ylabel('Конверсия')\n",
    "ax.grid()\n",
    "plt.legend()\n",
    "plt.show()"
   ]
  },
  {
   "cell_type": "markdown",
   "id": "30e5ef67",
   "metadata": {},
   "source": [
    "В начале теста конверсия группы А значительно превышала конверсию группы В, однако, 6 августа графики пересекаются и кумулятивная конверсия группы В становится выше, но постепенно идет на спад к значениям около 0,029, в то время как конверсия А колеблется около 0,025.  "
   ]
  },
  {
   "cell_type": "markdown",
   "id": "7e94b1b0",
   "metadata": {},
   "source": [
    "Также построим график относительного изменения кумулятивной конверсии группы В к группе А. "
   ]
  },
  {
   "cell_type": "code",
   "execution_count": 34,
   "id": "59785ed7",
   "metadata": {},
   "outputs": [
    {
     "data": {
      "text/html": [
       "<div>\n",
       "<style scoped>\n",
       "    .dataframe tbody tr th:only-of-type {\n",
       "        vertical-align: middle;\n",
       "    }\n",
       "\n",
       "    .dataframe tbody tr th {\n",
       "        vertical-align: top;\n",
       "    }\n",
       "\n",
       "    .dataframe thead th {\n",
       "        text-align: right;\n",
       "    }\n",
       "</style>\n",
       "<table border=\"1\" class=\"dataframe\">\n",
       "  <thead>\n",
       "    <tr style=\"text-align: right;\">\n",
       "      <th></th>\n",
       "      <th>date</th>\n",
       "      <th>conversionA</th>\n",
       "      <th>conversionB</th>\n",
       "    </tr>\n",
       "  </thead>\n",
       "  <tbody>\n",
       "    <tr>\n",
       "      <th>0</th>\n",
       "      <td>2019-08-01</td>\n",
       "      <td>0.031989</td>\n",
       "      <td>0.023843</td>\n",
       "    </tr>\n",
       "    <tr>\n",
       "      <th>1</th>\n",
       "      <td>2019-08-02</td>\n",
       "      <td>0.031390</td>\n",
       "      <td>0.030912</td>\n",
       "    </tr>\n",
       "    <tr>\n",
       "      <th>2</th>\n",
       "      <td>2019-08-03</td>\n",
       "      <td>0.035772</td>\n",
       "      <td>0.029950</td>\n",
       "    </tr>\n",
       "    <tr>\n",
       "      <th>3</th>\n",
       "      <td>2019-08-04</td>\n",
       "      <td>0.030055</td>\n",
       "      <td>0.026428</td>\n",
       "    </tr>\n",
       "    <tr>\n",
       "      <th>4</th>\n",
       "      <td>2019-08-05</td>\n",
       "      <td>0.029837</td>\n",
       "      <td>0.027134</td>\n",
       "    </tr>\n",
       "  </tbody>\n",
       "</table>\n",
       "</div>"
      ],
      "text/plain": [
       "        date  conversionA  conversionB\n",
       "0 2019-08-01     0.031989     0.023843\n",
       "1 2019-08-02     0.031390     0.030912\n",
       "2 2019-08-03     0.035772     0.029950\n",
       "3 2019-08-04     0.030055     0.026428\n",
       "4 2019-08-05     0.029837     0.027134"
      ]
     },
     "execution_count": 34,
     "metadata": {},
     "output_type": "execute_result"
    }
   ],
   "source": [
    "merged_cumulative_conversion = cumulative_data_A[['date', 'conversion']].merge(\n",
    "    cumulative_data_B[['date', 'conversion']], left_on='date', right_on='date', how='left', suffixes=['A', 'B'])\n",
    "merged_cumulative_conversion.head()"
   ]
  },
  {
   "cell_type": "code",
   "execution_count": 35,
   "id": "bd36039d",
   "metadata": {},
   "outputs": [
    {
     "data": {
      "image/png": "[encoded data removed]",
      "text/plain": [
       "<Figure size 1080x504 with 1 Axes>"
      ]
     },
     "metadata": {
      "needs_background": "light"
     },
     "output_type": "display_data"
    }
   ],
   "source": [
    "fig, ax = plt.subplots(figsize=(15, 7))\n",
    "plt.plot(merged_cumulative_conversion['date'], merged_cumulative_conversion['conversionB']/merged_cumulative_conversion['conversionA'])\n",
    "ax.set_title('Относительное изменение конверсии группы В к группе А')\n",
    "ax.set_xlabel('Дата')\n",
    "ax.set_ylabel('Различие')\n",
    "ax.grid()\n",
    "plt.axhline(y=1, color='black', linestyle='--') \n",
    "plt.show()"
   ]
  },
  {
   "cell_type": "markdown",
   "id": "70af9f32",
   "metadata": {},
   "source": [
    "График относительного изменения конверсии также показывает резкое превалирование значений конверсии в группе В, которая растет с 3 по 10 августа, затем разница колеблется около коэффициента 1.15."
   ]
  },
  {
   "cell_type": "markdown",
   "id": "24eee768",
   "metadata": {},
   "source": [
    "Теперь посмотрим на количество заказов на пользователя. "
   ]
  },
  {
   "cell_type": "code",
   "execution_count": 36,
   "id": "a4e7663b",
   "metadata": {},
   "outputs": [],
   "source": [
    "orders_per_user = orders.drop(['date', 'revenue', 'group'], axis=1).groupby(\n",
    "    'visitorId', as_index=False).agg({'transactionId':'nunique'})\n",
    "orders_per_user.columns = ['users', 'orders'] "
   ]
  },
  {
   "cell_type": "code",
   "execution_count": 37,
   "id": "9f1d1cc1",
   "metadata": {},
   "outputs": [],
   "source": [
    "x_values_users = pd.Series(range(0, len(orders_per_user)))"
   ]
  },
  {
   "cell_type": "code",
   "execution_count": 38,
   "id": "137efb21",
   "metadata": {},
   "outputs": [
    {
     "data": {
      "image/png": "[encoded data removed]",
      "text/plain": [
       "<Figure size 1080x504 with 1 Axes>"
      ]
     },
     "metadata": {
      "needs_background": "light"
     },
     "output_type": "display_data"
    }
   ],
   "source": [
    "fig, ax=plt.subplots(figsize=(15, 7))\n",
    "plt.scatter(x_values_users, orders_per_user['orders'])\n",
    "ax.set_title('Количество заказов на пользователя')\n",
    "ax.set_xlabel('Пользователи')\n",
    "ax.set_ylabel('Заказы')\n",
    "plt.show()"
   ]
  },
  {
   "cell_type": "markdown",
   "id": "b3f95100",
   "metadata": {},
   "source": [
    "Большинство пользователей совершает 1 заказ. Намного меньше тех, кто делает два заказа. Очевидные выбросы - пользователи, совершившие 3 заказа, их всего 7. Чтобы выбрать границу для определения аномалий, посчитаем 95-й и 99-й перцентили количества заказов на пользователя."
   ]
  },
  {
   "cell_type": "code",
   "execution_count": 39,
   "id": "c45d9b80",
   "metadata": {},
   "outputs": [
    {
     "data": {
      "text/plain": [
       "array([1., 2.])"
      ]
     },
     "execution_count": 39,
     "metadata": {},
     "output_type": "execute_result"
    }
   ],
   "source": [
    "np.percentile(orders_per_user['orders'], [95, 99])"
   ]
  },
  {
   "cell_type": "markdown",
   "id": "474b17c8",
   "metadata": {},
   "source": [
    "95% пользовалей совершает 1 заказ. Не более 1% покупателей делает более 2 заказов. "
   ]
  },
  {
   "cell_type": "markdown",
   "id": "65fc9565",
   "metadata": {},
   "source": [
    "Теперь посмотрим на точечное распределение стоимости заказа."
   ]
  },
  {
   "cell_type": "code",
   "execution_count": 40,
   "id": "64c105d8",
   "metadata": {},
   "outputs": [],
   "source": [
    "x_values_revenue = pd.Series(range(0, len(orders['revenue'])))"
   ]
  },
  {
   "cell_type": "code",
   "execution_count": 41,
   "id": "e5d3221a",
   "metadata": {},
   "outputs": [
    {
     "data": {
      "image/png": "[encoded data removed]",
      "text/plain": [
       "<Figure size 1080x504 with 1 Axes>"
      ]
     },
     "metadata": {
      "needs_background": "light"
     },
     "output_type": "display_data"
    }
   ],
   "source": [
    "fig, ax=plt.subplots(figsize=(15, 7))\n",
    "plt.scatter(x_values_revenue, orders['revenue'])\n",
    "ax.set_title('Распределение стоимости')\n",
    "ax.set_xlabel('Заказы')\n",
    "ax.set_ylabel('Выручка')\n",
    "plt.show()"
   ]
  },
  {
   "cell_type": "code",
   "execution_count": 42,
   "id": "d578c290",
   "metadata": {},
   "outputs": [
    {
     "data": {
      "text/plain": [
       "count    1.016000e+03\n",
       "mean     8.300815e+03\n",
       "std      4.212199e+04\n",
       "min      5.000000e+01\n",
       "25%      1.190000e+03\n",
       "50%      2.955000e+03\n",
       "75%      8.134250e+03\n",
       "max      1.294500e+06\n",
       "Name: revenue, dtype: float64"
      ]
     },
     "execution_count": 42,
     "metadata": {},
     "output_type": "execute_result"
    }
   ],
   "source": [
    "orders['revenue'].describe()"
   ]
  },
  {
   "cell_type": "markdown",
   "id": "1b9b898c",
   "metadata": {},
   "source": [
    "В среднем, стоимость заказов не превышает отметку в 30 тысяч. Наблюдается один пользователь, совершивший покупку на более чем 1,2 млн. и один пользователь, стоимость покупки которого более 200 тысяч. Выбросы очевидны. Предыдущие графики среднего чека принимают более понятное объяснение. Посчитаем статистические аномалии. "
   ]
  },
  {
   "cell_type": "code",
   "execution_count": 43,
   "id": "baff9c89",
   "metadata": {},
   "outputs": [
    {
     "data": {
      "text/plain": [
       "array([26785., 53904.])"
      ]
     },
     "execution_count": 43,
     "metadata": {},
     "output_type": "execute_result"
    }
   ],
   "source": [
    "np.percentile(orders['revenue'], [95, 99])"
   ]
  },
  {
   "cell_type": "markdown",
   "id": "befffc28",
   "metadata": {},
   "source": [
    "Не более 5% покупателей делают заказы стоимостью выше 26,8 тысяч. Не более 1% - выше 53,9 тысячи."
   ]
  },
  {
   "cell_type": "markdown",
   "id": "2763b44f",
   "metadata": {},
   "source": [
    "Посчитаем статистическую значимость различий в конверсии и среднем чеке между группами по «сырым» данным - без удаления аномальных пользователей.  "
   ]
  },
  {
   "cell_type": "code",
   "execution_count": 44,
   "id": "c0a0fba6",
   "metadata": {},
   "outputs": [
    {
     "data": {
      "text/html": [
       "<div>\n",
       "<style scoped>\n",
       "    .dataframe tbody tr th:only-of-type {\n",
       "        vertical-align: middle;\n",
       "    }\n",
       "\n",
       "    .dataframe tbody tr th {\n",
       "        vertical-align: top;\n",
       "    }\n",
       "\n",
       "    .dataframe thead th {\n",
       "        text-align: right;\n",
       "    }\n",
       "</style>\n",
       "<table border=\"1\" class=\"dataframe\">\n",
       "  <thead>\n",
       "    <tr style=\"text-align: right;\">\n",
       "      <th></th>\n",
       "      <th>date</th>\n",
       "      <th>orders_cumulative_A</th>\n",
       "      <th>revenue_cumulative_A</th>\n",
       "    </tr>\n",
       "  </thead>\n",
       "  <tbody>\n",
       "    <tr>\n",
       "      <th>0</th>\n",
       "      <td>2019-08-01</td>\n",
       "      <td>23</td>\n",
       "      <td>142779</td>\n",
       "    </tr>\n",
       "    <tr>\n",
       "      <th>1</th>\n",
       "      <td>2019-08-02</td>\n",
       "      <td>42</td>\n",
       "      <td>234381</td>\n",
       "    </tr>\n",
       "    <tr>\n",
       "      <th>2</th>\n",
       "      <td>2019-08-03</td>\n",
       "      <td>66</td>\n",
       "      <td>346854</td>\n",
       "    </tr>\n",
       "    <tr>\n",
       "      <th>3</th>\n",
       "      <td>2019-08-04</td>\n",
       "      <td>77</td>\n",
       "      <td>388030</td>\n",
       "    </tr>\n",
       "    <tr>\n",
       "      <th>4</th>\n",
       "      <td>2019-08-05</td>\n",
       "      <td>99</td>\n",
       "      <td>474413</td>\n",
       "    </tr>\n",
       "  </tbody>\n",
       "</table>\n",
       "</div>"
      ],
      "text/plain": [
       "        date  orders_cumulative_A  revenue_cumulative_A\n",
       "0 2019-08-01                   23                142779\n",
       "1 2019-08-02                   42                234381\n",
       "2 2019-08-03                   66                346854\n",
       "3 2019-08-04                   77                388030\n",
       "4 2019-08-05                   99                474413"
      ]
     },
     "execution_count": 44,
     "metadata": {},
     "output_type": "execute_result"
    }
   ],
   "source": [
    "orders_A_daily = orders[orders['group'] == 'A'][['date', 'transactionId', 'visitorId', 'revenue']].groupby(\n",
    "    'date', as_index=False).agg({'transactionId':'nunique', 'revenue':'sum'})\n",
    "orders_A_daily.columns = ['date', 'order_per_date_A', 'revenue_per_date_A']\n",
    "orders_A_cumulative = orders_A_daily.apply(lambda x: orders_A_daily[orders_A_daily['date'] <= x['date']].agg(\n",
    "    {'date':'max', 'order_per_date_A':'sum', 'revenue_per_date_A':'sum'}), axis=1).sort_values(by=['date'])\n",
    "orders_A_cumulative.columns = ['date', 'orders_cumulative_A', 'revenue_cumulative_A']\n",
    "orders_A_cumulative.head()"
   ]
  },
  {
   "cell_type": "code",
   "execution_count": 45,
   "id": "61ac7fb8",
   "metadata": {},
   "outputs": [
    {
     "data": {
      "text/html": [
       "<div>\n",
       "<style scoped>\n",
       "    .dataframe tbody tr th:only-of-type {\n",
       "        vertical-align: middle;\n",
       "    }\n",
       "\n",
       "    .dataframe tbody tr th {\n",
       "        vertical-align: top;\n",
       "    }\n",
       "\n",
       "    .dataframe thead th {\n",
       "        text-align: right;\n",
       "    }\n",
       "</style>\n",
       "<table border=\"1\" class=\"dataframe\">\n",
       "  <thead>\n",
       "    <tr style=\"text-align: right;\">\n",
       "      <th></th>\n",
       "      <th>date</th>\n",
       "      <th>orders_cumulative_B</th>\n",
       "      <th>revenue_cumulative_B</th>\n",
       "    </tr>\n",
       "  </thead>\n",
       "  <tbody>\n",
       "    <tr>\n",
       "      <th>0</th>\n",
       "      <td>2019-08-01</td>\n",
       "      <td>17</td>\n",
       "      <td>59758</td>\n",
       "    </tr>\n",
       "    <tr>\n",
       "      <th>1</th>\n",
       "      <td>2019-08-02</td>\n",
       "      <td>40</td>\n",
       "      <td>221801</td>\n",
       "    </tr>\n",
       "    <tr>\n",
       "      <th>2</th>\n",
       "      <td>2019-08-03</td>\n",
       "      <td>54</td>\n",
       "      <td>288850</td>\n",
       "    </tr>\n",
       "    <tr>\n",
       "      <th>3</th>\n",
       "      <td>2019-08-04</td>\n",
       "      <td>68</td>\n",
       "      <td>385740</td>\n",
       "    </tr>\n",
       "    <tr>\n",
       "      <th>4</th>\n",
       "      <td>2019-08-05</td>\n",
       "      <td>89</td>\n",
       "      <td>475648</td>\n",
       "    </tr>\n",
       "  </tbody>\n",
       "</table>\n",
       "</div>"
      ],
      "text/plain": [
       "        date  orders_cumulative_B  revenue_cumulative_B\n",
       "0 2019-08-01                   17                 59758\n",
       "1 2019-08-02                   40                221801\n",
       "2 2019-08-03                   54                288850\n",
       "3 2019-08-04                   68                385740\n",
       "4 2019-08-05                   89                475648"
      ]
     },
     "execution_count": 45,
     "metadata": {},
     "output_type": "execute_result"
    }
   ],
   "source": [
    "orders_B_daily = orders[orders['group'] == 'B'][['date', 'transactionId', 'visitorId', 'revenue']].groupby(\n",
    "    'date', as_index=False).agg({'transactionId':'nunique', 'revenue':'sum'})\n",
    "orders_B_daily.columns = ['date', 'order_per_date_B', 'revenue_per_date_B']\n",
    "orders_B_cumulative = orders_B_daily.apply(lambda x: orders_B_daily[orders_B_daily['date'] <= x['date']].agg(\n",
    "    {'date':'max', 'order_per_date_B':'sum', 'revenue_per_date_B':'sum'}), axis=1).sort_values(by=['date'])\n",
    "orders_B_cumulative.columns = ['date', 'orders_cumulative_B', 'revenue_cumulative_B']\n",
    "orders_B_cumulative.head()"
   ]
  },
  {
   "cell_type": "code",
   "execution_count": 46,
   "id": "80cbe141",
   "metadata": {},
   "outputs": [
    {
     "data": {
      "text/html": [
       "<div>\n",
       "<style scoped>\n",
       "    .dataframe tbody tr th:only-of-type {\n",
       "        vertical-align: middle;\n",
       "    }\n",
       "\n",
       "    .dataframe tbody tr th {\n",
       "        vertical-align: top;\n",
       "    }\n",
       "\n",
       "    .dataframe thead th {\n",
       "        text-align: right;\n",
       "    }\n",
       "</style>\n",
       "<table border=\"1\" class=\"dataframe\">\n",
       "  <thead>\n",
       "    <tr style=\"text-align: right;\">\n",
       "      <th></th>\n",
       "      <th>date</th>\n",
       "      <th>visitors_cumulative_A</th>\n",
       "    </tr>\n",
       "  </thead>\n",
       "  <tbody>\n",
       "    <tr>\n",
       "      <th>0</th>\n",
       "      <td>2019-08-01</td>\n",
       "      <td>719</td>\n",
       "    </tr>\n",
       "    <tr>\n",
       "      <th>1</th>\n",
       "      <td>2019-08-02</td>\n",
       "      <td>1338</td>\n",
       "    </tr>\n",
       "    <tr>\n",
       "      <th>2</th>\n",
       "      <td>2019-08-03</td>\n",
       "      <td>1845</td>\n",
       "    </tr>\n",
       "    <tr>\n",
       "      <th>3</th>\n",
       "      <td>2019-08-04</td>\n",
       "      <td>2562</td>\n",
       "    </tr>\n",
       "    <tr>\n",
       "      <th>4</th>\n",
       "      <td>2019-08-05</td>\n",
       "      <td>3318</td>\n",
       "    </tr>\n",
       "  </tbody>\n",
       "</table>\n",
       "</div>"
      ],
      "text/plain": [
       "        date  visitors_cumulative_A\n",
       "0 2019-08-01                    719\n",
       "1 2019-08-02                   1338\n",
       "2 2019-08-03                   1845\n",
       "3 2019-08-04                   2562\n",
       "4 2019-08-05                   3318"
      ]
     },
     "execution_count": 46,
     "metadata": {},
     "output_type": "execute_result"
    }
   ],
   "source": [
    "visitors_A_daily = visitors[visitors['group'] == 'A'][['date', 'visitors']]\n",
    "visitors_A_daily.columns = ['date', 'visitors_per_date_A']\n",
    "visitors_A_cumulative = visitors_A_daily.apply(lambda x: visitors_A_daily[visitors_A_daily['date'] <= x['date']].agg(\n",
    "    {'date':'max', 'visitors_per_date_A':'sum'}), axis=1).sort_values(by=['date'])\n",
    "visitors_A_cumulative.columns = ['date', 'visitors_cumulative_A']\n",
    "visitors_A_cumulative.head()"
   ]
  },
  {
   "cell_type": "code",
   "execution_count": 47,
   "id": "75f3063a",
   "metadata": {},
   "outputs": [
    {
     "data": {
      "text/html": [
       "<div>\n",
       "<style scoped>\n",
       "    .dataframe tbody tr th:only-of-type {\n",
       "        vertical-align: middle;\n",
       "    }\n",
       "\n",
       "    .dataframe tbody tr th {\n",
       "        vertical-align: top;\n",
       "    }\n",
       "\n",
       "    .dataframe thead th {\n",
       "        text-align: right;\n",
       "    }\n",
       "</style>\n",
       "<table border=\"1\" class=\"dataframe\">\n",
       "  <thead>\n",
       "    <tr style=\"text-align: right;\">\n",
       "      <th></th>\n",
       "      <th>date</th>\n",
       "      <th>visitors_cumulative_B</th>\n",
       "    </tr>\n",
       "  </thead>\n",
       "  <tbody>\n",
       "    <tr>\n",
       "      <th>31</th>\n",
       "      <td>2019-08-01</td>\n",
       "      <td>713</td>\n",
       "    </tr>\n",
       "    <tr>\n",
       "      <th>32</th>\n",
       "      <td>2019-08-02</td>\n",
       "      <td>1294</td>\n",
       "    </tr>\n",
       "    <tr>\n",
       "      <th>33</th>\n",
       "      <td>2019-08-03</td>\n",
       "      <td>1803</td>\n",
       "    </tr>\n",
       "    <tr>\n",
       "      <th>34</th>\n",
       "      <td>2019-08-04</td>\n",
       "      <td>2573</td>\n",
       "    </tr>\n",
       "    <tr>\n",
       "      <th>35</th>\n",
       "      <td>2019-08-05</td>\n",
       "      <td>3280</td>\n",
       "    </tr>\n",
       "  </tbody>\n",
       "</table>\n",
       "</div>"
      ],
      "text/plain": [
       "         date  visitors_cumulative_B\n",
       "31 2019-08-01                    713\n",
       "32 2019-08-02                   1294\n",
       "33 2019-08-03                   1803\n",
       "34 2019-08-04                   2573\n",
       "35 2019-08-05                   3280"
      ]
     },
     "execution_count": 47,
     "metadata": {},
     "output_type": "execute_result"
    }
   ],
   "source": [
    "visitors_B_daily = visitors[visitors['group'] == 'B'][['date', 'visitors']]\n",
    "visitors_B_daily.columns = ['date', 'visitors_per_date_B']\n",
    "visitors_B_cumulative = visitors_B_daily.apply(lambda x: visitors_B_daily[visitors_B_daily['date'] <= x['date']].agg(\n",
    "    {'date':'max', 'visitors_per_date_B':'sum'}), axis=1).sort_values(by=['date'])\n",
    "visitors_B_cumulative.columns = ['date', 'visitors_cumulative_B']\n",
    "visitors_B_cumulative.head()"
   ]
  },
  {
   "cell_type": "code",
   "execution_count": 48,
   "id": "f0b3dd6d",
   "metadata": {},
   "outputs": [
    {
     "data": {
      "text/html": [
       "<div>\n",
       "<style scoped>\n",
       "    .dataframe tbody tr th:only-of-type {\n",
       "        vertical-align: middle;\n",
       "    }\n",
       "\n",
       "    .dataframe tbody tr th {\n",
       "        vertical-align: top;\n",
       "    }\n",
       "\n",
       "    .dataframe thead th {\n",
       "        text-align: right;\n",
       "    }\n",
       "</style>\n",
       "<table border=\"1\" class=\"dataframe\">\n",
       "  <thead>\n",
       "    <tr style=\"text-align: right;\">\n",
       "      <th></th>\n",
       "      <th>date</th>\n",
       "      <th>order_per_date_A</th>\n",
       "      <th>revenue_per_date_A</th>\n",
       "      <th>order_per_date_B</th>\n",
       "      <th>revenue_per_date_B</th>\n",
       "      <th>orders_cumulative_A</th>\n",
       "      <th>revenue_cumulative_A</th>\n",
       "      <th>orders_cumulative_B</th>\n",
       "      <th>revenue_cumulative_B</th>\n",
       "      <th>visitors_per_date_A</th>\n",
       "      <th>visitors_per_date_B</th>\n",
       "      <th>visitors_cumulative_A</th>\n",
       "      <th>visitors_cumulative_B</th>\n",
       "    </tr>\n",
       "  </thead>\n",
       "  <tbody>\n",
       "    <tr>\n",
       "      <th>0</th>\n",
       "      <td>2019-08-01</td>\n",
       "      <td>23</td>\n",
       "      <td>142779</td>\n",
       "      <td>17</td>\n",
       "      <td>59758</td>\n",
       "      <td>23</td>\n",
       "      <td>142779</td>\n",
       "      <td>17</td>\n",
       "      <td>59758</td>\n",
       "      <td>719</td>\n",
       "      <td>713</td>\n",
       "      <td>719</td>\n",
       "      <td>713</td>\n",
       "    </tr>\n",
       "    <tr>\n",
       "      <th>1</th>\n",
       "      <td>2019-08-02</td>\n",
       "      <td>19</td>\n",
       "      <td>91602</td>\n",
       "      <td>23</td>\n",
       "      <td>162043</td>\n",
       "      <td>42</td>\n",
       "      <td>234381</td>\n",
       "      <td>40</td>\n",
       "      <td>221801</td>\n",
       "      <td>619</td>\n",
       "      <td>581</td>\n",
       "      <td>1338</td>\n",
       "      <td>1294</td>\n",
       "    </tr>\n",
       "    <tr>\n",
       "      <th>2</th>\n",
       "      <td>2019-08-03</td>\n",
       "      <td>24</td>\n",
       "      <td>112473</td>\n",
       "      <td>14</td>\n",
       "      <td>67049</td>\n",
       "      <td>66</td>\n",
       "      <td>346854</td>\n",
       "      <td>54</td>\n",
       "      <td>288850</td>\n",
       "      <td>507</td>\n",
       "      <td>509</td>\n",
       "      <td>1845</td>\n",
       "      <td>1803</td>\n",
       "    </tr>\n",
       "    <tr>\n",
       "      <th>3</th>\n",
       "      <td>2019-08-04</td>\n",
       "      <td>11</td>\n",
       "      <td>41176</td>\n",
       "      <td>14</td>\n",
       "      <td>96890</td>\n",
       "      <td>77</td>\n",
       "      <td>388030</td>\n",
       "      <td>68</td>\n",
       "      <td>385740</td>\n",
       "      <td>717</td>\n",
       "      <td>770</td>\n",
       "      <td>2562</td>\n",
       "      <td>2573</td>\n",
       "    </tr>\n",
       "    <tr>\n",
       "      <th>4</th>\n",
       "      <td>2019-08-05</td>\n",
       "      <td>22</td>\n",
       "      <td>86383</td>\n",
       "      <td>21</td>\n",
       "      <td>89908</td>\n",
       "      <td>99</td>\n",
       "      <td>474413</td>\n",
       "      <td>89</td>\n",
       "      <td>475648</td>\n",
       "      <td>756</td>\n",
       "      <td>707</td>\n",
       "      <td>3318</td>\n",
       "      <td>3280</td>\n",
       "    </tr>\n",
       "  </tbody>\n",
       "</table>\n",
       "</div>"
      ],
      "text/plain": [
       "        date  order_per_date_A  revenue_per_date_A  order_per_date_B  \\\n",
       "0 2019-08-01                23              142779                17   \n",
       "1 2019-08-02                19               91602                23   \n",
       "2 2019-08-03                24              112473                14   \n",
       "3 2019-08-04                11               41176                14   \n",
       "4 2019-08-05                22               86383                21   \n",
       "\n",
       "   revenue_per_date_B  orders_cumulative_A  revenue_cumulative_A  \\\n",
       "0               59758                   23                142779   \n",
       "1              162043                   42                234381   \n",
       "2               67049                   66                346854   \n",
       "3               96890                   77                388030   \n",
       "4               89908                   99                474413   \n",
       "\n",
       "   orders_cumulative_B  revenue_cumulative_B  visitors_per_date_A  \\\n",
       "0                   17                 59758                  719   \n",
       "1                   40                221801                  619   \n",
       "2                   54                288850                  507   \n",
       "3                   68                385740                  717   \n",
       "4                   89                475648                  756   \n",
       "\n",
       "   visitors_per_date_B  visitors_cumulative_A  visitors_cumulative_B  \n",
       "0                  713                    719                    713  \n",
       "1                  581                   1338                   1294  \n",
       "2                  509                   1845                   1803  \n",
       "3                  770                   2562                   2573  \n",
       "4                  707                   3318                   3280  "
      ]
     },
     "execution_count": 48,
     "metadata": {},
     "output_type": "execute_result"
    }
   ],
   "source": [
    "total_data = orders_A_daily.merge(orders_B_daily, left_on='date', right_on='date', how='left').merge(\n",
    "    orders_A_cumulative, left_on='date', right_on='date', how='left').merge(\n",
    "    orders_B_cumulative, left_on='date', right_on='date', how='left').merge(\n",
    "    visitors_A_daily, left_on='date', right_on='date', how='left').merge(\n",
    "    visitors_B_daily, left_on='date', right_on='date', how='left').merge(\n",
    "    visitors_A_cumulative, left_on='date', right_on='date', how='left').merge(\n",
    "    visitors_B_cumulative, left_on='date', right_on='date', how='left')\n",
    "total_data.head()"
   ]
  },
  {
   "cell_type": "code",
   "execution_count": 49,
   "id": "60b5ff9b",
   "metadata": {},
   "outputs": [],
   "source": [
    "orders_per_user_A = orders[orders['group'] == 'A'].groupby('visitorId', as_index=False).agg({'transactionId':'nunique'})\n",
    "orders_per_user_A.columns = ['visitorId', 'orders']"
   ]
  },
  {
   "cell_type": "code",
   "execution_count": 50,
   "id": "8b9ab82f",
   "metadata": {},
   "outputs": [],
   "source": [
    "orders_per_user_B = orders[orders['group'] == 'B'].groupby('visitorId', as_index=False).agg({'transactionId':'nunique'})\n",
    "orders_per_user_B.columns = ['visitorId', 'orders']"
   ]
  },
  {
   "cell_type": "code",
   "execution_count": 51,
   "id": "e9f35057",
   "metadata": {},
   "outputs": [],
   "source": [
    "sample_A = pd.concat([orders_per_user_A['orders'], pd.Series(0, index = np.arange(\n",
    "    total_data['visitors_per_date_A'].sum() - len(orders_per_user_A['orders'])), name='orders')], axis=0)"
   ]
  },
  {
   "cell_type": "code",
   "execution_count": 52,
   "id": "93682d1a",
   "metadata": {},
   "outputs": [],
   "source": [
    "sample_B = pd.concat([orders_per_user_B['orders'], pd.Series(0, index = np.arange(\n",
    "    total_data['visitors_per_date_B'].sum() - len(orders_per_user_B['orders'])), name='orders')], axis=0)"
   ]
  },
  {
   "cell_type": "markdown",
   "id": "b7c6efe0",
   "metadata": {},
   "source": [
    "Теперь с помощью теста, основанного на непараметрическом подходе Манна-Уитни, посчитаем p-value и относительный прирост конверсии группы В. \n",
    "\n",
    "*Н₀ - конверсии тестируемых групп равны.*\n",
    "\n",
    "*Н₁ - конверсия группы В больше конверсии группы А.*"
   ]
  },
  {
   "cell_type": "code",
   "execution_count": 53,
   "id": "17a3e42b",
   "metadata": {},
   "outputs": [
    {
     "name": "stdout",
     "output_type": "stream",
     "text": [
      "P-value: 0.006\n"
     ]
    }
   ],
   "source": [
    "print('P-value: {0:.3f}'.format(st.mannwhitneyu(sample_A, sample_B)[1]))"
   ]
  },
  {
   "cell_type": "code",
   "execution_count": 54,
   "id": "468fb57b",
   "metadata": {},
   "outputs": [
    {
     "name": "stdout",
     "output_type": "stream",
     "text": [
      "Относительные различия конверсий по сырым данным: 0.160\n"
     ]
    }
   ],
   "source": [
    "print('Относительные различия конверсий по сырым данным: {0:.3f}'.format(sample_B.mean() / sample_A.mean() - 1))"
   ]
  },
  {
   "cell_type": "markdown",
   "id": "bdd98dc6",
   "metadata": {},
   "source": [
    "P-value меньше 0,05, значит нулевую гипотезу о том, что статистических различий в выборках нет, мы отвергаем. Однако мы можем совершить ошибку первого рода, когда p-value меньше, но разницы между группами нет. Относительная конверсия группы В на 15% больше группы А. Посмотрим на различия в среднем чеке. "
   ]
  },
  {
   "cell_type": "markdown",
   "id": "72fea299",
   "metadata": {},
   "source": [
    "*Н₀ - средние чеки тестируемых групп равны.*\n",
    "\n",
    "*Н₁ - средний чек группы В больше среднего чека группы А.*"
   ]
  },
  {
   "cell_type": "code",
   "execution_count": 55,
   "id": "fe9724f4",
   "metadata": {},
   "outputs": [
    {
     "name": "stdout",
     "output_type": "stream",
     "text": [
      "P-value: 0.415\n"
     ]
    }
   ],
   "source": [
    "print('P-value: {0:.3f}'.format(st.mannwhitneyu(orders[orders['group'] == 'A']['revenue'], orders[orders['group'] == 'B']['revenue'])[1]))"
   ]
  },
  {
   "cell_type": "code",
   "execution_count": 56,
   "id": "488f14e4",
   "metadata": {},
   "outputs": [
    {
     "name": "stdout",
     "output_type": "stream",
     "text": [
      "Относительные различия средних чеков по сырым данным: 0.287\n"
     ]
    }
   ],
   "source": [
    "print('Относительные различия средних чеков по сырым данным: {0:.3f}'.format(orders[orders['group']=='B']['revenue'].mean()/orders[orders['group']=='A']['revenue'].mean() - 1))"
   ]
  },
  {
   "cell_type": "markdown",
   "id": "6a3aa788",
   "metadata": {},
   "source": [
    "P-value значительно больше 0,05, однако разница между средним чеком группы В и группы А довольно высока - 28,7%. Здесь ситуация наоборот. С учетом выбросом есть вероятность совершить ошибку второго рода и принять нулевую гипотезу о равенстве групп ложно. Очистим данные согласно расчетам статистических аномалий, где количество заказов больше двух и средний чек больше 26,8 тысяч."
   ]
  },
  {
   "cell_type": "code",
   "execution_count": 57,
   "id": "ddda4112",
   "metadata": {},
   "outputs": [],
   "source": [
    "users_with_many_orders = pd.concat([orders_per_user_A[orders_per_user_A['orders'] > 1]['visitorId'], \n",
    "                                    orders_per_user_B[orders_per_user_B['orders'] > 1]['visitorId']], axis=0)"
   ]
  },
  {
   "cell_type": "code",
   "execution_count": 58,
   "id": "2ee65148",
   "metadata": {},
   "outputs": [],
   "source": [
    "users_with_expensive_orders = orders[orders['revenue'] > 26800]['visitorId']"
   ]
  },
  {
   "cell_type": "code",
   "execution_count": 59,
   "id": "a0e4cd57",
   "metadata": {},
   "outputs": [
    {
     "data": {
      "text/plain": [
       "86"
      ]
     },
     "execution_count": 59,
     "metadata": {},
     "output_type": "execute_result"
    }
   ],
   "source": [
    "abnormal_users = pd.concat([users_with_many_orders, users_with_expensive_orders], axis=0).drop_duplicates().sort_values()\n",
    "abnormal_users.shape[0]"
   ]
  },
  {
   "cell_type": "markdown",
   "id": "7c93c88c",
   "metadata": {},
   "source": [
    "86 аномальных пользователя. Подготовим очищенные выборки. "
   ]
  },
  {
   "cell_type": "code",
   "execution_count": 60,
   "id": "42bbea43",
   "metadata": {},
   "outputs": [],
   "source": [
    "sample_A_filtered = pd.concat([orders_per_user_A[np.logical_not(\n",
    "    orders_per_user_A['visitorId'].isin(abnormal_users))]['orders'], pd.Series(\n",
    "    0, index=np.arange(total_data['visitors_per_date_A'].sum() - len(orders_per_user_A['orders'])), name='orders')], axis=0) "
   ]
  },
  {
   "cell_type": "code",
   "execution_count": 61,
   "id": "a8034bb1",
   "metadata": {},
   "outputs": [],
   "source": [
    "sample_B_filtered = pd.concat([orders_per_user_B[np.logical_not(\n",
    "    orders_per_user_B['visitorId'].isin(abnormal_users))]['orders'], pd.Series(\n",
    "    0, index=np.arange(total_data['visitors_per_date_B'].sum() - len(orders_per_user_B['orders'])), name='orders')], axis=0) "
   ]
  },
  {
   "cell_type": "markdown",
   "id": "7027be66",
   "metadata": {},
   "source": [
    "*Н₀ - конверсии тестируемых групп равны.*\n",
    "\n",
    "*Н₁ - конверсия группы В больше конверсии группы А.*"
   ]
  },
  {
   "cell_type": "code",
   "execution_count": 62,
   "id": "493032ff",
   "metadata": {},
   "outputs": [
    {
     "name": "stdout",
     "output_type": "stream",
     "text": [
      "P-value: 0.008\n"
     ]
    }
   ],
   "source": [
    "print('P-value: {0:.3f}'.format(st.mannwhitneyu(sample_A_filtered, sample_B_filtered)[1]))"
   ]
  },
  {
   "cell_type": "code",
   "execution_count": 63,
   "id": "76dc4c07",
   "metadata": {},
   "outputs": [
    {
     "name": "stdout",
     "output_type": "stream",
     "text": [
      "Относительные различия конверсий: 0.174\n"
     ]
    }
   ],
   "source": [
    "print('Относительные различия конверсий: {0:.3f}'.format(sample_B_filtered.mean() / sample_A_filtered.mean()-1))"
   ]
  },
  {
   "cell_type": "markdown",
   "id": "f318dc42",
   "metadata": {},
   "source": [
    "P-value меньше 0,05, наличие различия статистически подтверждаются. Отношение конверсии группы В к группе А по данным без аномалий составляет 17,4%. *Тест показывает, что группы А и В отличаются по конверсии, то есть группа В чаще совершает покупки по сравнению с группой А.* Посчитаем относительные различия по среднему чеку."
   ]
  },
  {
   "cell_type": "markdown",
   "id": "99f30067",
   "metadata": {},
   "source": [
    "*Н₀ - средние чеки тестируемых групп равны.*\n",
    "\n",
    "*Н₁ - средний чек группы В больше среднего чека группы А.*"
   ]
  },
  {
   "cell_type": "code",
   "execution_count": 64,
   "id": "3638bc52",
   "metadata": {},
   "outputs": [
    {
     "name": "stdout",
     "output_type": "stream",
     "text": [
      "P-value: 0.364\n"
     ]
    }
   ],
   "source": [
    "print('P-value: {0:.3f}'.format(st.mannwhitneyu(\n",
    "    orders[np.logical_and(orders['group'] == 'A', np.logical_not(orders['visitorId'].isin(abnormal_users)))]['revenue'],\n",
    "    orders[np.logical_and(orders['group'] == 'B', np.logical_not(orders['visitorId'].isin(abnormal_users)))]['revenue'])[1]))"
   ]
  },
  {
   "cell_type": "code",
   "execution_count": 65,
   "id": "4cfa8679",
   "metadata": {},
   "outputs": [
    {
     "name": "stdout",
     "output_type": "stream",
     "text": [
      "Относительные различия средних чеков: -0.034\n"
     ]
    }
   ],
   "source": [
    "print('Относительные различия средних чеков: {0:.3f}'.format(\n",
    "    orders[np.logical_and(orders['group'] == 'B', np.logical_not(\n",
    "    orders['visitorId'].isin(abnormal_users)))]['revenue'].mean() / \n",
    "    orders[np.logical_and(orders['group'] == 'A', np.logical_not(orders['visitorId'].isin(abnormal_users)))]['revenue'].mean() - 1))"
   ]
  },
  {
   "cell_type": "markdown",
   "id": "09815dee",
   "metadata": {},
   "source": [
    "P-value по-прежнему сильно больше статистической значимости, значит, мы можем принять нулевую гипотезу. Однако, отношение выборок радикально изменилось. Без аномальных значений средний чек группы В ниже среднего чека группы А на 3,4%. *Таким образом, средний чек группы В немного меньше среднего чека группы А, но, в целом, группы равны.*"
   ]
  },
  {
   "cell_type": "markdown",
   "id": "98da047c",
   "metadata": {},
   "source": [
    "## Вывод. "
   ]
  },
  {
   "cell_type": "markdown",
   "id": "47b06efe",
   "metadata": {},
   "source": [
    "Тест можно считать завершенным. Группа В показывает более высокие результаты по конверсии, тем не менее, средний чек остается на том же уровне, что и у группы А. Изменения не влияют на увеличение выручки. "
   ]
  }
 ],
 "metadata": {
  "ExecuteTimeLog": [
   {
    "duration": 1146,
    "start_time": "2021-11-16T08:03:29.211Z"
   },
   {
    "duration": 11,
    "start_time": "2021-11-16T08:03:30.359Z"
   },
   {
    "duration": 12,
    "start_time": "2021-11-16T08:03:30.372Z"
   },
   {
    "duration": 14,
    "start_time": "2021-11-16T08:03:30.386Z"
   },
   {
    "duration": 14,
    "start_time": "2021-11-16T08:03:30.402Z"
   },
   {
    "duration": 18,
    "start_time": "2021-11-16T08:03:30.418Z"
   },
   {
    "duration": 19,
    "start_time": "2021-11-16T08:03:30.438Z"
   },
   {
    "duration": 25,
    "start_time": "2021-11-16T08:03:30.459Z"
   },
   {
    "duration": 27,
    "start_time": "2021-11-16T08:03:30.486Z"
   },
   {
    "duration": 14,
    "start_time": "2021-11-16T08:03:30.515Z"
   },
   {
    "duration": 18,
    "start_time": "2021-11-16T08:03:30.530Z"
   },
   {
    "duration": 15,
    "start_time": "2021-11-16T08:03:30.549Z"
   },
   {
    "duration": 31,
    "start_time": "2021-11-16T08:03:30.566Z"
   },
   {
    "duration": 13,
    "start_time": "2021-11-16T08:03:30.599Z"
   },
   {
    "duration": 16,
    "start_time": "2021-11-16T08:03:30.614Z"
   },
   {
    "duration": 203,
    "start_time": "2021-11-16T08:03:30.632Z"
   },
   {
    "duration": 177,
    "start_time": "2021-11-16T08:03:30.837Z"
   },
   {
    "duration": 15,
    "start_time": "2021-11-16T08:03:31.016Z"
   },
   {
    "duration": 33,
    "start_time": "2021-11-16T08:03:31.033Z"
   },
   {
    "duration": 16,
    "start_time": "2021-11-16T08:03:31.068Z"
   },
   {
    "duration": 311,
    "start_time": "2021-11-16T08:03:31.086Z"
   },
   {
    "duration": 293,
    "start_time": "2021-11-16T08:03:31.406Z"
   },
   {
    "duration": 12,
    "start_time": "2021-11-16T08:03:31.707Z"
   },
   {
    "duration": 393,
    "start_time": "2021-11-16T08:03:31.722Z"
   },
   {
    "duration": 9,
    "start_time": "2021-11-16T08:03:32.117Z"
   },
   {
    "duration": 319,
    "start_time": "2021-11-16T08:03:32.128Z"
   },
   {
    "duration": 13,
    "start_time": "2021-11-16T08:03:32.449Z"
   },
   {
    "duration": 419,
    "start_time": "2021-11-16T08:03:32.464Z"
   },
   {
    "duration": 7,
    "start_time": "2021-11-16T08:03:32.885Z"
   },
   {
    "duration": 13,
    "start_time": "2021-11-16T08:03:32.894Z"
   },
   {
    "duration": 397,
    "start_time": "2021-11-16T08:03:32.909Z"
   },
   {
    "duration": 5,
    "start_time": "2021-11-16T08:03:33.307Z"
   },
   {
    "duration": 14,
    "start_time": "2021-11-16T08:03:33.314Z"
   },
   {
    "duration": 389,
    "start_time": "2021-11-16T08:03:33.330Z"
   },
   {
    "duration": 8,
    "start_time": "2021-11-16T08:03:33.721Z"
   },
   {
    "duration": 13,
    "start_time": "2021-11-16T08:03:33.731Z"
   },
   {
    "duration": 86,
    "start_time": "2021-11-16T08:03:33.746Z"
   },
   {
    "duration": 80,
    "start_time": "2021-11-16T08:03:33.834Z"
   },
   {
    "duration": 65,
    "start_time": "2021-11-16T08:03:33.915Z"
   },
   {
    "duration": 83,
    "start_time": "2021-11-16T08:03:33.982Z"
   },
   {
    "duration": 53,
    "start_time": "2021-11-16T08:03:34.067Z"
   },
   {
    "duration": 8,
    "start_time": "2021-11-16T08:03:34.123Z"
   },
   {
    "duration": 18,
    "start_time": "2021-11-16T08:03:34.133Z"
   },
   {
    "duration": 11,
    "start_time": "2021-11-16T08:03:34.152Z"
   },
   {
    "duration": 10,
    "start_time": "2021-11-16T08:03:34.165Z"
   },
   {
    "duration": 15,
    "start_time": "2021-11-16T08:03:34.177Z"
   },
   {
    "duration": 13,
    "start_time": "2021-11-16T08:03:34.194Z"
   },
   {
    "duration": 10,
    "start_time": "2021-11-16T08:03:34.209Z"
   },
   {
    "duration": 8,
    "start_time": "2021-11-16T08:03:34.221Z"
   },
   {
    "duration": 5,
    "start_time": "2021-11-16T08:03:34.231Z"
   },
   {
    "duration": 6,
    "start_time": "2021-11-16T08:03:34.238Z"
   },
   {
    "duration": 7,
    "start_time": "2021-11-16T08:03:34.246Z"
   },
   {
    "duration": 7,
    "start_time": "2021-11-16T08:03:34.255Z"
   },
   {
    "duration": 47,
    "start_time": "2021-11-16T08:03:34.264Z"
   },
   {
    "duration": 9,
    "start_time": "2021-11-16T08:03:34.313Z"
   },
   {
    "duration": 5,
    "start_time": "2021-11-16T08:03:34.324Z"
   },
   {
    "duration": 13,
    "start_time": "2021-11-16T08:03:34.330Z"
   },
   {
    "duration": 8,
    "start_time": "2021-11-16T08:03:34.344Z"
   },
   {
    "duration": 1421,
    "start_time": "2021-11-16T09:53:38.461Z"
   },
   {
    "duration": 17,
    "start_time": "2021-11-16T09:53:39.885Z"
   },
   {
    "duration": 4,
    "start_time": "2021-11-16T09:53:39.905Z"
   },
   {
    "duration": 21,
    "start_time": "2021-11-16T09:53:39.912Z"
   },
   {
    "duration": 16,
    "start_time": "2021-11-16T09:53:39.936Z"
   },
   {
    "duration": 13,
    "start_time": "2021-11-16T09:53:39.954Z"
   },
   {
    "duration": 10,
    "start_time": "2021-11-16T09:53:39.969Z"
   },
   {
    "duration": 23,
    "start_time": "2021-11-16T09:53:39.982Z"
   },
   {
    "duration": 21,
    "start_time": "2021-11-16T09:53:40.007Z"
   },
   {
    "duration": 22,
    "start_time": "2021-11-16T09:53:40.030Z"
   },
   {
    "duration": 13,
    "start_time": "2021-11-16T09:53:40.055Z"
   },
   {
    "duration": 8,
    "start_time": "2021-11-16T09:53:40.071Z"
   },
   {
    "duration": 908,
    "start_time": "2021-11-16T09:55:56.364Z"
   },
   {
    "duration": 18,
    "start_time": "2021-11-16T09:56:14.598Z"
   },
   {
    "duration": 4,
    "start_time": "2021-11-16T09:58:39.309Z"
   },
   {
    "duration": 7,
    "start_time": "2021-11-16T09:58:49.095Z"
   },
   {
    "duration": 8,
    "start_time": "2021-11-16T09:58:58.862Z"
   },
   {
    "duration": 9,
    "start_time": "2021-11-16T10:00:04.972Z"
   },
   {
    "duration": 16,
    "start_time": "2021-11-16T10:00:42.861Z"
   },
   {
    "duration": 13,
    "start_time": "2021-11-16T10:00:52.335Z"
   },
   {
    "duration": 25,
    "start_time": "2021-11-16T10:01:32.476Z"
   },
   {
    "duration": 16,
    "start_time": "2021-11-16T10:01:48.107Z"
   },
   {
    "duration": 18,
    "start_time": "2021-11-16T10:02:04.438Z"
   },
   {
    "duration": 17,
    "start_time": "2021-11-16T10:03:12.988Z"
   },
   {
    "duration": 9,
    "start_time": "2021-11-16T10:03:23.508Z"
   },
   {
    "duration": 12,
    "start_time": "2021-11-16T10:46:54.680Z"
   },
   {
    "duration": 33,
    "start_time": "2021-11-16T10:47:01.116Z"
   },
   {
    "duration": 21,
    "start_time": "2021-11-16T10:47:53.213Z"
   },
   {
    "duration": 124,
    "start_time": "2021-11-16T10:48:59.383Z"
   },
   {
    "duration": 506,
    "start_time": "2021-11-16T10:49:13.866Z"
   },
   {
    "duration": 26,
    "start_time": "2021-11-16T10:49:28.835Z"
   },
   {
    "duration": 476,
    "start_time": "2021-11-16T10:49:59.712Z"
   },
   {
    "duration": 394,
    "start_time": "2021-11-16T10:50:09.342Z"
   },
   {
    "duration": 408,
    "start_time": "2021-11-16T10:50:32.468Z"
   },
   {
    "duration": 14,
    "start_time": "2021-11-16T10:50:55.477Z"
   },
   {
    "duration": 15,
    "start_time": "2021-11-16T10:51:03.129Z"
   },
   {
    "duration": 11,
    "start_time": "2021-11-16T10:56:49.474Z"
   },
   {
    "duration": 430,
    "start_time": "2021-11-16T10:58:16.011Z"
   },
   {
    "duration": 514,
    "start_time": "2021-11-16T10:58:26.633Z"
   },
   {
    "duration": 28,
    "start_time": "2021-11-16T10:58:45.609Z"
   },
   {
    "duration": 31,
    "start_time": "2021-11-16T11:00:06.729Z"
   },
   {
    "duration": 132,
    "start_time": "2021-11-16T11:00:58.412Z"
   },
   {
    "duration": 401,
    "start_time": "2021-11-16T11:01:50.436Z"
   },
   {
    "duration": 854,
    "start_time": "2021-11-16T11:01:59.857Z"
   },
   {
    "duration": 22,
    "start_time": "2021-11-16T11:02:06.917Z"
   },
   {
    "duration": 19,
    "start_time": "2021-11-16T11:02:25.965Z"
   },
   {
    "duration": 16,
    "start_time": "2021-11-16T11:02:33.554Z"
   },
   {
    "duration": 108,
    "start_time": "2021-11-16T11:02:41.576Z"
   },
   {
    "duration": 11,
    "start_time": "2021-11-16T11:02:41.687Z"
   },
   {
    "duration": 9,
    "start_time": "2021-11-16T11:02:41.701Z"
   },
   {
    "duration": 12,
    "start_time": "2021-11-16T11:02:41.713Z"
   },
   {
    "duration": 15,
    "start_time": "2021-11-16T11:02:41.727Z"
   },
   {
    "duration": 12,
    "start_time": "2021-11-16T11:02:41.761Z"
   },
   {
    "duration": 9,
    "start_time": "2021-11-16T11:02:41.775Z"
   },
   {
    "duration": 13,
    "start_time": "2021-11-16T11:02:41.789Z"
   },
   {
    "duration": 9,
    "start_time": "2021-11-16T11:02:41.806Z"
   },
   {
    "duration": 47,
    "start_time": "2021-11-16T11:02:41.817Z"
   },
   {
    "duration": 14,
    "start_time": "2021-11-16T11:02:41.867Z"
   },
   {
    "duration": 7,
    "start_time": "2021-11-16T11:02:41.884Z"
   },
   {
    "duration": 16,
    "start_time": "2021-11-16T11:02:41.894Z"
   },
   {
    "duration": 9,
    "start_time": "2021-11-16T11:02:41.912Z"
   },
   {
    "duration": 25,
    "start_time": "2021-11-16T11:02:50.275Z"
   },
   {
    "duration": 19,
    "start_time": "2021-11-16T11:04:14.401Z"
   },
   {
    "duration": 37,
    "start_time": "2021-11-16T11:04:32.492Z"
   },
   {
    "duration": 14,
    "start_time": "2021-11-16T11:07:15.301Z"
   },
   {
    "duration": 11,
    "start_time": "2021-11-16T11:07:31.026Z"
   },
   {
    "duration": 86,
    "start_time": "2021-11-16T11:07:37.852Z"
   },
   {
    "duration": 11,
    "start_time": "2021-11-16T11:07:37.941Z"
   },
   {
    "duration": 20,
    "start_time": "2021-11-16T11:07:37.955Z"
   },
   {
    "duration": 18,
    "start_time": "2021-11-16T11:07:37.978Z"
   },
   {
    "duration": 25,
    "start_time": "2021-11-16T11:07:37.998Z"
   },
   {
    "duration": 18,
    "start_time": "2021-11-16T11:07:38.026Z"
   },
   {
    "duration": 24,
    "start_time": "2021-11-16T11:07:38.046Z"
   },
   {
    "duration": 15,
    "start_time": "2021-11-16T11:07:38.073Z"
   },
   {
    "duration": 27,
    "start_time": "2021-11-16T11:07:38.091Z"
   },
   {
    "duration": 14,
    "start_time": "2021-11-16T11:07:38.121Z"
   },
   {
    "duration": 30,
    "start_time": "2021-11-16T11:07:38.137Z"
   },
   {
    "duration": 28,
    "start_time": "2021-11-16T11:07:38.169Z"
   },
   {
    "duration": 23,
    "start_time": "2021-11-16T11:07:38.200Z"
   },
   {
    "duration": 12,
    "start_time": "2021-11-16T11:07:38.226Z"
   },
   {
    "duration": 41,
    "start_time": "2021-11-16T11:07:38.241Z"
   },
   {
    "duration": 30,
    "start_time": "2021-11-16T11:07:38.285Z"
   },
   {
    "duration": 13,
    "start_time": "2021-11-16T11:07:38.318Z"
   },
   {
    "duration": 10,
    "start_time": "2021-11-16T11:07:47.437Z"
   },
   {
    "duration": 21,
    "start_time": "2021-11-16T11:08:06.800Z"
   },
   {
    "duration": 16,
    "start_time": "2021-11-16T11:08:09.737Z"
   },
   {
    "duration": 7,
    "start_time": "2021-11-16T11:08:12.936Z"
   },
   {
    "duration": 12,
    "start_time": "2021-11-16T11:08:20.604Z"
   },
   {
    "duration": 13,
    "start_time": "2021-11-16T11:08:50.852Z"
   },
   {
    "duration": 17,
    "start_time": "2021-11-16T11:08:58.440Z"
   },
   {
    "duration": 383,
    "start_time": "2021-11-16T12:41:58.212Z"
   },
   {
    "duration": 392,
    "start_time": "2021-11-16T12:42:27.322Z"
   },
   {
    "duration": 474,
    "start_time": "2021-11-16T12:42:48.392Z"
   },
   {
    "duration": 476,
    "start_time": "2021-11-16T12:44:29.986Z"
   },
   {
    "duration": 21,
    "start_time": "2021-11-16T12:45:08.679Z"
   },
   {
    "duration": 505,
    "start_time": "2021-11-16T12:46:22.382Z"
   },
   {
    "duration": 10,
    "start_time": "2021-11-16T13:50:12.288Z"
   },
   {
    "duration": 13,
    "start_time": "2021-11-16T13:50:38.019Z"
   },
   {
    "duration": 18,
    "start_time": "2021-11-16T13:52:09.000Z"
   },
   {
    "duration": 4,
    "start_time": "2021-11-16T13:52:31.595Z"
   },
   {
    "duration": 16,
    "start_time": "2021-11-16T13:52:34.285Z"
   },
   {
    "duration": 15,
    "start_time": "2021-11-16T13:52:42.445Z"
   },
   {
    "duration": 20,
    "start_time": "2021-11-16T13:54:32.641Z"
   },
   {
    "duration": 13,
    "start_time": "2021-11-16T13:55:11.717Z"
   },
   {
    "duration": 15,
    "start_time": "2021-11-16T13:55:41.333Z"
   },
   {
    "duration": 19,
    "start_time": "2021-11-16T13:55:53.708Z"
   },
   {
    "duration": 15,
    "start_time": "2021-11-16T14:00:28.374Z"
   },
   {
    "duration": 14,
    "start_time": "2021-11-16T14:00:50.276Z"
   },
   {
    "duration": 816,
    "start_time": "2021-11-16T14:10:19.637Z"
   },
   {
    "duration": 32,
    "start_time": "2021-11-16T14:10:56.614Z"
   },
   {
    "duration": 21,
    "start_time": "2021-11-16T14:15:38.734Z"
   },
   {
    "duration": 29,
    "start_time": "2021-11-16T14:19:47.368Z"
   },
   {
    "duration": 41,
    "start_time": "2021-11-16T14:20:33.343Z"
   },
   {
    "duration": 397,
    "start_time": "2021-11-16T14:21:32.369Z"
   },
   {
    "duration": 418,
    "start_time": "2021-11-16T14:21:37.277Z"
   },
   {
    "duration": 32,
    "start_time": "2021-11-16T14:21:43.073Z"
   },
   {
    "duration": 20,
    "start_time": "2021-11-16T14:22:00.446Z"
   },
   {
    "duration": 50,
    "start_time": "2021-11-16T14:22:18.415Z"
   },
   {
    "duration": 38,
    "start_time": "2021-11-16T14:22:26.794Z"
   },
   {
    "duration": 27,
    "start_time": "2021-11-16T14:24:02.353Z"
   },
   {
    "duration": 30,
    "start_time": "2021-11-16T14:24:09.971Z"
   },
   {
    "duration": 29,
    "start_time": "2021-11-16T14:24:20.888Z"
   },
   {
    "duration": 29,
    "start_time": "2021-11-16T14:25:05.568Z"
   },
   {
    "duration": 32,
    "start_time": "2021-11-16T14:25:12.854Z"
   },
   {
    "duration": 38,
    "start_time": "2021-11-16T14:25:20.878Z"
   },
   {
    "duration": 40,
    "start_time": "2021-11-16T14:25:29.252Z"
   },
   {
    "duration": 34,
    "start_time": "2021-11-16T14:25:36.095Z"
   },
   {
    "duration": 29,
    "start_time": "2021-11-16T14:25:42.019Z"
   },
   {
    "duration": 23,
    "start_time": "2021-11-16T14:25:54.729Z"
   },
   {
    "duration": 21,
    "start_time": "2021-11-16T14:26:37.069Z"
   },
   {
    "duration": 29,
    "start_time": "2021-11-16T14:26:47.199Z"
   },
   {
    "duration": 37,
    "start_time": "2021-11-16T14:27:12.394Z"
   },
   {
    "duration": 45,
    "start_time": "2021-11-16T14:27:27.991Z"
   },
   {
    "duration": 384,
    "start_time": "2021-11-16T14:28:50.387Z"
   },
   {
    "duration": 1057,
    "start_time": "2021-11-16T14:28:58.336Z"
   },
   {
    "duration": 516,
    "start_time": "2021-11-16T14:29:23.221Z"
   },
   {
    "duration": 29,
    "start_time": "2021-11-16T14:30:01.743Z"
   },
   {
    "duration": 417,
    "start_time": "2021-11-16T14:30:18.553Z"
   },
   {
    "duration": 38,
    "start_time": "2021-11-16T14:30:26.185Z"
   },
   {
    "duration": 29,
    "start_time": "2021-11-16T14:30:34.168Z"
   },
   {
    "duration": 1399,
    "start_time": "2021-11-16T14:31:35.184Z"
   },
   {
    "duration": 46,
    "start_time": "2021-11-16T14:31:50.739Z"
   },
   {
    "duration": 29,
    "start_time": "2021-11-16T14:32:22.578Z"
   },
   {
    "duration": 28,
    "start_time": "2021-11-16T14:33:32.210Z"
   },
   {
    "duration": 33,
    "start_time": "2021-11-16T14:35:54.072Z"
   },
   {
    "duration": 37,
    "start_time": "2021-11-16T14:36:23.801Z"
   },
   {
    "duration": 34,
    "start_time": "2021-11-16T14:36:41.167Z"
   },
   {
    "duration": 29,
    "start_time": "2021-11-16T14:36:50.485Z"
   },
   {
    "duration": 34,
    "start_time": "2021-11-16T14:36:59.080Z"
   },
   {
    "duration": 394,
    "start_time": "2021-11-16T14:37:17.332Z"
   },
   {
    "duration": 27,
    "start_time": "2021-11-16T14:37:42.900Z"
   },
   {
    "duration": 426,
    "start_time": "2021-11-16T14:39:09.776Z"
   },
   {
    "duration": 405,
    "start_time": "2021-11-16T14:39:21.700Z"
   },
   {
    "duration": 450,
    "start_time": "2021-11-16T14:39:32.043Z"
   },
   {
    "duration": 27,
    "start_time": "2021-11-16T14:39:45.017Z"
   },
   {
    "duration": 119,
    "start_time": "2021-11-16T14:40:43.237Z"
   },
   {
    "duration": 40,
    "start_time": "2021-11-16T14:40:59.027Z"
   },
   {
    "duration": 26,
    "start_time": "2021-11-16T14:41:53.044Z"
   },
   {
    "duration": 18,
    "start_time": "2021-11-16T14:41:58.814Z"
   },
   {
    "duration": 31,
    "start_time": "2021-11-16T14:42:02.716Z"
   },
   {
    "duration": 47,
    "start_time": "2021-11-16T14:42:44.260Z"
   },
   {
    "duration": 432,
    "start_time": "2021-11-16T14:43:07.477Z"
   },
   {
    "duration": 480,
    "start_time": "2021-11-16T14:43:23.144Z"
   },
   {
    "duration": 20,
    "start_time": "2021-11-16T14:44:44.875Z"
   },
   {
    "duration": 12,
    "start_time": "2021-11-16T14:45:07.989Z"
   },
   {
    "duration": 37,
    "start_time": "2021-11-16T14:45:17.221Z"
   },
   {
    "duration": 29,
    "start_time": "2021-11-16T14:45:29.221Z"
   },
   {
    "duration": 26,
    "start_time": "2021-11-16T14:45:38.931Z"
   },
   {
    "duration": 32,
    "start_time": "2021-11-16T14:45:43.237Z"
   },
   {
    "duration": 1879,
    "start_time": "2021-11-16T14:56:52.079Z"
   },
   {
    "duration": 31,
    "start_time": "2021-11-16T14:56:53.969Z"
   },
   {
    "duration": 10,
    "start_time": "2021-11-16T14:56:54.004Z"
   },
   {
    "duration": 18,
    "start_time": "2021-11-16T14:56:54.017Z"
   },
   {
    "duration": 27,
    "start_time": "2021-11-16T14:56:54.038Z"
   },
   {
    "duration": 39,
    "start_time": "2021-11-16T14:56:54.069Z"
   },
   {
    "duration": 10,
    "start_time": "2021-11-16T14:56:54.112Z"
   },
   {
    "duration": 12,
    "start_time": "2021-11-16T14:56:54.128Z"
   },
   {
    "duration": 31,
    "start_time": "2021-11-16T14:56:54.144Z"
   },
   {
    "duration": 40,
    "start_time": "2021-11-16T14:56:54.178Z"
   },
   {
    "duration": 18,
    "start_time": "2021-11-16T14:56:54.221Z"
   },
   {
    "duration": 14,
    "start_time": "2021-11-16T14:56:54.243Z"
   },
   {
    "duration": 33,
    "start_time": "2021-11-16T14:56:54.270Z"
   },
   {
    "duration": 17,
    "start_time": "2021-11-16T14:56:54.307Z"
   },
   {
    "duration": 22,
    "start_time": "2021-11-16T14:56:54.327Z"
   },
   {
    "duration": 41,
    "start_time": "2021-11-16T14:56:54.352Z"
   },
   {
    "duration": 17,
    "start_time": "2021-11-16T14:56:54.395Z"
   },
   {
    "duration": 14,
    "start_time": "2021-11-16T14:56:54.415Z"
   },
   {
    "duration": 39,
    "start_time": "2021-11-16T14:56:54.432Z"
   },
   {
    "duration": 37,
    "start_time": "2021-11-16T14:56:54.474Z"
   },
   {
    "duration": 972,
    "start_time": "2021-11-16T14:56:54.514Z"
   },
   {
    "duration": 12,
    "start_time": "2021-11-16T14:56:55.490Z"
   },
   {
    "duration": 602,
    "start_time": "2021-11-16T14:56:55.511Z"
   },
   {
    "duration": 385,
    "start_time": "2021-11-16T14:56:56.118Z"
   },
   {
    "duration": 28,
    "start_time": "2021-11-16T14:56:56.505Z"
   },
   {
    "duration": 50,
    "start_time": "2021-11-16T14:56:56.536Z"
   },
   {
    "duration": 42,
    "start_time": "2021-11-16T14:56:56.589Z"
   },
   {
    "duration": 644,
    "start_time": "2021-11-16T14:56:56.634Z"
   },
   {
    "duration": 640,
    "start_time": "2021-11-16T14:56:57.281Z"
   },
   {
    "duration": 20,
    "start_time": "2021-11-16T14:56:57.926Z"
   },
   {
    "duration": 785,
    "start_time": "2021-11-16T14:56:57.949Z"
   },
   {
    "duration": 28,
    "start_time": "2021-11-16T14:56:58.738Z"
   },
   {
    "duration": 681,
    "start_time": "2021-11-16T14:56:58.769Z"
   },
   {
    "duration": 35,
    "start_time": "2021-11-16T14:56:59.455Z"
   },
   {
    "duration": 800,
    "start_time": "2021-11-16T14:56:59.493Z"
   },
   {
    "duration": 17,
    "start_time": "2021-11-16T14:57:00.299Z"
   },
   {
    "duration": 8,
    "start_time": "2021-11-16T14:57:00.319Z"
   },
   {
    "duration": 745,
    "start_time": "2021-11-16T14:57:00.330Z"
   },
   {
    "duration": 19,
    "start_time": "2021-11-16T14:57:01.079Z"
   },
   {
    "duration": 16,
    "start_time": "2021-11-16T14:57:01.105Z"
   },
   {
    "duration": 843,
    "start_time": "2021-11-16T14:57:01.129Z"
   },
   {
    "duration": 16,
    "start_time": "2021-11-16T14:57:01.975Z"
   },
   {
    "duration": 18,
    "start_time": "2021-11-16T14:57:01.994Z"
   },
   {
    "duration": 233,
    "start_time": "2021-11-16T14:57:02.016Z"
   },
   {
    "duration": 199,
    "start_time": "2021-11-16T14:57:02.252Z"
   },
   {
    "duration": 174,
    "start_time": "2021-11-16T14:57:02.455Z"
   },
   {
    "duration": 113,
    "start_time": "2021-11-16T14:57:02.632Z"
   },
   {
    "duration": 101,
    "start_time": "2021-11-16T14:57:02.764Z"
   },
   {
    "duration": 15,
    "start_time": "2021-11-16T14:57:02.868Z"
   },
   {
    "duration": 39,
    "start_time": "2021-11-16T14:57:02.886Z"
   },
   {
    "duration": 35,
    "start_time": "2021-11-16T14:57:02.928Z"
   },
   {
    "duration": 67,
    "start_time": "2021-11-16T14:57:02.968Z"
   },
   {
    "duration": 69,
    "start_time": "2021-11-16T14:57:03.038Z"
   },
   {
    "duration": 20,
    "start_time": "2021-11-16T14:57:03.110Z"
   },
   {
    "duration": 19,
    "start_time": "2021-11-16T14:57:03.133Z"
   },
   {
    "duration": 82,
    "start_time": "2021-11-16T14:57:03.155Z"
   },
   {
    "duration": 66,
    "start_time": "2021-11-16T14:57:03.240Z"
   },
   {
    "duration": 23,
    "start_time": "2021-11-16T14:57:03.309Z"
   },
   {
    "duration": 34,
    "start_time": "2021-11-16T14:57:03.335Z"
   },
   {
    "duration": 62,
    "start_time": "2021-11-16T14:57:03.372Z"
   },
   {
    "duration": 31,
    "start_time": "2021-11-16T14:57:03.437Z"
   },
   {
    "duration": 45,
    "start_time": "2021-11-16T14:57:03.471Z"
   },
   {
    "duration": 15,
    "start_time": "2021-11-16T14:57:03.519Z"
   },
   {
    "duration": 54,
    "start_time": "2021-11-16T14:57:03.537Z"
   },
   {
    "duration": 39,
    "start_time": "2021-11-16T14:57:03.594Z"
   },
   {
    "duration": 8,
    "start_time": "2021-11-16T15:10:03.363Z"
   },
   {
    "duration": 6,
    "start_time": "2021-11-16T15:10:05.101Z"
   },
   {
    "duration": 9,
    "start_time": "2021-11-16T15:10:06.975Z"
   },
   {
    "duration": 9,
    "start_time": "2021-11-16T15:10:16.910Z"
   },
   {
    "duration": 8,
    "start_time": "2021-11-16T15:10:32.003Z"
   },
   {
    "duration": 10,
    "start_time": "2021-11-16T15:10:33.270Z"
   },
   {
    "duration": 11,
    "start_time": "2021-11-16T15:10:34.328Z"
   },
   {
    "duration": 7,
    "start_time": "2021-11-16T15:10:36.996Z"
   },
   {
    "duration": 13,
    "start_time": "2021-11-16T15:12:15.084Z"
   },
   {
    "duration": 18,
    "start_time": "2021-11-16T15:12:55.884Z"
   },
   {
    "duration": 6,
    "start_time": "2021-11-16T15:14:39.959Z"
   },
   {
    "duration": 9,
    "start_time": "2021-11-16T15:14:43.097Z"
   },
   {
    "duration": 12,
    "start_time": "2021-11-16T15:15:11.053Z"
   },
   {
    "duration": 5,
    "start_time": "2021-11-16T15:15:42.993Z"
   },
   {
    "duration": 11,
    "start_time": "2021-11-16T15:15:46.673Z"
   },
   {
    "duration": 14,
    "start_time": "2021-11-16T15:16:11.570Z"
   },
   {
    "duration": 11,
    "start_time": "2021-11-16T15:16:19.776Z"
   },
   {
    "duration": 15,
    "start_time": "2021-11-16T15:16:30.435Z"
   },
   {
    "duration": 1588,
    "start_time": "2021-11-16T15:16:44.604Z"
   },
   {
    "duration": 16,
    "start_time": "2021-11-16T15:16:46.195Z"
   },
   {
    "duration": 13,
    "start_time": "2021-11-16T15:16:46.215Z"
   },
   {
    "duration": 50,
    "start_time": "2021-11-16T15:16:46.231Z"
   },
   {
    "duration": 32,
    "start_time": "2021-11-16T15:16:46.287Z"
   },
   {
    "duration": 33,
    "start_time": "2021-11-16T15:16:46.322Z"
   },
   {
    "duration": 45,
    "start_time": "2021-11-16T15:16:46.357Z"
   },
   {
    "duration": 28,
    "start_time": "2021-11-16T15:16:46.407Z"
   },
   {
    "duration": 36,
    "start_time": "2021-11-16T15:16:46.439Z"
   },
   {
    "duration": 31,
    "start_time": "2021-11-16T15:16:46.479Z"
   },
   {
    "duration": 43,
    "start_time": "2021-11-16T15:16:46.513Z"
   },
   {
    "duration": 40,
    "start_time": "2021-11-16T15:16:46.558Z"
   },
   {
    "duration": 27,
    "start_time": "2021-11-16T15:16:46.601Z"
   },
   {
    "duration": 40,
    "start_time": "2021-11-16T15:16:46.632Z"
   },
   {
    "duration": 53,
    "start_time": "2021-11-16T15:16:46.674Z"
   },
   {
    "duration": 34,
    "start_time": "2021-11-16T15:16:46.730Z"
   },
   {
    "duration": 34,
    "start_time": "2021-11-16T15:16:46.768Z"
   },
   {
    "duration": 12,
    "start_time": "2021-11-16T15:16:46.805Z"
   },
   {
    "duration": 47,
    "start_time": "2021-11-16T15:16:46.819Z"
   },
   {
    "duration": 35,
    "start_time": "2021-11-16T15:16:46.869Z"
   },
   {
    "duration": 835,
    "start_time": "2021-11-16T15:16:46.907Z"
   },
   {
    "duration": 16,
    "start_time": "2021-11-16T15:16:47.744Z"
   },
   {
    "duration": 363,
    "start_time": "2021-11-16T15:16:47.770Z"
   },
   {
    "duration": 291,
    "start_time": "2021-11-16T15:16:48.136Z"
   },
   {
    "duration": 55,
    "start_time": "2021-11-16T15:16:48.430Z"
   },
   {
    "duration": 43,
    "start_time": "2021-11-16T15:16:48.488Z"
   },
   {
    "duration": 49,
    "start_time": "2021-11-16T15:16:48.533Z"
   },
   {
    "duration": 543,
    "start_time": "2021-11-16T15:16:48.584Z"
   },
   {
    "duration": 509,
    "start_time": "2021-11-16T15:16:49.130Z"
   },
   {
    "duration": 40,
    "start_time": "2021-11-16T15:16:49.641Z"
   },
   {
    "duration": 643,
    "start_time": "2021-11-16T15:16:49.684Z"
   },
   {
    "duration": 9,
    "start_time": "2021-11-16T15:16:50.330Z"
   },
   {
    "duration": 651,
    "start_time": "2021-11-16T15:16:50.341Z"
   },
   {
    "duration": 30,
    "start_time": "2021-11-16T15:16:50.996Z"
   },
   {
    "duration": 615,
    "start_time": "2021-11-16T15:16:51.030Z"
   },
   {
    "duration": 26,
    "start_time": "2021-11-16T15:16:51.648Z"
   },
   {
    "duration": 13,
    "start_time": "2021-11-16T15:16:51.677Z"
   },
   {
    "duration": 569,
    "start_time": "2021-11-16T15:16:51.692Z"
   },
   {
    "duration": 7,
    "start_time": "2021-11-16T15:16:52.263Z"
   },
   {
    "duration": 13,
    "start_time": "2021-11-16T15:16:52.273Z"
   },
   {
    "duration": 631,
    "start_time": "2021-11-16T15:16:52.289Z"
   },
   {
    "duration": 14,
    "start_time": "2021-11-16T15:16:52.923Z"
   },
   {
    "duration": 33,
    "start_time": "2021-11-16T15:16:52.940Z"
   },
   {
    "duration": 185,
    "start_time": "2021-11-16T15:16:52.976Z"
   },
   {
    "duration": 141,
    "start_time": "2021-11-16T15:16:53.166Z"
   },
   {
    "duration": 114,
    "start_time": "2021-11-16T15:16:53.309Z"
   },
   {
    "duration": 133,
    "start_time": "2021-11-16T15:16:53.427Z"
   },
   {
    "duration": 58,
    "start_time": "2021-11-16T15:16:53.563Z"
   },
   {
    "duration": 38,
    "start_time": "2021-11-16T15:16:53.624Z"
   },
   {
    "duration": 14,
    "start_time": "2021-11-16T15:16:53.667Z"
   },
   {
    "duration": 13,
    "start_time": "2021-11-16T15:16:53.684Z"
   },
   {
    "duration": 7,
    "start_time": "2021-11-16T15:16:53.700Z"
   },
   {
    "duration": 13,
    "start_time": "2021-11-16T15:16:53.710Z"
   },
   {
    "duration": 36,
    "start_time": "2021-11-16T15:16:53.726Z"
   },
   {
    "duration": 35,
    "start_time": "2021-11-16T15:16:53.766Z"
   },
   {
    "duration": 12,
    "start_time": "2021-11-16T15:16:53.805Z"
   },
   {
    "duration": 11,
    "start_time": "2021-11-16T15:16:53.820Z"
   },
   {
    "duration": 34,
    "start_time": "2021-11-16T15:16:53.834Z"
   },
   {
    "duration": 22,
    "start_time": "2021-11-16T15:16:53.871Z"
   },
   {
    "duration": 10,
    "start_time": "2021-11-16T15:16:53.896Z"
   },
   {
    "duration": 12,
    "start_time": "2021-11-16T15:16:53.909Z"
   },
   {
    "duration": 14,
    "start_time": "2021-11-16T15:16:53.924Z"
   },
   {
    "duration": 25,
    "start_time": "2021-11-16T15:16:53.941Z"
   },
   {
    "duration": 28,
    "start_time": "2021-11-16T15:16:53.969Z"
   },
   {
    "duration": 16,
    "start_time": "2021-11-16T15:16:54.000Z"
   },
   {
    "duration": 14,
    "start_time": "2021-11-16T15:32:58.841Z"
   },
   {
    "duration": 2096,
    "start_time": "2021-11-16T15:34:13.136Z"
   },
   {
    "duration": 24,
    "start_time": "2021-11-16T15:34:15.236Z"
   },
   {
    "duration": 7,
    "start_time": "2021-11-16T15:34:15.263Z"
   },
   {
    "duration": 12,
    "start_time": "2021-11-16T15:34:15.272Z"
   },
   {
    "duration": 12,
    "start_time": "2021-11-16T15:34:15.287Z"
   },
   {
    "duration": 13,
    "start_time": "2021-11-16T15:34:15.302Z"
   },
   {
    "duration": 11,
    "start_time": "2021-11-16T15:34:15.317Z"
   },
   {
    "duration": 11,
    "start_time": "2021-11-16T15:34:15.361Z"
   },
   {
    "duration": 14,
    "start_time": "2021-11-16T15:34:15.375Z"
   },
   {
    "duration": 48,
    "start_time": "2021-11-16T15:34:15.392Z"
   },
   {
    "duration": 13,
    "start_time": "2021-11-16T15:34:15.442Z"
   },
   {
    "duration": 8,
    "start_time": "2021-11-16T15:34:15.458Z"
   },
   {
    "duration": 20,
    "start_time": "2021-11-16T15:34:15.469Z"
   },
   {
    "duration": 18,
    "start_time": "2021-11-16T15:34:15.492Z"
   },
   {
    "duration": 57,
    "start_time": "2021-11-16T15:34:15.513Z"
   },
   {
    "duration": 15,
    "start_time": "2021-11-16T15:34:15.572Z"
   },
   {
    "duration": 45,
    "start_time": "2021-11-16T15:34:15.591Z"
   },
   {
    "duration": 9,
    "start_time": "2021-11-16T15:34:15.640Z"
   },
   {
    "duration": 27,
    "start_time": "2021-11-16T15:34:15.652Z"
   },
   {
    "duration": 27,
    "start_time": "2021-11-16T15:34:15.682Z"
   },
   {
    "duration": 984,
    "start_time": "2021-11-16T15:34:15.711Z"
   },
   {
    "duration": 10,
    "start_time": "2021-11-16T15:34:16.699Z"
   },
   {
    "duration": 356,
    "start_time": "2021-11-16T15:34:16.717Z"
   },
   {
    "duration": 286,
    "start_time": "2021-11-16T15:34:17.078Z"
   },
   {
    "duration": 20,
    "start_time": "2021-11-16T15:34:17.366Z"
   },
   {
    "duration": 19,
    "start_time": "2021-11-16T15:34:17.388Z"
   },
   {
    "duration": 21,
    "start_time": "2021-11-16T15:34:17.410Z"
   },
   {
    "duration": 522,
    "start_time": "2021-11-16T15:34:17.459Z"
   },
   {
    "duration": 505,
    "start_time": "2021-11-16T15:34:17.984Z"
   },
   {
    "duration": 19,
    "start_time": "2021-11-16T15:34:18.493Z"
   },
   {
    "duration": 637,
    "start_time": "2021-11-16T15:34:18.515Z"
   },
   {
    "duration": 8,
    "start_time": "2021-11-16T15:34:19.159Z"
   },
   {
    "duration": 502,
    "start_time": "2021-11-16T15:34:19.170Z"
   },
   {
    "duration": 20,
    "start_time": "2021-11-16T15:34:19.675Z"
   },
   {
    "duration": 533,
    "start_time": "2021-11-16T15:34:19.697Z"
   },
   {
    "duration": 11,
    "start_time": "2021-11-16T15:34:20.232Z"
   },
   {
    "duration": 4,
    "start_time": "2021-11-16T15:34:20.259Z"
   },
   {
    "duration": 534,
    "start_time": "2021-11-16T15:34:20.266Z"
   },
   {
    "duration": 6,
    "start_time": "2021-11-16T15:34:20.802Z"
   },
   {
    "duration": 7,
    "start_time": "2021-11-16T15:34:20.810Z"
   },
   {
    "duration": 618,
    "start_time": "2021-11-16T15:34:20.820Z"
   },
   {
    "duration": 18,
    "start_time": "2021-11-16T15:34:21.441Z"
   },
   {
    "duration": 9,
    "start_time": "2021-11-16T15:34:21.462Z"
   },
   {
    "duration": 144,
    "start_time": "2021-11-16T15:34:21.474Z"
   },
   {
    "duration": 131,
    "start_time": "2021-11-16T15:34:21.621Z"
   },
   {
    "duration": 121,
    "start_time": "2021-11-16T15:34:21.755Z"
   },
   {
    "duration": 126,
    "start_time": "2021-11-16T15:34:21.880Z"
   },
   {
    "duration": 73,
    "start_time": "2021-11-16T15:34:22.008Z"
   },
   {
    "duration": 11,
    "start_time": "2021-11-16T15:34:22.084Z"
   },
   {
    "duration": 22,
    "start_time": "2021-11-16T15:34:22.098Z"
   },
   {
    "duration": 6,
    "start_time": "2021-11-16T15:34:22.122Z"
   },
   {
    "duration": 31,
    "start_time": "2021-11-16T15:34:22.130Z"
   },
   {
    "duration": 10,
    "start_time": "2021-11-16T15:34:22.163Z"
   },
   {
    "duration": 7,
    "start_time": "2021-11-16T15:34:22.177Z"
   },
   {
    "duration": 13,
    "start_time": "2021-11-16T15:34:22.187Z"
   },
   {
    "duration": 15,
    "start_time": "2021-11-16T15:34:22.203Z"
   },
   {
    "duration": 11,
    "start_time": "2021-11-16T15:34:22.261Z"
   },
   {
    "duration": 9,
    "start_time": "2021-11-16T15:34:22.275Z"
   },
   {
    "duration": 11,
    "start_time": "2021-11-16T15:34:22.287Z"
   },
   {
    "duration": 16,
    "start_time": "2021-11-16T15:34:22.300Z"
   },
   {
    "duration": 43,
    "start_time": "2021-11-16T15:34:22.318Z"
   },
   {
    "duration": 13,
    "start_time": "2021-11-16T15:34:22.364Z"
   },
   {
    "duration": 7,
    "start_time": "2021-11-16T15:34:22.381Z"
   },
   {
    "duration": 19,
    "start_time": "2021-11-16T15:34:22.392Z"
   },
   {
    "duration": 51,
    "start_time": "2021-11-16T15:34:22.413Z"
   },
   {
    "duration": 1034,
    "start_time": "2021-11-16T16:41:24.628Z"
   },
   {
    "duration": 10,
    "start_time": "2021-11-16T16:41:25.665Z"
   },
   {
    "duration": 4,
    "start_time": "2021-11-16T16:41:25.677Z"
   },
   {
    "duration": 9,
    "start_time": "2021-11-16T16:41:25.683Z"
   },
   {
    "duration": 10,
    "start_time": "2021-11-16T16:41:25.693Z"
   },
   {
    "duration": 7,
    "start_time": "2021-11-16T16:41:25.705Z"
   },
   {
    "duration": 8,
    "start_time": "2021-11-16T16:41:25.714Z"
   },
   {
    "duration": 8,
    "start_time": "2021-11-16T16:41:25.724Z"
   },
   {
    "duration": 6,
    "start_time": "2021-11-16T16:41:25.734Z"
   },
   {
    "duration": 6,
    "start_time": "2021-11-16T16:41:25.742Z"
   },
   {
    "duration": 8,
    "start_time": "2021-11-16T16:41:25.749Z"
   },
   {
    "duration": 4,
    "start_time": "2021-11-16T16:41:25.759Z"
   },
   {
    "duration": 35,
    "start_time": "2021-11-16T16:41:25.764Z"
   },
   {
    "duration": 6,
    "start_time": "2021-11-16T16:41:25.800Z"
   },
   {
    "duration": 16,
    "start_time": "2021-11-16T16:41:25.807Z"
   },
   {
    "duration": 9,
    "start_time": "2021-11-16T16:41:25.824Z"
   },
   {
    "duration": 7,
    "start_time": "2021-11-16T16:41:25.835Z"
   },
   {
    "duration": 3,
    "start_time": "2021-11-16T16:41:25.843Z"
   },
   {
    "duration": 13,
    "start_time": "2021-11-16T16:41:25.847Z"
   },
   {
    "duration": 39,
    "start_time": "2021-11-16T16:41:25.861Z"
   },
   {
    "duration": 1213,
    "start_time": "2021-11-16T16:41:25.902Z"
   },
   {
    "duration": 6,
    "start_time": "2021-11-16T16:41:27.117Z"
   },
   {
    "duration": 195,
    "start_time": "2021-11-16T16:41:27.127Z"
   },
   {
    "duration": 162,
    "start_time": "2021-11-16T16:41:27.324Z"
   },
   {
    "duration": 12,
    "start_time": "2021-11-16T16:41:27.487Z"
   },
   {
    "duration": 14,
    "start_time": "2021-11-16T16:41:27.500Z"
   },
   {
    "duration": 10,
    "start_time": "2021-11-16T16:41:27.515Z"
   },
   {
    "duration": 316,
    "start_time": "2021-11-16T16:41:27.526Z"
   },
   {
    "duration": 301,
    "start_time": "2021-11-16T16:41:27.843Z"
   },
   {
    "duration": 11,
    "start_time": "2021-11-16T16:41:28.146Z"
   },
   {
    "duration": 463,
    "start_time": "2021-11-16T16:41:28.158Z"
   },
   {
    "duration": 5,
    "start_time": "2021-11-16T16:41:28.623Z"
   },
   {
    "duration": 289,
    "start_time": "2021-11-16T16:41:28.630Z"
   },
   {
    "duration": 13,
    "start_time": "2021-11-16T16:41:28.920Z"
   },
   {
    "duration": 358,
    "start_time": "2021-11-16T16:41:28.935Z"
   },
   {
    "duration": 6,
    "start_time": "2021-11-16T16:41:29.295Z"
   },
   {
    "duration": 18,
    "start_time": "2021-11-16T16:41:29.302Z"
   },
   {
    "duration": 358,
    "start_time": "2021-11-16T16:41:29.321Z"
   },
   {
    "duration": 11,
    "start_time": "2021-11-16T16:41:29.681Z"
   },
   {
    "duration": 9,
    "start_time": "2021-11-16T16:41:29.694Z"
   },
   {
    "duration": 489,
    "start_time": "2021-11-16T16:41:29.705Z"
   },
   {
    "duration": 8,
    "start_time": "2021-11-16T16:41:30.195Z"
   },
   {
    "duration": 15,
    "start_time": "2021-11-16T16:41:30.204Z"
   },
   {
    "duration": 82,
    "start_time": "2021-11-16T16:41:30.220Z"
   },
   {
    "duration": 67,
    "start_time": "2021-11-16T16:41:30.303Z"
   },
   {
    "duration": 69,
    "start_time": "2021-11-16T16:41:30.372Z"
   },
   {
    "duration": 71,
    "start_time": "2021-11-16T16:41:30.443Z"
   },
   {
    "duration": 28,
    "start_time": "2021-11-16T16:41:30.516Z"
   },
   {
    "duration": 6,
    "start_time": "2021-11-16T16:41:30.546Z"
   },
   {
    "duration": 21,
    "start_time": "2021-11-16T16:41:30.553Z"
   },
   {
    "duration": 16,
    "start_time": "2021-11-16T16:41:30.575Z"
   },
   {
    "duration": 9,
    "start_time": "2021-11-16T16:41:30.592Z"
   },
   {
    "duration": 20,
    "start_time": "2021-11-16T16:41:30.603Z"
   },
   {
    "duration": 17,
    "start_time": "2021-11-16T16:41:30.624Z"
   },
   {
    "duration": 20,
    "start_time": "2021-11-16T16:41:30.642Z"
   },
   {
    "duration": 15,
    "start_time": "2021-11-16T16:41:30.664Z"
   },
   {
    "duration": 18,
    "start_time": "2021-11-16T16:41:30.680Z"
   },
   {
    "duration": 26,
    "start_time": "2021-11-16T16:41:30.700Z"
   },
   {
    "duration": 22,
    "start_time": "2021-11-16T16:41:30.728Z"
   },
   {
    "duration": 11,
    "start_time": "2021-11-16T16:41:30.751Z"
   },
   {
    "duration": 15,
    "start_time": "2021-11-16T16:41:30.763Z"
   },
   {
    "duration": 12,
    "start_time": "2021-11-16T16:41:30.779Z"
   },
   {
    "duration": 19,
    "start_time": "2021-11-16T16:41:30.793Z"
   },
   {
    "duration": 30,
    "start_time": "2021-11-16T16:41:30.813Z"
   },
   {
    "duration": 20,
    "start_time": "2021-11-16T16:41:30.844Z"
   }
  ],
  "kernelspec": {
   "display_name": "Python 3",
   "language": "python",
   "name": "python3"
  },
  "language_info": {
   "codemirror_mode": {
    "name": "ipython",
    "version": 3
   },
   "file_extension": ".py",
   "mimetype": "text/x-python",
   "name": "python",
   "nbconvert_exporter": "python",
   "pygments_lexer": "ipython3",
   "version": "3.8.8"
  },
  "toc": {
   "base_numbering": 1,
   "nav_menu": {},
   "number_sections": true,
   "sideBar": true,
   "skip_h1_title": true,
   "title_cell": "Table of Contents",
   "title_sidebar": "Contents",
   "toc_cell": true,
   "toc_position": {},
   "toc_section_display": true,
   "toc_window_display": true
  }
 },
 "nbformat": 4,
 "nbformat_minor": 5
}
